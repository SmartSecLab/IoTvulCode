{
 "cells": [
  {
   "cell_type": "markdown",
   "metadata": {},
   "source": [
    "## Queries on CVE records for the extraction of IoT related referenced repositories:"
   ]
  },
  {
   "cell_type": "code",
   "execution_count": 1,
   "metadata": {},
   "outputs": [
    {
     "name": "stderr",
     "output_type": "stream",
     "text": [
      "/var/folders/p_/9ryggq9s67zbhxhzlms6wmzw0000gn/T/ipykernel_98427/3011992783.py:10: DtypeWarning: Columns (7,8,9,10) have mixed types. Specify dtype option on import or set low_memory=False.\n",
      "  df = pd.read_csv('data/cve-records.csv')\n"
     ]
    }
   ],
   "source": [
    "import collections\n",
    "import pandas as pd\n",
    "from matplotlib import pyplot as plt\n",
    "import json \n",
    "import ast\n",
    "import re\n",
    "import os\n",
    "import requests\n",
    "\n",
    "df = pd.read_csv('data/cve-records.csv')\n",
    "des_str = df['description'][0]"
   ]
  },
  {
   "attachments": {},
   "cell_type": "markdown",
   "metadata": {},
   "source": [
    "### Search Query: \n",
    "\"Internet of Things\" OR \"IoT\" OR \"Industry 4.0\" OR \"smart cities\" OR \"smart city\"OR \"smart contract\" OR \"manufacturing\" OR \"energy\" OR \"supply chain\" "
   ]
  },
  {
   "cell_type": "code",
   "execution_count": null,
   "metadata": {},
   "outputs": [
    {
     "name": "stdout",
     "output_type": "stream",
     "text": [
      "count_cves: 2175\n"
     ]
    }
   ],
   "source": [
    "def get_description(des_str):\n",
    "    if des_str!=None or des_str!='':\n",
    "        des_arr_dict = ast.literal_eval(des_str)\n",
    "        des_cve = \"\"    #description of a CVE-> 'value' from array of dict.\n",
    "\n",
    "        for dic in des_arr_dict:\n",
    "            des_cve = des_cve + dic['value']\n",
    "        return des_cve\n",
    "        \n",
    "    else:\n",
    "        print('Empty description for CVE: ')\n",
    "        return 0\n",
    "\n",
    "def get_iot_cves(df)\n",
    "    iot_set = [\"Internet of Things\", \"IoT\", \"Industry 4.0\", \n",
    "                \"smart cities\", \"smart city\", \"smart contract\", \n",
    "                \"manufacturing\", \"energy\", \"supply chain\", \"orange pi\", \"banana pi\", \"arduino\"]\n",
    "    iot_cves = []\n",
    "\n",
    "    for row in range(len(df)):\n",
    "        des_cve = get_description(df['description'][row])\n",
    "        \n",
    "        # print if they are IoT related descriptions\n",
    "        for x in iot_set:\n",
    "            if x.lower() in des_cve.lower():\n",
    "                # print(des_cve)\n",
    "                # print(df['cve_id'][row])\n",
    "                iot_cves.append(df['cve_id'][row])\n",
    "                # print(df['reference_json'][row])\n",
    "                # print('\\n')\n",
    "    return iot_cves\n",
    "        \n",
    "print('count_cves:', len(iot_cves))"
   ]
  },
  {
   "cell_type": "code",
   "execution_count": null,
   "metadata": {},
   "outputs": [
    {
     "data": {
      "text/plain": [
       "2167"
      ]
     },
     "execution_count": 113,
     "metadata": {},
     "output_type": "execute_result"
    }
   ],
   "source": [
    "df_iot = df[df.cve_id.isin(iot_cves)]\n",
    "len(df_iot)"
   ]
  },
  {
   "cell_type": "code",
   "execution_count": null,
   "metadata": {},
   "outputs": [],
   "source": [
    "iot_vcs = ['github', 'bitbucket', 'gitlab']\n",
    "vcs_list = []\n",
    "\n",
    "for ref_str in df_iot.reference_json:\n",
    "    url_dict  = ast.literal_eval(ref_str)\n",
    "    \n",
    "    if len(url_dict) > 0:\n",
    "        for ref in url_dict:\n",
    "            vcs_list.append(ref['url'])     "
   ]
  },
  {
   "cell_type": "code",
   "execution_count": null,
   "metadata": {},
   "outputs": [],
   "source": [
    "url_heads = []\n",
    "\n",
    "for x in vcs_list:\n",
    "    url = re.match('http://www.*.com/', x)\n",
    "    if url!=None:\n",
    "        url_heads.append(url[0])"
   ]
  },
  {
   "attachments": {},
   "cell_type": "markdown",
   "metadata": {},
   "source": [
    "## Vulnerabilty reporting databases and number of their occurances in CVEs"
   ]
  },
  {
   "cell_type": "code",
   "execution_count": null,
   "metadata": {},
   "outputs": [
    {
     "data": {
      "text/html": [
       "<div>\n",
       "<style scoped>\n",
       "    .dataframe tbody tr th:only-of-type {\n",
       "        vertical-align: middle;\n",
       "    }\n",
       "\n",
       "    .dataframe tbody tr th {\n",
       "        vertical-align: top;\n",
       "    }\n",
       "\n",
       "    .dataframe thead th {\n",
       "        text-align: right;\n",
       "    }\n",
       "</style>\n",
       "<table border=\"1\" class=\"dataframe\">\n",
       "  <thead>\n",
       "    <tr style=\"text-align: right;\">\n",
       "      <th></th>\n",
       "      <th>urls</th>\n",
       "      <th>count</th>\n",
       "    </tr>\n",
       "  </thead>\n",
       "  <tbody>\n",
       "    <tr>\n",
       "      <th>0</th>\n",
       "      <td>http://www.securityfocus.com/</td>\n",
       "      <td>222</td>\n",
       "    </tr>\n",
       "    <tr>\n",
       "      <th>8</th>\n",
       "      <td>http://www.oracle.com/</td>\n",
       "      <td>177</td>\n",
       "    </tr>\n",
       "    <tr>\n",
       "      <th>2</th>\n",
       "      <td>http://www.securitytracker.com/</td>\n",
       "      <td>127</td>\n",
       "    </tr>\n",
       "    <tr>\n",
       "      <th>3</th>\n",
       "      <td>http://www.mandriva.com/</td>\n",
       "      <td>25</td>\n",
       "    </tr>\n",
       "    <tr>\n",
       "      <th>14</th>\n",
       "      <td>http://www.zerodayinitiative.com/</td>\n",
       "      <td>24</td>\n",
       "    </tr>\n",
       "    <tr>\n",
       "      <th>5</th>\n",
       "      <td>http://www.ubuntu.com/</td>\n",
       "      <td>14</td>\n",
       "    </tr>\n",
       "    <tr>\n",
       "      <th>1</th>\n",
       "      <td>http://www.vupen.com/</td>\n",
       "      <td>11</td>\n",
       "    </tr>\n",
       "    <tr>\n",
       "      <th>12</th>\n",
       "      <td>http://www.openwall.com/</td>\n",
       "      <td>6</td>\n",
       "    </tr>\n",
       "    <tr>\n",
       "      <th>6</th>\n",
       "      <td>http://www.exploit-db.com/</td>\n",
       "      <td>5</td>\n",
       "    </tr>\n",
       "    <tr>\n",
       "      <th>16</th>\n",
       "      <td>http://www.ibm.com/</td>\n",
       "      <td>4</td>\n",
       "    </tr>\n",
       "    <tr>\n",
       "      <th>18</th>\n",
       "      <td>http://www.ti.com/</td>\n",
       "      <td>3</td>\n",
       "    </tr>\n",
       "    <tr>\n",
       "      <th>17</th>\n",
       "      <td>http://www.lutron.com/</td>\n",
       "      <td>3</td>\n",
       "    </tr>\n",
       "    <tr>\n",
       "      <th>10</th>\n",
       "      <td>http://www.vmware.com/</td>\n",
       "      <td>3</td>\n",
       "    </tr>\n",
       "    <tr>\n",
       "      <th>13</th>\n",
       "      <td>http://www.gedigitalenergy.com/</td>\n",
       "      <td>2</td>\n",
       "    </tr>\n",
       "    <tr>\n",
       "      <th>11</th>\n",
       "      <td>http://www-01.ibm.com/</td>\n",
       "      <td>2</td>\n",
       "    </tr>\n",
       "    <tr>\n",
       "      <th>9</th>\n",
       "      <td>http://www.accuenergy.com/</td>\n",
       "      <td>2</td>\n",
       "    </tr>\n",
       "    <tr>\n",
       "      <th>19</th>\n",
       "      <td>http://www.telink-semi.com/</td>\n",
       "      <td>2</td>\n",
       "    </tr>\n",
       "    <tr>\n",
       "      <th>15</th>\n",
       "      <td>http://www.solarwinds.com/</td>\n",
       "      <td>1</td>\n",
       "    </tr>\n",
       "    <tr>\n",
       "      <th>7</th>\n",
       "      <td>http://www.fortiguard.com/</td>\n",
       "      <td>1</td>\n",
       "    </tr>\n",
       "    <tr>\n",
       "      <th>4</th>\n",
       "      <td>http://www.redhat.com/</td>\n",
       "      <td>1</td>\n",
       "    </tr>\n",
       "  </tbody>\n",
       "</table>\n",
       "</div>"
      ],
      "text/plain": [
       "                                 urls  count\n",
       "0       http://www.securityfocus.com/    222\n",
       "8              http://www.oracle.com/    177\n",
       "2     http://www.securitytracker.com/    127\n",
       "3            http://www.mandriva.com/     25\n",
       "14  http://www.zerodayinitiative.com/     24\n",
       "5              http://www.ubuntu.com/     14\n",
       "1               http://www.vupen.com/     11\n",
       "12           http://www.openwall.com/      6\n",
       "6          http://www.exploit-db.com/      5\n",
       "16                http://www.ibm.com/      4\n",
       "18                 http://www.ti.com/      3\n",
       "17             http://www.lutron.com/      3\n",
       "10             http://www.vmware.com/      3\n",
       "13    http://www.gedigitalenergy.com/      2\n",
       "11             http://www-01.ibm.com/      2\n",
       "9          http://www.accuenergy.com/      2\n",
       "19        http://www.telink-semi.com/      2\n",
       "15         http://www.solarwinds.com/      1\n",
       "7          http://www.fortiguard.com/      1\n",
       "4              http://www.redhat.com/      1"
      ]
     },
     "execution_count": 164,
     "metadata": {},
     "output_type": "execute_result"
    }
   ],
   "source": [
    "url_freq = collections.Counter(url_heads)\n",
    "df_url = pd.DataFrame(url_freq.items(), columns=['urls', 'count'])\n",
    "df_url = df_url.sort_values(by=['count'], ascending=False)\n",
    "df_url.to_csv('result/top-databases.csv', index=False, sep=';')\n",
    "df_url"
   ]
  },
  {
   "cell_type": "code",
   "execution_count": null,
   "metadata": {},
   "outputs": [
    {
     "name": "stdout",
     "output_type": "stream",
     "text": [
      "200\n",
      "text/html\n",
      "ISO-8859-1\n",
      "https://www.ovhcloud.com/en-gb/mail/\n"
     ]
    }
   ],
   "source": [
    "x = requests.get('http://www.vupen.com/english/advisories/2006/2835')\n",
    "\n",
    "print(x.status_code)\n",
    "print(x.headers['content-type'])\n",
    "print(x.encoding)\n",
    "print(x.url)"
   ]
  },
  {
   "attachments": {},
   "cell_type": "markdown",
   "metadata": {},
   "source": [
    "## Crawl project directories for source-code files and scan them for vulnerabilities."
   ]
  },
  {
   "cell_type": "code",
   "execution_count": null,
   "metadata": {},
   "outputs": [
    {
     "data": {
      "text/plain": [
       "[PosixPath('data/projects/contiki-2.4/tools'),\n",
       " PosixPath('data/projects/contiki-2.4/.DS_Store'),\n",
       " PosixPath('data/projects/contiki-2.4/core'),\n",
       " PosixPath('data/projects/contiki-2.4/README-EXAMPLES'),\n",
       " PosixPath('data/projects/contiki-2.4/cpu'),\n",
       " PosixPath('data/projects/contiki-2.4/platform'),\n",
       " PosixPath('data/projects/contiki-2.4/README-BUILDING'),\n",
       " PosixPath('data/projects/contiki-2.4/README'),\n",
       " PosixPath('data/projects/contiki-2.4/examples'),\n",
       " PosixPath('data/projects/contiki-2.4/Makefile.include'),\n",
       " PosixPath('data/projects/contiki-2.4/doc'),\n",
       " PosixPath('data/projects/contiki-2.4/apps')]"
      ]
     },
     "execution_count": 130,
     "metadata": {},
     "output_type": "execute_result"
    }
   ],
   "source": [
    "import pathlib\n",
    "from os import walk\n",
    "\n",
    "prj_dir = 'data/projects/contiki-2.4/'\n",
    "\n",
    "[p for p in pathlib.Path(prj_dir).iterdir()]"
   ]
  },
  {
   "cell_type": "code",
   "execution_count": null,
   "metadata": {},
   "outputs": [],
   "source": [
    "def get_filepaths(directory):\n",
    "    \"\"\"\n",
    "    This function will generate the file names in a directory \n",
    "    tree by walking the tree either top-down or bottom-up. For each \n",
    "    directory in the tree rooted at directory top (including top itself), \n",
    "    it yields a 3-tuple (dirpath, dirnames, filenames).\n",
    "    # ref: https://stackoverflow.com/questions/3207219/how-do-i-list-all-files-of-a-directory\n",
    "    \"\"\"\n",
    "    file_paths = []  # List which will store all of the full filepaths.\n",
    "\n",
    "    # Walk the tree.\n",
    "    for root, directories, files in os.walk(directory):\n",
    "        for filename in files:\n",
    "            # Join the two strings in order to form the full filepath.\n",
    "            filepath = os.path.join(root, filename)\n",
    "            file_paths.append(filepath)  # Add it to the list.\n",
    "\n",
    "    return file_paths  # Self-explanatory.\n",
    "\n",
    "prj_files = get_filepaths(prj_dir)\n",
    "print('Number of files in the project: ', len(prj_files))"
   ]
  },
  {
   "attachments": {},
   "cell_type": "markdown",
   "metadata": {},
   "source": [
    "### Guess programming language and scan only C programs"
   ]
  },
  {
   "cell_type": "code",
   "execution_count": null,
   "metadata": {},
   "outputs": [
    {
     "name": "stdout",
     "output_type": "stream",
     "text": [
      "Rust\n",
      "Markdown\n",
      "CMake\n",
      "Markdown\n",
      "Makefile\n",
      "TeX\n",
      "Shell\n",
      "Perl\n",
      "Perl\n",
      "YAML\n",
      "Shell\n",
      "Shell\n",
      "C++\n",
      "C\n",
      "Perl\n",
      "Shell\n",
      "Shell\n",
      "C++\n",
      "Shell\n",
      "Shell\n",
      "C\n",
      "Shell\n",
      "C\n",
      "C\n",
      "Shell\n",
      "Shell\n",
      "Perl\n"
     ]
    },
    {
     "ename": "UnicodeDecodeError",
     "evalue": "'unicodeescape' codec can't decode bytes in position 31267-31268: truncated \\UXXXXXXXX escape",
     "output_type": "error",
     "traceback": [
      "\u001b[0;31m---------------------------------------------------------------------------\u001b[0m",
      "\u001b[0;31mUnicodeDecodeError\u001b[0m                        Traceback (most recent call last)",
      "Cell \u001b[0;32mIn[160], line 9\u001b[0m\n\u001b[1;32m      6\u001b[0m \u001b[39mfor\u001b[39;00m file \u001b[39min\u001b[39;00m prj_files:\n\u001b[1;32m      7\u001b[0m     \u001b[39m# code = file.read()\u001b[39;00m\n\u001b[1;32m      8\u001b[0m     \u001b[39mwith\u001b[39;00m \u001b[39mopen\u001b[39m(file, \u001b[39m'\u001b[39m\u001b[39mr\u001b[39m\u001b[39m'\u001b[39m, encoding\u001b[39m=\u001b[39m \u001b[39m'\u001b[39m\u001b[39municode_escape\u001b[39m\u001b[39m'\u001b[39m) \u001b[39mas\u001b[39;00m f:\n\u001b[0;32m----> 9\u001b[0m         language \u001b[39m=\u001b[39m guess\u001b[39m.\u001b[39mlanguage_name(f\u001b[39m.\u001b[39;49mread())\n\u001b[1;32m     10\u001b[0m         \u001b[39mprint\u001b[39m(language)\n",
      "File \u001b[0;32m~/miniconda/envs/vulcode/lib/python3.8/encodings/unicode_escape.py:26\u001b[0m, in \u001b[0;36mIncrementalDecoder.decode\u001b[0;34m(self, input, final)\u001b[0m\n\u001b[1;32m     25\u001b[0m \u001b[39mdef\u001b[39;00m \u001b[39mdecode\u001b[39m(\u001b[39mself\u001b[39m, \u001b[39minput\u001b[39m, final\u001b[39m=\u001b[39m\u001b[39mFalse\u001b[39;00m):\n\u001b[0;32m---> 26\u001b[0m     \u001b[39mreturn\u001b[39;00m codecs\u001b[39m.\u001b[39;49municode_escape_decode(\u001b[39minput\u001b[39;49m, \u001b[39mself\u001b[39;49m\u001b[39m.\u001b[39;49merrors)[\u001b[39m0\u001b[39m]\n",
      "\u001b[0;31mUnicodeDecodeError\u001b[0m: 'unicodeescape' codec can't decode bytes in position 31267-31268: truncated \\UXXXXXXXX escape"
     ]
    }
   ],
   "source": [
    "from guesslang import Guess\n",
    "\n",
    "guess = Guess()\n",
    "\n",
    "# Guess the language from code\n",
    "for file in prj_files:\n",
    "    # code = file.read()\n",
    "    with open(file, 'r', encoding= 'unicode_escape') as f:\n",
    "        language = guess.language_name(f.read())\n",
    "        print(language)"
   ]
  },
  {
   "cell_type": "code",
   "execution_count": null,
   "metadata": {},
   "outputs": [
    {
     "data": {
      "text/plain": [
       "'INI'"
      ]
     },
     "execution_count": 153,
     "metadata": {},
     "output_type": "execute_result"
    }
   ],
   "source": [
    "eg_file = 'data/projects/contiki-2.4/tools/tunslip.c'\n",
    "guess.language_name(eg_file)"
   ]
  },
  {
   "cell_type": "code",
   "execution_count": null,
   "metadata": {},
   "outputs": [
    {
     "name": "stdout",
     "output_type": "stream",
     "text": [
      "C\n"
     ]
    }
   ],
   "source": [
    "with open(eg_file, 'r') as f:\n",
    "    print(guess.language_name(f.read()))"
   ]
  },
  {
   "cell_type": "code",
   "execution_count": null,
   "metadata": {},
   "outputs": [
    {
     "name": "stdout",
     "output_type": "stream",
     "text": [
      "Flawfinder version 2.0.19, (C) 2001-2019 David A. Wheeler.\n",
      "Number of rules (primarily dangerous function names) in C/C++ ruleset: 222\n",
      "Examining data/projects/contiki-2.4/tools/tunslip.c\n",
      "Warning: Skipping non-existent file --csv\n",
      "Warning: Skipping non-existent file file.csv\n",
      "\n",
      "FINAL RESULTS:\n",
      "\n",
      "data/projects/contiki-2.4/tools/tunslip.c:438:  [4] (format) vsnprintf:\n",
      "  If format strings can be influenced by an attacker, they can be exploited,\n",
      "  and note that sprintf variations do not always \\0-terminate (CWE-134). Use\n",
      "  a constant for the format specification.\n",
      "data/projects/contiki-2.4/tools/tunslip.c:442:  [4] (shell) system:\n",
      "  This causes a new program to execute and is difficult to use safely\n",
      "  (CWE-78). try using a library call that implements the same functionality\n",
      "  if available.\n",
      "data/projects/contiki-2.4/tools/tunslip.c:753:  [4] (buffer) strcat:\n",
      "  Does not check for buffer overflows when concatenating to destination\n",
      "  [MS-banned] (CWE-120). Consider using strcat_s, strncat, strlcat, or\n",
      "  snprintf (warning: strncat is easily misused).\n",
      "data/projects/contiki-2.4/tools/tunslip.c:785:  [4] (buffer) strcpy:\n",
      "  Does not check for buffer overflows when copying to destination [MS-banned]\n",
      "  (CWE-120). Consider using snprintf, strcpy_s, or strlcpy (warning: strncpy\n",
      "  easily misused).\n",
      "data/projects/contiki-2.4/tools/tunslip.c:902:  [4] (buffer) strcpy:\n",
      "  Does not check for buffer overflows when copying to destination [MS-banned]\n",
      "  (CWE-120). Consider using snprintf, strcpy_s, or strlcpy (warning: strncpy\n",
      "  easily misused).\n",
      "data/projects/contiki-2.4/tools/tunslip.c:904:  [4] (buffer) strcpy:\n",
      "  Does not check for buffer overflows when copying to destination [MS-banned]\n",
      "  (CWE-120). Consider using snprintf, strcpy_s, or strlcpy (warning: strncpy\n",
      "  easily misused).\n",
      "data/projects/contiki-2.4/tools/tunslip.c:882:  [3] (buffer) getopt:\n",
      "  Some older implementations do not protect against internal buffer overflows\n",
      "  (CWE-120, CWE-20). Check implementation on installation, or limit the size\n",
      "  of all string inputs.\n",
      "data/projects/contiki-2.4/tools/tunslip.c:156:  [2] (buffer) char:\n",
      "  Statically-sized arrays can be improperly restricted, leading to potential\n",
      "  overflows or other issues (CWE-119!/CWE-120). Perform bounds checking, use\n",
      "  functions that limit length, or ensure that the size is larger than the\n",
      "  maximum possible length.\n",
      "data/projects/contiki-2.4/tools/tunslip.c:177:  [2] (buffer) memcpy:\n",
      "  Does not check for buffer overflows when copying to destination (CWE-120).\n",
      "  Make sure destination can always hold the source data.\n",
      "data/projects/contiki-2.4/tools/tunslip.c:179:  [2] (buffer) memcpy:\n",
      "  Does not check for buffer overflows when copying to destination (CWE-120).\n",
      "  Make sure destination can always hold the source data.\n",
      "data/projects/contiki-2.4/tools/tunslip.c:198:  [2] (buffer) memcpy:\n",
      "  Does not check for buffer overflows when copying to destination (CWE-120).\n",
      "  Make sure destination can always hold the source data.\n",
      "data/projects/contiki-2.4/tools/tunslip.c:207:  [2] (buffer) memcpy:\n",
      "  Does not check for buffer overflows when copying to destination (CWE-120).\n",
      "  Make sure destination can always hold the source data.\n",
      "data/projects/contiki-2.4/tools/tunslip.c:210:  [2] (buffer) memcpy:\n",
      "  Does not check for buffer overflows when copying to destination (CWE-120).\n",
      "  Make sure destination can always hold the source data.\n",
      "data/projects/contiki-2.4/tools/tunslip.c:213:  [2] (buffer) memcpy:\n",
      "  Does not check for buffer overflows when copying to destination (CWE-120).\n",
      "  Make sure destination can always hold the source data.\n",
      "data/projects/contiki-2.4/tools/tunslip.c:250:  [2] (buffer) memcpy:\n",
      "  Does not check for buffer overflows when copying to destination (CWE-120).\n",
      "  Make sure destination can always hold the source data.\n",
      "data/projects/contiki-2.4/tools/tunslip.c:251:  [2] (buffer) memcpy:\n",
      "  Does not check for buffer overflows when copying to destination (CWE-120).\n",
      "  Make sure destination can always hold the source data.\n",
      "data/projects/contiki-2.4/tools/tunslip.c:258:  [2] (buffer) memcpy:\n",
      "  Does not check for buffer overflows when copying to destination (CWE-120).\n",
      "  Make sure destination can always hold the source data.\n",
      "data/projects/contiki-2.4/tools/tunslip.c:275:  [2] (buffer) memcpy:\n",
      "  Does not check for buffer overflows when copying to destination (CWE-120).\n",
      "  Make sure destination can always hold the source data.\n",
      "data/projects/contiki-2.4/tools/tunslip.c:283:  [2] (buffer) memcpy:\n",
      "  Does not check for buffer overflows when copying to destination (CWE-120).\n",
      "  Make sure destination can always hold the source data.\n",
      "data/projects/contiki-2.4/tools/tunslip.c:435:  [2] (buffer) char:\n",
      "  Statically-sized arrays can be improperly restricted, leading to potential\n",
      "  overflows or other issues (CWE-119!/CWE-120). Perform bounds checking, use\n",
      "  functions that limit length, or ensure that the size is larger than the\n",
      "  maximum possible length.\n",
      "data/projects/contiki-2.4/tools/tunslip.c:458:  [2] (buffer) char:\n",
      "  Statically-sized arrays can be improperly restricted, leading to potential\n",
      "  overflows or other issues (CWE-119!/CWE-120). Perform bounds checking, use\n",
      "  functions that limit length, or ensure that the size is larger than the\n",
      "  maximum possible length.\n",
      "data/projects/contiki-2.4/tools/tunslip.c:587:  [2] (buffer) char:\n",
      "  Statically-sized arrays can be improperly restricted, leading to potential\n",
      "  overflows or other issues (CWE-119!/CWE-120). Perform bounds checking, use\n",
      "  functions that limit length, or ensure that the size is larger than the\n",
      "  maximum possible length.\n",
      "data/projects/contiki-2.4/tools/tunslip.c:691:  [2] (buffer) char:\n",
      "  Statically-sized arrays can be improperly restricted, leading to potential\n",
      "  overflows or other issues (CWE-119!/CWE-120). Perform bounds checking, use\n",
      "  functions that limit length, or ensure that the size is larger than the\n",
      "  maximum possible length.\n",
      "data/projects/contiki-2.4/tools/tunslip.c:751:  [2] (buffer) char:\n",
      "  Statically-sized arrays can be improperly restricted, leading to potential\n",
      "  overflows or other issues (CWE-119!/CWE-120). Perform bounds checking, use\n",
      "  functions that limit length, or ensure that the size is larger than the\n",
      "  maximum possible length.\n",
      "data/projects/contiki-2.4/tools/tunslip.c:752:  [2] (buffer) strcpy:\n",
      "  Does not check for buffer overflows when copying to destination [MS-banned]\n",
      "  (CWE-120). Consider using snprintf, strcpy_s, or strlcpy (warning: strncpy\n",
      "  easily misused). Risk is low because the source is a constant string.\n",
      "data/projects/contiki-2.4/tools/tunslip.c:754:  [2] (misc) open:\n",
      "  Check when opening files - can an attacker redirect it (via symlinks),\n",
      "  force the opening of special file type (e.g., device files), move things\n",
      "  around to create a race condition, control its ancestors, or change its\n",
      "  contents? (CWE-362).\n",
      "data/projects/contiki-2.4/tools/tunslip.c:767:  [2] (misc) open:\n",
      "  Check when opening files - can an attacker redirect it (via symlinks),\n",
      "  force the opening of special file type (e.g., device files), move things\n",
      "  around to create a race condition, control its ancestors, or change its\n",
      "  contents? (CWE-362).\n",
      "data/projects/contiki-2.4/tools/tunslip.c:885:  [2] (integer) atoi:\n",
      "  Unless checked, the resulting number can exceed the expected range\n",
      "  (CWE-190). If source untrusted, check both minimum and maximum, even if the\n",
      "  input had no minus sign (large numbers can roll over into negative number;\n",
      "  consider saving to an unsigned value if that is intended).\n",
      "data/projects/contiki-2.4/tools/tunslip.c:962:  [2] (integer) atoi:\n",
      "  Unless checked, the resulting number can exceed the expected range\n",
      "  (CWE-190). If source untrusted, check both minimum and maximum, even if the\n",
      "  input had no minus sign (large numbers can roll over into negative number;\n",
      "  consider saving to an unsigned value if that is intended).\n",
      "data/projects/contiki-2.4/tools/tunslip.c:696:  [1] (buffer) read:\n",
      "  Check buffer boundaries if used in a loop including recursive loops\n",
      "  (CWE-120, CWE-20).\n",
      "data/projects/contiki-2.4/tools/tunslip.c:742:  [1] (obsolete) usleep:\n",
      "  This C routine is considered obsolete (as opposed to the shell command by\n",
      "  the same name). The interaction of this function with SIGALRM and other\n",
      "  timer functions such as sleep(), alarm(), setitimer(), and nanosleep() is\n",
      "  unspecified (CWE-676). Use nanosleep(2) or setitimer(2) instead.\n",
      "data/projects/contiki-2.4/tools/tunslip.c:779:  [1] (buffer) strncpy:\n",
      "  Easily used incorrectly; doesn't always \\0-terminate or check for invalid\n",
      "  pointers [MS-banned] (CWE-120).\n",
      "\n",
      "ANALYSIS SUMMARY:\n",
      "\n",
      "Hits = 32\n",
      "Lines analyzed = 1114 in approximately 0.02 seconds (47380 lines/second)\n",
      "Physical Source Lines of Code (SLOC) = 864\n",
      "Hits@level = [0]  14 [1]   3 [2]  22 [3]   1 [4]   6 [5]   0\n",
      "Hits@level+ = [0+]  46 [1+]  32 [2+]  29 [3+]   7 [4+]   6 [5+]   0\n",
      "Hits/KSLOC@level+ = [0+] 53.2407 [1+] 37.037 [2+] 33.5648 [3+] 8.10185 [4+] 6.94444 [5+]   0\n",
      "Minimum risk level = 1\n",
      "\n",
      "Not every hit is necessarily a security vulnerability.\n",
      "You can inhibit a report by adding a comment in this form:\n",
      "// flawfinder: ignore\n",
      "Make *sure* it's a false positive!\n",
      "You can use the option --neverignore to show these.\n",
      "\n",
      "There may be other security vulnerabilities; review your code!\n",
      "See 'Secure Programming HOWTO'\n",
      "(https://dwheeler.com/secure-programs) for more information.\n"
     ]
    }
   ],
   "source": [
    "!flawfinder 'data/projects/contiki-2.4/tools/tunslip.c' --csv 'file.csv'"
   ]
  }
 ],
 "metadata": {
  "kernelspec": {
   "display_name": "Python 3.8.0 ('vulcode')",
   "language": "python",
   "name": "python3"
  },
  "language_info": {
   "codemirror_mode": {
    "name": "ipython",
    "version": 3
   },
   "file_extension": ".py",
   "mimetype": "text/x-python",
   "name": "python",
   "nbconvert_exporter": "python",
   "pygments_lexer": "ipython3",
   "version": "3.8.0"
  },
  "orig_nbformat": 4,
  "vscode": {
   "interpreter": {
    "hash": "770d70f40277e0fadd6bc1f7a5fecfd799eee3cbb57c500ccfb48eb07fd2c1ce"
   }
  }
 },
 "nbformat": 4,
 "nbformat_minor": 2
}
