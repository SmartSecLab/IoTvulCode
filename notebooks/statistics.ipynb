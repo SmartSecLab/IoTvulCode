{
 "cells": [
  {
   "attachments": {},
   "cell_type": "markdown",
   "metadata": {},
   "source": [
    "# Statistics on the output data. "
   ]
  },
  {
   "cell_type": "markdown",
   "metadata": {},
   "source": [
    "### Loading data from the sqlite database to the dataframes"
   ]
  },
  {
   "cell_type": "code",
   "execution_count": 1,
   "metadata": {},
   "outputs": [
    {
     "data": {
      "text/plain": [
       "Index(['file', 'line', 'column', 'defaultlevel', 'level', 'category', 'name',\n",
       "       'msg', 'note', 'cwe', 'context', 'helpuri', 'severity', 'tool', 'type',\n",
       "       'project'],\n",
       "      dtype='object')"
      ]
     },
     "execution_count": 1,
     "metadata": {},
     "output_type": "execute_result"
    }
   ],
   "source": [
    "import pandas as pd\n",
    "import matplotlib.pyplot as plt\n",
    "import seaborn as sns\n",
    "import plotly.express as px\n",
    "import lizard\n",
    "import subprocess as sub\n",
    "from pylibsrcml import srcml\n",
    "import os\n",
    "import re \n",
    "import xml.etree.ElementTree as et \n",
    "import warnings\n",
    "from sqlite3 import connect\n",
    "from argparse import ArgumentParser\n",
    "from configparser import ConfigParser\n",
    "import yaml\n",
    "from pathlib import Path\n",
    "import random\n",
    "from tabulate import tabulate\n",
    "\n",
    "warnings.filterwarnings(\"ignore\")\n",
    "\n",
    "\n",
    "# database = '../data/IoT.db'\n",
    "# database = '../data/TinyVul.db'\n",
    "database = \"/Users/guru/research/TinyVul-v2.db\"\n",
    "conn= connect(database)\n",
    "\n",
    "random.seed(0)\n",
    "\n",
    "dfp = pd.read_sql_query(\"SELECT * FROM project\", con=conn)\n",
    "dfs = pd.read_sql_query(\"SELECT * FROM statement\", con=conn)\n",
    "dff = pd.read_sql_query(\"SELECT * FROM function\", con=conn)\n",
    "\n",
    "if not os.path.exists(\"figure\"):\n",
    "    os.mkdir(\"figure\")\n",
    "dfs.columns"
   ]
  },
  {
   "cell_type": "markdown",
   "metadata": {},
   "source": [
    "### Plotting subburset plot from the frequency of category, name and cwe types. "
   ]
  },
  {
   "cell_type": "code",
   "execution_count": 2,
   "metadata": {},
   "outputs": [
    {
     "data": {
      "application/vnd.plotly.v1+json": {
       "config": {
        "plotlyServerURL": "https://plot.ly"
       },
       "data": [
        {
         "branchvalues": "total",
         "customdata": [
          [
           9
          ],
          [
           16318
          ],
          [
           2
          ],
          [
           2
          ],
          [
           2
          ],
          [
           3
          ],
          [
           4
          ],
          [
           21092
          ],
          [
           6034
          ],
          [
           20
          ],
          [
           570
          ],
          [
           2187
          ],
          [
           107
          ],
          [
           858
          ],
          [
           1
          ],
          [
           31
          ],
          [
           6
          ],
          [
           23
          ],
          [
           20
          ],
          [
           14
          ],
          [
           21
          ],
          [
           8
          ],
          [
           2085
          ],
          [
           9
          ],
          [
           23
          ],
          [
           3
          ],
          [
           3
          ],
          [
           8
          ],
          [
           52
          ],
          [
           1
          ],
          [
           27
          ],
          [
           37
          ],
          [
           4326
          ],
          [
           142
          ],
          [
           879
          ],
          [
           181
          ],
          [
           188
          ],
          [
           12
          ],
          [
           60
          ],
          [
           24
          ],
          [
           160
          ],
          [
           27
          ],
          [
           787
          ],
          [
           53
          ],
          [
           1434
          ],
          [
           3
          ],
          [
           189
          ],
          [
           2
          ],
          [
           164
          ],
          [
           4
          ],
          [
           43
          ],
          [
           8
          ],
          [
           6
          ],
          [
           5
          ],
          [
           483
          ],
          [
           1280
          ],
          [
           9
          ],
          [
           27
          ],
          [
           583
          ],
          [
           13
          ],
          [
           20
          ],
          [
           1
          ],
          [
           20
          ],
          [
           14
          ],
          [
           12
          ],
          [
           3
          ],
          [
           70
          ],
          [
           96
          ],
          [
           12
          ],
          [
           6
          ],
          [
           1445
          ],
          [
           45
          ],
          [
           219
          ],
          [
           26
          ],
          [
           9
          ],
          [
           73
          ],
          [
           11
          ],
          [
           7
          ],
          [
           431
          ],
          [
           1
          ],
          [
           6
          ],
          [
           7
          ],
          [
           2
          ],
          [
           12
          ],
          [
           4
          ],
          [
           114
          ],
          [
           1
          ],
          [
           32
          ],
          [
           14
          ],
          [
           46
          ],
          [
           9
          ],
          [
           14
          ],
          [
           1
          ],
          [
           22
          ],
          [
           6
          ],
          [
           3
          ],
          [
           1
          ],
          [
           9
          ],
          [
           10
          ],
          [
           1
          ],
          [
           11
          ],
          [
           6
          ],
          [
           11
          ],
          [
           22
          ],
          [
           255
          ],
          [
           8
          ],
          [
           10
          ],
          [
           70
          ],
          [
           3
          ],
          [
           3
          ],
          [
           2
          ],
          [
           121
          ],
          [
           3
          ],
          [
           4
          ],
          [
           23
          ],
          [
           4
          ],
          [
           15
          ],
          [
           18
          ],
          [
           170
          ],
          [
           361
          ],
          [
           2
          ],
          [
           3
          ],
          [
           2
          ],
          [
           9
          ],
          [
           1
          ],
          [
           583
          ],
          [
           70
          ],
          [
           1
          ],
          [
           787
          ],
          [
           53
          ],
          [
           26
          ],
          [
           3
          ],
          [
           3
          ],
          [
           16318
          ],
          [
           6
          ],
          [
           5
          ],
          [
           3
          ],
          [
           431
          ],
          [
           4
          ],
          [
           189
          ],
          [
           6.636363636363637
          ],
          [
           45
          ],
          [
           70
          ],
          [
           9
          ],
          [
           73
          ],
          [
           3
          ],
          [
           27
          ],
          [
           10
          ],
          [
           1
          ],
          [
           11
          ],
          [
           6
          ],
          [
           11
          ],
          [
           31
          ],
          [
           483
          ],
          [
           142
          ],
          [
           5.2
          ],
          [
           23
          ],
          [
           20
          ],
          [
           121
          ],
          [
           2
          ],
          [
           14
          ],
          [
           21
          ],
          [
           1
          ],
          [
           8
          ],
          [
           1434
          ],
          [
           23
          ],
          [
           6
          ],
          [
           11
          ],
          [
           2
          ],
          [
           1
          ],
          [
           96
          ],
          [
           12
          ],
          [
           21092
          ],
          [
           14
          ],
          [
           12
          ],
          [
           37
          ],
          [
           6
          ],
          [
           9
          ],
          [
           20
          ],
          [
           1
          ],
          [
           10
          ],
          [
           219
          ],
          [
           32
          ],
          [
           14
          ],
          [
           1280
          ],
          [
           4
          ],
          [
           15
          ],
          [
           22
          ],
          [
           18
          ],
          [
           879
          ],
          [
           164
          ],
          [
           2085
          ],
          [
           27
          ],
          [
           52
          ],
          [
           9
          ],
          [
           7
          ],
          [
           9
          ],
          [
           4
          ],
          [
           1
          ],
          [
           22
          ],
          [
           181
          ],
          [
           5857.3609771777565
          ],
          [
           43
          ],
          [
           8
          ],
          [
           21.6046511627907
          ],
          [
           570
          ],
          [
           2187
          ],
          [
           4326
          ],
          [
           107
          ],
          [
           858
          ],
          [
           170
          ],
          [
           12
          ],
          [
           255
          ],
          [
           20
          ],
          [
           4
          ],
          [
           46
          ],
          [
           12
          ],
          [
           6
          ],
          [
           1445
          ],
          [
           3
          ],
          [
           361
          ],
          [
           114
          ],
          [
           7
          ],
          [
           2
          ],
          [
           9
          ],
          [
           60
          ],
          [
           3
          ],
          [
           24
          ],
          [
           3
          ],
          [
           160
          ],
          [
           26.071428571428573
          ],
          [
           8
          ],
          [
           2
          ],
          [
           14
          ],
          [
           13
          ]
         ],
         "domain": {
          "x": [
           0,
           1
          ],
          "y": [
           0,
           1
          ]
         },
         "hovertemplate": "labels=%{label}<br>count_sum=%{value}<br>parent=%{parent}<br>id=%{id}<br>count=%{color}<extra></extra>",
         "ids": [
          "TCHAR/CWE-119!/CWE-120",
          "char/CWE-119!/CWE-120",
          "wchar_t/CWE-119!/CWE-120",
          "CopyMemory/CWE-120",
          "MultiByteToWideChar/CWE-120",
          "bcopy/CWE-120",
          "fscanf/CWE-120",
          "memcpy/CWE-120",
          "sprintf/CWE-120",
          "sscanf/CWE-120",
          "strcat/CWE-120",
          "strcpy/CWE-120",
          "strncat/CWE-120",
          "strncpy/CWE-120",
          "vsprintf/CWE-120",
          "fgetc/CWE-120, CWE-20",
          "fscanf/CWE-120, CWE-20",
          "getc/CWE-120, CWE-20",
          "getchar/CWE-120, CWE-20",
          "getopt/CWE-120, CWE-20",
          "getopt_long/CWE-120, CWE-20",
          "gets/CWE-120, CWE-20",
          "read/CWE-120, CWE-20",
          "scanf/CWE-120, CWE-20",
          "sscanf/CWE-120, CWE-20",
          "vfscanf/CWE-120, CWE-20",
          "vscanf/CWE-120, CWE-20",
          "vsscanf/CWE-120, CWE-20",
          "realpath/CWE-120/CWE-785!",
          "_tcslen/CWE-126",
          "equal/CWE-126",
          "mismatch/CWE-126",
          "strlen/CWE-126",
          "fprintf/CWE-134",
          "printf/CWE-134",
          "snprintf/CWE-134",
          "sprintf/CWE-134",
          "syslog/CWE-134",
          "vfprintf/CWE-134",
          "vprintf/CWE-134",
          "vsnprintf/CWE-134",
          "vsprintf/CWE-134",
          "atoi/CWE-190",
          "atol/CWE-190",
          "integerOverflow/CWE-190",
          "chroot/CWE-250, CWE-22",
          "crypt/CWE-327",
          "jrand48/CWE-327",
          "random/CWE-327",
          "setstate/CWE-327",
          "srand/CWE-327",
          "srandom/CWE-327",
          "chmod/CWE-362",
          "chown/CWE-362",
          "fopen/CWE-362",
          "open/CWE-362",
          "vfork/CWE-362",
          "readlink/CWE-362, CWE-20",
          "access/CWE-362/CWE-367!",
          "zerodiv/CWE-369",
          "mkstemp/CWE-377",
          "mktemp/CWE-377",
          "tmpfile/CWE-377",
          "memleak/CWE-401",
          "memleakOnRealloc/CWE-401",
          "doubleFree/CWE-415",
          "ctuuninitvar/CWE-457",
          "legacyUninitvar/CWE-457",
          "uninitStructMember/CWE-457",
          "uninitdata/CWE-457",
          "uninitvar/CWE-457",
          "ctunullpointer/CWE-476",
          "nullPointer/CWE-476",
          "autoVariables/CWE-562",
          "danglingLifetime/CWE-562",
          "danglingTemporaryLifetime/CWE-562",
          "invalidLifetime/CWE-562",
          "returnDanglingLifetime/CWE-562",
          "comparePointers/CWE-570",
          "assignBoolToPointer/CWE-587",
          "invalidFunctionArg/CWE-628",
          "va_end_missing/CWE-664",
          "va_list_usedBeforeStarted/CWE-664",
          "memalign/CWE-676",
          "ulimit/CWE-676",
          "usleep/CWE-676",
          "getpass/CWE-676, CWE-120, CWE-20",
          "nullPointerArithmetic/CWE-682",
          "wrongPrintfScanfArgNum/CWE-685",
          "umask/CWE-732",
          "missingReturn/CWE-758",
          "objectIndex/CWE-758",
          "shiftNegative/CWE-758",
          "shiftTooManyBits/CWE-758",
          "mismatchAllocDealloc/CWE-762",
          "unknownEvaluationOrder/CWE-768",
          "leakReturnValNotUsed/CWE-771",
          "resourceLeak/CWE-775",
          "execl/CWE-78",
          "execle/CWE-78",
          "execlp/CWE-78",
          "execv/CWE-78",
          "execvp/CWE-78",
          "popen/CWE-78",
          "system/CWE-78",
          "ctuArrayIndex/CWE-786",
          "negativeIndex/CWE-786",
          "arrayIndexOutOfBounds/CWE-788",
          "bufferAccessOutOfBounds/CWE-788",
          "ctuArrayIndex/CWE-788",
          "getlogin/CWE-807",
          "getenv/CWE-807, CWE-20",
          "LoadLibrary/CWE-829, CWE-20",
          "cppcheckError/CWE-unknown",
          "internalAstError/CWE-unknown",
          "overlappingWriteFunction/CWE-unknown",
          "overlappingWriteUnion/CWE-unknown",
          "preprocessorErrorDirective/CWE-unknown",
          "syntaxError/CWE-unknown",
          "unknownMacro/CWE-unknown",
          "CopyMemory",
          "LoadLibrary",
          "MultiByteToWideChar",
          "TCHAR",
          "_tcslen",
          "access",
          "arrayIndexOutOfBounds",
          "assignBoolToPointer",
          "atoi",
          "atol",
          "autoVariables",
          "bcopy",
          "bufferAccessOutOfBounds",
          "char",
          "chmod",
          "chown",
          "chroot",
          "comparePointers",
          "cppcheckError",
          "crypt",
          "ctuArrayIndex",
          "ctunullpointer",
          "ctuuninitvar",
          "danglingLifetime",
          "danglingTemporaryLifetime",
          "doubleFree",
          "equal",
          "execl",
          "execle",
          "execlp",
          "execv",
          "execvp",
          "fgetc",
          "fopen",
          "fprintf",
          "fscanf",
          "getc",
          "getchar",
          "getenv",
          "getlogin",
          "getopt",
          "getopt_long",
          "getpass",
          "gets",
          "integerOverflow",
          "internalAstError",
          "invalidFunctionArg",
          "invalidLifetime",
          "jrand48",
          "leakReturnValNotUsed",
          "legacyUninitvar",
          "memalign",
          "memcpy",
          "memleak",
          "memleakOnRealloc",
          "mismatch",
          "mismatchAllocDealloc",
          "missingReturn",
          "mkstemp",
          "mktemp",
          "negativeIndex",
          "nullPointer",
          "nullPointerArithmetic",
          "objectIndex",
          "open",
          "overlappingWriteFunction",
          "overlappingWriteUnion",
          "popen",
          "preprocessorErrorDirective",
          "printf",
          "random",
          "read",
          "readlink",
          "realpath",
          "resourceLeak",
          "returnDanglingLifetime",
          "scanf",
          "setstate",
          "shiftNegative",
          "shiftTooManyBits",
          "snprintf",
          "sprintf",
          "srand",
          "srandom",
          "sscanf",
          "strcat",
          "strcpy",
          "strlen",
          "strncat",
          "strncpy",
          "syntaxError",
          "syslog",
          "system",
          "tmpfile",
          "ulimit",
          "umask",
          "uninitStructMember",
          "uninitdata",
          "uninitvar",
          "unknownEvaluationOrder",
          "unknownMacro",
          "usleep",
          "va_end_missing",
          "va_list_usedBeforeStarted",
          "vfork",
          "vfprintf",
          "vfscanf",
          "vprintf",
          "vscanf",
          "vsnprintf",
          "vsprintf",
          "vsscanf",
          "wchar_t",
          "wrongPrintfScanfArgNum",
          "zerodiv"
         ],
         "labels": [
          "CWE-119!/CWE-120",
          "CWE-119!/CWE-120",
          "CWE-119!/CWE-120",
          "CWE-120",
          "CWE-120",
          "CWE-120",
          "CWE-120",
          "CWE-120",
          "CWE-120",
          "CWE-120",
          "CWE-120",
          "CWE-120",
          "CWE-120",
          "CWE-120",
          "CWE-120",
          "CWE-120, CWE-20",
          "CWE-120, CWE-20",
          "CWE-120, CWE-20",
          "CWE-120, CWE-20",
          "CWE-120, CWE-20",
          "CWE-120, CWE-20",
          "CWE-120, CWE-20",
          "CWE-120, CWE-20",
          "CWE-120, CWE-20",
          "CWE-120, CWE-20",
          "CWE-120, CWE-20",
          "CWE-120, CWE-20",
          "CWE-120, CWE-20",
          "CWE-120/CWE-785!",
          "CWE-126",
          "CWE-126",
          "CWE-126",
          "CWE-126",
          "CWE-134",
          "CWE-134",
          "CWE-134",
          "CWE-134",
          "CWE-134",
          "CWE-134",
          "CWE-134",
          "CWE-134",
          "CWE-134",
          "CWE-190",
          "CWE-190",
          "CWE-190",
          "CWE-250, CWE-22",
          "CWE-327",
          "CWE-327",
          "CWE-327",
          "CWE-327",
          "CWE-327",
          "CWE-327",
          "CWE-362",
          "CWE-362",
          "CWE-362",
          "CWE-362",
          "CWE-362",
          "CWE-362, CWE-20",
          "CWE-362/CWE-367!",
          "CWE-369",
          "CWE-377",
          "CWE-377",
          "CWE-377",
          "CWE-401",
          "CWE-401",
          "CWE-415",
          "CWE-457",
          "CWE-457",
          "CWE-457",
          "CWE-457",
          "CWE-457",
          "CWE-476",
          "CWE-476",
          "CWE-562",
          "CWE-562",
          "CWE-562",
          "CWE-562",
          "CWE-562",
          "CWE-570",
          "CWE-587",
          "CWE-628",
          "CWE-664",
          "CWE-664",
          "CWE-676",
          "CWE-676",
          "CWE-676",
          "CWE-676, CWE-120, CWE-20",
          "CWE-682",
          "CWE-685",
          "CWE-732",
          "CWE-758",
          "CWE-758",
          "CWE-758",
          "CWE-758",
          "CWE-762",
          "CWE-768",
          "CWE-771",
          "CWE-775",
          "CWE-78",
          "CWE-78",
          "CWE-78",
          "CWE-78",
          "CWE-78",
          "CWE-78",
          "CWE-78",
          "CWE-786",
          "CWE-786",
          "CWE-788",
          "CWE-788",
          "CWE-788",
          "CWE-807",
          "CWE-807, CWE-20",
          "CWE-829, CWE-20",
          "CWE-unknown",
          "CWE-unknown",
          "CWE-unknown",
          "CWE-unknown",
          "CWE-unknown",
          "CWE-unknown",
          "CWE-unknown",
          "CopyMemory",
          "LoadLibrary",
          "MultiByteToWideChar",
          "TCHAR",
          "_tcslen",
          "access",
          "arrayIndexOutOfBounds",
          "assignBoolToPointer",
          "atoi",
          "atol",
          "autoVariables",
          "bcopy",
          "bufferAccessOutOfBounds",
          "char",
          "chmod",
          "chown",
          "chroot",
          "comparePointers",
          "cppcheckError",
          "crypt",
          "ctuArrayIndex",
          "ctunullpointer",
          "ctuuninitvar",
          "danglingLifetime",
          "danglingTemporaryLifetime",
          "doubleFree",
          "equal",
          "execl",
          "execle",
          "execlp",
          "execv",
          "execvp",
          "fgetc",
          "fopen",
          "fprintf",
          "fscanf",
          "getc",
          "getchar",
          "getenv",
          "getlogin",
          "getopt",
          "getopt_long",
          "getpass",
          "gets",
          "integerOverflow",
          "internalAstError",
          "invalidFunctionArg",
          "invalidLifetime",
          "jrand48",
          "leakReturnValNotUsed",
          "legacyUninitvar",
          "memalign",
          "memcpy",
          "memleak",
          "memleakOnRealloc",
          "mismatch",
          "mismatchAllocDealloc",
          "missingReturn",
          "mkstemp",
          "mktemp",
          "negativeIndex",
          "nullPointer",
          "nullPointerArithmetic",
          "objectIndex",
          "open",
          "overlappingWriteFunction",
          "overlappingWriteUnion",
          "popen",
          "preprocessorErrorDirective",
          "printf",
          "random",
          "read",
          "readlink",
          "realpath",
          "resourceLeak",
          "returnDanglingLifetime",
          "scanf",
          "setstate",
          "shiftNegative",
          "shiftTooManyBits",
          "snprintf",
          "sprintf",
          "srand",
          "srandom",
          "sscanf",
          "strcat",
          "strcpy",
          "strlen",
          "strncat",
          "strncpy",
          "syntaxError",
          "syslog",
          "system",
          "tmpfile",
          "ulimit",
          "umask",
          "uninitStructMember",
          "uninitdata",
          "uninitvar",
          "unknownEvaluationOrder",
          "unknownMacro",
          "usleep",
          "va_end_missing",
          "va_list_usedBeforeStarted",
          "vfork",
          "vfprintf",
          "vfscanf",
          "vprintf",
          "vscanf",
          "vsnprintf",
          "vsprintf",
          "vsscanf",
          "wchar_t",
          "wrongPrintfScanfArgNum",
          "zerodiv"
         ],
         "marker": {
          "coloraxis": "coloraxis",
          "colors": [
           9,
           16318,
           2,
           2,
           2,
           3,
           4,
           21092,
           6034,
           20,
           570,
           2187,
           107,
           858,
           1,
           31,
           6,
           23,
           20,
           14,
           21,
           8,
           2085,
           9,
           23,
           3,
           3,
           8,
           52,
           1,
           27,
           37,
           4326,
           142,
           879,
           181,
           188,
           12,
           60,
           24,
           160,
           27,
           787,
           53,
           1434,
           3,
           189,
           2,
           164,
           4,
           43,
           8,
           6,
           5,
           483,
           1280,
           9,
           27,
           583,
           13,
           20,
           1,
           20,
           14,
           12,
           3,
           70,
           96,
           12,
           6,
           1445,
           45,
           219,
           26,
           9,
           73,
           11,
           7,
           431,
           1,
           6,
           7,
           2,
           12,
           4,
           114,
           1,
           32,
           14,
           46,
           9,
           14,
           1,
           22,
           6,
           3,
           1,
           9,
           10,
           1,
           11,
           6,
           11,
           22,
           255,
           8,
           10,
           70,
           3,
           3,
           2,
           121,
           3,
           4,
           23,
           4,
           15,
           18,
           170,
           361,
           2,
           3,
           2,
           9,
           1,
           583,
           70,
           1,
           787,
           53,
           26,
           3,
           3,
           16318,
           6,
           5,
           3,
           431,
           4,
           189,
           6.636363636363637,
           45,
           70,
           9,
           73,
           3,
           27,
           10,
           1,
           11,
           6,
           11,
           31,
           483,
           142,
           5.2,
           23,
           20,
           121,
           2,
           14,
           21,
           1,
           8,
           1434,
           23,
           6,
           11,
           2,
           1,
           96,
           12,
           21092,
           14,
           12,
           37,
           6,
           9,
           20,
           1,
           10,
           219,
           32,
           14,
           1280,
           4,
           15,
           22,
           18,
           879,
           164,
           2085,
           27,
           52,
           9,
           7,
           9,
           4,
           1,
           22,
           181,
           5857.3609771777565,
           43,
           8,
           21.6046511627907,
           570,
           2187,
           4326,
           107,
           858,
           170,
           12,
           255,
           20,
           4,
           46,
           12,
           6,
           1445,
           3,
           361,
           114,
           7,
           2,
           9,
           60,
           3,
           24,
           3,
           160,
           26.071428571428573,
           8,
           2,
           14,
           13
          ]
         },
         "name": "",
         "parents": [
          "TCHAR",
          "char",
          "wchar_t",
          "CopyMemory",
          "MultiByteToWideChar",
          "bcopy",
          "fscanf",
          "memcpy",
          "sprintf",
          "sscanf",
          "strcat",
          "strcpy",
          "strncat",
          "strncpy",
          "vsprintf",
          "fgetc",
          "fscanf",
          "getc",
          "getchar",
          "getopt",
          "getopt_long",
          "gets",
          "read",
          "scanf",
          "sscanf",
          "vfscanf",
          "vscanf",
          "vsscanf",
          "realpath",
          "_tcslen",
          "equal",
          "mismatch",
          "strlen",
          "fprintf",
          "printf",
          "snprintf",
          "sprintf",
          "syslog",
          "vfprintf",
          "vprintf",
          "vsnprintf",
          "vsprintf",
          "atoi",
          "atol",
          "integerOverflow",
          "chroot",
          "crypt",
          "jrand48",
          "random",
          "setstate",
          "srand",
          "srandom",
          "chmod",
          "chown",
          "fopen",
          "open",
          "vfork",
          "readlink",
          "access",
          "zerodiv",
          "mkstemp",
          "mktemp",
          "tmpfile",
          "memleak",
          "memleakOnRealloc",
          "doubleFree",
          "ctuuninitvar",
          "legacyUninitvar",
          "uninitStructMember",
          "uninitdata",
          "uninitvar",
          "ctunullpointer",
          "nullPointer",
          "autoVariables",
          "danglingLifetime",
          "danglingTemporaryLifetime",
          "invalidLifetime",
          "returnDanglingLifetime",
          "comparePointers",
          "assignBoolToPointer",
          "invalidFunctionArg",
          "va_end_missing",
          "va_list_usedBeforeStarted",
          "memalign",
          "ulimit",
          "usleep",
          "getpass",
          "nullPointerArithmetic",
          "wrongPrintfScanfArgNum",
          "umask",
          "missingReturn",
          "objectIndex",
          "shiftNegative",
          "shiftTooManyBits",
          "mismatchAllocDealloc",
          "unknownEvaluationOrder",
          "leakReturnValNotUsed",
          "resourceLeak",
          "execl",
          "execle",
          "execlp",
          "execv",
          "execvp",
          "popen",
          "system",
          "ctuArrayIndex",
          "negativeIndex",
          "arrayIndexOutOfBounds",
          "bufferAccessOutOfBounds",
          "ctuArrayIndex",
          "getlogin",
          "getenv",
          "LoadLibrary",
          "cppcheckError",
          "internalAstError",
          "overlappingWriteFunction",
          "overlappingWriteUnion",
          "preprocessorErrorDirective",
          "syntaxError",
          "unknownMacro",
          "",
          "",
          "",
          "",
          "",
          "",
          "",
          "",
          "",
          "",
          "",
          "",
          "",
          "",
          "",
          "",
          "",
          "",
          "",
          "",
          "",
          "",
          "",
          "",
          "",
          "",
          "",
          "",
          "",
          "",
          "",
          "",
          "",
          "",
          "",
          "",
          "",
          "",
          "",
          "",
          "",
          "",
          "",
          "",
          "",
          "",
          "",
          "",
          "",
          "",
          "",
          "",
          "",
          "",
          "",
          "",
          "",
          "",
          "",
          "",
          "",
          "",
          "",
          "",
          "",
          "",
          "",
          "",
          "",
          "",
          "",
          "",
          "",
          "",
          "",
          "",
          "",
          "",
          "",
          "",
          "",
          "",
          "",
          "",
          "",
          "",
          "",
          "",
          "",
          "",
          "",
          "",
          "",
          "",
          "",
          "",
          "",
          "",
          "",
          "",
          "",
          "",
          "",
          "",
          "",
          "",
          "",
          "",
          "",
          "",
          "",
          "",
          "",
          "",
          ""
         ],
         "type": "sunburst",
         "values": [
          9,
          16318,
          2,
          2,
          2,
          3,
          4,
          21092,
          6034,
          20,
          570,
          2187,
          107,
          858,
          1,
          31,
          6,
          23,
          20,
          14,
          21,
          8,
          2085,
          9,
          23,
          3,
          3,
          8,
          52,
          1,
          27,
          37,
          4326,
          142,
          879,
          181,
          188,
          12,
          60,
          24,
          160,
          27,
          787,
          53,
          1434,
          3,
          189,
          2,
          164,
          4,
          43,
          8,
          6,
          5,
          483,
          1280,
          9,
          27,
          583,
          13,
          20,
          1,
          20,
          14,
          12,
          3,
          70,
          96,
          12,
          6,
          1445,
          45,
          219,
          26,
          9,
          73,
          11,
          7,
          431,
          1,
          6,
          7,
          2,
          12,
          4,
          114,
          1,
          32,
          14,
          46,
          9,
          14,
          1,
          22,
          6,
          3,
          1,
          9,
          10,
          1,
          11,
          6,
          11,
          22,
          255,
          8,
          10,
          70,
          3,
          3,
          2,
          121,
          3,
          4,
          23,
          4,
          15,
          18,
          170,
          361,
          2,
          3,
          2,
          9,
          1,
          583,
          70,
          1,
          787,
          53,
          26,
          3,
          3,
          16318,
          6,
          5,
          3,
          431,
          4,
          189,
          11,
          45,
          70,
          9,
          73,
          3,
          27,
          10,
          1,
          11,
          6,
          11,
          31,
          483,
          142,
          10,
          23,
          20,
          121,
          2,
          14,
          21,
          1,
          8,
          1434,
          23,
          6,
          11,
          2,
          1,
          96,
          12,
          21092,
          14,
          12,
          37,
          6,
          9,
          20,
          1,
          10,
          219,
          32,
          14,
          1280,
          4,
          15,
          22,
          18,
          879,
          164,
          2085,
          27,
          52,
          9,
          7,
          9,
          4,
          1,
          22,
          181,
          6222,
          43,
          8,
          43,
          570,
          2187,
          4326,
          107,
          858,
          170,
          12,
          255,
          20,
          4,
          46,
          12,
          6,
          1445,
          3,
          361,
          114,
          7,
          2,
          9,
          60,
          3,
          24,
          3,
          160,
          28,
          8,
          2,
          14,
          13
         ]
        }
       ],
       "layout": {
        "autosize": false,
        "coloraxis": {
         "colorbar": {
          "title": {
           "text": "count"
          }
         },
         "colorscale": [
          [
           0,
           "rgb(247,251,255)"
          ],
          [
           0.125,
           "rgb(222,235,247)"
          ],
          [
           0.25,
           "rgb(198,219,239)"
          ],
          [
           0.375,
           "rgb(158,202,225)"
          ],
          [
           0.5,
           "rgb(107,174,214)"
          ],
          [
           0.625,
           "rgb(66,146,198)"
          ],
          [
           0.75,
           "rgb(33,113,181)"
          ],
          [
           0.875,
           "rgb(8,81,156)"
          ],
          [
           1,
           "rgb(8,48,107)"
          ]
         ]
        },
        "height": 800,
        "legend": {
         "tracegroupgap": 0
        },
        "margin": {
         "t": 60
        },
        "template": {
         "data": {
          "bar": [
           {
            "error_x": {
             "color": "#2a3f5f"
            },
            "error_y": {
             "color": "#2a3f5f"
            },
            "marker": {
             "line": {
              "color": "#E5ECF6",
              "width": 0.5
             },
             "pattern": {
              "fillmode": "overlay",
              "size": 10,
              "solidity": 0.2
             }
            },
            "type": "bar"
           }
          ],
          "barpolar": [
           {
            "marker": {
             "line": {
              "color": "#E5ECF6",
              "width": 0.5
             },
             "pattern": {
              "fillmode": "overlay",
              "size": 10,
              "solidity": 0.2
             }
            },
            "type": "barpolar"
           }
          ],
          "carpet": [
           {
            "aaxis": {
             "endlinecolor": "#2a3f5f",
             "gridcolor": "white",
             "linecolor": "white",
             "minorgridcolor": "white",
             "startlinecolor": "#2a3f5f"
            },
            "baxis": {
             "endlinecolor": "#2a3f5f",
             "gridcolor": "white",
             "linecolor": "white",
             "minorgridcolor": "white",
             "startlinecolor": "#2a3f5f"
            },
            "type": "carpet"
           }
          ],
          "choropleth": [
           {
            "colorbar": {
             "outlinewidth": 0,
             "ticks": ""
            },
            "type": "choropleth"
           }
          ],
          "contour": [
           {
            "colorbar": {
             "outlinewidth": 0,
             "ticks": ""
            },
            "colorscale": [
             [
              0,
              "#0d0887"
             ],
             [
              0.1111111111111111,
              "#46039f"
             ],
             [
              0.2222222222222222,
              "#7201a8"
             ],
             [
              0.3333333333333333,
              "#9c179e"
             ],
             [
              0.4444444444444444,
              "#bd3786"
             ],
             [
              0.5555555555555556,
              "#d8576b"
             ],
             [
              0.6666666666666666,
              "#ed7953"
             ],
             [
              0.7777777777777778,
              "#fb9f3a"
             ],
             [
              0.8888888888888888,
              "#fdca26"
             ],
             [
              1,
              "#f0f921"
             ]
            ],
            "type": "contour"
           }
          ],
          "contourcarpet": [
           {
            "colorbar": {
             "outlinewidth": 0,
             "ticks": ""
            },
            "type": "contourcarpet"
           }
          ],
          "heatmap": [
           {
            "colorbar": {
             "outlinewidth": 0,
             "ticks": ""
            },
            "colorscale": [
             [
              0,
              "#0d0887"
             ],
             [
              0.1111111111111111,
              "#46039f"
             ],
             [
              0.2222222222222222,
              "#7201a8"
             ],
             [
              0.3333333333333333,
              "#9c179e"
             ],
             [
              0.4444444444444444,
              "#bd3786"
             ],
             [
              0.5555555555555556,
              "#d8576b"
             ],
             [
              0.6666666666666666,
              "#ed7953"
             ],
             [
              0.7777777777777778,
              "#fb9f3a"
             ],
             [
              0.8888888888888888,
              "#fdca26"
             ],
             [
              1,
              "#f0f921"
             ]
            ],
            "type": "heatmap"
           }
          ],
          "heatmapgl": [
           {
            "colorbar": {
             "outlinewidth": 0,
             "ticks": ""
            },
            "colorscale": [
             [
              0,
              "#0d0887"
             ],
             [
              0.1111111111111111,
              "#46039f"
             ],
             [
              0.2222222222222222,
              "#7201a8"
             ],
             [
              0.3333333333333333,
              "#9c179e"
             ],
             [
              0.4444444444444444,
              "#bd3786"
             ],
             [
              0.5555555555555556,
              "#d8576b"
             ],
             [
              0.6666666666666666,
              "#ed7953"
             ],
             [
              0.7777777777777778,
              "#fb9f3a"
             ],
             [
              0.8888888888888888,
              "#fdca26"
             ],
             [
              1,
              "#f0f921"
             ]
            ],
            "type": "heatmapgl"
           }
          ],
          "histogram": [
           {
            "marker": {
             "pattern": {
              "fillmode": "overlay",
              "size": 10,
              "solidity": 0.2
             }
            },
            "type": "histogram"
           }
          ],
          "histogram2d": [
           {
            "colorbar": {
             "outlinewidth": 0,
             "ticks": ""
            },
            "colorscale": [
             [
              0,
              "#0d0887"
             ],
             [
              0.1111111111111111,
              "#46039f"
             ],
             [
              0.2222222222222222,
              "#7201a8"
             ],
             [
              0.3333333333333333,
              "#9c179e"
             ],
             [
              0.4444444444444444,
              "#bd3786"
             ],
             [
              0.5555555555555556,
              "#d8576b"
             ],
             [
              0.6666666666666666,
              "#ed7953"
             ],
             [
              0.7777777777777778,
              "#fb9f3a"
             ],
             [
              0.8888888888888888,
              "#fdca26"
             ],
             [
              1,
              "#f0f921"
             ]
            ],
            "type": "histogram2d"
           }
          ],
          "histogram2dcontour": [
           {
            "colorbar": {
             "outlinewidth": 0,
             "ticks": ""
            },
            "colorscale": [
             [
              0,
              "#0d0887"
             ],
             [
              0.1111111111111111,
              "#46039f"
             ],
             [
              0.2222222222222222,
              "#7201a8"
             ],
             [
              0.3333333333333333,
              "#9c179e"
             ],
             [
              0.4444444444444444,
              "#bd3786"
             ],
             [
              0.5555555555555556,
              "#d8576b"
             ],
             [
              0.6666666666666666,
              "#ed7953"
             ],
             [
              0.7777777777777778,
              "#fb9f3a"
             ],
             [
              0.8888888888888888,
              "#fdca26"
             ],
             [
              1,
              "#f0f921"
             ]
            ],
            "type": "histogram2dcontour"
           }
          ],
          "mesh3d": [
           {
            "colorbar": {
             "outlinewidth": 0,
             "ticks": ""
            },
            "type": "mesh3d"
           }
          ],
          "parcoords": [
           {
            "line": {
             "colorbar": {
              "outlinewidth": 0,
              "ticks": ""
             }
            },
            "type": "parcoords"
           }
          ],
          "pie": [
           {
            "automargin": true,
            "type": "pie"
           }
          ],
          "scatter": [
           {
            "fillpattern": {
             "fillmode": "overlay",
             "size": 10,
             "solidity": 0.2
            },
            "type": "scatter"
           }
          ],
          "scatter3d": [
           {
            "line": {
             "colorbar": {
              "outlinewidth": 0,
              "ticks": ""
             }
            },
            "marker": {
             "colorbar": {
              "outlinewidth": 0,
              "ticks": ""
             }
            },
            "type": "scatter3d"
           }
          ],
          "scattercarpet": [
           {
            "marker": {
             "colorbar": {
              "outlinewidth": 0,
              "ticks": ""
             }
            },
            "type": "scattercarpet"
           }
          ],
          "scattergeo": [
           {
            "marker": {
             "colorbar": {
              "outlinewidth": 0,
              "ticks": ""
             }
            },
            "type": "scattergeo"
           }
          ],
          "scattergl": [
           {
            "marker": {
             "colorbar": {
              "outlinewidth": 0,
              "ticks": ""
             }
            },
            "type": "scattergl"
           }
          ],
          "scattermapbox": [
           {
            "marker": {
             "colorbar": {
              "outlinewidth": 0,
              "ticks": ""
             }
            },
            "type": "scattermapbox"
           }
          ],
          "scatterpolar": [
           {
            "marker": {
             "colorbar": {
              "outlinewidth": 0,
              "ticks": ""
             }
            },
            "type": "scatterpolar"
           }
          ],
          "scatterpolargl": [
           {
            "marker": {
             "colorbar": {
              "outlinewidth": 0,
              "ticks": ""
             }
            },
            "type": "scatterpolargl"
           }
          ],
          "scatterternary": [
           {
            "marker": {
             "colorbar": {
              "outlinewidth": 0,
              "ticks": ""
             }
            },
            "type": "scatterternary"
           }
          ],
          "surface": [
           {
            "colorbar": {
             "outlinewidth": 0,
             "ticks": ""
            },
            "colorscale": [
             [
              0,
              "#0d0887"
             ],
             [
              0.1111111111111111,
              "#46039f"
             ],
             [
              0.2222222222222222,
              "#7201a8"
             ],
             [
              0.3333333333333333,
              "#9c179e"
             ],
             [
              0.4444444444444444,
              "#bd3786"
             ],
             [
              0.5555555555555556,
              "#d8576b"
             ],
             [
              0.6666666666666666,
              "#ed7953"
             ],
             [
              0.7777777777777778,
              "#fb9f3a"
             ],
             [
              0.8888888888888888,
              "#fdca26"
             ],
             [
              1,
              "#f0f921"
             ]
            ],
            "type": "surface"
           }
          ],
          "table": [
           {
            "cells": {
             "fill": {
              "color": "#EBF0F8"
             },
             "line": {
              "color": "white"
             }
            },
            "header": {
             "fill": {
              "color": "#C8D4E3"
             },
             "line": {
              "color": "white"
             }
            },
            "type": "table"
           }
          ]
         },
         "layout": {
          "annotationdefaults": {
           "arrowcolor": "#2a3f5f",
           "arrowhead": 0,
           "arrowwidth": 1
          },
          "autotypenumbers": "strict",
          "coloraxis": {
           "colorbar": {
            "outlinewidth": 0,
            "ticks": ""
           }
          },
          "colorscale": {
           "diverging": [
            [
             0,
             "#8e0152"
            ],
            [
             0.1,
             "#c51b7d"
            ],
            [
             0.2,
             "#de77ae"
            ],
            [
             0.3,
             "#f1b6da"
            ],
            [
             0.4,
             "#fde0ef"
            ],
            [
             0.5,
             "#f7f7f7"
            ],
            [
             0.6,
             "#e6f5d0"
            ],
            [
             0.7,
             "#b8e186"
            ],
            [
             0.8,
             "#7fbc41"
            ],
            [
             0.9,
             "#4d9221"
            ],
            [
             1,
             "#276419"
            ]
           ],
           "sequential": [
            [
             0,
             "#0d0887"
            ],
            [
             0.1111111111111111,
             "#46039f"
            ],
            [
             0.2222222222222222,
             "#7201a8"
            ],
            [
             0.3333333333333333,
             "#9c179e"
            ],
            [
             0.4444444444444444,
             "#bd3786"
            ],
            [
             0.5555555555555556,
             "#d8576b"
            ],
            [
             0.6666666666666666,
             "#ed7953"
            ],
            [
             0.7777777777777778,
             "#fb9f3a"
            ],
            [
             0.8888888888888888,
             "#fdca26"
            ],
            [
             1,
             "#f0f921"
            ]
           ],
           "sequentialminus": [
            [
             0,
             "#0d0887"
            ],
            [
             0.1111111111111111,
             "#46039f"
            ],
            [
             0.2222222222222222,
             "#7201a8"
            ],
            [
             0.3333333333333333,
             "#9c179e"
            ],
            [
             0.4444444444444444,
             "#bd3786"
            ],
            [
             0.5555555555555556,
             "#d8576b"
            ],
            [
             0.6666666666666666,
             "#ed7953"
            ],
            [
             0.7777777777777778,
             "#fb9f3a"
            ],
            [
             0.8888888888888888,
             "#fdca26"
            ],
            [
             1,
             "#f0f921"
            ]
           ]
          },
          "colorway": [
           "#636efa",
           "#EF553B",
           "#00cc96",
           "#ab63fa",
           "#FFA15A",
           "#19d3f3",
           "#FF6692",
           "#B6E880",
           "#FF97FF",
           "#FECB52"
          ],
          "font": {
           "color": "#2a3f5f"
          },
          "geo": {
           "bgcolor": "white",
           "lakecolor": "white",
           "landcolor": "#E5ECF6",
           "showlakes": true,
           "showland": true,
           "subunitcolor": "white"
          },
          "hoverlabel": {
           "align": "left"
          },
          "hovermode": "closest",
          "mapbox": {
           "style": "light"
          },
          "paper_bgcolor": "white",
          "plot_bgcolor": "#E5ECF6",
          "polar": {
           "angularaxis": {
            "gridcolor": "white",
            "linecolor": "white",
            "ticks": ""
           },
           "bgcolor": "#E5ECF6",
           "radialaxis": {
            "gridcolor": "white",
            "linecolor": "white",
            "ticks": ""
           }
          },
          "scene": {
           "xaxis": {
            "backgroundcolor": "#E5ECF6",
            "gridcolor": "white",
            "gridwidth": 2,
            "linecolor": "white",
            "showbackground": true,
            "ticks": "",
            "zerolinecolor": "white"
           },
           "yaxis": {
            "backgroundcolor": "#E5ECF6",
            "gridcolor": "white",
            "gridwidth": 2,
            "linecolor": "white",
            "showbackground": true,
            "ticks": "",
            "zerolinecolor": "white"
           },
           "zaxis": {
            "backgroundcolor": "#E5ECF6",
            "gridcolor": "white",
            "gridwidth": 2,
            "linecolor": "white",
            "showbackground": true,
            "ticks": "",
            "zerolinecolor": "white"
           }
          },
          "shapedefaults": {
           "line": {
            "color": "#2a3f5f"
           }
          },
          "ternary": {
           "aaxis": {
            "gridcolor": "white",
            "linecolor": "white",
            "ticks": ""
           },
           "baxis": {
            "gridcolor": "white",
            "linecolor": "white",
            "ticks": ""
           },
           "bgcolor": "#E5ECF6",
           "caxis": {
            "gridcolor": "white",
            "linecolor": "white",
            "ticks": ""
           }
          },
          "title": {
           "x": 0.05
          },
          "xaxis": {
           "automargin": true,
           "gridcolor": "white",
           "linecolor": "white",
           "ticks": "",
           "title": {
            "standoff": 15
           },
           "zerolinecolor": "white",
           "zerolinewidth": 2
          },
          "yaxis": {
           "automargin": true,
           "gridcolor": "white",
           "linecolor": "white",
           "ticks": "",
           "title": {
            "standoff": 15
           },
           "zerolinecolor": "white",
           "zerolinewidth": 2
          }
         }
        },
        "width": 800
       }
      }
     },
     "metadata": {},
     "output_type": "display_data"
    }
   ],
   "source": [
    "dfplt = dfs[['category', 'name', 'cwe']].groupby(['category', 'name', 'cwe'], group_keys=False).size().reset_index(name='count')\n",
    "\n",
    "dfplt['category'] = dfplt.apply(lambda row: row['category'] \n",
    "if row['category']==row['name'] or row['name']=='-' \n",
    "else row['name'], axis=1)\n",
    "dfplt = dfplt.drop(labels=['name'], axis=1)\n",
    "\n",
    "fig = px.sunburst(dfplt, \n",
    "    path=['category', 'cwe'], \n",
    "    values='count', \n",
    "    color_continuous_scale='Blues',\n",
    "    color='count',\n",
    ")\n",
    "# fig.write_image(\"figure/vul_statistics.pdf\")\n",
    "# fig.update_traces(hovertemplate='%{label}<br>%{customdata}')\n",
    "fig.update_layout(\n",
    "    autosize=False,\n",
    "    width=800,\n",
    "    height=800,)\n",
    "fig.show()\n",
    "# save the figure manually, the below code takes ages\n",
    "# fig.write_image(\"../figure/vul_statistics.pdf\")"
   ]
  },
  {
   "cell_type": "code",
   "execution_count": 3,
   "metadata": {},
   "outputs": [
    {
     "data": {
      "text/html": [
       "<div>\n",
       "<style scoped>\n",
       "    .dataframe tbody tr th:only-of-type {\n",
       "        vertical-align: middle;\n",
       "    }\n",
       "\n",
       "    .dataframe tbody tr th {\n",
       "        vertical-align: top;\n",
       "    }\n",
       "\n",
       "    .dataframe thead th {\n",
       "        text-align: right;\n",
       "    }\n",
       "</style>\n",
       "<table border=\"1\" class=\"dataframe\">\n",
       "  <thead>\n",
       "    <tr style=\"text-align: right;\">\n",
       "      <th></th>\n",
       "      <th>category</th>\n",
       "      <th>cwe</th>\n",
       "      <th>count</th>\n",
       "    </tr>\n",
       "  </thead>\n",
       "  <tbody>\n",
       "    <tr>\n",
       "      <th>61</th>\n",
       "      <td>memcpy</td>\n",
       "      <td>CWE-120</td>\n",
       "      <td>21092</td>\n",
       "    </tr>\n",
       "    <tr>\n",
       "      <th>50</th>\n",
       "      <td>char</td>\n",
       "      <td>CWE-119!/CWE-120</td>\n",
       "      <td>16318</td>\n",
       "    </tr>\n",
       "    <tr>\n",
       "      <th>66</th>\n",
       "      <td>sprintf</td>\n",
       "      <td>CWE-120</td>\n",
       "      <td>6034</td>\n",
       "    </tr>\n",
       "    <tr>\n",
       "      <th>71</th>\n",
       "      <td>strlen</td>\n",
       "      <td>CWE-126</td>\n",
       "      <td>4326</td>\n",
       "    </tr>\n",
       "    <tr>\n",
       "      <th>70</th>\n",
       "      <td>strcpy</td>\n",
       "      <td>CWE-120</td>\n",
       "      <td>2187</td>\n",
       "    </tr>\n",
       "    <tr>\n",
       "      <th>63</th>\n",
       "      <td>read</td>\n",
       "      <td>CWE-120, CWE-20</td>\n",
       "      <td>2085</td>\n",
       "    </tr>\n",
       "    <tr>\n",
       "      <th>37</th>\n",
       "      <td>uninitvar</td>\n",
       "      <td>CWE-457</td>\n",
       "      <td>1445</td>\n",
       "    </tr>\n",
       "    <tr>\n",
       "      <th>13</th>\n",
       "      <td>integerOverflow</td>\n",
       "      <td>CWE-190</td>\n",
       "      <td>1434</td>\n",
       "    </tr>\n",
       "    <tr>\n",
       "      <th>97</th>\n",
       "      <td>open</td>\n",
       "      <td>CWE-362</td>\n",
       "      <td>1280</td>\n",
       "    </tr>\n",
       "    <tr>\n",
       "      <th>81</th>\n",
       "      <td>printf</td>\n",
       "      <td>CWE-134</td>\n",
       "      <td>879</td>\n",
       "    </tr>\n",
       "  </tbody>\n",
       "</table>\n",
       "</div>"
      ],
      "text/plain": [
       "           category               cwe  count\n",
       "61           memcpy           CWE-120  21092\n",
       "50             char  CWE-119!/CWE-120  16318\n",
       "66          sprintf           CWE-120   6034\n",
       "71           strlen           CWE-126   4326\n",
       "70           strcpy           CWE-120   2187\n",
       "63             read   CWE-120, CWE-20   2085\n",
       "37        uninitvar           CWE-457   1445\n",
       "13  integerOverflow           CWE-190   1434\n",
       "97             open           CWE-362   1280\n",
       "81           printf           CWE-134    879"
      ]
     },
     "execution_count": 3,
     "metadata": {},
     "output_type": "execute_result"
    }
   ],
   "source": [
    "dfplt.sort_values(by=['count'], ascending=False).head(10)"
   ]
  },
  {
   "attachments": {},
   "cell_type": "markdown",
   "metadata": {},
   "source": [
    "# Top 10 vulnerabilities"
   ]
  },
  {
   "cell_type": "code",
   "execution_count": 4,
   "metadata": {},
   "outputs": [
    {
     "name": "stdout",
     "output_type": "stream",
     "text": [
      "+----+-----------------+------------------+---------+\n",
      "|    | category        | cwe              |   count |\n",
      "|----+-----------------+------------------+---------|\n",
      "|  0 | memcpy          | CWE-120          |   21092 |\n",
      "|  1 | char            | CWE-119!/CWE-120 |   16318 |\n",
      "|  2 | sprintf         | CWE-120          |    6034 |\n",
      "|  3 | strlen          | CWE-126          |    4326 |\n",
      "|  4 | strcpy          | CWE-120          |    2187 |\n",
      "|  5 | read            | CWE-120, CWE-20  |    2085 |\n",
      "|  6 | uninitvar       | CWE-457          |    1445 |\n",
      "|  7 | integerOverflow | CWE-190          |    1434 |\n",
      "|  8 | open            | CWE-362          |    1280 |\n",
      "|  9 | printf          | CWE-134          |     879 |\n",
      "+----+-----------------+------------------+---------+\n"
     ]
    }
   ],
   "source": [
    "df_top10 = dfplt.sort_values(by=['count'], ascending=False).head(10).reset_index(drop=True)\n",
    "print(tabulate(df_top10, headers='keys', tablefmt='psql'))\n",
    "df_top10.to_latex(\"../result/top10.tex\", index=False, caption=\"Top 10 CWEs in IoT code\")"
   ]
  },
  {
   "cell_type": "code",
   "execution_count": 5,
   "metadata": {},
   "outputs": [
    {
     "data": {
      "text/plain": [
       "<AxesSubplot: >"
      ]
     },
     "execution_count": 5,
     "metadata": {},
     "output_type": "execute_result"
    },
    {
     "data": {
      "image/png": "[encoded data removed]",
      "text/plain": [
       "<Figure size 640x480 with 1 Axes>"
      ]
     },
     "metadata": {},
     "output_type": "display_data"
    }
   ],
   "source": [
    "# dfs.context.head(200).str.len().plot(kind='bar')\n",
    "pd.Series(sorted(list(dfs.context.head(20).str.len()))).plot(kind='bar')"
   ]
  },
  {
   "cell_type": "code",
   "execution_count": 44,
   "metadata": {},
   "outputs": [
    {
     "data": {
      "text/plain": [
       "<AxesSubplot: ylabel='Frequency'>"
      ]
     },
     "execution_count": 44,
     "metadata": {},
     "output_type": "execute_result"
    },
    {
     "data": {
      "image/png": "[encoded data removed]",
      "text/plain": [
       "<Figure size 640x480 with 1 Axes>"
      ]
     },
     "metadata": {},
     "output_type": "display_data"
    }
   ],
   "source": [
    "dfs = dfs[dfs.context.str.len()<151]\n",
    "pd.Series([len(x) for x in dfs.context if len(x)>10]).plot.hist(xlabel='#chars', bins=20, ylabel='#statements',alpha=0.8)"
   ]
  },
  {
   "cell_type": "code",
   "execution_count": 45,
   "metadata": {},
   "outputs": [
    {
     "data": {
      "text/plain": [
       "[29, 41, 23, 69, 10]"
      ]
     },
     "execution_count": 45,
     "metadata": {},
     "output_type": "execute_result"
    }
   ],
   "source": [
    "def filter_unusual_statements(statements, min_len, max_len, df):\n",
    "    \"\"\"\" \n",
    "    # https://peps.python.org/pep-0007/\n",
    "    # https://www.python.org/dev/peps/pep-0007/ \n",
    "\n",
    "    \"\"\"\n",
    "    filtered_statements = []\n",
    "    for statement in statements:\n",
    "        if len(statement) >= min_len and len(statement) <= max_len:\n",
    "            filtered_statements.append(statement)\n",
    "   \n",
    "    # take size of the vul statements as basis\n",
    "    df = pd.Series(statements)   \n",
    "    df = df.str.len()\n",
    "    \n",
    "    stat_sizes =  list(df[df.between(max_len, min_len)].reset_index(drop=True))\n",
    "    \n",
    "    sample_size = 5 if len(stat_sizes)>5 else len(stat_sizes)-1\n",
    "    stat_sizes = random.sample(set(stat_sizes), sample_size)\n",
    "    return stat_sizes\n",
    "\n",
    "\n",
    "# standard variables:\n",
    "max_len = 151  #TODO: double check pep standards\n",
    "\n",
    "# TODO: check min_len as well, otherwise the below code unnessesarily checks one extra condition \n",
    "# because there is no any statement/fun with len below that. \n",
    "# for min_len (eg, 7 characters)\n",
    "min_len = dfs.context.str.len().sort_values(ascending=False).reset_index(drop=True).min()\n",
    "\n",
    "\n",
    "lines = dff.code[0].splitlines()\n",
    "stat_sizes = filter_unusual_statements(lines, max_len, min_len, dfs)\n",
    "stat_sizes"
   ]
  },
  {
   "cell_type": "markdown",
   "metadata": {},
   "source": [
    "## Frequency of the vulnerabilities and benign samples at \n",
    "    - statement-level \n",
    "    - function-level"
   ]
  },
  {
   "cell_type": "code",
   "execution_count": 49,
   "metadata": {},
   "outputs": [],
   "source": [
    "# # for project-wise distribution\n",
    "# projects = list(dfs.project.unique())\n",
    "\n",
    "# for project in projects:\n",
    "#     print(project)\n",
    "#     df = dfs[dfs.project == project]\n",
    "#     print(df.shape)\n",
    "#     # print(df.cwe.value_counts())\n",
    "#     # print(df.category.value_counts())\n",
    "#     print('----------------------')"
   ]
  },
  {
   "attachments": {},
   "cell_type": "markdown",
   "metadata": {},
   "source": [
    "## Create a latex table from the statistics of projects"
   ]
  },
  {
   "cell_type": "code",
   "execution_count": 50,
   "metadata": {},
   "outputs": [
    {
     "data": {
      "text/html": [
       "<div>\n",
       "<style scoped>\n",
       "    .dataframe tbody tr th:only-of-type {\n",
       "        vertical-align: middle;\n",
       "    }\n",
       "\n",
       "    .dataframe tbody tr th {\n",
       "        vertical-align: top;\n",
       "    }\n",
       "\n",
       "    .dataframe thead th {\n",
       "        text-align: right;\n",
       "    }\n",
       "</style>\n",
       "<table border=\"1\" class=\"dataframe\">\n",
       "  <thead>\n",
       "    <tr style=\"text-align: right;\">\n",
       "      <th></th>\n",
       "      <th></th>\n",
       "      <th>count</th>\n",
       "    </tr>\n",
       "    <tr>\n",
       "      <th>project</th>\n",
       "      <th>cwe</th>\n",
       "      <th></th>\n",
       "    </tr>\n",
       "  </thead>\n",
       "  <tbody>\n",
       "    <tr>\n",
       "      <th rowspan=\"2\" valign=\"top\">ARMmbed</th>\n",
       "      <th>Benign</th>\n",
       "      <td>37690</td>\n",
       "    </tr>\n",
       "    <tr>\n",
       "      <th>Vulnerable</th>\n",
       "      <td>5963</td>\n",
       "    </tr>\n",
       "    <tr>\n",
       "      <th rowspan=\"2\" valign=\"top\">FreeRTOS</th>\n",
       "      <th>Benign</th>\n",
       "      <td>37931</td>\n",
       "    </tr>\n",
       "    <tr>\n",
       "      <th>Vulnerable</th>\n",
       "      <td>4375</td>\n",
       "    </tr>\n",
       "    <tr>\n",
       "      <th rowspan=\"2\" valign=\"top\">RIOT</th>\n",
       "      <th>Benign</th>\n",
       "      <td>13349</td>\n",
       "    </tr>\n",
       "    <tr>\n",
       "      <th>Vulnerable</th>\n",
       "      <td>2357</td>\n",
       "    </tr>\n",
       "    <tr>\n",
       "      <th rowspan=\"2\" valign=\"top\">contiki</th>\n",
       "      <th>Benign</th>\n",
       "      <td>3741</td>\n",
       "    </tr>\n",
       "    <tr>\n",
       "      <th>Vulnerable</th>\n",
       "      <td>977</td>\n",
       "    </tr>\n",
       "    <tr>\n",
       "      <th rowspan=\"2\" valign=\"top\">gnucobol</th>\n",
       "      <th>Benign</th>\n",
       "      <td>8828</td>\n",
       "    </tr>\n",
       "    <tr>\n",
       "      <th>Vulnerable</th>\n",
       "      <td>1356</td>\n",
       "    </tr>\n",
       "    <tr>\n",
       "      <th rowspan=\"2\" valign=\"top\">linux-rpi</th>\n",
       "      <th>Benign</th>\n",
       "      <td>772021</td>\n",
       "    </tr>\n",
       "    <tr>\n",
       "      <th>Vulnerable</th>\n",
       "      <td>44613</td>\n",
       "    </tr>\n",
       "    <tr>\n",
       "      <th rowspan=\"2\" valign=\"top\">micropython</th>\n",
       "      <th>Benign</th>\n",
       "      <td>35333</td>\n",
       "    </tr>\n",
       "    <tr>\n",
       "      <th>Vulnerable</th>\n",
       "      <td>3645</td>\n",
       "    </tr>\n",
       "    <tr>\n",
       "      <th rowspan=\"2\" valign=\"top\">openwrt</th>\n",
       "      <th>Benign</th>\n",
       "      <td>6505</td>\n",
       "    </tr>\n",
       "    <tr>\n",
       "      <th>Vulnerable</th>\n",
       "      <td>848</td>\n",
       "    </tr>\n",
       "    <tr>\n",
       "      <th rowspan=\"2\" valign=\"top\">tinyos</th>\n",
       "      <th>Benign</th>\n",
       "      <td>2249</td>\n",
       "    </tr>\n",
       "    <tr>\n",
       "      <th>Vulnerable</th>\n",
       "      <td>410</td>\n",
       "    </tr>\n",
       "  </tbody>\n",
       "</table>\n",
       "</div>"
      ],
      "text/plain": [
       "                         count\n",
       "project     cwe               \n",
       "ARMmbed     Benign       37690\n",
       "            Vulnerable    5963\n",
       "FreeRTOS    Benign       37931\n",
       "            Vulnerable    4375\n",
       "RIOT        Benign       13349\n",
       "            Vulnerable    2357\n",
       "contiki     Benign        3741\n",
       "            Vulnerable     977\n",
       "gnucobol    Benign        8828\n",
       "            Vulnerable    1356\n",
       "linux-rpi   Benign      772021\n",
       "            Vulnerable   44613\n",
       "micropython Benign       35333\n",
       "            Vulnerable    3645\n",
       "openwrt     Benign        6505\n",
       "            Vulnerable     848\n",
       "tinyos      Benign        2249\n",
       "            Vulnerable     410"
      ]
     },
     "execution_count": 50,
     "metadata": {},
     "output_type": "execute_result"
    }
   ],
   "source": [
    "def save_latex(df, file):\n",
    "    \"\"\"\n",
    "    save the dataframe as latex table\n",
    "    \"\"\"\n",
    "    styler = df.style\n",
    "    # styler.applymap_index(lambda v: \"font-weight: bold;\", axis=\"index\")\n",
    "    styler.applymap_index(lambda v: \"font-weight: bold;\", axis=\"columns\")\n",
    "    res = styler.to_latex(convert_css=True, column_format='|l|l|r|')\n",
    "\n",
    "    with open(file, 'w') as f:\n",
    "        f.write(res)\n",
    "    return res\n",
    "\n",
    "# make class binary type benign/vulnerable\n",
    "dfs_binary = dfs.copy()\n",
    "dfs_binary.loc[dfs_binary.cwe!=\"Benign\", 'cwe'] = \"Vulnerable\"\n",
    "dfs_binary['project'] = dfs_binary.project.str.split('/').str[-1]\n",
    "\n",
    "prj_stat = dfs_binary.groupby(['project', 'cwe']).size().reset_index(name='count')\n",
    "prj_s = prj_stat.groupby(['project', 'cwe']).sum()\n",
    "\n",
    "res = tabulate(save_latex(prj_s, '../result/project_stat.tex'))\n",
    "prj_s"
   ]
  },
  {
   "cell_type": "code",
   "execution_count": 51,
   "metadata": {},
   "outputs": [],
   "source": [
    "prj_sflat = prj_s.reset_index()\n",
    "prj_sflat = prj_sflat.pivot(index='project', columns='cwe', values='count')\n",
    "prj_sflat.reset_index().to_latex('../result/project_stat_flat.tex', index=False)"
   ]
  },
  {
   "cell_type": "code",
   "execution_count": 52,
   "metadata": {},
   "outputs": [
    {
     "name": "stdout",
     "output_type": "stream",
     "text": [
      "\\begin{table}\n",
      "\\centering\n",
      "\\caption{Top 10 CWEs}\n",
      "\\label{Top 10 CWEs}\n",
      "\\begin{tabular}{lr}\n",
      "\\toprule\n",
      "       cwe &  count \\\\\n",
      "\\midrule\n",
      "Vulnerable &  66119 \\\\\n",
      "\\bottomrule\n",
      "\\end{tabular}\n",
      "\\end{table}\n",
      "\n"
     ]
    }
   ],
   "source": [
    "# make class binary type benign/vulnerable\n",
    "dff_binary = dff.copy()\n",
    "dff_binary.loc[dff_binary.cwe!=\"Benign\", 'cwe'] = \"Vulnerable\"\n",
    "\n",
    "prj_ff = dff_binary.groupby(['project', 'cwe']).size().reset_index(name='count')\n",
    "prj_f = prj_ff.groupby(['cwe']).sum().sort_values(by='count', ascending=False).reset_index()\n",
    "prj_f = prj_f[prj_f.cwe != 'Benign'].head(10)\n",
    "print(prj_f.to_latex(index=False, caption='Top 10 CWEs', label='Top 10 CWEs'))"
   ]
  },
  {
   "cell_type": "code",
   "execution_count": 53,
   "metadata": {},
   "outputs": [
    {
     "data": {
      "text/html": [
       "<div>\n",
       "<style scoped>\n",
       "    .dataframe tbody tr th:only-of-type {\n",
       "        vertical-align: middle;\n",
       "    }\n",
       "\n",
       "    .dataframe tbody tr th {\n",
       "        vertical-align: top;\n",
       "    }\n",
       "\n",
       "    .dataframe thead th {\n",
       "        text-align: right;\n",
       "    }\n",
       "</style>\n",
       "<table border=\"1\" class=\"dataframe\">\n",
       "  <thead>\n",
       "    <tr style=\"text-align: right;\">\n",
       "      <th></th>\n",
       "      <th></th>\n",
       "      <th>count</th>\n",
       "    </tr>\n",
       "    <tr>\n",
       "      <th>project</th>\n",
       "      <th>cwe</th>\n",
       "      <th></th>\n",
       "    </tr>\n",
       "  </thead>\n",
       "  <tbody>\n",
       "    <tr>\n",
       "      <th rowspan=\"5\" valign=\"top\">/Users/guru/research/projects//contiki</th>\n",
       "      <th>Benign</th>\n",
       "      <td>3741</td>\n",
       "    </tr>\n",
       "    <tr>\n",
       "      <th>CWE-119!/CWE-120</th>\n",
       "      <td>398</td>\n",
       "    </tr>\n",
       "    <tr>\n",
       "      <th>CWE-120</th>\n",
       "      <td>369</td>\n",
       "    </tr>\n",
       "    <tr>\n",
       "      <th>CWE-120, CWE-20</th>\n",
       "      <td>27</td>\n",
       "    </tr>\n",
       "    <tr>\n",
       "      <th>CWE-126</th>\n",
       "      <td>85</td>\n",
       "    </tr>\n",
       "    <tr>\n",
       "      <th>...</th>\n",
       "      <th>...</th>\n",
       "      <td>...</td>\n",
       "    </tr>\n",
       "    <tr>\n",
       "      <th rowspan=\"5\" valign=\"top\">/Users/guru/research/projects/tinyos</th>\n",
       "      <th>CWE-570</th>\n",
       "      <td>6</td>\n",
       "    </tr>\n",
       "    <tr>\n",
       "      <th>CWE-676</th>\n",
       "      <td>1</td>\n",
       "    </tr>\n",
       "    <tr>\n",
       "      <th>CWE-768</th>\n",
       "      <td>1</td>\n",
       "    </tr>\n",
       "    <tr>\n",
       "      <th>CWE-807, CWE-20</th>\n",
       "      <td>2</td>\n",
       "    </tr>\n",
       "    <tr>\n",
       "      <th>CWE-unknown</th>\n",
       "      <td>9</td>\n",
       "    </tr>\n",
       "  </tbody>\n",
       "</table>\n",
       "<p>202 rows × 1 columns</p>\n",
       "</div>"
      ],
      "text/plain": [
       "                                                         count\n",
       "project                                cwe                    \n",
       "/Users/guru/research/projects//contiki Benign             3741\n",
       "                                       CWE-119!/CWE-120    398\n",
       "                                       CWE-120             369\n",
       "                                       CWE-120, CWE-20      27\n",
       "                                       CWE-126              85\n",
       "...                                                        ...\n",
       "/Users/guru/research/projects/tinyos   CWE-570               6\n",
       "                                       CWE-676               1\n",
       "                                       CWE-768               1\n",
       "                                       CWE-807, CWE-20       2\n",
       "                                       CWE-unknown           9\n",
       "\n",
       "[202 rows x 1 columns]"
      ]
     },
     "execution_count": 53,
     "metadata": {},
     "output_type": "execute_result"
    }
   ],
   "source": [
    "prj_s = dfs.groupby(['project', 'cwe']).size().reset_index(name='count')\n",
    "prj_s = prj_s.groupby(['project','cwe']).sum()\n",
    "prj_s"
   ]
  },
  {
   "attachments": {},
   "cell_type": "markdown",
   "metadata": {},
   "source": [
    "# Show the description of the function-level data"
   ]
  },
  {
   "cell_type": "code",
   "execution_count": 54,
   "metadata": {},
   "outputs": [
    {
     "name": "stdout",
     "output_type": "stream",
     "text": [
      "\\begin{table}\n",
      "\\centering\n",
      "\\caption{Function Statistics}\n",
      "\\label{Function Statistics}\n",
      "\\begin{tabular}{rrrrr}\n",
      "\\toprule\n",
      "features & unique &       top &   freq \\\\\n",
      "\\midrule\n",
      " context &  45848 &           & 480357 \\\\\n",
      "     cwe &      2 &    Benign & 480357 \\\\\n",
      " project &      9 & linux-rpi & 456380 \\\\\n",
      "\\bottomrule\n",
      "\\end{tabular}\n",
      "\\end{table}\n",
      "\n"
     ]
    }
   ],
   "source": [
    "df_describe = dff_binary.drop(\n",
    "    labels=['top_nesting_level', 'fan_in', 'fan_out', 'general_fan_out', 'content', 'long_name', 'fun_name', 'full_parameters', 'code'],\n",
    "    axis=1, \n",
    "    errors='ignore').describe().T\n",
    "\n",
    "df_freq = df_describe.reset_index().rename(columns={'index': 'features'})\n",
    "df_freq = df_freq.drop(labels=['count'], axis=1)\n",
    "\n",
    "# shortening the project URL to project name only \n",
    "df_freq['top'] = df_freq.apply(lambda row:row['top'].split('/')[-1] if '/' in row['top'] else row['top'], axis=1)\n",
    "\n",
    "# The freq is the most common value’s frequency. The top is the most common value.\n",
    "print(df_freq[~df_freq.features.isin(['file'])].to_latex(\n",
    "    index=False,\n",
    "    column_format='rrrrr', \n",
    "    label='Function Statistics', \n",
    "    caption='Function Statistics')\n",
    "    )"
   ]
  },
  {
   "cell_type": "code",
   "execution_count": 55,
   "metadata": {},
   "outputs": [
    {
     "name": "stdout",
     "output_type": "stream",
     "text": [
      "Size of statements: 982191\n",
      "Size of unique statements: 981853\n",
      "\n",
      "Size of functions: 546476\n",
      "Size of unique functions: 537853\n"
     ]
    }
   ],
   "source": [
    "print(f'Size of statements: {len(dfs.context)}')\n",
    "print(f'Size of unique statements: {dfs.context.nunique()}')\n",
    "\n",
    "print(f'\\nSize of functions: {len(dff.code)}')\n",
    "print(f'Size of unique functions: {dff.code.nunique()}')"
   ]
  },
  {
   "cell_type": "markdown",
   "metadata": {},
   "source": [
    "# ML-specific: Convert hyperparameters list to latex table format"
   ]
  },
  {
   "cell_type": "code",
   "execution_count": 63,
   "metadata": {},
   "outputs": [
    {
     "name": "stdout",
     "output_type": "stream",
     "text": [
      "<class 'dict'>\n",
      "\\begin{table}\n",
      "\\centering\n",
      "\\caption{Hyperparameter Settings}\n",
      "\\label{Hyperparameter Settings}\n",
      "\\begin{tabular}{ll}\n",
      "\\toprule\n",
      " hyperparameter &                    value \\\\\n",
      "\\midrule\n",
      "         epochs &                       50 \\\\\n",
      "   debug\\_epochs &                        3 \\\\\n",
      "          batch &                      128 \\\\\n",
      "   input\\_length &                      150 \\\\\n",
      "      input\\_dim &                      150 \\\\\n",
      "     output\\_dim &                       32 \\\\\n",
      "             lr &                     1e-4 \\\\\n",
      "       patience &                       35 \\\\\n",
      "      optimizer &                     adam \\\\\n",
      "         l2\\_reg &                     1e-4 \\\\\n",
      "        dropout &                      0.0 \\\\\n",
      "  recur\\_dropout &                      0.0 \\\\\n",
      "         beta\\_1 &                      0.9 \\\\\n",
      "         beta\\_2 &                    0.999 \\\\\n",
      "        epsilon &                    1e-08 \\\\\n",
      "          decay &                      0.0 \\\\\n",
      "        verbose &                        2 \\\\\n",
      "loss\\_multiclass & categorical\\_crossentropy \\\\\n",
      "    loss\\_binary &      binary\\_crossentropy \\\\\n",
      "\\bottomrule\n",
      "\\end{tabular}\n",
      "\\end{table}\n",
      "\n"
     ]
    }
   ],
   "source": [
    "def hyperpara2latex(yaml_file):\n",
    "    \"\"\"\n",
    "    load the yaml file and return a dictionary\n",
    "    \"\"\"\n",
    "    config = {}\n",
    "    cols = ['hyperparameter', 'value']\n",
    "    \n",
    "    ext = Path(yaml_file).suffix.replace('.', '') \n",
    "    \n",
    "    with open(yaml_file, \"r\") as stream:\n",
    "        try:\n",
    "            config = yaml.safe_load(stream)\n",
    "            print(type(config))\n",
    "            df = pd.DataFrame([config['dnn']]).T.reset_index()\n",
    "            print(df.to_latex(index=False, \n",
    "                    header=cols, \n",
    "                    #   column_format='|l|l|', \n",
    "                    label='Hyperparameter Settings', \n",
    "                    caption='Hyperparameter Settings'))\n",
    "        except yaml.YAMLError as exc:\n",
    "            print(exc)\n",
    "\n",
    "config = hyperpara2latex('../config/classifier.yaml')"
   ]
  }
 ],
 "metadata": {
  "kernelspec": {
   "display_name": "vulcode",
   "language": "python",
   "name": "python3"
  },
  "language_info": {
   "codemirror_mode": {
    "name": "ipython",
    "version": 3
   },
   "file_extension": ".py",
   "mimetype": "text/x-python",
   "name": "python",
   "nbconvert_exporter": "python",
   "pygments_lexer": "ipython3",
   "version": "3.8.0"
  },
  "orig_nbformat": 4,
  "vscode": {
   "interpreter": {
    "hash": "770d70f40277e0fadd6bc1f7a5fecfd799eee3cbb57c500ccfb48eb07fd2c1ce"
   }
  }
 },
 "nbformat": 4,
 "nbformat_minor": 2
}
