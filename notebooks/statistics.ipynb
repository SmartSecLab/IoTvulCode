{
 "cells": [
  {
   "attachments": {},
   "cell_type": "markdown",
   "metadata": {},
   "source": [
    "# Statistics on the output data. "
   ]
  },
  {
   "cell_type": "markdown",
   "metadata": {},
   "source": [
    "### Loading data from the sqlite database to the dataframes"
   ]
  },
  {
   "cell_type": "code",
   "execution_count": 1,
   "metadata": {},
   "outputs": [
    {
     "ename": "KeyboardInterrupt",
     "evalue": "",
     "output_type": "error",
     "traceback": [
      "\u001b[0;31m---------------------------------------------------------------------------\u001b[0m",
      "\u001b[0;31mKeyboardInterrupt\u001b[0m                         Traceback (most recent call last)",
      "\u001b[1;32m/Users/guru/Library/CloudStorage/OneDrive-Kristiania/guru_shared/IoTvulCode/notebooks/statistics.ipynb Cell 3\u001b[0m line \u001b[0;36m1\n\u001b[0;32m----> <a href='vscode-notebook-cell:/Users/guru/Library/CloudStorage/OneDrive-Kristiania/guru_shared/IoTvulCode/notebooks/statistics.ipynb#W2sZmlsZQ%3D%3D?line=0'>1</a>\u001b[0m \u001b[39mimport\u001b[39;00m \u001b[39mpandas\u001b[39;00m \u001b[39mas\u001b[39;00m \u001b[39mpd\u001b[39;00m\n\u001b[1;32m      <a href='vscode-notebook-cell:/Users/guru/Library/CloudStorage/OneDrive-Kristiania/guru_shared/IoTvulCode/notebooks/statistics.ipynb#W2sZmlsZQ%3D%3D?line=1'>2</a>\u001b[0m \u001b[39mimport\u001b[39;00m \u001b[39mmatplotlib\u001b[39;00m\u001b[39m.\u001b[39;00m\u001b[39mpyplot\u001b[39;00m \u001b[39mas\u001b[39;00m \u001b[39mplt\u001b[39;00m\n\u001b[1;32m      <a href='vscode-notebook-cell:/Users/guru/Library/CloudStorage/OneDrive-Kristiania/guru_shared/IoTvulCode/notebooks/statistics.ipynb#W2sZmlsZQ%3D%3D?line=2'>3</a>\u001b[0m \u001b[39mimport\u001b[39;00m \u001b[39mseaborn\u001b[39;00m \u001b[39mas\u001b[39;00m \u001b[39msns\u001b[39;00m\n",
      "File \u001b[0;32m~/miniconda/envs/iotCode/lib/python3.8/site-packages/pandas/__init__.py:11\u001b[0m\n\u001b[1;32m      9\u001b[0m \u001b[39mfor\u001b[39;00m dependency \u001b[39min\u001b[39;00m hard_dependencies:\n\u001b[1;32m     10\u001b[0m     \u001b[39mtry\u001b[39;00m:\n\u001b[0;32m---> 11\u001b[0m         \u001b[39m__import__\u001b[39;49m(dependency)\n\u001b[1;32m     12\u001b[0m     \u001b[39mexcept\u001b[39;00m \u001b[39mImportError\u001b[39;00m \u001b[39mas\u001b[39;00m e:\n\u001b[1;32m     13\u001b[0m         missing_dependencies\u001b[39m.\u001b[39mappend(\u001b[39mf\u001b[39m\u001b[39m\"\u001b[39m\u001b[39m{\u001b[39;00mdependency\u001b[39m}\u001b[39;00m\u001b[39m: \u001b[39m\u001b[39m{\u001b[39;00me\u001b[39m}\u001b[39;00m\u001b[39m\"\u001b[39m)\n",
      "File \u001b[0;32m~/miniconda/envs/iotCode/lib/python3.8/site-packages/numpy/__init__.py:154\u001b[0m\n\u001b[1;32m    152\u001b[0m \u001b[39mfrom\u001b[39;00m \u001b[39m.\u001b[39;00m \u001b[39mimport\u001b[39;00m random\n\u001b[1;32m    153\u001b[0m \u001b[39mfrom\u001b[39;00m \u001b[39m.\u001b[39;00m \u001b[39mimport\u001b[39;00m ctypeslib\n\u001b[0;32m--> 154\u001b[0m \u001b[39mfrom\u001b[39;00m \u001b[39m.\u001b[39;00m \u001b[39mimport\u001b[39;00m ma\n\u001b[1;32m    155\u001b[0m \u001b[39mfrom\u001b[39;00m \u001b[39m.\u001b[39;00m \u001b[39mimport\u001b[39;00m matrixlib \u001b[39mas\u001b[39;00m _mat\n\u001b[1;32m    156\u001b[0m \u001b[39mfrom\u001b[39;00m \u001b[39m.\u001b[39;00m\u001b[39mmatrixlib\u001b[39;00m \u001b[39mimport\u001b[39;00m \u001b[39m*\u001b[39m\n",
      "File \u001b[0;32m~/miniconda/envs/iotCode/lib/python3.8/site-packages/numpy/ma/__init__.py:42\u001b[0m\n\u001b[1;32m      1\u001b[0m \u001b[39m\"\"\"\u001b[39;00m\n\u001b[1;32m      2\u001b[0m \u001b[39m=============\u001b[39;00m\n\u001b[1;32m      3\u001b[0m \u001b[39mMasked Arrays\u001b[39;00m\n\u001b[0;32m   (...)\u001b[0m\n\u001b[1;32m     40\u001b[0m \n\u001b[1;32m     41\u001b[0m \u001b[39m\"\"\"\u001b[39;00m\n\u001b[0;32m---> 42\u001b[0m \u001b[39mfrom\u001b[39;00m \u001b[39m.\u001b[39;00m \u001b[39mimport\u001b[39;00m core\n\u001b[1;32m     43\u001b[0m \u001b[39mfrom\u001b[39;00m \u001b[39m.\u001b[39;00m\u001b[39mcore\u001b[39;00m \u001b[39mimport\u001b[39;00m \u001b[39m*\u001b[39m\n\u001b[1;32m     45\u001b[0m \u001b[39mfrom\u001b[39;00m \u001b[39m.\u001b[39;00m \u001b[39mimport\u001b[39;00m extras\n",
      "File \u001b[0;32m~/miniconda/envs/iotCode/lib/python3.8/site-packages/numpy/ma/core.py:6633\u001b[0m\n\u001b[1;32m   6627\u001b[0m         \u001b[39melse\u001b[39;00m:\n\u001b[1;32m   6628\u001b[0m             \u001b[39m# duplicate instance - we can end up here from __array_finalize__,\u001b[39;00m\n\u001b[1;32m   6629\u001b[0m             \u001b[39m# where we set the __class__ attribute\u001b[39;00m\n\u001b[1;32m   6630\u001b[0m             \u001b[39mreturn\u001b[39;00m \u001b[39msuper\u001b[39m()\u001b[39m.\u001b[39m\u001b[39m__setattr__\u001b[39m(attr, value)\n\u001b[0;32m-> 6633\u001b[0m masked \u001b[39m=\u001b[39m masked_singleton \u001b[39m=\u001b[39m MaskedConstant()\n\u001b[1;32m   6634\u001b[0m masked_array \u001b[39m=\u001b[39m MaskedArray\n\u001b[1;32m   6637\u001b[0m \u001b[39mdef\u001b[39;00m \u001b[39marray\u001b[39m(data, dtype\u001b[39m=\u001b[39m\u001b[39mNone\u001b[39;00m, copy\u001b[39m=\u001b[39m\u001b[39mFalse\u001b[39;00m, order\u001b[39m=\u001b[39m\u001b[39mNone\u001b[39;00m,\n\u001b[1;32m   6638\u001b[0m           mask\u001b[39m=\u001b[39mnomask, fill_value\u001b[39m=\u001b[39m\u001b[39mNone\u001b[39;00m, keep_mask\u001b[39m=\u001b[39m\u001b[39mTrue\u001b[39;00m,\n\u001b[1;32m   6639\u001b[0m           hard_mask\u001b[39m=\u001b[39m\u001b[39mFalse\u001b[39;00m, shrink\u001b[39m=\u001b[39m\u001b[39mTrue\u001b[39;00m, subok\u001b[39m=\u001b[39m\u001b[39mTrue\u001b[39;00m, ndmin\u001b[39m=\u001b[39m\u001b[39m0\u001b[39m):\n",
      "File \u001b[0;32m~/miniconda/envs/iotCode/lib/python3.8/site-packages/numpy/ma/core.py:6541\u001b[0m, in \u001b[0;36mMaskedConstant.__new__\u001b[0;34m(cls)\u001b[0m\n\u001b[1;32m   6536\u001b[0m     mask\u001b[39m.\u001b[39mflags\u001b[39m.\u001b[39mwriteable \u001b[39m=\u001b[39m \u001b[39mFalse\u001b[39;00m\n\u001b[1;32m   6538\u001b[0m     \u001b[39m# don't fall back on MaskedArray.__new__(MaskedConstant), since\u001b[39;00m\n\u001b[1;32m   6539\u001b[0m     \u001b[39m# that might confuse it - this way, the construction is entirely\u001b[39;00m\n\u001b[1;32m   6540\u001b[0m     \u001b[39m# within our control\u001b[39;00m\n\u001b[0;32m-> 6541\u001b[0m     \u001b[39mcls\u001b[39m\u001b[39m.\u001b[39m__singleton \u001b[39m=\u001b[39m MaskedArray(data, mask\u001b[39m=\u001b[39;49mmask)\u001b[39m.\u001b[39;49mview(\u001b[39mcls\u001b[39;49m)\n\u001b[1;32m   6543\u001b[0m \u001b[39mreturn\u001b[39;00m \u001b[39mcls\u001b[39m\u001b[39m.\u001b[39m__singleton\n",
      "File \u001b[0;32m~/miniconda/envs/iotCode/lib/python3.8/site-packages/numpy/ma/core.py:3179\u001b[0m, in \u001b[0;36mMaskedArray.view\u001b[0;34m(self, dtype, type, fill_value)\u001b[0m\n\u001b[1;32m   3177\u001b[0m \u001b[39mtry\u001b[39;00m:\n\u001b[1;32m   3178\u001b[0m     \u001b[39mif\u001b[39;00m \u001b[39missubclass\u001b[39m(dtype, ndarray):\n\u001b[0;32m-> 3179\u001b[0m         output \u001b[39m=\u001b[39m ndarray\u001b[39m.\u001b[39;49mview(\u001b[39mself\u001b[39;49m, dtype)\n\u001b[1;32m   3180\u001b[0m         dtype \u001b[39m=\u001b[39m \u001b[39mNone\u001b[39;00m\n\u001b[1;32m   3181\u001b[0m     \u001b[39melse\u001b[39;00m:\n",
      "File \u001b[0;32m~/miniconda/envs/iotCode/lib/python3.8/site-packages/numpy/ma/core.py:6549\u001b[0m, in \u001b[0;36mMaskedConstant.__array_finalize__\u001b[0;34m(self, obj)\u001b[0m\n\u001b[1;32m   6545\u001b[0m \u001b[39mdef\u001b[39;00m \u001b[39m__array_finalize__\u001b[39m(\u001b[39mself\u001b[39m, obj):\n\u001b[1;32m   6546\u001b[0m     \u001b[39mif\u001b[39;00m \u001b[39mnot\u001b[39;00m \u001b[39mself\u001b[39m\u001b[39m.\u001b[39m__has_singleton():\n\u001b[1;32m   6547\u001b[0m         \u001b[39m# this handles the `.view` in __new__, which we want to copy across\u001b[39;00m\n\u001b[1;32m   6548\u001b[0m         \u001b[39m# properties normally\u001b[39;00m\n\u001b[0;32m-> 6549\u001b[0m         \u001b[39mreturn\u001b[39;00m \u001b[39msuper\u001b[39;49m()\u001b[39m.\u001b[39;49m__array_finalize__(obj)\n\u001b[1;32m   6550\u001b[0m     \u001b[39melif\u001b[39;00m \u001b[39mself\u001b[39m \u001b[39mis\u001b[39;00m \u001b[39mself\u001b[39m\u001b[39m.\u001b[39m__singleton:\n\u001b[1;32m   6551\u001b[0m         \u001b[39m# not clear how this can happen, play it safe\u001b[39;00m\n\u001b[1;32m   6552\u001b[0m         \u001b[39mpass\u001b[39;00m\n",
      "File \u001b[0;32m~/miniconda/envs/iotCode/lib/python3.8/site-packages/numpy/ma/core.py:2972\u001b[0m, in \u001b[0;36mMaskedArray.__array_finalize__\u001b[0;34m(self, obj)\u001b[0m\n\u001b[1;32m   2967\u001b[0m \u001b[39m\u001b[39m\u001b[39m\"\"\"\u001b[39;00m\n\u001b[1;32m   2968\u001b[0m \u001b[39mFinalizes the masked array.\u001b[39;00m\n\u001b[1;32m   2969\u001b[0m \n\u001b[1;32m   2970\u001b[0m \u001b[39m\"\"\"\u001b[39;00m\n\u001b[1;32m   2971\u001b[0m \u001b[39m# Get main attributes.\u001b[39;00m\n\u001b[0;32m-> 2972\u001b[0m \u001b[39mself\u001b[39;49m\u001b[39m.\u001b[39;49m_update_from(obj)\n\u001b[1;32m   2974\u001b[0m \u001b[39m# We have to decide how to initialize self.mask, based on\u001b[39;00m\n\u001b[1;32m   2975\u001b[0m \u001b[39m# obj.mask. This is very difficult.  There might be some\u001b[39;00m\n\u001b[1;32m   2976\u001b[0m \u001b[39m# correspondence between the elements in the array we are being\u001b[39;00m\n\u001b[0;32m   (...)\u001b[0m\n\u001b[1;32m   2998\u001b[0m \u001b[39m# mask), then we make a copy of the template object mask and use\u001b[39;00m\n\u001b[1;32m   2999\u001b[0m \u001b[39m# that. This is also horribly broken but somewhat less so. Maybe.\u001b[39;00m\n\u001b[1;32m   3000\u001b[0m \u001b[39mif\u001b[39;00m \u001b[39misinstance\u001b[39m(obj, ndarray):\n\u001b[1;32m   3001\u001b[0m     \u001b[39m# XX: This looks like a bug -- shouldn't it check self.dtype\u001b[39;00m\n\u001b[1;32m   3002\u001b[0m     \u001b[39m# instead?\u001b[39;00m\n",
      "File \u001b[0;32m~/miniconda/envs/iotCode/lib/python3.8/site-packages/numpy/ma/core.py:2955\u001b[0m, in \u001b[0;36mMaskedArray._update_from\u001b[0;34m(self, obj)\u001b[0m\n\u001b[1;32m   2953\u001b[0m \u001b[39mif\u001b[39;00m \u001b[39mnot\u001b[39;00m \u001b[39misinstance\u001b[39m(obj, MaskedArray):\n\u001b[1;32m   2954\u001b[0m     _optinfo\u001b[39m.\u001b[39mupdate(\u001b[39mgetattr\u001b[39m(obj, \u001b[39m'\u001b[39m\u001b[39m__dict__\u001b[39m\u001b[39m'\u001b[39m, {}))\n\u001b[0;32m-> 2955\u001b[0m _dict \u001b[39m=\u001b[39m \u001b[39mdict\u001b[39;49m(_fill_value\u001b[39m=\u001b[39;49m\u001b[39mgetattr\u001b[39;49m(obj, \u001b[39m'\u001b[39;49m\u001b[39m_fill_value\u001b[39;49m\u001b[39m'\u001b[39;49m, \u001b[39mNone\u001b[39;49;00m),\n\u001b[1;32m   2956\u001b[0m              _hardmask\u001b[39m=\u001b[39;49m\u001b[39mgetattr\u001b[39;49m(obj, \u001b[39m'\u001b[39;49m\u001b[39m_hardmask\u001b[39;49m\u001b[39m'\u001b[39;49m, \u001b[39mFalse\u001b[39;49;00m),\n\u001b[1;32m   2957\u001b[0m              _sharedmask\u001b[39m=\u001b[39;49m\u001b[39mgetattr\u001b[39;49m(obj, \u001b[39m'\u001b[39;49m\u001b[39m_sharedmask\u001b[39;49m\u001b[39m'\u001b[39;49m, \u001b[39mFalse\u001b[39;49;00m),\n\u001b[1;32m   2958\u001b[0m              _isfield\u001b[39m=\u001b[39;49m\u001b[39mgetattr\u001b[39;49m(obj, \u001b[39m'\u001b[39;49m\u001b[39m_isfield\u001b[39;49m\u001b[39m'\u001b[39;49m, \u001b[39mFalse\u001b[39;49;00m),\n\u001b[1;32m   2959\u001b[0m              _baseclass\u001b[39m=\u001b[39;49m\u001b[39mgetattr\u001b[39;49m(obj, \u001b[39m'\u001b[39;49m\u001b[39m_baseclass\u001b[39;49m\u001b[39m'\u001b[39;49m, _baseclass),\n\u001b[1;32m   2960\u001b[0m              _optinfo\u001b[39m=\u001b[39;49m_optinfo,\n\u001b[1;32m   2961\u001b[0m              _basedict\u001b[39m=\u001b[39;49m_optinfo)\n\u001b[1;32m   2962\u001b[0m \u001b[39mself\u001b[39m\u001b[39m.\u001b[39m\u001b[39m__dict__\u001b[39m\u001b[39m.\u001b[39mupdate(_dict)\n\u001b[1;32m   2963\u001b[0m \u001b[39mself\u001b[39m\u001b[39m.\u001b[39m\u001b[39m__dict__\u001b[39m\u001b[39m.\u001b[39mupdate(_optinfo)\n",
      "\u001b[0;31mKeyboardInterrupt\u001b[0m: "
     ]
    }
   ],
   "source": [
    "import pandas as pd\n",
    "import matplotlib.pyplot as plt\n",
    "import seaborn as sns\n",
    "import plotly.express as px\n",
    "import lizard\n",
    "import subprocess as sub\n",
    "from pylibsrcml import srcml\n",
    "import os\n",
    "import re \n",
    "import xml.etree.ElementTree as et \n",
    "import warnings\n",
    "from sqlite3 import connect\n",
    "from argparse import ArgumentParser\n",
    "from configparser import ConfigParser\n",
    "import yaml\n",
    "from pathlib import Path\n",
    "import random\n",
    "from tabulate import tabulate\n",
    "\n",
    "warnings.filterwarnings(\"ignore\")\n",
    "\n",
    "\n",
    "# database = '../data/IoT.db'\n",
    "# database = '../data/TinyVul.db'\n",
    "database = \"/Users/guru/research/TinyVul-v2.db\"\n",
    "conn= connect(database)\n",
    "\n",
    "random.seed(0)\n",
    "\n",
    "dfp = pd.read_sql_query(\"SELECT * FROM project\", con=conn)\n",
    "dfs = pd.read_sql_query(\"SELECT * FROM statement\", con=conn)\n",
    "dff = pd.read_sql_query(\"SELECT * FROM function\", con=conn)\n",
    "\n",
    "if not os.path.exists(\"figure\"):\n",
    "    os.mkdir(\"figure\")\n",
    "dfs.columns"
   ]
  },
  {
   "cell_type": "markdown",
   "metadata": {},
   "source": [
    "### Plotting subburset plot from the frequency of category, name and cwe types. "
   ]
  },
  {
   "cell_type": "code",
   "execution_count": null,
   "metadata": {},
   "outputs": [
    {
     "data": {
      "application/vnd.plotly.v1+json": {
       "config": {
        "plotlyServerURL": "https://plot.ly"
       },
       "data": [
        {
         "branchvalues": "total",
         "customdata": [
          [
           10
          ],
          [
           16396
          ],
          [
           2
          ],
          [
           2
          ],
          [
           2
          ],
          [
           3
          ],
          [
           4
          ],
          [
           21153
          ],
          [
           6036
          ],
          [
           20
          ],
          [
           571
          ],
          [
           2188
          ],
          [
           107
          ],
          [
           866
          ],
          [
           1
          ],
          [
           31
          ],
          [
           6
          ],
          [
           23
          ],
          [
           20
          ],
          [
           14
          ],
          [
           21
          ],
          [
           8
          ],
          [
           2087
          ],
          [
           9
          ],
          [
           23
          ],
          [
           3
          ],
          [
           3
          ],
          [
           8
          ],
          [
           55
          ],
          [
           1
          ],
          [
           27
          ],
          [
           37
          ],
          [
           4565
          ],
          [
           142
          ],
          [
           891
          ],
          [
           182
          ],
          [
           188
          ],
          [
           12
          ],
          [
           60
          ],
          [
           24
          ],
          [
           163
          ],
          [
           27
          ],
          [
           813
          ],
          [
           55
          ],
          [
           1435
          ],
          [
           3
          ],
          [
           189
          ],
          [
           2
          ],
          [
           166
          ],
          [
           4
          ],
          [
           49
          ],
          [
           9
          ],
          [
           6
          ],
          [
           5
          ],
          [
           492
          ],
          [
           1282
          ],
          [
           9
          ],
          [
           27
          ],
          [
           598
          ],
          [
           13
          ],
          [
           22
          ],
          [
           1
          ],
          [
           21
          ],
          [
           15
          ],
          [
           12
          ],
          [
           3
          ],
          [
           70
          ],
          [
           96
          ],
          [
           12
          ],
          [
           6
          ],
          [
           1464
          ],
          [
           45
          ],
          [
           221
          ],
          [
           26
          ],
          [
           9
          ],
          [
           73
          ],
          [
           11
          ],
          [
           7
          ],
          [
           431
          ],
          [
           1
          ],
          [
           6
          ],
          [
           7
          ],
          [
           2
          ],
          [
           12
          ],
          [
           4
          ],
          [
           114
          ],
          [
           1
          ],
          [
           32
          ],
          [
           14
          ],
          [
           50
          ],
          [
           9
          ],
          [
           14
          ],
          [
           1
          ],
          [
           22
          ],
          [
           6
          ],
          [
           3
          ],
          [
           1
          ],
          [
           9
          ],
          [
           10
          ],
          [
           1
          ],
          [
           11
          ],
          [
           6
          ],
          [
           11
          ],
          [
           22
          ],
          [
           255
          ],
          [
           8
          ],
          [
           10
          ],
          [
           70
          ],
          [
           3
          ],
          [
           3
          ],
          [
           2
          ],
          [
           124
          ],
          [
           3
          ],
          [
           4
          ],
          [
           23
          ],
          [
           4
          ],
          [
           15
          ],
          [
           18
          ],
          [
           170
          ],
          [
           361
          ],
          [
           2
          ],
          [
           3
          ],
          [
           2
          ],
          [
           10
          ],
          [
           1
          ],
          [
           598
          ],
          [
           70
          ],
          [
           1
          ],
          [
           813
          ],
          [
           55
          ],
          [
           26
          ],
          [
           3
          ],
          [
           3
          ],
          [
           16396
          ],
          [
           6
          ],
          [
           5
          ],
          [
           3
          ],
          [
           431
          ],
          [
           4
          ],
          [
           189
          ],
          [
           6.636363636363637
          ],
          [
           45
          ],
          [
           70
          ],
          [
           9
          ],
          [
           73
          ],
          [
           3
          ],
          [
           27
          ],
          [
           10
          ],
          [
           1
          ],
          [
           11
          ],
          [
           6
          ],
          [
           11
          ],
          [
           31
          ],
          [
           492
          ],
          [
           142
          ],
          [
           5.2
          ],
          [
           23
          ],
          [
           20
          ],
          [
           124
          ],
          [
           2
          ],
          [
           14
          ],
          [
           21
          ],
          [
           1
          ],
          [
           8
          ],
          [
           1435
          ],
          [
           23
          ],
          [
           6
          ],
          [
           11
          ],
          [
           2
          ],
          [
           1
          ],
          [
           96
          ],
          [
           12
          ],
          [
           21153
          ],
          [
           15
          ],
          [
           12
          ],
          [
           37
          ],
          [
           6
          ],
          [
           9
          ],
          [
           22
          ],
          [
           1
          ],
          [
           10
          ],
          [
           221
          ],
          [
           32
          ],
          [
           14
          ],
          [
           1282
          ],
          [
           4
          ],
          [
           15
          ],
          [
           22
          ],
          [
           18
          ],
          [
           891
          ],
          [
           166
          ],
          [
           2087
          ],
          [
           27
          ],
          [
           55
          ],
          [
           9
          ],
          [
           7
          ],
          [
           9
          ],
          [
           4
          ],
          [
           1
          ],
          [
           22
          ],
          [
           182
          ],
          [
           5859.357326478149
          ],
          [
           49
          ],
          [
           9
          ],
          [
           21.6046511627907
          ],
          [
           571
          ],
          [
           2188
          ],
          [
           4565
          ],
          [
           107
          ],
          [
           866
          ],
          [
           170
          ],
          [
           12
          ],
          [
           255
          ],
          [
           21
          ],
          [
           4
          ],
          [
           50
          ],
          [
           12
          ],
          [
           6
          ],
          [
           1464
          ],
          [
           3
          ],
          [
           361
          ],
          [
           114
          ],
          [
           7
          ],
          [
           2
          ],
          [
           9
          ],
          [
           60
          ],
          [
           3
          ],
          [
           24
          ],
          [
           3
          ],
          [
           163
          ],
          [
           26.071428571428573
          ],
          [
           8
          ],
          [
           2
          ],
          [
           14
          ],
          [
           13
          ]
         ],
         "domain": {
          "x": [
           0,
           1
          ],
          "y": [
           0,
           1
          ]
         },
         "hovertemplate": "labels=%{label}<br>count_sum=%{value}<br>parent=%{parent}<br>id=%{id}<br>count=%{color}<extra></extra>",
         "ids": [
          "TCHAR/CWE-119!/CWE-120",
          "char/CWE-119!/CWE-120",
          "wchar_t/CWE-119!/CWE-120",
          "CopyMemory/CWE-120",
          "MultiByteToWideChar/CWE-120",
          "bcopy/CWE-120",
          "fscanf/CWE-120",
          "memcpy/CWE-120",
          "sprintf/CWE-120",
          "sscanf/CWE-120",
          "strcat/CWE-120",
          "strcpy/CWE-120",
          "strncat/CWE-120",
          "strncpy/CWE-120",
          "vsprintf/CWE-120",
          "fgetc/CWE-120, CWE-20",
          "fscanf/CWE-120, CWE-20",
          "getc/CWE-120, CWE-20",
          "getchar/CWE-120, CWE-20",
          "getopt/CWE-120, CWE-20",
          "getopt_long/CWE-120, CWE-20",
          "gets/CWE-120, CWE-20",
          "read/CWE-120, CWE-20",
          "scanf/CWE-120, CWE-20",
          "sscanf/CWE-120, CWE-20",
          "vfscanf/CWE-120, CWE-20",
          "vscanf/CWE-120, CWE-20",
          "vsscanf/CWE-120, CWE-20",
          "realpath/CWE-120/CWE-785!",
          "_tcslen/CWE-126",
          "equal/CWE-126",
          "mismatch/CWE-126",
          "strlen/CWE-126",
          "fprintf/CWE-134",
          "printf/CWE-134",
          "snprintf/CWE-134",
          "sprintf/CWE-134",
          "syslog/CWE-134",
          "vfprintf/CWE-134",
          "vprintf/CWE-134",
          "vsnprintf/CWE-134",
          "vsprintf/CWE-134",
          "atoi/CWE-190",
          "atol/CWE-190",
          "integerOverflow/CWE-190",
          "chroot/CWE-250, CWE-22",
          "crypt/CWE-327",
          "jrand48/CWE-327",
          "random/CWE-327",
          "setstate/CWE-327",
          "srand/CWE-327",
          "srandom/CWE-327",
          "chmod/CWE-362",
          "chown/CWE-362",
          "fopen/CWE-362",
          "open/CWE-362",
          "vfork/CWE-362",
          "readlink/CWE-362, CWE-20",
          "access/CWE-362/CWE-367!",
          "zerodiv/CWE-369",
          "mkstemp/CWE-377",
          "mktemp/CWE-377",
          "tmpfile/CWE-377",
          "memleak/CWE-401",
          "memleakOnRealloc/CWE-401",
          "doubleFree/CWE-415",
          "ctuuninitvar/CWE-457",
          "legacyUninitvar/CWE-457",
          "uninitStructMember/CWE-457",
          "uninitdata/CWE-457",
          "uninitvar/CWE-457",
          "ctunullpointer/CWE-476",
          "nullPointer/CWE-476",
          "autoVariables/CWE-562",
          "danglingLifetime/CWE-562",
          "danglingTemporaryLifetime/CWE-562",
          "invalidLifetime/CWE-562",
          "returnDanglingLifetime/CWE-562",
          "comparePointers/CWE-570",
          "assignBoolToPointer/CWE-587",
          "invalidFunctionArg/CWE-628",
          "va_end_missing/CWE-664",
          "va_list_usedBeforeStarted/CWE-664",
          "memalign/CWE-676",
          "ulimit/CWE-676",
          "usleep/CWE-676",
          "getpass/CWE-676, CWE-120, CWE-20",
          "nullPointerArithmetic/CWE-682",
          "wrongPrintfScanfArgNum/CWE-685",
          "umask/CWE-732",
          "missingReturn/CWE-758",
          "objectIndex/CWE-758",
          "shiftNegative/CWE-758",
          "shiftTooManyBits/CWE-758",
          "mismatchAllocDealloc/CWE-762",
          "unknownEvaluationOrder/CWE-768",
          "leakReturnValNotUsed/CWE-771",
          "resourceLeak/CWE-775",
          "execl/CWE-78",
          "execle/CWE-78",
          "execlp/CWE-78",
          "execv/CWE-78",
          "execvp/CWE-78",
          "popen/CWE-78",
          "system/CWE-78",
          "ctuArrayIndex/CWE-786",
          "negativeIndex/CWE-786",
          "arrayIndexOutOfBounds/CWE-788",
          "bufferAccessOutOfBounds/CWE-788",
          "ctuArrayIndex/CWE-788",
          "getlogin/CWE-807",
          "getenv/CWE-807, CWE-20",
          "LoadLibrary/CWE-829, CWE-20",
          "cppcheckError/CWE-unknown",
          "internalAstError/CWE-unknown",
          "overlappingWriteFunction/CWE-unknown",
          "overlappingWriteUnion/CWE-unknown",
          "preprocessorErrorDirective/CWE-unknown",
          "syntaxError/CWE-unknown",
          "unknownMacro/CWE-unknown",
          "CopyMemory",
          "LoadLibrary",
          "MultiByteToWideChar",
          "TCHAR",
          "_tcslen",
          "access",
          "arrayIndexOutOfBounds",
          "assignBoolToPointer",
          "atoi",
          "atol",
          "autoVariables",
          "bcopy",
          "bufferAccessOutOfBounds",
          "char",
          "chmod",
          "chown",
          "chroot",
          "comparePointers",
          "cppcheckError",
          "crypt",
          "ctuArrayIndex",
          "ctunullpointer",
          "ctuuninitvar",
          "danglingLifetime",
          "danglingTemporaryLifetime",
          "doubleFree",
          "equal",
          "execl",
          "execle",
          "execlp",
          "execv",
          "execvp",
          "fgetc",
          "fopen",
          "fprintf",
          "fscanf",
          "getc",
          "getchar",
          "getenv",
          "getlogin",
          "getopt",
          "getopt_long",
          "getpass",
          "gets",
          "integerOverflow",
          "internalAstError",
          "invalidFunctionArg",
          "invalidLifetime",
          "jrand48",
          "leakReturnValNotUsed",
          "legacyUninitvar",
          "memalign",
          "memcpy",
          "memleak",
          "memleakOnRealloc",
          "mismatch",
          "mismatchAllocDealloc",
          "missingReturn",
          "mkstemp",
          "mktemp",
          "negativeIndex",
          "nullPointer",
          "nullPointerArithmetic",
          "objectIndex",
          "open",
          "overlappingWriteFunction",
          "overlappingWriteUnion",
          "popen",
          "preprocessorErrorDirective",
          "printf",
          "random",
          "read",
          "readlink",
          "realpath",
          "resourceLeak",
          "returnDanglingLifetime",
          "scanf",
          "setstate",
          "shiftNegative",
          "shiftTooManyBits",
          "snprintf",
          "sprintf",
          "srand",
          "srandom",
          "sscanf",
          "strcat",
          "strcpy",
          "strlen",
          "strncat",
          "strncpy",
          "syntaxError",
          "syslog",
          "system",
          "tmpfile",
          "ulimit",
          "umask",
          "uninitStructMember",
          "uninitdata",
          "uninitvar",
          "unknownEvaluationOrder",
          "unknownMacro",
          "usleep",
          "va_end_missing",
          "va_list_usedBeforeStarted",
          "vfork",
          "vfprintf",
          "vfscanf",
          "vprintf",
          "vscanf",
          "vsnprintf",
          "vsprintf",
          "vsscanf",
          "wchar_t",
          "wrongPrintfScanfArgNum",
          "zerodiv"
         ],
         "labels": [
          "CWE-119!/CWE-120",
          "CWE-119!/CWE-120",
          "CWE-119!/CWE-120",
          "CWE-120",
          "CWE-120",
          "CWE-120",
          "CWE-120",
          "CWE-120",
          "CWE-120",
          "CWE-120",
          "CWE-120",
          "CWE-120",
          "CWE-120",
          "CWE-120",
          "CWE-120",
          "CWE-120, CWE-20",
          "CWE-120, CWE-20",
          "CWE-120, CWE-20",
          "CWE-120, CWE-20",
          "CWE-120, CWE-20",
          "CWE-120, CWE-20",
          "CWE-120, CWE-20",
          "CWE-120, CWE-20",
          "CWE-120, CWE-20",
          "CWE-120, CWE-20",
          "CWE-120, CWE-20",
          "CWE-120, CWE-20",
          "CWE-120, CWE-20",
          "CWE-120/CWE-785!",
          "CWE-126",
          "CWE-126",
          "CWE-126",
          "CWE-126",
          "CWE-134",
          "CWE-134",
          "CWE-134",
          "CWE-134",
          "CWE-134",
          "CWE-134",
          "CWE-134",
          "CWE-134",
          "CWE-134",
          "CWE-190",
          "CWE-190",
          "CWE-190",
          "CWE-250, CWE-22",
          "CWE-327",
          "CWE-327",
          "CWE-327",
          "CWE-327",
          "CWE-327",
          "CWE-327",
          "CWE-362",
          "CWE-362",
          "CWE-362",
          "CWE-362",
          "CWE-362",
          "CWE-362, CWE-20",
          "CWE-362/CWE-367!",
          "CWE-369",
          "CWE-377",
          "CWE-377",
          "CWE-377",
          "CWE-401",
          "CWE-401",
          "CWE-415",
          "CWE-457",
          "CWE-457",
          "CWE-457",
          "CWE-457",
          "CWE-457",
          "CWE-476",
          "CWE-476",
          "CWE-562",
          "CWE-562",
          "CWE-562",
          "CWE-562",
          "CWE-562",
          "CWE-570",
          "CWE-587",
          "CWE-628",
          "CWE-664",
          "CWE-664",
          "CWE-676",
          "CWE-676",
          "CWE-676",
          "CWE-676, CWE-120, CWE-20",
          "CWE-682",
          "CWE-685",
          "CWE-732",
          "CWE-758",
          "CWE-758",
          "CWE-758",
          "CWE-758",
          "CWE-762",
          "CWE-768",
          "CWE-771",
          "CWE-775",
          "CWE-78",
          "CWE-78",
          "CWE-78",
          "CWE-78",
          "CWE-78",
          "CWE-78",
          "CWE-78",
          "CWE-786",
          "CWE-786",
          "CWE-788",
          "CWE-788",
          "CWE-788",
          "CWE-807",
          "CWE-807, CWE-20",
          "CWE-829, CWE-20",
          "CWE-unknown",
          "CWE-unknown",
          "CWE-unknown",
          "CWE-unknown",
          "CWE-unknown",
          "CWE-unknown",
          "CWE-unknown",
          "CopyMemory",
          "LoadLibrary",
          "MultiByteToWideChar",
          "TCHAR",
          "_tcslen",
          "access",
          "arrayIndexOutOfBounds",
          "assignBoolToPointer",
          "atoi",
          "atol",
          "autoVariables",
          "bcopy",
          "bufferAccessOutOfBounds",
          "char",
          "chmod",
          "chown",
          "chroot",
          "comparePointers",
          "cppcheckError",
          "crypt",
          "ctuArrayIndex",
          "ctunullpointer",
          "ctuuninitvar",
          "danglingLifetime",
          "danglingTemporaryLifetime",
          "doubleFree",
          "equal",
          "execl",
          "execle",
          "execlp",
          "execv",
          "execvp",
          "fgetc",
          "fopen",
          "fprintf",
          "fscanf",
          "getc",
          "getchar",
          "getenv",
          "getlogin",
          "getopt",
          "getopt_long",
          "getpass",
          "gets",
          "integerOverflow",
          "internalAstError",
          "invalidFunctionArg",
          "invalidLifetime",
          "jrand48",
          "leakReturnValNotUsed",
          "legacyUninitvar",
          "memalign",
          "memcpy",
          "memleak",
          "memleakOnRealloc",
          "mismatch",
          "mismatchAllocDealloc",
          "missingReturn",
          "mkstemp",
          "mktemp",
          "negativeIndex",
          "nullPointer",
          "nullPointerArithmetic",
          "objectIndex",
          "open",
          "overlappingWriteFunction",
          "overlappingWriteUnion",
          "popen",
          "preprocessorErrorDirective",
          "printf",
          "random",
          "read",
          "readlink",
          "realpath",
          "resourceLeak",
          "returnDanglingLifetime",
          "scanf",
          "setstate",
          "shiftNegative",
          "shiftTooManyBits",
          "snprintf",
          "sprintf",
          "srand",
          "srandom",
          "sscanf",
          "strcat",
          "strcpy",
          "strlen",
          "strncat",
          "strncpy",
          "syntaxError",
          "syslog",
          "system",
          "tmpfile",
          "ulimit",
          "umask",
          "uninitStructMember",
          "uninitdata",
          "uninitvar",
          "unknownEvaluationOrder",
          "unknownMacro",
          "usleep",
          "va_end_missing",
          "va_list_usedBeforeStarted",
          "vfork",
          "vfprintf",
          "vfscanf",
          "vprintf",
          "vscanf",
          "vsnprintf",
          "vsprintf",
          "vsscanf",
          "wchar_t",
          "wrongPrintfScanfArgNum",
          "zerodiv"
         ],
         "marker": {
          "coloraxis": "coloraxis",
          "colors": [
           10,
           16396,
           2,
           2,
           2,
           3,
           4,
           21153,
           6036,
           20,
           571,
           2188,
           107,
           866,
           1,
           31,
           6,
           23,
           20,
           14,
           21,
           8,
           2087,
           9,
           23,
           3,
           3,
           8,
           55,
           1,
           27,
           37,
           4565,
           142,
           891,
           182,
           188,
           12,
           60,
           24,
           163,
           27,
           813,
           55,
           1435,
           3,
           189,
           2,
           166,
           4,
           49,
           9,
           6,
           5,
           492,
           1282,
           9,
           27,
           598,
           13,
           22,
           1,
           21,
           15,
           12,
           3,
           70,
           96,
           12,
           6,
           1464,
           45,
           221,
           26,
           9,
           73,
           11,
           7,
           431,
           1,
           6,
           7,
           2,
           12,
           4,
           114,
           1,
           32,
           14,
           50,
           9,
           14,
           1,
           22,
           6,
           3,
           1,
           9,
           10,
           1,
           11,
           6,
           11,
           22,
           255,
           8,
           10,
           70,
           3,
           3,
           2,
           124,
           3,
           4,
           23,
           4,
           15,
           18,
           170,
           361,
           2,
           3,
           2,
           10,
           1,
           598,
           70,
           1,
           813,
           55,
           26,
           3,
           3,
           16396,
           6,
           5,
           3,
           431,
           4,
           189,
           6.636363636363637,
           45,
           70,
           9,
           73,
           3,
           27,
           10,
           1,
           11,
           6,
           11,
           31,
           492,
           142,
           5.2,
           23,
           20,
           124,
           2,
           14,
           21,
           1,
           8,
           1435,
           23,
           6,
           11,
           2,
           1,
           96,
           12,
           21153,
           15,
           12,
           37,
           6,
           9,
           22,
           1,
           10,
           221,
           32,
           14,
           1282,
           4,
           15,
           22,
           18,
           891,
           166,
           2087,
           27,
           55,
           9,
           7,
           9,
           4,
           1,
           22,
           182,
           5859.357326478149,
           49,
           9,
           21.6046511627907,
           571,
           2188,
           4565,
           107,
           866,
           170,
           12,
           255,
           21,
           4,
           50,
           12,
           6,
           1464,
           3,
           361,
           114,
           7,
           2,
           9,
           60,
           3,
           24,
           3,
           163,
           26.071428571428573,
           8,
           2,
           14,
           13
          ]
         },
         "name": "",
         "parents": [
          "TCHAR",
          "char",
          "wchar_t",
          "CopyMemory",
          "MultiByteToWideChar",
          "bcopy",
          "fscanf",
          "memcpy",
          "sprintf",
          "sscanf",
          "strcat",
          "strcpy",
          "strncat",
          "strncpy",
          "vsprintf",
          "fgetc",
          "fscanf",
          "getc",
          "getchar",
          "getopt",
          "getopt_long",
          "gets",
          "read",
          "scanf",
          "sscanf",
          "vfscanf",
          "vscanf",
          "vsscanf",
          "realpath",
          "_tcslen",
          "equal",
          "mismatch",
          "strlen",
          "fprintf",
          "printf",
          "snprintf",
          "sprintf",
          "syslog",
          "vfprintf",
          "vprintf",
          "vsnprintf",
          "vsprintf",
          "atoi",
          "atol",
          "integerOverflow",
          "chroot",
          "crypt",
          "jrand48",
          "random",
          "setstate",
          "srand",
          "srandom",
          "chmod",
          "chown",
          "fopen",
          "open",
          "vfork",
          "readlink",
          "access",
          "zerodiv",
          "mkstemp",
          "mktemp",
          "tmpfile",
          "memleak",
          "memleakOnRealloc",
          "doubleFree",
          "ctuuninitvar",
          "legacyUninitvar",
          "uninitStructMember",
          "uninitdata",
          "uninitvar",
          "ctunullpointer",
          "nullPointer",
          "autoVariables",
          "danglingLifetime",
          "danglingTemporaryLifetime",
          "invalidLifetime",
          "returnDanglingLifetime",
          "comparePointers",
          "assignBoolToPointer",
          "invalidFunctionArg",
          "va_end_missing",
          "va_list_usedBeforeStarted",
          "memalign",
          "ulimit",
          "usleep",
          "getpass",
          "nullPointerArithmetic",
          "wrongPrintfScanfArgNum",
          "umask",
          "missingReturn",
          "objectIndex",
          "shiftNegative",
          "shiftTooManyBits",
          "mismatchAllocDealloc",
          "unknownEvaluationOrder",
          "leakReturnValNotUsed",
          "resourceLeak",
          "execl",
          "execle",
          "execlp",
          "execv",
          "execvp",
          "popen",
          "system",
          "ctuArrayIndex",
          "negativeIndex",
          "arrayIndexOutOfBounds",
          "bufferAccessOutOfBounds",
          "ctuArrayIndex",
          "getlogin",
          "getenv",
          "LoadLibrary",
          "cppcheckError",
          "internalAstError",
          "overlappingWriteFunction",
          "overlappingWriteUnion",
          "preprocessorErrorDirective",
          "syntaxError",
          "unknownMacro",
          "",
          "",
          "",
          "",
          "",
          "",
          "",
          "",
          "",
          "",
          "",
          "",
          "",
          "",
          "",
          "",
          "",
          "",
          "",
          "",
          "",
          "",
          "",
          "",
          "",
          "",
          "",
          "",
          "",
          "",
          "",
          "",
          "",
          "",
          "",
          "",
          "",
          "",
          "",
          "",
          "",
          "",
          "",
          "",
          "",
          "",
          "",
          "",
          "",
          "",
          "",
          "",
          "",
          "",
          "",
          "",
          "",
          "",
          "",
          "",
          "",
          "",
          "",
          "",
          "",
          "",
          "",
          "",
          "",
          "",
          "",
          "",
          "",
          "",
          "",
          "",
          "",
          "",
          "",
          "",
          "",
          "",
          "",
          "",
          "",
          "",
          "",
          "",
          "",
          "",
          "",
          "",
          "",
          "",
          "",
          "",
          "",
          "",
          "",
          "",
          "",
          "",
          "",
          "",
          "",
          "",
          "",
          "",
          "",
          "",
          "",
          "",
          "",
          "",
          ""
         ],
         "type": "sunburst",
         "values": [
          10,
          16396,
          2,
          2,
          2,
          3,
          4,
          21153,
          6036,
          20,
          571,
          2188,
          107,
          866,
          1,
          31,
          6,
          23,
          20,
          14,
          21,
          8,
          2087,
          9,
          23,
          3,
          3,
          8,
          55,
          1,
          27,
          37,
          4565,
          142,
          891,
          182,
          188,
          12,
          60,
          24,
          163,
          27,
          813,
          55,
          1435,
          3,
          189,
          2,
          166,
          4,
          49,
          9,
          6,
          5,
          492,
          1282,
          9,
          27,
          598,
          13,
          22,
          1,
          21,
          15,
          12,
          3,
          70,
          96,
          12,
          6,
          1464,
          45,
          221,
          26,
          9,
          73,
          11,
          7,
          431,
          1,
          6,
          7,
          2,
          12,
          4,
          114,
          1,
          32,
          14,
          50,
          9,
          14,
          1,
          22,
          6,
          3,
          1,
          9,
          10,
          1,
          11,
          6,
          11,
          22,
          255,
          8,
          10,
          70,
          3,
          3,
          2,
          124,
          3,
          4,
          23,
          4,
          15,
          18,
          170,
          361,
          2,
          3,
          2,
          10,
          1,
          598,
          70,
          1,
          813,
          55,
          26,
          3,
          3,
          16396,
          6,
          5,
          3,
          431,
          4,
          189,
          11,
          45,
          70,
          9,
          73,
          3,
          27,
          10,
          1,
          11,
          6,
          11,
          31,
          492,
          142,
          10,
          23,
          20,
          124,
          2,
          14,
          21,
          1,
          8,
          1435,
          23,
          6,
          11,
          2,
          1,
          96,
          12,
          21153,
          15,
          12,
          37,
          6,
          9,
          22,
          1,
          10,
          221,
          32,
          14,
          1282,
          4,
          15,
          22,
          18,
          891,
          166,
          2087,
          27,
          55,
          9,
          7,
          9,
          4,
          1,
          22,
          182,
          6224,
          49,
          9,
          43,
          571,
          2188,
          4565,
          107,
          866,
          170,
          12,
          255,
          21,
          4,
          50,
          12,
          6,
          1464,
          3,
          361,
          114,
          7,
          2,
          9,
          60,
          3,
          24,
          3,
          163,
          28,
          8,
          2,
          14,
          13
         ]
        }
       ],
       "layout": {
        "autosize": false,
        "coloraxis": {
         "colorbar": {
          "title": {
           "text": "count"
          }
         },
         "colorscale": [
          [
           0,
           "rgb(247,251,255)"
          ],
          [
           0.125,
           "rgb(222,235,247)"
          ],
          [
           0.25,
           "rgb(198,219,239)"
          ],
          [
           0.375,
           "rgb(158,202,225)"
          ],
          [
           0.5,
           "rgb(107,174,214)"
          ],
          [
           0.625,
           "rgb(66,146,198)"
          ],
          [
           0.75,
           "rgb(33,113,181)"
          ],
          [
           0.875,
           "rgb(8,81,156)"
          ],
          [
           1,
           "rgb(8,48,107)"
          ]
         ]
        },
        "height": 800,
        "legend": {
         "tracegroupgap": 0
        },
        "margin": {
         "t": 60
        },
        "template": {
         "data": {
          "bar": [
           {
            "error_x": {
             "color": "#2a3f5f"
            },
            "error_y": {
             "color": "#2a3f5f"
            },
            "marker": {
             "line": {
              "color": "#E5ECF6",
              "width": 0.5
             },
             "pattern": {
              "fillmode": "overlay",
              "size": 10,
              "solidity": 0.2
             }
            },
            "type": "bar"
           }
          ],
          "barpolar": [
           {
            "marker": {
             "line": {
              "color": "#E5ECF6",
              "width": 0.5
             },
             "pattern": {
              "fillmode": "overlay",
              "size": 10,
              "solidity": 0.2
             }
            },
            "type": "barpolar"
           }
          ],
          "carpet": [
           {
            "aaxis": {
             "endlinecolor": "#2a3f5f",
             "gridcolor": "white",
             "linecolor": "white",
             "minorgridcolor": "white",
             "startlinecolor": "#2a3f5f"
            },
            "baxis": {
             "endlinecolor": "#2a3f5f",
             "gridcolor": "white",
             "linecolor": "white",
             "minorgridcolor": "white",
             "startlinecolor": "#2a3f5f"
            },
            "type": "carpet"
           }
          ],
          "choropleth": [
           {
            "colorbar": {
             "outlinewidth": 0,
             "ticks": ""
            },
            "type": "choropleth"
           }
          ],
          "contour": [
           {
            "colorbar": {
             "outlinewidth": 0,
             "ticks": ""
            },
            "colorscale": [
             [
              0,
              "#0d0887"
             ],
             [
              0.1111111111111111,
              "#46039f"
             ],
             [
              0.2222222222222222,
              "#7201a8"
             ],
             [
              0.3333333333333333,
              "#9c179e"
             ],
             [
              0.4444444444444444,
              "#bd3786"
             ],
             [
              0.5555555555555556,
              "#d8576b"
             ],
             [
              0.6666666666666666,
              "#ed7953"
             ],
             [
              0.7777777777777778,
              "#fb9f3a"
             ],
             [
              0.8888888888888888,
              "#fdca26"
             ],
             [
              1,
              "#f0f921"
             ]
            ],
            "type": "contour"
           }
          ],
          "contourcarpet": [
           {
            "colorbar": {
             "outlinewidth": 0,
             "ticks": ""
            },
            "type": "contourcarpet"
           }
          ],
          "heatmap": [
           {
            "colorbar": {
             "outlinewidth": 0,
             "ticks": ""
            },
            "colorscale": [
             [
              0,
              "#0d0887"
             ],
             [
              0.1111111111111111,
              "#46039f"
             ],
             [
              0.2222222222222222,
              "#7201a8"
             ],
             [
              0.3333333333333333,
              "#9c179e"
             ],
             [
              0.4444444444444444,
              "#bd3786"
             ],
             [
              0.5555555555555556,
              "#d8576b"
             ],
             [
              0.6666666666666666,
              "#ed7953"
             ],
             [
              0.7777777777777778,
              "#fb9f3a"
             ],
             [
              0.8888888888888888,
              "#fdca26"
             ],
             [
              1,
              "#f0f921"
             ]
            ],
            "type": "heatmap"
           }
          ],
          "heatmapgl": [
           {
            "colorbar": {
             "outlinewidth": 0,
             "ticks": ""
            },
            "colorscale": [
             [
              0,
              "#0d0887"
             ],
             [
              0.1111111111111111,
              "#46039f"
             ],
             [
              0.2222222222222222,
              "#7201a8"
             ],
             [
              0.3333333333333333,
              "#9c179e"
             ],
             [
              0.4444444444444444,
              "#bd3786"
             ],
             [
              0.5555555555555556,
              "#d8576b"
             ],
             [
              0.6666666666666666,
              "#ed7953"
             ],
             [
              0.7777777777777778,
              "#fb9f3a"
             ],
             [
              0.8888888888888888,
              "#fdca26"
             ],
             [
              1,
              "#f0f921"
             ]
            ],
            "type": "heatmapgl"
           }
          ],
          "histogram": [
           {
            "marker": {
             "pattern": {
              "fillmode": "overlay",
              "size": 10,
              "solidity": 0.2
             }
            },
            "type": "histogram"
           }
          ],
          "histogram2d": [
           {
            "colorbar": {
             "outlinewidth": 0,
             "ticks": ""
            },
            "colorscale": [
             [
              0,
              "#0d0887"
             ],
             [
              0.1111111111111111,
              "#46039f"
             ],
             [
              0.2222222222222222,
              "#7201a8"
             ],
             [
              0.3333333333333333,
              "#9c179e"
             ],
             [
              0.4444444444444444,
              "#bd3786"
             ],
             [
              0.5555555555555556,
              "#d8576b"
             ],
             [
              0.6666666666666666,
              "#ed7953"
             ],
             [
              0.7777777777777778,
              "#fb9f3a"
             ],
             [
              0.8888888888888888,
              "#fdca26"
             ],
             [
              1,
              "#f0f921"
             ]
            ],
            "type": "histogram2d"
           }
          ],
          "histogram2dcontour": [
           {
            "colorbar": {
             "outlinewidth": 0,
             "ticks": ""
            },
            "colorscale": [
             [
              0,
              "#0d0887"
             ],
             [
              0.1111111111111111,
              "#46039f"
             ],
             [
              0.2222222222222222,
              "#7201a8"
             ],
             [
              0.3333333333333333,
              "#9c179e"
             ],
             [
              0.4444444444444444,
              "#bd3786"
             ],
             [
              0.5555555555555556,
              "#d8576b"
             ],
             [
              0.6666666666666666,
              "#ed7953"
             ],
             [
              0.7777777777777778,
              "#fb9f3a"
             ],
             [
              0.8888888888888888,
              "#fdca26"
             ],
             [
              1,
              "#f0f921"
             ]
            ],
            "type": "histogram2dcontour"
           }
          ],
          "mesh3d": [
           {
            "colorbar": {
             "outlinewidth": 0,
             "ticks": ""
            },
            "type": "mesh3d"
           }
          ],
          "parcoords": [
           {
            "line": {
             "colorbar": {
              "outlinewidth": 0,
              "ticks": ""
             }
            },
            "type": "parcoords"
           }
          ],
          "pie": [
           {
            "automargin": true,
            "type": "pie"
           }
          ],
          "scatter": [
           {
            "fillpattern": {
             "fillmode": "overlay",
             "size": 10,
             "solidity": 0.2
            },
            "type": "scatter"
           }
          ],
          "scatter3d": [
           {
            "line": {
             "colorbar": {
              "outlinewidth": 0,
              "ticks": ""
             }
            },
            "marker": {
             "colorbar": {
              "outlinewidth": 0,
              "ticks": ""
             }
            },
            "type": "scatter3d"
           }
          ],
          "scattercarpet": [
           {
            "marker": {
             "colorbar": {
              "outlinewidth": 0,
              "ticks": ""
             }
            },
            "type": "scattercarpet"
           }
          ],
          "scattergeo": [
           {
            "marker": {
             "colorbar": {
              "outlinewidth": 0,
              "ticks": ""
             }
            },
            "type": "scattergeo"
           }
          ],
          "scattergl": [
           {
            "marker": {
             "colorbar": {
              "outlinewidth": 0,
              "ticks": ""
             }
            },
            "type": "scattergl"
           }
          ],
          "scattermapbox": [
           {
            "marker": {
             "colorbar": {
              "outlinewidth": 0,
              "ticks": ""
             }
            },
            "type": "scattermapbox"
           }
          ],
          "scatterpolar": [
           {
            "marker": {
             "colorbar": {
              "outlinewidth": 0,
              "ticks": ""
             }
            },
            "type": "scatterpolar"
           }
          ],
          "scatterpolargl": [
           {
            "marker": {
             "colorbar": {
              "outlinewidth": 0,
              "ticks": ""
             }
            },
            "type": "scatterpolargl"
           }
          ],
          "scatterternary": [
           {
            "marker": {
             "colorbar": {
              "outlinewidth": 0,
              "ticks": ""
             }
            },
            "type": "scatterternary"
           }
          ],
          "surface": [
           {
            "colorbar": {
             "outlinewidth": 0,
             "ticks": ""
            },
            "colorscale": [
             [
              0,
              "#0d0887"
             ],
             [
              0.1111111111111111,
              "#46039f"
             ],
             [
              0.2222222222222222,
              "#7201a8"
             ],
             [
              0.3333333333333333,
              "#9c179e"
             ],
             [
              0.4444444444444444,
              "#bd3786"
             ],
             [
              0.5555555555555556,
              "#d8576b"
             ],
             [
              0.6666666666666666,
              "#ed7953"
             ],
             [
              0.7777777777777778,
              "#fb9f3a"
             ],
             [
              0.8888888888888888,
              "#fdca26"
             ],
             [
              1,
              "#f0f921"
             ]
            ],
            "type": "surface"
           }
          ],
          "table": [
           {
            "cells": {
             "fill": {
              "color": "#EBF0F8"
             },
             "line": {
              "color": "white"
             }
            },
            "header": {
             "fill": {
              "color": "#C8D4E3"
             },
             "line": {
              "color": "white"
             }
            },
            "type": "table"
           }
          ]
         },
         "layout": {
          "annotationdefaults": {
           "arrowcolor": "#2a3f5f",
           "arrowhead": 0,
           "arrowwidth": 1
          },
          "autotypenumbers": "strict",
          "coloraxis": {
           "colorbar": {
            "outlinewidth": 0,
            "ticks": ""
           }
          },
          "colorscale": {
           "diverging": [
            [
             0,
             "#8e0152"
            ],
            [
             0.1,
             "#c51b7d"
            ],
            [
             0.2,
             "#de77ae"
            ],
            [
             0.3,
             "#f1b6da"
            ],
            [
             0.4,
             "#fde0ef"
            ],
            [
             0.5,
             "#f7f7f7"
            ],
            [
             0.6,
             "#e6f5d0"
            ],
            [
             0.7,
             "#b8e186"
            ],
            [
             0.8,
             "#7fbc41"
            ],
            [
             0.9,
             "#4d9221"
            ],
            [
             1,
             "#276419"
            ]
           ],
           "sequential": [
            [
             0,
             "#0d0887"
            ],
            [
             0.1111111111111111,
             "#46039f"
            ],
            [
             0.2222222222222222,
             "#7201a8"
            ],
            [
             0.3333333333333333,
             "#9c179e"
            ],
            [
             0.4444444444444444,
             "#bd3786"
            ],
            [
             0.5555555555555556,
             "#d8576b"
            ],
            [
             0.6666666666666666,
             "#ed7953"
            ],
            [
             0.7777777777777778,
             "#fb9f3a"
            ],
            [
             0.8888888888888888,
             "#fdca26"
            ],
            [
             1,
             "#f0f921"
            ]
           ],
           "sequentialminus": [
            [
             0,
             "#0d0887"
            ],
            [
             0.1111111111111111,
             "#46039f"
            ],
            [
             0.2222222222222222,
             "#7201a8"
            ],
            [
             0.3333333333333333,
             "#9c179e"
            ],
            [
             0.4444444444444444,
             "#bd3786"
            ],
            [
             0.5555555555555556,
             "#d8576b"
            ],
            [
             0.6666666666666666,
             "#ed7953"
            ],
            [
             0.7777777777777778,
             "#fb9f3a"
            ],
            [
             0.8888888888888888,
             "#fdca26"
            ],
            [
             1,
             "#f0f921"
            ]
           ]
          },
          "colorway": [
           "#636efa",
           "#EF553B",
           "#00cc96",
           "#ab63fa",
           "#FFA15A",
           "#19d3f3",
           "#FF6692",
           "#B6E880",
           "#FF97FF",
           "#FECB52"
          ],
          "font": {
           "color": "#2a3f5f"
          },
          "geo": {
           "bgcolor": "white",
           "lakecolor": "white",
           "landcolor": "#E5ECF6",
           "showlakes": true,
           "showland": true,
           "subunitcolor": "white"
          },
          "hoverlabel": {
           "align": "left"
          },
          "hovermode": "closest",
          "mapbox": {
           "style": "light"
          },
          "paper_bgcolor": "white",
          "plot_bgcolor": "#E5ECF6",
          "polar": {
           "angularaxis": {
            "gridcolor": "white",
            "linecolor": "white",
            "ticks": ""
           },
           "bgcolor": "#E5ECF6",
           "radialaxis": {
            "gridcolor": "white",
            "linecolor": "white",
            "ticks": ""
           }
          },
          "scene": {
           "xaxis": {
            "backgroundcolor": "#E5ECF6",
            "gridcolor": "white",
            "gridwidth": 2,
            "linecolor": "white",
            "showbackground": true,
            "ticks": "",
            "zerolinecolor": "white"
           },
           "yaxis": {
            "backgroundcolor": "#E5ECF6",
            "gridcolor": "white",
            "gridwidth": 2,
            "linecolor": "white",
            "showbackground": true,
            "ticks": "",
            "zerolinecolor": "white"
           },
           "zaxis": {
            "backgroundcolor": "#E5ECF6",
            "gridcolor": "white",
            "gridwidth": 2,
            "linecolor": "white",
            "showbackground": true,
            "ticks": "",
            "zerolinecolor": "white"
           }
          },
          "shapedefaults": {
           "line": {
            "color": "#2a3f5f"
           }
          },
          "ternary": {
           "aaxis": {
            "gridcolor": "white",
            "linecolor": "white",
            "ticks": ""
           },
           "baxis": {
            "gridcolor": "white",
            "linecolor": "white",
            "ticks": ""
           },
           "bgcolor": "#E5ECF6",
           "caxis": {
            "gridcolor": "white",
            "linecolor": "white",
            "ticks": ""
           }
          },
          "title": {
           "x": 0.05
          },
          "xaxis": {
           "automargin": true,
           "gridcolor": "white",
           "linecolor": "white",
           "ticks": "",
           "title": {
            "standoff": 15
           },
           "zerolinecolor": "white",
           "zerolinewidth": 2
          },
          "yaxis": {
           "automargin": true,
           "gridcolor": "white",
           "linecolor": "white",
           "ticks": "",
           "title": {
            "standoff": 15
           },
           "zerolinecolor": "white",
           "zerolinewidth": 2
          }
         }
        },
        "width": 800
       }
      }
     },
     "metadata": {},
     "output_type": "display_data"
    }
   ],
   "source": [
    "dfplt = dfs[['category', 'name', 'cwe']].groupby(['category', 'name', 'cwe'], group_keys=False).size().reset_index(name='count')\n",
    "\n",
    "dfplt['category'] = dfplt.apply(lambda row: row['category'] \n",
    "if row['category']==row['name'] or row['name']=='-' \n",
    "else row['name'], axis=1)\n",
    "dfplt = dfplt.drop(labels=['name'], axis=1)\n",
    "\n",
    "fig = px.sunburst(dfplt, \n",
    "    path=['category', 'cwe'],\n",
    "    values='count', \n",
    "    color_continuous_scale='Blues',\n",
    "    color='count',\n",
    ")\n",
    "# fig.write_image(\"figure/vul_statistics.pdf\")\n",
    "# fig.update_traces(hovertemplate='%{label}<br>%{customdata}')\n",
    "fig.update_layout(\n",
    "    autosize=False,\n",
    "    width=800,\n",
    "    height=800,)\n",
    "fig.show()\n",
    "# save the figure manually, the below code takes ages\n",
    "# fig.write_image(\"../figure/vul_statistics.pdf\")"
   ]
  },
  {
   "cell_type": "code",
   "execution_count": null,
   "metadata": {},
   "outputs": [],
   "source": [
    "fig.write_image(\"../figure/vul_statistics.pdf\")"
   ]
  },
  {
   "cell_type": "code",
   "execution_count": null,
   "metadata": {},
   "outputs": [
    {
     "data": {
      "text/html": [
       "<div>\n",
       "<style scoped>\n",
       "    .dataframe tbody tr th:only-of-type {\n",
       "        vertical-align: middle;\n",
       "    }\n",
       "\n",
       "    .dataframe tbody tr th {\n",
       "        vertical-align: top;\n",
       "    }\n",
       "\n",
       "    .dataframe thead th {\n",
       "        text-align: right;\n",
       "    }\n",
       "</style>\n",
       "<table border=\"1\" class=\"dataframe\">\n",
       "  <thead>\n",
       "    <tr style=\"text-align: right;\">\n",
       "      <th></th>\n",
       "      <th>category</th>\n",
       "      <th>cwe</th>\n",
       "      <th>count</th>\n",
       "    </tr>\n",
       "  </thead>\n",
       "  <tbody>\n",
       "    <tr>\n",
       "      <th>61</th>\n",
       "      <td>memcpy</td>\n",
       "      <td>CWE-120</td>\n",
       "      <td>21153</td>\n",
       "    </tr>\n",
       "    <tr>\n",
       "      <th>50</th>\n",
       "      <td>char</td>\n",
       "      <td>CWE-119!/CWE-120</td>\n",
       "      <td>16396</td>\n",
       "    </tr>\n",
       "    <tr>\n",
       "      <th>66</th>\n",
       "      <td>sprintf</td>\n",
       "      <td>CWE-120</td>\n",
       "      <td>6036</td>\n",
       "    </tr>\n",
       "    <tr>\n",
       "      <th>71</th>\n",
       "      <td>strlen</td>\n",
       "      <td>CWE-126</td>\n",
       "      <td>4565</td>\n",
       "    </tr>\n",
       "    <tr>\n",
       "      <th>70</th>\n",
       "      <td>strcpy</td>\n",
       "      <td>CWE-120</td>\n",
       "      <td>2188</td>\n",
       "    </tr>\n",
       "    <tr>\n",
       "      <th>63</th>\n",
       "      <td>read</td>\n",
       "      <td>CWE-120, CWE-20</td>\n",
       "      <td>2087</td>\n",
       "    </tr>\n",
       "    <tr>\n",
       "      <th>37</th>\n",
       "      <td>uninitvar</td>\n",
       "      <td>CWE-457</td>\n",
       "      <td>1464</td>\n",
       "    </tr>\n",
       "    <tr>\n",
       "      <th>13</th>\n",
       "      <td>integerOverflow</td>\n",
       "      <td>CWE-190</td>\n",
       "      <td>1435</td>\n",
       "    </tr>\n",
       "    <tr>\n",
       "      <th>97</th>\n",
       "      <td>open</td>\n",
       "      <td>CWE-362</td>\n",
       "      <td>1282</td>\n",
       "    </tr>\n",
       "    <tr>\n",
       "      <th>81</th>\n",
       "      <td>printf</td>\n",
       "      <td>CWE-134</td>\n",
       "      <td>891</td>\n",
       "    </tr>\n",
       "  </tbody>\n",
       "</table>\n",
       "</div>"
      ],
      "text/plain": [
       "           category               cwe  count\n",
       "61           memcpy           CWE-120  21153\n",
       "50             char  CWE-119!/CWE-120  16396\n",
       "66          sprintf           CWE-120   6036\n",
       "71           strlen           CWE-126   4565\n",
       "70           strcpy           CWE-120   2188\n",
       "63             read   CWE-120, CWE-20   2087\n",
       "37        uninitvar           CWE-457   1464\n",
       "13  integerOverflow           CWE-190   1435\n",
       "97             open           CWE-362   1282\n",
       "81           printf           CWE-134    891"
      ]
     },
     "execution_count": 51,
     "metadata": {},
     "output_type": "execute_result"
    }
   ],
   "source": [
    "dfplt.sort_values(by=['count'], ascending=False).head(10)"
   ]
  },
  {
   "attachments": {},
   "cell_type": "markdown",
   "metadata": {},
   "source": [
    "# Top 10 vulnerabilities"
   ]
  },
  {
   "cell_type": "code",
   "execution_count": null,
   "metadata": {},
   "outputs": [
    {
     "name": "stdout",
     "output_type": "stream",
     "text": [
      "+----+-----------------+------------------+---------+\n",
      "|    | category        | cwe              |   count |\n",
      "|----+-----------------+------------------+---------|\n",
      "|  0 | memcpy          | CWE-120          |   21153 |\n",
      "|  1 | char            | CWE-119!/CWE-120 |   16396 |\n",
      "|  2 | sprintf         | CWE-120          |    6036 |\n",
      "|  3 | strlen          | CWE-126          |    4565 |\n",
      "|  4 | strcpy          | CWE-120          |    2188 |\n",
      "|  5 | read            | CWE-120, CWE-20  |    2087 |\n",
      "|  6 | uninitvar       | CWE-457          |    1464 |\n",
      "|  7 | integerOverflow | CWE-190          |    1435 |\n",
      "|  8 | open            | CWE-362          |    1282 |\n",
      "|  9 | printf          | CWE-134          |     891 |\n",
      "+----+-----------------+------------------+---------+\n"
     ]
    }
   ],
   "source": [
    "df_top10 = dfplt.sort_values(by=['count'], ascending=False).head(10).reset_index(drop=True)\n",
    "print(tabulate(df_top10, headers='keys', tablefmt='psql'))\n",
    "df_top10.to_latex(\"../result/top10.tex\", index=False, caption=\"Top 10 CWEs in IoT code\")"
   ]
  },
  {
   "cell_type": "code",
   "execution_count": null,
   "metadata": {},
   "outputs": [
    {
     "data": {
      "text/plain": [
       "<AxesSubplot: >"
      ]
     },
     "execution_count": 53,
     "metadata": {},
     "output_type": "execute_result"
    },
    {
     "data": {
      "image/png": "[encoded data removed]",
      "text/plain": [
       "<Figure size 640x480 with 1 Axes>"
      ]
     },
     "metadata": {},
     "output_type": "display_data"
    }
   ],
   "source": [
    "# dfs.context.head(200).str.len().plot(kind='bar')\n",
    "pd.Series(sorted(list(dfs.context.head(20).str.len()))).plot(kind='bar')"
   ]
  },
  {
   "cell_type": "code",
   "execution_count": null,
   "metadata": {},
   "outputs": [
    {
     "data": {
      "text/plain": [
       "[52, 23, 0, 66, 10]"
      ]
     },
     "execution_count": 55,
     "metadata": {},
     "output_type": "execute_result"
    }
   ],
   "source": [
    "def filter_unusual_statements(statements, min_len, max_len, df):\n",
    "    \"\"\"\" \n",
    "    # https://peps.python.org/pep-0007/\n",
    "    # https://www.python.org/dev/peps/pep-0007/ \n",
    "\n",
    "    \"\"\"\n",
    "    filtered_statements = []\n",
    "    for statement in statements:\n",
    "        if len(statement) >= min_len and len(statement) <= max_len:\n",
    "            filtered_statements.append(statement)\n",
    "   \n",
    "    # take size of the vul statements as basis\n",
    "    df = pd.Series(statements)   \n",
    "    df = df.str.len()\n",
    "    \n",
    "    stat_sizes =  list(df[df.between(max_len, min_len)].reset_index(drop=True))\n",
    "    \n",
    "    sample_size = 5 if len(stat_sizes)>5 else len(stat_sizes)-1\n",
    "    stat_sizes = random.sample(set(stat_sizes), sample_size)\n",
    "    return stat_sizes\n",
    "\n",
    "\n",
    "# standard variables:\n",
    "max_len = 151  #TODO: double check pep standards\n",
    "\n",
    "# TODO: check min_len as well, otherwise the below code unnessesarily checks one extra condition \n",
    "# because there is no any statement/fun with len below that. \n",
    "# for min_len (eg, 7 characters)\n",
    "min_len = dfs.context.str.len().sort_values(ascending=False).reset_index(drop=True).min()\n",
    "\n",
    "\n",
    "lines = dff.code[0].splitlines()\n",
    "stat_sizes = filter_unusual_statements(lines, max_len, min_len, dfs)\n",
    "stat_sizes"
   ]
  },
  {
   "cell_type": "markdown",
   "metadata": {},
   "source": [
    "## Frequency of the vulnerabilities and benign samples at \n",
    "    - statement-level \n",
    "    - function-level"
   ]
  },
  {
   "cell_type": "code",
   "execution_count": null,
   "metadata": {},
   "outputs": [],
   "source": [
    "# # for project-wise distribution\n",
    "# projects = list(dfs.project.unique())\n",
    "\n",
    "# for project in projects:\n",
    "#     print(project)\n",
    "#     df = dfs[dfs.project == project]\n",
    "#     print(df.shape)\n",
    "#     # print(df.cwe.value_counts())\n",
    "#     # print(df.category.value_counts())\n",
    "#     print('----------------------')"
   ]
  },
  {
   "attachments": {},
   "cell_type": "markdown",
   "metadata": {},
   "source": [
    "## Create a latex table from the statistics of projects"
   ]
  },
  {
   "cell_type": "code",
   "execution_count": null,
   "metadata": {},
   "outputs": [],
   "source": [
    "def save_latex(df, file):\n",
    "    \"\"\"\n",
    "    save the dataframe as latex table\n",
    "    \"\"\"\n",
    "    styler = df.style\n",
    "    # styler.applymap_index(lambda v: \"font-weight: bold;\", axis=\"index\")\n",
    "    styler.applymap_index(lambda v: \"font-weight: bold;\", axis=\"columns\")\n",
    "    res = styler.to_latex(convert_css=True, column_format='|l|l|r|')\n",
    "\n",
    "    with open(file, 'w') as f:\n",
    "        f.write(res)\n",
    "    return res\n",
    "\n",
    "# make class binary type benign/vulnerable\n",
    "dfs_binary = dfs.copy()\n",
    "dfs_binary.loc[dfs_binary.cwe!=\"Benign\", 'cwe'] = \"Vulnerable\"\n",
    "dfs_binary['project'] = dfs_binary.project.str.split('/').str[-1]\n",
    "\n",
    "prj_stat = dfs_binary.groupby(['project', 'cwe']).size().reset_index(name='count')\n",
    "prj_s = prj_stat.groupby(['project', 'cwe']).sum()\n",
    "\n",
    "res = tabulate(save_latex(prj_s, '../result/project_stat.tex'))"
   ]
  },
  {
   "cell_type": "code",
   "execution_count": null,
   "metadata": {},
   "outputs": [
    {
     "data": {
      "text/html": [
       "<div>\n",
       "<style scoped>\n",
       "    .dataframe tbody tr th:only-of-type {\n",
       "        vertical-align: middle;\n",
       "    }\n",
       "\n",
       "    .dataframe tbody tr th {\n",
       "        vertical-align: top;\n",
       "    }\n",
       "\n",
       "    .dataframe thead th {\n",
       "        text-align: right;\n",
       "    }\n",
       "</style>\n",
       "<table border=\"1\" class=\"dataframe\">\n",
       "  <thead>\n",
       "    <tr style=\"text-align: right;\">\n",
       "      <th></th>\n",
       "      <th>project</th>\n",
       "      <th>cwe</th>\n",
       "      <th>count</th>\n",
       "    </tr>\n",
       "  </thead>\n",
       "  <tbody>\n",
       "    <tr>\n",
       "      <th>0</th>\n",
       "      <td>ARMmbed</td>\n",
       "      <td>Benign</td>\n",
       "      <td>21206</td>\n",
       "    </tr>\n",
       "    <tr>\n",
       "      <th>1</th>\n",
       "      <td>ARMmbed</td>\n",
       "      <td>Vulnerable</td>\n",
       "      <td>4889</td>\n",
       "    </tr>\n",
       "    <tr>\n",
       "      <th>2</th>\n",
       "      <td>FreeRTOS</td>\n",
       "      <td>Benign</td>\n",
       "      <td>17196</td>\n",
       "    </tr>\n",
       "    <tr>\n",
       "      <th>3</th>\n",
       "      <td>FreeRTOS</td>\n",
       "      <td>Vulnerable</td>\n",
       "      <td>3675</td>\n",
       "    </tr>\n",
       "    <tr>\n",
       "      <th>4</th>\n",
       "      <td>RIOT</td>\n",
       "      <td>Benign</td>\n",
       "      <td>7583</td>\n",
       "    </tr>\n",
       "    <tr>\n",
       "      <th>5</th>\n",
       "      <td>RIOT</td>\n",
       "      <td>Vulnerable</td>\n",
       "      <td>2227</td>\n",
       "    </tr>\n",
       "    <tr>\n",
       "      <th>6</th>\n",
       "      <td>contiki</td>\n",
       "      <td>Benign</td>\n",
       "      <td>1730</td>\n",
       "    </tr>\n",
       "    <tr>\n",
       "      <th>7</th>\n",
       "      <td>contiki</td>\n",
       "      <td>Vulnerable</td>\n",
       "      <td>568</td>\n",
       "    </tr>\n",
       "    <tr>\n",
       "      <th>8</th>\n",
       "      <td>gnucobol</td>\n",
       "      <td>Benign</td>\n",
       "      <td>1941</td>\n",
       "    </tr>\n",
       "    <tr>\n",
       "      <th>9</th>\n",
       "      <td>gnucobol</td>\n",
       "      <td>Vulnerable</td>\n",
       "      <td>909</td>\n",
       "    </tr>\n",
       "    <tr>\n",
       "      <th>10</th>\n",
       "      <td>linux-rpi</td>\n",
       "      <td>Benign</td>\n",
       "      <td>407684</td>\n",
       "    </tr>\n",
       "    <tr>\n",
       "      <th>11</th>\n",
       "      <td>linux-rpi</td>\n",
       "      <td>Vulnerable</td>\n",
       "      <td>48696</td>\n",
       "    </tr>\n",
       "    <tr>\n",
       "      <th>12</th>\n",
       "      <td>mbed-os</td>\n",
       "      <td>Benign</td>\n",
       "      <td>216</td>\n",
       "    </tr>\n",
       "    <tr>\n",
       "      <th>13</th>\n",
       "      <td>mbed-os</td>\n",
       "      <td>Vulnerable</td>\n",
       "      <td>22</td>\n",
       "    </tr>\n",
       "    <tr>\n",
       "      <th>14</th>\n",
       "      <td>micropython</td>\n",
       "      <td>Benign</td>\n",
       "      <td>19005</td>\n",
       "    </tr>\n",
       "    <tr>\n",
       "      <th>15</th>\n",
       "      <td>micropython</td>\n",
       "      <td>Vulnerable</td>\n",
       "      <td>4126</td>\n",
       "    </tr>\n",
       "    <tr>\n",
       "      <th>16</th>\n",
       "      <td>mosquitto</td>\n",
       "      <td>Benign</td>\n",
       "      <td>817</td>\n",
       "    </tr>\n",
       "    <tr>\n",
       "      <th>17</th>\n",
       "      <td>mosquitto</td>\n",
       "      <td>Vulnerable</td>\n",
       "      <td>558</td>\n",
       "    </tr>\n",
       "    <tr>\n",
       "      <th>18</th>\n",
       "      <td>openwrt</td>\n",
       "      <td>Benign</td>\n",
       "      <td>3068</td>\n",
       "    </tr>\n",
       "    <tr>\n",
       "      <th>19</th>\n",
       "      <td>openwrt</td>\n",
       "      <td>Vulnerable</td>\n",
       "      <td>677</td>\n",
       "    </tr>\n",
       "    <tr>\n",
       "      <th>20</th>\n",
       "      <td>tinyos</td>\n",
       "      <td>Benign</td>\n",
       "      <td>944</td>\n",
       "    </tr>\n",
       "    <tr>\n",
       "      <th>21</th>\n",
       "      <td>tinyos</td>\n",
       "      <td>Vulnerable</td>\n",
       "      <td>352</td>\n",
       "    </tr>\n",
       "  </tbody>\n",
       "</table>\n",
       "</div>"
      ],
      "text/plain": [
       "        project         cwe   count\n",
       "0       ARMmbed      Benign   21206\n",
       "1       ARMmbed  Vulnerable    4889\n",
       "2      FreeRTOS      Benign   17196\n",
       "3      FreeRTOS  Vulnerable    3675\n",
       "4          RIOT      Benign    7583\n",
       "5          RIOT  Vulnerable    2227\n",
       "6       contiki      Benign    1730\n",
       "7       contiki  Vulnerable     568\n",
       "8      gnucobol      Benign    1941\n",
       "9      gnucobol  Vulnerable     909\n",
       "10    linux-rpi      Benign  407684\n",
       "11    linux-rpi  Vulnerable   48696\n",
       "12      mbed-os      Benign     216\n",
       "13      mbed-os  Vulnerable      22\n",
       "14  micropython      Benign   19005\n",
       "15  micropython  Vulnerable    4126\n",
       "16    mosquitto      Benign     817\n",
       "17    mosquitto  Vulnerable     558\n",
       "18      openwrt      Benign    3068\n",
       "19      openwrt  Vulnerable     677\n",
       "20       tinyos      Benign     944\n",
       "21       tinyos  Vulnerable     352"
      ]
     },
     "execution_count": 72,
     "metadata": {},
     "output_type": "execute_result"
    }
   ],
   "source": [
    "dff_binary = dff.copy()\n",
    "dff_binary.loc[dff_binary.cwe!=\"Benign\", 'cwe'] = \"Vulnerable\"\n",
    "dff_binary['project'] = dff_binary.project.str.split('/').str[-1]\n",
    "\n",
    "prj_fun = dff_binary.groupby(['project', 'cwe']).size().reset_index(name='count')\n",
    "prj_f = prj_fun.groupby(['project', 'cwe']).sum()\n",
    "# prj_f['total'] = prj_f.groupby('project').sum()\n",
    "# prj_f['ratio'] = prj_f['count']/prj_f['total']\n",
    "prj_f = prj_f.reset_index()\n",
    "prj_f\n"
   ]
  },
  {
   "cell_type": "code",
   "execution_count": null,
   "metadata": {},
   "outputs": [
    {
     "data": {
      "text/html": [
       "<div>\n",
       "<style scoped>\n",
       "    .dataframe tbody tr th:only-of-type {\n",
       "        vertical-align: middle;\n",
       "    }\n",
       "\n",
       "    .dataframe tbody tr th {\n",
       "        vertical-align: top;\n",
       "    }\n",
       "\n",
       "    .dataframe thead tr th {\n",
       "        text-align: left;\n",
       "    }\n",
       "\n",
       "    .dataframe thead tr:last-of-type th {\n",
       "        text-align: right;\n",
       "    }\n",
       "</style>\n",
       "<table border=\"1\" class=\"dataframe\">\n",
       "  <thead>\n",
       "    <tr>\n",
       "      <th></th>\n",
       "      <th colspan=\"2\" halign=\"left\">#statement</th>\n",
       "      <th colspan=\"2\" halign=\"left\">#function</th>\n",
       "    </tr>\n",
       "    <tr>\n",
       "      <th>cwe</th>\n",
       "      <th>Benign</th>\n",
       "      <th>Vulnerable</th>\n",
       "      <th>Benign</th>\n",
       "      <th>Vulnerable</th>\n",
       "    </tr>\n",
       "    <tr>\n",
       "      <th>project</th>\n",
       "      <th></th>\n",
       "      <th></th>\n",
       "      <th></th>\n",
       "      <th></th>\n",
       "    </tr>\n",
       "  </thead>\n",
       "  <tbody>\n",
       "    <tr>\n",
       "      <th>ARMmbed</th>\n",
       "      <td>37798</td>\n",
       "      <td>5984</td>\n",
       "      <td>21206</td>\n",
       "      <td>4889</td>\n",
       "    </tr>\n",
       "    <tr>\n",
       "      <th>FreeRTOS</th>\n",
       "      <td>37980</td>\n",
       "      <td>4398</td>\n",
       "      <td>17196</td>\n",
       "      <td>3675</td>\n",
       "    </tr>\n",
       "    <tr>\n",
       "      <th>RIOT</th>\n",
       "      <td>13349</td>\n",
       "      <td>2357</td>\n",
       "      <td>7583</td>\n",
       "      <td>2227</td>\n",
       "    </tr>\n",
       "    <tr>\n",
       "      <th>contiki</th>\n",
       "      <td>3756</td>\n",
       "      <td>977</td>\n",
       "      <td>1730</td>\n",
       "      <td>568</td>\n",
       "    </tr>\n",
       "    <tr>\n",
       "      <th>gnucobol</th>\n",
       "      <td>8828</td>\n",
       "      <td>1356</td>\n",
       "      <td>1941</td>\n",
       "      <td>909</td>\n",
       "    </tr>\n",
       "    <tr>\n",
       "      <th>linux-rpi</th>\n",
       "      <td>772050</td>\n",
       "      <td>44622</td>\n",
       "      <td>407684</td>\n",
       "      <td>48696</td>\n",
       "    </tr>\n",
       "    <tr>\n",
       "      <th>mbed-os</th>\n",
       "      <td>27305</td>\n",
       "      <td>18</td>\n",
       "      <td>216</td>\n",
       "      <td>22</td>\n",
       "    </tr>\n",
       "    <tr>\n",
       "      <th>micropython</th>\n",
       "      <td>35440</td>\n",
       "      <td>3662</td>\n",
       "      <td>19005</td>\n",
       "      <td>4126</td>\n",
       "    </tr>\n",
       "    <tr>\n",
       "      <th>mosquitto</th>\n",
       "      <td>4139</td>\n",
       "      <td>490</td>\n",
       "      <td>817</td>\n",
       "      <td>558</td>\n",
       "    </tr>\n",
       "    <tr>\n",
       "      <th>openwrt</th>\n",
       "      <td>6519</td>\n",
       "      <td>861</td>\n",
       "      <td>3068</td>\n",
       "      <td>677</td>\n",
       "    </tr>\n",
       "    <tr>\n",
       "      <th>tinyos</th>\n",
       "      <td>2249</td>\n",
       "      <td>410</td>\n",
       "      <td>944</td>\n",
       "      <td>352</td>\n",
       "    </tr>\n",
       "    <tr>\n",
       "      <th>TOTAL</th>\n",
       "      <td>949413</td>\n",
       "      <td>65135</td>\n",
       "      <td>481390</td>\n",
       "      <td>66699</td>\n",
       "    </tr>\n",
       "  </tbody>\n",
       "</table>\n",
       "</div>"
      ],
      "text/plain": [
       "            #statement            #function           \n",
       "cwe             Benign Vulnerable    Benign Vulnerable\n",
       "project                                               \n",
       "ARMmbed          37798       5984     21206       4889\n",
       "FreeRTOS         37980       4398     17196       3675\n",
       "RIOT             13349       2357      7583       2227\n",
       "contiki           3756        977      1730        568\n",
       "gnucobol          8828       1356      1941        909\n",
       "linux-rpi       772050      44622    407684      48696\n",
       "mbed-os          27305         18       216         22\n",
       "micropython      35440       3662     19005       4126\n",
       "mosquitto         4139        490       817        558\n",
       "openwrt           6519        861      3068        677\n",
       "tinyos            2249        410       944        352\n",
       "TOTAL           949413      65135    481390      66699"
      ]
     },
     "execution_count": 73,
     "metadata": {},
     "output_type": "execute_result"
    }
   ],
   "source": [
    "prj_f = prj_f.rename(columns={'cwe':'cwef', 'count':'#function','project':'projectf'})\n",
    "prj_stat = prj_stat.rename(columns={'count':'#statement'})\n",
    "\n",
    "df_dist = pd.concat([prj_stat, prj_f], axis=1, join='inner')\n",
    "df_dist = df_dist.sort_values(by=['#statement'], ascending=False)\n",
    "df_dist = df_dist.drop(columns=['projectf', 'cwef'], axis=1)\n",
    "df_dist = df_dist.set_index(['project', 'cwe']).unstack()\n",
    "df_dist = df_dist.append(df_dist.sum().rename('TOTAL'))\n",
    "df_dist.reset_index().to_latex('../result/project-stat.tex', index=False, )\n",
    "# df_dist.append(df_dist.sum().tolist(), ignore_index=True)\n",
    "df_dist"
   ]
  },
  {
   "cell_type": "code",
   "execution_count": null,
   "metadata": {},
   "outputs": [],
   "source": []
  },
  {
   "cell_type": "code",
   "execution_count": null,
   "metadata": {},
   "outputs": [
    {
     "name": "stdout",
     "output_type": "stream",
     "text": [
      "Total #statements: 1014548\n",
      "Total #functions: 548089\n"
     ]
    }
   ],
   "source": [
    "print(f\"Total #statements: {df_dist[-1:].T.reset_index()['TOTAL'][0:2].sum()}\")\n",
    "print(f\"Total #functions: {df_dist[-1:].T.reset_index()['TOTAL'][2:4].sum()}\")"
   ]
  },
  {
   "cell_type": "code",
   "execution_count": null,
   "metadata": {},
   "outputs": [
    {
     "data": {
      "text/plain": [
       "43782"
      ]
     },
     "execution_count": 77,
     "metadata": {},
     "output_type": "execute_result"
    }
   ],
   "source": [
    "37798 + 5984"
   ]
  },
  {
   "cell_type": "code",
   "execution_count": null,
   "metadata": {},
   "outputs": [],
   "source": [
    "prj_sflat = prj_s.reset_index()\n",
    "prj_sflat = prj_sflat.pivot(index='project', columns='cwe', values='count')\n",
    "# prj_sflat.reset_index().to_latex('../result/project_stat_flat.tex', index=False)"
   ]
  },
  {
   "cell_type": "code",
   "execution_count": null,
   "metadata": {},
   "outputs": [],
   "source": [
    "# make class binary type benign/vulnerable\n",
    "dff_binary = dff.copy()\n",
    "dff_binary.loc[dff_binary.cwe!=\"Benign\", 'cwe'] = \"Vulnerable\"\n",
    "\n",
    "prj_ff = dff_binary.groupby(['project', 'cwe']).size().reset_index(name='count')\n",
    "prj_f = prj_ff.groupby(['cwe']).sum().sort_values(by='count', ascending=False).reset_index()\n",
    "prj_f = prj_f[prj_f.cwe != 'Benign'].head(10)\n",
    "# print(prj_f.to_latex(index=False, caption='Top 10 CWEs', label='Top 10 CWEs'))"
   ]
  },
  {
   "cell_type": "code",
   "execution_count": null,
   "metadata": {},
   "outputs": [
    {
     "data": {
      "text/html": [
       "<div>\n",
       "<style scoped>\n",
       "    .dataframe tbody tr th:only-of-type {\n",
       "        vertical-align: middle;\n",
       "    }\n",
       "\n",
       "    .dataframe tbody tr th {\n",
       "        vertical-align: top;\n",
       "    }\n",
       "\n",
       "    .dataframe thead th {\n",
       "        text-align: right;\n",
       "    }\n",
       "</style>\n",
       "<table border=\"1\" class=\"dataframe\">\n",
       "  <thead>\n",
       "    <tr style=\"text-align: right;\">\n",
       "      <th></th>\n",
       "      <th>cwe</th>\n",
       "      <th>#statements</th>\n",
       "      <th>cwe</th>\n",
       "      <th>#functions</th>\n",
       "    </tr>\n",
       "  </thead>\n",
       "  <tbody>\n",
       "    <tr>\n",
       "      <th>0</th>\n",
       "      <td>Benign</td>\n",
       "      <td>949413</td>\n",
       "      <td>Benign</td>\n",
       "      <td>481390</td>\n",
       "    </tr>\n",
       "    <tr>\n",
       "      <th>1</th>\n",
       "      <td>CWE-120</td>\n",
       "      <td>30953</td>\n",
       "      <td>CWE-120</td>\n",
       "      <td>28119</td>\n",
       "    </tr>\n",
       "    <tr>\n",
       "      <th>2</th>\n",
       "      <td>CWE-119!/CWE-120</td>\n",
       "      <td>16408</td>\n",
       "      <td>CWE-119!/CWE-120</td>\n",
       "      <td>12014</td>\n",
       "    </tr>\n",
       "    <tr>\n",
       "      <th>3</th>\n",
       "      <td>CWE-126</td>\n",
       "      <td>4630</td>\n",
       "      <td>CWE-126</td>\n",
       "      <td>5503</td>\n",
       "    </tr>\n",
       "    <tr>\n",
       "      <th>4</th>\n",
       "      <td>CWE-190</td>\n",
       "      <td>2303</td>\n",
       "      <td>CWE-unknown</td>\n",
       "      <td>5008</td>\n",
       "    </tr>\n",
       "    <tr>\n",
       "      <th>5</th>\n",
       "      <td>CWE-120, CWE-20</td>\n",
       "      <td>2256</td>\n",
       "      <td>CWE-457</td>\n",
       "      <td>4785</td>\n",
       "    </tr>\n",
       "    <tr>\n",
       "      <th>6</th>\n",
       "      <td>CWE-362</td>\n",
       "      <td>1794</td>\n",
       "      <td>CWE-190</td>\n",
       "      <td>2550</td>\n",
       "    </tr>\n",
       "    <tr>\n",
       "      <th>7</th>\n",
       "      <td>CWE-134</td>\n",
       "      <td>1689</td>\n",
       "      <td>CWE-120, CWE-20</td>\n",
       "      <td>2496</td>\n",
       "    </tr>\n",
       "    <tr>\n",
       "      <th>8</th>\n",
       "      <td>CWE-457</td>\n",
       "      <td>1648</td>\n",
       "      <td>CWE-362</td>\n",
       "      <td>2277</td>\n",
       "    </tr>\n",
       "    <tr>\n",
       "      <th>9</th>\n",
       "      <td>CWE-362/CWE-367!</td>\n",
       "      <td>598</td>\n",
       "      <td>CWE-134</td>\n",
       "      <td>1116</td>\n",
       "    </tr>\n",
       "  </tbody>\n",
       "</table>\n",
       "</div>"
      ],
      "text/plain": [
       "                cwe  #statements               cwe  #functions\n",
       "0            Benign       949413            Benign      481390\n",
       "1           CWE-120        30953           CWE-120       28119\n",
       "2  CWE-119!/CWE-120        16408  CWE-119!/CWE-120       12014\n",
       "3           CWE-126         4630           CWE-126        5503\n",
       "4           CWE-190         2303       CWE-unknown        5008\n",
       "5   CWE-120, CWE-20         2256           CWE-457        4785\n",
       "6           CWE-362         1794           CWE-190        2550\n",
       "7           CWE-134         1689   CWE-120, CWE-20        2496\n",
       "8           CWE-457         1648           CWE-362        2277\n",
       "9  CWE-362/CWE-367!          598           CWE-134        1116"
      ]
     },
     "execution_count": 63,
     "metadata": {},
     "output_type": "execute_result"
    }
   ],
   "source": [
    "dff['cwe'] = dff.cwe.str.replace(r\"\\['|']\", \"\",regex=True)\n",
    "dfs_cwe = dfs.cwe.value_counts().reset_index(name='#statements')\n",
    "\n",
    "dff_cwe = dff.cwe.value_counts().reset_index(name='#functions')\n",
    "\n",
    "dfs_cwe = dfs_cwe.rename(columns={'index':'cwe'})\n",
    "dff_cwe = dff_cwe.rename(columns={'index':'cwe'})\n",
    "df_cwe_count = pd.concat([dfs_cwe, dff_cwe], axis=1).head(10)\n",
    "df_cwe_count = df_cwe_count.astype({\"#functions\": int})\n",
    "df_cwe_count.to_latex('../result/cwe-top-10.tex', index=False)\n",
    "df_cwe_count"
   ]
  },
  {
   "attachments": {},
   "cell_type": "markdown",
   "metadata": {},
   "source": [
    "# Show the description of the function-level data"
   ]
  },
  {
   "cell_type": "code",
   "execution_count": null,
   "metadata": {},
   "outputs": [
    {
     "name": "stdout",
     "output_type": "stream",
     "text": [
      "\\begin{table}\n",
      "\\centering\n",
      "\\caption{Function Statistics}\n",
      "\\label{Function Statistics}\n",
      "\\begin{tabular}{rrrrr}\n",
      "\\toprule\n",
      "features & unique &       top &   freq \\\\\n",
      "\\midrule\n",
      " context &  46197 &           & 481390 \\\\\n",
      "     cwe &      2 &    Benign & 481390 \\\\\n",
      " project &     11 & linux-rpi & 456380 \\\\\n",
      "\\bottomrule\n",
      "\\end{tabular}\n",
      "\\end{table}\n",
      "\n"
     ]
    }
   ],
   "source": [
    "df_describe = dff_binary.drop(\n",
    "    labels=['top_nesting_level', 'fan_in', 'fan_out', 'general_fan_out', 'content', 'long_name', 'fun_name', 'full_parameters', 'code'],\n",
    "    axis=1, \n",
    "    errors='ignore').describe().T\n",
    "\n",
    "df_freq = df_describe.reset_index().rename(columns={'index': 'features'})\n",
    "df_freq = df_freq.drop(labels=['count'], axis=1)\n",
    "\n",
    "# shortening the project URL to project name only \n",
    "df_freq['top'] = df_freq.apply(lambda row:row['top'].split('/')[-1] if '/' in row['top'] else row['top'], axis=1)\n",
    "\n",
    "# The freq is the most common value’s frequency. The top is the most common value.\n",
    "print(df_freq[~df_freq.features.isin(['file'])].to_latex(\n",
    "    index=False,\n",
    "    column_format='rrrrr', \n",
    "    label='Function Statistics', \n",
    "    caption='Function Statistics')\n",
    "    )"
   ]
  },
  {
   "cell_type": "code",
   "execution_count": null,
   "metadata": {},
   "outputs": [
    {
     "name": "stdout",
     "output_type": "stream",
     "text": [
      "Size of statements: 1014548\n",
      "Size of unique statements: 1014205\n",
      "\n",
      "Size of functions: 548089\n",
      "Size of unique functions: 539365\n"
     ]
    }
   ],
   "source": [
    "print(f'Size of statements: {len(dfs.context)}')\n",
    "print(f'Size of unique statements: {dfs.context.nunique()}')\n",
    "\n",
    "print(f'\\nSize of functions: {len(dff.code)}')\n",
    "print(f'Size of unique functions: {dff.code.nunique()}')"
   ]
  },
  {
   "cell_type": "markdown",
   "metadata": {},
   "source": [
    "# ML-specific: Convert hyperparameters list to latex table format"
   ]
  },
  {
   "cell_type": "code",
   "execution_count": null,
   "metadata": {},
   "outputs": [
    {
     "name": "stdout",
     "output_type": "stream",
     "text": [
      "<class 'dict'>\n",
      "\\begin{table}\n",
      "\\centering\n",
      "\\caption{Hyperparameter Settings}\n",
      "\\label{Hyperparameter Settings}\n",
      "\\begin{tabular}{ll}\n",
      "\\toprule\n",
      " hyperparameter &                    value \\\\\n",
      "\\midrule\n",
      "         epochs &                      120 \\\\\n",
      "   debug\\_epochs &                        5 \\\\\n",
      "          batch &                      128 \\\\\n",
      "   input\\_length &                      150 \\\\\n",
      "      input\\_dim &                      150 \\\\\n",
      "     output\\_dim &                       32 \\\\\n",
      "             lr &                     1e-3 \\\\\n",
      "       patience &                       35 \\\\\n",
      "      optimizer &                     adam \\\\\n",
      "         l2\\_reg &                     1e-4 \\\\\n",
      "        dropout &                     0.01 \\\\\n",
      "  recur\\_dropout &                     0.01 \\\\\n",
      "         beta\\_1 &                     0.09 \\\\\n",
      "         beta\\_2 &                   0.0999 \\\\\n",
      "        epsilon &                    1e-08 \\\\\n",
      "          decay &                      0.0 \\\\\n",
      "        verbose &                        2 \\\\\n",
      "loss\\_multiclass & categorical\\_crossentropy \\\\\n",
      "    loss\\_binary &      binary\\_crossentropy \\\\\n",
      "\\bottomrule\n",
      "\\end{tabular}\n",
      "\\end{table}\n",
      "\n"
     ]
    }
   ],
   "source": [
    "def hyperpara2latex(yaml_file):\n",
    "    \"\"\"\n",
    "    load the yaml file and return a dictionary\n",
    "    \"\"\"\n",
    "    config = {}\n",
    "    cols = ['hyperparameter', 'value']\n",
    "    \n",
    "    ext = Path(yaml_file).suffix.replace('.', '') \n",
    "    \n",
    "    with open(yaml_file, \"r\") as stream:\n",
    "        try:\n",
    "            config = yaml.safe_load(stream)\n",
    "            print(type(config))\n",
    "            df = pd.DataFrame([config['dnn']]).T.reset_index()\n",
    "            print(df.to_latex(index=False, \n",
    "                    header=cols, \n",
    "                    #   column_format='|l|l|', \n",
    "                    label='Hyperparameter Settings', \n",
    "                    caption='Hyperparameter Settings'))\n",
    "        except yaml.YAMLError as exc:\n",
    "            print(exc)\n",
    "\n",
    "config = hyperpara2latex('../config/classifier.yaml')"
   ]
  },
  {
   "cell_type": "markdown",
   "metadata": {},
   "source": [
    "# tokens count of function-level data"
   ]
  },
  {
   "cell_type": "code",
   "execution_count": null,
   "metadata": {},
   "outputs": [],
   "source": [
    "from gensim.utils import simple_preprocess\n",
    "\n",
    "fun_token_count = [len(simple_preprocess(x)) for x in dff.code]\n",
    "stat_token_count = [len(simple_preprocess(x)) for x in dfs.context]"
   ]
  },
  {
   "cell_type": "code",
   "execution_count": null,
   "metadata": {},
   "outputs": [
    {
     "data": {
      "image/png": "[encoded data removed]",
      "text/plain": [
       "<Figure size 640x480 with 1 Axes>"
      ]
     },
     "metadata": {},
     "output_type": "display_data"
    }
   ],
   "source": [
    "fun_token_count_short = [x for x in fun_token_count if x<=1024]\n",
    "pd.Series(fun_token_count_short).plot.hist(bins=20)\n",
    "plt.xlabel('#tokens')\n",
    "plt.ylabel('Frequency')\n",
    "# plt.title('Function Token Count Distribution')\n",
    "plt.savefig('../figure/fun_token_count.pdf')"
   ]
  },
  {
   "cell_type": "code",
   "execution_count": null,
   "metadata": {},
   "outputs": [
    {
     "data": {
      "text/plain": [
       "3.342422438366642"
      ]
     },
     "execution_count": 69,
     "metadata": {},
     "output_type": "execute_result"
    }
   ],
   "source": [
    "pd.Series(stat_token_count).describe()"
   ]
  },
  {
   "cell_type": "code",
   "execution_count": null,
   "metadata": {},
   "outputs": [],
   "source": [
    "pd.Series(fun_token_count).describe()"
   ]
  },
  {
   "cell_type": "code",
   "execution_count": null,
   "metadata": {},
   "outputs": [
    {
     "data": {
      "image/png": "[encoded data removed]",
      "text/plain": [
       "<Figure size 640x480 with 1 Axes>"
      ]
     },
     "metadata": {},
     "output_type": "display_data"
    }
   ],
   "source": [
    "pd.Series(stat_token_count).plot.hist(bins=20, alpha=0.8)\n",
    "plt.xlabel('#tokens')\n",
    "plt.ylabel('Frequency')\n",
    "plt.savefig('../figure/stat_token_count.pdf')"
   ]
  },
  {
   "cell_type": "code",
   "execution_count": null,
   "metadata": {},
   "outputs": [
    {
     "data": {
      "image/png": "[encoded data removed]",
      "text/plain": [
       "<Figure size 640x480 with 1 Axes>"
      ]
     },
     "metadata": {},
     "output_type": "display_data"
    }
   ],
   "source": [
    "dfs1 = dfs[dfs.context.str.len()<151]\n",
    "stat_char_len = [len(x) for x in dfs1.context if len(x)>10]\n",
    "ax = pd.Series(stat_char_len).plot.hist(bins=20, xlabel='#chars', ylabel='#statements',alpha=0.8)\n",
    "plt.xlabel('#tokens')\n",
    "plt.ylabel('Frequency')\n",
    "fighist = ax.get_figure()\n",
    "fighist.savefig('../figure/statement-charlen.pdf')"
   ]
  },
  {
   "cell_type": "code",
   "execution_count": null,
   "metadata": {},
   "outputs": [
    {
     "data": {
      "text/plain": [
       "count    998488.000000\n",
       "mean         38.375010\n",
       "std          16.891746\n",
       "min          11.000000\n",
       "25%          26.000000\n",
       "50%          36.000000\n",
       "75%          49.000000\n",
       "max         150.000000\n",
       "dtype: float64"
      ]
     },
     "execution_count": 85,
     "metadata": {},
     "output_type": "execute_result"
    }
   ],
   "source": [
    "pd.Series(stat_char_len).describe()"
   ]
  },
  {
   "cell_type": "code",
   "execution_count": null,
   "metadata": {},
   "outputs": [
    {
     "data": {
      "text/html": [
       "<div>\n",
       "<style scoped>\n",
       "    .dataframe tbody tr th:only-of-type {\n",
       "        vertical-align: middle;\n",
       "    }\n",
       "\n",
       "    .dataframe tbody tr th {\n",
       "        vertical-align: top;\n",
       "    }\n",
       "\n",
       "    .dataframe thead th {\n",
       "        text-align: right;\n",
       "    }\n",
       "</style>\n",
       "<table border=\"1\" class=\"dataframe\">\n",
       "  <thead>\n",
       "    <tr style=\"text-align: right;\">\n",
       "      <th></th>\n",
       "      <th>count</th>\n",
       "      <th>unique</th>\n",
       "      <th>top</th>\n",
       "      <th>freq</th>\n",
       "    </tr>\n",
       "  </thead>\n",
       "  <tbody>\n",
       "    <tr>\n",
       "      <th>file</th>\n",
       "      <td>548089</td>\n",
       "      <td>23263</td>\n",
       "      <td>/Users/guru/research/projects/FreeRTOS/FreeRTO...</td>\n",
       "      <td>1487</td>\n",
       "    </tr>\n",
       "    <tr>\n",
       "      <th>code</th>\n",
       "      <td>548089</td>\n",
       "      <td>539365</td>\n",
       "      <td>static struct syscall *trace__syscall_info(str...</td>\n",
       "      <td>9</td>\n",
       "    </tr>\n",
       "    <tr>\n",
       "      <th>context</th>\n",
       "      <td>548089</td>\n",
       "      <td>46197</td>\n",
       "      <td></td>\n",
       "      <td>481390</td>\n",
       "    </tr>\n",
       "    <tr>\n",
       "      <th>cwe</th>\n",
       "      <td>548089</td>\n",
       "      <td>40</td>\n",
       "      <td>Benign</td>\n",
       "      <td>481390</td>\n",
       "    </tr>\n",
       "    <tr>\n",
       "      <th>project</th>\n",
       "      <td>548089</td>\n",
       "      <td>11</td>\n",
       "      <td>/Users/guru/research/projects//linux-rpi</td>\n",
       "      <td>456380</td>\n",
       "    </tr>\n",
       "  </tbody>\n",
       "</table>\n",
       "</div>"
      ],
      "text/plain": [
       "          count  unique                                                top  \\\n",
       "file     548089   23263  /Users/guru/research/projects/FreeRTOS/FreeRTO...   \n",
       "code     548089  539365  static struct syscall *trace__syscall_info(str...   \n",
       "context  548089   46197                                                      \n",
       "cwe      548089      40                                             Benign   \n",
       "project  548089      11           /Users/guru/research/projects//linux-rpi   \n",
       "\n",
       "           freq  \n",
       "file       1487  \n",
       "code          9  \n",
       "context  481390  \n",
       "cwe      481390  \n",
       "project  456380  "
      ]
     },
     "execution_count": 87,
     "metadata": {},
     "output_type": "execute_result"
    }
   ],
   "source": [
    "dff.describe().T"
   ]
  }
 ],
 "metadata": {
  "kernelspec": {
   "display_name": "vulcode",
   "language": "python",
   "name": "python3"
  },
  "language_info": {
   "codemirror_mode": {
    "name": "ipython",
    "version": 3
   },
   "file_extension": ".py",
   "mimetype": "text/x-python",
   "name": "python",
   "nbconvert_exporter": "python",
   "pygments_lexer": "ipython3",
   "version": "3.8.0"
  },
  "orig_nbformat": 4,
  "vscode": {
   "interpreter": {
    "hash": "770d70f40277e0fadd6bc1f7a5fecfd799eee3cbb57c500ccfb48eb07fd2c1ce"
   }
  }
 },
 "nbformat": 4,
 "nbformat_minor": 2
}
