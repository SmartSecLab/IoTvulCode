{
 "cells": [
  {
   "attachments": {},
   "cell_type": "markdown",
   "metadata": {},
   "source": [
    "# Explainable-AI model on iDetect dataset:"
   ]
  },
  {
   "cell_type": "code",
   "execution_count": 1,
   "metadata": {},
   "outputs": [],
   "source": [
    "import pandas as pd\n",
    "\n",
    "# set variables - \n",
    "CLASSIFICATION_TYPE = 'Binary' # select 'Binary' or 'Multi_Class'\n",
    "SAVE_DIR = '../data/iDetect_refine/'"
   ]
  },
  {
   "cell_type": "code",
   "execution_count": 2,
   "metadata": {},
   "outputs": [
    {
     "name": "stdout",
     "output_type": "stream",
     "text": [
      "df_CNN shape:  (5117, 2)\n",
      "                                                code  label\n",
      "0  void printfUART_buf  ( char *buf ,   int  len ...      1\n",
      "1  check_opt_size  ( cp_opt_t *opt ,  unsigned ch...      1\n",
      "2  cp_ft  ( cp_queue_t *queue ,  cp_tid_t id )   ...      1\n",
      "3  start  ( cp_pdu_t *pdu )   {  if   ( pdu && pd...      1\n",
      "4  cp_clone_pdu  ( cp_pdu_t *pdu )   {  cp_pdu_t ...      1\n"
     ]
    }
   ],
   "source": [
    "\n",
    "file_part = CLASSIFICATION_TYPE + '.csv'\n",
    "\n",
    "if CLASSIFICATION_TYPE == 'Binary' or CLASSIFICATION_TYPE == 'Multi_Class':\n",
    "        \n",
    "    CNN_data = '../data/iDetect/CNN-Al_Boghdady_' + file_part\n",
    "    RNN_data = '../data/iDetect/RNN-Al_Boghdady_' + file_part\n",
    "    RF_data = '../data/iDetect/RF-Al_Boghdady_' + file_part\n",
    "    \n",
    "    df_CNN = pd.read_csv(CNN_data, encoding= 'unicode_escape')\n",
    "    df_RNN = pd.read_csv(RNN_data, encoding= 'unicode_escape')\n",
    "    df_RF = pd.read_csv(RF_data, encoding= 'unicode_escape')\n",
    "    \n",
    "else:\n",
    "    print(\"Invalid classification type selected, selected either binary or multi, but not - \", CLASSIFICATION_TYPE)\n",
    "\n",
    "if not df_RF.empty and not df_CNN.empty and not df_RF.empty:\n",
    "    # Correcting the labeling of RF data file. \n",
    "    df_RF['label'] = df_RF['label'].map({'Vulnerable Code':1, 'Benign Code':0})\n",
    "    print('df_CNN shape: ', df_CNN.shape)\n",
    "    print(df_CNN.head(5))"
   ]
  },
  {
   "attachments": {},
   "cell_type": "markdown",
   "metadata": {},
   "source": [
    "## Finding differences in _iDetect/CNN/*.csv_ and _iDetect/RNN/*.csv_ data files. \n",
    "- <Guru> I think these are duplicate files, but the author of iDetect put the same files in multiple places,\n",
    "therefore let's check them if they are same or not. \n",
    "- Follow - https://stackoverflow.com/questions/20225110/comparing-two-dataframes-and-getting-the-differences"
   ]
  },
  {
   "cell_type": "code",
   "execution_count": 3,
   "metadata": {},
   "outputs": [
    {
     "name": "stdout",
     "output_type": "stream",
     "text": [
      "\n",
      "Dataframe of difference between df_CNN and df_RNN:\n",
      "Both dataframes are identical.\n",
      "Shape of the union dataset: (4720, 2)\n",
      "\n",
      "Dataframe of difference between df_RNN and df_RF:\n",
      "Shape of the union dataset: (6245, 2)\n",
      "\n",
      "Dataframe of difference between df_CNN and df_RF: \n",
      "Shape of the union dataset: (6245, 2)\n",
      "\n",
      "Dataframe of difference between df_CNN_RF and df_RNN_RF:\n",
      "Both dataframes are identical.\n",
      "Shape of the union dataset: (6245, 2)\n"
     ]
    }
   ],
   "source": [
    "def drop_ambiguous(df):\n",
    "    \"\"\"\n",
    "    # Step 4: groupby based on 'code' column, make a list of ambiguous 'label' labels, \n",
    "    # find a set of the union elements are elected as ambiguous samples.\n",
    "    # <need attention> should we pick malicious sample if it also labeled as non-malicious?\n",
    "    \"\"\" \n",
    "    df = df.groupby(['code'], as_index=False)['label']\\\n",
    "        .agg(lambda x: list(set(list(x))) if len(list(set(list(x))))>1 else x)\\\n",
    "            .reset_index(drop=True)\n",
    "    filter_amb  = [True if type(x)!=list else False for x in df.label]\n",
    "    return df[filter_amb].reset_index(drop=True)\n",
    "            \n",
    "        \n",
    "def filter_dup_rows(df):\n",
    "    \"\"\"\n",
    "    drop duplicate rows - by replacing multiple whitespaces with single.\n",
    "    \"\"\"\n",
    "    if len(df)>0:\n",
    "        df['code'] = df.code.replace(r'\\s+', ' ', regex=True)\n",
    "        \n",
    "        # Step 1 - drop duplicates\n",
    "        df = df.drop_duplicates(keep='first').reset_index(drop=True)\n",
    "        \n",
    "        # Step 2 - drop nan values\n",
    "        df = df[df.label.notna()] \n",
    "        \n",
    "        # Step 3 - drop very short code samples\n",
    "        df = df[df.code.str.len()>5] \n",
    "        \n",
    "        # Step 4: droping ambiquous samples from the dataset which have 'label' value as a list of items \\\n",
    "            # than a single valued label. \n",
    "        df = drop_ambiguous(df).reset_index(drop=True) \n",
    "        \n",
    "        \n",
    "        assert df.code.nunique()==len(df), f\"Same code(s) has multiple labels (ambiguous samples) \\n \\\n",
    "            - (unique rows on code):{df.code.nunique()} Vs (total rows):{len(df)}\"\n",
    "        return df\n",
    "    else:\n",
    "        print('Filtering is not possible with empty dataframes.')\n",
    "        return None\n",
    "\n",
    "\n",
    "def diff_dfs(df1, df2):\n",
    "    \"\"\"\n",
    "    find df_dff - different of two dataframes including the duplicates inside themselves. \n",
    "    return - union(df1, df2)\n",
    "    \"\"\"\n",
    "    if df1 is not None and df2 is not None:\n",
    "        df1 = filter_dup_rows(df1)\n",
    "        df2 = filter_dup_rows(df2)\n",
    "        df = pd.concat([df1, df2])\n",
    "        df = df.drop_duplicates(keep='first').reset_index(drop=True)\n",
    "        df = drop_ambiguous(df)\n",
    "\n",
    "        if len(df)==len(df1) and len(df)==len(df2):\n",
    "            print(\"Both dataframes are identical.\")\n",
    "        return df\n",
    "    else:\n",
    "        print('Filtering is not possible with empty dataframe.')\n",
    "        return None\n",
    " \n",
    "\n",
    "print('\\nDataframe of difference between df_CNN and df_RNN:')\n",
    "df_CNN_RNN = diff_dfs(df_CNN, df_RNN)\n",
    "print('Shape of the union dataset:', df_CNN_RNN.shape)\n",
    "# both of them are identical\n",
    "\n",
    "print('\\nDataframe of difference between df_RNN and df_RF:')\n",
    "df_RNN_RF = diff_dfs(df_RNN, df_RF)\n",
    "print('Shape of the union dataset:', df_RNN_RF.shape)\n",
    "\n",
    "print('\\nDataframe of difference between df_CNN and df_RF: ')\n",
    "df_CNN_RF = diff_dfs(df_CNN, df_RF)\n",
    "print('Shape of the union dataset:', df_CNN_RF.shape)\n",
    "\n",
    "# difference in two diffs\n",
    "print('\\nDataframe of difference between df_CNN_RF and df_RNN_RF:')\n",
    "df_CNN_RNN_RF = diff_dfs(df_CNN_RF, df_RNN_RF)\n",
    "print('Shape of the union dataset:', df_CNN_RNN_RF.shape)"
   ]
  },
  {
   "cell_type": "code",
   "execution_count": 4,
   "metadata": {},
   "outputs": [
    {
     "data": {
      "text/plain": [
       "0    3163\n",
       "1    3082\n",
       "Name: label, dtype: int64"
      ]
     },
     "execution_count": 4,
     "metadata": {},
     "output_type": "execute_result"
    }
   ],
   "source": [
    "df_CNN_RNN_RF.label.value_counts()"
   ]
  },
  {
   "attachments": {},
   "cell_type": "markdown",
   "metadata": {},
   "source": [
    "## It is observed that both _df_CNN_ and _df_RNN_ are identical, and _df_RF_ is different with them. \n",
    "#### Therefore let's save df_RNN and df_CNN_RF as only two variants of the processed datasets (on original iDetect dataset). "
   ]
  },
  {
   "cell_type": "code",
   "execution_count": 5,
   "metadata": {},
   "outputs": [],
   "source": [
    "filter_dup_rows(df_RNN).to_csv(SAVE_DIR + 'DNN_' + file_part, index=False)\n",
    "filter_dup_rows(df_RNN_RF).to_csv(SAVE_DIR + 'RF_' + file_part, index=False)"
   ]
  },
  {
   "cell_type": "code",
   "execution_count": 12,
   "metadata": {},
   "outputs": [
    {
     "name": "stdout",
     "output_type": "stream",
     "text": [
      "no\n"
     ]
    }
   ],
   "source": [
    "if 3 in list(df_RNN_RF.label.unique()):\n",
    "    print('yes')\n",
    "else:\n",
    "    print('no')"
   ]
  }
 ],
 "metadata": {
  "kernelspec": {
   "display_name": "iotCode",
   "language": "python",
   "name": "python3"
  },
  "language_info": {
   "codemirror_mode": {
    "name": "ipython",
    "version": 3
   },
   "file_extension": ".py",
   "mimetype": "text/x-python",
   "name": "python",
   "nbconvert_exporter": "python",
   "pygments_lexer": "ipython3",
   "version": "3.8.0"
  },
  "orig_nbformat": 4,
  "vscode": {
   "interpreter": {
    "hash": "2f838046bc7a32c7f2766f1c532b5baddca8fb3dd7100bdb4fa26065ff771de8"
   }
  }
 },
 "nbformat": 4,
 "nbformat_minor": 2
}
