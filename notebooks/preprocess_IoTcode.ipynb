{
 "cells": [
  {
   "cell_type": "code",
   "execution_count": null,
   "metadata": {},
   "outputs": [],
   "source": [
    "import pandas as pd\n",
    "from sqlite3 import connect\n",
    "\n",
    "def IoTcode2vulBERT(csv_input, csv_output):\n",
    "    df = pd.read_csv(csv_input)\n",
    "    \"\"\" convert data to vulBERT format \"\"\"\n",
    "    if 'cwe' in list(df.columns):\n",
    "        df = df[['code', 'is_vul']]\n",
    "        df = df.rename(columns={'is_vul':'label'})\n",
    "        df['label'] = df.label.astype(int)\n",
    "\n",
    "    df.to_csv(csv_output)\n",
    "    return df\n",
    "\n",
    "dataset = 'raspberryZip'\n",
    "csv_input = f\"../data/{dataset}_function.csv\"\n",
    "csv_vulbert =f\"../data/{dataset}_function-VulBERT.csv\"\n",
    "# csv = '../VulBERTa/data/finetune/d2a/function/d2a_lbv1_function_dev.csv'\n",
    "\n",
    "# df = IoTcode2vulBERT(\n",
    "#     csv_input=csv_input,\n",
    "#     csv_output=csv_vulbert\n",
    "#     )"
   ]
  },
  {
   "cell_type": "code",
   "execution_count": null,
   "metadata": {},
   "outputs": [],
   "source": [
    "dataset = '../data/IoTcode_contiki_rasp_filtered_full.db'\n",
    "conn = connect(dataset)\n",
    "\n",
    "df_fun = pd.read_sql(sql=\"SELECT * FROM function\", con=conn)\n",
    "df_stat = pd.read_sql(sql=\"SELECT * FROM statement\", con=conn)\n",
    "df_prj = pd.read_sql(sql=\"SELECT * FROM project\", con=conn)"
   ]
  },
  {
   "cell_type": "code",
   "execution_count": null,
   "metadata": {},
   "outputs": [],
   "source": [
    "pd.read_sql(sql=\"SELECT vul, count(*) FROM function GROUP BY project;\", con=conn)"
   ]
  },
  {
   "cell_type": "code",
   "execution_count": null,
   "metadata": {},
   "outputs": [],
   "source": [
    "dataset = 'raspberryZip'\n",
    "flaw = f\"../data/{dataset}_statement.csv\"\n",
    "metrics = f\"../data/{dataset}_function.csv\"\n",
    "binary = f\"../data/{dataset}_method_binary.csv\"\n",
    "\n",
    "df_stat  = pd.read_csv(flaw)\n",
    "df_fun = pd.read_csv(metrics)\n",
    "\n",
    "print(f'Fun statistics: \\n{df_fun.isVul.value_counts()}')\n",
    "print(f'\\nStat statistics: \\n{df_stat.cwe.value_counts()}')"
   ]
  },
  {
   "cell_type": "code",
   "execution_count": null,
   "metadata": {},
   "outputs": [],
   "source": [
    "df_fun.drop_duplicates(subset=['filename', 'long_name', 'start_line', 'end_line', 'cwe'], keep='last').reset_index(drop=True)"
   ]
  },
  {
   "cell_type": "code",
   "execution_count": null,
   "metadata": {},
   "outputs": [],
   "source": [
    "print(len(df_stat.columns)) \n",
    "df_stat = df_stat.dropna(axis=1, how='all')\n",
    "print(len(df_stat.columns))\n",
    "df_stat"
   ]
  },
  {
   "cell_type": "code",
   "execution_count": null,
   "metadata": {},
   "outputs": [],
   "source": [
    "str(df_fun[df_fun.cwe==\"['CWE-120', 'CWE-120, CWE-20']\"]['filename'])"
   ]
  },
  {
   "cell_type": "code",
   "execution_count": null,
   "metadata": {},
   "outputs": [],
   "source": [
    "import ruamel\n",
    "\n",
    "# yaml = yaml.YAML()\n",
    "# config = yaml.safe_load(open(\"../ext_projects.yaml\"))\n",
    "with open(\"../ext_projects.yaml\") as f:\n",
    "        # config = yaml.load(f, Loader=yaml.RoundTripLoader)\n",
    "        doc = ruamel.yaml.load(f.read(), Loader=ruamel.yaml.RoundTripLoader)\n",
    "        doc['save']['drop_dup'] = '10'\n",
    "        print(ruamel.yaml.dump(doc, Dumper=ruamel.yaml.RoundTripDumper))\n",
    "\n",
    "ruamel.yaml.preserve_quotes = True\n",
    "config['save']['drop_dup'] = '10'\n",
    "print(config)\n",
    "\n",
    "# with open('file_to_edit.yaml', 'w') as f:\n",
    "#         yaml.dump(config, f)"
   ]
  },
  {
   "cell_type": "code",
   "execution_count": null,
   "metadata": {},
   "outputs": [],
   "source": [
    "import ruamel\n",
    "import sys\n",
    "\n",
    "# yaml = yaml.YAML()\n",
    "# config = yaml.safe_load(open(\"../ext_projects.yaml\"))\n",
    "with open(\"../ext_projects.yaml\") as f:\n",
    "    yaml = ruamel.yaml.YAML()\n",
    "    yaml.indent(mapping=4, sequence=4, offset=1)\n",
    "    yaml.preserve_quotes = True\n",
    "    params = yaml.load(f.read())\n",
    "    params['projects'].yaml_add_eol_comment('some comment', key='new_key', column=40)\n",
    "    config['save']['drop_dup'] = '10'\n",
    "    # params['ParentTest']['test'].yaml_add_eol_comment('some comment', key='new_key', column=40) # column is optional\n",
    "    yaml.dump(params, sys.stdout)"
   ]
  },
  {
   "cell_type": "code",
   "execution_count": null,
   "metadata": {},
   "outputs": [],
   "source": [
    "import time\n",
    "from humanfriendly import format_timespan\n",
    "start_time = time.time()\n",
    "\n",
    "print(\"--- %s ---\" % format_timespan(time.time() - start_time))"
   ]
  },
  {
   "cell_type": "code",
   "execution_count": null,
   "metadata": {},
   "outputs": [],
   "source": [
    "import pandas as pd\n",
    "\n",
    "%run ../src/sqlite.py\n",
    "db = Database(\"../data/iotcode.db\")\n",
    "from sqlite import Database\n",
    "\n",
    "df = pd.read_sql(f\"SELECT * FROM statement\", con=db.conn)\n",
    "df.head()"
   ]
  }
 ],
 "metadata": {
  "kernelspec": {
   "display_name": "iotCode",
   "language": "python",
   "name": "python3"
  },
  "language_info": {
   "codemirror_mode": {
    "name": "ipython",
    "version": 3
   },
   "file_extension": ".py",
   "mimetype": "text/x-python",
   "name": "python",
   "nbconvert_exporter": "python",
   "pygments_lexer": "ipython3",
   "version": "3.8.0"
  },
  "orig_nbformat": 4
 },
 "nbformat": 4,
 "nbformat_minor": 2
}
