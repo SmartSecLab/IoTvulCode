{
 "cells": [
  {
   "cell_type": "code",
   "execution_count": null,
   "metadata": {},
   "outputs": [],
   "source": [
    "import pandas as pd\n",
    "from sqlite3 import connect\n",
    "from pathlib import Path\n",
    "import ruamel\n",
    "import sys\n",
    "\n",
    "def load_db2dataframes(database):\n",
    "    \"\"\" Load the database into Pandas DataFrames \"\"\"\n",
    "    conn = connect(database)\n",
    "    df_fun = pd.read_sql(sql=\"SELECT code, cwe as label FROM function\", con=conn)\n",
    "    df_stat = pd.read_sql(sql=\"SELECT context as code, cwe as label FROM statement\", con=conn)\n",
    "    df_prj = pd.read_sql(sql=\"SELECT * FROM project\", con=conn)\n",
    "    return df_fun, df_stat, df_prj\n",
    "\n",
    "def IoTcode2vulBERT(csv_input, csv_output):\n",
    "    \"\"\" convert data to vulBERT format \"\"\"\n",
    "    df = pd.read_csv(csv_input)\n",
    "    if 'cwe' in list(df.columns):\n",
    "        df = df[['code', 'is_vul']]\n",
    "        df = df.rename(columns={'is_vul':'label'})\n",
    "        df['label'] = df.label.astype(int)\n",
    "    df.to_csv(csv_output)\n",
    "    return df\n",
    "\n",
    "\n",
    "database = '/Users/guru/research/TinyVul-v2.db'\n",
    "df_fun, df_stat, df_prj = load_db2dataframes(database)\n",
    "\n",
    "# csv_input = f\"../data/{dataset}_function.csv\"\n",
    "# csv_vulbert =f\"../data/{dataset}_function-VulBERT.csv\"\n",
    "# csv = '../VulBERTa/data/finetune/d2a/function/d2a_lbv1_function_dev.csv'\n",
    "\n",
    "# df = IoTcode2vulBERT(\n",
    "#     csv_input=csv_input,\n",
    "#     csv_output=csv_vulbert\n",
    "#     )"
   ]
  },
  {
   "cell_type": "markdown",
   "metadata": {},
   "source": [
    "## Save the dataframes into CSV files "
   ]
  },
  {
   "cell_type": "code",
   "execution_count": 54,
   "metadata": {},
   "outputs": [],
   "source": [
    "def correct_multi_label(df):\n",
    "    \"\"\" retrieve binary data from multiclass df \"\"\"\n",
    "    if not isinstance(df, pd.DataFrame):\n",
    "        raise TypeError('df must be a pandas DataFrame')\n",
    "\n",
    "    df = df.drop_duplicates()\n",
    "    return df\n",
    "\n",
    "def convert_multi2binary(df):\n",
    "    \"\"\" retrieve binary data from multiclass df \"\"\"\n",
    "    if not isinstance(df, pd.DataFrame):\n",
    "        raise TypeError('df must be a pandas DataFrame')\n",
    "\n",
    "    df['label'] = df.apply(lambda row: 0 if row['label']=='Benign' else 1, axis=1)\n",
    "    df['label'] = df['label'].astype(int)\n",
    "    df = df.drop_duplicates()\n",
    "    return df\n",
    "\n",
    "def save_csvs_from_TinyVul(df_fun, df_stat, db_name):\n",
    "    \"\"\" save the data to csv files \"\"\"\n",
    "    # Save multiclass CSVs\n",
    "    df_fun = correct_multi_label(df_fun)\n",
    "    df_stat = correct_multi_label(df_stat)\n",
    "    df_fun.to_csv(f\"../data/{db_name}-function-multiclass.csv\", index=False)\n",
    "    df_stat.to_csv(f\"../data/{db_name}-statement-multiclass.csv\", index=False)\n",
    "\n",
    "    # Save binary CSVs\n",
    "    df_fun = convert_multi2binary(df_fun)\n",
    "    df_stat = convert_multi2binary(df_stat)\n",
    "    df_fun.to_csv(f\"../data/{db_name}-function-binary.csv\", index=False)\n",
    "    df_stat.to_csv(f\"../data/{db_name}-statement-binary.csv\", index=False)\n",
    "\n",
    "\n",
    "db_name = Path(database).name.replace('.db', '')\n",
    "save_csvs_from_TinyVul(df_fun, df_stat, db_name=db_name)\n",
    "\n",
    "# Save project details into a CSV file (optional)\n",
    "df_prj.to_csv(f\"../data/{db_name}-project.csv\", index=False)"
   ]
  },
  {
   "cell_type": "markdown",
   "metadata": {},
   "source": [
    "## Change drop_dup variable in configuration file:"
   ]
  },
  {
   "cell_type": "code",
   "execution_count": null,
   "metadata": {},
   "outputs": [],
   "source": [
    "def change_config_drop_dup():\n",
    "        \"\"\" change the config file to drop duplicates \"\"\"\n",
    "        with open(\"../ext_projects_ruamel.yaml\") as f:\n",
    "                # config = yaml.load(f, Loader=yaml.RoundTripLoader)\n",
    "                doc = ruamel.yaml.load(f.read(), Loader=ruamel.yaml.RoundTripLoader)\n",
    "                doc['save']['drop_dup'] = '10'\n",
    "                print(ruamel.yaml.dump(doc, Dumper=ruamel.yaml.RoundTripDumper))\n",
    "                ruamel.yaml.preserve_quotes = True\n",
    "                config['save']['drop_dup'] = '10'\n",
    "                print(config)\n",
    "        ## Or\n",
    "        # # yaml = yaml.YAML()\n",
    "        # # config = yaml.safe_load(open(\"../ext_projects.yaml\"))\n",
    "        # with open(\"../ext_projects.yaml\") as f:\n",
    "        #     yaml = ruamel.yaml.YAML()\n",
    "        #     yaml.indent(mapping=4, sequence=4, offset=1)\n",
    "        #     yaml.preserve_quotes = True\n",
    "        #     params = yaml.load(f.read())\n",
    "        #     params['projects'].yaml_add_eol_comment('some comment', key='new_key', column=40)\n",
    "        #     config['save']['drop_dup'] = '10'\n",
    "        #     # params['ParentTest']['test'].yaml_add_eol_comment('some comment', key='new_key', column=40) # column is optional\n",
    "        #     yaml.dump(params, sys.stdout)"
   ]
  }
 ],
 "metadata": {
  "kernelspec": {
   "display_name": "iotCode",
   "language": "python",
   "name": "python3"
  },
  "language_info": {
   "codemirror_mode": {
    "name": "ipython",
    "version": 3
   },
   "file_extension": ".py",
   "mimetype": "text/x-python",
   "name": "python",
   "nbconvert_exporter": "python",
   "pygments_lexer": "ipython3",
   "version": "3.8.0"
  },
  "orig_nbformat": 4
 },
 "nbformat": 4,
 "nbformat_minor": 2
}
