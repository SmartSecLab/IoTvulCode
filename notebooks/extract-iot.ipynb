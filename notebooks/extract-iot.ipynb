{
 "cells": [
  {
   "attachments": {},
   "cell_type": "markdown",
   "metadata": {},
   "source": [
    "## Queries on CVE records for the extraction of IoT related referenced repositories:"
   ]
  },
  {
   "cell_type": "code",
   "execution_count": 1,
   "metadata": {},
   "outputs": [],
   "source": [
    "import collections\n",
    "import pandas as pd\n",
    "from matplotlib import pyplot as plt\n",
    "import json \n",
    "import ast\n",
    "import re\n",
    "import os\n",
    "import csv\n",
    "import subprocess\n",
    "import requests\n",
    "import tempfile\n",
    "from io import BytesIO, StringIO\n",
    "from zipfile import ZipFile\n",
    "from guesslang import Guess"
   ]
  },
  {
   "cell_type": "code",
   "execution_count": 2,
   "metadata": {},
   "outputs": [
    {
     "name": "stderr",
     "output_type": "stream",
     "text": [
      "/var/folders/p_/9ryggq9s67zbhxhzlms6wmzw0000gn/T/ipykernel_24930/2247889250.py:1: DtypeWarning: Columns (7,8,9,10) have mixed types. Specify dtype option on import or set low_memory=False.\n",
      "  df = pd.read_csv('../data/cve-records.csv')\n"
     ]
    }
   ],
   "source": [
    "df = pd.read_csv('../data/cve-records.csv')\n",
    "des_str = df['description'][0]"
   ]
  },
  {
   "attachments": {},
   "cell_type": "markdown",
   "metadata": {},
   "source": [
    "### Search Query: \n",
    "\"Internet of Things\" OR \"IoT\" OR \"Industry 4.0\" OR \"smart cities\" OR \"smart city\"OR \"smart contract\" OR \"manufacturing\" OR \"energy\" OR \"supply chain\" "
   ]
  },
  {
   "cell_type": "code",
   "execution_count": 3,
   "metadata": {},
   "outputs": [
    {
     "name": "stdout",
     "output_type": "stream",
     "text": [
      "count_cves: 2175\n"
     ]
    }
   ],
   "source": [
    "def get_description(des_str):\n",
    "    if des_str!=None or des_str!='':\n",
    "        des_arr_dict = ast.literal_eval(des_str)\n",
    "        des_cve = \"\"    #description of a CVE-> 'value' from array of dict.\n",
    "\n",
    "        for dic in des_arr_dict:\n",
    "            des_cve = des_cve + dic['value']\n",
    "        return des_cve\n",
    "        \n",
    "    else:\n",
    "        print('Empty description for CVE: ')\n",
    "        return 0\n",
    "\n",
    "def get_iot_cves(df):\n",
    "    iot_set = [\"Internet of Things\", \"IoT\", \"Industry 4.0\", \n",
    "                \"smart cities\", \"smart city\", \"smart contract\", \n",
    "                \"manufacturing\", \"energy\", \"supply chain\", \"orange pi\", \"banana pi\", \"arduino\"]\n",
    "    iot_cves = []\n",
    "\n",
    "    for row in range(len(df)):\n",
    "        des_cve = get_description(df['description'][row])\n",
    "        \n",
    "        # print if they are IoT related descriptions\n",
    "        for x in iot_set:\n",
    "            if x.lower() in des_cve.lower():\n",
    "                # print(des_cve)\n",
    "                # print(df['cve_id'][row])\n",
    "                iot_cves.append(df['cve_id'][row])\n",
    "                # print(df['reference_json'][row])\n",
    "                # print('\\n')\n",
    "    return iot_cves\n",
    "\n",
    "iot_cves = get_iot_cves(df)\n",
    "print('count_cves:', len(iot_cves))"
   ]
  },
  {
   "cell_type": "code",
   "execution_count": 4,
   "metadata": {},
   "outputs": [
    {
     "data": {
      "text/plain": [
       "2167"
      ]
     },
     "execution_count": 4,
     "metadata": {},
     "output_type": "execute_result"
    }
   ],
   "source": [
    "df_iot = df[df.cve_id.isin(iot_cves)]\n",
    "len(df_iot)"
   ]
  },
  {
   "cell_type": "code",
   "execution_count": 5,
   "metadata": {},
   "outputs": [],
   "source": [
    "iot_vcs = ['github', 'bitbucket', 'gitlab']\n",
    "vcs_list = []\n",
    "\n",
    "for ref_str in df_iot.reference_json:\n",
    "    url_dict  = ast.literal_eval(ref_str)\n",
    "    \n",
    "    if len(url_dict) > 0:\n",
    "        for ref in url_dict:\n",
    "            vcs_list.append(ref['url'])     "
   ]
  },
  {
   "attachments": {},
   "cell_type": "markdown",
   "metadata": {},
   "source": [
    "## Vulnerabilty reporting databases and number of their occurances in CVEs"
   ]
  },
  {
   "cell_type": "code",
   "execution_count": 6,
   "metadata": {},
   "outputs": [
    {
     "ename": "NameError",
     "evalue": "name 'url_heads' is not defined",
     "output_type": "error",
     "traceback": [
      "\u001b[0;31m---------------------------------------------------------------------------\u001b[0m",
      "\u001b[0;31mNameError\u001b[0m                                 Traceback (most recent call last)",
      "Cell \u001b[0;32mIn[6], line 1\u001b[0m\n\u001b[0;32m----> 1\u001b[0m url_freq \u001b[39m=\u001b[39m collections\u001b[39m.\u001b[39mCounter(url_heads)\n\u001b[1;32m      2\u001b[0m df_url \u001b[39m=\u001b[39m pd\u001b[39m.\u001b[39mDataFrame(url_freq\u001b[39m.\u001b[39mitems(), columns\u001b[39m=\u001b[39m[\u001b[39m'\u001b[39m\u001b[39murls\u001b[39m\u001b[39m'\u001b[39m, \u001b[39m'\u001b[39m\u001b[39mcount\u001b[39m\u001b[39m'\u001b[39m])\n\u001b[1;32m      3\u001b[0m df_url \u001b[39m=\u001b[39m df_url\u001b[39m.\u001b[39msort_values(by\u001b[39m=\u001b[39m[\u001b[39m'\u001b[39m\u001b[39mcount\u001b[39m\u001b[39m'\u001b[39m], ascending\u001b[39m=\u001b[39m\u001b[39mFalse\u001b[39;00m)\n",
      "\u001b[0;31mNameError\u001b[0m: name 'url_heads' is not defined"
     ]
    }
   ],
   "source": [
    "url_freq = collections.Counter(url_heads)\n",
    "df_url = pd.DataFrame(url_freq.items(), columns=['urls', 'count'])\n",
    "df_url = df_url.sort_values(by=['count'], ascending=False)\n",
    "df_url.to_csv('../result/top-databases.csv', index=False, sep=';')\n",
    "df_url.head(5)"
   ]
  }
 ],
 "metadata": {
  "kernelspec": {
   "display_name": "iotCode",
   "language": "python",
   "name": "python3"
  },
  "language_info": {
   "codemirror_mode": {
    "name": "ipython",
    "version": 3
   },
   "file_extension": ".py",
   "mimetype": "text/x-python",
   "name": "python",
   "nbconvert_exporter": "python",
   "pygments_lexer": "ipython3",
   "version": "3.8.0"
  },
  "orig_nbformat": 4,
  "vscode": {
   "interpreter": {
    "hash": "2f838046bc7a32c7f2766f1c532b5baddca8fb3dd7100bdb4fa26065ff771de8"
   }
  }
 },
 "nbformat": 4,
 "nbformat_minor": 2
}
