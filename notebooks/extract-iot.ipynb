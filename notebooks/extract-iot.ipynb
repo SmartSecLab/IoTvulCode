{
 "cells": [
  {
   "cell_type": "markdown",
   "metadata": {},
   "source": [
    "## Queries on CVE records for the extraction of IoT related referenced repositories:"
   ]
  },
  {
   "cell_type": "code",
   "execution_count": 16,
   "metadata": {},
   "outputs": [],
   "source": [
    "import collections\n",
    "import pandas as pd\n",
    "from matplotlib import pyplot as plt\n",
    "import json \n",
    "import ast\n",
    "import re\n",
    "import os\n",
    "import csv\n",
    "import subprocess\n",
    "import requests\n",
    "import tempfile\n",
    "from io import BytesIO, StringIO\n",
    "from zipfile import ZipFile\n",
    "from guesslang import Guess"
   ]
  },
  {
   "cell_type": "code",
   "execution_count": 56,
   "metadata": {},
   "outputs": [
    {
     "name": "stderr",
     "output_type": "stream",
     "text": [
      "/var/folders/p_/9ryggq9s67zbhxhzlms6wmzw0000gn/T/ipykernel_4082/2247889250.py:1: DtypeWarning: Columns (7,8,9,10) have mixed types. Specify dtype option on import or set low_memory=False.\n",
      "  df = pd.read_csv('../data/cve-records.csv')\n"
     ]
    }
   ],
   "source": [
    "df = pd.read_csv('../data/cve-records.csv')\n",
    "des_str = df['description'][0]"
   ]
  },
  {
   "attachments": {},
   "cell_type": "markdown",
   "metadata": {},
   "source": [
    "### Search Query: \n",
    "\"Internet of Things\" OR \"IoT\" OR \"Industry 4.0\" OR \"smart cities\" OR \"smart city\"OR \"smart contract\" OR \"manufacturing\" OR \"energy\" OR \"supply chain\" "
   ]
  },
  {
   "cell_type": "code",
   "execution_count": 2,
   "metadata": {},
   "outputs": [
    {
     "name": "stdout",
     "output_type": "stream",
     "text": [
      "count_cves: 2175\n"
     ]
    }
   ],
   "source": [
    "def get_description(des_str):\n",
    "    if des_str!=None or des_str!='':\n",
    "        des_arr_dict = ast.literal_eval(des_str)\n",
    "        des_cve = \"\"    #description of a CVE-> 'value' from array of dict.\n",
    "\n",
    "        for dic in des_arr_dict:\n",
    "            des_cve = des_cve + dic['value']\n",
    "        return des_cve\n",
    "        \n",
    "    else:\n",
    "        print('Empty description for CVE: ')\n",
    "        return 0\n",
    "\n",
    "def get_iot_cves(df):\n",
    "    iot_set = [\"Internet of Things\", \"IoT\", \"Industry 4.0\", \n",
    "                \"smart cities\", \"smart city\", \"smart contract\", \n",
    "                \"manufacturing\", \"energy\", \"supply chain\", \"orange pi\", \"banana pi\", \"arduino\"]\n",
    "    iot_cves = []\n",
    "\n",
    "    for row in range(len(df)):\n",
    "        des_cve = get_description(df['description'][row])\n",
    "        \n",
    "        # print if they are IoT related descriptions\n",
    "        for x in iot_set:\n",
    "            if x.lower() in des_cve.lower():\n",
    "                # print(des_cve)\n",
    "                # print(df['cve_id'][row])\n",
    "                iot_cves.append(df['cve_id'][row])\n",
    "                # print(df['reference_json'][row])\n",
    "                # print('\\n')\n",
    "    return iot_cves\n",
    "\n",
    "iot_cves = get_iot_cves(df)\n",
    "print('count_cves:', len(iot_cves))"
   ]
  },
  {
   "cell_type": "code",
   "execution_count": 3,
   "metadata": {},
   "outputs": [
    {
     "data": {
      "text/plain": [
       "2167"
      ]
     },
     "execution_count": 3,
     "metadata": {},
     "output_type": "execute_result"
    }
   ],
   "source": [
    "df_iot = df[df.cve_id.isin(iot_cves)]\n",
    "len(df_iot)"
   ]
  },
  {
   "cell_type": "code",
   "execution_count": 4,
   "metadata": {},
   "outputs": [],
   "source": [
    "iot_vcs = ['github', 'bitbucket', 'gitlab']\n",
    "vcs_list = []\n",
    "\n",
    "for ref_str in df_iot.reference_json:\n",
    "    url_dict  = ast.literal_eval(ref_str)\n",
    "    \n",
    "    if len(url_dict) > 0:\n",
    "        for ref in url_dict:\n",
    "            vcs_list.append(ref['url'])     "
   ]
  },
  {
   "attachments": {},
   "cell_type": "markdown",
   "metadata": {},
   "source": [
    "## Vulnerabilty reporting databases and number of their occurances in CVEs"
   ]
  },
  {
   "cell_type": "code",
   "execution_count": 445,
   "metadata": {},
   "outputs": [
    {
     "data": {
      "text/html": [
       "<div>\n",
       "<style scoped>\n",
       "    .dataframe tbody tr th:only-of-type {\n",
       "        vertical-align: middle;\n",
       "    }\n",
       "\n",
       "    .dataframe tbody tr th {\n",
       "        vertical-align: top;\n",
       "    }\n",
       "\n",
       "    .dataframe thead th {\n",
       "        text-align: right;\n",
       "    }\n",
       "</style>\n",
       "<table border=\"1\" class=\"dataframe\">\n",
       "  <thead>\n",
       "    <tr style=\"text-align: right;\">\n",
       "      <th></th>\n",
       "      <th>urls</th>\n",
       "      <th>count</th>\n",
       "    </tr>\n",
       "  </thead>\n",
       "  <tbody>\n",
       "    <tr>\n",
       "      <th>0</th>\n",
       "      <td>http://www.securityfocus.com/</td>\n",
       "      <td>222</td>\n",
       "    </tr>\n",
       "    <tr>\n",
       "      <th>8</th>\n",
       "      <td>http://www.oracle.com/</td>\n",
       "      <td>177</td>\n",
       "    </tr>\n",
       "    <tr>\n",
       "      <th>2</th>\n",
       "      <td>http://www.securitytracker.com/</td>\n",
       "      <td>127</td>\n",
       "    </tr>\n",
       "    <tr>\n",
       "      <th>3</th>\n",
       "      <td>http://www.mandriva.com/</td>\n",
       "      <td>25</td>\n",
       "    </tr>\n",
       "    <tr>\n",
       "      <th>14</th>\n",
       "      <td>http://www.zerodayinitiative.com/</td>\n",
       "      <td>24</td>\n",
       "    </tr>\n",
       "  </tbody>\n",
       "</table>\n",
       "</div>"
      ],
      "text/plain": [
       "                                 urls  count\n",
       "0       http://www.securityfocus.com/    222\n",
       "8              http://www.oracle.com/    177\n",
       "2     http://www.securitytracker.com/    127\n",
       "3            http://www.mandriva.com/     25\n",
       "14  http://www.zerodayinitiative.com/     24"
      ]
     },
     "execution_count": 445,
     "metadata": {},
     "output_type": "execute_result"
    }
   ],
   "source": [
    "url_freq = collections.Counter(url_heads)\n",
    "df_url = pd.DataFrame(url_freq.items(), columns=['urls', 'count'])\n",
    "df_url = df_url.sort_values(by=['count'], ascending=False)\n",
    "df_url.to_csv('../result/top-databases.csv', index=False, sep=';')\n",
    "df_url.head(5)"
   ]
  },
  {
   "attachments": {},
   "cell_type": "markdown",
   "metadata": {},
   "source": [
    "## Crawl project directories for source-code files and scan them for vulnerabilities."
   ]
  },
  {
   "cell_type": "code",
   "execution_count": 8,
   "metadata": {},
   "outputs": [
    {
     "data": {
      "text/plain": [
       "[PosixPath('../data/projects/contiki-2.4/tools'),\n",
       " PosixPath('../data/projects/contiki-2.4/.DS_Store'),\n",
       " PosixPath('../data/projects/contiki-2.4/core'),\n",
       " PosixPath('../data/projects/contiki-2.4/README-EXAMPLES'),\n",
       " PosixPath('../data/projects/contiki-2.4/cpu'),\n",
       " PosixPath('../data/projects/contiki-2.4/platform'),\n",
       " PosixPath('../data/projects/contiki-2.4/README-BUILDING'),\n",
       " PosixPath('../data/projects/contiki-2.4/README'),\n",
       " PosixPath('../data/projects/contiki-2.4/examples'),\n",
       " PosixPath('../data/projects/contiki-2.4/Makefile.include'),\n",
       " PosixPath('../data/projects/contiki-2.4/doc'),\n",
       " PosixPath('../data/projects/contiki-2.4/apps')]"
      ]
     },
     "execution_count": 8,
     "metadata": {},
     "output_type": "execute_result"
    }
   ],
   "source": [
    "import pathlib\n",
    "from os import walk\n",
    "\n",
    "prj_dir = '../data/projects/contiki-2.4/'\n",
    "\n",
    "[p for p in pathlib.Path(prj_dir).iterdir()]"
   ]
  },
  {
   "cell_type": "code",
   "execution_count": 9,
   "metadata": {},
   "outputs": [
    {
     "name": "stdout",
     "output_type": "stream",
     "text": [
      "Number of files in the project:  1992\n"
     ]
    }
   ],
   "source": [
    "def get_filepaths(directory):\n",
    "    \"\"\"\n",
    "    This function will generate the file names in a directory \n",
    "    tree by walking the tree either top-down or bottom-up. For each \n",
    "    directory in the tree rooted at directory top (including top itself), \n",
    "    it yields a 3-tuple (dirpath, dirnames, filenames).\n",
    "    # ref: https://stackoverflow.com/questions/3207219/how-do-i-list-all-files-of-a-directory\n",
    "    \"\"\"\n",
    "    file_paths = []  # List which will store all of the full filepaths.\n",
    "\n",
    "    # Walk the tree.\n",
    "    for root, directories, files in os.walk(directory):\n",
    "        for filename in files:\n",
    "            # Join the two strings in order to form the full filepath.\n",
    "            filepath = os.path.join(root, filename)\n",
    "            file_paths.append(filepath)  # Add it to the list.\n",
    "\n",
    "    return file_paths  # Self-explanatory.\n",
    "\n",
    "prj_files = get_filepaths(prj_dir)\n",
    "print('Number of files in the project: ', len(prj_files))"
   ]
  },
  {
   "attachments": {},
   "cell_type": "markdown",
   "metadata": {},
   "source": [
    "# Fetching list of C/C++ files from zip file of the project url. "
   ]
  },
  {
   "attachments": {},
   "cell_type": "markdown",
   "metadata": {},
   "source": [
    "### Guess programming language and scan only C programs"
   ]
  },
  {
   "cell_type": "code",
   "execution_count": 10,
   "metadata": {},
   "outputs": [],
   "source": [
    "def check_internet(url):\n",
    "    response = requests.get(url)\n",
    "    return True if response.status_code < 400 else False\n",
    "    \n",
    "    \n",
    "def retrieve_zip(url):\n",
    "    \"\"\" Fetching list of C/C++ files from zip file of the project url. \n",
    "    \"\"\"\n",
    "    if check_internet(url):\n",
    "        r = requests.get(url)\n",
    "        # BytesIO keeps the file in memory\n",
    "        return ZipFile(io.BytesIO(r.content))  \n",
    "    else:\n",
    "        print('Internet is not working!')\n",
    "        return None\n",
    "\n",
    "\n",
    "def guess_pl(file, zip_obj=None):\n",
    "    \"\"\" guess programming language of the input file. \n",
    "    \"\"\" \n",
    "    guess = Guess()\n",
    "    if zip_obj is not None:\n",
    "        # extract a specific file from the zip container\n",
    "        with zip_obj.open(file, 'r') as f:\n",
    "            lang = guess.language_name(f.read())\n",
    "    else:\n",
    "        with open(file, 'r', encoding= 'unicode_escape') as f:\n",
    "            lang = guess.language_name(f.read())\n",
    "    return lang\n",
    "\n",
    "# # Example code:\n",
    "# file = '../data/projects/contiki-2.4/tools/tunslip.c'\n",
    "# path = '../data/projects/contiki-2.4/tools/'\n",
    "# # cmd = 'flawfinder --csv --inputs ' + path + ' >> output.csv'\n",
    "# cmd = 'flawfinder --csv --inputs ' + path\n",
    "# process = subprocess.Popen(cmd,  shell=True, stdout=subprocess.PIPE)\n",
    "# output = process.stdout.read()\n",
    "# df=pd.read_csv(StringIO(str(output,'utf-8')))\n",
    "# df.head()"
   ]
  },
  {
   "cell_type": "code",
   "execution_count": 450,
   "metadata": {},
   "outputs": [
    {
     "name": "stderr",
     "output_type": "stream",
     "text": [
      "Empty source code provided\n",
      "Empty source code provided\n",
      "Empty source code provided\n",
      "Empty source code provided\n",
      "Empty source code provided\n",
      "Empty source code provided\n",
      "Empty source code provided\n"
     ]
    },
    {
     "name": "stdout",
     "output_type": "stream",
     "text": [
      "(18, 16)\n"
     ]
    }
   ],
   "source": [
    "def find_flaw(file_or_dir):\n",
    "    \"\"\" find flaws ini the file using flawfinder tool\n",
    "    return : flawfinder output as a CSV file.\n",
    "    Usage: cmd = 'flawfinder --csv --inputs ' + path + ' >> output.csv'\n",
    "    \"\"\"\n",
    "    if os.path.isfile(file_or_dir):\n",
    "        cmd = 'flawfinder --csv ' + file_or_dir\n",
    "    elif ps.path.isdir(file_or_dir):\n",
    "        cmd = 'flawfinder --csv --inputs ' + file_or_dir\n",
    "        \n",
    "    process = subprocess.Popen(cmd,  shell=True, stdout=subprocess.PIPE)\n",
    "    output = process.stdout.read()\n",
    "    return pd.read_csv(StringIO(str(output,'utf-8')))\n",
    "    \n",
    "\n",
    "def file2df(file, zip_obj=None):\n",
    "    \"\"\" convert zipped file stream - tempfile to pandas dataframe. \n",
    "    \"\"\"\n",
    "    file_content = ''\n",
    "    \n",
    "    if zip_obj:\n",
    "        # io.StringIO(sf.read().decode(\"utf-8\")).read()\n",
    "        with zip_obj.open(file) as fc:\n",
    "            # file_content = fc.read().encode('UTF-8')\n",
    "            file_content = fc.read()\n",
    "    else:\n",
    "        with open(file) as fc:\n",
    "            file_content = fc.read().encode('UTF-8')\n",
    "\n",
    "    fp = tempfile.NamedTemporaryFile(suffix='_Flawfinder',\n",
    "                                    prefix='Filename_')\n",
    "    # deal with the temp file of extracted zipped file\n",
    "    try:\n",
    "        fp.write(file_content)\n",
    "        fp.seek(0)  # move reader's head to the initial point of the file. \n",
    "        file_name = fp.name\n",
    "        df = find_flaw(file_name)\n",
    "    except OSError:\n",
    "        print(\"Could not open/read file:\", fp)\n",
    "        sys.exit(1)\n",
    "    finally:\n",
    "        fp.close()\n",
    "    return df\n",
    "\n",
    "\n",
    "url  = 'https://sourceforge.net/projects/contiki/files/Contiki/Contiki%202.4/contiki-sky-2.4.zip/download'\n",
    "zipobj = retrieve_zip(url)\n",
    "\n",
    "files = zipobj.namelist() \n",
    "selected_files = [x for x in files if guess_pl(x, zipobj) in ['C', 'C++']]\n",
    "# concatenate all the output dataframes of all the files\n",
    "df_composite = pd.concat([file2df(selected_files[i], zipobj) for i in range(len(selected_files))])\n",
    "print(df_composite.shape)"
   ]
  }
 ],
 "metadata": {
  "kernelspec": {
   "display_name": "Python 3.8.0 ('vulcode')",
   "language": "python",
   "name": "python3"
  },
  "language_info": {
   "codemirror_mode": {
    "name": "ipython",
    "version": 3
   },
   "file_extension": ".py",
   "mimetype": "text/x-python",
   "name": "python",
   "nbconvert_exporter": "python",
   "pygments_lexer": "ipython3",
   "version": "3.8.0"
  },
  "orig_nbformat": 4,
  "vscode": {
   "interpreter": {
    "hash": "770d70f40277e0fadd6bc1f7a5fecfd799eee3cbb57c500ccfb48eb07fd2c1ce"
   }
  }
 },
 "nbformat": 4,
 "nbformat_minor": 2
}
