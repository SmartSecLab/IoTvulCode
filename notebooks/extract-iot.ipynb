{
 "cells": [
  {
   "attachments": {},
   "cell_type": "markdown",
   "metadata": {},
   "source": [
    "## Queries on CVE records for the extraction of IoT related referenced repositories:"
   ]
  },
  {
   "cell_type": "code",
   "execution_count": 77,
   "metadata": {},
   "outputs": [],
   "source": [
    "import collections\n",
    "import pandas as pd\n",
    "from matplotlib import pyplot as plt\n",
    "import json \n",
    "import ast\n",
    "import re\n",
    "import os\n",
    "import csv\n",
    "import subprocess\n",
    "import requests\n",
    "import tempfile\n",
    "from io import BytesIO, StringIO\n",
    "from zipfile import ZipFile\n",
    "from guesslang import Guess"
   ]
  },
  {
   "cell_type": "code",
   "execution_count": 78,
   "metadata": {},
   "outputs": [
    {
     "name": "stderr",
     "output_type": "stream",
     "text": [
      "/var/folders/p_/9ryggq9s67zbhxhzlms6wmzw0000gn/T/ipykernel_37583/2247889250.py:1: DtypeWarning: Columns (6,7,8,9,10,11,12,13,14,15,16,17,32) have mixed types. Specify dtype option on import or set low_memory=False.\n",
      "  df = pd.read_csv('../data/cve-records.csv')\n"
     ]
    }
   ],
   "source": [
    "df = pd.read_csv('../data/cve-records.csv')\n",
    "des_str = df['description'][0]"
   ]
  },
  {
   "attachments": {},
   "cell_type": "markdown",
   "metadata": {},
   "source": [
    "### Search Query: \n",
    "\"Internet of Things\" OR \"IoT\" OR \"Industry 4.0\" OR \"smart cities\" OR \"smart city\"OR \"smart contract\" OR \"manufacturing\" OR \"energy\" OR \"supply chain\" "
   ]
  },
  {
   "cell_type": "code",
   "execution_count": 79,
   "metadata": {},
   "outputs": [
    {
     "name": "stdout",
     "output_type": "stream",
     "text": [
      "count_cves: 2262\n"
     ]
    }
   ],
   "source": [
    "def get_description(des_str):\n",
    "    if des_str!=None or des_str!='':\n",
    "        des_arr_dict = ast.literal_eval(des_str)\n",
    "        des_cve = \"\"    #description of a CVE-> 'value' from array of dict.\n",
    "\n",
    "        for dic in des_arr_dict:\n",
    "            des_cve = des_cve + dic['value']\n",
    "        return des_cve\n",
    "        \n",
    "    else:\n",
    "        print('Empty description for CVE: ')\n",
    "        return 0\n",
    "\n",
    "def get_iot_cves(df):\n",
    "    iot_set = [\"Internet of Things\", \"IoT\", \"Industry 4.0\", \n",
    "                \"smart cities\", \"smart city\", \"smart contract\", \n",
    "                \"manufacturing\", \"energy\", \"supply chain\", \"orange pi\", \"banana pi\", \"arduino\"]\n",
    "    iot_cves = []\n",
    "\n",
    "    for row in range(len(df)):\n",
    "        des_cve = get_description(df['description'][row])\n",
    "        \n",
    "        # print if they are IoT related descriptions\n",
    "        for x in iot_set:\n",
    "            if x.lower() in des_cve.lower():\n",
    "                # print(des_cve)\n",
    "                # print(df['cve_id'][row])\n",
    "                iot_cves.append(df['cve_id'][row])\n",
    "                # print(df['reference_json'][row])\n",
    "                # print('\\n')\n",
    "    return iot_cves\n",
    "\n",
    "iot_cves = get_iot_cves(df)\n",
    "print('count_cves:', len(iot_cves))"
   ]
  },
  {
   "cell_type": "code",
   "execution_count": 80,
   "metadata": {},
   "outputs": [
    {
     "data": {
      "text/plain": [
       "2240"
      ]
     },
     "execution_count": 80,
     "metadata": {},
     "output_type": "execute_result"
    }
   ],
   "source": [
    "df_iot = df[df.cve_id.isin(iot_cves)]\n",
    "len(df_iot)"
   ]
  },
  {
   "cell_type": "code",
   "execution_count": 81,
   "metadata": {},
   "outputs": [],
   "source": [
    "iot_vcs = ['github', 'bitbucket', 'gitlab']\n",
    "vcs_list = []\n",
    "\n",
    "for ref_str in df_iot.reference_json:\n",
    "    url_dict  = ast.literal_eval(ref_str)\n",
    "    \n",
    "    if len(url_dict) > 0:\n",
    "        for ref in url_dict:\n",
    "            vcs_list.append(ref['url'])     "
   ]
  },
  {
   "attachments": {},
   "cell_type": "markdown",
   "metadata": {},
   "source": [
    "## Vulnerabilty reporting databases and number of their occurances in CVEs"
   ]
  },
  {
   "cell_type": "code",
   "execution_count": 82,
   "metadata": {},
   "outputs": [
    {
     "ename": "NameError",
     "evalue": "name 'url_heads' is not defined",
     "output_type": "error",
     "traceback": [
      "\u001b[0;31m---------------------------------------------------------------------------\u001b[0m",
      "\u001b[0;31mNameError\u001b[0m                                 Traceback (most recent call last)",
      "\u001b[1;32m/Users/guru/Library/CloudStorage/OneDrive-Kristiania/guru_shared/IoTvulCode/notebooks/extract-iot.ipynb Cell 9\u001b[0m line \u001b[0;36m1\n\u001b[0;32m----> <a href='vscode-notebook-cell:/Users/guru/Library/CloudStorage/OneDrive-Kristiania/guru_shared/IoTvulCode/notebooks/extract-iot.ipynb#X11sZmlsZQ%3D%3D?line=0'>1</a>\u001b[0m url_freq \u001b[39m=\u001b[39m collections\u001b[39m.\u001b[39mCounter(url_heads)\n\u001b[1;32m      <a href='vscode-notebook-cell:/Users/guru/Library/CloudStorage/OneDrive-Kristiania/guru_shared/IoTvulCode/notebooks/extract-iot.ipynb#X11sZmlsZQ%3D%3D?line=1'>2</a>\u001b[0m df_url \u001b[39m=\u001b[39m pd\u001b[39m.\u001b[39mDataFrame(url_freq\u001b[39m.\u001b[39mitems(), columns\u001b[39m=\u001b[39m[\u001b[39m'\u001b[39m\u001b[39murls\u001b[39m\u001b[39m'\u001b[39m, \u001b[39m'\u001b[39m\u001b[39mcount\u001b[39m\u001b[39m'\u001b[39m])\n\u001b[1;32m      <a href='vscode-notebook-cell:/Users/guru/Library/CloudStorage/OneDrive-Kristiania/guru_shared/IoTvulCode/notebooks/extract-iot.ipynb#X11sZmlsZQ%3D%3D?line=2'>3</a>\u001b[0m df_url \u001b[39m=\u001b[39m df_url\u001b[39m.\u001b[39msort_values(by\u001b[39m=\u001b[39m[\u001b[39m'\u001b[39m\u001b[39mcount\u001b[39m\u001b[39m'\u001b[39m], ascending\u001b[39m=\u001b[39m\u001b[39mFalse\u001b[39;00m)\n",
      "\u001b[0;31mNameError\u001b[0m: name 'url_heads' is not defined"
     ]
    }
   ],
   "source": [
    "url_freq = collections.Counter(url_heads)\n",
    "df_url = pd.DataFrame(url_freq.items(), columns=['urls', 'count'])\n",
    "df_url = df_url.sort_values(by=['count'], ascending=False)\n",
    "df_url.to_csv('../result/top-databases.csv', index=False, sep=';')\n",
    "df_url.head(5)"
   ]
  },
  {
   "cell_type": "markdown",
   "metadata": {},
   "source": [
    "# Analysis of Infer output (report.json) file:"
   ]
  },
  {
   "cell_type": "code",
   "execution_count": null,
   "metadata": {},
   "outputs": [],
   "source": [
    "import pandas as pd\n",
    "import json\n",
    "import os\n",
    "import subprocess as sub\n",
    "import time \n",
    "\n",
    "############################ Applying infer tool ############################\n",
    "\n",
    "def json2df(file) -> pd.DataFrame:\n",
    "    df = pd.DataFrame()\n",
    "    with open(file) as f:\n",
    "        data = json.load(f)\n",
    "        df = pd.DataFrame(data)\n",
    "    return df\n",
    "\n",
    "def apply_infer(fname) -> pd.DataFrame:\n",
    "    \"\"\"find flaws in the file using infer tool\"\"\"\n",
    "    infer_dir = 'infer-output'\n",
    "    compiler = 'gcc'\n",
    "\n",
    "    cmd = f\"infer run --results-dir {infer_dir} -- {compiler} -c \"\n",
    "    out_file = f\"{infer_dir}/report.json\" # output file generated by infer tool\n",
    "\n",
    "    df = pd.DataFrame() # dataframe to store the results\n",
    "\n",
    "    if os.path.isfile(fname):\n",
    "        cmd =  cmd + fname\n",
    "        process = sub.Popen(\n",
    "            cmd,\n",
    "            shell=True,\n",
    "            stdout=sub.PIPE,\n",
    "        )\n",
    "        process.wait() # wait for the process to finish\n",
    "        \n",
    "        # check if the output file is generated\n",
    "        if os.path.isfile(out_file):\n",
    "            df = json2df(out_file)\n",
    "        if len(df)!=0:\n",
    "            df[\"tool\"] = \"infer\"\n",
    "        df = df.reset_index(drop=True)\n",
    "\n",
    "    else:\n",
    "        print(f'Invalid command for infer tool! \\\n",
    "            \\nPlease check the command again! \\ncommand: {cmd}')\n",
    "    return df\n",
    "\n",
    "# fname = '../data/projects/contiki-2.4/tools/tunslip.c'\n",
    "fname = '../data/projects/contiki-2.4/core/sys/timetable.c'\n",
    "\n",
    "apply_infer(fname)"
   ]
  },
  {
   "cell_type": "markdown",
   "metadata": {},
   "source": [
    "# Encoding target label "
   ]
  },
  {
   "cell_type": "code",
   "execution_count": 22,
   "metadata": {},
   "outputs": [
    {
     "name": "stdout",
     "output_type": "stream",
     "text": [
      "['Benign', 'Vulnerable', 'Benign', 'Benign', 'Vulnerable', 'Vulnerable', 'Vulnerable']\n",
      "[0 1 0 0 1 1 1]\n",
      "['Benign' 'Vulnerable' 'Vulnerable']\n"
     ]
    }
   ],
   "source": [
    "import pickle \n",
    "from sklearn.preprocessing import LabelEncoder, MultiLabelBinarizer\n",
    "\n",
    "def encode_multiclass(y):\n",
    "    \"\"\"encode multiclass target \"\"\"\n",
    "    encoder = LabelEncoder()\n",
    "    encoder.fit(y)\n",
    "    encoded_y = encoder.transform(y)\n",
    "    with open('classes.pkl', 'wb') as f:\n",
    "        pickle.dump(encoder, f)\n",
    "    return encoded_y\n",
    "\n",
    "def decode_multiclass(encoded_y):\n",
    "    \"\"\"decode multiclass target \"\"\"\n",
    "    with open('classes.pkl', 'rb') as f:\n",
    "        encoder = pickle.load(f)\n",
    "\n",
    "    decoded_y = encoder.inverse_transform(encoded_y)\n",
    "    # decoded_y = [x[0] for x in decoded_y]\n",
    "    return decoded_y\n",
    "\n",
    "y = ['Benign', 'CWE-120', 'Benign', 'Benign', 'CWE-120', 'CWE-20', 'CWE-19']\n",
    "\n",
    "# target representation for binary classification\n",
    "y = [x if x=='Benign' else 'Vulnerable' for x in y]\n",
    "\n",
    "encoded_y = encode_multiclass(y)\n",
    "print(y)\n",
    "print(encoded_y)\n",
    "print(decode_multiclass([0, 1, 1]))"
   ]
  },
  {
   "cell_type": "code",
   "execution_count": 20,
   "metadata": {},
   "outputs": [
    {
     "data": {
      "text/plain": [
       "['Benign',\n",
       " 'Vulnerable',\n",
       " 'Benign',\n",
       " 'Benign',\n",
       " 'Vulnerable',\n",
       " 'Vulnerable',\n",
       " 'Vulnerable']"
      ]
     },
     "execution_count": 20,
     "metadata": {},
     "output_type": "execute_result"
    }
   ],
   "source": [
    "y = [x if x=='Benign' else 'Vulnerable' for x in y]"
   ]
  },
  {
   "cell_type": "code",
   "execution_count": null,
   "metadata": {},
   "outputs": [],
   "source": []
  },
  {
   "cell_type": "code",
   "execution_count": 11,
   "metadata": {},
   "outputs": [
    {
     "data": {
      "text/plain": [
       "array(['Benign', 'CWE-120', 'CWE-19'], dtype='<U7')"
      ]
     },
     "execution_count": 11,
     "metadata": {},
     "output_type": "execute_result"
    }
   ],
   "source": [
    "import numpy as np \n",
    "\n",
    "(decode_multiclass([0, 1, 2]))"
   ]
  },
  {
   "cell_type": "code",
   "execution_count": 3,
   "metadata": {},
   "outputs": [
    {
     "data": {
      "text/plain": [
       "<tf.Variable 'UnreadVariable' shape=() dtype=float32, numpy=2.0>"
      ]
     },
     "execution_count": 3,
     "metadata": {},
     "output_type": "execute_result"
    }
   ],
   "source": [
    "import tensorflow as tf\n",
    "\n",
    "m1 = tf.keras.metrics.Accuracy()\n",
    "acc = m1.update_state([[1], [2]], [[0], [2]])\n",
    "acc"
   ]
  },
  {
   "cell_type": "code",
   "execution_count": 25,
   "metadata": {},
   "outputs": [
    {
     "data": {
      "text/html": [
       "<div>\n",
       "<style scoped>\n",
       "    .dataframe tbody tr th:only-of-type {\n",
       "        vertical-align: middle;\n",
       "    }\n",
       "\n",
       "    .dataframe tbody tr th {\n",
       "        vertical-align: top;\n",
       "    }\n",
       "\n",
       "    .dataframe thead th {\n",
       "        text-align: right;\n",
       "    }\n",
       "</style>\n",
       "<table border=\"1\" class=\"dataframe\">\n",
       "  <thead>\n",
       "    <tr style=\"text-align: right;\">\n",
       "      <th></th>\n",
       "      <th>code</th>\n",
       "      <th>label</th>\n",
       "    </tr>\n",
       "  </thead>\n",
       "  <tbody>\n",
       "    <tr>\n",
       "      <th>0</th>\n",
       "      <td>( strlen ( me )</td>\n",
       "      <td>1</td>\n",
       "    </tr>\n",
       "    <tr>\n",
       "      <th>1</th>\n",
       "      <td>*pBuffer = MQTT_PACKET_TYPE_CONNECT ; pBuffer...</td>\n",
       "      <td>1</td>\n",
       "    </tr>\n",
       "    <tr>\n",
       "      <th>2</th>\n",
       "      <td>*pBuffer1 = MQTT_PACKET_TYPE_CONNECT1 ; pBuff...</td>\n",
       "      <td>1</td>\n",
       "    </tr>\n",
       "    <tr>\n",
       "      <th>3</th>\n",
       "      <td>ActualFreq 1 = cc1ComputeFreq ( DesiredFreq1 ) ;</td>\n",
       "      <td>1</td>\n",
       "    </tr>\n",
       "    <tr>\n",
       "      <th>4</th>\n",
       "      <td>ActualFreq = cc1000ComputeFreq ( DesiredFreq ) ;</td>\n",
       "      <td>1</td>\n",
       "    </tr>\n",
       "    <tr>\n",
       "      <th>...</th>\n",
       "      <td>...</td>\n",
       "      <td>...</td>\n",
       "    </tr>\n",
       "    <tr>\n",
       "      <th>4715</th>\n",
       "      <td>xResultr = xClass ( xSession , ( char * ) pxLa...</td>\n",
       "      <td>1</td>\n",
       "    </tr>\n",
       "    <tr>\n",
       "      <th>4716</th>\n",
       "      <td>xResultt = xClass ( xSession , ( char * ) pxLa...</td>\n",
       "      <td>1</td>\n",
       "    </tr>\n",
       "    <tr>\n",
       "      <th>4717</th>\n",
       "      <td>xResultw = xClass ( xSession , ( char * ) pxLa...</td>\n",
       "      <td>1</td>\n",
       "    </tr>\n",
       "    <tr>\n",
       "      <th>4718</th>\n",
       "      <td>xResultx = C_Create ( xSessionx, ( A ) &amp; D, si...</td>\n",
       "      <td>1</td>\n",
       "    </tr>\n",
       "    <tr>\n",
       "      <th>4719</th>\n",
       "      <td>xResultx = C_CreateObject ( xSessionx, ( A ) &amp;...</td>\n",
       "      <td>1</td>\n",
       "    </tr>\n",
       "  </tbody>\n",
       "</table>\n",
       "<p>4720 rows × 2 columns</p>\n",
       "</div>"
      ],
      "text/plain": [
       "                                                   code  label\n",
       "0                                      ( strlen ( me )       1\n",
       "1      *pBuffer = MQTT_PACKET_TYPE_CONNECT ; pBuffer...      1\n",
       "2      *pBuffer1 = MQTT_PACKET_TYPE_CONNECT1 ; pBuff...      1\n",
       "3      ActualFreq 1 = cc1ComputeFreq ( DesiredFreq1 ) ;      1\n",
       "4      ActualFreq = cc1000ComputeFreq ( DesiredFreq ) ;      1\n",
       "...                                                 ...    ...\n",
       "4715  xResultr = xClass ( xSession , ( char * ) pxLa...      1\n",
       "4716  xResultt = xClass ( xSession , ( char * ) pxLa...      1\n",
       "4717  xResultw = xClass ( xSession , ( char * ) pxLa...      1\n",
       "4718  xResultx = C_Create ( xSessionx, ( A ) & D, si...      1\n",
       "4719  xResultx = C_CreateObject ( xSessionx, ( A ) &...      1\n",
       "\n",
       "[4720 rows x 2 columns]"
      ]
     },
     "execution_count": 25,
     "metadata": {},
     "output_type": "execute_result"
    }
   ],
   "source": [
    "import pandas as pd \n",
    "\n",
    "df = pd.read_csv('../data/iDetect_refine/DNN-binary.csv')\n",
    "df"
   ]
  },
  {
   "cell_type": "code",
   "execution_count": null,
   "metadata": {},
   "outputs": [],
   "source": []
  },
  {
   "cell_type": "code",
   "execution_count": 6,
   "metadata": {},
   "outputs": [
    {
     "data": {
      "text/html": [
       "<div>\n",
       "<style scoped>\n",
       "    .dataframe tbody tr th:only-of-type {\n",
       "        vertical-align: middle;\n",
       "    }\n",
       "\n",
       "    .dataframe tbody tr th {\n",
       "        vertical-align: top;\n",
       "    }\n",
       "\n",
       "    .dataframe thead th {\n",
       "        text-align: right;\n",
       "    }\n",
       "</style>\n",
       "<table border=\"1\" class=\"dataframe\">\n",
       "  <thead>\n",
       "    <tr style=\"text-align: right;\">\n",
       "      <th></th>\n",
       "      <th>code</th>\n",
       "      <th>label</th>\n",
       "    </tr>\n",
       "  </thead>\n",
       "  <tbody>\n",
       "    <tr>\n",
       "      <th>0</th>\n",
       "      <td>~tx_mask &amp; 0xFF);</td>\n",
       "      <td>Benign</td>\n",
       "    </tr>\n",
       "    <tr>\n",
       "      <th>1</th>\n",
       "      <td>~sin-&gt;sin_addr.s_addr);</td>\n",
       "      <td>Benign</td>\n",
       "    </tr>\n",
       "    <tr>\n",
       "      <th>2</th>\n",
       "      <td>~sd-&gt;gpio[0] &lt;&lt; 8);</td>\n",
       "      <td>Benign</td>\n",
       "    </tr>\n",
       "    <tr>\n",
       "      <th>3</th>\n",
       "      <td>~p_sb_attn_sw-&gt;known_attn;</td>\n",
       "      <td>CWE-190</td>\n",
       "    </tr>\n",
       "    <tr>\n",
       "      <th>4</th>\n",
       "      <td>~oparg);</td>\n",
       "      <td>Benign</td>\n",
       "    </tr>\n",
       "    <tr>\n",
       "      <th>...</th>\n",
       "      <td>...</td>\n",
       "      <td>...</td>\n",
       "    </tr>\n",
       "    <tr>\n",
       "      <th>982578</th>\n",
       "      <td>!!(cfg-&gt;priv_flags &amp; BIT(AQ_HW_LOOPBACK_DMA_NE...</td>\n",
       "      <td>Benign</td>\n",
       "    </tr>\n",
       "    <tr>\n",
       "      <th>982579</th>\n",
       "      <td>!!(addr_ctrl &amp; SDRAM_ADDR_CTRL_ADDR_SEL_MASK(i));</td>\n",
       "      <td>Benign</td>\n",
       "    </tr>\n",
       "    <tr>\n",
       "      <th>982580</th>\n",
       "      <td>!!(accept_filter &amp; QED_ACCEPT_UCAST_UNMATCHED)));</td>\n",
       "      <td>Benign</td>\n",
       "    </tr>\n",
       "    <tr>\n",
       "      <th>982581</th>\n",
       "      <td>!!(accept_filter &amp; QED_ACCEPT_NONE));</td>\n",
       "      <td>Benign</td>\n",
       "    </tr>\n",
       "    <tr>\n",
       "      <th>982582</th>\n",
       "      <td>!!(accept_filter &amp; QED_ACCEPT_BCAST));</td>\n",
       "      <td>Benign</td>\n",
       "    </tr>\n",
       "  </tbody>\n",
       "</table>\n",
       "<p>982583 rows × 2 columns</p>\n",
       "</div>"
      ],
      "text/plain": [
       "                                                     code    label\n",
       "0                                       ~tx_mask & 0xFF);   Benign\n",
       "1                                 ~sin->sin_addr.s_addr);   Benign\n",
       "2                                     ~sd->gpio[0] << 8);   Benign\n",
       "3                              ~p_sb_attn_sw->known_attn;  CWE-190\n",
       "4                                                ~oparg);   Benign\n",
       "...                                                   ...      ...\n",
       "982578  !!(cfg->priv_flags & BIT(AQ_HW_LOOPBACK_DMA_NE...   Benign\n",
       "982579  !!(addr_ctrl & SDRAM_ADDR_CTRL_ADDR_SEL_MASK(i));   Benign\n",
       "982580  !!(accept_filter & QED_ACCEPT_UCAST_UNMATCHED)));   Benign\n",
       "982581              !!(accept_filter & QED_ACCEPT_NONE));   Benign\n",
       "982582             !!(accept_filter & QED_ACCEPT_BCAST));   Benign\n",
       "\n",
       "[982583 rows x 2 columns]"
      ]
     },
     "execution_count": 6,
     "metadata": {},
     "output_type": "execute_result"
    }
   ],
   "source": [
    "df = pd.read_csv('../data/TinyVul-v2-statement-multiclass.csv')\n",
    "df"
   ]
  },
  {
   "cell_type": "code",
   "execution_count": 30,
   "metadata": {},
   "outputs": [
    {
     "data": {
      "text/plain": [
       "array([36, 16, 16, ..., 28,  3,  3])"
      ]
     },
     "execution_count": 30,
     "metadata": {},
     "output_type": "execute_result"
    }
   ],
   "source": [
    "from sklearn.preprocessing import LabelEncoder\n",
    "import pickle\n",
    "\n",
    "le = LabelEncoder()\n",
    "le.fit_transform(df.label)"
   ]
  },
  {
   "cell_type": "code",
   "execution_count": 40,
   "metadata": {},
   "outputs": [
    {
     "data": {
      "text/plain": [
       "array([0, 1, 2])"
      ]
     },
     "execution_count": 40,
     "metadata": {},
     "output_type": "execute_result"
    }
   ],
   "source": [
    "def encode_multiclass_target(y):\n",
    "    \"\"\"encode multiclass target \"\"\"\n",
    "    encoder = LabelEncoder()\n",
    "    encoder.fit_transform(y)\n",
    "    with open('../data/classes.pkl', 'wb') as f:\n",
    "        pickle.dump(encoder, f)\n",
    "\n",
    "def decode_multiclass_target(encoded_y):\n",
    "    \"\"\"decode multiclass target \"\"\"\n",
    "    with open('../data/classes.pkl', 'rb') as f:\n",
    "        encoder = pickle.load(f)\n",
    "\n",
    "    decoded_y = encoder.inverse_transform(encoded_y)\n",
    "    # decoded_y = [x[0] for x in decoded_y]\n",
    "    return decoded_y\n",
    "\n",
    "encode_multiclass_target(y)\n",
    "decode_multiclass_target([0, 1, 2])"
   ]
  }
 ],
 "metadata": {
  "kernelspec": {
   "display_name": "iotCode",
   "language": "python",
   "name": "python3"
  },
  "language_info": {
   "codemirror_mode": {
    "name": "ipython",
    "version": 3
   },
   "file_extension": ".py",
   "mimetype": "text/x-python",
   "name": "python",
   "nbconvert_exporter": "python",
   "pygments_lexer": "ipython3",
   "version": "3.8.0"
  },
  "orig_nbformat": 4,
  "vscode": {
   "interpreter": {
    "hash": "2f838046bc7a32c7f2766f1c532b5baddca8fb3dd7100bdb4fa26065ff771de8"
   }
  }
 },
 "nbformat": 4,
 "nbformat_minor": 2
}
