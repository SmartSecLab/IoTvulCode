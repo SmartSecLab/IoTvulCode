{
 "cells": [
  {
   "attachments": {},
   "cell_type": "markdown",
   "metadata": {},
   "source": [
    "# Statistics on the output data. "
   ]
  },
  {
   "cell_type": "code",
   "execution_count": 2,
   "metadata": {},
   "outputs": [
    {
     "data": {
      "text/plain": [
       "Index(['File', 'Line', 'Column', 'DefaultLevel', 'Level', 'Category', 'Name',\n",
       "       'Warning', 'Suggestion', 'Note', 'CWEs', 'Context', 'Fingerprint',\n",
       "       'ToolVersion', 'RuleId', 'HelpUri'],\n",
       "      dtype='object')"
      ]
     },
     "execution_count": 2,
     "metadata": {},
     "output_type": "execute_result"
    }
   ],
   "source": [
    "import pandas as pd\n",
    "import matplotlib.pyplot as plt\n",
    "import seaborn as sns\n",
    "import plotly.express as px\n",
    "import lizard\n",
    "import subprocess as sub\n",
    "from pylibsrcml import srcml\n",
    "\n",
    "df = pd.read_csv('../data/output-tunslip.csv')\n",
    "\n",
    "if not os.path.exists(\"figure\"):\n",
    "    os.mkdir(\"figure\")\n",
    "\n",
    "df.columns"
   ]
  },
  {
   "cell_type": "code",
   "execution_count": 3,
   "metadata": {},
   "outputs": [
    {
     "name": "stdout",
     "output_type": "stream",
     "text": [
      "    Category       Name              CWEs  Count\n",
      "0     buffer       char  CWE-119!/CWE-120      6\n",
      "1     buffer     getopt   CWE-120, CWE-20      1\n",
      "2     buffer     memcpy           CWE-120     11\n",
      "3     buffer       read   CWE-120, CWE-20      1\n",
      "4     buffer     strcat           CWE-120      1\n",
      "5     buffer     strcpy           CWE-120      4\n",
      "6     buffer    strncpy           CWE-120      1\n",
      "7     format  vsnprintf           CWE-134      1\n",
      "8    integer       atoi           CWE-190      2\n",
      "9       misc       open           CWE-362      2\n",
      "10  obsolete     usleep           CWE-676      1\n",
      "11     shell     system            CWE-78      1\n"
     ]
    },
    {
     "data": {
      "application/vnd.plotly.v1+json": {
       "config": {
        "plotlyServerURL": "https://plot.ly"
       },
       "data": [
        {
         "branchvalues": "total",
         "domain": {
          "x": [
           0,
           1
          ],
          "y": [
           0,
           1
          ]
         },
         "hovertemplate": "labels=%{label}<br>Count=%{value}<br>parent=%{parent}<br>id=%{id}<extra></extra>",
         "ids": [
          "buffer/char/CWE-119!/CWE-120",
          "buffer/memcpy/CWE-120",
          "buffer/strcat/CWE-120",
          "buffer/strcpy/CWE-120",
          "buffer/strncpy/CWE-120",
          "buffer/getopt/CWE-120, CWE-20",
          "buffer/read/CWE-120, CWE-20",
          "format/vsnprintf/CWE-134",
          "integer/atoi/CWE-190",
          "misc/open/CWE-362",
          "obsolete/usleep/CWE-676",
          "shell/system/CWE-78",
          "integer/atoi",
          "buffer/char",
          "buffer/getopt",
          "buffer/memcpy",
          "misc/open",
          "buffer/read",
          "buffer/strcat",
          "buffer/strcpy",
          "buffer/strncpy",
          "shell/system",
          "obsolete/usleep",
          "format/vsnprintf",
          "buffer",
          "format",
          "integer",
          "misc",
          "obsolete",
          "shell"
         ],
         "labels": [
          "CWE-119!/CWE-120",
          "CWE-120",
          "CWE-120",
          "CWE-120",
          "CWE-120",
          "CWE-120, CWE-20",
          "CWE-120, CWE-20",
          "CWE-134",
          "CWE-190",
          "CWE-362",
          "CWE-676",
          "CWE-78",
          "atoi",
          "char",
          "getopt",
          "memcpy",
          "open",
          "read",
          "strcat",
          "strcpy",
          "strncpy",
          "system",
          "usleep",
          "vsnprintf",
          "buffer",
          "format",
          "integer",
          "misc",
          "obsolete",
          "shell"
         ],
         "name": "",
         "parents": [
          "buffer/char",
          "buffer/memcpy",
          "buffer/strcat",
          "buffer/strcpy",
          "buffer/strncpy",
          "buffer/getopt",
          "buffer/read",
          "format/vsnprintf",
          "integer/atoi",
          "misc/open",
          "obsolete/usleep",
          "shell/system",
          "integer",
          "buffer",
          "buffer",
          "buffer",
          "misc",
          "buffer",
          "buffer",
          "buffer",
          "buffer",
          "shell",
          "obsolete",
          "format",
          "",
          "",
          "",
          "",
          "",
          ""
         ],
         "type": "sunburst",
         "values": [
          6,
          11,
          1,
          4,
          1,
          1,
          1,
          1,
          2,
          2,
          1,
          1,
          2,
          6,
          1,
          11,
          2,
          1,
          1,
          4,
          1,
          1,
          1,
          1,
          25,
          1,
          2,
          2,
          1,
          1
         ]
        }
       ],
       "layout": {
        "legend": {
         "tracegroupgap": 0
        },
        "margin": {
         "t": 60
        },
        "template": {
         "data": {
          "bar": [
           {
            "error_x": {
             "color": "#2a3f5f"
            },
            "error_y": {
             "color": "#2a3f5f"
            },
            "marker": {
             "line": {
              "color": "#E5ECF6",
              "width": 0.5
             },
             "pattern": {
              "fillmode": "overlay",
              "size": 10,
              "solidity": 0.2
             }
            },
            "type": "bar"
           }
          ],
          "barpolar": [
           {
            "marker": {
             "line": {
              "color": "#E5ECF6",
              "width": 0.5
             },
             "pattern": {
              "fillmode": "overlay",
              "size": 10,
              "solidity": 0.2
             }
            },
            "type": "barpolar"
           }
          ],
          "carpet": [
           {
            "aaxis": {
             "endlinecolor": "#2a3f5f",
             "gridcolor": "white",
             "linecolor": "white",
             "minorgridcolor": "white",
             "startlinecolor": "#2a3f5f"
            },
            "baxis": {
             "endlinecolor": "#2a3f5f",
             "gridcolor": "white",
             "linecolor": "white",
             "minorgridcolor": "white",
             "startlinecolor": "#2a3f5f"
            },
            "type": "carpet"
           }
          ],
          "choropleth": [
           {
            "colorbar": {
             "outlinewidth": 0,
             "ticks": ""
            },
            "type": "choropleth"
           }
          ],
          "contour": [
           {
            "colorbar": {
             "outlinewidth": 0,
             "ticks": ""
            },
            "colorscale": [
             [
              0,
              "#0d0887"
             ],
             [
              0.1111111111111111,
              "#46039f"
             ],
             [
              0.2222222222222222,
              "#7201a8"
             ],
             [
              0.3333333333333333,
              "#9c179e"
             ],
             [
              0.4444444444444444,
              "#bd3786"
             ],
             [
              0.5555555555555556,
              "#d8576b"
             ],
             [
              0.6666666666666666,
              "#ed7953"
             ],
             [
              0.7777777777777778,
              "#fb9f3a"
             ],
             [
              0.8888888888888888,
              "#fdca26"
             ],
             [
              1,
              "#f0f921"
             ]
            ],
            "type": "contour"
           }
          ],
          "contourcarpet": [
           {
            "colorbar": {
             "outlinewidth": 0,
             "ticks": ""
            },
            "type": "contourcarpet"
           }
          ],
          "heatmap": [
           {
            "colorbar": {
             "outlinewidth": 0,
             "ticks": ""
            },
            "colorscale": [
             [
              0,
              "#0d0887"
             ],
             [
              0.1111111111111111,
              "#46039f"
             ],
             [
              0.2222222222222222,
              "#7201a8"
             ],
             [
              0.3333333333333333,
              "#9c179e"
             ],
             [
              0.4444444444444444,
              "#bd3786"
             ],
             [
              0.5555555555555556,
              "#d8576b"
             ],
             [
              0.6666666666666666,
              "#ed7953"
             ],
             [
              0.7777777777777778,
              "#fb9f3a"
             ],
             [
              0.8888888888888888,
              "#fdca26"
             ],
             [
              1,
              "#f0f921"
             ]
            ],
            "type": "heatmap"
           }
          ],
          "heatmapgl": [
           {
            "colorbar": {
             "outlinewidth": 0,
             "ticks": ""
            },
            "colorscale": [
             [
              0,
              "#0d0887"
             ],
             [
              0.1111111111111111,
              "#46039f"
             ],
             [
              0.2222222222222222,
              "#7201a8"
             ],
             [
              0.3333333333333333,
              "#9c179e"
             ],
             [
              0.4444444444444444,
              "#bd3786"
             ],
             [
              0.5555555555555556,
              "#d8576b"
             ],
             [
              0.6666666666666666,
              "#ed7953"
             ],
             [
              0.7777777777777778,
              "#fb9f3a"
             ],
             [
              0.8888888888888888,
              "#fdca26"
             ],
             [
              1,
              "#f0f921"
             ]
            ],
            "type": "heatmapgl"
           }
          ],
          "histogram": [
           {
            "marker": {
             "pattern": {
              "fillmode": "overlay",
              "size": 10,
              "solidity": 0.2
             }
            },
            "type": "histogram"
           }
          ],
          "histogram2d": [
           {
            "colorbar": {
             "outlinewidth": 0,
             "ticks": ""
            },
            "colorscale": [
             [
              0,
              "#0d0887"
             ],
             [
              0.1111111111111111,
              "#46039f"
             ],
             [
              0.2222222222222222,
              "#7201a8"
             ],
             [
              0.3333333333333333,
              "#9c179e"
             ],
             [
              0.4444444444444444,
              "#bd3786"
             ],
             [
              0.5555555555555556,
              "#d8576b"
             ],
             [
              0.6666666666666666,
              "#ed7953"
             ],
             [
              0.7777777777777778,
              "#fb9f3a"
             ],
             [
              0.8888888888888888,
              "#fdca26"
             ],
             [
              1,
              "#f0f921"
             ]
            ],
            "type": "histogram2d"
           }
          ],
          "histogram2dcontour": [
           {
            "colorbar": {
             "outlinewidth": 0,
             "ticks": ""
            },
            "colorscale": [
             [
              0,
              "#0d0887"
             ],
             [
              0.1111111111111111,
              "#46039f"
             ],
             [
              0.2222222222222222,
              "#7201a8"
             ],
             [
              0.3333333333333333,
              "#9c179e"
             ],
             [
              0.4444444444444444,
              "#bd3786"
             ],
             [
              0.5555555555555556,
              "#d8576b"
             ],
             [
              0.6666666666666666,
              "#ed7953"
             ],
             [
              0.7777777777777778,
              "#fb9f3a"
             ],
             [
              0.8888888888888888,
              "#fdca26"
             ],
             [
              1,
              "#f0f921"
             ]
            ],
            "type": "histogram2dcontour"
           }
          ],
          "mesh3d": [
           {
            "colorbar": {
             "outlinewidth": 0,
             "ticks": ""
            },
            "type": "mesh3d"
           }
          ],
          "parcoords": [
           {
            "line": {
             "colorbar": {
              "outlinewidth": 0,
              "ticks": ""
             }
            },
            "type": "parcoords"
           }
          ],
          "pie": [
           {
            "automargin": true,
            "type": "pie"
           }
          ],
          "scatter": [
           {
            "fillpattern": {
             "fillmode": "overlay",
             "size": 10,
             "solidity": 0.2
            },
            "type": "scatter"
           }
          ],
          "scatter3d": [
           {
            "line": {
             "colorbar": {
              "outlinewidth": 0,
              "ticks": ""
             }
            },
            "marker": {
             "colorbar": {
              "outlinewidth": 0,
              "ticks": ""
             }
            },
            "type": "scatter3d"
           }
          ],
          "scattercarpet": [
           {
            "marker": {
             "colorbar": {
              "outlinewidth": 0,
              "ticks": ""
             }
            },
            "type": "scattercarpet"
           }
          ],
          "scattergeo": [
           {
            "marker": {
             "colorbar": {
              "outlinewidth": 0,
              "ticks": ""
             }
            },
            "type": "scattergeo"
           }
          ],
          "scattergl": [
           {
            "marker": {
             "colorbar": {
              "outlinewidth": 0,
              "ticks": ""
             }
            },
            "type": "scattergl"
           }
          ],
          "scattermapbox": [
           {
            "marker": {
             "colorbar": {
              "outlinewidth": 0,
              "ticks": ""
             }
            },
            "type": "scattermapbox"
           }
          ],
          "scatterpolar": [
           {
            "marker": {
             "colorbar": {
              "outlinewidth": 0,
              "ticks": ""
             }
            },
            "type": "scatterpolar"
           }
          ],
          "scatterpolargl": [
           {
            "marker": {
             "colorbar": {
              "outlinewidth": 0,
              "ticks": ""
             }
            },
            "type": "scatterpolargl"
           }
          ],
          "scatterternary": [
           {
            "marker": {
             "colorbar": {
              "outlinewidth": 0,
              "ticks": ""
             }
            },
            "type": "scatterternary"
           }
          ],
          "surface": [
           {
            "colorbar": {
             "outlinewidth": 0,
             "ticks": ""
            },
            "colorscale": [
             [
              0,
              "#0d0887"
             ],
             [
              0.1111111111111111,
              "#46039f"
             ],
             [
              0.2222222222222222,
              "#7201a8"
             ],
             [
              0.3333333333333333,
              "#9c179e"
             ],
             [
              0.4444444444444444,
              "#bd3786"
             ],
             [
              0.5555555555555556,
              "#d8576b"
             ],
             [
              0.6666666666666666,
              "#ed7953"
             ],
             [
              0.7777777777777778,
              "#fb9f3a"
             ],
             [
              0.8888888888888888,
              "#fdca26"
             ],
             [
              1,
              "#f0f921"
             ]
            ],
            "type": "surface"
           }
          ],
          "table": [
           {
            "cells": {
             "fill": {
              "color": "#EBF0F8"
             },
             "line": {
              "color": "white"
             }
            },
            "header": {
             "fill": {
              "color": "#C8D4E3"
             },
             "line": {
              "color": "white"
             }
            },
            "type": "table"
           }
          ]
         },
         "layout": {
          "annotationdefaults": {
           "arrowcolor": "#2a3f5f",
           "arrowhead": 0,
           "arrowwidth": 1
          },
          "autotypenumbers": "strict",
          "coloraxis": {
           "colorbar": {
            "outlinewidth": 0,
            "ticks": ""
           }
          },
          "colorscale": {
           "diverging": [
            [
             0,
             "#8e0152"
            ],
            [
             0.1,
             "#c51b7d"
            ],
            [
             0.2,
             "#de77ae"
            ],
            [
             0.3,
             "#f1b6da"
            ],
            [
             0.4,
             "#fde0ef"
            ],
            [
             0.5,
             "#f7f7f7"
            ],
            [
             0.6,
             "#e6f5d0"
            ],
            [
             0.7,
             "#b8e186"
            ],
            [
             0.8,
             "#7fbc41"
            ],
            [
             0.9,
             "#4d9221"
            ],
            [
             1,
             "#276419"
            ]
           ],
           "sequential": [
            [
             0,
             "#0d0887"
            ],
            [
             0.1111111111111111,
             "#46039f"
            ],
            [
             0.2222222222222222,
             "#7201a8"
            ],
            [
             0.3333333333333333,
             "#9c179e"
            ],
            [
             0.4444444444444444,
             "#bd3786"
            ],
            [
             0.5555555555555556,
             "#d8576b"
            ],
            [
             0.6666666666666666,
             "#ed7953"
            ],
            [
             0.7777777777777778,
             "#fb9f3a"
            ],
            [
             0.8888888888888888,
             "#fdca26"
            ],
            [
             1,
             "#f0f921"
            ]
           ],
           "sequentialminus": [
            [
             0,
             "#0d0887"
            ],
            [
             0.1111111111111111,
             "#46039f"
            ],
            [
             0.2222222222222222,
             "#7201a8"
            ],
            [
             0.3333333333333333,
             "#9c179e"
            ],
            [
             0.4444444444444444,
             "#bd3786"
            ],
            [
             0.5555555555555556,
             "#d8576b"
            ],
            [
             0.6666666666666666,
             "#ed7953"
            ],
            [
             0.7777777777777778,
             "#fb9f3a"
            ],
            [
             0.8888888888888888,
             "#fdca26"
            ],
            [
             1,
             "#f0f921"
            ]
           ]
          },
          "colorway": [
           "#636efa",
           "#EF553B",
           "#00cc96",
           "#ab63fa",
           "#FFA15A",
           "#19d3f3",
           "#FF6692",
           "#B6E880",
           "#FF97FF",
           "#FECB52"
          ],
          "font": {
           "color": "#2a3f5f"
          },
          "geo": {
           "bgcolor": "white",
           "lakecolor": "white",
           "landcolor": "#E5ECF6",
           "showlakes": true,
           "showland": true,
           "subunitcolor": "white"
          },
          "hoverlabel": {
           "align": "left"
          },
          "hovermode": "closest",
          "mapbox": {
           "style": "light"
          },
          "paper_bgcolor": "white",
          "plot_bgcolor": "#E5ECF6",
          "polar": {
           "angularaxis": {
            "gridcolor": "white",
            "linecolor": "white",
            "ticks": ""
           },
           "bgcolor": "#E5ECF6",
           "radialaxis": {
            "gridcolor": "white",
            "linecolor": "white",
            "ticks": ""
           }
          },
          "scene": {
           "xaxis": {
            "backgroundcolor": "#E5ECF6",
            "gridcolor": "white",
            "gridwidth": 2,
            "linecolor": "white",
            "showbackground": true,
            "ticks": "",
            "zerolinecolor": "white"
           },
           "yaxis": {
            "backgroundcolor": "#E5ECF6",
            "gridcolor": "white",
            "gridwidth": 2,
            "linecolor": "white",
            "showbackground": true,
            "ticks": "",
            "zerolinecolor": "white"
           },
           "zaxis": {
            "backgroundcolor": "#E5ECF6",
            "gridcolor": "white",
            "gridwidth": 2,
            "linecolor": "white",
            "showbackground": true,
            "ticks": "",
            "zerolinecolor": "white"
           }
          },
          "shapedefaults": {
           "line": {
            "color": "#2a3f5f"
           }
          },
          "ternary": {
           "aaxis": {
            "gridcolor": "white",
            "linecolor": "white",
            "ticks": ""
           },
           "baxis": {
            "gridcolor": "white",
            "linecolor": "white",
            "ticks": ""
           },
           "bgcolor": "#E5ECF6",
           "caxis": {
            "gridcolor": "white",
            "linecolor": "white",
            "ticks": ""
           }
          },
          "title": {
           "x": 0.05
          },
          "xaxis": {
           "automargin": true,
           "gridcolor": "white",
           "linecolor": "white",
           "ticks": "",
           "title": {
            "standoff": 15
           },
           "zerolinecolor": "white",
           "zerolinewidth": 2
          },
          "yaxis": {
           "automargin": true,
           "gridcolor": "white",
           "linecolor": "white",
           "ticks": "",
           "title": {
            "standoff": 15
           },
           "zerolinecolor": "white",
           "zerolinewidth": 2
          }
         }
        }
       }
      }
     },
     "metadata": {},
     "output_type": "display_data"
    },
    {
     "data": {
      "text/html": [
       "<div>\n",
       "<style scoped>\n",
       "    .dataframe tbody tr th:only-of-type {\n",
       "        vertical-align: middle;\n",
       "    }\n",
       "\n",
       "    .dataframe tbody tr th {\n",
       "        vertical-align: top;\n",
       "    }\n",
       "\n",
       "    .dataframe thead th {\n",
       "        text-align: right;\n",
       "    }\n",
       "</style>\n",
       "<table border=\"1\" class=\"dataframe\">\n",
       "  <thead>\n",
       "    <tr style=\"text-align: right;\">\n",
       "      <th></th>\n",
       "      <th>File</th>\n",
       "      <th>Line</th>\n",
       "      <th>Column</th>\n",
       "      <th>DefaultLevel</th>\n",
       "      <th>Level</th>\n",
       "      <th>Category</th>\n",
       "      <th>Name</th>\n",
       "      <th>Warning</th>\n",
       "      <th>Suggestion</th>\n",
       "      <th>Note</th>\n",
       "      <th>CWEs</th>\n",
       "      <th>Context</th>\n",
       "      <th>Fingerprint</th>\n",
       "      <th>ToolVersion</th>\n",
       "      <th>RuleId</th>\n",
       "      <th>HelpUri</th>\n",
       "    </tr>\n",
       "  </thead>\n",
       "  <tbody>\n",
       "    <tr>\n",
       "      <th>0</th>\n",
       "      <td>data/projects/contiki-2.4/tools/tunslip.c</td>\n",
       "      <td>438</td>\n",
       "      <td>3</td>\n",
       "      <td>4</td>\n",
       "      <td>4</td>\n",
       "      <td>format</td>\n",
       "      <td>vsnprintf</td>\n",
       "      <td>If format strings can be influenced by an atta...</td>\n",
       "      <td>Use a constant for the format specification.</td>\n",
       "      <td>NaN</td>\n",
       "      <td>CWE-134</td>\n",
       "      <td>vsnprintf(cmd, sizeof(cmd), fmt, ap);</td>\n",
       "      <td>5a6ebc53325719b0f59e24f31e308667e9337289bfbc55...</td>\n",
       "      <td>2.0.19</td>\n",
       "      <td>FF1019</td>\n",
       "      <td>https://cwe.mitre.org/data/definitions/134.html</td>\n",
       "    </tr>\n",
       "    <tr>\n",
       "      <th>1</th>\n",
       "      <td>data/projects/contiki-2.4/tools/tunslip.c</td>\n",
       "      <td>442</td>\n",
       "      <td>10</td>\n",
       "      <td>4</td>\n",
       "      <td>4</td>\n",
       "      <td>shell</td>\n",
       "      <td>system</td>\n",
       "      <td>This causes a new program to execute and is di...</td>\n",
       "      <td>try using a library call that implements the s...</td>\n",
       "      <td>NaN</td>\n",
       "      <td>CWE-78</td>\n",
       "      <td>return system(cmd);</td>\n",
       "      <td>f3f1fc4af80877aebfc643d7ec0da9b9e96eccff3cad56...</td>\n",
       "      <td>2.0.19</td>\n",
       "      <td>FF1044</td>\n",
       "      <td>https://cwe.mitre.org/data/definitions/78.html</td>\n",
       "    </tr>\n",
       "    <tr>\n",
       "      <th>2</th>\n",
       "      <td>data/projects/contiki-2.4/tools/tunslip.c</td>\n",
       "      <td>753</td>\n",
       "      <td>3</td>\n",
       "      <td>4</td>\n",
       "      <td>4</td>\n",
       "      <td>buffer</td>\n",
       "      <td>strcat</td>\n",
       "      <td>Does not check for buffer overflows when conca...</td>\n",
       "      <td>Consider using strcat_s, strncat, strlcat, or ...</td>\n",
       "      <td>NaN</td>\n",
       "      <td>CWE-120</td>\n",
       "      <td>strcat(t, dev);</td>\n",
       "      <td>901ebb10ee39a0103c1035a30e7a1a1f2db2bf8d9bf07e...</td>\n",
       "      <td>2.0.19</td>\n",
       "      <td>FF1005</td>\n",
       "      <td>https://cwe.mitre.org/data/definitions/120.html</td>\n",
       "    </tr>\n",
       "  </tbody>\n",
       "</table>\n",
       "</div>"
      ],
      "text/plain": [
       "                                        File  Line  Column  DefaultLevel  \\\n",
       "0  data/projects/contiki-2.4/tools/tunslip.c   438       3             4   \n",
       "1  data/projects/contiki-2.4/tools/tunslip.c   442      10             4   \n",
       "2  data/projects/contiki-2.4/tools/tunslip.c   753       3             4   \n",
       "\n",
       "   Level Category       Name  \\\n",
       "0      4   format  vsnprintf   \n",
       "1      4    shell     system   \n",
       "2      4   buffer     strcat   \n",
       "\n",
       "                                             Warning  \\\n",
       "0  If format strings can be influenced by an atta...   \n",
       "1  This causes a new program to execute and is di...   \n",
       "2  Does not check for buffer overflows when conca...   \n",
       "\n",
       "                                          Suggestion Note     CWEs  \\\n",
       "0       Use a constant for the format specification.  NaN  CWE-134   \n",
       "1  try using a library call that implements the s...  NaN   CWE-78   \n",
       "2  Consider using strcat_s, strncat, strlcat, or ...  NaN  CWE-120   \n",
       "\n",
       "                                   Context  \\\n",
       "0    vsnprintf(cmd, sizeof(cmd), fmt, ap);   \n",
       "1                      return system(cmd);   \n",
       "2                          strcat(t, dev);   \n",
       "\n",
       "                                         Fingerprint ToolVersion  RuleId  \\\n",
       "0  5a6ebc53325719b0f59e24f31e308667e9337289bfbc55...      2.0.19  FF1019   \n",
       "1  f3f1fc4af80877aebfc643d7ec0da9b9e96eccff3cad56...      2.0.19  FF1044   \n",
       "2  901ebb10ee39a0103c1035a30e7a1a1f2db2bf8d9bf07e...      2.0.19  FF1005   \n",
       "\n",
       "                                           HelpUri  \n",
       "0  https://cwe.mitre.org/data/definitions/134.html  \n",
       "1   https://cwe.mitre.org/data/definitions/78.html  \n",
       "2  https://cwe.mitre.org/data/definitions/120.html  "
      ]
     },
     "execution_count": 3,
     "metadata": {},
     "output_type": "execute_result"
    }
   ],
   "source": [
    "dfp = df[['Category', 'Name', 'CWEs']].groupby(['Category', 'Name', 'CWEs'], group_keys=False).size().reset_index(name='Count')\n",
    "print(dfp)\n",
    "fig = px.sunburst(dfp, path=['Category', 'Name', 'CWEs'], values='Count')\n",
    "# fig.write_image(\"figure/vul_statistics.pdf\")\n",
    "fig.show()\n",
    "df.head(3)"
   ]
  },
  {
   "attachments": {},
   "cell_type": "markdown",
   "metadata": {},
   "source": [
    "## Grepping functions from the vulnerability context of the file."
   ]
  },
  {
   "cell_type": "code",
   "execution_count": 45,
   "metadata": {},
   "outputs": [],
   "source": [
    "file = '../' + df.File[0]\n",
    "xml_file = \"a.cpp.xml\"\n",
    "\n",
    "file_str = ''\n",
    "with open(file) as f:\n",
    "    file_str = f.read()"
   ]
  },
  {
   "cell_type": "code",
   "execution_count": 5,
   "metadata": {},
   "outputs": [],
   "source": [
    "# file_xml = sub.run(['srcml', file])\n",
    "srcml.srcml(file, \"a.cpp.xml\")"
   ]
  },
  {
   "cell_type": "code",
   "execution_count": 37,
   "metadata": {},
   "outputs": [
    {
     "name": "stdout",
     "output_type": "stream",
     "text": [
      "relay_dhcp_to_server\n"
     ]
    }
   ],
   "source": [
    "fun_ptn = \"string(//src:function)\"\n",
    "funblk_ptn = \"string((//src:function/src:name))\"\n",
    "# file_ptn = \"string(//src:unit/@filename)\" \n",
    "\n",
    "# cmd = sub.Popen([\"srcml\", \"--xpath\", fun_ptn, file], stderr=sub.STDOUT)\n",
    "# out, err = cmd.communicate()\n",
    "\n",
    "cmd = [\"srcml\", \"--xpath\", funblk_ptn, xml_file]\n",
    "\n",
    "process = sub.Popen(cmd, stderr=sub.STDOUT)"
   ]
  },
  {
   "cell_type": "code",
   "execution_count": 50,
   "metadata": {},
   "outputs": [
    {
     "name": "stdout",
     "output_type": "stream",
     "text": [
      "{'filename': 'file1.c', 'nloc': 788, 'function_list': [<lizard.FunctionInfo object at 0x7fcf0c37d5b0>, <lizard.FunctionInfo object at 0x7fcf0c37d280>, <lizard.FunctionInfo object at 0x7fcf08753c40>, <lizard.FunctionInfo object at 0x7fcf0c32df40>, <lizard.FunctionInfo object at 0x7fcf0581b610>, <lizard.FunctionInfo object at 0x7fcf0c2edf10>, <lizard.FunctionInfo object at 0x7fcf0c2edfd0>, <lizard.FunctionInfo object at 0x7fcf0c2edfa0>, <lizard.FunctionInfo object at 0x7fcf08333790>, <lizard.FunctionInfo object at 0x7fcf088a7850>, <lizard.FunctionInfo object at 0x7fcf0c37d970>, <lizard.FunctionInfo object at 0x7fcf0c37d430>, <lizard.FunctionInfo object at 0x7fcf0c2ede50>, <lizard.FunctionInfo object at 0x7fcf0c32d3a0>, <lizard.FunctionInfo object at 0x7fcf0c32dbb0>, <lizard.FunctionInfo object at 0x7fcf0c32d430>, <lizard.FunctionInfo object at 0x7fcf0c32d940>, <lizard.FunctionInfo object at 0x7fcf0c32d7f0>, <lizard.FunctionInfo object at 0x7fcf0c32d0a0>, <lizard.FunctionInfo object at 0x7fcf0c32d6d0>, <lizard.FunctionInfo object at 0x7fcf0c32dd90>, <lizard.FunctionInfo object at 0x7fcf0c361df0>], 'token_count': 4916}\n"
     ]
    }
   ],
   "source": [
    "\n",
    "\n",
    "\n",
    "print(liz_file.__dict__)"
   ]
  },
  {
   "cell_type": "code",
   "execution_count": 243,
   "metadata": {},
   "outputs": [
    {
     "name": "stdout",
     "output_type": "stream",
     "text": [
      "Shape of the dataframe:  (20, 10)\n"
     ]
    },
    {
     "data": {
      "text/html": [
       "<div>\n",
       "<style scoped>\n",
       "    .dataframe tbody tr th:only-of-type {\n",
       "        vertical-align: middle;\n",
       "    }\n",
       "\n",
       "    .dataframe tbody tr th {\n",
       "        vertical-align: top;\n",
       "    }\n",
       "\n",
       "    .dataframe thead th {\n",
       "        text-align: right;\n",
       "    }\n",
       "</style>\n",
       "<table border=\"1\" class=\"dataframe\">\n",
       "  <thead>\n",
       "    <tr style=\"text-align: right;\">\n",
       "      <th></th>\n",
       "      <th>cyclomatic_complexity</th>\n",
       "      <th>nloc</th>\n",
       "      <th>token_count</th>\n",
       "      <th>name</th>\n",
       "      <th>long_name</th>\n",
       "      <th>start_line</th>\n",
       "      <th>end_line</th>\n",
       "      <th>filename</th>\n",
       "      <th>top_nesting_level</th>\n",
       "      <th>code</th>\n",
       "    </tr>\n",
       "  </thead>\n",
       "  <tbody>\n",
       "    <tr>\n",
       "      <th>0</th>\n",
       "      <td>3</td>\n",
       "      <td>43</td>\n",
       "      <td>336</td>\n",
       "      <td>relay_dhcp_to_server</td>\n",
       "      <td>relay_dhcp_to_server( struct ip * ip , int len)</td>\n",
       "      <td>162</td>\n",
       "      <td>224</td>\n",
       "      <td>../data/projects/contiki-2.4/tools/tunslip.c</td>\n",
       "      <td>0</td>\n",
       "      <td>relay_dhcp_to_server( struct ip * ip , int len...</td>\n",
       "    </tr>\n",
       "    <tr>\n",
       "      <th>1</th>\n",
       "      <td>14</td>\n",
       "      <td>91</td>\n",
       "      <td>725</td>\n",
       "      <td>relay_dhcp_to_client</td>\n",
       "      <td>relay_dhcp_to_client( int slipfd)</td>\n",
       "      <td>229</td>\n",
       "      <td>338</td>\n",
       "      <td>../data/projects/contiki-2.4/tools/tunslip.c</td>\n",
       "      <td>0</td>\n",
       "      <td>relay_dhcp_to_client( int slipfd){\\n  struct d...</td>\n",
       "    </tr>\n",
       "    <tr>\n",
       "      <th>2</th>\n",
       "      <td>5</td>\n",
       "      <td>18</td>\n",
       "      <td>118</td>\n",
       "      <td>ip4sum</td>\n",
       "      <td>ip4sum( u_int16_t sum , const void * _p , u_in...</td>\n",
       "      <td>344</td>\n",
       "      <td>362</td>\n",
       "      <td>../data/projects/contiki-2.4/tools/tunslip.c</td>\n",
       "      <td>0</td>\n",
       "      <td>ip4sum( u_int16_t sum , const void * _p , u_in...</td>\n",
       "    </tr>\n",
       "    <tr>\n",
       "      <th>3</th>\n",
       "      <td>15</td>\n",
       "      <td>34</td>\n",
       "      <td>256</td>\n",
       "      <td>check_ip</td>\n",
       "      <td>check_ip( const struct ip * ip , unsigned ip_len)</td>\n",
       "      <td>365</td>\n",
       "      <td>413</td>\n",
       "      <td>../data/projects/contiki-2.4/tools/tunslip.c</td>\n",
       "      <td>0</td>\n",
       "      <td>check_ip( const struct ip * ip , unsigned ip_l...</td>\n",
       "    </tr>\n",
       "    <tr>\n",
       "      <th>4</th>\n",
       "      <td>8</td>\n",
       "      <td>12</td>\n",
       "      <td>90</td>\n",
       "      <td>is_sensible_string</td>\n",
       "      <td>is_sensible_string( const unsigned char * s , ...</td>\n",
       "      <td>416</td>\n",
       "      <td>427</td>\n",
       "      <td>../data/projects/contiki-2.4/tools/tunslip.c</td>\n",
       "      <td>0</td>\n",
       "      <td>is_sensible_string( const unsigned char * s , ...</td>\n",
       "    </tr>\n",
       "  </tbody>\n",
       "</table>\n",
       "</div>"
      ],
      "text/plain": [
       "   cyclomatic_complexity  nloc  token_count                  name  \\\n",
       "0                      3    43          336  relay_dhcp_to_server   \n",
       "1                     14    91          725  relay_dhcp_to_client   \n",
       "2                      5    18          118                ip4sum   \n",
       "3                     15    34          256              check_ip   \n",
       "4                      8    12           90    is_sensible_string   \n",
       "\n",
       "                                           long_name  start_line  end_line  \\\n",
       "0    relay_dhcp_to_server( struct ip * ip , int len)         162       224   \n",
       "1                  relay_dhcp_to_client( int slipfd)         229       338   \n",
       "2  ip4sum( u_int16_t sum , const void * _p , u_in...         344       362   \n",
       "3  check_ip( const struct ip * ip , unsigned ip_len)         365       413   \n",
       "4  is_sensible_string( const unsigned char * s , ...         416       427   \n",
       "\n",
       "                                       filename  top_nesting_level  \\\n",
       "0  ../data/projects/contiki-2.4/tools/tunslip.c                  0   \n",
       "1  ../data/projects/contiki-2.4/tools/tunslip.c                  0   \n",
       "2  ../data/projects/contiki-2.4/tools/tunslip.c                  0   \n",
       "3  ../data/projects/contiki-2.4/tools/tunslip.c                  0   \n",
       "4  ../data/projects/contiki-2.4/tools/tunslip.c                  0   \n",
       "\n",
       "                                                code  \n",
       "0  relay_dhcp_to_server( struct ip * ip , int len...  \n",
       "1  relay_dhcp_to_client( int slipfd){\\n  struct d...  \n",
       "2  ip4sum( u_int16_t sum , const void * _p , u_in...  \n",
       "3  check_ip( const struct ip * ip , unsigned ip_l...  \n",
       "4  is_sensible_string( const unsigned char * s , ...  "
      ]
     },
     "execution_count": 243,
     "metadata": {},
     "output_type": "execute_result"
    }
   ],
   "source": [
    "import itertools\n",
    "\n",
    "def find_metrics(source_file):\n",
    "    \"\"\" split the given file into a list of functions blocks and return their metrics\n",
    "    \"\"\" \n",
    "    df = pd.DataFrame()\n",
    "    with open(source_file, \"r\") as fp:  \n",
    "        liz_file = lizard.analyze_file.analyze_source_code(source_file,  fp.read())\n",
    "        \n",
    "        for x in range(len(liz_file.function_list)):\n",
    "            fun_metrics = liz_file.function_list[x].__dict__\n",
    "            start=fun_metrics['start_line']\n",
    "            end=fun_metrics['end_line']\n",
    "            \n",
    "            fp.seek(0) # move header to the initial point of the file\n",
    "            df_fun = pd.DataFrame.from_dict(fun_metrics)\n",
    "            lines = [line for line in itertools.islice(fp, start, end)]\n",
    "            df_fun['code'] =  fun_metrics['long_name'] + ''.join(lines) \n",
    "            df = pd.concat([df, df_fun])\n",
    "            \n",
    "    # <guru> I think there is a problem in lizard detecting the correct full_parameters \n",
    "    # either we have to concatenate two lines of full_parameters or ignore it and take it from long_name if needed. \n",
    "    # drop['full_parameters', 'fan_in', 'fan_out', 'general_fan_out'] because lizard has not properly implemented these parameters so far.\n",
    "    cols_filter = ['full_parameters', 'fan_in', 'fan_out', 'general_fan_out']\n",
    "    df = df.drop(cols_filter, axis=1).drop_duplicates().reset_index(drop=True)\n",
    "    print('Shape of the dataframe: ', df.shape)\n",
    "    return df\n",
    "\n",
    "df = find_metrics(file)\n",
    "df.head(5)"
   ]
  },
  {
   "cell_type": "code",
   "execution_count": 216,
   "metadata": {},
   "outputs": [
    {
     "name": "stdout",
     "output_type": "stream",
     "text": [
      "relay_dhcp_to_server( struct ip * ip , int len){\n",
      "  struct dhcp_light_msg *inm;\n",
      "  struct dhcp_msg m;\n",
      "  int n;\n",
      "  u_int8_t *optptr;\n",
      "  \n",
      "  inm = (void*)(((u_int8_t*)ip) + 20 + 8); /* Skip over IP&UDP headers. */\n",
      "\n",
      "  if (inm->op != BOOTREQUEST) {\n",
      "    return;\n",
      "  }\n",
      "\n",
      "  inm->flags = ntohs(BOOTP_BROADCAST);\n",
      "\n",
      "  memcpy(&m, inm, DHCP_BASE_LEN);\n",
      "  memset(&m.sname, 0x0, DHCP_HOLE_LEN);\n",
      "  memcpy(&m.options, &inm->options, len - 20 - 8 - DHCP_BASE_LEN);\n",
      "  n = (len - 20 - 8) + DHCP_HOLE_LEN; /* +HOLE -IP&UDP headers. */\n",
      "\n",
      "  /*\n",
      "   * Ideally we would like to use the Relay Agent information option\n",
      "   * (RFC3046) together with the Link Selection sub-option (RFC3527)\n",
      "   * to ensure that addresses are allocated for this\n",
      "   * subnet. Unfortunately ISC-DHCPD does not currently implement\n",
      "   * RFC3527 and some other mechanism must be used. For this reason\n",
      "   * this implementation in addition uses the DHCP option for subnet\n",
      "   * selection (RFC3011) which is really not intended to be used by\n",
      "   * relays.\n",
      "   *\n",
      "   * Find DHCP_OPTION_END and add the new option here.\n",
      "   */\n",
      "  optptr = &m.options[n - DHCP_BASE_LEN - DHCP_HOLE_LEN - 1];\n",
      "  {\n",
      "    *optptr++ = DHCP_OPTION_SUBNET_SELECTION; /* RFC3011 */\n",
      "    *optptr++ = 4;\n",
      "    memcpy(optptr, &netaddr, 4); optptr += 4;\n",
      "    n += 4 + 2;\n",
      "  }\n",
      "  {\n",
      "    *optptr++ = DHCP_OPTION_AGENT; /* RFC3046 */\n",
      "    *optptr++ = 18; /* Sum of all suboptions below! */\n",
      "\n",
      "    *optptr++ = RAI_SUBNET_SELECTION; /* RFC3527 */\n",
      "    *optptr++ = 4;\n",
      "    memcpy(optptr, &netaddr, 4); optptr += 4;\n",
      "    *optptr++ = RAI_CIRCUIT_ID;\n",
      "    *optptr++ = 4;\n",
      "    memcpy(optptr, &circuit_addr, 4); optptr += 4;\n",
      "    *optptr++ = RAI_AGENT_ID;\n",
      "    *optptr++ = 4;\n",
      "    memcpy(optptr, &giaddr, 4); optptr += 4;\n",
      "    n += 18 + 2;\t\t\t/* Sum of all suboptions + 2! */\n",
      "  }\n",
      "  /* And finally put back the END. */\n",
      "  *optptr++ = DHCP_OPTION_END;\n",
      "\n",
      "  m.hops++;\n",
      "  memcpy(m.giaddr, &giaddr, sizeof(m.giaddr));\n",
      "  if (n != sendto(dhsock, &m, n, 0x0/*flags*/,\n",
      "\t\t(struct sockaddr *)&dhaddr, sizeof(dhaddr)))\n",
      "    err(1, \"sendto relay failed\");\n",
      "}\n",
      "\n"
     ]
    }
   ],
   "source": [
    "df_clean = df.drop_duplicates(subset=['code'], keep='first').reset_index(drop=True)\n",
    "print(df_clean.code[0])"
   ]
  }
 ],
 "metadata": {
  "kernelspec": {
   "display_name": "vulcode",
   "language": "python",
   "name": "python3"
  },
  "language_info": {
   "codemirror_mode": {
    "name": "ipython",
    "version": 3
   },
   "file_extension": ".py",
   "mimetype": "text/x-python",
   "name": "python",
   "nbconvert_exporter": "python",
   "pygments_lexer": "ipython3",
   "version": "3.8.0"
  },
  "orig_nbformat": 4,
  "vscode": {
   "interpreter": {
    "hash": "770d70f40277e0fadd6bc1f7a5fecfd799eee3cbb57c500ccfb48eb07fd2c1ce"
   }
  }
 },
 "nbformat": 4,
 "nbformat_minor": 2
}
