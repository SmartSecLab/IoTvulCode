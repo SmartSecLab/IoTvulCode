{
 "cells": [
  {
   "attachments": {},
   "cell_type": "markdown",
   "metadata": {},
   "source": [
    "# Statistics on the output data. "
   ]
  },
  {
   "cell_type": "code",
   "execution_count": 1,
   "metadata": {},
   "outputs": [
    {
     "data": {
      "text/plain": [
       "Index(['Unnamed: 0', 'file', 'line', 'column', 'category', 'name', 'msg',\n",
       "       'note', 'cwe', 'context', 'helpuri', 'tool', 'defaultlevel', 'level',\n",
       "       'suggestion', 'fingerprint', 'toolversion', 'ruleid', 'severity',\n",
       "       'inconclusive'],\n",
       "      dtype='object')"
      ]
     },
     "execution_count": 1,
     "metadata": {},
     "output_type": "execute_result"
    }
   ],
   "source": [
    "import pandas as pd\n",
    "import matplotlib.pyplot as plt\n",
    "import seaborn as sns\n",
    "import plotly.express as px\n",
    "import lizard\n",
    "import subprocess as sub\n",
    "from pylibsrcml import srcml\n",
    "import os\n",
    "import re \n",
    "import xml.etree.ElementTree as et \n",
    "import warnings\n",
    "warnings.filterwarnings(\"ignore\")\n",
    "\n",
    "\n",
    "df = pd.read_csv('../data/raspberry_flaw.csv')\n",
    "dfm = pd.read_csv('../data/raspberry_metrics.csv')\n",
    "\n",
    "if not os.path.exists(\"figure\"):\n",
    "    os.mkdir(\"figure\")\n",
    "df.columns"
   ]
  },
  {
   "cell_type": "code",
   "execution_count": 11,
   "metadata": {},
   "outputs": [
    {
     "data": {
      "text/html": [
       "<div>\n",
       "<style scoped>\n",
       "    .dataframe tbody tr th:only-of-type {\n",
       "        vertical-align: middle;\n",
       "    }\n",
       "\n",
       "    .dataframe tbody tr th {\n",
       "        vertical-align: top;\n",
       "    }\n",
       "\n",
       "    .dataframe thead th {\n",
       "        text-align: right;\n",
       "    }\n",
       "</style>\n",
       "<table border=\"1\" class=\"dataframe\">\n",
       "  <thead>\n",
       "    <tr style=\"text-align: right;\">\n",
       "      <th></th>\n",
       "      <th>code</th>\n",
       "      <th>isMalicious</th>\n",
       "    </tr>\n",
       "  </thead>\n",
       "  <tbody>\n",
       "    <tr>\n",
       "      <th>0</th>\n",
       "      <td>( strlen ( me )</td>\n",
       "      <td>1</td>\n",
       "    </tr>\n",
       "    <tr>\n",
       "      <th>1</th>\n",
       "      <td>*pBuffer = MQTT_PACKET_TYPE_CONNECT ; pBuffer...</td>\n",
       "      <td>1</td>\n",
       "    </tr>\n",
       "    <tr>\n",
       "      <th>2</th>\n",
       "      <td>*pBuffer1 = MQTT_PACKET_TYPE_CONNECT1 ; pBuff...</td>\n",
       "      <td>1</td>\n",
       "    </tr>\n",
       "    <tr>\n",
       "      <th>3</th>\n",
       "      <td>ActualFreq 1 = cc1ComputeFreq ( DesiredFreq1 ) ;</td>\n",
       "      <td>1</td>\n",
       "    </tr>\n",
       "    <tr>\n",
       "      <th>4</th>\n",
       "      <td>ActualFreq = cc1000ComputeFreq ( DesiredFreq ) ;</td>\n",
       "      <td>1</td>\n",
       "    </tr>\n",
       "    <tr>\n",
       "      <th>...</th>\n",
       "      <td>...</td>\n",
       "      <td>...</td>\n",
       "    </tr>\n",
       "    <tr>\n",
       "      <th>4715</th>\n",
       "      <td>xResultr = xClass ( xSession , ( char * ) pxLa...</td>\n",
       "      <td>1</td>\n",
       "    </tr>\n",
       "    <tr>\n",
       "      <th>4716</th>\n",
       "      <td>xResultt = xClass ( xSession , ( char * ) pxLa...</td>\n",
       "      <td>1</td>\n",
       "    </tr>\n",
       "    <tr>\n",
       "      <th>4717</th>\n",
       "      <td>xResultw = xClass ( xSession , ( char * ) pxLa...</td>\n",
       "      <td>1</td>\n",
       "    </tr>\n",
       "    <tr>\n",
       "      <th>4718</th>\n",
       "      <td>xResultx = C_Create ( xSessionx, ( A ) &amp; D, si...</td>\n",
       "      <td>1</td>\n",
       "    </tr>\n",
       "    <tr>\n",
       "      <th>4719</th>\n",
       "      <td>xResultx = C_CreateObject ( xSessionx, ( A ) &amp;...</td>\n",
       "      <td>1</td>\n",
       "    </tr>\n",
       "  </tbody>\n",
       "</table>\n",
       "<p>4720 rows × 2 columns</p>\n",
       "</div>"
      ],
      "text/plain": [
       "                                                   code  isMalicious\n",
       "0                                      ( strlen ( me )             1\n",
       "1      *pBuffer = MQTT_PACKET_TYPE_CONNECT ; pBuffer...            1\n",
       "2      *pBuffer1 = MQTT_PACKET_TYPE_CONNECT1 ; pBuff...            1\n",
       "3      ActualFreq 1 = cc1ComputeFreq ( DesiredFreq1 ) ;            1\n",
       "4      ActualFreq = cc1000ComputeFreq ( DesiredFreq ) ;            1\n",
       "...                                                 ...          ...\n",
       "4715  xResultr = xClass ( xSession , ( char * ) pxLa...            1\n",
       "4716  xResultt = xClass ( xSession , ( char * ) pxLa...            1\n",
       "4717  xResultw = xClass ( xSession , ( char * ) pxLa...            1\n",
       "4718  xResultx = C_Create ( xSessionx, ( A ) & D, si...            1\n",
       "4719  xResultx = C_CreateObject ( xSessionx, ( A ) &...            1\n",
       "\n",
       "[4720 rows x 2 columns]"
      ]
     },
     "execution_count": 11,
     "metadata": {},
     "output_type": "execute_result"
    }
   ],
   "source": [
    "dfm"
   ]
  },
  {
   "cell_type": "code",
   "execution_count": 3,
   "metadata": {},
   "outputs": [
    {
     "data": {
      "application/vnd.plotly.v1+json": {
       "config": {
        "plotlyServerURL": "https://plot.ly"
       },
       "data": [
        {
         "branchvalues": "total",
         "domain": {
          "x": [
           0,
           1
          ],
          "y": [
           0,
           1
          ]
         },
         "hovertemplate": "labels=%{label}<br>count=%{value}<br>parent=%{parent}<br>id=%{id}<extra></extra>",
         "ids": [
          "buffer/char/CWE-119!/CWE-120",
          "buffer/wchar_t/CWE-119!/CWE-120",
          "buffer/bcopy/CWE-120",
          "buffer/fscanf/CWE-120",
          "buffer/memcpy/CWE-120",
          "buffer/sprintf/CWE-120",
          "buffer/sscanf/CWE-120",
          "buffer/strcat/CWE-120",
          "buffer/strcpy/CWE-120",
          "buffer/strncat/CWE-120",
          "buffer/strncpy/CWE-120",
          "buffer/vsprintf/CWE-120",
          "buffer/fgetc/CWE-120, CWE-20",
          "buffer/fscanf/CWE-120, CWE-20",
          "buffer/getc/CWE-120, CWE-20",
          "buffer/getchar/CWE-120, CWE-20",
          "buffer/getopt/CWE-120, CWE-20",
          "buffer/getopt_long/CWE-120, CWE-20",
          "buffer/gets/CWE-120, CWE-20",
          "buffer/read/CWE-120, CWE-20",
          "buffer/scanf/CWE-120, CWE-20",
          "buffer/sscanf/CWE-120, CWE-20",
          "buffer/vfscanf/CWE-120, CWE-20",
          "buffer/vsscanf/CWE-120, CWE-20",
          "buffer/realpath/CWE-120/CWE-785!",
          "buffer/equal/CWE-126",
          "buffer/mismatch/CWE-126",
          "buffer/strlen/CWE-126",
          "format/fprintf/CWE-134",
          "format/printf/CWE-134",
          "format/snprintf/CWE-134",
          "format/sprintf/CWE-134",
          "format/syslog/CWE-134",
          "format/vfprintf/CWE-134",
          "format/vprintf/CWE-134",
          "format/vsnprintf/CWE-134",
          "format/vsprintf/CWE-134",
          "integer/atoi/CWE-190",
          "integer/atol/CWE-190",
          "misc/chroot/CWE-250, CWE-22",
          "crypto/crypt/CWE-327",
          "random/random/CWE-327",
          "random/setstate/CWE-327",
          "random/srand/CWE-327",
          "random/srandom/CWE-327",
          "race/chmod/CWE-362",
          "race/chown/CWE-362",
          "misc/fopen/CWE-362",
          "misc/open/CWE-362",
          "race/vfork/CWE-362",
          "race/readlink/CWE-362, CWE-20",
          "race/access/CWE-362/CWE-367!",
          "tmpfile/mkstemp/CWE-377",
          "tmpfile/tmpfile/CWE-377",
          "free/memalign/CWE-676",
          "obsolete/ulimit/CWE-676",
          "obsolete/usleep/CWE-676",
          "access/umask/CWE-732",
          "shell/execl/CWE-78",
          "shell/execle/CWE-78",
          "shell/execlp/CWE-78",
          "shell/execv/CWE-78",
          "shell/execvp/CWE-78",
          "shell/popen/CWE-78",
          "shell/system/CWE-78",
          "buffer/getenv/CWE-807, CWE-20",
          "race/access",
          "integer/atoi",
          "integer/atol",
          "buffer/bcopy",
          "buffer/char",
          "race/chmod",
          "race/chown",
          "misc/chroot",
          "crypto/crypt",
          "buffer/equal",
          "shell/execl",
          "shell/execle",
          "shell/execlp",
          "shell/execv",
          "shell/execvp",
          "buffer/fgetc",
          "misc/fopen",
          "format/fprintf",
          "buffer/fscanf",
          "buffer/getc",
          "buffer/getchar",
          "buffer/getenv",
          "buffer/getopt",
          "buffer/getopt_long",
          "buffer/gets",
          "free/memalign",
          "buffer/memcpy",
          "buffer/mismatch",
          "tmpfile/mkstemp",
          "misc/open",
          "shell/popen",
          "format/printf",
          "random/random",
          "buffer/read",
          "race/readlink",
          "buffer/realpath",
          "buffer/scanf",
          "random/setstate",
          "format/snprintf",
          "buffer/sprintf",
          "format/sprintf",
          "random/srand",
          "random/srandom",
          "buffer/sscanf",
          "buffer/strcat",
          "buffer/strcpy",
          "buffer/strlen",
          "buffer/strncat",
          "buffer/strncpy",
          "format/syslog",
          "shell/system",
          "tmpfile/tmpfile",
          "obsolete/ulimit",
          "access/umask",
          "obsolete/usleep",
          "race/vfork",
          "format/vfprintf",
          "buffer/vfscanf",
          "format/vprintf",
          "format/vsnprintf",
          "buffer/vsprintf",
          "format/vsprintf",
          "buffer/vsscanf",
          "buffer/wchar_t",
          "access",
          "buffer",
          "crypto",
          "format",
          "free",
          "integer",
          "misc",
          "obsolete",
          "race",
          "random",
          "shell",
          "tmpfile"
         ],
         "labels": [
          "CWE-119!/CWE-120",
          "CWE-119!/CWE-120",
          "CWE-120",
          "CWE-120",
          "CWE-120",
          "CWE-120",
          "CWE-120",
          "CWE-120",
          "CWE-120",
          "CWE-120",
          "CWE-120",
          "CWE-120",
          "CWE-120, CWE-20",
          "CWE-120, CWE-20",
          "CWE-120, CWE-20",
          "CWE-120, CWE-20",
          "CWE-120, CWE-20",
          "CWE-120, CWE-20",
          "CWE-120, CWE-20",
          "CWE-120, CWE-20",
          "CWE-120, CWE-20",
          "CWE-120, CWE-20",
          "CWE-120, CWE-20",
          "CWE-120, CWE-20",
          "CWE-120/CWE-785!",
          "CWE-126",
          "CWE-126",
          "CWE-126",
          "CWE-134",
          "CWE-134",
          "CWE-134",
          "CWE-134",
          "CWE-134",
          "CWE-134",
          "CWE-134",
          "CWE-134",
          "CWE-134",
          "CWE-190",
          "CWE-190",
          "CWE-250, CWE-22",
          "CWE-327",
          "CWE-327",
          "CWE-327",
          "CWE-327",
          "CWE-327",
          "CWE-362",
          "CWE-362",
          "CWE-362",
          "CWE-362",
          "CWE-362",
          "CWE-362, CWE-20",
          "CWE-362/CWE-367!",
          "CWE-377",
          "CWE-377",
          "CWE-676",
          "CWE-676",
          "CWE-676",
          "CWE-732",
          "CWE-78",
          "CWE-78",
          "CWE-78",
          "CWE-78",
          "CWE-78",
          "CWE-78",
          "CWE-78",
          "CWE-807, CWE-20",
          "access",
          "atoi",
          "atol",
          "bcopy",
          "char",
          "chmod",
          "chown",
          "chroot",
          "crypt",
          "equal",
          "execl",
          "execle",
          "execlp",
          "execv",
          "execvp",
          "fgetc",
          "fopen",
          "fprintf",
          "fscanf",
          "getc",
          "getchar",
          "getenv",
          "getopt",
          "getopt_long",
          "gets",
          "memalign",
          "memcpy",
          "mismatch",
          "mkstemp",
          "open",
          "popen",
          "printf",
          "random",
          "read",
          "readlink",
          "realpath",
          "scanf",
          "setstate",
          "snprintf",
          "sprintf",
          "sprintf",
          "srand",
          "srandom",
          "sscanf",
          "strcat",
          "strcpy",
          "strlen",
          "strncat",
          "strncpy",
          "syslog",
          "system",
          "tmpfile",
          "ulimit",
          "umask",
          "usleep",
          "vfork",
          "vfprintf",
          "vfscanf",
          "vprintf",
          "vsnprintf",
          "vsprintf",
          "vsprintf",
          "vsscanf",
          "wchar_t",
          "access",
          "buffer",
          "crypto",
          "format",
          "free",
          "integer",
          "misc",
          "obsolete",
          "race",
          "random",
          "shell",
          "tmpfile"
         ],
         "name": "",
         "parents": [
          "buffer/char",
          "buffer/wchar_t",
          "buffer/bcopy",
          "buffer/fscanf",
          "buffer/memcpy",
          "buffer/sprintf",
          "buffer/sscanf",
          "buffer/strcat",
          "buffer/strcpy",
          "buffer/strncat",
          "buffer/strncpy",
          "buffer/vsprintf",
          "buffer/fgetc",
          "buffer/fscanf",
          "buffer/getc",
          "buffer/getchar",
          "buffer/getopt",
          "buffer/getopt_long",
          "buffer/gets",
          "buffer/read",
          "buffer/scanf",
          "buffer/sscanf",
          "buffer/vfscanf",
          "buffer/vsscanf",
          "buffer/realpath",
          "buffer/equal",
          "buffer/mismatch",
          "buffer/strlen",
          "format/fprintf",
          "format/printf",
          "format/snprintf",
          "format/sprintf",
          "format/syslog",
          "format/vfprintf",
          "format/vprintf",
          "format/vsnprintf",
          "format/vsprintf",
          "integer/atoi",
          "integer/atol",
          "misc/chroot",
          "crypto/crypt",
          "random/random",
          "random/setstate",
          "random/srand",
          "random/srandom",
          "race/chmod",
          "race/chown",
          "misc/fopen",
          "misc/open",
          "race/vfork",
          "race/readlink",
          "race/access",
          "tmpfile/mkstemp",
          "tmpfile/tmpfile",
          "free/memalign",
          "obsolete/ulimit",
          "obsolete/usleep",
          "access/umask",
          "shell/execl",
          "shell/execle",
          "shell/execlp",
          "shell/execv",
          "shell/execvp",
          "shell/popen",
          "shell/system",
          "buffer/getenv",
          "race",
          "integer",
          "integer",
          "buffer",
          "buffer",
          "race",
          "race",
          "misc",
          "crypto",
          "buffer",
          "shell",
          "shell",
          "shell",
          "shell",
          "shell",
          "buffer",
          "misc",
          "format",
          "buffer",
          "buffer",
          "buffer",
          "buffer",
          "buffer",
          "buffer",
          "buffer",
          "free",
          "buffer",
          "buffer",
          "tmpfile",
          "misc",
          "shell",
          "format",
          "random",
          "buffer",
          "race",
          "buffer",
          "buffer",
          "random",
          "format",
          "buffer",
          "format",
          "random",
          "random",
          "buffer",
          "buffer",
          "buffer",
          "buffer",
          "buffer",
          "buffer",
          "format",
          "shell",
          "tmpfile",
          "obsolete",
          "access",
          "obsolete",
          "race",
          "format",
          "buffer",
          "format",
          "format",
          "buffer",
          "format",
          "buffer",
          "buffer",
          "",
          "",
          "",
          "",
          "",
          "",
          "",
          "",
          "",
          "",
          "",
          ""
         ],
         "type": "sunburst",
         "values": [
          19208,
          450,
          3,
          5,
          23095,
          8177,
          44,
          485,
          2000,
          59,
          691,
          1,
          19,
          16,
          13,
          14,
          128,
          65,
          4,
          3075,
          3,
          76,
          1,
          7,
          93,
          52,
          104,
          4825,
          145,
          217,
          429,
          258,
          29,
          90,
          25,
          171,
          24,
          335,
          31,
          7,
          742,
          138,
          5,
          48,
          10,
          11,
          16,
          361,
          1423,
          12,
          42,
          1311,
          23,
          34,
          13,
          7,
          209,
          115,
          12,
          1,
          13,
          4,
          13,
          28,
          602,
          92,
          1311,
          335,
          31,
          3,
          19208,
          11,
          16,
          7,
          742,
          52,
          12,
          1,
          13,
          4,
          13,
          19,
          361,
          145,
          21,
          13,
          14,
          92,
          128,
          65,
          4,
          13,
          23095,
          104,
          23,
          1423,
          28,
          217,
          138,
          3075,
          42,
          93,
          3,
          5,
          429,
          8177,
          258,
          48,
          10,
          120,
          485,
          2000,
          4825,
          59,
          691,
          29,
          602,
          34,
          7,
          115,
          209,
          12,
          90,
          1,
          25,
          171,
          1,
          24,
          7,
          450,
          115,
          62805,
          742,
          1388,
          13,
          366,
          1791,
          216,
          1392,
          201,
          673,
          57
         ]
        }
       ],
       "layout": {
        "legend": {
         "tracegroupgap": 0
        },
        "margin": {
         "t": 60
        },
        "template": {
         "data": {
          "bar": [
           {
            "error_x": {
             "color": "#2a3f5f"
            },
            "error_y": {
             "color": "#2a3f5f"
            },
            "marker": {
             "line": {
              "color": "#E5ECF6",
              "width": 0.5
             },
             "pattern": {
              "fillmode": "overlay",
              "size": 10,
              "solidity": 0.2
             }
            },
            "type": "bar"
           }
          ],
          "barpolar": [
           {
            "marker": {
             "line": {
              "color": "#E5ECF6",
              "width": 0.5
             },
             "pattern": {
              "fillmode": "overlay",
              "size": 10,
              "solidity": 0.2
             }
            },
            "type": "barpolar"
           }
          ],
          "carpet": [
           {
            "aaxis": {
             "endlinecolor": "#2a3f5f",
             "gridcolor": "white",
             "linecolor": "white",
             "minorgridcolor": "white",
             "startlinecolor": "#2a3f5f"
            },
            "baxis": {
             "endlinecolor": "#2a3f5f",
             "gridcolor": "white",
             "linecolor": "white",
             "minorgridcolor": "white",
             "startlinecolor": "#2a3f5f"
            },
            "type": "carpet"
           }
          ],
          "choropleth": [
           {
            "colorbar": {
             "outlinewidth": 0,
             "ticks": ""
            },
            "type": "choropleth"
           }
          ],
          "contour": [
           {
            "colorbar": {
             "outlinewidth": 0,
             "ticks": ""
            },
            "colorscale": [
             [
              0,
              "#0d0887"
             ],
             [
              0.1111111111111111,
              "#46039f"
             ],
             [
              0.2222222222222222,
              "#7201a8"
             ],
             [
              0.3333333333333333,
              "#9c179e"
             ],
             [
              0.4444444444444444,
              "#bd3786"
             ],
             [
              0.5555555555555556,
              "#d8576b"
             ],
             [
              0.6666666666666666,
              "#ed7953"
             ],
             [
              0.7777777777777778,
              "#fb9f3a"
             ],
             [
              0.8888888888888888,
              "#fdca26"
             ],
             [
              1,
              "#f0f921"
             ]
            ],
            "type": "contour"
           }
          ],
          "contourcarpet": [
           {
            "colorbar": {
             "outlinewidth": 0,
             "ticks": ""
            },
            "type": "contourcarpet"
           }
          ],
          "heatmap": [
           {
            "colorbar": {
             "outlinewidth": 0,
             "ticks": ""
            },
            "colorscale": [
             [
              0,
              "#0d0887"
             ],
             [
              0.1111111111111111,
              "#46039f"
             ],
             [
              0.2222222222222222,
              "#7201a8"
             ],
             [
              0.3333333333333333,
              "#9c179e"
             ],
             [
              0.4444444444444444,
              "#bd3786"
             ],
             [
              0.5555555555555556,
              "#d8576b"
             ],
             [
              0.6666666666666666,
              "#ed7953"
             ],
             [
              0.7777777777777778,
              "#fb9f3a"
             ],
             [
              0.8888888888888888,
              "#fdca26"
             ],
             [
              1,
              "#f0f921"
             ]
            ],
            "type": "heatmap"
           }
          ],
          "heatmapgl": [
           {
            "colorbar": {
             "outlinewidth": 0,
             "ticks": ""
            },
            "colorscale": [
             [
              0,
              "#0d0887"
             ],
             [
              0.1111111111111111,
              "#46039f"
             ],
             [
              0.2222222222222222,
              "#7201a8"
             ],
             [
              0.3333333333333333,
              "#9c179e"
             ],
             [
              0.4444444444444444,
              "#bd3786"
             ],
             [
              0.5555555555555556,
              "#d8576b"
             ],
             [
              0.6666666666666666,
              "#ed7953"
             ],
             [
              0.7777777777777778,
              "#fb9f3a"
             ],
             [
              0.8888888888888888,
              "#fdca26"
             ],
             [
              1,
              "#f0f921"
             ]
            ],
            "type": "heatmapgl"
           }
          ],
          "histogram": [
           {
            "marker": {
             "pattern": {
              "fillmode": "overlay",
              "size": 10,
              "solidity": 0.2
             }
            },
            "type": "histogram"
           }
          ],
          "histogram2d": [
           {
            "colorbar": {
             "outlinewidth": 0,
             "ticks": ""
            },
            "colorscale": [
             [
              0,
              "#0d0887"
             ],
             [
              0.1111111111111111,
              "#46039f"
             ],
             [
              0.2222222222222222,
              "#7201a8"
             ],
             [
              0.3333333333333333,
              "#9c179e"
             ],
             [
              0.4444444444444444,
              "#bd3786"
             ],
             [
              0.5555555555555556,
              "#d8576b"
             ],
             [
              0.6666666666666666,
              "#ed7953"
             ],
             [
              0.7777777777777778,
              "#fb9f3a"
             ],
             [
              0.8888888888888888,
              "#fdca26"
             ],
             [
              1,
              "#f0f921"
             ]
            ],
            "type": "histogram2d"
           }
          ],
          "histogram2dcontour": [
           {
            "colorbar": {
             "outlinewidth": 0,
             "ticks": ""
            },
            "colorscale": [
             [
              0,
              "#0d0887"
             ],
             [
              0.1111111111111111,
              "#46039f"
             ],
             [
              0.2222222222222222,
              "#7201a8"
             ],
             [
              0.3333333333333333,
              "#9c179e"
             ],
             [
              0.4444444444444444,
              "#bd3786"
             ],
             [
              0.5555555555555556,
              "#d8576b"
             ],
             [
              0.6666666666666666,
              "#ed7953"
             ],
             [
              0.7777777777777778,
              "#fb9f3a"
             ],
             [
              0.8888888888888888,
              "#fdca26"
             ],
             [
              1,
              "#f0f921"
             ]
            ],
            "type": "histogram2dcontour"
           }
          ],
          "mesh3d": [
           {
            "colorbar": {
             "outlinewidth": 0,
             "ticks": ""
            },
            "type": "mesh3d"
           }
          ],
          "parcoords": [
           {
            "line": {
             "colorbar": {
              "outlinewidth": 0,
              "ticks": ""
             }
            },
            "type": "parcoords"
           }
          ],
          "pie": [
           {
            "automargin": true,
            "type": "pie"
           }
          ],
          "scatter": [
           {
            "fillpattern": {
             "fillmode": "overlay",
             "size": 10,
             "solidity": 0.2
            },
            "type": "scatter"
           }
          ],
          "scatter3d": [
           {
            "line": {
             "colorbar": {
              "outlinewidth": 0,
              "ticks": ""
             }
            },
            "marker": {
             "colorbar": {
              "outlinewidth": 0,
              "ticks": ""
             }
            },
            "type": "scatter3d"
           }
          ],
          "scattercarpet": [
           {
            "marker": {
             "colorbar": {
              "outlinewidth": 0,
              "ticks": ""
             }
            },
            "type": "scattercarpet"
           }
          ],
          "scattergeo": [
           {
            "marker": {
             "colorbar": {
              "outlinewidth": 0,
              "ticks": ""
             }
            },
            "type": "scattergeo"
           }
          ],
          "scattergl": [
           {
            "marker": {
             "colorbar": {
              "outlinewidth": 0,
              "ticks": ""
             }
            },
            "type": "scattergl"
           }
          ],
          "scattermapbox": [
           {
            "marker": {
             "colorbar": {
              "outlinewidth": 0,
              "ticks": ""
             }
            },
            "type": "scattermapbox"
           }
          ],
          "scatterpolar": [
           {
            "marker": {
             "colorbar": {
              "outlinewidth": 0,
              "ticks": ""
             }
            },
            "type": "scatterpolar"
           }
          ],
          "scatterpolargl": [
           {
            "marker": {
             "colorbar": {
              "outlinewidth": 0,
              "ticks": ""
             }
            },
            "type": "scatterpolargl"
           }
          ],
          "scatterternary": [
           {
            "marker": {
             "colorbar": {
              "outlinewidth": 0,
              "ticks": ""
             }
            },
            "type": "scatterternary"
           }
          ],
          "surface": [
           {
            "colorbar": {
             "outlinewidth": 0,
             "ticks": ""
            },
            "colorscale": [
             [
              0,
              "#0d0887"
             ],
             [
              0.1111111111111111,
              "#46039f"
             ],
             [
              0.2222222222222222,
              "#7201a8"
             ],
             [
              0.3333333333333333,
              "#9c179e"
             ],
             [
              0.4444444444444444,
              "#bd3786"
             ],
             [
              0.5555555555555556,
              "#d8576b"
             ],
             [
              0.6666666666666666,
              "#ed7953"
             ],
             [
              0.7777777777777778,
              "#fb9f3a"
             ],
             [
              0.8888888888888888,
              "#fdca26"
             ],
             [
              1,
              "#f0f921"
             ]
            ],
            "type": "surface"
           }
          ],
          "table": [
           {
            "cells": {
             "fill": {
              "color": "#EBF0F8"
             },
             "line": {
              "color": "white"
             }
            },
            "header": {
             "fill": {
              "color": "#C8D4E3"
             },
             "line": {
              "color": "white"
             }
            },
            "type": "table"
           }
          ]
         },
         "layout": {
          "annotationdefaults": {
           "arrowcolor": "#2a3f5f",
           "arrowhead": 0,
           "arrowwidth": 1
          },
          "autotypenumbers": "strict",
          "coloraxis": {
           "colorbar": {
            "outlinewidth": 0,
            "ticks": ""
           }
          },
          "colorscale": {
           "diverging": [
            [
             0,
             "#8e0152"
            ],
            [
             0.1,
             "#c51b7d"
            ],
            [
             0.2,
             "#de77ae"
            ],
            [
             0.3,
             "#f1b6da"
            ],
            [
             0.4,
             "#fde0ef"
            ],
            [
             0.5,
             "#f7f7f7"
            ],
            [
             0.6,
             "#e6f5d0"
            ],
            [
             0.7,
             "#b8e186"
            ],
            [
             0.8,
             "#7fbc41"
            ],
            [
             0.9,
             "#4d9221"
            ],
            [
             1,
             "#276419"
            ]
           ],
           "sequential": [
            [
             0,
             "#0d0887"
            ],
            [
             0.1111111111111111,
             "#46039f"
            ],
            [
             0.2222222222222222,
             "#7201a8"
            ],
            [
             0.3333333333333333,
             "#9c179e"
            ],
            [
             0.4444444444444444,
             "#bd3786"
            ],
            [
             0.5555555555555556,
             "#d8576b"
            ],
            [
             0.6666666666666666,
             "#ed7953"
            ],
            [
             0.7777777777777778,
             "#fb9f3a"
            ],
            [
             0.8888888888888888,
             "#fdca26"
            ],
            [
             1,
             "#f0f921"
            ]
           ],
           "sequentialminus": [
            [
             0,
             "#0d0887"
            ],
            [
             0.1111111111111111,
             "#46039f"
            ],
            [
             0.2222222222222222,
             "#7201a8"
            ],
            [
             0.3333333333333333,
             "#9c179e"
            ],
            [
             0.4444444444444444,
             "#bd3786"
            ],
            [
             0.5555555555555556,
             "#d8576b"
            ],
            [
             0.6666666666666666,
             "#ed7953"
            ],
            [
             0.7777777777777778,
             "#fb9f3a"
            ],
            [
             0.8888888888888888,
             "#fdca26"
            ],
            [
             1,
             "#f0f921"
            ]
           ]
          },
          "colorway": [
           "#636efa",
           "#EF553B",
           "#00cc96",
           "#ab63fa",
           "#FFA15A",
           "#19d3f3",
           "#FF6692",
           "#B6E880",
           "#FF97FF",
           "#FECB52"
          ],
          "font": {
           "color": "#2a3f5f"
          },
          "geo": {
           "bgcolor": "white",
           "lakecolor": "white",
           "landcolor": "#E5ECF6",
           "showlakes": true,
           "showland": true,
           "subunitcolor": "white"
          },
          "hoverlabel": {
           "align": "left"
          },
          "hovermode": "closest",
          "mapbox": {
           "style": "light"
          },
          "paper_bgcolor": "white",
          "plot_bgcolor": "#E5ECF6",
          "polar": {
           "angularaxis": {
            "gridcolor": "white",
            "linecolor": "white",
            "ticks": ""
           },
           "bgcolor": "#E5ECF6",
           "radialaxis": {
            "gridcolor": "white",
            "linecolor": "white",
            "ticks": ""
           }
          },
          "scene": {
           "xaxis": {
            "backgroundcolor": "#E5ECF6",
            "gridcolor": "white",
            "gridwidth": 2,
            "linecolor": "white",
            "showbackground": true,
            "ticks": "",
            "zerolinecolor": "white"
           },
           "yaxis": {
            "backgroundcolor": "#E5ECF6",
            "gridcolor": "white",
            "gridwidth": 2,
            "linecolor": "white",
            "showbackground": true,
            "ticks": "",
            "zerolinecolor": "white"
           },
           "zaxis": {
            "backgroundcolor": "#E5ECF6",
            "gridcolor": "white",
            "gridwidth": 2,
            "linecolor": "white",
            "showbackground": true,
            "ticks": "",
            "zerolinecolor": "white"
           }
          },
          "shapedefaults": {
           "line": {
            "color": "#2a3f5f"
           }
          },
          "ternary": {
           "aaxis": {
            "gridcolor": "white",
            "linecolor": "white",
            "ticks": ""
           },
           "baxis": {
            "gridcolor": "white",
            "linecolor": "white",
            "ticks": ""
           },
           "bgcolor": "#E5ECF6",
           "caxis": {
            "gridcolor": "white",
            "linecolor": "white",
            "ticks": ""
           }
          },
          "title": {
           "x": 0.05
          },
          "xaxis": {
           "automargin": true,
           "gridcolor": "white",
           "linecolor": "white",
           "ticks": "",
           "title": {
            "standoff": 15
           },
           "zerolinecolor": "white",
           "zerolinewidth": 2
          },
          "yaxis": {
           "automargin": true,
           "gridcolor": "white",
           "linecolor": "white",
           "ticks": "",
           "title": {
            "standoff": 15
           },
           "zerolinecolor": "white",
           "zerolinewidth": 2
          }
         }
        }
       }
      }
     },
     "metadata": {},
     "output_type": "display_data"
    },
    {
     "data": {
      "text/html": [
       "<div>\n",
       "<style scoped>\n",
       "    .dataframe tbody tr th:only-of-type {\n",
       "        vertical-align: middle;\n",
       "    }\n",
       "\n",
       "    .dataframe tbody tr th {\n",
       "        vertical-align: top;\n",
       "    }\n",
       "\n",
       "    .dataframe thead th {\n",
       "        text-align: right;\n",
       "    }\n",
       "</style>\n",
       "<table border=\"1\" class=\"dataframe\">\n",
       "  <thead>\n",
       "    <tr style=\"text-align: right;\">\n",
       "      <th></th>\n",
       "      <th>category</th>\n",
       "      <th>name</th>\n",
       "      <th>cwe</th>\n",
       "      <th>count</th>\n",
       "    </tr>\n",
       "  </thead>\n",
       "  <tbody>\n",
       "    <tr>\n",
       "      <th>0</th>\n",
       "      <td>access</td>\n",
       "      <td>umask</td>\n",
       "      <td>CWE-732</td>\n",
       "      <td>115</td>\n",
       "    </tr>\n",
       "    <tr>\n",
       "      <th>1</th>\n",
       "      <td>buffer</td>\n",
       "      <td>bcopy</td>\n",
       "      <td>CWE-120</td>\n",
       "      <td>3</td>\n",
       "    </tr>\n",
       "    <tr>\n",
       "      <th>2</th>\n",
       "      <td>buffer</td>\n",
       "      <td>char</td>\n",
       "      <td>CWE-119!/CWE-120</td>\n",
       "      <td>19208</td>\n",
       "    </tr>\n",
       "    <tr>\n",
       "      <th>3</th>\n",
       "      <td>buffer</td>\n",
       "      <td>equal</td>\n",
       "      <td>CWE-126</td>\n",
       "      <td>52</td>\n",
       "    </tr>\n",
       "    <tr>\n",
       "      <th>4</th>\n",
       "      <td>buffer</td>\n",
       "      <td>fgetc</td>\n",
       "      <td>CWE-120, CWE-20</td>\n",
       "      <td>19</td>\n",
       "    </tr>\n",
       "  </tbody>\n",
       "</table>\n",
       "</div>"
      ],
      "text/plain": [
       "  category   name               cwe  count\n",
       "0   access  umask           CWE-732    115\n",
       "1   buffer  bcopy           CWE-120      3\n",
       "2   buffer   char  CWE-119!/CWE-120  19208\n",
       "3   buffer  equal           CWE-126     52\n",
       "4   buffer  fgetc   CWE-120, CWE-20     19"
      ]
     },
     "execution_count": 3,
     "metadata": {},
     "output_type": "execute_result"
    }
   ],
   "source": [
    "dfp = df[['category', 'name', 'cwe']].groupby(['category', 'name', 'cwe'], group_keys=False).size().reset_index(name='count')\n",
    "fig = px.sunburst(dfp, path=['category', 'name', 'cwe'], values='count')\n",
    "# fig.write_image(\"figure/vul_statistics.pdf\")\n",
    "fig.show()\n",
    "dfp.head()"
   ]
  },
  {
   "attachments": {},
   "cell_type": "markdown",
   "metadata": {},
   "source": [
    "# Analysis of IoTvulCode tool generated output for feeding non-vul statements:\n"
   ]
  },
  {
   "cell_type": "code",
   "execution_count": 4,
   "metadata": {},
   "outputs": [
    {
     "data": {
      "text/plain": [
       "<AxesSubplot: >"
      ]
     },
     "execution_count": 4,
     "metadata": {},
     "output_type": "execute_result"
    },
    {
     "data": {
      "image/png": "[encoded data removed]",
      "text/plain": [
       "<Figure size 640x480 with 1 Axes>"
      ]
     },
     "metadata": {},
     "output_type": "display_data"
    }
   ],
   "source": [
    "df.context.str.len().sort_values(ascending=False).reset_index(drop=True).plot(kind='box')"
   ]
  },
  {
   "cell_type": "code",
   "execution_count": 5,
   "metadata": {},
   "outputs": [
    {
     "data": {
      "text/plain": [
       "[42, 10]"
      ]
     },
     "execution_count": 5,
     "metadata": {},
     "output_type": "execute_result"
    }
   ],
   "source": [
    "\n",
    "import random\n",
    "\n",
    "def filter_unusual_statements(statements, min_len, max_len):\n",
    "    \"\"\"\" \n",
    "    # https://peps.python.org/pep-0007/\n",
    "    # https://www.python.org/dev/peps/pep-0007/ \n",
    "    \"\"\"\n",
    "    filtered_statements = []\n",
    "    for statement in statements:\n",
    "        if len(statement) >= min_len and len(statement) <= max_len:\n",
    "            filtered_statements.append(statement)\n",
    "   \n",
    "    # take size of the vul statements as basis\n",
    "    df = pd.Series(statements)   \n",
    "    df = df.str.len()\n",
    "    \n",
    "    stat_sizes =  list(df[df.between(max_len, min_len)].reset_index(drop=True))\n",
    "    random.seed(0)\n",
    "    sample_size = 5 if len(stat_sizes)>5 else len(stat_sizes)-1\n",
    "    stat_sizes = random.sample(set(stat_sizes), sample_size)\n",
    "    return stat_sizes\n",
    "\n",
    "\n",
    "# standard variables:\n",
    "max_len = 79\n",
    "# for min_len (eg, 7 characters)\n",
    "min_len = df.context.str.len().sort_values(ascending=False).reset_index(drop=True).min()\n",
    "\n",
    "\n",
    "lines = dfm.code[0].splitlines()\n",
    "stat_sizes = filter_unusual_statements(lines, max_len, min_len)\n",
    "stat_sizes"
   ]
  },
  {
   "cell_type": "code",
   "execution_count": 17,
   "metadata": {},
   "outputs": [
    {
     "name": "stdout",
     "output_type": "stream",
     "text": [
      "Shape of DNN data:  (4720, 2)\n",
      "Shape of contiki:  (32889, 2)\n",
      "Shape of raspberry:  (894715, 14)\n",
      "Shape of raspberry flaws:  (78136, 20)\n"
     ]
    }
   ],
   "source": [
    "df_dnn = pd.read_csv('../data/iDetect_refine/DNN_Binary.csv')\n",
    "df_conti = pd.read_csv('../data/contiki-master_Binary.csv')\n",
    "df_rasp = pd.read_csv('../data/raspberry_metrics.csv')\n",
    "df_rasp_flaw = pd.read_csv('../data/raspberry_flaw.csv')\n",
    "\n",
    "print('Shape of DNN data: ', df_dnn.shape)\n",
    "print('Shape of contiki: ', df_conti.shape)\n",
    "print('Shape of raspberry: ', df_rasp.shape)\n",
    "print('Shape of raspberry flaws: ', df_rasp_flaw.shape)"
   ]
  },
  {
   "cell_type": "code",
   "execution_count": 27,
   "metadata": {},
   "outputs": [
    {
     "data": {
      "text/html": [
       "<div>\n",
       "<style scoped>\n",
       "    .dataframe tbody tr th:only-of-type {\n",
       "        vertical-align: middle;\n",
       "    }\n",
       "\n",
       "    .dataframe tbody tr th {\n",
       "        vertical-align: top;\n",
       "    }\n",
       "\n",
       "    .dataframe thead th {\n",
       "        text-align: right;\n",
       "    }\n",
       "</style>\n",
       "<table border=\"1\" class=\"dataframe\">\n",
       "  <thead>\n",
       "    <tr style=\"text-align: right;\">\n",
       "      <th></th>\n",
       "      <th>code</th>\n",
       "      <th>isMalicious</th>\n",
       "    </tr>\n",
       "  </thead>\n",
       "  <tbody>\n",
       "    <tr>\n",
       "      <th>0</th>\n",
       "      <td>volatile char u2_rx_buf[UART2_RX_BUFFERSIZE-32];</td>\n",
       "      <td>1</td>\n",
       "    </tr>\n",
       "    <tr>\n",
       "      <th>1</th>\n",
       "      <td>static char telneticon_textmap[9] = {</td>\n",
       "      <td>1</td>\n",
       "    </tr>\n",
       "    <tr>\n",
       "      <th>2</th>\n",
       "      <td>const char http_http[8] =</td>\n",
       "      <td>1</td>\n",
       "    </tr>\n",
       "    <tr>\n",
       "      <th>3</th>\n",
       "      <td>const char http_https[9] =</td>\n",
       "      <td>1</td>\n",
       "    </tr>\n",
       "    <tr>\n",
       "      <th>4</th>\n",
       "      <td>const char http_200[5] =</td>\n",
       "      <td>1</td>\n",
       "    </tr>\n",
       "    <tr>\n",
       "      <th>...</th>\n",
       "      <td>...</td>\n",
       "      <td>...</td>\n",
       "    </tr>\n",
       "    <tr>\n",
       "      <th>32884</th>\n",
       "      <td>if(relation_attribute_add(rel, DB_STORAGE, att...</td>\n",
       "      <td>0</td>\n",
       "    </tr>\n",
       "    <tr>\n",
       "      <th>32885</th>\n",
       "      <td>case AQL_TYPE_REMOVE_INDEX:</td>\n",
       "      <td>0</td>\n",
       "    </tr>\n",
       "    <tr>\n",
       "      <th>32886</th>\n",
       "      <td>relation's attributes. */</td>\n",
       "      <td>0</td>\n",
       "    </tr>\n",
       "    <tr>\n",
       "      <th>32887</th>\n",
       "      <td>result = DB_OK;</td>\n",
       "      <td>0</td>\n",
       "    </tr>\n",
       "    <tr>\n",
       "      <th>32888</th>\n",
       "      <td>if((ev == PROCESS_EVENT_TIMER &amp;&amp; data == &amp;publ...</td>\n",
       "      <td>0</td>\n",
       "    </tr>\n",
       "  </tbody>\n",
       "</table>\n",
       "<p>32889 rows × 2 columns</p>\n",
       "</div>"
      ],
      "text/plain": [
       "                                                    code  isMalicious\n",
       "0       volatile char u2_rx_buf[UART2_RX_BUFFERSIZE-32];            1\n",
       "1                  static char telneticon_textmap[9] = {            1\n",
       "2                              const char http_http[8] =            1\n",
       "3                             const char http_https[9] =            1\n",
       "4                               const char http_200[5] =            1\n",
       "...                                                  ...          ...\n",
       "32884  if(relation_attribute_add(rel, DB_STORAGE, att...            0\n",
       "32885                        case AQL_TYPE_REMOVE_INDEX:            0\n",
       "32886                          relation's attributes. */            0\n",
       "32887                                    result = DB_OK;            0\n",
       "32888  if((ev == PROCESS_EVENT_TIMER && data == &publ...            0\n",
       "\n",
       "[32889 rows x 2 columns]"
      ]
     },
     "execution_count": 27,
     "metadata": {},
     "output_type": "execute_result"
    }
   ],
   "source": [
    "df_conti\n"
   ]
  },
  {
   "cell_type": "code",
   "execution_count": 7,
   "metadata": {},
   "outputs": [],
   "source": [
    "dfcon = dfcon.rename(columns={'context': 'code'})\n",
    "dfcon.to_csv('../data/contiki-master_Binary.csv', index=False)"
   ]
  },
  {
   "cell_type": "code",
   "execution_count": 8,
   "metadata": {},
   "outputs": [
    {
     "name": "stdout",
     "output_type": "stream",
     "text": [
      "\\begin{table}\n",
      "\\centering\n",
      "\\caption{Hyperparameter Settings}\n",
      "\\label{Hyperparameter Settings}\n",
      "\\begin{tabular}{ll}\n",
      "\\toprule\n",
      "hyperparameter &                           value \\\\\n",
      "\\midrule\n",
      "        epochs &                              50 \\\\\n",
      "         batch &                             128 \\\\\n",
      "  input\\_length &                             150 \\\\\n",
      "     input\\_dim &                             150 \\\\\n",
      "    output\\_dim &                              32 \\\\\n",
      "            lr &                            1e-4 \\\\\n",
      "      patience &                             100 \\\\\n",
      "     optimizer &                            adam \\\\\n",
      "        l2\\_reg &                            1e-4 \\\\\n",
      "       dropout &                             0.0 \\\\\n",
      " recur\\_dropout &                             0.0 \\\\\n",
      "        beta\\_1 &                             0.9 \\\\\n",
      "        beta\\_2 &                           0.999 \\\\\n",
      "       epsilon &                           1e-08 \\\\\n",
      "         decay &                             0.0 \\\\\n",
      "       verbose &                               2 \\\\\n",
      "          loss & sparse\\_categorical\\_crossentropy \\\\\n",
      "\\bottomrule\n",
      "\\end{tabular}\n",
      "\\end{table}\n",
      "\n"
     ]
    }
   ],
   "source": [
    "from argparse import ArgumentParser\n",
    "from configparser import ConfigParser\n",
    "import yaml\n",
    "import pandas as pd\n",
    "from pathlib import Path\n",
    "\n",
    "def hyperpara2latex(yaml_file):\n",
    "    \"\"\"\n",
    "    load the yaml file and return a dictionary\n",
    "    \"\"\"\n",
    "    config = {}\n",
    "    cols = ['hyperparameter', 'value']\n",
    "    \n",
    "    ext = Path(yaml_file).suffix.replace('.', '') \n",
    "    \n",
    "    \n",
    "    with open(yaml_file, \"r\") as stream:\n",
    "        try:\n",
    "            config = yaml.safe_load(stream)\n",
    "            df = pd.DataFrame([config['dnn']]).T.reset_index()\n",
    "            print(df.to_latex(index=False, \n",
    "                    header=cols, \n",
    "                    #   column_format='|l|l|', \n",
    "                    label='Hyperparameter Settings', \n",
    "                    caption='Hyperparameter Settings'))\n",
    "        except yaml.YAMLError as exc:\n",
    "            print(exc)\n",
    "\n",
    "config = hyperpara2latex('../config.yaml')"
   ]
  }
 ],
 "metadata": {
  "kernelspec": {
   "display_name": "vulcode",
   "language": "python",
   "name": "python3"
  },
  "language_info": {
   "codemirror_mode": {
    "name": "ipython",
    "version": 3
   },
   "file_extension": ".py",
   "mimetype": "text/x-python",
   "name": "python",
   "nbconvert_exporter": "python",
   "pygments_lexer": "ipython3",
   "version": "3.8.0"
  },
  "orig_nbformat": 4,
  "vscode": {
   "interpreter": {
    "hash": "770d70f40277e0fadd6bc1f7a5fecfd799eee3cbb57c500ccfb48eb07fd2c1ce"
   }
  }
 },
 "nbformat": 4,
 "nbformat_minor": 2
}
