{
 "cells": [
  {
   "attachments": {},
   "cell_type": "markdown",
   "metadata": {},
   "source": [
    "# Statistics on the output data. "
   ]
  },
  {
   "cell_type": "code",
   "execution_count": 12,
   "metadata": {},
   "outputs": [
    {
     "data": {
      "text/plain": [
       "Index(['file', 'line', 'column', 'defaultlevel', 'level', 'category', 'name',\n",
       "       'msg', 'cwe', 'context', 'helpuri', 'tool', 'severity', 'note', 'type',\n",
       "       'project'],\n",
       "      dtype='object')"
      ]
     },
     "execution_count": 12,
     "metadata": {},
     "output_type": "execute_result"
    }
   ],
   "source": [
    "import pandas as pd\n",
    "import matplotlib.pyplot as plt\n",
    "import seaborn as sns\n",
    "import plotly.express as px\n",
    "import lizard\n",
    "import subprocess as sub\n",
    "from pylibsrcml import srcml\n",
    "import os\n",
    "import re \n",
    "import xml.etree.ElementTree as et \n",
    "import warnings\n",
    "from sqlite3 import connect\n",
    "from argparse import ArgumentParser\n",
    "from configparser import ConfigParser\n",
    "import yaml\n",
    "from pathlib import Path\n",
    "import random\n",
    "\n",
    "warnings.filterwarnings(\"ignore\")\n",
    "\n",
    "\n",
    "database = '../data/IoTcode_contiki_rasp.db'\n",
    "conn= connect(database)\n",
    "\n",
    "dfp = pd.read_sql_query(\"SELECT * FROM project\", con=conn)\n",
    "dfs = pd.read_sql_query(\"SELECT * FROM statement\", con=conn)\n",
    "dff = pd.read_sql_query(\"SELECT * FROM function\", con=conn)\n",
    "\n",
    "if not os.path.exists(\"figure\"):\n",
    "    os.mkdir(\"figure\")\n",
    "dfs.columns"
   ]
  },
  {
   "cell_type": "code",
   "execution_count": 14,
   "metadata": {},
   "outputs": [
    {
     "data": {
      "text/plain": [
       "Benign              960762\n",
       "CWE-unknown          30702\n",
       "CWE-120              15569\n",
       "CWE-119!/CWE-120      9658\n",
       "CWE-126               2383\n",
       "CWE-190               2243\n",
       "CWE-457               1859\n",
       "CWE-120, CWE-20       1787\n",
       "CWE-362                887\n",
       "CWE-134                768\n",
       "CWE-362/CWE-367!       626\n",
       "CWE-562                378\n",
       "CWE-327                330\n",
       "CWE-570                320\n",
       "CWE-78                 307\n",
       "CWE-676                160\n",
       "CWE-476                113\n",
       "CWE-682                107\n",
       "CWE-758                 91\n",
       "CWE-732                 59\n",
       "CWE-788                 49\n",
       "CWE-685                 42\n",
       "CWE-807, CWE-20         37\n",
       "CWE-786                 35\n",
       "CWE-377                 34\n",
       "CWE-362, CWE-20         24\n",
       "CWE-120/CWE-785!        11\n",
       "CWE-775                  6\n",
       "CWE-401                  6\n",
       "CWE-369                  6\n",
       "CWE-829, CWE-20          4\n",
       "CWE-768                  3\n",
       "CWE-250, CWE-22          1\n",
       "Name: cwe, dtype: int64"
      ]
     },
     "execution_count": 14,
     "metadata": {},
     "output_type": "execute_result"
    }
   ],
   "source": [
    "dfs.cwe.value_counts()"
   ]
  },
  {
   "cell_type": "code",
   "execution_count": 16,
   "metadata": {},
   "outputs": [
    {
     "data": {
      "application/vnd.plotly.v1+json": {
       "config": {
        "plotlyServerURL": "https://plot.ly"
       },
       "data": [
        {
         "branchvalues": "total",
         "domain": {
          "x": [
           0,
           1
          ],
          "y": [
           0,
           1
          ]
         },
         "hovertemplate": "labels=%{label}<br>count=%{value}<br>parent=%{parent}<br>id=%{id}<extra></extra>",
         "ids": [
          "buffer/char/CWE-119!/CWE-120",
          "buffer/wchar_t/CWE-119!/CWE-120",
          "buffer/CopyMemory/CWE-120",
          "buffer/bcopy/CWE-120",
          "buffer/fscanf/CWE-120",
          "buffer/memcpy/CWE-120",
          "buffer/sprintf/CWE-120",
          "buffer/sscanf/CWE-120",
          "buffer/strcat/CWE-120",
          "buffer/strcpy/CWE-120",
          "buffer/strncat/CWE-120",
          "buffer/strncpy/CWE-120",
          "buffer/vsprintf/CWE-120",
          "buffer/fgetc/CWE-120, CWE-20",
          "buffer/fscanf/CWE-120, CWE-20",
          "buffer/getc/CWE-120, CWE-20",
          "buffer/getchar/CWE-120, CWE-20",
          "buffer/getopt/CWE-120, CWE-20",
          "buffer/getopt_long/CWE-120, CWE-20",
          "buffer/gets/CWE-120, CWE-20",
          "buffer/read/CWE-120, CWE-20",
          "buffer/scanf/CWE-120, CWE-20",
          "buffer/sscanf/CWE-120, CWE-20",
          "buffer/vsscanf/CWE-120, CWE-20",
          "buffer/realpath/CWE-120/CWE-785!",
          "buffer/equal/CWE-126",
          "buffer/mismatch/CWE-126",
          "buffer/strlen/CWE-126",
          "format/_snprintf/CWE-134",
          "format/fprintf/CWE-134",
          "format/printf/CWE-134",
          "format/snprintf/CWE-134",
          "format/sprintf/CWE-134",
          "format/syslog/CWE-134",
          "format/vfprintf/CWE-134",
          "format/vprintf/CWE-134",
          "format/vsnprintf/CWE-134",
          "format/vsprintf/CWE-134",
          "integer/atoi/CWE-190",
          "integer/atol/CWE-190",
          "-/integerOverflow/CWE-190",
          "misc/chroot/CWE-250, CWE-22",
          "crypto/crypt/CWE-327",
          "random/random/CWE-327",
          "random/setstate/CWE-327",
          "random/srand/CWE-327",
          "random/srandom/CWE-327",
          "race/chmod/CWE-362",
          "race/chown/CWE-362",
          "misc/fopen/CWE-362",
          "misc/open/CWE-362",
          "race/vfork/CWE-362",
          "race/readlink/CWE-362, CWE-20",
          "race/access/CWE-362/CWE-367!",
          "-/zerodiv/CWE-369",
          "tmpfile/mkstemp/CWE-377",
          "tmpfile/tmpfile/CWE-377",
          "-/memleak/CWE-401",
          "-/memleakOnRealloc/CWE-401",
          "-/ctuuninitvar/CWE-457",
          "-/legacyUninitvar/CWE-457",
          "-/uninitStructMember/CWE-457",
          "-/uninitdata/CWE-457",
          "-/uninitvar/CWE-457",
          "-/ctunullpointer/CWE-476",
          "-/nullPointer/CWE-476",
          "-/autoVariables/CWE-562",
          "-/danglingTemporaryLifetime/CWE-562",
          "-/invalidLifetime/CWE-562",
          "-/returnDanglingLifetime/CWE-562",
          "-/comparePointers/CWE-570",
          "free/memalign/CWE-676",
          "obsolete/ulimit/CWE-676",
          "obsolete/usleep/CWE-676",
          "-/nullPointerArithmetic/CWE-682",
          "-/wrongPrintfScanfArgNum/CWE-685",
          "access/umask/CWE-732",
          "-/missingReturn/CWE-758",
          "-/objectIndex/CWE-758",
          "-/shiftTooManyBits/CWE-758",
          "-/unknownEvaluationOrder/CWE-768",
          "-/resourceLeak/CWE-775",
          "shell/execl/CWE-78",
          "shell/execle/CWE-78",
          "shell/execlp/CWE-78",
          "shell/execv/CWE-78",
          "shell/execvp/CWE-78",
          "shell/popen/CWE-78",
          "shell/system/CWE-78",
          "-/ctuArrayIndex/CWE-786",
          "-/negativeIndex/CWE-786",
          "-/arrayIndexOutOfBounds/CWE-788",
          "-/bufferAccessOutOfBounds/CWE-788",
          "buffer/getenv/CWE-807, CWE-20",
          "misc/LoadLibrary/CWE-829, CWE-20",
          "-/-/CWE-unknown",
          "CopyMemory/-/CWE-unknown",
          "ERR_error_string/-/CWE-unknown",
          "LoadLibrary/-/CWE-unknown",
          "Static Global Buffer/-/CWE-unknown",
          "WideCharToMultiByte/-/CWE-unknown",
          "X509_NAME_oneline/-/CWE-unknown",
          "access/-/CWE-unknown",
          "bcopy/-/CWE-unknown",
          "crypt/-/CWE-unknown",
          "fgetc/-/CWE-unknown",
          "fgets/-/CWE-unknown",
          "fixed size global buffer/-/CWE-unknown",
          "fixed size local buffer/-/CWE-unknown",
          "fork/-/CWE-unknown",
          "fprintf/-/CWE-unknown",
          "fscanf/-/CWE-unknown",
          "getc/-/CWE-unknown",
          "getchar/-/CWE-unknown",
          "getenv/-/CWE-unknown",
          "getopt/-/CWE-unknown",
          "getopt_long/-/CWE-unknown",
          "gets/-/CWE-unknown",
          "gettext/-/CWE-unknown",
          "lstat/-/CWE-unknown",
          "memcpy/-/CWE-unknown",
          "popen/-/CWE-unknown",
          "printf/-/CWE-unknown",
          "random/-/CWE-unknown",
          "read/-/CWE-unknown",
          "realloc/-/CWE-unknown",
          "realpath/-/CWE-unknown",
          "scanf/-/CWE-unknown",
          "setstate/-/CWE-unknown",
          "signal/-/CWE-unknown",
          "snprintf/-/CWE-unknown",
          "sprintf/-/CWE-unknown",
          "srand/-/CWE-unknown",
          "srandom/-/CWE-unknown",
          "sscanf/-/CWE-unknown",
          "stat/-/CWE-unknown",
          "strlcat/-/CWE-unknown",
          "strlcpy/-/CWE-unknown",
          "strlen/-/CWE-unknown",
          "strncat/-/CWE-unknown",
          "strncpy/-/CWE-unknown",
          "syslog/-/CWE-unknown",
          "system/-/CWE-unknown",
          "tmpfile/-/CWE-unknown",
          "umask/-/CWE-unknown",
          "vfork/-/CWE-unknown",
          "vfprintf/-/CWE-unknown",
          "vprintf/-/CWE-unknown",
          "vsprintf/-/CWE-unknown",
          "vsscanf/-/CWE-unknown",
          "-/internalAstError/CWE-unknown",
          "-/overlappingWriteFunction/CWE-unknown",
          "-/overlappingWriteUnion/CWE-unknown",
          "-/preprocessorErrorDirective/CWE-unknown",
          "-/syntaxError/CWE-unknown",
          "-/unknownMacro/CWE-unknown",
          "-/-",
          "CopyMemory/-",
          "ERR_error_string/-",
          "LoadLibrary/-",
          "Static Global Buffer/-",
          "WideCharToMultiByte/-",
          "X509_NAME_oneline/-",
          "access/-",
          "bcopy/-",
          "crypt/-",
          "fgetc/-",
          "fgets/-",
          "fixed size global buffer/-",
          "fixed size local buffer/-",
          "fork/-",
          "fprintf/-",
          "fscanf/-",
          "getc/-",
          "getchar/-",
          "getenv/-",
          "getopt/-",
          "getopt_long/-",
          "gets/-",
          "gettext/-",
          "lstat/-",
          "memcpy/-",
          "popen/-",
          "printf/-",
          "random/-",
          "read/-",
          "realloc/-",
          "realpath/-",
          "scanf/-",
          "setstate/-",
          "signal/-",
          "snprintf/-",
          "sprintf/-",
          "srand/-",
          "srandom/-",
          "sscanf/-",
          "stat/-",
          "strlcat/-",
          "strlcpy/-",
          "strlen/-",
          "strncat/-",
          "strncpy/-",
          "syslog/-",
          "system/-",
          "tmpfile/-",
          "umask/-",
          "vfork/-",
          "vfprintf/-",
          "vprintf/-",
          "vsprintf/-",
          "vsscanf/-",
          "buffer/CopyMemory",
          "misc/LoadLibrary",
          "format/_snprintf",
          "race/access",
          "-/arrayIndexOutOfBounds",
          "integer/atoi",
          "integer/atol",
          "-/autoVariables",
          "buffer/bcopy",
          "-/bufferAccessOutOfBounds",
          "buffer/char",
          "race/chmod",
          "race/chown",
          "misc/chroot",
          "-/comparePointers",
          "crypto/crypt",
          "-/ctuArrayIndex",
          "-/ctunullpointer",
          "-/ctuuninitvar",
          "-/danglingTemporaryLifetime",
          "buffer/equal",
          "shell/execl",
          "shell/execle",
          "shell/execlp",
          "shell/execv",
          "shell/execvp",
          "buffer/fgetc",
          "misc/fopen",
          "format/fprintf",
          "buffer/fscanf",
          "buffer/getc",
          "buffer/getchar",
          "buffer/getenv",
          "buffer/getopt",
          "buffer/getopt_long",
          "buffer/gets",
          "-/integerOverflow",
          "-/internalAstError",
          "-/invalidLifetime",
          "-/legacyUninitvar",
          "free/memalign",
          "buffer/memcpy",
          "-/memleak",
          "-/memleakOnRealloc",
          "buffer/mismatch",
          "-/missingReturn",
          "tmpfile/mkstemp",
          "-/negativeIndex",
          "-/nullPointer",
          "-/nullPointerArithmetic",
          "-/objectIndex",
          "misc/open",
          "-/overlappingWriteFunction",
          "-/overlappingWriteUnion",
          "shell/popen",
          "-/preprocessorErrorDirective",
          "format/printf",
          "random/random",
          "buffer/read",
          "race/readlink",
          "buffer/realpath",
          "-/resourceLeak",
          "-/returnDanglingLifetime",
          "buffer/scanf",
          "random/setstate",
          "-/shiftTooManyBits",
          "format/snprintf",
          "buffer/sprintf",
          "format/sprintf",
          "random/srand",
          "random/srandom",
          "buffer/sscanf",
          "buffer/strcat",
          "buffer/strcpy",
          "buffer/strlen",
          "buffer/strncat",
          "buffer/strncpy",
          "-/syntaxError",
          "format/syslog",
          "shell/system",
          "tmpfile/tmpfile",
          "obsolete/ulimit",
          "access/umask",
          "-/uninitStructMember",
          "-/uninitdata",
          "-/uninitvar",
          "-/unknownEvaluationOrder",
          "-/unknownMacro",
          "obsolete/usleep",
          "race/vfork",
          "format/vfprintf",
          "format/vprintf",
          "format/vsnprintf",
          "buffer/vsprintf",
          "format/vsprintf",
          "buffer/vsscanf",
          "buffer/wchar_t",
          "-/wrongPrintfScanfArgNum",
          "-/zerodiv",
          "-",
          "CopyMemory",
          "ERR_error_string",
          "LoadLibrary",
          "Static Global Buffer",
          "WideCharToMultiByte",
          "X509_NAME_oneline",
          "access",
          "bcopy",
          "buffer",
          "crypt",
          "crypto",
          "fgetc",
          "fgets",
          "fixed size global buffer",
          "fixed size local buffer",
          "fork",
          "format",
          "fprintf",
          "free",
          "fscanf",
          "getc",
          "getchar",
          "getenv",
          "getopt",
          "getopt_long",
          "gets",
          "gettext",
          "integer",
          "lstat",
          "memcpy",
          "misc",
          "obsolete",
          "popen",
          "printf",
          "race",
          "random",
          "read",
          "realloc",
          "realpath",
          "scanf",
          "setstate",
          "shell",
          "signal",
          "snprintf",
          "sprintf",
          "srand",
          "srandom",
          "sscanf",
          "stat",
          "strlcat",
          "strlcpy",
          "strlen",
          "strncat",
          "strncpy",
          "syslog",
          "system",
          "tmpfile",
          "umask",
          "vfork",
          "vfprintf",
          "vprintf",
          "vsprintf",
          "vsscanf"
         ],
         "labels": [
          "CWE-119!/CWE-120",
          "CWE-119!/CWE-120",
          "CWE-120",
          "CWE-120",
          "CWE-120",
          "CWE-120",
          "CWE-120",
          "CWE-120",
          "CWE-120",
          "CWE-120",
          "CWE-120",
          "CWE-120",
          "CWE-120",
          "CWE-120, CWE-20",
          "CWE-120, CWE-20",
          "CWE-120, CWE-20",
          "CWE-120, CWE-20",
          "CWE-120, CWE-20",
          "CWE-120, CWE-20",
          "CWE-120, CWE-20",
          "CWE-120, CWE-20",
          "CWE-120, CWE-20",
          "CWE-120, CWE-20",
          "CWE-120, CWE-20",
          "CWE-120/CWE-785!",
          "CWE-126",
          "CWE-126",
          "CWE-126",
          "CWE-134",
          "CWE-134",
          "CWE-134",
          "CWE-134",
          "CWE-134",
          "CWE-134",
          "CWE-134",
          "CWE-134",
          "CWE-134",
          "CWE-134",
          "CWE-190",
          "CWE-190",
          "CWE-190",
          "CWE-250, CWE-22",
          "CWE-327",
          "CWE-327",
          "CWE-327",
          "CWE-327",
          "CWE-327",
          "CWE-362",
          "CWE-362",
          "CWE-362",
          "CWE-362",
          "CWE-362",
          "CWE-362, CWE-20",
          "CWE-362/CWE-367!",
          "CWE-369",
          "CWE-377",
          "CWE-377",
          "CWE-401",
          "CWE-401",
          "CWE-457",
          "CWE-457",
          "CWE-457",
          "CWE-457",
          "CWE-457",
          "CWE-476",
          "CWE-476",
          "CWE-562",
          "CWE-562",
          "CWE-562",
          "CWE-562",
          "CWE-570",
          "CWE-676",
          "CWE-676",
          "CWE-676",
          "CWE-682",
          "CWE-685",
          "CWE-732",
          "CWE-758",
          "CWE-758",
          "CWE-758",
          "CWE-768",
          "CWE-775",
          "CWE-78",
          "CWE-78",
          "CWE-78",
          "CWE-78",
          "CWE-78",
          "CWE-78",
          "CWE-78",
          "CWE-786",
          "CWE-786",
          "CWE-788",
          "CWE-788",
          "CWE-807, CWE-20",
          "CWE-829, CWE-20",
          "CWE-unknown",
          "CWE-unknown",
          "CWE-unknown",
          "CWE-unknown",
          "CWE-unknown",
          "CWE-unknown",
          "CWE-unknown",
          "CWE-unknown",
          "CWE-unknown",
          "CWE-unknown",
          "CWE-unknown",
          "CWE-unknown",
          "CWE-unknown",
          "CWE-unknown",
          "CWE-unknown",
          "CWE-unknown",
          "CWE-unknown",
          "CWE-unknown",
          "CWE-unknown",
          "CWE-unknown",
          "CWE-unknown",
          "CWE-unknown",
          "CWE-unknown",
          "CWE-unknown",
          "CWE-unknown",
          "CWE-unknown",
          "CWE-unknown",
          "CWE-unknown",
          "CWE-unknown",
          "CWE-unknown",
          "CWE-unknown",
          "CWE-unknown",
          "CWE-unknown",
          "CWE-unknown",
          "CWE-unknown",
          "CWE-unknown",
          "CWE-unknown",
          "CWE-unknown",
          "CWE-unknown",
          "CWE-unknown",
          "CWE-unknown",
          "CWE-unknown",
          "CWE-unknown",
          "CWE-unknown",
          "CWE-unknown",
          "CWE-unknown",
          "CWE-unknown",
          "CWE-unknown",
          "CWE-unknown",
          "CWE-unknown",
          "CWE-unknown",
          "CWE-unknown",
          "CWE-unknown",
          "CWE-unknown",
          "CWE-unknown",
          "CWE-unknown",
          "CWE-unknown",
          "CWE-unknown",
          "CWE-unknown",
          "CWE-unknown",
          "CWE-unknown",
          "-",
          "-",
          "-",
          "-",
          "-",
          "-",
          "-",
          "-",
          "-",
          "-",
          "-",
          "-",
          "-",
          "-",
          "-",
          "-",
          "-",
          "-",
          "-",
          "-",
          "-",
          "-",
          "-",
          "-",
          "-",
          "-",
          "-",
          "-",
          "-",
          "-",
          "-",
          "-",
          "-",
          "-",
          "-",
          "-",
          "-",
          "-",
          "-",
          "-",
          "-",
          "-",
          "-",
          "-",
          "-",
          "-",
          "-",
          "-",
          "-",
          "-",
          "-",
          "-",
          "-",
          "-",
          "-",
          "CopyMemory",
          "LoadLibrary",
          "_snprintf",
          "access",
          "arrayIndexOutOfBounds",
          "atoi",
          "atol",
          "autoVariables",
          "bcopy",
          "bufferAccessOutOfBounds",
          "char",
          "chmod",
          "chown",
          "chroot",
          "comparePointers",
          "crypt",
          "ctuArrayIndex",
          "ctunullpointer",
          "ctuuninitvar",
          "danglingTemporaryLifetime",
          "equal",
          "execl",
          "execle",
          "execlp",
          "execv",
          "execvp",
          "fgetc",
          "fopen",
          "fprintf",
          "fscanf",
          "getc",
          "getchar",
          "getenv",
          "getopt",
          "getopt_long",
          "gets",
          "integerOverflow",
          "internalAstError",
          "invalidLifetime",
          "legacyUninitvar",
          "memalign",
          "memcpy",
          "memleak",
          "memleakOnRealloc",
          "mismatch",
          "missingReturn",
          "mkstemp",
          "negativeIndex",
          "nullPointer",
          "nullPointerArithmetic",
          "objectIndex",
          "open",
          "overlappingWriteFunction",
          "overlappingWriteUnion",
          "popen",
          "preprocessorErrorDirective",
          "printf",
          "random",
          "read",
          "readlink",
          "realpath",
          "resourceLeak",
          "returnDanglingLifetime",
          "scanf",
          "setstate",
          "shiftTooManyBits",
          "snprintf",
          "sprintf",
          "sprintf",
          "srand",
          "srandom",
          "sscanf",
          "strcat",
          "strcpy",
          "strlen",
          "strncat",
          "strncpy",
          "syntaxError",
          "syslog",
          "system",
          "tmpfile",
          "ulimit",
          "umask",
          "uninitStructMember",
          "uninitdata",
          "uninitvar",
          "unknownEvaluationOrder",
          "unknownMacro",
          "usleep",
          "vfork",
          "vfprintf",
          "vprintf",
          "vsnprintf",
          "vsprintf",
          "vsprintf",
          "vsscanf",
          "wchar_t",
          "wrongPrintfScanfArgNum",
          "zerodiv",
          "-",
          "CopyMemory",
          "ERR_error_string",
          "LoadLibrary",
          "Static Global Buffer",
          "WideCharToMultiByte",
          "X509_NAME_oneline",
          "access",
          "bcopy",
          "buffer",
          "crypt",
          "crypto",
          "fgetc",
          "fgets",
          "fixed size global buffer",
          "fixed size local buffer",
          "fork",
          "format",
          "fprintf",
          "free",
          "fscanf",
          "getc",
          "getchar",
          "getenv",
          "getopt",
          "getopt_long",
          "gets",
          "gettext",
          "integer",
          "lstat",
          "memcpy",
          "misc",
          "obsolete",
          "popen",
          "printf",
          "race",
          "random",
          "read",
          "realloc",
          "realpath",
          "scanf",
          "setstate",
          "shell",
          "signal",
          "snprintf",
          "sprintf",
          "srand",
          "srandom",
          "sscanf",
          "stat",
          "strlcat",
          "strlcpy",
          "strlen",
          "strncat",
          "strncpy",
          "syslog",
          "system",
          "tmpfile",
          "umask",
          "vfork",
          "vfprintf",
          "vprintf",
          "vsprintf",
          "vsscanf"
         ],
         "name": "",
         "parents": [
          "buffer/char",
          "buffer/wchar_t",
          "buffer/CopyMemory",
          "buffer/bcopy",
          "buffer/fscanf",
          "buffer/memcpy",
          "buffer/sprintf",
          "buffer/sscanf",
          "buffer/strcat",
          "buffer/strcpy",
          "buffer/strncat",
          "buffer/strncpy",
          "buffer/vsprintf",
          "buffer/fgetc",
          "buffer/fscanf",
          "buffer/getc",
          "buffer/getchar",
          "buffer/getopt",
          "buffer/getopt_long",
          "buffer/gets",
          "buffer/read",
          "buffer/scanf",
          "buffer/sscanf",
          "buffer/vsscanf",
          "buffer/realpath",
          "buffer/equal",
          "buffer/mismatch",
          "buffer/strlen",
          "format/_snprintf",
          "format/fprintf",
          "format/printf",
          "format/snprintf",
          "format/sprintf",
          "format/syslog",
          "format/vfprintf",
          "format/vprintf",
          "format/vsnprintf",
          "format/vsprintf",
          "integer/atoi",
          "integer/atol",
          "-/integerOverflow",
          "misc/chroot",
          "crypto/crypt",
          "random/random",
          "random/setstate",
          "random/srand",
          "random/srandom",
          "race/chmod",
          "race/chown",
          "misc/fopen",
          "misc/open",
          "race/vfork",
          "race/readlink",
          "race/access",
          "-/zerodiv",
          "tmpfile/mkstemp",
          "tmpfile/tmpfile",
          "-/memleak",
          "-/memleakOnRealloc",
          "-/ctuuninitvar",
          "-/legacyUninitvar",
          "-/uninitStructMember",
          "-/uninitdata",
          "-/uninitvar",
          "-/ctunullpointer",
          "-/nullPointer",
          "-/autoVariables",
          "-/danglingTemporaryLifetime",
          "-/invalidLifetime",
          "-/returnDanglingLifetime",
          "-/comparePointers",
          "free/memalign",
          "obsolete/ulimit",
          "obsolete/usleep",
          "-/nullPointerArithmetic",
          "-/wrongPrintfScanfArgNum",
          "access/umask",
          "-/missingReturn",
          "-/objectIndex",
          "-/shiftTooManyBits",
          "-/unknownEvaluationOrder",
          "-/resourceLeak",
          "shell/execl",
          "shell/execle",
          "shell/execlp",
          "shell/execv",
          "shell/execvp",
          "shell/popen",
          "shell/system",
          "-/ctuArrayIndex",
          "-/negativeIndex",
          "-/arrayIndexOutOfBounds",
          "-/bufferAccessOutOfBounds",
          "buffer/getenv",
          "misc/LoadLibrary",
          "-/-",
          "CopyMemory/-",
          "ERR_error_string/-",
          "LoadLibrary/-",
          "Static Global Buffer/-",
          "WideCharToMultiByte/-",
          "X509_NAME_oneline/-",
          "access/-",
          "bcopy/-",
          "crypt/-",
          "fgetc/-",
          "fgets/-",
          "fixed size global buffer/-",
          "fixed size local buffer/-",
          "fork/-",
          "fprintf/-",
          "fscanf/-",
          "getc/-",
          "getchar/-",
          "getenv/-",
          "getopt/-",
          "getopt_long/-",
          "gets/-",
          "gettext/-",
          "lstat/-",
          "memcpy/-",
          "popen/-",
          "printf/-",
          "random/-",
          "read/-",
          "realloc/-",
          "realpath/-",
          "scanf/-",
          "setstate/-",
          "signal/-",
          "snprintf/-",
          "sprintf/-",
          "srand/-",
          "srandom/-",
          "sscanf/-",
          "stat/-",
          "strlcat/-",
          "strlcpy/-",
          "strlen/-",
          "strncat/-",
          "strncpy/-",
          "syslog/-",
          "system/-",
          "tmpfile/-",
          "umask/-",
          "vfork/-",
          "vfprintf/-",
          "vprintf/-",
          "vsprintf/-",
          "vsscanf/-",
          "-/internalAstError",
          "-/overlappingWriteFunction",
          "-/overlappingWriteUnion",
          "-/preprocessorErrorDirective",
          "-/syntaxError",
          "-/unknownMacro",
          "-",
          "CopyMemory",
          "ERR_error_string",
          "LoadLibrary",
          "Static Global Buffer",
          "WideCharToMultiByte",
          "X509_NAME_oneline",
          "access",
          "bcopy",
          "crypt",
          "fgetc",
          "fgets",
          "fixed size global buffer",
          "fixed size local buffer",
          "fork",
          "fprintf",
          "fscanf",
          "getc",
          "getchar",
          "getenv",
          "getopt",
          "getopt_long",
          "gets",
          "gettext",
          "lstat",
          "memcpy",
          "popen",
          "printf",
          "random",
          "read",
          "realloc",
          "realpath",
          "scanf",
          "setstate",
          "signal",
          "snprintf",
          "sprintf",
          "srand",
          "srandom",
          "sscanf",
          "stat",
          "strlcat",
          "strlcpy",
          "strlen",
          "strncat",
          "strncpy",
          "syslog",
          "system",
          "tmpfile",
          "umask",
          "vfork",
          "vfprintf",
          "vprintf",
          "vsprintf",
          "vsscanf",
          "buffer",
          "misc",
          "format",
          "race",
          "-",
          "integer",
          "integer",
          "-",
          "buffer",
          "-",
          "buffer",
          "race",
          "race",
          "misc",
          "-",
          "crypto",
          "-",
          "-",
          "-",
          "-",
          "buffer",
          "shell",
          "shell",
          "shell",
          "shell",
          "shell",
          "buffer",
          "misc",
          "format",
          "buffer",
          "buffer",
          "buffer",
          "buffer",
          "buffer",
          "buffer",
          "buffer",
          "-",
          "-",
          "-",
          "-",
          "free",
          "buffer",
          "-",
          "-",
          "buffer",
          "-",
          "tmpfile",
          "-",
          "-",
          "-",
          "-",
          "misc",
          "-",
          "-",
          "shell",
          "-",
          "format",
          "random",
          "buffer",
          "race",
          "buffer",
          "-",
          "-",
          "buffer",
          "random",
          "-",
          "format",
          "buffer",
          "format",
          "random",
          "random",
          "buffer",
          "buffer",
          "buffer",
          "buffer",
          "buffer",
          "buffer",
          "-",
          "format",
          "shell",
          "tmpfile",
          "obsolete",
          "access",
          "-",
          "-",
          "-",
          "-",
          "-",
          "obsolete",
          "race",
          "format",
          "format",
          "format",
          "buffer",
          "format",
          "buffer",
          "buffer",
          "-",
          "-",
          "",
          "",
          "",
          "",
          "",
          "",
          "",
          "",
          "",
          "",
          "",
          "",
          "",
          "",
          "",
          "",
          "",
          "",
          "",
          "",
          "",
          "",
          "",
          "",
          "",
          "",
          "",
          "",
          "",
          "",
          "",
          "",
          "",
          "",
          "",
          "",
          "",
          "",
          "",
          "",
          "",
          "",
          "",
          "",
          "",
          "",
          "",
          "",
          "",
          "",
          "",
          "",
          "",
          "",
          "",
          "",
          "",
          "",
          "",
          "",
          "",
          "",
          "",
          ""
         ],
         "type": "sunburst",
         "values": [
          9502,
          156,
          2,
          1,
          3,
          10655,
          3296,
          15,
          199,
          965,
          27,
          405,
          1,
          16,
          8,
          9,
          6,
          71,
          32,
          2,
          1594,
          2,
          41,
          6,
          11,
          22,
          63,
          2298,
          1,
          49,
          214,
          222,
          111,
          27,
          40,
          6,
          86,
          12,
          156,
          20,
          2067,
          1,
          245,
          48,
          3,
          31,
          3,
          8,
          10,
          155,
          712,
          2,
          24,
          626,
          6,
          11,
          23,
          3,
          3,
          59,
          40,
          6,
          4,
          1750,
          33,
          80,
          13,
          339,
          24,
          2,
          320,
          7,
          6,
          147,
          107,
          42,
          59,
          80,
          8,
          3,
          3,
          6,
          6,
          1,
          5,
          3,
          4,
          9,
          279,
          31,
          4,
          36,
          13,
          37,
          4,
          519,
          2,
          2,
          4,
          1552,
          2,
          1,
          37,
          1,
          2,
          15,
          29,
          5290,
          804,
          120,
          62,
          15,
          9,
          6,
          37,
          59,
          32,
          2,
          1,
          2,
          11415,
          2,
          196,
          13,
          626,
          52,
          6,
          2,
          1,
          118,
          3255,
          768,
          29,
          3,
          75,
          47,
          220,
          117,
          2208,
          20,
          394,
          15,
          41,
          1,
          1,
          2,
          40,
          6,
          18,
          8,
          72,
          6,
          1,
          51,
          404,
          1864,
          519,
          2,
          2,
          4,
          1552,
          2,
          1,
          37,
          1,
          2,
          15,
          29,
          5290,
          804,
          120,
          62,
          15,
          9,
          6,
          37,
          59,
          32,
          2,
          1,
          2,
          11415,
          2,
          196,
          13,
          626,
          52,
          6,
          2,
          1,
          118,
          3255,
          768,
          29,
          3,
          75,
          47,
          220,
          117,
          2208,
          20,
          394,
          15,
          41,
          1,
          1,
          2,
          40,
          6,
          18,
          8,
          2,
          4,
          1,
          626,
          36,
          156,
          20,
          13,
          1,
          13,
          9502,
          8,
          10,
          1,
          320,
          245,
          31,
          33,
          59,
          339,
          22,
          6,
          1,
          5,
          3,
          4,
          16,
          155,
          49,
          11,
          9,
          6,
          37,
          71,
          32,
          2,
          2067,
          72,
          24,
          40,
          7,
          10655,
          3,
          3,
          63,
          80,
          11,
          4,
          80,
          107,
          8,
          712,
          6,
          1,
          9,
          51,
          214,
          48,
          1594,
          24,
          11,
          6,
          2,
          2,
          3,
          3,
          222,
          3296,
          111,
          31,
          3,
          56,
          199,
          965,
          2298,
          27,
          405,
          404,
          27,
          279,
          23,
          6,
          59,
          6,
          4,
          1750,
          3,
          1864,
          147,
          2,
          40,
          6,
          86,
          1,
          12,
          6,
          156,
          42,
          6,
          7999,
          2,
          2,
          4,
          1552,
          2,
          1,
          96,
          1,
          29445,
          2,
          245,
          15,
          29,
          5290,
          804,
          120,
          768,
          62,
          7,
          15,
          9,
          6,
          37,
          59,
          32,
          2,
          1,
          176,
          2,
          11415,
          872,
          153,
          2,
          196,
          670,
          98,
          626,
          52,
          6,
          2,
          1,
          307,
          118,
          3255,
          768,
          29,
          3,
          75,
          47,
          220,
          117,
          2208,
          20,
          394,
          15,
          41,
          35,
          1,
          2,
          40,
          6,
          18,
          8
         ]
        }
       ],
       "layout": {
        "legend": {
         "tracegroupgap": 0
        },
        "margin": {
         "t": 60
        },
        "template": {
         "data": {
          "bar": [
           {
            "error_x": {
             "color": "#2a3f5f"
            },
            "error_y": {
             "color": "#2a3f5f"
            },
            "marker": {
             "line": {
              "color": "#E5ECF6",
              "width": 0.5
             },
             "pattern": {
              "fillmode": "overlay",
              "size": 10,
              "solidity": 0.2
             }
            },
            "type": "bar"
           }
          ],
          "barpolar": [
           {
            "marker": {
             "line": {
              "color": "#E5ECF6",
              "width": 0.5
             },
             "pattern": {
              "fillmode": "overlay",
              "size": 10,
              "solidity": 0.2
             }
            },
            "type": "barpolar"
           }
          ],
          "carpet": [
           {
            "aaxis": {
             "endlinecolor": "#2a3f5f",
             "gridcolor": "white",
             "linecolor": "white",
             "minorgridcolor": "white",
             "startlinecolor": "#2a3f5f"
            },
            "baxis": {
             "endlinecolor": "#2a3f5f",
             "gridcolor": "white",
             "linecolor": "white",
             "minorgridcolor": "white",
             "startlinecolor": "#2a3f5f"
            },
            "type": "carpet"
           }
          ],
          "choropleth": [
           {
            "colorbar": {
             "outlinewidth": 0,
             "ticks": ""
            },
            "type": "choropleth"
           }
          ],
          "contour": [
           {
            "colorbar": {
             "outlinewidth": 0,
             "ticks": ""
            },
            "colorscale": [
             [
              0,
              "#0d0887"
             ],
             [
              0.1111111111111111,
              "#46039f"
             ],
             [
              0.2222222222222222,
              "#7201a8"
             ],
             [
              0.3333333333333333,
              "#9c179e"
             ],
             [
              0.4444444444444444,
              "#bd3786"
             ],
             [
              0.5555555555555556,
              "#d8576b"
             ],
             [
              0.6666666666666666,
              "#ed7953"
             ],
             [
              0.7777777777777778,
              "#fb9f3a"
             ],
             [
              0.8888888888888888,
              "#fdca26"
             ],
             [
              1,
              "#f0f921"
             ]
            ],
            "type": "contour"
           }
          ],
          "contourcarpet": [
           {
            "colorbar": {
             "outlinewidth": 0,
             "ticks": ""
            },
            "type": "contourcarpet"
           }
          ],
          "heatmap": [
           {
            "colorbar": {
             "outlinewidth": 0,
             "ticks": ""
            },
            "colorscale": [
             [
              0,
              "#0d0887"
             ],
             [
              0.1111111111111111,
              "#46039f"
             ],
             [
              0.2222222222222222,
              "#7201a8"
             ],
             [
              0.3333333333333333,
              "#9c179e"
             ],
             [
              0.4444444444444444,
              "#bd3786"
             ],
             [
              0.5555555555555556,
              "#d8576b"
             ],
             [
              0.6666666666666666,
              "#ed7953"
             ],
             [
              0.7777777777777778,
              "#fb9f3a"
             ],
             [
              0.8888888888888888,
              "#fdca26"
             ],
             [
              1,
              "#f0f921"
             ]
            ],
            "type": "heatmap"
           }
          ],
          "heatmapgl": [
           {
            "colorbar": {
             "outlinewidth": 0,
             "ticks": ""
            },
            "colorscale": [
             [
              0,
              "#0d0887"
             ],
             [
              0.1111111111111111,
              "#46039f"
             ],
             [
              0.2222222222222222,
              "#7201a8"
             ],
             [
              0.3333333333333333,
              "#9c179e"
             ],
             [
              0.4444444444444444,
              "#bd3786"
             ],
             [
              0.5555555555555556,
              "#d8576b"
             ],
             [
              0.6666666666666666,
              "#ed7953"
             ],
             [
              0.7777777777777778,
              "#fb9f3a"
             ],
             [
              0.8888888888888888,
              "#fdca26"
             ],
             [
              1,
              "#f0f921"
             ]
            ],
            "type": "heatmapgl"
           }
          ],
          "histogram": [
           {
            "marker": {
             "pattern": {
              "fillmode": "overlay",
              "size": 10,
              "solidity": 0.2
             }
            },
            "type": "histogram"
           }
          ],
          "histogram2d": [
           {
            "colorbar": {
             "outlinewidth": 0,
             "ticks": ""
            },
            "colorscale": [
             [
              0,
              "#0d0887"
             ],
             [
              0.1111111111111111,
              "#46039f"
             ],
             [
              0.2222222222222222,
              "#7201a8"
             ],
             [
              0.3333333333333333,
              "#9c179e"
             ],
             [
              0.4444444444444444,
              "#bd3786"
             ],
             [
              0.5555555555555556,
              "#d8576b"
             ],
             [
              0.6666666666666666,
              "#ed7953"
             ],
             [
              0.7777777777777778,
              "#fb9f3a"
             ],
             [
              0.8888888888888888,
              "#fdca26"
             ],
             [
              1,
              "#f0f921"
             ]
            ],
            "type": "histogram2d"
           }
          ],
          "histogram2dcontour": [
           {
            "colorbar": {
             "outlinewidth": 0,
             "ticks": ""
            },
            "colorscale": [
             [
              0,
              "#0d0887"
             ],
             [
              0.1111111111111111,
              "#46039f"
             ],
             [
              0.2222222222222222,
              "#7201a8"
             ],
             [
              0.3333333333333333,
              "#9c179e"
             ],
             [
              0.4444444444444444,
              "#bd3786"
             ],
             [
              0.5555555555555556,
              "#d8576b"
             ],
             [
              0.6666666666666666,
              "#ed7953"
             ],
             [
              0.7777777777777778,
              "#fb9f3a"
             ],
             [
              0.8888888888888888,
              "#fdca26"
             ],
             [
              1,
              "#f0f921"
             ]
            ],
            "type": "histogram2dcontour"
           }
          ],
          "mesh3d": [
           {
            "colorbar": {
             "outlinewidth": 0,
             "ticks": ""
            },
            "type": "mesh3d"
           }
          ],
          "parcoords": [
           {
            "line": {
             "colorbar": {
              "outlinewidth": 0,
              "ticks": ""
             }
            },
            "type": "parcoords"
           }
          ],
          "pie": [
           {
            "automargin": true,
            "type": "pie"
           }
          ],
          "scatter": [
           {
            "fillpattern": {
             "fillmode": "overlay",
             "size": 10,
             "solidity": 0.2
            },
            "type": "scatter"
           }
          ],
          "scatter3d": [
           {
            "line": {
             "colorbar": {
              "outlinewidth": 0,
              "ticks": ""
             }
            },
            "marker": {
             "colorbar": {
              "outlinewidth": 0,
              "ticks": ""
             }
            },
            "type": "scatter3d"
           }
          ],
          "scattercarpet": [
           {
            "marker": {
             "colorbar": {
              "outlinewidth": 0,
              "ticks": ""
             }
            },
            "type": "scattercarpet"
           }
          ],
          "scattergeo": [
           {
            "marker": {
             "colorbar": {
              "outlinewidth": 0,
              "ticks": ""
             }
            },
            "type": "scattergeo"
           }
          ],
          "scattergl": [
           {
            "marker": {
             "colorbar": {
              "outlinewidth": 0,
              "ticks": ""
             }
            },
            "type": "scattergl"
           }
          ],
          "scattermapbox": [
           {
            "marker": {
             "colorbar": {
              "outlinewidth": 0,
              "ticks": ""
             }
            },
            "type": "scattermapbox"
           }
          ],
          "scatterpolar": [
           {
            "marker": {
             "colorbar": {
              "outlinewidth": 0,
              "ticks": ""
             }
            },
            "type": "scatterpolar"
           }
          ],
          "scatterpolargl": [
           {
            "marker": {
             "colorbar": {
              "outlinewidth": 0,
              "ticks": ""
             }
            },
            "type": "scatterpolargl"
           }
          ],
          "scatterternary": [
           {
            "marker": {
             "colorbar": {
              "outlinewidth": 0,
              "ticks": ""
             }
            },
            "type": "scatterternary"
           }
          ],
          "surface": [
           {
            "colorbar": {
             "outlinewidth": 0,
             "ticks": ""
            },
            "colorscale": [
             [
              0,
              "#0d0887"
             ],
             [
              0.1111111111111111,
              "#46039f"
             ],
             [
              0.2222222222222222,
              "#7201a8"
             ],
             [
              0.3333333333333333,
              "#9c179e"
             ],
             [
              0.4444444444444444,
              "#bd3786"
             ],
             [
              0.5555555555555556,
              "#d8576b"
             ],
             [
              0.6666666666666666,
              "#ed7953"
             ],
             [
              0.7777777777777778,
              "#fb9f3a"
             ],
             [
              0.8888888888888888,
              "#fdca26"
             ],
             [
              1,
              "#f0f921"
             ]
            ],
            "type": "surface"
           }
          ],
          "table": [
           {
            "cells": {
             "fill": {
              "color": "#EBF0F8"
             },
             "line": {
              "color": "white"
             }
            },
            "header": {
             "fill": {
              "color": "#C8D4E3"
             },
             "line": {
              "color": "white"
             }
            },
            "type": "table"
           }
          ]
         },
         "layout": {
          "annotationdefaults": {
           "arrowcolor": "#2a3f5f",
           "arrowhead": 0,
           "arrowwidth": 1
          },
          "autotypenumbers": "strict",
          "coloraxis": {
           "colorbar": {
            "outlinewidth": 0,
            "ticks": ""
           }
          },
          "colorscale": {
           "diverging": [
            [
             0,
             "#8e0152"
            ],
            [
             0.1,
             "#c51b7d"
            ],
            [
             0.2,
             "#de77ae"
            ],
            [
             0.3,
             "#f1b6da"
            ],
            [
             0.4,
             "#fde0ef"
            ],
            [
             0.5,
             "#f7f7f7"
            ],
            [
             0.6,
             "#e6f5d0"
            ],
            [
             0.7,
             "#b8e186"
            ],
            [
             0.8,
             "#7fbc41"
            ],
            [
             0.9,
             "#4d9221"
            ],
            [
             1,
             "#276419"
            ]
           ],
           "sequential": [
            [
             0,
             "#0d0887"
            ],
            [
             0.1111111111111111,
             "#46039f"
            ],
            [
             0.2222222222222222,
             "#7201a8"
            ],
            [
             0.3333333333333333,
             "#9c179e"
            ],
            [
             0.4444444444444444,
             "#bd3786"
            ],
            [
             0.5555555555555556,
             "#d8576b"
            ],
            [
             0.6666666666666666,
             "#ed7953"
            ],
            [
             0.7777777777777778,
             "#fb9f3a"
            ],
            [
             0.8888888888888888,
             "#fdca26"
            ],
            [
             1,
             "#f0f921"
            ]
           ],
           "sequentialminus": [
            [
             0,
             "#0d0887"
            ],
            [
             0.1111111111111111,
             "#46039f"
            ],
            [
             0.2222222222222222,
             "#7201a8"
            ],
            [
             0.3333333333333333,
             "#9c179e"
            ],
            [
             0.4444444444444444,
             "#bd3786"
            ],
            [
             0.5555555555555556,
             "#d8576b"
            ],
            [
             0.6666666666666666,
             "#ed7953"
            ],
            [
             0.7777777777777778,
             "#fb9f3a"
            ],
            [
             0.8888888888888888,
             "#fdca26"
            ],
            [
             1,
             "#f0f921"
            ]
           ]
          },
          "colorway": [
           "#636efa",
           "#EF553B",
           "#00cc96",
           "#ab63fa",
           "#FFA15A",
           "#19d3f3",
           "#FF6692",
           "#B6E880",
           "#FF97FF",
           "#FECB52"
          ],
          "font": {
           "color": "#2a3f5f"
          },
          "geo": {
           "bgcolor": "white",
           "lakecolor": "white",
           "landcolor": "#E5ECF6",
           "showlakes": true,
           "showland": true,
           "subunitcolor": "white"
          },
          "hoverlabel": {
           "align": "left"
          },
          "hovermode": "closest",
          "mapbox": {
           "style": "light"
          },
          "paper_bgcolor": "white",
          "plot_bgcolor": "#E5ECF6",
          "polar": {
           "angularaxis": {
            "gridcolor": "white",
            "linecolor": "white",
            "ticks": ""
           },
           "bgcolor": "#E5ECF6",
           "radialaxis": {
            "gridcolor": "white",
            "linecolor": "white",
            "ticks": ""
           }
          },
          "scene": {
           "xaxis": {
            "backgroundcolor": "#E5ECF6",
            "gridcolor": "white",
            "gridwidth": 2,
            "linecolor": "white",
            "showbackground": true,
            "ticks": "",
            "zerolinecolor": "white"
           },
           "yaxis": {
            "backgroundcolor": "#E5ECF6",
            "gridcolor": "white",
            "gridwidth": 2,
            "linecolor": "white",
            "showbackground": true,
            "ticks": "",
            "zerolinecolor": "white"
           },
           "zaxis": {
            "backgroundcolor": "#E5ECF6",
            "gridcolor": "white",
            "gridwidth": 2,
            "linecolor": "white",
            "showbackground": true,
            "ticks": "",
            "zerolinecolor": "white"
           }
          },
          "shapedefaults": {
           "line": {
            "color": "#2a3f5f"
           }
          },
          "ternary": {
           "aaxis": {
            "gridcolor": "white",
            "linecolor": "white",
            "ticks": ""
           },
           "baxis": {
            "gridcolor": "white",
            "linecolor": "white",
            "ticks": ""
           },
           "bgcolor": "#E5ECF6",
           "caxis": {
            "gridcolor": "white",
            "linecolor": "white",
            "ticks": ""
           }
          },
          "title": {
           "x": 0.05
          },
          "xaxis": {
           "automargin": true,
           "gridcolor": "white",
           "linecolor": "white",
           "ticks": "",
           "title": {
            "standoff": 15
           },
           "zerolinecolor": "white",
           "zerolinewidth": 2
          },
          "yaxis": {
           "automargin": true,
           "gridcolor": "white",
           "linecolor": "white",
           "ticks": "",
           "title": {
            "standoff": 15
           },
           "zerolinecolor": "white",
           "zerolinewidth": 2
          }
         }
        }
       }
      }
     },
     "metadata": {},
     "output_type": "display_data"
    },
    {
     "data": {
      "text/html": [
       "<div>\n",
       "<style scoped>\n",
       "    .dataframe tbody tr th:only-of-type {\n",
       "        vertical-align: middle;\n",
       "    }\n",
       "\n",
       "    .dataframe tbody tr th {\n",
       "        vertical-align: top;\n",
       "    }\n",
       "\n",
       "    .dataframe thead th {\n",
       "        text-align: right;\n",
       "    }\n",
       "</style>\n",
       "<table border=\"1\" class=\"dataframe\">\n",
       "  <thead>\n",
       "    <tr style=\"text-align: right;\">\n",
       "      <th></th>\n",
       "      <th>category</th>\n",
       "      <th>name</th>\n",
       "      <th>cwe</th>\n",
       "      <th>count</th>\n",
       "    </tr>\n",
       "  </thead>\n",
       "  <tbody>\n",
       "    <tr>\n",
       "      <th>0</th>\n",
       "      <td>-</td>\n",
       "      <td>-</td>\n",
       "      <td>CWE-unknown</td>\n",
       "      <td>519</td>\n",
       "    </tr>\n",
       "    <tr>\n",
       "      <th>1</th>\n",
       "      <td>-</td>\n",
       "      <td>arrayIndexOutOfBounds</td>\n",
       "      <td>CWE-788</td>\n",
       "      <td>36</td>\n",
       "    </tr>\n",
       "    <tr>\n",
       "      <th>2</th>\n",
       "      <td>-</td>\n",
       "      <td>autoVariables</td>\n",
       "      <td>CWE-562</td>\n",
       "      <td>13</td>\n",
       "    </tr>\n",
       "    <tr>\n",
       "      <th>3</th>\n",
       "      <td>-</td>\n",
       "      <td>bufferAccessOutOfBounds</td>\n",
       "      <td>CWE-788</td>\n",
       "      <td>13</td>\n",
       "    </tr>\n",
       "    <tr>\n",
       "      <th>4</th>\n",
       "      <td>-</td>\n",
       "      <td>comparePointers</td>\n",
       "      <td>CWE-570</td>\n",
       "      <td>320</td>\n",
       "    </tr>\n",
       "  </tbody>\n",
       "</table>\n",
       "</div>"
      ],
      "text/plain": [
       "  category                     name          cwe  count\n",
       "0        -                        -  CWE-unknown    519\n",
       "1        -    arrayIndexOutOfBounds      CWE-788     36\n",
       "2        -            autoVariables      CWE-562     13\n",
       "3        -  bufferAccessOutOfBounds      CWE-788     13\n",
       "4        -          comparePointers      CWE-570    320"
      ]
     },
     "execution_count": 16,
     "metadata": {},
     "output_type": "execute_result"
    }
   ],
   "source": [
    "dfplt = dfs[['category', 'name', 'cwe']].groupby(['category', 'name', 'cwe'], group_keys=False).size().reset_index(name='count')\n",
    "fig = px.sunburst(dfplt, path=['category', 'name', 'cwe'], values='count')\n",
    "# fig.write_image(\"figure/vul_statistics.pdf\")\n",
    "fig.show()\n",
    "dfplt.head()"
   ]
  },
  {
   "attachments": {},
   "cell_type": "markdown",
   "metadata": {},
   "source": [
    "# Analysis of IoTvulCode tool generated output for feeding non-vul statements:\n"
   ]
  },
  {
   "cell_type": "code",
   "execution_count": 17,
   "metadata": {},
   "outputs": [
    {
     "data": {
      "text/plain": [
       "<AxesSubplot: >"
      ]
     },
     "execution_count": 17,
     "metadata": {},
     "output_type": "execute_result"
    },
    {
     "data": {
      "image/png": "[encoded data removed]",
      "text/plain": [
       "<Figure size 640x480 with 1 Axes>"
      ]
     },
     "metadata": {},
     "output_type": "display_data"
    }
   ],
   "source": [
    "dfs.context.str.len().sort_values(ascending=False).reset_index(drop=True).plot(kind='box')"
   ]
  },
  {
   "cell_type": "code",
   "execution_count": 19,
   "metadata": {},
   "outputs": [
    {
     "data": {
      "text/plain": [
       "[1, 42, 41]"
      ]
     },
     "execution_count": 19,
     "metadata": {},
     "output_type": "execute_result"
    }
   ],
   "source": [
    "def filter_unusual_statements(statements, min_len, max_len, df):\n",
    "    \"\"\"\" \n",
    "    # https://peps.python.org/pep-0007/\n",
    "    # https://www.python.org/dev/peps/pep-0007/ \n",
    "    \"\"\"\n",
    "    filtered_statements = []\n",
    "    for statement in statements:\n",
    "        if len(statement) >= min_len and len(statement) <= max_len:\n",
    "            filtered_statements.append(statement)\n",
    "   \n",
    "    # take size of the vul statements as basis\n",
    "    df = pd.Series(statements)   \n",
    "    df = df.str.len()\n",
    "    \n",
    "    stat_sizes =  list(df[df.between(max_len, min_len)].reset_index(drop=True))\n",
    "    random.seed(0)\n",
    "    sample_size = 5 if len(stat_sizes)>5 else len(stat_sizes)-1\n",
    "    stat_sizes = random.sample(set(stat_sizes), sample_size)\n",
    "    return stat_sizes\n",
    "\n",
    "\n",
    "# standard variables:\n",
    "max_len = 79\n",
    "# for min_len (eg, 7 characters)\n",
    "min_len = dfs.context.str.len().sort_values(ascending=False).reset_index(drop=True).min()\n",
    "\n",
    "\n",
    "lines = dfm.code[0].splitlines()\n",
    "stat_sizes = filter_unusual_statements(lines, max_len, min_len, dfs)\n",
    "stat_sizes"
   ]
  },
  {
   "cell_type": "code",
   "execution_count": 17,
   "metadata": {},
   "outputs": [
    {
     "name": "stdout",
     "output_type": "stream",
     "text": [
      "Shape of DNN data:  (4720, 2)\n",
      "Shape of contiki:  (32889, 2)\n",
      "Shape of raspberry:  (894715, 14)\n",
      "Shape of raspberry flaws:  (78136, 20)\n"
     ]
    }
   ],
   "source": [
    "# df_dnn = pd.read_csv('../data/iDetect_refine/DNN_Binary.csv')\n",
    "# df_conti = pd.read_csv('../data/contiki-master_Binary.csv')\n",
    "# df_rasp = pd.read_csv('../data/raspberry_metrics.csv')\n",
    "# df_rasp_flaw = pd.read_csv('../data/raspberry_flaw.csv')\n",
    "\n",
    "# print('Shape of DNN data: ', df_dnn.shape)\n",
    "# print('Shape of contiki: ', df_conti.shape)\n",
    "# print('Shape of raspberry: ', df_rasp.shape)\n",
    "# print('Shape of raspberry flaws: ', df_rasp_flaw.shape)\n",
    "\n",
    "# dfcon = dfcon.rename(columns={'context': 'code'})\n",
    "# dfcon.to_csv('../data/contiki-master_Binary.csv', index=False)"
   ]
  },
  {
   "attachments": {},
   "cell_type": "markdown",
   "metadata": {},
   "source": [
    "# Convert hyperparameters list to latex table format"
   ]
  },
  {
   "cell_type": "code",
   "execution_count": 21,
   "metadata": {},
   "outputs": [
    {
     "name": "stdout",
     "output_type": "stream",
     "text": [
      "\\begin{table}\n",
      "\\centering\n",
      "\\caption{Hyperparameter Settings}\n",
      "\\label{Hyperparameter Settings}\n",
      "\\begin{tabular}{ll}\n",
      "\\toprule\n",
      "hyperparameter &                           value \\\\\n",
      "\\midrule\n",
      "        epochs &                              50 \\\\\n",
      "         batch &                             128 \\\\\n",
      "  input\\_length &                             150 \\\\\n",
      "     input\\_dim &                             150 \\\\\n",
      "    output\\_dim &                              32 \\\\\n",
      "            lr &                            1e-4 \\\\\n",
      "      patience &                             100 \\\\\n",
      "     optimizer &                            adam \\\\\n",
      "        l2\\_reg &                            1e-4 \\\\\n",
      "       dropout &                             0.0 \\\\\n",
      " recur\\_dropout &                             0.0 \\\\\n",
      "        beta\\_1 &                             0.9 \\\\\n",
      "        beta\\_2 &                           0.999 \\\\\n",
      "       epsilon &                           1e-08 \\\\\n",
      "         decay &                             0.0 \\\\\n",
      "       verbose &                               2 \\\\\n",
      "          loss & sparse\\_categorical\\_crossentropy \\\\\n",
      "\\bottomrule\n",
      "\\end{tabular}\n",
      "\\end{table}\n",
      "\n"
     ]
    }
   ],
   "source": [
    "def hyperpara2latex(yaml_file):\n",
    "    \"\"\"\n",
    "    load the yaml file and return a dictionary\n",
    "    \"\"\"\n",
    "    config = {}\n",
    "    cols = ['hyperparameter', 'value']\n",
    "    \n",
    "    ext = Path(yaml_file).suffix.replace('.', '') \n",
    "    \n",
    "    with open(yaml_file, \"r\") as stream:\n",
    "        try:\n",
    "            config = yaml.safe_load(stream)\n",
    "            df = pd.DataFrame([config['dnn']]).T.reset_index()\n",
    "            print(df.to_latex(index=False, \n",
    "                    header=cols, \n",
    "                    #   column_format='|l|l|', \n",
    "                    label='Hyperparameter Settings', \n",
    "                    caption='Hyperparameter Settings'))\n",
    "        except yaml.YAMLError as exc:\n",
    "            print(exc)\n",
    "\n",
    "config = hyperpara2latex('../config.yaml')"
   ]
  },
  {
   "cell_type": "code",
   "execution_count": 34,
   "metadata": {},
   "outputs": [
    {
     "data": {
      "text/plain": [
       "209876"
      ]
     },
     "execution_count": 34,
     "metadata": {},
     "output_type": "execute_result"
    }
   ],
   "source": [
    "len(dff.drop_duplicates(subset=['file', 'long_name', 'start_line', 'end_line', 'cwe'], keep='last').reset_index(drop=True))"
   ]
  },
  {
   "cell_type": "code",
   "execution_count": 33,
   "metadata": {},
   "outputs": [
    {
     "data": {
      "text/plain": [
       "209876"
      ]
     },
     "execution_count": 33,
     "metadata": {},
     "output_type": "execute_result"
    }
   ],
   "source": [
    "len(dff)"
   ]
  }
 ],
 "metadata": {
  "kernelspec": {
   "display_name": "vulcode",
   "language": "python",
   "name": "python3"
  },
  "language_info": {
   "codemirror_mode": {
    "name": "ipython",
    "version": 3
   },
   "file_extension": ".py",
   "mimetype": "text/x-python",
   "name": "python",
   "nbconvert_exporter": "python",
   "pygments_lexer": "ipython3",
   "version": "3.8.0"
  },
  "orig_nbformat": 4,
  "vscode": {
   "interpreter": {
    "hash": "770d70f40277e0fadd6bc1f7a5fecfd799eee3cbb57c500ccfb48eb07fd2c1ce"
   }
  }
 },
 "nbformat": 4,
 "nbformat_minor": 2
}
