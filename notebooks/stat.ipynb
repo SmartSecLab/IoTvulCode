{
 "cells": [
  {
   "attachments": {},
   "cell_type": "markdown",
   "metadata": {},
   "source": [
    "# Statistics on the output data. "
   ]
  },
  {
   "cell_type": "markdown",
   "metadata": {},
   "source": [
    "import pandas as pd\n",
    "import matplotlib.pyplot as plt\n",
    "import seaborn as sns\n",
    "import plotly.express as px\n",
    "import lizard\n",
    "import subprocess as sub\n",
    "from pylibsrcml import srcml\n",
    "import os\n",
    "import re \n",
    "import xml.etree.ElementTree as et \n",
    "import warnings\n",
    "warnings.filterwarnings(\"ignore\")\n",
    "\n",
    "\n",
    "df = pd.read_csv('../data/contiki-master_flaw.csv')\n",
    "dfm = pd.read_csv('../data/contiki-master_metrics.csv')\n",
    "\n",
    "if not os.path.exists(\"figure\"):\n",
    "    os.mkdir(\"figure\")\n",
    "df.columns"
   ]
  },
  {
   "cell_type": "code",
   "execution_count": null,
   "metadata": {},
   "outputs": [],
   "source": [
    "dfp = df[['category', 'name', 'cwe']].groupby(['category', 'name', 'cwe'], group_keys=False).size().reset_index(name='count')\n",
    "fig = px.sunburst(dfp, path=['category', 'name', 'cwe'], values='count')\n",
    "# fig.write_image(\"figure/vul_statistics.pdf\")\n",
    "fig.show()\n",
    "dfp.head()"
   ]
  },
  {
   "attachments": {},
   "cell_type": "markdown",
   "metadata": {},
   "source": [
    "# Analysis of IoTvulCode tool generated output for feeding non-vul statements:\n"
   ]
  },
  {
   "cell_type": "code",
   "execution_count": null,
   "metadata": {},
   "outputs": [],
   "source": [
    "df.nunique()"
   ]
  },
  {
   "cell_type": "code",
   "execution_count": null,
   "metadata": {},
   "outputs": [],
   "source": [
    "df.context.str.len().sort_values(ascending=False).reset_index(drop=True).plot(kind='box')"
   ]
  },
  {
   "cell_type": "code",
   "execution_count": null,
   "metadata": {},
   "outputs": [],
   "source": [
    "\n",
    "import random\n",
    "\n",
    "def filter_unusual_statements(statements, min_len, max_len):\n",
    "    \"\"\"\" \n",
    "    # https://peps.python.org/pep-0007/\n",
    "    # https://www.python.org/dev/peps/pep-0007/ \n",
    "    \"\"\"\n",
    "    filtered_statements = []\n",
    "    for statement in statements:\n",
    "        if len(statement) >= min_len and len(statement) <= max_len:\n",
    "            filtered_statements.append(statement)\n",
    "   \n",
    "    # take size of the vul statements as basis\n",
    "    df = pd.Series(statements)   \n",
    "    df = df.str.len()\n",
    "    \n",
    "    stat_sizes =  list(df[df.between(max_len, min_len)].reset_index(drop=True))\n",
    "    random.seed(0)\n",
    "    stat_sizes = random.sample(set(stat_sizes), 5)\n",
    "    return stat_sizes\n",
    "\n",
    "\n",
    "# standard variables:\n",
    "max_len = 79\n",
    "# for min_len (eg, 7 characters)\n",
    "min_len = df.context.str.len().sort_values(ascending=False).reset_index(drop=True).min()\n",
    "\n",
    "\n",
    "lines = dfm.code[0].splitlines()\n",
    "stat_sizes = filter_unusual_statements(lines, max_len, min_len)\n",
    "stat_sizes"
   ]
  },
  {
   "cell_type": "code",
   "execution_count": null,
   "metadata": {},
   "outputs": [],
   "source": [
    "def get_benign_context(row):\n",
    "    \"\"\"\n",
    "    filter all lines if it is less than min threshold\n",
    "    randomly suffled lines\n",
    "    \"\"\" \n",
    "    df = pd.DataFrame()\n",
    "    lines = [x for x in enumerate(row['code'].splitlines()) if len(x[1]) > 7]\n",
    "    # lines = [(x[0], str(x).strip()) for x in lines]\n",
    "    \n",
    "    random.seed(0)\n",
    "    lines = random.sample(population=lines, \n",
    "                        k=int(len(lines)/2))\n",
    "\n",
    "    # TODO: remove the ambiguous vul line from the 'benign' lines if present\n",
    "    # vul_line = df.line[i]\n",
    "    # lines = [x for x in lines if x[0]!=vul_line]\n",
    "\n",
    "    ## convert it to dataframe and add additional columns\n",
    "    df = pd.DataFrame(lines, columns=['line', 'context'])\n",
    "    # remove leading and trailing whitespace\n",
    "    df['context'] = df['context'].apply(lambda x: re.sub(r'\\s+', ' ', x).strip()) \n",
    "    df['cwe'] = 'benign'\n",
    "    df['tool'] = 'sampling'\n",
    "    df['file'] = row['filename']\n",
    "    line_col = df['line'].astype(int) + int(row['start_line'])\n",
    "    \n",
    "    max_line = max(list(line_col)) if list(line_col) else 0\n",
    "    end_line = int(row['end_line'])\n",
    "    \n",
    "    # print(f\"max of lines: {max_line} and end_line: {end_line}\")\n",
    "    assert max_line <= end_line, \"Line number shouldn't exceed function length!\"\n",
    "    df['line'] = line_col\n",
    "    return df\n",
    "\n",
    "def drop_rows(df):\n",
    "    \"\"\" applied several filters to the dataframe \"\"\"\n",
    "    df['context'] = df['context'].apply(lambda x: re.sub(r'\\s+', ' ', x).strip()) \n",
    "    len_s0 = len(df)\n",
    "    # Step 1: drop duplicates from all rows\n",
    "    df = df.drop_duplicates(subset=['cwe', 'context']).reset_index(drop=True)\n",
    "    len_s1 = len(df)\n",
    "    print(f'{len_s0-len_s1} duplicate samples were dropped from {len_s0} samples.')\n",
    "\n",
    "    # Step 2: drop duplicates from ambiguous rows on context column \n",
    "    ## (keeping only a first occurrence, i.e, vul/cwe sample)\n",
    "    df = df.sort_values(by='cwe', ascending=True).drop_duplicates(subset='context', keep='first').reset_index(drop=True)\n",
    "    len_s2 = len(df)\n",
    "    print(f'{len_s1-len_s2} ambiquous samples were dropped from {len_s1} samples.')\n",
    "    return df\n",
    "\n",
    "def gen_benign(dfm):\n",
    "    \"\"\"create benign samples to the dataframe \"\"\"\n",
    "    print('-'*50)\n",
    "    print('#samples: ', len(dfm))\n",
    "    print('Generating benign samples...')\n",
    "    df_fun = pd.DataFrame()\n",
    "    for i in range(len(dfm)):\n",
    "        df_get = get_benign_context(dict(dfm.iloc[i]))\n",
    "        df_fun = df_fun.append(df_get).reset_index(drop=True)\n",
    "    print('-'*50)\n",
    "    print('#benign samples generated: ', len(df_fun))\n",
    "    return df_fun\n",
    "\n",
    "\n",
    "df_fun = gen_benign(dfm)\n",
    "df = df.append(df_fun).reset_index(drop=True)\n",
    "\n",
    "df = drop_rows(df) # mutates df\n",
    "df.head(5)"
   ]
  },
  {
   "cell_type": "code",
   "execution_count": null,
   "metadata": {},
   "outputs": [],
   "source": [
    "def save_binary(filename, dfs):\n",
    "    \"\"\" save a dataframe to a binary file \"\"\"\n",
    "    dfs['isMalicious'] = dfs['cwe'].apply(lambda x: 1 if x !='benign' else 0)\n",
    "    dfs = dfs.rename(columns={'context': 'code'})\n",
    "    dfs[['code', 'isMalicious']].to_csv(filename, index=False)\n",
    "    return dfs[['code', 'isMalicious']]\n",
    "\n",
    "dfs = save_binary('../data/contiki-master-binary.csv', df)\n",
    "dfs"
   ]
  },
  {
   "cell_type": "code",
   "execution_count": 9,
   "metadata": {},
   "outputs": [
    {
     "data": {
      "text/html": [
       "<div>\n",
       "<style scoped>\n",
       "    .dataframe tbody tr th:only-of-type {\n",
       "        vertical-align: middle;\n",
       "    }\n",
       "\n",
       "    .dataframe tbody tr th {\n",
       "        vertical-align: top;\n",
       "    }\n",
       "\n",
       "    .dataframe thead th {\n",
       "        text-align: right;\n",
       "    }\n",
       "</style>\n",
       "<table border=\"1\" class=\"dataframe\">\n",
       "  <thead>\n",
       "    <tr style=\"text-align: right;\">\n",
       "      <th></th>\n",
       "      <th>code</th>\n",
       "      <th>isMalicious</th>\n",
       "    </tr>\n",
       "  </thead>\n",
       "  <tbody>\n",
       "    <tr>\n",
       "      <th>0</th>\n",
       "      <td>volatile char u2_rx_buf[UART2_RX_BUFFERSIZE-32];</td>\n",
       "      <td>1</td>\n",
       "    </tr>\n",
       "    <tr>\n",
       "      <th>1</th>\n",
       "      <td>static char telneticon_textmap[9] = {</td>\n",
       "      <td>1</td>\n",
       "    </tr>\n",
       "    <tr>\n",
       "      <th>2</th>\n",
       "      <td>const char http_http[8] =</td>\n",
       "      <td>1</td>\n",
       "    </tr>\n",
       "    <tr>\n",
       "      <th>3</th>\n",
       "      <td>const char http_https[9] =</td>\n",
       "      <td>1</td>\n",
       "    </tr>\n",
       "    <tr>\n",
       "      <th>4</th>\n",
       "      <td>const char http_200[5] =</td>\n",
       "      <td>1</td>\n",
       "    </tr>\n",
       "    <tr>\n",
       "      <th>...</th>\n",
       "      <td>...</td>\n",
       "      <td>...</td>\n",
       "    </tr>\n",
       "    <tr>\n",
       "      <th>32884</th>\n",
       "      <td>if(relation_attribute_add(rel, DB_STORAGE, att...</td>\n",
       "      <td>0</td>\n",
       "    </tr>\n",
       "    <tr>\n",
       "      <th>32885</th>\n",
       "      <td>case AQL_TYPE_REMOVE_INDEX:</td>\n",
       "      <td>0</td>\n",
       "    </tr>\n",
       "    <tr>\n",
       "      <th>32886</th>\n",
       "      <td>relation's attributes. */</td>\n",
       "      <td>0</td>\n",
       "    </tr>\n",
       "    <tr>\n",
       "      <th>32887</th>\n",
       "      <td>result = DB_OK;</td>\n",
       "      <td>0</td>\n",
       "    </tr>\n",
       "    <tr>\n",
       "      <th>32888</th>\n",
       "      <td>if((ev == PROCESS_EVENT_TIMER &amp;&amp; data == &amp;publ...</td>\n",
       "      <td>0</td>\n",
       "    </tr>\n",
       "  </tbody>\n",
       "</table>\n",
       "<p>32889 rows × 2 columns</p>\n",
       "</div>"
      ],
      "text/plain": [
       "                                                    code  isMalicious\n",
       "0       volatile char u2_rx_buf[UART2_RX_BUFFERSIZE-32];            1\n",
       "1                  static char telneticon_textmap[9] = {            1\n",
       "2                              const char http_http[8] =            1\n",
       "3                             const char http_https[9] =            1\n",
       "4                               const char http_200[5] =            1\n",
       "...                                                  ...          ...\n",
       "32884  if(relation_attribute_add(rel, DB_STORAGE, att...            0\n",
       "32885                        case AQL_TYPE_REMOVE_INDEX:            0\n",
       "32886                          relation's attributes. */            0\n",
       "32887                                    result = DB_OK;            0\n",
       "32888  if((ev == PROCESS_EVENT_TIMER && data == &publ...            0\n",
       "\n",
       "[32889 rows x 2 columns]"
      ]
     },
     "execution_count": 9,
     "metadata": {},
     "output_type": "execute_result"
    }
   ],
   "source": [
    "dfm = pd.read_csv('../data/iDetect_refine/DNN_Binary.csv')\n",
    "dfcon = pd.read_csv('../data/contiki-master_Binary.csv')\n",
    "dfcon"
   ]
  },
  {
   "cell_type": "code",
   "execution_count": 3,
   "metadata": {},
   "outputs": [
    {
     "data": {
      "text/plain": [
       "1    3067\n",
       "0    1653\n",
       "Name: isMalicious, dtype: int64"
      ]
     },
     "execution_count": 3,
     "metadata": {},
     "output_type": "execute_result"
    }
   ],
   "source": [
    "dfm.isMalicious.value_counts()"
   ]
  },
  {
   "cell_type": "code",
   "execution_count": 4,
   "metadata": {},
   "outputs": [
    {
     "data": {
      "text/plain": [
       "0    30866\n",
       "1     2023\n",
       "Name: isMalicious, dtype: int64"
      ]
     },
     "execution_count": 4,
     "metadata": {},
     "output_type": "execute_result"
    }
   ],
   "source": [
    "dfcon.isMalicious.value_counts()"
   ]
  },
  {
   "cell_type": "code",
   "execution_count": 8,
   "metadata": {},
   "outputs": [],
   "source": [
    "dfcon = dfcon.rename(columns={'context': 'code'})\n",
    "dfcon.to_csv('../data/contiki-master_Binary.csv', index=False)"
   ]
  }
 ],
 "metadata": {
  "kernelspec": {
   "display_name": "vulcode",
   "language": "python",
   "name": "python3"
  },
  "language_info": {
   "codemirror_mode": {
    "name": "ipython",
    "version": 3
   },
   "file_extension": ".py",
   "mimetype": "text/x-python",
   "name": "python",
   "nbconvert_exporter": "python",
   "pygments_lexer": "ipython3",
   "version": "3.8.0"
  },
  "orig_nbformat": 4,
  "vscode": {
   "interpreter": {
    "hash": "770d70f40277e0fadd6bc1f7a5fecfd799eee3cbb57c500ccfb48eb07fd2c1ce"
   }
  }
 },
 "nbformat": 4,
 "nbformat_minor": 2
}
