{
 "cells": [
  {
   "attachments": {},
   "cell_type": "markdown",
   "metadata": {},
   "source": [
    "# Statistics on the output data. "
   ]
  },
  {
   "cell_type": "markdown",
   "metadata": {},
   "source": [
    "### Loading data from the sqlite database to the dataframes"
   ]
  },
  {
   "cell_type": "code",
   "execution_count": 166,
   "metadata": {},
   "outputs": [
    {
     "ename": "KeyboardInterrupt",
     "evalue": "",
     "output_type": "error",
     "traceback": [
      "\u001b[0;31m---------------------------------------------------------------------------\u001b[0m",
      "\u001b[0;31mKeyboardInterrupt\u001b[0m                         Traceback (most recent call last)",
      "Cell \u001b[0;32mIn[166], line 30\u001b[0m\n\u001b[1;32m     27\u001b[0m random\u001b[39m.\u001b[39mseed(\u001b[39m0\u001b[39m)\n\u001b[1;32m     29\u001b[0m dfp \u001b[39m=\u001b[39m pd\u001b[39m.\u001b[39mread_sql_query(\u001b[39m\"\u001b[39m\u001b[39mSELECT * FROM project\u001b[39m\u001b[39m\"\u001b[39m, con\u001b[39m=\u001b[39mconn)\n\u001b[0;32m---> 30\u001b[0m dfs \u001b[39m=\u001b[39m pd\u001b[39m.\u001b[39;49mread_sql_query(\u001b[39m\"\u001b[39;49m\u001b[39mSELECT * FROM statement\u001b[39;49m\u001b[39m\"\u001b[39;49m, con\u001b[39m=\u001b[39;49mconn)\n\u001b[1;32m     31\u001b[0m dff \u001b[39m=\u001b[39m pd\u001b[39m.\u001b[39mread_sql_query(\u001b[39m\"\u001b[39m\u001b[39mSELECT * FROM function\u001b[39m\u001b[39m\"\u001b[39m, con\u001b[39m=\u001b[39mconn)\n\u001b[1;32m     33\u001b[0m \u001b[39mif\u001b[39;00m \u001b[39mnot\u001b[39;00m os\u001b[39m.\u001b[39mpath\u001b[39m.\u001b[39mexists(\u001b[39m\"\u001b[39m\u001b[39mfigure\u001b[39m\u001b[39m\"\u001b[39m):\n",
      "File \u001b[0;32m~/miniconda/envs/iotCode/lib/python3.8/site-packages/pandas/io/sql.py:399\u001b[0m, in \u001b[0;36mread_sql_query\u001b[0;34m(sql, con, index_col, coerce_float, params, parse_dates, chunksize, dtype)\u001b[0m\n\u001b[1;32m    341\u001b[0m \u001b[39m\u001b[39m\u001b[39m\"\"\"\u001b[39;00m\n\u001b[1;32m    342\u001b[0m \u001b[39mRead SQL query into a DataFrame.\u001b[39;00m\n\u001b[1;32m    343\u001b[0m \n\u001b[0;32m   (...)\u001b[0m\n\u001b[1;32m    396\u001b[0m \u001b[39mparameter will be converted to UTC.\u001b[39;00m\n\u001b[1;32m    397\u001b[0m \u001b[39m\"\"\"\u001b[39;00m\n\u001b[1;32m    398\u001b[0m pandas_sql \u001b[39m=\u001b[39m pandasSQL_builder(con)\n\u001b[0;32m--> 399\u001b[0m \u001b[39mreturn\u001b[39;00m pandas_sql\u001b[39m.\u001b[39;49mread_query(\n\u001b[1;32m    400\u001b[0m     sql,\n\u001b[1;32m    401\u001b[0m     index_col\u001b[39m=\u001b[39;49mindex_col,\n\u001b[1;32m    402\u001b[0m     params\u001b[39m=\u001b[39;49mparams,\n\u001b[1;32m    403\u001b[0m     coerce_float\u001b[39m=\u001b[39;49mcoerce_float,\n\u001b[1;32m    404\u001b[0m     parse_dates\u001b[39m=\u001b[39;49mparse_dates,\n\u001b[1;32m    405\u001b[0m     chunksize\u001b[39m=\u001b[39;49mchunksize,\n\u001b[1;32m    406\u001b[0m     dtype\u001b[39m=\u001b[39;49mdtype,\n\u001b[1;32m    407\u001b[0m )\n",
      "File \u001b[0;32m~/miniconda/envs/iotCode/lib/python3.8/site-packages/pandas/io/sql.py:2091\u001b[0m, in \u001b[0;36mSQLiteDatabase.read_query\u001b[0;34m(self, sql, index_col, coerce_float, params, parse_dates, chunksize, dtype)\u001b[0m\n\u001b[1;32m   2081\u001b[0m     \u001b[39mreturn\u001b[39;00m \u001b[39mself\u001b[39m\u001b[39m.\u001b[39m_query_iterator(\n\u001b[1;32m   2082\u001b[0m         cursor,\n\u001b[1;32m   2083\u001b[0m         chunksize,\n\u001b[0;32m   (...)\u001b[0m\n\u001b[1;32m   2088\u001b[0m         dtype\u001b[39m=\u001b[39mdtype,\n\u001b[1;32m   2089\u001b[0m     )\n\u001b[1;32m   2090\u001b[0m \u001b[39melse\u001b[39;00m:\n\u001b[0;32m-> 2091\u001b[0m     data \u001b[39m=\u001b[39m \u001b[39mself\u001b[39;49m\u001b[39m.\u001b[39;49m_fetchall_as_list(cursor)\n\u001b[1;32m   2092\u001b[0m     cursor\u001b[39m.\u001b[39mclose()\n\u001b[1;32m   2094\u001b[0m     frame \u001b[39m=\u001b[39m _wrap_result(\n\u001b[1;32m   2095\u001b[0m         data,\n\u001b[1;32m   2096\u001b[0m         columns,\n\u001b[0;32m   (...)\u001b[0m\n\u001b[1;32m   2100\u001b[0m         dtype\u001b[39m=\u001b[39mdtype,\n\u001b[1;32m   2101\u001b[0m     )\n",
      "File \u001b[0;32m~/miniconda/envs/iotCode/lib/python3.8/site-packages/pandas/io/sql.py:2105\u001b[0m, in \u001b[0;36mSQLiteDatabase._fetchall_as_list\u001b[0;34m(self, cur)\u001b[0m\n\u001b[1;32m   2104\u001b[0m \u001b[39mdef\u001b[39;00m \u001b[39m_fetchall_as_list\u001b[39m(\u001b[39mself\u001b[39m, cur):\n\u001b[0;32m-> 2105\u001b[0m     result \u001b[39m=\u001b[39m cur\u001b[39m.\u001b[39;49mfetchall()\n\u001b[1;32m   2106\u001b[0m     \u001b[39mif\u001b[39;00m \u001b[39mnot\u001b[39;00m \u001b[39misinstance\u001b[39m(result, \u001b[39mlist\u001b[39m):\n\u001b[1;32m   2107\u001b[0m         result \u001b[39m=\u001b[39m \u001b[39mlist\u001b[39m(result)\n",
      "\u001b[0;31mKeyboardInterrupt\u001b[0m: "
     ]
    }
   ],
   "source": [
    "import pandas as pd\n",
    "import matplotlib.pyplot as plt\n",
    "import seaborn as sns\n",
    "import plotly.express as px\n",
    "import lizard\n",
    "import subprocess as sub\n",
    "from pylibsrcml import srcml\n",
    "import os\n",
    "import re \n",
    "import xml.etree.ElementTree as et \n",
    "import warnings\n",
    "from sqlite3 import connect\n",
    "from argparse import ArgumentParser\n",
    "from configparser import ConfigParser\n",
    "import yaml\n",
    "from pathlib import Path\n",
    "import random\n",
    "from tabulate import tabulate\n",
    "\n",
    "warnings.filterwarnings(\"ignore\")\n",
    "\n",
    "\n",
    "# database = '../data/big-IoT.db'\n",
    "database = \"/Users/guru/research/TinyVul.db\"\n",
    "conn= connect(database)\n",
    "\n",
    "random.seed(0)\n",
    "\n",
    "dfp = pd.read_sql_query(\"SELECT * FROM project\", con=conn)\n",
    "dfs = pd.read_sql_query(\"SELECT * FROM statement\", con=conn)\n",
    "dff = pd.read_sql_query(\"SELECT * FROM function\", con=conn)\n",
    "\n",
    "if not os.path.exists(\"figure\"):\n",
    "    os.mkdir(\"figure\")\n",
    "dfs.columns"
   ]
  },
  {
   "cell_type": "markdown",
   "metadata": {},
   "source": [
    "### Plotting subburset plot from the frequency of category, name and cwe types. "
   ]
  },
  {
   "cell_type": "code",
   "execution_count": 187,
   "metadata": {},
   "outputs": [
    {
     "data": {
      "application/vnd.plotly.v1+json": {
       "config": {
        "plotlyServerURL": "https://plot.ly"
       },
       "data": [
        {
         "branchvalues": "total",
         "customdata": [
          [
           9
          ],
          [
           23886
          ],
          [
           147
          ],
          [
           2
          ],
          [
           4
          ],
          [
           3
          ],
          [
           3
          ],
          [
           9
          ],
          [
           8
          ],
          [
           27008
          ],
          [
           7533
          ],
          [
           42
          ],
          [
           624
          ],
          [
           2270
          ],
          [
           124
          ],
          [
           1029
          ],
          [
           2
          ],
          [
           51
          ],
          [
           25
          ],
          [
           51
          ],
          [
           35
          ],
          [
           151
          ],
          [
           64
          ],
          [
           9
          ],
          [
           3655
          ],
          [
           17
          ],
          [
           82
          ],
          [
           3
          ],
          [
           5
          ],
          [
           10
          ],
          [
           82
          ],
          [
           5
          ],
          [
           80
          ],
          [
           77
          ],
          [
           6686
          ],
          [
           8
          ],
          [
           259
          ],
          [
           738
          ],
          [
           434
          ],
          [
           275
          ],
          [
           27
          ],
          [
           83
          ],
          [
           46
          ],
          [
           203
          ],
          [
           34
          ],
          [
           823
          ],
          [
           52
          ],
          [
           142
          ],
          [
           7
          ],
          [
           1
          ],
          [
           1
          ],
          [
           443
          ],
          [
           2
          ],
          [
           270
          ],
          [
           6
          ],
          [
           107
          ],
          [
           9
          ],
          [
           14
          ],
          [
           15
          ],
          [
           729
          ],
          [
           1862
          ],
          [
           14
          ],
          [
           40
          ],
          [
           1220
          ],
          [
           25
          ],
          [
           24
          ],
          [
           1
          ],
          [
           33
          ],
          [
           1
          ],
          [
           10
          ],
          [
           2
          ],
          [
           5
          ],
          [
           16
          ],
          [
           135
          ],
          [
           2
          ],
          [
           3
          ],
          [
           712
          ],
          [
           11
          ],
          [
           126
          ],
          [
           2
          ],
          [
           9
          ],
          [
           1
          ],
          [
           558
          ],
          [
           1
          ],
          [
           21
          ],
          [
           1
          ],
          [
           15
          ],
          [
           7
          ],
          [
           152
          ],
          [
           3
          ],
          [
           4
          ],
          [
           3
          ],
          [
           90
          ],
          [
           23
          ],
          [
           19
          ],
          [
           1
          ],
          [
           4
          ],
          [
           5
          ],
          [
           1
          ],
          [
           1
          ],
          [
           1
          ],
          [
           12
          ],
          [
           2
          ],
          [
           14
          ],
          [
           6
          ],
          [
           13
          ],
          [
           27
          ],
          [
           493
          ],
          [
           1
          ],
          [
           10
          ],
          [
           2
          ],
          [
           2
          ],
          [
           158
          ],
          [
           3
          ],
          [
           115
          ],
          [
           1
          ],
          [
           1
          ],
          [
           361
          ],
          [
           1
          ],
          [
           2
          ],
          [
           1
          ],
          [
           1
          ],
          [
           8
          ],
          [
           23
          ],
          [
           1383
          ],
          [
           746
          ],
          [
           7
          ],
          [
           69
          ],
          [
           5
          ],
          [
           11
          ],
          [
           4
          ],
          [
           16
          ],
          [
           20
          ],
          [
           22
          ],
          [
           2
          ],
          [
           1
          ],
          [
           2223
          ],
          [
           1
          ],
          [
           77
          ],
          [
           12
          ],
          [
           386
          ],
          [
           36
          ],
          [
           2
          ],
          [
           19
          ],
          [
           196
          ],
          [
           103
          ],
          [
           63
          ],
          [
           1
          ],
          [
           2
          ],
          [
           21
          ],
          [
           2
          ],
          [
           7
          ],
          [
           900
          ],
          [
           15
          ],
          [
           116
          ],
          [
           5
          ],
          [
           2
          ],
          [
           1
          ],
          [
           8
          ],
          [
           6
          ],
          [
           2
          ],
          [
           3
          ],
          [
           1
          ],
          [
           173
          ],
          [
           565
          ],
          [
           107
          ],
          [
           115
          ],
          [
           1
          ],
          [
           1
          ],
          [
           361
          ],
          [
           1
          ],
          [
           2
          ],
          [
           1
          ],
          [
           1
          ],
          [
           8
          ],
          [
           23
          ],
          [
           1383
          ],
          [
           746
          ],
          [
           7
          ],
          [
           69
          ],
          [
           5
          ],
          [
           11
          ],
          [
           4
          ],
          [
           16
          ],
          [
           20
          ],
          [
           22
          ],
          [
           2
          ],
          [
           1
          ],
          [
           2223
          ],
          [
           1
          ],
          [
           77
          ],
          [
           12
          ],
          [
           386
          ],
          [
           36
          ],
          [
           2
          ],
          [
           19
          ],
          [
           196
          ],
          [
           103
          ],
          [
           63
          ],
          [
           1
          ],
          [
           2
          ],
          [
           21
          ],
          [
           2
          ],
          [
           7
          ],
          [
           900
          ],
          [
           15
          ],
          [
           116
          ],
          [
           5
          ],
          [
           2
          ],
          [
           1
          ],
          [
           8
          ],
          [
           6
          ],
          [
           2
          ],
          [
           2
          ],
          [
           1
          ],
          [
           1
          ],
          [
           3
          ],
          [
           4
          ],
          [
           9
          ],
          [
           8
          ],
          [
           3
          ],
          [
           3
          ],
          [
           5
          ],
          [
           1220
          ],
          [
           10
          ],
          [
           823
          ],
          [
           52
          ],
          [
           2
          ],
          [
           9
          ],
          [
           2
          ],
          [
           23886
          ],
          [
           14
          ],
          [
           15
          ],
          [
           7
          ],
          [
           558
          ],
          [
           3
          ],
          [
           443
          ],
          [
           1
          ],
          [
           11
          ],
          [
           16
          ],
          [
           9
          ],
          [
           5
          ],
          [
           80
          ],
          [
           12
          ],
          [
           2
          ],
          [
           14
          ],
          [
           6
          ],
          [
           13
          ],
          [
           51
          ],
          [
           729
          ],
          [
           259
          ],
          [
           20.87878787878788
          ],
          [
           51
          ],
          [
           35
          ],
          [
           158
          ],
          [
           2
          ],
          [
           151
          ],
          [
           64
          ],
          [
           3
          ],
          [
           9
          ],
          [
           142
          ],
          [
           1
          ],
          [
           1
          ],
          [
           2
          ],
          [
           1
          ],
          [
           135
          ],
          [
           15
          ],
          [
           27008
          ],
          [
           10
          ],
          [
           2
          ],
          [
           77
          ],
          [
           5
          ],
          [
           23
          ],
          [
           24
          ],
          [
           1
          ],
          [
           126
          ],
          [
           4
          ],
          [
           19
          ],
          [
           1862
          ],
          [
           27
          ],
          [
           173
          ],
          [
           738
          ],
          [
           270
          ],
          [
           3655
          ],
          [
           40
          ],
          [
           82
          ],
          [
           1
          ],
          [
           1
          ],
          [
           17
          ],
          [
           6
          ],
          [
           1
          ],
          [
           4
          ],
          [
           434
          ],
          [
           7533
          ],
          [
           275
          ],
          [
           107
          ],
          [
           9
          ],
          [
           68.45161290322581
          ],
          [
           624
          ],
          [
           2270
          ],
          [
           6686
          ],
          [
           124
          ],
          [
           1029
          ],
          [
           565
          ],
          [
           27
          ],
          [
           493
          ],
          [
           33
          ],
          [
           1
          ],
          [
           7
          ],
          [
           90
          ],
          [
           2
          ],
          [
           3
          ],
          [
           712
          ],
          [
           1
          ],
          [
           107
          ],
          [
           152
          ],
          [
           21
          ],
          [
           1
          ],
          [
           14
          ],
          [
           83
          ],
          [
           3
          ],
          [
           46
          ],
          [
           5
          ],
          [
           203
          ],
          [
           2
          ],
          [
           34
          ],
          [
           10
          ],
          [
           147
          ],
          [
           3
          ],
          [
           25
          ],
          [
           442.8036157390996
          ],
          [
           1
          ],
          [
           1
          ],
          [
           361
          ],
          [
           1
          ],
          [
           2
          ],
          [
           1
          ],
          [
           89.02197802197803
          ],
          [
           19222.790341992455
          ],
          [
           441.0134831460674
          ],
          [
           8
          ],
          [
           23
          ],
          [
           1383
          ],
          [
           746
          ],
          [
           7
          ],
          [
           440.37446606549594
          ],
          [
           69
          ],
          [
           15
          ],
          [
           5
          ],
          [
           11
          ],
          [
           4
          ],
          [
           16
          ],
          [
           20
          ],
          [
           22
          ],
          [
           2
          ],
          [
           1
          ],
          [
           777.1805714285714
          ],
          [
           2223
          ],
          [
           1534.365310821182
          ],
          [
           145.61635220125785
          ],
          [
           1
          ],
          [
           77
          ],
          [
           1143.9884881043745
          ],
          [
           208.40886699507388
          ],
          [
           386
          ],
          [
           36
          ],
          [
           2
          ],
          [
           430.91181657848324
          ],
          [
           19
          ],
          [
           196
          ],
          [
           103
          ],
          [
           63
          ],
          [
           1
          ],
          [
           2
          ],
          [
           21
          ],
          [
           2
          ],
          [
           7
          ],
          [
           900
          ],
          [
           15
          ],
          [
           116
          ],
          [
           5
          ],
          [
           2
          ],
          [
           28.25423728813559
          ],
          [
           1
          ],
          [
           8
          ],
          [
           6
          ],
          [
           2
          ]
         ],
         "domain": {
          "x": [
           0,
           1
          ],
          "y": [
           0,
           1
          ]
         },
         "hovertemplate": "labels=%{label}<br>count_sum=%{value}<br>parent=%{parent}<br>id=%{id}<br>count=%{color}<extra></extra>",
         "ids": [
          "buffer/TCHAR/CWE-119!/CWE-120",
          "buffer/char/CWE-119!/CWE-120",
          "buffer/wchar_t/CWE-119!/CWE-120",
          "buffer/CopyMemory/CWE-120",
          "buffer/MultiByteToWideChar/CWE-120",
          "buffer/_tcscat/CWE-120",
          "buffer/_tcscpy/CWE-120",
          "buffer/bcopy/CWE-120",
          "buffer/fscanf/CWE-120",
          "buffer/memcpy/CWE-120",
          "buffer/sprintf/CWE-120",
          "buffer/sscanf/CWE-120",
          "buffer/strcat/CWE-120",
          "buffer/strcpy/CWE-120",
          "buffer/strncat/CWE-120",
          "buffer/strncpy/CWE-120",
          "buffer/vsprintf/CWE-120",
          "buffer/fgetc/CWE-120, CWE-20",
          "buffer/fscanf/CWE-120, CWE-20",
          "buffer/getc/CWE-120, CWE-20",
          "buffer/getchar/CWE-120, CWE-20",
          "buffer/getopt/CWE-120, CWE-20",
          "buffer/getopt_long/CWE-120, CWE-20",
          "buffer/gets/CWE-120, CWE-20",
          "buffer/read/CWE-120, CWE-20",
          "buffer/scanf/CWE-120, CWE-20",
          "buffer/sscanf/CWE-120, CWE-20",
          "buffer/vfscanf/CWE-120, CWE-20",
          "buffer/vscanf/CWE-120, CWE-20",
          "buffer/vsscanf/CWE-120, CWE-20",
          "buffer/realpath/CWE-120/CWE-785!",
          "buffer/_tcslen/CWE-126",
          "buffer/equal/CWE-126",
          "buffer/mismatch/CWE-126",
          "buffer/strlen/CWE-126",
          "format/_snprintf/CWE-134",
          "format/fprintf/CWE-134",
          "format/printf/CWE-134",
          "format/snprintf/CWE-134",
          "format/sprintf/CWE-134",
          "format/syslog/CWE-134",
          "format/vfprintf/CWE-134",
          "format/vprintf/CWE-134",
          "format/vsnprintf/CWE-134",
          "format/vsprintf/CWE-134",
          "integer/atoi/CWE-190",
          "integer/atol/CWE-190",
          "-/integerOverflow/CWE-190",
          "misc/chroot/CWE-250, CWE-22",
          "crypto/EVP_des_cbc/CWE-327",
          "crypto/EVP_des_ecb/CWE-327",
          "crypto/crypt/CWE-327",
          "random/jrand48/CWE-327",
          "random/random/CWE-327",
          "random/setstate/CWE-327",
          "random/srand/CWE-327",
          "random/srandom/CWE-327",
          "race/chmod/CWE-362",
          "race/chown/CWE-362",
          "misc/fopen/CWE-362",
          "misc/open/CWE-362",
          "race/vfork/CWE-362",
          "race/readlink/CWE-362, CWE-20",
          "race/access/CWE-362/CWE-367!",
          "-/zerodiv/CWE-369",
          "tmpfile/mkstemp/CWE-377",
          "tmpfile/mktemp/CWE-377",
          "tmpfile/tmpfile/CWE-377",
          "tmpfile/tmpnam/CWE-377",
          "-/memleak/CWE-401",
          "-/memleakOnRealloc/CWE-401",
          "-/doubleFree/CWE-415",
          "-/ctuuninitvar/CWE-457",
          "-/legacyUninitvar/CWE-457",
          "-/uninitStructMember/CWE-457",
          "-/uninitdata/CWE-457",
          "-/uninitvar/CWE-457",
          "-/ctunullpointer/CWE-476",
          "-/nullPointer/CWE-476",
          "-/autoVariables/CWE-562",
          "-/danglingLifetime/CWE-562",
          "-/returnDanglingLifetime/CWE-562",
          "-/comparePointers/CWE-570",
          "-/invalidFunctionArg/CWE-628",
          "-/va_end_missing/CWE-664",
          "-/va_list_usedBeforeStarted/CWE-664",
          "free/memalign/CWE-676",
          "obsolete/ulimit/CWE-676",
          "obsolete/usleep/CWE-676",
          "misc/getpass/CWE-676, CWE-120, CWE-20",
          "-/nullPointerArithmetic/CWE-682",
          "-/wrongPrintfScanfArgNum/CWE-685",
          "access/umask/CWE-732",
          "-/missingReturn/CWE-758",
          "-/objectIndex/CWE-758",
          "-/shiftNegative/CWE-758",
          "-/shiftTooManyBits/CWE-758",
          "-/mismatchAllocDealloc/CWE-762",
          "-/unknownEvaluationOrder/CWE-768",
          "-/leakReturnValNotUsed/CWE-771",
          "-/resourceLeak/CWE-775",
          "shell/execl/CWE-78",
          "shell/execle/CWE-78",
          "shell/execlp/CWE-78",
          "shell/execv/CWE-78",
          "shell/execvp/CWE-78",
          "shell/popen/CWE-78",
          "shell/system/CWE-78",
          "-/ctuArrayIndex/CWE-786",
          "-/arrayIndexOutOfBounds/CWE-788",
          "-/bufferAccessOutOfBounds/CWE-788",
          "misc/getlogin/CWE-807",
          "buffer/getenv/CWE-807, CWE-20",
          "misc/LoadLibrary/CWE-829, CWE-20",
          "-/-/CWE-unknown",
          "EVP_CipherUpdate/-/CWE-unknown",
          "MultiByteToWideChar/-/CWE-unknown",
          "Static Global Buffer/-/CWE-unknown",
          "WideCharToMultiByte/-/CWE-unknown",
          "_execve/-/CWE-unknown",
          "_tcslen/-/CWE-unknown",
          "access/-/CWE-unknown",
          "fgetc/-/CWE-unknown",
          "fgets/-/CWE-unknown",
          "fixed size global buffer/-/CWE-unknown",
          "fixed size local buffer/-/CWE-unknown",
          "fork/-/CWE-unknown",
          "fprintf/-/CWE-unknown",
          "fscanf/-/CWE-unknown",
          "getc/-/CWE-unknown",
          "getchar/-/CWE-unknown",
          "getenv/-/CWE-unknown",
          "gethostbyname/-/CWE-unknown",
          "getopt/-/CWE-unknown",
          "getopt_long/-/CWE-unknown",
          "i2t_ASN1_OBJECT/-/CWE-unknown",
          "memcpy/-/CWE-unknown",
          "popen/-/CWE-unknown",
          "printf/-/CWE-unknown",
          "random/-/CWE-unknown",
          "read/-/CWE-unknown",
          "realloc/-/CWE-unknown",
          "scanf/-/CWE-unknown",
          "signal/-/CWE-unknown",
          "snprintf/-/CWE-unknown",
          "sprintf/-/CWE-unknown",
          "srand/-/CWE-unknown",
          "srandom/-/CWE-unknown",
          "sscanf/-/CWE-unknown",
          "stat/-/CWE-unknown",
          "strlcat/-/CWE-unknown",
          "strlcpy/-/CWE-unknown",
          "strlen/-/CWE-unknown",
          "strncat/-/CWE-unknown",
          "strncpy/-/CWE-unknown",
          "syslog/-/CWE-unknown",
          "system/-/CWE-unknown",
          "umask/-/CWE-unknown",
          "vfprintf/-/CWE-unknown",
          "vprintf/-/CWE-unknown",
          "vsprintf/-/CWE-unknown",
          "-/cppcheckError/CWE-unknown",
          "-/internalAstError/CWE-unknown",
          "-/preprocessorErrorDirective/CWE-unknown",
          "-/syntaxError/CWE-unknown",
          "-/unknownMacro/CWE-unknown",
          "-/-",
          "EVP_CipherUpdate/-",
          "MultiByteToWideChar/-",
          "Static Global Buffer/-",
          "WideCharToMultiByte/-",
          "_execve/-",
          "_tcslen/-",
          "access/-",
          "fgetc/-",
          "fgets/-",
          "fixed size global buffer/-",
          "fixed size local buffer/-",
          "fork/-",
          "fprintf/-",
          "fscanf/-",
          "getc/-",
          "getchar/-",
          "getenv/-",
          "gethostbyname/-",
          "getopt/-",
          "getopt_long/-",
          "i2t_ASN1_OBJECT/-",
          "memcpy/-",
          "popen/-",
          "printf/-",
          "random/-",
          "read/-",
          "realloc/-",
          "scanf/-",
          "signal/-",
          "snprintf/-",
          "sprintf/-",
          "srand/-",
          "srandom/-",
          "sscanf/-",
          "stat/-",
          "strlcat/-",
          "strlcpy/-",
          "strlen/-",
          "strncat/-",
          "strncpy/-",
          "syslog/-",
          "system/-",
          "umask/-",
          "vfprintf/-",
          "vprintf/-",
          "vsprintf/-",
          "buffer/CopyMemory",
          "crypto/EVP_des_cbc",
          "crypto/EVP_des_ecb",
          "misc/LoadLibrary",
          "buffer/MultiByteToWideChar",
          "buffer/TCHAR",
          "format/_snprintf",
          "buffer/_tcscat",
          "buffer/_tcscpy",
          "buffer/_tcslen",
          "race/access",
          "-/arrayIndexOutOfBounds",
          "integer/atoi",
          "integer/atol",
          "-/autoVariables",
          "buffer/bcopy",
          "-/bufferAccessOutOfBounds",
          "buffer/char",
          "race/chmod",
          "race/chown",
          "misc/chroot",
          "-/comparePointers",
          "-/cppcheckError",
          "crypto/crypt",
          "-/ctuArrayIndex",
          "-/ctunullpointer",
          "-/ctuuninitvar",
          "-/danglingLifetime",
          "-/doubleFree",
          "buffer/equal",
          "shell/execl",
          "shell/execle",
          "shell/execlp",
          "shell/execv",
          "shell/execvp",
          "buffer/fgetc",
          "misc/fopen",
          "format/fprintf",
          "buffer/fscanf",
          "buffer/getc",
          "buffer/getchar",
          "buffer/getenv",
          "misc/getlogin",
          "buffer/getopt",
          "buffer/getopt_long",
          "misc/getpass",
          "buffer/gets",
          "-/integerOverflow",
          "-/internalAstError",
          "-/invalidFunctionArg",
          "random/jrand48",
          "-/leakReturnValNotUsed",
          "-/legacyUninitvar",
          "free/memalign",
          "buffer/memcpy",
          "-/memleak",
          "-/memleakOnRealloc",
          "buffer/mismatch",
          "-/mismatchAllocDealloc",
          "-/missingReturn",
          "tmpfile/mkstemp",
          "tmpfile/mktemp",
          "-/nullPointer",
          "-/nullPointerArithmetic",
          "-/objectIndex",
          "misc/open",
          "shell/popen",
          "-/preprocessorErrorDirective",
          "format/printf",
          "random/random",
          "buffer/read",
          "race/readlink",
          "buffer/realpath",
          "-/resourceLeak",
          "-/returnDanglingLifetime",
          "buffer/scanf",
          "random/setstate",
          "-/shiftNegative",
          "-/shiftTooManyBits",
          "format/snprintf",
          "buffer/sprintf",
          "format/sprintf",
          "random/srand",
          "random/srandom",
          "buffer/sscanf",
          "buffer/strcat",
          "buffer/strcpy",
          "buffer/strlen",
          "buffer/strncat",
          "buffer/strncpy",
          "-/syntaxError",
          "format/syslog",
          "shell/system",
          "tmpfile/tmpfile",
          "tmpfile/tmpnam",
          "obsolete/ulimit",
          "access/umask",
          "-/uninitStructMember",
          "-/uninitdata",
          "-/uninitvar",
          "-/unknownEvaluationOrder",
          "-/unknownMacro",
          "obsolete/usleep",
          "-/va_end_missing",
          "-/va_list_usedBeforeStarted",
          "race/vfork",
          "format/vfprintf",
          "buffer/vfscanf",
          "format/vprintf",
          "buffer/vscanf",
          "format/vsnprintf",
          "buffer/vsprintf",
          "format/vsprintf",
          "buffer/vsscanf",
          "buffer/wchar_t",
          "-/wrongPrintfScanfArgNum",
          "-/zerodiv",
          "-",
          "EVP_CipherUpdate",
          "MultiByteToWideChar",
          "Static Global Buffer",
          "WideCharToMultiByte",
          "_execve",
          "_tcslen",
          "access",
          "buffer",
          "crypto",
          "fgetc",
          "fgets",
          "fixed size global buffer",
          "fixed size local buffer",
          "fork",
          "format",
          "fprintf",
          "free",
          "fscanf",
          "getc",
          "getchar",
          "getenv",
          "gethostbyname",
          "getopt",
          "getopt_long",
          "i2t_ASN1_OBJECT",
          "integer",
          "memcpy",
          "misc",
          "obsolete",
          "popen",
          "printf",
          "race",
          "random",
          "read",
          "realloc",
          "scanf",
          "shell",
          "signal",
          "snprintf",
          "sprintf",
          "srand",
          "srandom",
          "sscanf",
          "stat",
          "strlcat",
          "strlcpy",
          "strlen",
          "strncat",
          "strncpy",
          "syslog",
          "system",
          "tmpfile",
          "umask",
          "vfprintf",
          "vprintf",
          "vsprintf"
         ],
         "labels": [
          "CWE-119!/CWE-120",
          "CWE-119!/CWE-120",
          "CWE-119!/CWE-120",
          "CWE-120",
          "CWE-120",
          "CWE-120",
          "CWE-120",
          "CWE-120",
          "CWE-120",
          "CWE-120",
          "CWE-120",
          "CWE-120",
          "CWE-120",
          "CWE-120",
          "CWE-120",
          "CWE-120",
          "CWE-120",
          "CWE-120, CWE-20",
          "CWE-120, CWE-20",
          "CWE-120, CWE-20",
          "CWE-120, CWE-20",
          "CWE-120, CWE-20",
          "CWE-120, CWE-20",
          "CWE-120, CWE-20",
          "CWE-120, CWE-20",
          "CWE-120, CWE-20",
          "CWE-120, CWE-20",
          "CWE-120, CWE-20",
          "CWE-120, CWE-20",
          "CWE-120, CWE-20",
          "CWE-120/CWE-785!",
          "CWE-126",
          "CWE-126",
          "CWE-126",
          "CWE-126",
          "CWE-134",
          "CWE-134",
          "CWE-134",
          "CWE-134",
          "CWE-134",
          "CWE-134",
          "CWE-134",
          "CWE-134",
          "CWE-134",
          "CWE-134",
          "CWE-190",
          "CWE-190",
          "CWE-190",
          "CWE-250, CWE-22",
          "CWE-327",
          "CWE-327",
          "CWE-327",
          "CWE-327",
          "CWE-327",
          "CWE-327",
          "CWE-327",
          "CWE-327",
          "CWE-362",
          "CWE-362",
          "CWE-362",
          "CWE-362",
          "CWE-362",
          "CWE-362, CWE-20",
          "CWE-362/CWE-367!",
          "CWE-369",
          "CWE-377",
          "CWE-377",
          "CWE-377",
          "CWE-377",
          "CWE-401",
          "CWE-401",
          "CWE-415",
          "CWE-457",
          "CWE-457",
          "CWE-457",
          "CWE-457",
          "CWE-457",
          "CWE-476",
          "CWE-476",
          "CWE-562",
          "CWE-562",
          "CWE-562",
          "CWE-570",
          "CWE-628",
          "CWE-664",
          "CWE-664",
          "CWE-676",
          "CWE-676",
          "CWE-676",
          "CWE-676, CWE-120, CWE-20",
          "CWE-682",
          "CWE-685",
          "CWE-732",
          "CWE-758",
          "CWE-758",
          "CWE-758",
          "CWE-758",
          "CWE-762",
          "CWE-768",
          "CWE-771",
          "CWE-775",
          "CWE-78",
          "CWE-78",
          "CWE-78",
          "CWE-78",
          "CWE-78",
          "CWE-78",
          "CWE-78",
          "CWE-786",
          "CWE-788",
          "CWE-788",
          "CWE-807",
          "CWE-807, CWE-20",
          "CWE-829, CWE-20",
          "CWE-unknown",
          "CWE-unknown",
          "CWE-unknown",
          "CWE-unknown",
          "CWE-unknown",
          "CWE-unknown",
          "CWE-unknown",
          "CWE-unknown",
          "CWE-unknown",
          "CWE-unknown",
          "CWE-unknown",
          "CWE-unknown",
          "CWE-unknown",
          "CWE-unknown",
          "CWE-unknown",
          "CWE-unknown",
          "CWE-unknown",
          "CWE-unknown",
          "CWE-unknown",
          "CWE-unknown",
          "CWE-unknown",
          "CWE-unknown",
          "CWE-unknown",
          "CWE-unknown",
          "CWE-unknown",
          "CWE-unknown",
          "CWE-unknown",
          "CWE-unknown",
          "CWE-unknown",
          "CWE-unknown",
          "CWE-unknown",
          "CWE-unknown",
          "CWE-unknown",
          "CWE-unknown",
          "CWE-unknown",
          "CWE-unknown",
          "CWE-unknown",
          "CWE-unknown",
          "CWE-unknown",
          "CWE-unknown",
          "CWE-unknown",
          "CWE-unknown",
          "CWE-unknown",
          "CWE-unknown",
          "CWE-unknown",
          "CWE-unknown",
          "CWE-unknown",
          "CWE-unknown",
          "CWE-unknown",
          "CWE-unknown",
          "CWE-unknown",
          "CWE-unknown",
          "-",
          "-",
          "-",
          "-",
          "-",
          "-",
          "-",
          "-",
          "-",
          "-",
          "-",
          "-",
          "-",
          "-",
          "-",
          "-",
          "-",
          "-",
          "-",
          "-",
          "-",
          "-",
          "-",
          "-",
          "-",
          "-",
          "-",
          "-",
          "-",
          "-",
          "-",
          "-",
          "-",
          "-",
          "-",
          "-",
          "-",
          "-",
          "-",
          "-",
          "-",
          "-",
          "-",
          "-",
          "-",
          "-",
          "-",
          "CopyMemory",
          "EVP_des_cbc",
          "EVP_des_ecb",
          "LoadLibrary",
          "MultiByteToWideChar",
          "TCHAR",
          "_snprintf",
          "_tcscat",
          "_tcscpy",
          "_tcslen",
          "access",
          "arrayIndexOutOfBounds",
          "atoi",
          "atol",
          "autoVariables",
          "bcopy",
          "bufferAccessOutOfBounds",
          "char",
          "chmod",
          "chown",
          "chroot",
          "comparePointers",
          "cppcheckError",
          "crypt",
          "ctuArrayIndex",
          "ctunullpointer",
          "ctuuninitvar",
          "danglingLifetime",
          "doubleFree",
          "equal",
          "execl",
          "execle",
          "execlp",
          "execv",
          "execvp",
          "fgetc",
          "fopen",
          "fprintf",
          "fscanf",
          "getc",
          "getchar",
          "getenv",
          "getlogin",
          "getopt",
          "getopt_long",
          "getpass",
          "gets",
          "integerOverflow",
          "internalAstError",
          "invalidFunctionArg",
          "jrand48",
          "leakReturnValNotUsed",
          "legacyUninitvar",
          "memalign",
          "memcpy",
          "memleak",
          "memleakOnRealloc",
          "mismatch",
          "mismatchAllocDealloc",
          "missingReturn",
          "mkstemp",
          "mktemp",
          "nullPointer",
          "nullPointerArithmetic",
          "objectIndex",
          "open",
          "popen",
          "preprocessorErrorDirective",
          "printf",
          "random",
          "read",
          "readlink",
          "realpath",
          "resourceLeak",
          "returnDanglingLifetime",
          "scanf",
          "setstate",
          "shiftNegative",
          "shiftTooManyBits",
          "snprintf",
          "sprintf",
          "sprintf",
          "srand",
          "srandom",
          "sscanf",
          "strcat",
          "strcpy",
          "strlen",
          "strncat",
          "strncpy",
          "syntaxError",
          "syslog",
          "system",
          "tmpfile",
          "tmpnam",
          "ulimit",
          "umask",
          "uninitStructMember",
          "uninitdata",
          "uninitvar",
          "unknownEvaluationOrder",
          "unknownMacro",
          "usleep",
          "va_end_missing",
          "va_list_usedBeforeStarted",
          "vfork",
          "vfprintf",
          "vfscanf",
          "vprintf",
          "vscanf",
          "vsnprintf",
          "vsprintf",
          "vsprintf",
          "vsscanf",
          "wchar_t",
          "wrongPrintfScanfArgNum",
          "zerodiv",
          "-",
          "EVP_CipherUpdate",
          "MultiByteToWideChar",
          "Static Global Buffer",
          "WideCharToMultiByte",
          "_execve",
          "_tcslen",
          "access",
          "buffer",
          "crypto",
          "fgetc",
          "fgets",
          "fixed size global buffer",
          "fixed size local buffer",
          "fork",
          "format",
          "fprintf",
          "free",
          "fscanf",
          "getc",
          "getchar",
          "getenv",
          "gethostbyname",
          "getopt",
          "getopt_long",
          "i2t_ASN1_OBJECT",
          "integer",
          "memcpy",
          "misc",
          "obsolete",
          "popen",
          "printf",
          "race",
          "random",
          "read",
          "realloc",
          "scanf",
          "shell",
          "signal",
          "snprintf",
          "sprintf",
          "srand",
          "srandom",
          "sscanf",
          "stat",
          "strlcat",
          "strlcpy",
          "strlen",
          "strncat",
          "strncpy",
          "syslog",
          "system",
          "tmpfile",
          "umask",
          "vfprintf",
          "vprintf",
          "vsprintf"
         ],
         "marker": {
          "coloraxis": "coloraxis",
          "colors": [
           9,
           23886,
           147,
           2,
           4,
           3,
           3,
           9,
           8,
           27008,
           7533,
           42,
           624,
           2270,
           124,
           1029,
           2,
           51,
           25,
           51,
           35,
           151,
           64,
           9,
           3655,
           17,
           82,
           3,
           5,
           10,
           82,
           5,
           80,
           77,
           6686,
           8,
           259,
           738,
           434,
           275,
           27,
           83,
           46,
           203,
           34,
           823,
           52,
           142,
           7,
           1,
           1,
           443,
           2,
           270,
           6,
           107,
           9,
           14,
           15,
           729,
           1862,
           14,
           40,
           1220,
           25,
           24,
           1,
           33,
           1,
           10,
           2,
           5,
           16,
           135,
           2,
           3,
           712,
           11,
           126,
           2,
           9,
           1,
           558,
           1,
           21,
           1,
           15,
           7,
           152,
           3,
           4,
           3,
           90,
           23,
           19,
           1,
           4,
           5,
           1,
           1,
           1,
           12,
           2,
           14,
           6,
           13,
           27,
           493,
           1,
           10,
           2,
           2,
           158,
           3,
           115,
           1,
           1,
           361,
           1,
           2,
           1,
           1,
           8,
           23,
           1383,
           746,
           7,
           69,
           5,
           11,
           4,
           16,
           20,
           22,
           2,
           1,
           2223,
           1,
           77,
           12,
           386,
           36,
           2,
           19,
           196,
           103,
           63,
           1,
           2,
           21,
           2,
           7,
           900,
           15,
           116,
           5,
           2,
           1,
           8,
           6,
           2,
           3,
           1,
           173,
           565,
           107,
           115,
           1,
           1,
           361,
           1,
           2,
           1,
           1,
           8,
           23,
           1383,
           746,
           7,
           69,
           5,
           11,
           4,
           16,
           20,
           22,
           2,
           1,
           2223,
           1,
           77,
           12,
           386,
           36,
           2,
           19,
           196,
           103,
           63,
           1,
           2,
           21,
           2,
           7,
           900,
           15,
           116,
           5,
           2,
           1,
           8,
           6,
           2,
           2,
           1,
           1,
           3,
           4,
           9,
           8,
           3,
           3,
           5,
           1220,
           10,
           823,
           52,
           2,
           9,
           2,
           23886,
           14,
           15,
           7,
           558,
           3,
           443,
           1,
           11,
           16,
           9,
           5,
           80,
           12,
           2,
           14,
           6,
           13,
           51,
           729,
           259,
           20.87878787878788,
           51,
           35,
           158,
           2,
           151,
           64,
           3,
           9,
           142,
           1,
           1,
           2,
           1,
           135,
           15,
           27008,
           10,
           2,
           77,
           5,
           23,
           24,
           1,
           126,
           4,
           19,
           1862,
           27,
           173,
           738,
           270,
           3655,
           40,
           82,
           1,
           1,
           17,
           6,
           1,
           4,
           434,
           7533,
           275,
           107,
           9,
           68.45161290322581,
           624,
           2270,
           6686,
           124,
           1029,
           565,
           27,
           493,
           33,
           1,
           7,
           90,
           2,
           3,
           712,
           1,
           107,
           152,
           21,
           1,
           14,
           83,
           3,
           46,
           5,
           203,
           2,
           34,
           10,
           147,
           3,
           25,
           442.8036157390996,
           1,
           1,
           361,
           1,
           2,
           1,
           89.02197802197803,
           19222.790341992455,
           441.0134831460674,
           8,
           23,
           1383,
           746,
           7,
           440.37446606549594,
           69,
           15,
           5,
           11,
           4,
           16,
           20,
           22,
           2,
           1,
           777.1805714285714,
           2223,
           1534.365310821182,
           145.61635220125785,
           1,
           77,
           1143.9884881043745,
           208.40886699507388,
           386,
           36,
           2,
           430.91181657848324,
           19,
           196,
           103,
           63,
           1,
           2,
           21,
           2,
           7,
           900,
           15,
           116,
           5,
           2,
           28.25423728813559,
           1,
           8,
           6,
           2
          ]
         },
         "name": "",
         "parents": [
          "buffer/TCHAR",
          "buffer/char",
          "buffer/wchar_t",
          "buffer/CopyMemory",
          "buffer/MultiByteToWideChar",
          "buffer/_tcscat",
          "buffer/_tcscpy",
          "buffer/bcopy",
          "buffer/fscanf",
          "buffer/memcpy",
          "buffer/sprintf",
          "buffer/sscanf",
          "buffer/strcat",
          "buffer/strcpy",
          "buffer/strncat",
          "buffer/strncpy",
          "buffer/vsprintf",
          "buffer/fgetc",
          "buffer/fscanf",
          "buffer/getc",
          "buffer/getchar",
          "buffer/getopt",
          "buffer/getopt_long",
          "buffer/gets",
          "buffer/read",
          "buffer/scanf",
          "buffer/sscanf",
          "buffer/vfscanf",
          "buffer/vscanf",
          "buffer/vsscanf",
          "buffer/realpath",
          "buffer/_tcslen",
          "buffer/equal",
          "buffer/mismatch",
          "buffer/strlen",
          "format/_snprintf",
          "format/fprintf",
          "format/printf",
          "format/snprintf",
          "format/sprintf",
          "format/syslog",
          "format/vfprintf",
          "format/vprintf",
          "format/vsnprintf",
          "format/vsprintf",
          "integer/atoi",
          "integer/atol",
          "-/integerOverflow",
          "misc/chroot",
          "crypto/EVP_des_cbc",
          "crypto/EVP_des_ecb",
          "crypto/crypt",
          "random/jrand48",
          "random/random",
          "random/setstate",
          "random/srand",
          "random/srandom",
          "race/chmod",
          "race/chown",
          "misc/fopen",
          "misc/open",
          "race/vfork",
          "race/readlink",
          "race/access",
          "-/zerodiv",
          "tmpfile/mkstemp",
          "tmpfile/mktemp",
          "tmpfile/tmpfile",
          "tmpfile/tmpnam",
          "-/memleak",
          "-/memleakOnRealloc",
          "-/doubleFree",
          "-/ctuuninitvar",
          "-/legacyUninitvar",
          "-/uninitStructMember",
          "-/uninitdata",
          "-/uninitvar",
          "-/ctunullpointer",
          "-/nullPointer",
          "-/autoVariables",
          "-/danglingLifetime",
          "-/returnDanglingLifetime",
          "-/comparePointers",
          "-/invalidFunctionArg",
          "-/va_end_missing",
          "-/va_list_usedBeforeStarted",
          "free/memalign",
          "obsolete/ulimit",
          "obsolete/usleep",
          "misc/getpass",
          "-/nullPointerArithmetic",
          "-/wrongPrintfScanfArgNum",
          "access/umask",
          "-/missingReturn",
          "-/objectIndex",
          "-/shiftNegative",
          "-/shiftTooManyBits",
          "-/mismatchAllocDealloc",
          "-/unknownEvaluationOrder",
          "-/leakReturnValNotUsed",
          "-/resourceLeak",
          "shell/execl",
          "shell/execle",
          "shell/execlp",
          "shell/execv",
          "shell/execvp",
          "shell/popen",
          "shell/system",
          "-/ctuArrayIndex",
          "-/arrayIndexOutOfBounds",
          "-/bufferAccessOutOfBounds",
          "misc/getlogin",
          "buffer/getenv",
          "misc/LoadLibrary",
          "-/-",
          "EVP_CipherUpdate/-",
          "MultiByteToWideChar/-",
          "Static Global Buffer/-",
          "WideCharToMultiByte/-",
          "_execve/-",
          "_tcslen/-",
          "access/-",
          "fgetc/-",
          "fgets/-",
          "fixed size global buffer/-",
          "fixed size local buffer/-",
          "fork/-",
          "fprintf/-",
          "fscanf/-",
          "getc/-",
          "getchar/-",
          "getenv/-",
          "gethostbyname/-",
          "getopt/-",
          "getopt_long/-",
          "i2t_ASN1_OBJECT/-",
          "memcpy/-",
          "popen/-",
          "printf/-",
          "random/-",
          "read/-",
          "realloc/-",
          "scanf/-",
          "signal/-",
          "snprintf/-",
          "sprintf/-",
          "srand/-",
          "srandom/-",
          "sscanf/-",
          "stat/-",
          "strlcat/-",
          "strlcpy/-",
          "strlen/-",
          "strncat/-",
          "strncpy/-",
          "syslog/-",
          "system/-",
          "umask/-",
          "vfprintf/-",
          "vprintf/-",
          "vsprintf/-",
          "-/cppcheckError",
          "-/internalAstError",
          "-/preprocessorErrorDirective",
          "-/syntaxError",
          "-/unknownMacro",
          "-",
          "EVP_CipherUpdate",
          "MultiByteToWideChar",
          "Static Global Buffer",
          "WideCharToMultiByte",
          "_execve",
          "_tcslen",
          "access",
          "fgetc",
          "fgets",
          "fixed size global buffer",
          "fixed size local buffer",
          "fork",
          "fprintf",
          "fscanf",
          "getc",
          "getchar",
          "getenv",
          "gethostbyname",
          "getopt",
          "getopt_long",
          "i2t_ASN1_OBJECT",
          "memcpy",
          "popen",
          "printf",
          "random",
          "read",
          "realloc",
          "scanf",
          "signal",
          "snprintf",
          "sprintf",
          "srand",
          "srandom",
          "sscanf",
          "stat",
          "strlcat",
          "strlcpy",
          "strlen",
          "strncat",
          "strncpy",
          "syslog",
          "system",
          "umask",
          "vfprintf",
          "vprintf",
          "vsprintf",
          "buffer",
          "crypto",
          "crypto",
          "misc",
          "buffer",
          "buffer",
          "format",
          "buffer",
          "buffer",
          "buffer",
          "race",
          "-",
          "integer",
          "integer",
          "-",
          "buffer",
          "-",
          "buffer",
          "race",
          "race",
          "misc",
          "-",
          "-",
          "crypto",
          "-",
          "-",
          "-",
          "-",
          "-",
          "buffer",
          "shell",
          "shell",
          "shell",
          "shell",
          "shell",
          "buffer",
          "misc",
          "format",
          "buffer",
          "buffer",
          "buffer",
          "buffer",
          "misc",
          "buffer",
          "buffer",
          "misc",
          "buffer",
          "-",
          "-",
          "-",
          "random",
          "-",
          "-",
          "free",
          "buffer",
          "-",
          "-",
          "buffer",
          "-",
          "-",
          "tmpfile",
          "tmpfile",
          "-",
          "-",
          "-",
          "misc",
          "shell",
          "-",
          "format",
          "random",
          "buffer",
          "race",
          "buffer",
          "-",
          "-",
          "buffer",
          "random",
          "-",
          "-",
          "format",
          "buffer",
          "format",
          "random",
          "random",
          "buffer",
          "buffer",
          "buffer",
          "buffer",
          "buffer",
          "buffer",
          "-",
          "format",
          "shell",
          "tmpfile",
          "tmpfile",
          "obsolete",
          "access",
          "-",
          "-",
          "-",
          "-",
          "-",
          "obsolete",
          "-",
          "-",
          "race",
          "format",
          "buffer",
          "format",
          "buffer",
          "format",
          "buffer",
          "format",
          "buffer",
          "buffer",
          "-",
          "-",
          "",
          "",
          "",
          "",
          "",
          "",
          "",
          "",
          "",
          "",
          "",
          "",
          "",
          "",
          "",
          "",
          "",
          "",
          "",
          "",
          "",
          "",
          "",
          "",
          "",
          "",
          "",
          "",
          "",
          "",
          "",
          "",
          "",
          "",
          "",
          "",
          "",
          "",
          "",
          "",
          "",
          "",
          "",
          "",
          "",
          "",
          "",
          "",
          "",
          "",
          "",
          "",
          "",
          "",
          "",
          "",
          ""
         ],
         "type": "sunburst",
         "values": [
          9,
          23886,
          147,
          2,
          4,
          3,
          3,
          9,
          8,
          27008,
          7533,
          42,
          624,
          2270,
          124,
          1029,
          2,
          51,
          25,
          51,
          35,
          151,
          64,
          9,
          3655,
          17,
          82,
          3,
          5,
          10,
          82,
          5,
          80,
          77,
          6686,
          8,
          259,
          738,
          434,
          275,
          27,
          83,
          46,
          203,
          34,
          823,
          52,
          142,
          7,
          1,
          1,
          443,
          2,
          270,
          6,
          107,
          9,
          14,
          15,
          729,
          1862,
          14,
          40,
          1220,
          25,
          24,
          1,
          33,
          1,
          10,
          2,
          5,
          16,
          135,
          2,
          3,
          712,
          11,
          126,
          2,
          9,
          1,
          558,
          1,
          21,
          1,
          15,
          7,
          152,
          3,
          4,
          3,
          90,
          23,
          19,
          1,
          4,
          5,
          1,
          1,
          1,
          12,
          2,
          14,
          6,
          13,
          27,
          493,
          1,
          10,
          2,
          2,
          158,
          3,
          115,
          1,
          1,
          361,
          1,
          2,
          1,
          1,
          8,
          23,
          1383,
          746,
          7,
          69,
          5,
          11,
          4,
          16,
          20,
          22,
          2,
          1,
          2223,
          1,
          77,
          12,
          386,
          36,
          2,
          19,
          196,
          103,
          63,
          1,
          2,
          21,
          2,
          7,
          900,
          15,
          116,
          5,
          2,
          1,
          8,
          6,
          2,
          3,
          1,
          173,
          565,
          107,
          115,
          1,
          1,
          361,
          1,
          2,
          1,
          1,
          8,
          23,
          1383,
          746,
          7,
          69,
          5,
          11,
          4,
          16,
          20,
          22,
          2,
          1,
          2223,
          1,
          77,
          12,
          386,
          36,
          2,
          19,
          196,
          103,
          63,
          1,
          2,
          21,
          2,
          7,
          900,
          15,
          116,
          5,
          2,
          1,
          8,
          6,
          2,
          2,
          1,
          1,
          3,
          4,
          9,
          8,
          3,
          3,
          5,
          1220,
          10,
          823,
          52,
          2,
          9,
          2,
          23886,
          14,
          15,
          7,
          558,
          3,
          443,
          1,
          11,
          16,
          9,
          5,
          80,
          12,
          2,
          14,
          6,
          13,
          51,
          729,
          259,
          33,
          51,
          35,
          158,
          2,
          151,
          64,
          3,
          9,
          142,
          1,
          1,
          2,
          1,
          135,
          15,
          27008,
          10,
          2,
          77,
          5,
          23,
          24,
          1,
          126,
          4,
          19,
          1862,
          27,
          173,
          738,
          270,
          3655,
          40,
          82,
          1,
          1,
          17,
          6,
          1,
          4,
          434,
          7533,
          275,
          107,
          9,
          124,
          624,
          2270,
          6686,
          124,
          1029,
          565,
          27,
          493,
          33,
          1,
          7,
          90,
          2,
          3,
          712,
          1,
          107,
          152,
          21,
          1,
          14,
          83,
          3,
          46,
          5,
          203,
          2,
          34,
          10,
          147,
          3,
          25,
          2821,
          1,
          1,
          361,
          1,
          2,
          1,
          91,
          73949,
          445,
          8,
          23,
          1383,
          746,
          7,
          2107,
          69,
          15,
          5,
          11,
          4,
          16,
          20,
          22,
          2,
          1,
          875,
          2223,
          2606,
          159,
          1,
          77,
          1303,
          406,
          386,
          36,
          2,
          567,
          19,
          196,
          103,
          63,
          1,
          2,
          21,
          2,
          7,
          900,
          15,
          116,
          5,
          2,
          59,
          1,
          8,
          6,
          2
         ]
        }
       ],
       "layout": {
        "autosize": false,
        "coloraxis": {
         "colorbar": {
          "title": {
           "text": "count"
          }
         },
         "colorscale": [
          [
           0,
           "rgb(247,251,255)"
          ],
          [
           0.125,
           "rgb(222,235,247)"
          ],
          [
           0.25,
           "rgb(198,219,239)"
          ],
          [
           0.375,
           "rgb(158,202,225)"
          ],
          [
           0.5,
           "rgb(107,174,214)"
          ],
          [
           0.625,
           "rgb(66,146,198)"
          ],
          [
           0.75,
           "rgb(33,113,181)"
          ],
          [
           0.875,
           "rgb(8,81,156)"
          ],
          [
           1,
           "rgb(8,48,107)"
          ]
         ]
        },
        "height": 800,
        "legend": {
         "tracegroupgap": 0
        },
        "margin": {
         "t": 60
        },
        "template": {
         "data": {
          "bar": [
           {
            "error_x": {
             "color": "#2a3f5f"
            },
            "error_y": {
             "color": "#2a3f5f"
            },
            "marker": {
             "line": {
              "color": "#E5ECF6",
              "width": 0.5
             },
             "pattern": {
              "fillmode": "overlay",
              "size": 10,
              "solidity": 0.2
             }
            },
            "type": "bar"
           }
          ],
          "barpolar": [
           {
            "marker": {
             "line": {
              "color": "#E5ECF6",
              "width": 0.5
             },
             "pattern": {
              "fillmode": "overlay",
              "size": 10,
              "solidity": 0.2
             }
            },
            "type": "barpolar"
           }
          ],
          "carpet": [
           {
            "aaxis": {
             "endlinecolor": "#2a3f5f",
             "gridcolor": "white",
             "linecolor": "white",
             "minorgridcolor": "white",
             "startlinecolor": "#2a3f5f"
            },
            "baxis": {
             "endlinecolor": "#2a3f5f",
             "gridcolor": "white",
             "linecolor": "white",
             "minorgridcolor": "white",
             "startlinecolor": "#2a3f5f"
            },
            "type": "carpet"
           }
          ],
          "choropleth": [
           {
            "colorbar": {
             "outlinewidth": 0,
             "ticks": ""
            },
            "type": "choropleth"
           }
          ],
          "contour": [
           {
            "colorbar": {
             "outlinewidth": 0,
             "ticks": ""
            },
            "colorscale": [
             [
              0,
              "#0d0887"
             ],
             [
              0.1111111111111111,
              "#46039f"
             ],
             [
              0.2222222222222222,
              "#7201a8"
             ],
             [
              0.3333333333333333,
              "#9c179e"
             ],
             [
              0.4444444444444444,
              "#bd3786"
             ],
             [
              0.5555555555555556,
              "#d8576b"
             ],
             [
              0.6666666666666666,
              "#ed7953"
             ],
             [
              0.7777777777777778,
              "#fb9f3a"
             ],
             [
              0.8888888888888888,
              "#fdca26"
             ],
             [
              1,
              "#f0f921"
             ]
            ],
            "type": "contour"
           }
          ],
          "contourcarpet": [
           {
            "colorbar": {
             "outlinewidth": 0,
             "ticks": ""
            },
            "type": "contourcarpet"
           }
          ],
          "heatmap": [
           {
            "colorbar": {
             "outlinewidth": 0,
             "ticks": ""
            },
            "colorscale": [
             [
              0,
              "#0d0887"
             ],
             [
              0.1111111111111111,
              "#46039f"
             ],
             [
              0.2222222222222222,
              "#7201a8"
             ],
             [
              0.3333333333333333,
              "#9c179e"
             ],
             [
              0.4444444444444444,
              "#bd3786"
             ],
             [
              0.5555555555555556,
              "#d8576b"
             ],
             [
              0.6666666666666666,
              "#ed7953"
             ],
             [
              0.7777777777777778,
              "#fb9f3a"
             ],
             [
              0.8888888888888888,
              "#fdca26"
             ],
             [
              1,
              "#f0f921"
             ]
            ],
            "type": "heatmap"
           }
          ],
          "heatmapgl": [
           {
            "colorbar": {
             "outlinewidth": 0,
             "ticks": ""
            },
            "colorscale": [
             [
              0,
              "#0d0887"
             ],
             [
              0.1111111111111111,
              "#46039f"
             ],
             [
              0.2222222222222222,
              "#7201a8"
             ],
             [
              0.3333333333333333,
              "#9c179e"
             ],
             [
              0.4444444444444444,
              "#bd3786"
             ],
             [
              0.5555555555555556,
              "#d8576b"
             ],
             [
              0.6666666666666666,
              "#ed7953"
             ],
             [
              0.7777777777777778,
              "#fb9f3a"
             ],
             [
              0.8888888888888888,
              "#fdca26"
             ],
             [
              1,
              "#f0f921"
             ]
            ],
            "type": "heatmapgl"
           }
          ],
          "histogram": [
           {
            "marker": {
             "pattern": {
              "fillmode": "overlay",
              "size": 10,
              "solidity": 0.2
             }
            },
            "type": "histogram"
           }
          ],
          "histogram2d": [
           {
            "colorbar": {
             "outlinewidth": 0,
             "ticks": ""
            },
            "colorscale": [
             [
              0,
              "#0d0887"
             ],
             [
              0.1111111111111111,
              "#46039f"
             ],
             [
              0.2222222222222222,
              "#7201a8"
             ],
             [
              0.3333333333333333,
              "#9c179e"
             ],
             [
              0.4444444444444444,
              "#bd3786"
             ],
             [
              0.5555555555555556,
              "#d8576b"
             ],
             [
              0.6666666666666666,
              "#ed7953"
             ],
             [
              0.7777777777777778,
              "#fb9f3a"
             ],
             [
              0.8888888888888888,
              "#fdca26"
             ],
             [
              1,
              "#f0f921"
             ]
            ],
            "type": "histogram2d"
           }
          ],
          "histogram2dcontour": [
           {
            "colorbar": {
             "outlinewidth": 0,
             "ticks": ""
            },
            "colorscale": [
             [
              0,
              "#0d0887"
             ],
             [
              0.1111111111111111,
              "#46039f"
             ],
             [
              0.2222222222222222,
              "#7201a8"
             ],
             [
              0.3333333333333333,
              "#9c179e"
             ],
             [
              0.4444444444444444,
              "#bd3786"
             ],
             [
              0.5555555555555556,
              "#d8576b"
             ],
             [
              0.6666666666666666,
              "#ed7953"
             ],
             [
              0.7777777777777778,
              "#fb9f3a"
             ],
             [
              0.8888888888888888,
              "#fdca26"
             ],
             [
              1,
              "#f0f921"
             ]
            ],
            "type": "histogram2dcontour"
           }
          ],
          "mesh3d": [
           {
            "colorbar": {
             "outlinewidth": 0,
             "ticks": ""
            },
            "type": "mesh3d"
           }
          ],
          "parcoords": [
           {
            "line": {
             "colorbar": {
              "outlinewidth": 0,
              "ticks": ""
             }
            },
            "type": "parcoords"
           }
          ],
          "pie": [
           {
            "automargin": true,
            "type": "pie"
           }
          ],
          "scatter": [
           {
            "fillpattern": {
             "fillmode": "overlay",
             "size": 10,
             "solidity": 0.2
            },
            "type": "scatter"
           }
          ],
          "scatter3d": [
           {
            "line": {
             "colorbar": {
              "outlinewidth": 0,
              "ticks": ""
             }
            },
            "marker": {
             "colorbar": {
              "outlinewidth": 0,
              "ticks": ""
             }
            },
            "type": "scatter3d"
           }
          ],
          "scattercarpet": [
           {
            "marker": {
             "colorbar": {
              "outlinewidth": 0,
              "ticks": ""
             }
            },
            "type": "scattercarpet"
           }
          ],
          "scattergeo": [
           {
            "marker": {
             "colorbar": {
              "outlinewidth": 0,
              "ticks": ""
             }
            },
            "type": "scattergeo"
           }
          ],
          "scattergl": [
           {
            "marker": {
             "colorbar": {
              "outlinewidth": 0,
              "ticks": ""
             }
            },
            "type": "scattergl"
           }
          ],
          "scattermapbox": [
           {
            "marker": {
             "colorbar": {
              "outlinewidth": 0,
              "ticks": ""
             }
            },
            "type": "scattermapbox"
           }
          ],
          "scatterpolar": [
           {
            "marker": {
             "colorbar": {
              "outlinewidth": 0,
              "ticks": ""
             }
            },
            "type": "scatterpolar"
           }
          ],
          "scatterpolargl": [
           {
            "marker": {
             "colorbar": {
              "outlinewidth": 0,
              "ticks": ""
             }
            },
            "type": "scatterpolargl"
           }
          ],
          "scatterternary": [
           {
            "marker": {
             "colorbar": {
              "outlinewidth": 0,
              "ticks": ""
             }
            },
            "type": "scatterternary"
           }
          ],
          "surface": [
           {
            "colorbar": {
             "outlinewidth": 0,
             "ticks": ""
            },
            "colorscale": [
             [
              0,
              "#0d0887"
             ],
             [
              0.1111111111111111,
              "#46039f"
             ],
             [
              0.2222222222222222,
              "#7201a8"
             ],
             [
              0.3333333333333333,
              "#9c179e"
             ],
             [
              0.4444444444444444,
              "#bd3786"
             ],
             [
              0.5555555555555556,
              "#d8576b"
             ],
             [
              0.6666666666666666,
              "#ed7953"
             ],
             [
              0.7777777777777778,
              "#fb9f3a"
             ],
             [
              0.8888888888888888,
              "#fdca26"
             ],
             [
              1,
              "#f0f921"
             ]
            ],
            "type": "surface"
           }
          ],
          "table": [
           {
            "cells": {
             "fill": {
              "color": "#EBF0F8"
             },
             "line": {
              "color": "white"
             }
            },
            "header": {
             "fill": {
              "color": "#C8D4E3"
             },
             "line": {
              "color": "white"
             }
            },
            "type": "table"
           }
          ]
         },
         "layout": {
          "annotationdefaults": {
           "arrowcolor": "#2a3f5f",
           "arrowhead": 0,
           "arrowwidth": 1
          },
          "autotypenumbers": "strict",
          "coloraxis": {
           "colorbar": {
            "outlinewidth": 0,
            "ticks": ""
           }
          },
          "colorscale": {
           "diverging": [
            [
             0,
             "#8e0152"
            ],
            [
             0.1,
             "#c51b7d"
            ],
            [
             0.2,
             "#de77ae"
            ],
            [
             0.3,
             "#f1b6da"
            ],
            [
             0.4,
             "#fde0ef"
            ],
            [
             0.5,
             "#f7f7f7"
            ],
            [
             0.6,
             "#e6f5d0"
            ],
            [
             0.7,
             "#b8e186"
            ],
            [
             0.8,
             "#7fbc41"
            ],
            [
             0.9,
             "#4d9221"
            ],
            [
             1,
             "#276419"
            ]
           ],
           "sequential": [
            [
             0,
             "#0d0887"
            ],
            [
             0.1111111111111111,
             "#46039f"
            ],
            [
             0.2222222222222222,
             "#7201a8"
            ],
            [
             0.3333333333333333,
             "#9c179e"
            ],
            [
             0.4444444444444444,
             "#bd3786"
            ],
            [
             0.5555555555555556,
             "#d8576b"
            ],
            [
             0.6666666666666666,
             "#ed7953"
            ],
            [
             0.7777777777777778,
             "#fb9f3a"
            ],
            [
             0.8888888888888888,
             "#fdca26"
            ],
            [
             1,
             "#f0f921"
            ]
           ],
           "sequentialminus": [
            [
             0,
             "#0d0887"
            ],
            [
             0.1111111111111111,
             "#46039f"
            ],
            [
             0.2222222222222222,
             "#7201a8"
            ],
            [
             0.3333333333333333,
             "#9c179e"
            ],
            [
             0.4444444444444444,
             "#bd3786"
            ],
            [
             0.5555555555555556,
             "#d8576b"
            ],
            [
             0.6666666666666666,
             "#ed7953"
            ],
            [
             0.7777777777777778,
             "#fb9f3a"
            ],
            [
             0.8888888888888888,
             "#fdca26"
            ],
            [
             1,
             "#f0f921"
            ]
           ]
          },
          "colorway": [
           "#636efa",
           "#EF553B",
           "#00cc96",
           "#ab63fa",
           "#FFA15A",
           "#19d3f3",
           "#FF6692",
           "#B6E880",
           "#FF97FF",
           "#FECB52"
          ],
          "font": {
           "color": "#2a3f5f"
          },
          "geo": {
           "bgcolor": "white",
           "lakecolor": "white",
           "landcolor": "#E5ECF6",
           "showlakes": true,
           "showland": true,
           "subunitcolor": "white"
          },
          "hoverlabel": {
           "align": "left"
          },
          "hovermode": "closest",
          "mapbox": {
           "style": "light"
          },
          "paper_bgcolor": "white",
          "plot_bgcolor": "#E5ECF6",
          "polar": {
           "angularaxis": {
            "gridcolor": "white",
            "linecolor": "white",
            "ticks": ""
           },
           "bgcolor": "#E5ECF6",
           "radialaxis": {
            "gridcolor": "white",
            "linecolor": "white",
            "ticks": ""
           }
          },
          "scene": {
           "xaxis": {
            "backgroundcolor": "#E5ECF6",
            "gridcolor": "white",
            "gridwidth": 2,
            "linecolor": "white",
            "showbackground": true,
            "ticks": "",
            "zerolinecolor": "white"
           },
           "yaxis": {
            "backgroundcolor": "#E5ECF6",
            "gridcolor": "white",
            "gridwidth": 2,
            "linecolor": "white",
            "showbackground": true,
            "ticks": "",
            "zerolinecolor": "white"
           },
           "zaxis": {
            "backgroundcolor": "#E5ECF6",
            "gridcolor": "white",
            "gridwidth": 2,
            "linecolor": "white",
            "showbackground": true,
            "ticks": "",
            "zerolinecolor": "white"
           }
          },
          "shapedefaults": {
           "line": {
            "color": "#2a3f5f"
           }
          },
          "ternary": {
           "aaxis": {
            "gridcolor": "white",
            "linecolor": "white",
            "ticks": ""
           },
           "baxis": {
            "gridcolor": "white",
            "linecolor": "white",
            "ticks": ""
           },
           "bgcolor": "#E5ECF6",
           "caxis": {
            "gridcolor": "white",
            "linecolor": "white",
            "ticks": ""
           }
          },
          "title": {
           "x": 0.05
          },
          "xaxis": {
           "automargin": true,
           "gridcolor": "white",
           "linecolor": "white",
           "ticks": "",
           "title": {
            "standoff": 15
           },
           "zerolinecolor": "white",
           "zerolinewidth": 2
          },
          "yaxis": {
           "automargin": true,
           "gridcolor": "white",
           "linecolor": "white",
           "ticks": "",
           "title": {
            "standoff": 15
           },
           "zerolinecolor": "white",
           "zerolinewidth": 2
          }
         }
        },
        "width": 800
       }
      }
     },
     "metadata": {},
     "output_type": "display_data"
    }
   ],
   "source": [
    "dfplt = dfs[['category', 'name', 'cwe']].groupby(['category', 'name', 'cwe'], group_keys=False).size().reset_index(name='count')\n",
    "fig = px.sunburst(dfplt, \n",
    "    path=['category', 'name', 'cwe'], \n",
    "    values='count', \n",
    "    color_continuous_scale='Blues',\n",
    "    color='count',\n",
    ")\n",
    "# fig.write_image(\"figure/vul_statistics.pdf\")\n",
    "# fig.update_traces(hovertemplate='%{label}<br>%{customdata}')\n",
    "fig.update_layout(\n",
    "    autosize=False,\n",
    "    width=800,\n",
    "    height=800,)\n",
    "fig.show()\n",
    "# fig.write_image(\"../figure/vul_statistics.pdf\")"
   ]
  },
  {
   "cell_type": "code",
   "execution_count": null,
   "metadata": {},
   "outputs": [],
   "source": [
    "dfplt.sort_values(by=['count'], ascending=False).head(10)"
   ]
  },
  {
   "attachments": {},
   "cell_type": "markdown",
   "metadata": {},
   "source": [
    "# Top 10 vulnerabilities"
   ]
  },
  {
   "cell_type": "code",
   "execution_count": null,
   "metadata": {},
   "outputs": [],
   "source": [
    "df_top10 = dfplt.sort_values(by=['count'], ascending=False).head(10).reset_index(drop=True)\n",
    "print(tabulate(df_top10, headers='keys', tablefmt='psql'))\n",
    "df_top10.to_latex(\"../result/top10.tex\", index=False, caption=\"Top 10 CWEs in IoT code\")"
   ]
  },
  {
   "cell_type": "code",
   "execution_count": null,
   "metadata": {},
   "outputs": [],
   "source": [
    "# dfs.context.head(200).str.len().plot(kind='bar')\n",
    "pd.Series(sorted(list(dfs.context.head(20).str.len()))).plot(kind='bar')"
   ]
  },
  {
   "cell_type": "code",
   "execution_count": null,
   "metadata": {},
   "outputs": [],
   "source": [
    "dfs.context"
   ]
  },
  {
   "cell_type": "code",
   "execution_count": null,
   "metadata": {},
   "outputs": [],
   "source": [
    "pd.Series([len(x) for x in dff.code if len(x)>10]).plot.hist(xlabel='#chars', ylabel='#statements')"
   ]
  },
  {
   "cell_type": "code",
   "execution_count": null,
   "metadata": {},
   "outputs": [],
   "source": [
    "def filter_unusual_statements(statements, min_len, max_len, df):\n",
    "    \"\"\"\" \n",
    "    # https://peps.python.org/pep-0007/\n",
    "    # https://www.python.org/dev/peps/pep-0007/ \n",
    "\n",
    "    \"\"\"\n",
    "    filtered_statements = []\n",
    "    for statement in statements:\n",
    "        if len(statement) >= min_len and len(statement) <= max_len:\n",
    "            filtered_statements.append(statement)\n",
    "   \n",
    "    # take size of the vul statements as basis\n",
    "    df = pd.Series(statements)   \n",
    "    df = df.str.len()\n",
    "    \n",
    "    stat_sizes =  list(df[df.between(max_len, min_len)].reset_index(drop=True))\n",
    "    \n",
    "    sample_size = 5 if len(stat_sizes)>5 else len(stat_sizes)-1\n",
    "    stat_sizes = random.sample(set(stat_sizes), sample_size)\n",
    "    return stat_sizes\n",
    "\n",
    "\n",
    "# standard variables:\n",
    "max_len = 79  #TODO: double check pep standards\n",
    "\n",
    "# TODO: check min_len as well, otherwise the below code unnessesarily checks one extra condition \n",
    "# because there is no any statement/fun with len below that. \n",
    "# for min_len (eg, 7 characters)\n",
    "min_len = dfs.context.str.len().sort_values(ascending=False).reset_index(drop=True).min()\n",
    "\n",
    "\n",
    "lines = dff.code[0].splitlines()\n",
    "stat_sizes = filter_unusual_statements(lines, max_len, min_len, dfs)\n",
    "stat_sizes"
   ]
  },
  {
   "cell_type": "code",
   "execution_count": null,
   "metadata": {},
   "outputs": [],
   "source": [
    "# df_dnn = pd.read_csv('../data/iDetect_refine/DNN_Binary.csv')\n",
    "# df_conti = pd.read_csv('../data/contiki-master_Binary.csv')\n",
    "# df_rasp = pd.read_csv('../data/raspberry_metrics.csv')\n",
    "# df_rasp_flaw = pd.read_csv('../data/raspberry_flaw.csv')\n",
    "\n",
    "# print('Shape of DNN data: ', df_dnn.shape)\n",
    "# print('Shape of contiki: ', df_conti.shape)\n",
    "# print('Shape of raspberry: ', df_rasp.shape)\n",
    "# print('Shape of raspberry flaws: ', df_rasp_flaw.shape)\n",
    "\n",
    "# dfcon = dfcon.rename(columns={'context': 'code'})\n",
    "# dfcon.to_csv('../data/contiki-master_Binary.csv', index=False)"
   ]
  },
  {
   "attachments": {},
   "cell_type": "markdown",
   "metadata": {},
   "source": [
    "# Convert hyperparameters list to latex table format"
   ]
  },
  {
   "cell_type": "code",
   "execution_count": null,
   "metadata": {},
   "outputs": [],
   "source": [
    "def hyperpara2latex(yaml_file):\n",
    "    \"\"\"\n",
    "    load the yaml file and return a dictionary\n",
    "    \"\"\"\n",
    "    config = {}\n",
    "    cols = ['hyperparameter', 'value']\n",
    "    \n",
    "    ext = Path(yaml_file).suffix.replace('.', '') \n",
    "    \n",
    "    with open(yaml_file, \"r\") as stream:\n",
    "        try:\n",
    "            config = yaml.safe_load(stream)\n",
    "            df = pd.DataFrame([config['dnn']]).T.reset_index()\n",
    "            print(df.to_latex(index=False, \n",
    "                    header=cols, \n",
    "                    #   column_format='|l|l|', \n",
    "                    label='Hyperparameter Settings', \n",
    "                    caption='Hyperparameter Settings'))\n",
    "        except yaml.YAMLError as exc:\n",
    "            print(exc)\n",
    "\n",
    "config = hyperpara2latex('../config.yaml')"
   ]
  },
  {
   "cell_type": "markdown",
   "metadata": {},
   "source": [
    "## Frequency of the vulnerabilities and benign samples at \n",
    "    - statement-level \n",
    "    - function-level"
   ]
  },
  {
   "cell_type": "code",
   "execution_count": null,
   "metadata": {},
   "outputs": [],
   "source": [
    "# for project-wise distribution\n",
    "projects = list(dfs.project.unique())\n",
    "\n",
    "for project in projects:\n",
    "    print(project)\n",
    "    df = dfs[dfs.project == project]\n",
    "    print(df.shape)\n",
    "    print(df.cwe.value_counts())\n",
    "    print(df.category.value_counts())\n",
    "    print('----------------------')"
   ]
  },
  {
   "attachments": {},
   "cell_type": "markdown",
   "metadata": {},
   "source": [
    "## Create a latex table from the statistics of projects"
   ]
  },
  {
   "cell_type": "code",
   "execution_count": null,
   "metadata": {},
   "outputs": [],
   "source": [
    "def save_latex(df, file):\n",
    "    \"\"\"\n",
    "    save the dataframe as latex table\n",
    "    \"\"\"\n",
    "    styler = df.style\n",
    "    # styler.applymap_index(lambda v: \"font-weight: bold;\", axis=\"index\")\n",
    "    styler.applymap_index(lambda v: \"font-weight: bold;\", axis=\"columns\")\n",
    "    res = styler.to_latex(convert_css=True, column_format='|l|l|r|')\n",
    "\n",
    "    with open(file, 'w') as f:\n",
    "        f.write(res)\n",
    "    return res\n",
    "\n",
    "# make class binary type benign/vulnerable\n",
    "dfs.loc[dfs.cwe!=\"Benign\", 'cwe'] = \"Vulnerable\"\n",
    "dfs['project'] = dfs.project.str.split('/').str[-1]\n",
    "\n",
    "prj_stat = dfs.groupby(['project', 'cwe']).size().reset_index(name='count')\n",
    "prj_s = prj_stat.groupby(['project', 'cwe']).sum()\n",
    "\n",
    "res = tabulate(save_latex(prj_s, '../result/project_stat.tex'))\n",
    "prj_s"
   ]
  },
  {
   "cell_type": "code",
   "execution_count": null,
   "metadata": {},
   "outputs": [],
   "source": [
    "prj_sflat = prj_s.reset_index()\n",
    "prj_sflat = prj_sflat.pivot(index='project', columns='cwe', values='count')\n",
    "prj_sflat.reset_index().to_latex('../paper/project_stat_flat.tex', index=False)"
   ]
  },
  {
   "cell_type": "code",
   "execution_count": null,
   "metadata": {},
   "outputs": [],
   "source": [
    "# make class binary type benign/vulnerable\n",
    "dff.loc[dfs.cwe!=\"Benign\", 'cwe'] = \"Vulnerable\"\n",
    "\n",
    "prj_ff = dff.groupby(['project', 'cwe']).size().reset_index(name='count')\n",
    "prj_f = prj_ff.groupby(['cwe']).sum().sort_values(by='count', ascending=False).reset_index()\n",
    "prj_f = prj_f[prj_f.cwe != 'Benign'].head(10)\n",
    "print(prj_f.to_latex(index=False, caption='Top 10 CWEs', label='Top 10 CWEs'))"
   ]
  },
  {
   "cell_type": "code",
   "execution_count": null,
   "metadata": {},
   "outputs": [],
   "source": [
    "prj_s = dfs.groupby(['project', 'cwe']).size().reset_index(name='count')\n",
    "prj_s = prj_s.groupby(['cwe']).sum()\n",
    "prj_s"
   ]
  },
  {
   "attachments": {},
   "cell_type": "markdown",
   "metadata": {},
   "source": [
    "# Show the description of the function-level data"
   ]
  },
  {
   "cell_type": "code",
   "execution_count": null,
   "metadata": {},
   "outputs": [],
   "source": [
    "df_describe = dff.drop(\n",
    "    labels=['top_nesting_level', 'fan_in', 'fan_out', 'general_fan_out', 'content', 'long_name', 'fun_name', 'full_parameters', 'code'],\n",
    "    axis=1, \n",
    "    errors='ignore').describe().T\n",
    "\n",
    "df_freq = df_describe.reset_index().rename(columns={'index': 'features'})\n",
    "df_freq = df_freq.drop(labels=['count'], axis=1)\n",
    "# The freq is the most common value’s frequency. The top is the most common value.\n",
    "\n",
    "print(df_freq[~df_freq.features.isin(['file'])].to_latex(\n",
    "    index=False, \n",
    "    column_format='rrrrr', \n",
    "    label='Function Statistics', \n",
    "    caption='Function Statistics')\n",
    "    )"
   ]
  },
  {
   "cell_type": "code",
   "execution_count": null,
   "metadata": {},
   "outputs": [],
   "source": [
    "dff[0:10]"
   ]
  },
  {
   "cell_type": "code",
   "execution_count": null,
   "metadata": {},
   "outputs": [],
   "source": [
    "dfs.cwe.value_counts()"
   ]
  },
  {
   "cell_type": "code",
   "execution_count": null,
   "metadata": {},
   "outputs": [],
   "source": [
    "dff.cwe.value_counts()"
   ]
  },
  {
   "cell_type": "code",
   "execution_count": null,
   "metadata": {},
   "outputs": [],
   "source": [
    "print(f'Size of statements: {len(dfs.context)}')\n",
    "print(f'Size of unique statements: {dfs.context.nunique()}')\n",
    "print(f'\\nSize of functions: {len(dff.code)}')\n",
    "print(f'Size of unique functions: {dff.code.nunique()}')\n",
    "\n",
    "# stat_context = dfs.context.replace(r'\\s+', '', regex=True)\n",
    "# fun_code = dff.code.replace(r'\\s+', '', regex=True)\n",
    "print(f'size of statements: {context.nunique()}')\n",
    "print(f'size of functions: {fun_code.nunique()}')"
   ]
  }
 ],
 "metadata": {
  "kernelspec": {
   "display_name": "vulcode",
   "language": "python",
   "name": "python3"
  },
  "language_info": {
   "codemirror_mode": {
    "name": "ipython",
    "version": 3
   },
   "file_extension": ".py",
   "mimetype": "text/x-python",
   "name": "python",
   "nbconvert_exporter": "python",
   "pygments_lexer": "ipython3",
   "version": "3.8.0"
  },
  "orig_nbformat": 4,
  "vscode": {
   "interpreter": {
    "hash": "770d70f40277e0fadd6bc1f7a5fecfd799eee3cbb57c500ccfb48eb07fd2c1ce"
   }
  }
 },
 "nbformat": 4,
 "nbformat_minor": 2
}
