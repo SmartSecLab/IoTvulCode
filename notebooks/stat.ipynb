{
 "cells": [
  {
   "attachments": {},
   "cell_type": "markdown",
   "metadata": {},
   "source": [
    "# Statistics on the output data. "
   ]
  },
  {
   "cell_type": "code",
   "execution_count": 248,
   "metadata": {},
   "outputs": [
    {
     "data": {
      "text/plain": [
       "Index(['File', 'Line', 'Column', 'DefaultLevel', 'Level', 'Category', 'Name',\n",
       "       'Warning', 'Suggestion', 'Note', 'CWEs', 'Context', 'Fingerprint',\n",
       "       'ToolVersion', 'RuleId', 'HelpUri'],\n",
       "      dtype='object')"
      ]
     },
     "execution_count": 248,
     "metadata": {},
     "output_type": "execute_result"
    }
   ],
   "source": [
    "import pandas as pd\n",
    "import matplotlib.pyplot as plt\n",
    "import seaborn as sns\n",
    "import plotly.express as px\n",
    "import lizard\n",
    "import subprocess as sub\n",
    "from pylibsrcml import srcml\n",
    "\n",
    "df = pd.read_csv('../data/output-tunslip.csv')\n",
    "\n",
    "if not os.path.exists(\"figure\"):\n",
    "    os.mkdir(\"figure\")\n",
    "\n",
    "df.columns"
   ]
  },
  {
   "cell_type": "code",
   "execution_count": 249,
   "metadata": {},
   "outputs": [
    {
     "name": "stdout",
     "output_type": "stream",
     "text": [
      "    Category       Name              CWEs  Count\n",
      "0     buffer       char  CWE-119!/CWE-120      6\n",
      "1     buffer     getopt   CWE-120, CWE-20      1\n",
      "2     buffer     memcpy           CWE-120     11\n",
      "3     buffer       read   CWE-120, CWE-20      1\n",
      "4     buffer     strcat           CWE-120      1\n",
      "5     buffer     strcpy           CWE-120      4\n",
      "6     buffer    strncpy           CWE-120      1\n",
      "7     format  vsnprintf           CWE-134      1\n",
      "8    integer       atoi           CWE-190      2\n",
      "9       misc       open           CWE-362      2\n",
      "10  obsolete     usleep           CWE-676      1\n",
      "11     shell     system            CWE-78      1\n"
     ]
    },
    {
     "data": {
      "application/vnd.plotly.v1+json": {
       "config": {
        "plotlyServerURL": "https://plot.ly"
       },
       "data": [
        {
         "branchvalues": "total",
         "domain": {
          "x": [
           0,
           1
          ],
          "y": [
           0,
           1
          ]
         },
         "hovertemplate": "labels=%{label}<br>Count=%{value}<br>parent=%{parent}<br>id=%{id}<extra></extra>",
         "ids": [
          "buffer/char/CWE-119!/CWE-120",
          "buffer/memcpy/CWE-120",
          "buffer/strcat/CWE-120",
          "buffer/strcpy/CWE-120",
          "buffer/strncpy/CWE-120",
          "buffer/getopt/CWE-120, CWE-20",
          "buffer/read/CWE-120, CWE-20",
          "format/vsnprintf/CWE-134",
          "integer/atoi/CWE-190",
          "misc/open/CWE-362",
          "obsolete/usleep/CWE-676",
          "shell/system/CWE-78",
          "integer/atoi",
          "buffer/char",
          "buffer/getopt",
          "buffer/memcpy",
          "misc/open",
          "buffer/read",
          "buffer/strcat",
          "buffer/strcpy",
          "buffer/strncpy",
          "shell/system",
          "obsolete/usleep",
          "format/vsnprintf",
          "buffer",
          "format",
          "integer",
          "misc",
          "obsolete",
          "shell"
         ],
         "labels": [
          "CWE-119!/CWE-120",
          "CWE-120",
          "CWE-120",
          "CWE-120",
          "CWE-120",
          "CWE-120, CWE-20",
          "CWE-120, CWE-20",
          "CWE-134",
          "CWE-190",
          "CWE-362",
          "CWE-676",
          "CWE-78",
          "atoi",
          "char",
          "getopt",
          "memcpy",
          "open",
          "read",
          "strcat",
          "strcpy",
          "strncpy",
          "system",
          "usleep",
          "vsnprintf",
          "buffer",
          "format",
          "integer",
          "misc",
          "obsolete",
          "shell"
         ],
         "name": "",
         "parents": [
          "buffer/char",
          "buffer/memcpy",
          "buffer/strcat",
          "buffer/strcpy",
          "buffer/strncpy",
          "buffer/getopt",
          "buffer/read",
          "format/vsnprintf",
          "integer/atoi",
          "misc/open",
          "obsolete/usleep",
          "shell/system",
          "integer",
          "buffer",
          "buffer",
          "buffer",
          "misc",
          "buffer",
          "buffer",
          "buffer",
          "buffer",
          "shell",
          "obsolete",
          "format",
          "",
          "",
          "",
          "",
          "",
          ""
         ],
         "type": "sunburst",
         "values": [
          6,
          11,
          1,
          4,
          1,
          1,
          1,
          1,
          2,
          2,
          1,
          1,
          2,
          6,
          1,
          11,
          2,
          1,
          1,
          4,
          1,
          1,
          1,
          1,
          25,
          1,
          2,
          2,
          1,
          1
         ]
        }
       ],
       "layout": {
        "legend": {
         "tracegroupgap": 0
        },
        "margin": {
         "t": 60
        },
        "template": {
         "data": {
          "bar": [
           {
            "error_x": {
             "color": "#2a3f5f"
            },
            "error_y": {
             "color": "#2a3f5f"
            },
            "marker": {
             "line": {
              "color": "#E5ECF6",
              "width": 0.5
             },
             "pattern": {
              "fillmode": "overlay",
              "size": 10,
              "solidity": 0.2
             }
            },
            "type": "bar"
           }
          ],
          "barpolar": [
           {
            "marker": {
             "line": {
              "color": "#E5ECF6",
              "width": 0.5
             },
             "pattern": {
              "fillmode": "overlay",
              "size": 10,
              "solidity": 0.2
             }
            },
            "type": "barpolar"
           }
          ],
          "carpet": [
           {
            "aaxis": {
             "endlinecolor": "#2a3f5f",
             "gridcolor": "white",
             "linecolor": "white",
             "minorgridcolor": "white",
             "startlinecolor": "#2a3f5f"
            },
            "baxis": {
             "endlinecolor": "#2a3f5f",
             "gridcolor": "white",
             "linecolor": "white",
             "minorgridcolor": "white",
             "startlinecolor": "#2a3f5f"
            },
            "type": "carpet"
           }
          ],
          "choropleth": [
           {
            "colorbar": {
             "outlinewidth": 0,
             "ticks": ""
            },
            "type": "choropleth"
           }
          ],
          "contour": [
           {
            "colorbar": {
             "outlinewidth": 0,
             "ticks": ""
            },
            "colorscale": [
             [
              0,
              "#0d0887"
             ],
             [
              0.1111111111111111,
              "#46039f"
             ],
             [
              0.2222222222222222,
              "#7201a8"
             ],
             [
              0.3333333333333333,
              "#9c179e"
             ],
             [
              0.4444444444444444,
              "#bd3786"
             ],
             [
              0.5555555555555556,
              "#d8576b"
             ],
             [
              0.6666666666666666,
              "#ed7953"
             ],
             [
              0.7777777777777778,
              "#fb9f3a"
             ],
             [
              0.8888888888888888,
              "#fdca26"
             ],
             [
              1,
              "#f0f921"
             ]
            ],
            "type": "contour"
           }
          ],
          "contourcarpet": [
           {
            "colorbar": {
             "outlinewidth": 0,
             "ticks": ""
            },
            "type": "contourcarpet"
           }
          ],
          "heatmap": [
           {
            "colorbar": {
             "outlinewidth": 0,
             "ticks": ""
            },
            "colorscale": [
             [
              0,
              "#0d0887"
             ],
             [
              0.1111111111111111,
              "#46039f"
             ],
             [
              0.2222222222222222,
              "#7201a8"
             ],
             [
              0.3333333333333333,
              "#9c179e"
             ],
             [
              0.4444444444444444,
              "#bd3786"
             ],
             [
              0.5555555555555556,
              "#d8576b"
             ],
             [
              0.6666666666666666,
              "#ed7953"
             ],
             [
              0.7777777777777778,
              "#fb9f3a"
             ],
             [
              0.8888888888888888,
              "#fdca26"
             ],
             [
              1,
              "#f0f921"
             ]
            ],
            "type": "heatmap"
           }
          ],
          "heatmapgl": [
           {
            "colorbar": {
             "outlinewidth": 0,
             "ticks": ""
            },
            "colorscale": [
             [
              0,
              "#0d0887"
             ],
             [
              0.1111111111111111,
              "#46039f"
             ],
             [
              0.2222222222222222,
              "#7201a8"
             ],
             [
              0.3333333333333333,
              "#9c179e"
             ],
             [
              0.4444444444444444,
              "#bd3786"
             ],
             [
              0.5555555555555556,
              "#d8576b"
             ],
             [
              0.6666666666666666,
              "#ed7953"
             ],
             [
              0.7777777777777778,
              "#fb9f3a"
             ],
             [
              0.8888888888888888,
              "#fdca26"
             ],
             [
              1,
              "#f0f921"
             ]
            ],
            "type": "heatmapgl"
           }
          ],
          "histogram": [
           {
            "marker": {
             "pattern": {
              "fillmode": "overlay",
              "size": 10,
              "solidity": 0.2
             }
            },
            "type": "histogram"
           }
          ],
          "histogram2d": [
           {
            "colorbar": {
             "outlinewidth": 0,
             "ticks": ""
            },
            "colorscale": [
             [
              0,
              "#0d0887"
             ],
             [
              0.1111111111111111,
              "#46039f"
             ],
             [
              0.2222222222222222,
              "#7201a8"
             ],
             [
              0.3333333333333333,
              "#9c179e"
             ],
             [
              0.4444444444444444,
              "#bd3786"
             ],
             [
              0.5555555555555556,
              "#d8576b"
             ],
             [
              0.6666666666666666,
              "#ed7953"
             ],
             [
              0.7777777777777778,
              "#fb9f3a"
             ],
             [
              0.8888888888888888,
              "#fdca26"
             ],
             [
              1,
              "#f0f921"
             ]
            ],
            "type": "histogram2d"
           }
          ],
          "histogram2dcontour": [
           {
            "colorbar": {
             "outlinewidth": 0,
             "ticks": ""
            },
            "colorscale": [
             [
              0,
              "#0d0887"
             ],
             [
              0.1111111111111111,
              "#46039f"
             ],
             [
              0.2222222222222222,
              "#7201a8"
             ],
             [
              0.3333333333333333,
              "#9c179e"
             ],
             [
              0.4444444444444444,
              "#bd3786"
             ],
             [
              0.5555555555555556,
              "#d8576b"
             ],
             [
              0.6666666666666666,
              "#ed7953"
             ],
             [
              0.7777777777777778,
              "#fb9f3a"
             ],
             [
              0.8888888888888888,
              "#fdca26"
             ],
             [
              1,
              "#f0f921"
             ]
            ],
            "type": "histogram2dcontour"
           }
          ],
          "mesh3d": [
           {
            "colorbar": {
             "outlinewidth": 0,
             "ticks": ""
            },
            "type": "mesh3d"
           }
          ],
          "parcoords": [
           {
            "line": {
             "colorbar": {
              "outlinewidth": 0,
              "ticks": ""
             }
            },
            "type": "parcoords"
           }
          ],
          "pie": [
           {
            "automargin": true,
            "type": "pie"
           }
          ],
          "scatter": [
           {
            "fillpattern": {
             "fillmode": "overlay",
             "size": 10,
             "solidity": 0.2
            },
            "type": "scatter"
           }
          ],
          "scatter3d": [
           {
            "line": {
             "colorbar": {
              "outlinewidth": 0,
              "ticks": ""
             }
            },
            "marker": {
             "colorbar": {
              "outlinewidth": 0,
              "ticks": ""
             }
            },
            "type": "scatter3d"
           }
          ],
          "scattercarpet": [
           {
            "marker": {
             "colorbar": {
              "outlinewidth": 0,
              "ticks": ""
             }
            },
            "type": "scattercarpet"
           }
          ],
          "scattergeo": [
           {
            "marker": {
             "colorbar": {
              "outlinewidth": 0,
              "ticks": ""
             }
            },
            "type": "scattergeo"
           }
          ],
          "scattergl": [
           {
            "marker": {
             "colorbar": {
              "outlinewidth": 0,
              "ticks": ""
             }
            },
            "type": "scattergl"
           }
          ],
          "scattermapbox": [
           {
            "marker": {
             "colorbar": {
              "outlinewidth": 0,
              "ticks": ""
             }
            },
            "type": "scattermapbox"
           }
          ],
          "scatterpolar": [
           {
            "marker": {
             "colorbar": {
              "outlinewidth": 0,
              "ticks": ""
             }
            },
            "type": "scatterpolar"
           }
          ],
          "scatterpolargl": [
           {
            "marker": {
             "colorbar": {
              "outlinewidth": 0,
              "ticks": ""
             }
            },
            "type": "scatterpolargl"
           }
          ],
          "scatterternary": [
           {
            "marker": {
             "colorbar": {
              "outlinewidth": 0,
              "ticks": ""
             }
            },
            "type": "scatterternary"
           }
          ],
          "surface": [
           {
            "colorbar": {
             "outlinewidth": 0,
             "ticks": ""
            },
            "colorscale": [
             [
              0,
              "#0d0887"
             ],
             [
              0.1111111111111111,
              "#46039f"
             ],
             [
              0.2222222222222222,
              "#7201a8"
             ],
             [
              0.3333333333333333,
              "#9c179e"
             ],
             [
              0.4444444444444444,
              "#bd3786"
             ],
             [
              0.5555555555555556,
              "#d8576b"
             ],
             [
              0.6666666666666666,
              "#ed7953"
             ],
             [
              0.7777777777777778,
              "#fb9f3a"
             ],
             [
              0.8888888888888888,
              "#fdca26"
             ],
             [
              1,
              "#f0f921"
             ]
            ],
            "type": "surface"
           }
          ],
          "table": [
           {
            "cells": {
             "fill": {
              "color": "#EBF0F8"
             },
             "line": {
              "color": "white"
             }
            },
            "header": {
             "fill": {
              "color": "#C8D4E3"
             },
             "line": {
              "color": "white"
             }
            },
            "type": "table"
           }
          ]
         },
         "layout": {
          "annotationdefaults": {
           "arrowcolor": "#2a3f5f",
           "arrowhead": 0,
           "arrowwidth": 1
          },
          "autotypenumbers": "strict",
          "coloraxis": {
           "colorbar": {
            "outlinewidth": 0,
            "ticks": ""
           }
          },
          "colorscale": {
           "diverging": [
            [
             0,
             "#8e0152"
            ],
            [
             0.1,
             "#c51b7d"
            ],
            [
             0.2,
             "#de77ae"
            ],
            [
             0.3,
             "#f1b6da"
            ],
            [
             0.4,
             "#fde0ef"
            ],
            [
             0.5,
             "#f7f7f7"
            ],
            [
             0.6,
             "#e6f5d0"
            ],
            [
             0.7,
             "#b8e186"
            ],
            [
             0.8,
             "#7fbc41"
            ],
            [
             0.9,
             "#4d9221"
            ],
            [
             1,
             "#276419"
            ]
           ],
           "sequential": [
            [
             0,
             "#0d0887"
            ],
            [
             0.1111111111111111,
             "#46039f"
            ],
            [
             0.2222222222222222,
             "#7201a8"
            ],
            [
             0.3333333333333333,
             "#9c179e"
            ],
            [
             0.4444444444444444,
             "#bd3786"
            ],
            [
             0.5555555555555556,
             "#d8576b"
            ],
            [
             0.6666666666666666,
             "#ed7953"
            ],
            [
             0.7777777777777778,
             "#fb9f3a"
            ],
            [
             0.8888888888888888,
             "#fdca26"
            ],
            [
             1,
             "#f0f921"
            ]
           ],
           "sequentialminus": [
            [
             0,
             "#0d0887"
            ],
            [
             0.1111111111111111,
             "#46039f"
            ],
            [
             0.2222222222222222,
             "#7201a8"
            ],
            [
             0.3333333333333333,
             "#9c179e"
            ],
            [
             0.4444444444444444,
             "#bd3786"
            ],
            [
             0.5555555555555556,
             "#d8576b"
            ],
            [
             0.6666666666666666,
             "#ed7953"
            ],
            [
             0.7777777777777778,
             "#fb9f3a"
            ],
            [
             0.8888888888888888,
             "#fdca26"
            ],
            [
             1,
             "#f0f921"
            ]
           ]
          },
          "colorway": [
           "#636efa",
           "#EF553B",
           "#00cc96",
           "#ab63fa",
           "#FFA15A",
           "#19d3f3",
           "#FF6692",
           "#B6E880",
           "#FF97FF",
           "#FECB52"
          ],
          "font": {
           "color": "#2a3f5f"
          },
          "geo": {
           "bgcolor": "white",
           "lakecolor": "white",
           "landcolor": "#E5ECF6",
           "showlakes": true,
           "showland": true,
           "subunitcolor": "white"
          },
          "hoverlabel": {
           "align": "left"
          },
          "hovermode": "closest",
          "mapbox": {
           "style": "light"
          },
          "paper_bgcolor": "white",
          "plot_bgcolor": "#E5ECF6",
          "polar": {
           "angularaxis": {
            "gridcolor": "white",
            "linecolor": "white",
            "ticks": ""
           },
           "bgcolor": "#E5ECF6",
           "radialaxis": {
            "gridcolor": "white",
            "linecolor": "white",
            "ticks": ""
           }
          },
          "scene": {
           "xaxis": {
            "backgroundcolor": "#E5ECF6",
            "gridcolor": "white",
            "gridwidth": 2,
            "linecolor": "white",
            "showbackground": true,
            "ticks": "",
            "zerolinecolor": "white"
           },
           "yaxis": {
            "backgroundcolor": "#E5ECF6",
            "gridcolor": "white",
            "gridwidth": 2,
            "linecolor": "white",
            "showbackground": true,
            "ticks": "",
            "zerolinecolor": "white"
           },
           "zaxis": {
            "backgroundcolor": "#E5ECF6",
            "gridcolor": "white",
            "gridwidth": 2,
            "linecolor": "white",
            "showbackground": true,
            "ticks": "",
            "zerolinecolor": "white"
           }
          },
          "shapedefaults": {
           "line": {
            "color": "#2a3f5f"
           }
          },
          "ternary": {
           "aaxis": {
            "gridcolor": "white",
            "linecolor": "white",
            "ticks": ""
           },
           "baxis": {
            "gridcolor": "white",
            "linecolor": "white",
            "ticks": ""
           },
           "bgcolor": "#E5ECF6",
           "caxis": {
            "gridcolor": "white",
            "linecolor": "white",
            "ticks": ""
           }
          },
          "title": {
           "x": 0.05
          },
          "xaxis": {
           "automargin": true,
           "gridcolor": "white",
           "linecolor": "white",
           "ticks": "",
           "title": {
            "standoff": 15
           },
           "zerolinecolor": "white",
           "zerolinewidth": 2
          },
          "yaxis": {
           "automargin": true,
           "gridcolor": "white",
           "linecolor": "white",
           "ticks": "",
           "title": {
            "standoff": 15
           },
           "zerolinecolor": "white",
           "zerolinewidth": 2
          }
         }
        }
       }
      }
     },
     "metadata": {},
     "output_type": "display_data"
    },
    {
     "data": {
      "text/html": [
       "<div>\n",
       "<style scoped>\n",
       "    .dataframe tbody tr th:only-of-type {\n",
       "        vertical-align: middle;\n",
       "    }\n",
       "\n",
       "    .dataframe tbody tr th {\n",
       "        vertical-align: top;\n",
       "    }\n",
       "\n",
       "    .dataframe thead th {\n",
       "        text-align: right;\n",
       "    }\n",
       "</style>\n",
       "<table border=\"1\" class=\"dataframe\">\n",
       "  <thead>\n",
       "    <tr style=\"text-align: right;\">\n",
       "      <th></th>\n",
       "      <th>File</th>\n",
       "      <th>Line</th>\n",
       "      <th>Column</th>\n",
       "      <th>DefaultLevel</th>\n",
       "      <th>Level</th>\n",
       "      <th>Category</th>\n",
       "      <th>Name</th>\n",
       "      <th>Warning</th>\n",
       "      <th>Suggestion</th>\n",
       "      <th>Note</th>\n",
       "      <th>CWEs</th>\n",
       "      <th>Context</th>\n",
       "      <th>Fingerprint</th>\n",
       "      <th>ToolVersion</th>\n",
       "      <th>RuleId</th>\n",
       "      <th>HelpUri</th>\n",
       "    </tr>\n",
       "  </thead>\n",
       "  <tbody>\n",
       "    <tr>\n",
       "      <th>0</th>\n",
       "      <td>data/projects/contiki-2.4/tools/tunslip.c</td>\n",
       "      <td>438</td>\n",
       "      <td>3</td>\n",
       "      <td>4</td>\n",
       "      <td>4</td>\n",
       "      <td>format</td>\n",
       "      <td>vsnprintf</td>\n",
       "      <td>If format strings can be influenced by an atta...</td>\n",
       "      <td>Use a constant for the format specification.</td>\n",
       "      <td>NaN</td>\n",
       "      <td>CWE-134</td>\n",
       "      <td>vsnprintf(cmd, sizeof(cmd), fmt, ap);</td>\n",
       "      <td>5a6ebc53325719b0f59e24f31e308667e9337289bfbc55...</td>\n",
       "      <td>2.0.19</td>\n",
       "      <td>FF1019</td>\n",
       "      <td>https://cwe.mitre.org/data/definitions/134.html</td>\n",
       "    </tr>\n",
       "    <tr>\n",
       "      <th>1</th>\n",
       "      <td>data/projects/contiki-2.4/tools/tunslip.c</td>\n",
       "      <td>442</td>\n",
       "      <td>10</td>\n",
       "      <td>4</td>\n",
       "      <td>4</td>\n",
       "      <td>shell</td>\n",
       "      <td>system</td>\n",
       "      <td>This causes a new program to execute and is di...</td>\n",
       "      <td>try using a library call that implements the s...</td>\n",
       "      <td>NaN</td>\n",
       "      <td>CWE-78</td>\n",
       "      <td>return system(cmd);</td>\n",
       "      <td>f3f1fc4af80877aebfc643d7ec0da9b9e96eccff3cad56...</td>\n",
       "      <td>2.0.19</td>\n",
       "      <td>FF1044</td>\n",
       "      <td>https://cwe.mitre.org/data/definitions/78.html</td>\n",
       "    </tr>\n",
       "    <tr>\n",
       "      <th>2</th>\n",
       "      <td>data/projects/contiki-2.4/tools/tunslip.c</td>\n",
       "      <td>753</td>\n",
       "      <td>3</td>\n",
       "      <td>4</td>\n",
       "      <td>4</td>\n",
       "      <td>buffer</td>\n",
       "      <td>strcat</td>\n",
       "      <td>Does not check for buffer overflows when conca...</td>\n",
       "      <td>Consider using strcat_s, strncat, strlcat, or ...</td>\n",
       "      <td>NaN</td>\n",
       "      <td>CWE-120</td>\n",
       "      <td>strcat(t, dev);</td>\n",
       "      <td>901ebb10ee39a0103c1035a30e7a1a1f2db2bf8d9bf07e...</td>\n",
       "      <td>2.0.19</td>\n",
       "      <td>FF1005</td>\n",
       "      <td>https://cwe.mitre.org/data/definitions/120.html</td>\n",
       "    </tr>\n",
       "  </tbody>\n",
       "</table>\n",
       "</div>"
      ],
      "text/plain": [
       "                                        File  Line  Column  DefaultLevel  \\\n",
       "0  data/projects/contiki-2.4/tools/tunslip.c   438       3             4   \n",
       "1  data/projects/contiki-2.4/tools/tunslip.c   442      10             4   \n",
       "2  data/projects/contiki-2.4/tools/tunslip.c   753       3             4   \n",
       "\n",
       "   Level Category       Name  \\\n",
       "0      4   format  vsnprintf   \n",
       "1      4    shell     system   \n",
       "2      4   buffer     strcat   \n",
       "\n",
       "                                             Warning  \\\n",
       "0  If format strings can be influenced by an atta...   \n",
       "1  This causes a new program to execute and is di...   \n",
       "2  Does not check for buffer overflows when conca...   \n",
       "\n",
       "                                          Suggestion Note     CWEs  \\\n",
       "0       Use a constant for the format specification.  NaN  CWE-134   \n",
       "1  try using a library call that implements the s...  NaN   CWE-78   \n",
       "2  Consider using strcat_s, strncat, strlcat, or ...  NaN  CWE-120   \n",
       "\n",
       "                                   Context  \\\n",
       "0    vsnprintf(cmd, sizeof(cmd), fmt, ap);   \n",
       "1                      return system(cmd);   \n",
       "2                          strcat(t, dev);   \n",
       "\n",
       "                                         Fingerprint ToolVersion  RuleId  \\\n",
       "0  5a6ebc53325719b0f59e24f31e308667e9337289bfbc55...      2.0.19  FF1019   \n",
       "1  f3f1fc4af80877aebfc643d7ec0da9b9e96eccff3cad56...      2.0.19  FF1044   \n",
       "2  901ebb10ee39a0103c1035a30e7a1a1f2db2bf8d9bf07e...      2.0.19  FF1005   \n",
       "\n",
       "                                           HelpUri  \n",
       "0  https://cwe.mitre.org/data/definitions/134.html  \n",
       "1   https://cwe.mitre.org/data/definitions/78.html  \n",
       "2  https://cwe.mitre.org/data/definitions/120.html  "
      ]
     },
     "execution_count": 249,
     "metadata": {},
     "output_type": "execute_result"
    }
   ],
   "source": [
    "dfp = df[['Category', 'Name', 'CWEs']].groupby(['Category', 'Name', 'CWEs'], group_keys=False).size().reset_index(name='Count')\n",
    "print(dfp)\n",
    "fig = px.sunburst(dfp, path=['Category', 'Name', 'CWEs'], values='Count')\n",
    "# fig.write_image(\"figure/vul_statistics.pdf\")\n",
    "fig.show()\n",
    "df.head(3)"
   ]
  },
  {
   "attachments": {},
   "cell_type": "markdown",
   "metadata": {},
   "source": [
    "## Grepping functions from the vulnerability context of the file."
   ]
  },
  {
   "cell_type": "code",
   "execution_count": 250,
   "metadata": {},
   "outputs": [],
   "source": [
    "# Function Under Construction:\n",
    "def srcML_funs(file):\n",
    "    \"\"\" finds function blocks of the given file\n",
    "    \"\"\" \n",
    "    fun_ptn = \"string(//src:function)\"\n",
    "    funblk_ptn = \"string((//src:function/src:name))\"\n",
    "    # file_ptn = \"string(//src:unit/@filename)\" \n",
    "\n",
    "    # cmd = sub.Popen([\"srcml\", \"--xpath\", fun_ptn, file], stderr=sub.STDOUT)\n",
    "    # out, err = cmd.communicate()\n",
    "    cmd = [\"srcml\", \"--xpath\", funblk_ptn, xml_file]\n",
    "    process = sub.Popen(cmd, stderr=sub.STDOUT)\n",
    "    return process\n",
    "\n",
    "file = '../' + df.File[0]\n",
    "xml_file = \"a.cpp.xml\"\n",
    "\n",
    "file_str = ''\n",
    "with open(file) as f:\n",
    "    file_str = f.read()"
   ]
  },
  {
   "attachments": {},
   "cell_type": "markdown",
   "metadata": {},
   "source": [
    "## Find the metrics of the given file"
   ]
  },
  {
   "cell_type": "code",
   "execution_count": 283,
   "metadata": {},
   "outputs": [
    {
     "name": "stdout",
     "output_type": "stream",
     "text": [
      "Shape of the dataframe:  (20, 10)\n"
     ]
    },
    {
     "data": {
      "text/html": [
       "<div>\n",
       "<style scoped>\n",
       "    .dataframe tbody tr th:only-of-type {\n",
       "        vertical-align: middle;\n",
       "    }\n",
       "\n",
       "    .dataframe tbody tr th {\n",
       "        vertical-align: top;\n",
       "    }\n",
       "\n",
       "    .dataframe thead th {\n",
       "        text-align: right;\n",
       "    }\n",
       "</style>\n",
       "<table border=\"1\" class=\"dataframe\">\n",
       "  <thead>\n",
       "    <tr style=\"text-align: right;\">\n",
       "      <th></th>\n",
       "      <th>cyclomatic_complexity</th>\n",
       "      <th>nloc</th>\n",
       "      <th>token_count</th>\n",
       "      <th>name</th>\n",
       "      <th>long_name</th>\n",
       "      <th>start_line</th>\n",
       "      <th>end_line</th>\n",
       "      <th>filename</th>\n",
       "      <th>top_nesting_level</th>\n",
       "      <th>code</th>\n",
       "    </tr>\n",
       "  </thead>\n",
       "  <tbody>\n",
       "    <tr>\n",
       "      <th>0</th>\n",
       "      <td>3</td>\n",
       "      <td>43</td>\n",
       "      <td>336</td>\n",
       "      <td>relay_dhcp_to_server</td>\n",
       "      <td>relay_dhcp_to_server( struct ip * ip , int len)</td>\n",
       "      <td>162</td>\n",
       "      <td>224</td>\n",
       "      <td>../data/projects/contiki-2.4/tools/tunslip.c</td>\n",
       "      <td>0</td>\n",
       "      <td>relay_dhcp_to_server( struct ip * ip , int len...</td>\n",
       "    </tr>\n",
       "    <tr>\n",
       "      <th>1</th>\n",
       "      <td>14</td>\n",
       "      <td>91</td>\n",
       "      <td>725</td>\n",
       "      <td>relay_dhcp_to_client</td>\n",
       "      <td>relay_dhcp_to_client( int slipfd)</td>\n",
       "      <td>229</td>\n",
       "      <td>338</td>\n",
       "      <td>../data/projects/contiki-2.4/tools/tunslip.c</td>\n",
       "      <td>0</td>\n",
       "      <td>relay_dhcp_to_client( int slipfd){\\n  struct d...</td>\n",
       "    </tr>\n",
       "    <tr>\n",
       "      <th>2</th>\n",
       "      <td>5</td>\n",
       "      <td>18</td>\n",
       "      <td>118</td>\n",
       "      <td>ip4sum</td>\n",
       "      <td>ip4sum( u_int16_t sum , const void * _p , u_in...</td>\n",
       "      <td>344</td>\n",
       "      <td>362</td>\n",
       "      <td>../data/projects/contiki-2.4/tools/tunslip.c</td>\n",
       "      <td>0</td>\n",
       "      <td>ip4sum( u_int16_t sum , const void * _p , u_in...</td>\n",
       "    </tr>\n",
       "    <tr>\n",
       "      <th>3</th>\n",
       "      <td>15</td>\n",
       "      <td>34</td>\n",
       "      <td>256</td>\n",
       "      <td>check_ip</td>\n",
       "      <td>check_ip( const struct ip * ip , unsigned ip_len)</td>\n",
       "      <td>365</td>\n",
       "      <td>413</td>\n",
       "      <td>../data/projects/contiki-2.4/tools/tunslip.c</td>\n",
       "      <td>0</td>\n",
       "      <td>check_ip( const struct ip * ip , unsigned ip_l...</td>\n",
       "    </tr>\n",
       "    <tr>\n",
       "      <th>4</th>\n",
       "      <td>8</td>\n",
       "      <td>12</td>\n",
       "      <td>90</td>\n",
       "      <td>is_sensible_string</td>\n",
       "      <td>is_sensible_string( const unsigned char * s , ...</td>\n",
       "      <td>416</td>\n",
       "      <td>427</td>\n",
       "      <td>../data/projects/contiki-2.4/tools/tunslip.c</td>\n",
       "      <td>0</td>\n",
       "      <td>is_sensible_string( const unsigned char * s , ...</td>\n",
       "    </tr>\n",
       "  </tbody>\n",
       "</table>\n",
       "</div>"
      ],
      "text/plain": [
       "   cyclomatic_complexity  nloc  token_count                  name  \\\n",
       "0                      3    43          336  relay_dhcp_to_server   \n",
       "1                     14    91          725  relay_dhcp_to_client   \n",
       "2                      5    18          118                ip4sum   \n",
       "3                     15    34          256              check_ip   \n",
       "4                      8    12           90    is_sensible_string   \n",
       "\n",
       "                                           long_name  start_line  end_line  \\\n",
       "0    relay_dhcp_to_server( struct ip * ip , int len)         162       224   \n",
       "1                  relay_dhcp_to_client( int slipfd)         229       338   \n",
       "2  ip4sum( u_int16_t sum , const void * _p , u_in...         344       362   \n",
       "3  check_ip( const struct ip * ip , unsigned ip_len)         365       413   \n",
       "4  is_sensible_string( const unsigned char * s , ...         416       427   \n",
       "\n",
       "                                       filename  top_nesting_level  \\\n",
       "0  ../data/projects/contiki-2.4/tools/tunslip.c                  0   \n",
       "1  ../data/projects/contiki-2.4/tools/tunslip.c                  0   \n",
       "2  ../data/projects/contiki-2.4/tools/tunslip.c                  0   \n",
       "3  ../data/projects/contiki-2.4/tools/tunslip.c                  0   \n",
       "4  ../data/projects/contiki-2.4/tools/tunslip.c                  0   \n",
       "\n",
       "                                                code  \n",
       "0  relay_dhcp_to_server( struct ip * ip , int len...  \n",
       "1  relay_dhcp_to_client( int slipfd){\\n  struct d...  \n",
       "2  ip4sum( u_int16_t sum , const void * _p , u_in...  \n",
       "3  check_ip( const struct ip * ip , unsigned ip_l...  \n",
       "4  is_sensible_string( const unsigned char * s , ...  "
      ]
     },
     "execution_count": 283,
     "metadata": {},
     "output_type": "execute_result"
    }
   ],
   "source": [
    "import itertools\n",
    "\n",
    "# Without checking at CSV output of flawfinder. \n",
    "# def find_metrics(source_file):\n",
    "#     \"\"\" split the given file into a list of function blocks and return their metrics into a dataframe\n",
    "#     \"\"\" \n",
    "#     df = pd.DataFrame()\n",
    "#     with open(source_file, \"r\") as fp:  \n",
    "#         liz_file = lizard.analyze_file.analyze_source_code(source_file,  fp.read())\n",
    "        \n",
    "#         for x in range(len(liz_file.function_list)):\n",
    "#             fun_metrics = liz_file.function_list[x].__dict__\n",
    "#             start=fun_metrics['start_line']\n",
    "#             end=fun_metrics['end_line']\n",
    "            \n",
    "#             fp.seek(0) # move header to the initial point of the file\n",
    "#             df_fun = pd.DataFrame.from_dict(fun_metrics)\n",
    "#             lines = [line for line in itertools.islice(fp, start, end)]\n",
    "#             df_fun['code'] =  fun_metrics['long_name'] + ''.join(lines) \n",
    "#             df = pd.concat([df, df_fun])\n",
    "            \n",
    "#     # <guru> I think there is a problem in lizard detecting the correct full_parameters \n",
    "#     # either we have to concatenate two lines of full_parameters or ignore it and take it from long_name if needed. \n",
    "#     # drop['full_parameters', 'fan_in', 'fan_out', 'general_fan_out'] because lizard has not properly implemented these parameters yet.\n",
    "#     cols_filter = ['full_parameters', 'fan_in', 'fan_out', 'general_fan_out']\n",
    "#     df = df.drop(cols_filter, axis=1).drop_duplicates().reset_index(drop=True)\n",
    "#     print('Shape of the dataframe: ', df.shape)\n",
    "#     return df\n",
    "\n",
    "# df_met = find_metrics(file)\n",
    "# df_met.head(5)"
   ]
  },
  {
   "attachments": {},
   "cell_type": "markdown",
   "metadata": {},
   "source": [
    "# Fetching the functions which have given line context/statement."
   ]
  },
  {
   "cell_type": "code",
   "execution_count": 374,
   "metadata": {},
   "outputs": [
    {
     "name": "stdout",
     "output_type": "stream",
     "text": [
      "Shape of the dataframe:  (20, 12)\n"
     ]
    },
    {
     "data": {
      "text/html": [
       "<div>\n",
       "<style scoped>\n",
       "    .dataframe tbody tr th:only-of-type {\n",
       "        vertical-align: middle;\n",
       "    }\n",
       "\n",
       "    .dataframe tbody tr th {\n",
       "        vertical-align: top;\n",
       "    }\n",
       "\n",
       "    .dataframe thead th {\n",
       "        text-align: right;\n",
       "    }\n",
       "</style>\n",
       "<table border=\"1\" class=\"dataframe\">\n",
       "  <thead>\n",
       "    <tr style=\"text-align: right;\">\n",
       "      <th></th>\n",
       "      <th>cyclomatic_complexity</th>\n",
       "      <th>nloc</th>\n",
       "      <th>token_count</th>\n",
       "      <th>name</th>\n",
       "      <th>long_name</th>\n",
       "      <th>start_line</th>\n",
       "      <th>end_line</th>\n",
       "      <th>filename</th>\n",
       "      <th>top_nesting_level</th>\n",
       "      <th>code</th>\n",
       "      <th>CWEs</th>\n",
       "      <th>is_vul</th>\n",
       "    </tr>\n",
       "  </thead>\n",
       "  <tbody>\n",
       "    <tr>\n",
       "      <th>0</th>\n",
       "      <td>3</td>\n",
       "      <td>43</td>\n",
       "      <td>336</td>\n",
       "      <td>relay_dhcp_to_server</td>\n",
       "      <td>relay_dhcp_to_server( struct ip * ip , int len)</td>\n",
       "      <td>162</td>\n",
       "      <td>224</td>\n",
       "      <td>../data/projects/contiki-2.4/tools/tunslip.c</td>\n",
       "      <td>0</td>\n",
       "      <td>relay_dhcp_to_server( struct ip * ip , int len)</td>\n",
       "      <td>[('CWE-120', '  memcpy(&amp;m, inm, DHCP_BASE_LEN)...</td>\n",
       "      <td>True</td>\n",
       "    </tr>\n",
       "    <tr>\n",
       "      <th>1</th>\n",
       "      <td>14</td>\n",
       "      <td>91</td>\n",
       "      <td>725</td>\n",
       "      <td>relay_dhcp_to_client</td>\n",
       "      <td>relay_dhcp_to_client( int slipfd)</td>\n",
       "      <td>229</td>\n",
       "      <td>338</td>\n",
       "      <td>../data/projects/contiki-2.4/tools/tunslip.c</td>\n",
       "      <td>0</td>\n",
       "      <td>relay_dhcp_to_client( int slipfd)</td>\n",
       "      <td>[('CWE-120', '  memcpy(pkt.m.options, inm.opti...</td>\n",
       "      <td>True</td>\n",
       "    </tr>\n",
       "    <tr>\n",
       "      <th>2</th>\n",
       "      <td>5</td>\n",
       "      <td>18</td>\n",
       "      <td>118</td>\n",
       "      <td>ip4sum</td>\n",
       "      <td>ip4sum( u_int16_t sum , const void * _p , u_in...</td>\n",
       "      <td>344</td>\n",
       "      <td>362</td>\n",
       "      <td>../data/projects/contiki-2.4/tools/tunslip.c</td>\n",
       "      <td>0</td>\n",
       "      <td>ip4sum( u_int16_t sum , const void * _p , u_in...</td>\n",
       "      <td>[]</td>\n",
       "      <td>False</td>\n",
       "    </tr>\n",
       "    <tr>\n",
       "      <th>3</th>\n",
       "      <td>15</td>\n",
       "      <td>34</td>\n",
       "      <td>256</td>\n",
       "      <td>check_ip</td>\n",
       "      <td>check_ip( const struct ip * ip , unsigned ip_len)</td>\n",
       "      <td>365</td>\n",
       "      <td>413</td>\n",
       "      <td>../data/projects/contiki-2.4/tools/tunslip.c</td>\n",
       "      <td>0</td>\n",
       "      <td>check_ip( const struct ip * ip , unsigned ip_len)</td>\n",
       "      <td>[]</td>\n",
       "      <td>False</td>\n",
       "    </tr>\n",
       "    <tr>\n",
       "      <th>4</th>\n",
       "      <td>8</td>\n",
       "      <td>12</td>\n",
       "      <td>90</td>\n",
       "      <td>is_sensible_string</td>\n",
       "      <td>is_sensible_string( const unsigned char * s , ...</td>\n",
       "      <td>416</td>\n",
       "      <td>427</td>\n",
       "      <td>../data/projects/contiki-2.4/tools/tunslip.c</td>\n",
       "      <td>0</td>\n",
       "      <td>is_sensible_string( const unsigned char * s , ...</td>\n",
       "      <td>[]</td>\n",
       "      <td>False</td>\n",
       "    </tr>\n",
       "    <tr>\n",
       "      <th>5</th>\n",
       "      <td>1</td>\n",
       "      <td>11</td>\n",
       "      <td>64</td>\n",
       "      <td>ssystem</td>\n",
       "      <td>ssystem( const char * fmt , ...)</td>\n",
       "      <td>433</td>\n",
       "      <td>443</td>\n",
       "      <td>../data/projects/contiki-2.4/tools/tunslip.c</td>\n",
       "      <td>0</td>\n",
       "      <td>ssystem( const char * fmt , ...)</td>\n",
       "      <td>[('CWE-119!/CWE-120', '  char cmd[128];'), ('C...</td>\n",
       "      <td>True</td>\n",
       "    </tr>\n",
       "    <tr>\n",
       "      <th>6</th>\n",
       "      <td>31</td>\n",
       "      <td>100</td>\n",
       "      <td>608</td>\n",
       "      <td>serial_to_tun</td>\n",
       "      <td>serial_to_tun( FILE * inslip , int outfd)</td>\n",
       "      <td>455</td>\n",
       "      <td>585</td>\n",
       "      <td>../data/projects/contiki-2.4/tools/tunslip.c</td>\n",
       "      <td>0</td>\n",
       "      <td>serial_to_tun( FILE * inslip , int outfd)</td>\n",
       "      <td>[('CWE-119!/CWE-120', '    unsigned char inbuf...</td>\n",
       "      <td>True</td>\n",
       "    </tr>\n",
       "    <tr>\n",
       "      <th>7</th>\n",
       "      <td>2</td>\n",
       "      <td>7</td>\n",
       "      <td>37</td>\n",
       "      <td>slip_send</td>\n",
       "      <td>slip_send( int fd , unsigned char c)</td>\n",
       "      <td>591</td>\n",
       "      <td>597</td>\n",
       "      <td>../data/projects/contiki-2.4/tools/tunslip.c</td>\n",
       "      <td>0</td>\n",
       "      <td>slip_send( int fd , unsigned char c)</td>\n",
       "      <td>[]</td>\n",
       "      <td>False</td>\n",
       "    </tr>\n",
       "    <tr>\n",
       "      <th>8</th>\n",
       "      <td>6</td>\n",
       "      <td>17</td>\n",
       "      <td>91</td>\n",
       "      <td>slip_flushbuf</td>\n",
       "      <td>slip_flushbuf( int fd)</td>\n",
       "      <td>606</td>\n",
       "      <td>625</td>\n",
       "      <td>../data/projects/contiki-2.4/tools/tunslip.c</td>\n",
       "      <td>0</td>\n",
       "      <td>slip_flushbuf( int fd)</td>\n",
       "      <td>[]</td>\n",
       "      <td>False</td>\n",
       "    </tr>\n",
       "    <tr>\n",
       "      <th>9</th>\n",
       "      <td>9</td>\n",
       "      <td>42</td>\n",
       "      <td>232</td>\n",
       "      <td>write_to_serial</td>\n",
       "      <td>write_to_serial( int outfd , void * inbuf , in...</td>\n",
       "      <td>628</td>\n",
       "      <td>681</td>\n",
       "      <td>../data/projects/contiki-2.4/tools/tunslip.c</td>\n",
       "      <td>0</td>\n",
       "      <td>write_to_serial( int outfd , void * inbuf , in...</td>\n",
       "      <td>[]</td>\n",
       "      <td>False</td>\n",
       "    </tr>\n",
       "    <tr>\n",
       "      <th>10</th>\n",
       "      <td>2</td>\n",
       "      <td>10</td>\n",
       "      <td>68</td>\n",
       "      <td>tun_to_serial</td>\n",
       "      <td>tun_to_serial( int infd , int outfd)</td>\n",
       "      <td>688</td>\n",
       "      <td>699</td>\n",
       "      <td>../data/projects/contiki-2.4/tools/tunslip.c</td>\n",
       "      <td>0</td>\n",
       "      <td>tun_to_serial( int infd , int outfd)</td>\n",
       "      <td>[('CWE-119!/CWE-120', '    unsigned char inbuf...</td>\n",
       "      <td>True</td>\n",
       "    </tr>\n",
       "    <tr>\n",
       "      <th>11</th>\n",
       "      <td>8</td>\n",
       "      <td>23</td>\n",
       "      <td>218</td>\n",
       "      <td>stty_telos</td>\n",
       "      <td>stty_telos( int fd)</td>\n",
       "      <td>707</td>\n",
       "      <td>746</td>\n",
       "      <td>../data/projects/contiki-2.4/tools/tunslip.c</td>\n",
       "      <td>0</td>\n",
       "      <td>stty_telos( int fd)</td>\n",
       "      <td>[('CWE-676', '  usleep(10*1000);\\t\\t/* Wait fo...</td>\n",
       "      <td>True</td>\n",
       "    </tr>\n",
       "    <tr>\n",
       "      <th>12</th>\n",
       "      <td>1</td>\n",
       "      <td>7</td>\n",
       "      <td>40</td>\n",
       "      <td>devopen</td>\n",
       "      <td>devopen( const char * dev , int flags)</td>\n",
       "      <td>749</td>\n",
       "      <td>755</td>\n",
       "      <td>../data/projects/contiki-2.4/tools/tunslip.c</td>\n",
       "      <td>0</td>\n",
       "      <td>devopen( const char * dev , int flags)</td>\n",
       "      <td>[('CWE-119!/CWE-120', '  char t[32];'), ('CWE-...</td>\n",
       "      <td>True</td>\n",
       "    </tr>\n",
       "    <tr>\n",
       "      <th>13</th>\n",
       "      <td>4</td>\n",
       "      <td>17</td>\n",
       "      <td>119</td>\n",
       "      <td>tun_alloc</td>\n",
       "      <td>tun_alloc( char * dev)</td>\n",
       "      <td>762</td>\n",
       "      <td>787</td>\n",
       "      <td>../data/projects/contiki-2.4/tools/tunslip.c</td>\n",
       "      <td>0</td>\n",
       "      <td>tun_alloc( char * dev)</td>\n",
       "      <td>[('CWE-120', '    strncpy(ifr.ifr_name, dev, I...</td>\n",
       "      <td>True</td>\n",
       "    </tr>\n",
       "    <tr>\n",
       "      <th>14</th>\n",
       "      <td>1</td>\n",
       "      <td>4</td>\n",
       "      <td>16</td>\n",
       "      <td>tun_alloc</td>\n",
       "      <td>tun_alloc( char * dev)</td>\n",
       "      <td>790</td>\n",
       "      <td>793</td>\n",
       "      <td>../data/projects/contiki-2.4/tools/tunslip.c</td>\n",
       "      <td>0</td>\n",
       "      <td>tun_alloc( char * dev)</td>\n",
       "      <td>[]</td>\n",
       "      <td>False</td>\n",
       "    </tr>\n",
       "    <tr>\n",
       "      <th>15</th>\n",
       "      <td>1</td>\n",
       "      <td>9</td>\n",
       "      <td>27</td>\n",
       "      <td>cleanup</td>\n",
       "      <td>cleanup( void)</td>\n",
       "      <td>800</td>\n",
       "      <td>811</td>\n",
       "      <td>../data/projects/contiki-2.4/tools/tunslip.c</td>\n",
       "      <td>0</td>\n",
       "      <td>cleanup( void)</td>\n",
       "      <td>[]</td>\n",
       "      <td>False</td>\n",
       "    </tr>\n",
       "    <tr>\n",
       "      <th>16</th>\n",
       "      <td>1</td>\n",
       "      <td>5</td>\n",
       "      <td>21</td>\n",
       "      <td>sigcleanup</td>\n",
       "      <td>sigcleanup( int signo)</td>\n",
       "      <td>814</td>\n",
       "      <td>818</td>\n",
       "      <td>../data/projects/contiki-2.4/tools/tunslip.c</td>\n",
       "      <td>0</td>\n",
       "      <td>sigcleanup( int signo)</td>\n",
       "      <td>[]</td>\n",
       "      <td>False</td>\n",
       "    </tr>\n",
       "    <tr>\n",
       "      <th>17</th>\n",
       "      <td>1</td>\n",
       "      <td>5</td>\n",
       "      <td>13</td>\n",
       "      <td>sigalarm</td>\n",
       "      <td>sigalarm( int signo)</td>\n",
       "      <td>823</td>\n",
       "      <td>827</td>\n",
       "      <td>../data/projects/contiki-2.4/tools/tunslip.c</td>\n",
       "      <td>0</td>\n",
       "      <td>sigalarm( int signo)</td>\n",
       "      <td>[]</td>\n",
       "      <td>False</td>\n",
       "    </tr>\n",
       "    <tr>\n",
       "      <th>18</th>\n",
       "      <td>4</td>\n",
       "      <td>17</td>\n",
       "      <td>119</td>\n",
       "      <td>ifconf</td>\n",
       "      <td>ifconf( const char * tundev , const char * ipa...</td>\n",
       "      <td>842</td>\n",
       "      <td>863</td>\n",
       "      <td>../data/projects/contiki-2.4/tools/tunslip.c</td>\n",
       "      <td>0</td>\n",
       "      <td>ifconf( const char * tundev , const char * ipa...</td>\n",
       "      <td>[]</td>\n",
       "      <td>False</td>\n",
       "    </tr>\n",
       "    <tr>\n",
       "      <th>19</th>\n",
       "      <td>53</td>\n",
       "      <td>208</td>\n",
       "      <td>1300</td>\n",
       "      <td>main</td>\n",
       "      <td>main( int argc , char ** argv)</td>\n",
       "      <td>866</td>\n",
       "      <td>1114</td>\n",
       "      <td>../data/projects/contiki-2.4/tools/tunslip.c</td>\n",
       "      <td>0</td>\n",
       "      <td>main( int argc , char ** argv)</td>\n",
       "      <td>[('CWE-120', '\\tstrcpy(tundev, optarg + 5);'),...</td>\n",
       "      <td>True</td>\n",
       "    </tr>\n",
       "  </tbody>\n",
       "</table>\n",
       "</div>"
      ],
      "text/plain": [
       "    cyclomatic_complexity  nloc  token_count                  name  \\\n",
       "0                       3    43          336  relay_dhcp_to_server   \n",
       "1                      14    91          725  relay_dhcp_to_client   \n",
       "2                       5    18          118                ip4sum   \n",
       "3                      15    34          256              check_ip   \n",
       "4                       8    12           90    is_sensible_string   \n",
       "5                       1    11           64               ssystem   \n",
       "6                      31   100          608         serial_to_tun   \n",
       "7                       2     7           37             slip_send   \n",
       "8                       6    17           91         slip_flushbuf   \n",
       "9                       9    42          232       write_to_serial   \n",
       "10                      2    10           68         tun_to_serial   \n",
       "11                      8    23          218            stty_telos   \n",
       "12                      1     7           40               devopen   \n",
       "13                      4    17          119             tun_alloc   \n",
       "14                      1     4           16             tun_alloc   \n",
       "15                      1     9           27               cleanup   \n",
       "16                      1     5           21            sigcleanup   \n",
       "17                      1     5           13              sigalarm   \n",
       "18                      4    17          119                ifconf   \n",
       "19                     53   208         1300                  main   \n",
       "\n",
       "                                            long_name  start_line  end_line  \\\n",
       "0     relay_dhcp_to_server( struct ip * ip , int len)         162       224   \n",
       "1                   relay_dhcp_to_client( int slipfd)         229       338   \n",
       "2   ip4sum( u_int16_t sum , const void * _p , u_in...         344       362   \n",
       "3   check_ip( const struct ip * ip , unsigned ip_len)         365       413   \n",
       "4   is_sensible_string( const unsigned char * s , ...         416       427   \n",
       "5                    ssystem( const char * fmt , ...)         433       443   \n",
       "6           serial_to_tun( FILE * inslip , int outfd)         455       585   \n",
       "7                slip_send( int fd , unsigned char c)         591       597   \n",
       "8                              slip_flushbuf( int fd)         606       625   \n",
       "9   write_to_serial( int outfd , void * inbuf , in...         628       681   \n",
       "10               tun_to_serial( int infd , int outfd)         688       699   \n",
       "11                                stty_telos( int fd)         707       746   \n",
       "12             devopen( const char * dev , int flags)         749       755   \n",
       "13                             tun_alloc( char * dev)         762       787   \n",
       "14                             tun_alloc( char * dev)         790       793   \n",
       "15                                     cleanup( void)         800       811   \n",
       "16                             sigcleanup( int signo)         814       818   \n",
       "17                               sigalarm( int signo)         823       827   \n",
       "18  ifconf( const char * tundev , const char * ipa...         842       863   \n",
       "19                     main( int argc , char ** argv)         866      1114   \n",
       "\n",
       "                                        filename  top_nesting_level  \\\n",
       "0   ../data/projects/contiki-2.4/tools/tunslip.c                  0   \n",
       "1   ../data/projects/contiki-2.4/tools/tunslip.c                  0   \n",
       "2   ../data/projects/contiki-2.4/tools/tunslip.c                  0   \n",
       "3   ../data/projects/contiki-2.4/tools/tunslip.c                  0   \n",
       "4   ../data/projects/contiki-2.4/tools/tunslip.c                  0   \n",
       "5   ../data/projects/contiki-2.4/tools/tunslip.c                  0   \n",
       "6   ../data/projects/contiki-2.4/tools/tunslip.c                  0   \n",
       "7   ../data/projects/contiki-2.4/tools/tunslip.c                  0   \n",
       "8   ../data/projects/contiki-2.4/tools/tunslip.c                  0   \n",
       "9   ../data/projects/contiki-2.4/tools/tunslip.c                  0   \n",
       "10  ../data/projects/contiki-2.4/tools/tunslip.c                  0   \n",
       "11  ../data/projects/contiki-2.4/tools/tunslip.c                  0   \n",
       "12  ../data/projects/contiki-2.4/tools/tunslip.c                  0   \n",
       "13  ../data/projects/contiki-2.4/tools/tunslip.c                  0   \n",
       "14  ../data/projects/contiki-2.4/tools/tunslip.c                  0   \n",
       "15  ../data/projects/contiki-2.4/tools/tunslip.c                  0   \n",
       "16  ../data/projects/contiki-2.4/tools/tunslip.c                  0   \n",
       "17  ../data/projects/contiki-2.4/tools/tunslip.c                  0   \n",
       "18  ../data/projects/contiki-2.4/tools/tunslip.c                  0   \n",
       "19  ../data/projects/contiki-2.4/tools/tunslip.c                  0   \n",
       "\n",
       "                                                 code  \\\n",
       "0     relay_dhcp_to_server( struct ip * ip , int len)   \n",
       "1                   relay_dhcp_to_client( int slipfd)   \n",
       "2   ip4sum( u_int16_t sum , const void * _p , u_in...   \n",
       "3   check_ip( const struct ip * ip , unsigned ip_len)   \n",
       "4   is_sensible_string( const unsigned char * s , ...   \n",
       "5                    ssystem( const char * fmt , ...)   \n",
       "6           serial_to_tun( FILE * inslip , int outfd)   \n",
       "7                slip_send( int fd , unsigned char c)   \n",
       "8                              slip_flushbuf( int fd)   \n",
       "9   write_to_serial( int outfd , void * inbuf , in...   \n",
       "10               tun_to_serial( int infd , int outfd)   \n",
       "11                                stty_telos( int fd)   \n",
       "12             devopen( const char * dev , int flags)   \n",
       "13                             tun_alloc( char * dev)   \n",
       "14                             tun_alloc( char * dev)   \n",
       "15                                     cleanup( void)   \n",
       "16                             sigcleanup( int signo)   \n",
       "17                               sigalarm( int signo)   \n",
       "18  ifconf( const char * tundev , const char * ipa...   \n",
       "19                     main( int argc , char ** argv)   \n",
       "\n",
       "                                                 CWEs  is_vul  \n",
       "0   [('CWE-120', '  memcpy(&m, inm, DHCP_BASE_LEN)...    True  \n",
       "1   [('CWE-120', '  memcpy(pkt.m.options, inm.opti...    True  \n",
       "2                                                  []   False  \n",
       "3                                                  []   False  \n",
       "4                                                  []   False  \n",
       "5   [('CWE-119!/CWE-120', '  char cmd[128];'), ('C...    True  \n",
       "6   [('CWE-119!/CWE-120', '    unsigned char inbuf...    True  \n",
       "7                                                  []   False  \n",
       "8                                                  []   False  \n",
       "9                                                  []   False  \n",
       "10  [('CWE-119!/CWE-120', '    unsigned char inbuf...    True  \n",
       "11  [('CWE-676', '  usleep(10*1000);\\t\\t/* Wait fo...    True  \n",
       "12  [('CWE-119!/CWE-120', '  char t[32];'), ('CWE-...    True  \n",
       "13  [('CWE-120', '    strncpy(ifr.ifr_name, dev, I...    True  \n",
       "14                                                 []   False  \n",
       "15                                                 []   False  \n",
       "16                                                 []   False  \n",
       "17                                                 []   False  \n",
       "18                                                 []   False  \n",
       "19  [('CWE-120', '\\tstrcpy(tundev, optarg + 5);'),...    True  "
      ]
     },
     "execution_count": 374,
     "metadata": {},
     "output_type": "execute_result"
    }
   ],
   "source": [
    "import itertools\n",
    "    \n",
    "    \n",
    "def file2metrics(source_file, df_flaw):\n",
    "    \"\"\" split the given file into a list of function blocks and return their metrics into a dataframe\n",
    "    \"\"\" \n",
    "    lines = list(set(list(df_flaw.Line)))\n",
    "    df = pd.DataFrame()\n",
    "    with open(source_file, \"r\") as fp:  \n",
    "        liz_file = lizard.analyze_file.analyze_source_code(source_file,  fp.read())\n",
    "        \n",
    "        for x in range(len(liz_file.function_list)):\n",
    "            \n",
    "            fun_metrics = liz_file.function_list[x].__dict__\n",
    "            df_fun = pd.DataFrame()\n",
    "            df_fun = pd.DataFrame.from_dict(fun_metrics)\n",
    "            \n",
    "            start = int(fun_metrics['start_line'])\n",
    "            end = int(fun_metrics['end_line']) \n",
    "            fp.seek(0) # move header to the initial point of the file\n",
    "\n",
    "            vul_statement, cwe, vul_bool = '', [], False\n",
    "            \n",
    "            for l in lines:      \n",
    "                code_lines = [line for line in itertools.islice(fp, start, end)]\n",
    "                df_fun['code'] =  fun_metrics['long_name'] + ''.join(code_lines) \n",
    "                \n",
    "                # check if the vulnerability content/statement appear in the function block or not.\n",
    "                if start <= l <= end:\n",
    "                    vul_bool =  True \n",
    "                    # vul_statement = vul_statement + ' \\n ' +  df_flaw[df_flaw.Line==l]['Context'].values[0]\n",
    "                    vul_statement = df_flaw[df_flaw.Line==l]['Context'].values[0]\n",
    "                    vul_type = df_flaw[df_flaw.Line==l]['CWEs'].values[0]\n",
    "                    cwe.append((vul_type, vul_statement))\n",
    "\n",
    "                df_fun['CWEs'] = str(cwe)\n",
    "                # df_fun['vul_statements'] = vul_statement\n",
    "                \n",
    "            df_fun['is_vul'] = vul_bool  \n",
    "            df = pd.concat([df, df_fun])\n",
    "            \n",
    "    # <guru> I think there is a problem in lizard detecting the correct full_parameters \n",
    "    # either we have to concatenate two lines of full_parameters or ignore it and take it from long_name if needed. \n",
    "    # drop['full_parameters', 'fan_in', 'fan_out', 'general_fan_out'] because lizard has not properly \n",
    "    # implemented these parameters yet.\n",
    "    \n",
    "    cols_filter = ['full_parameters', 'fan_in', 'fan_out', 'general_fan_out']\n",
    "    df = df.drop(cols_filter, axis=1).drop_duplicates().reset_index(drop=True)\n",
    "    print('Shape of the dataframe: ', df.shape)\n",
    "    return df\n",
    "\n",
    "\n",
    "df_met = file2metrics(file, df)\n",
    "df_met"
   ]
  }
 ],
 "metadata": {
  "kernelspec": {
   "display_name": "vulcode",
   "language": "python",
   "name": "python3"
  },
  "language_info": {
   "codemirror_mode": {
    "name": "ipython",
    "version": 3
   },
   "file_extension": ".py",
   "mimetype": "text/x-python",
   "name": "python",
   "nbconvert_exporter": "python",
   "pygments_lexer": "ipython3",
   "version": "3.8.0"
  },
  "orig_nbformat": 4,
  "vscode": {
   "interpreter": {
    "hash": "770d70f40277e0fadd6bc1f7a5fecfd799eee3cbb57c500ccfb48eb07fd2c1ce"
   }
  }
 },
 "nbformat": 4,
 "nbformat_minor": 2
}
