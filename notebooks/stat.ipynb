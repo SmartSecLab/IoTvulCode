{
 "cells": [
  {
   "attachments": {},
   "cell_type": "markdown",
   "metadata": {},
   "source": [
    "# Statistics on the output data. "
   ]
  },
  {
   "cell_type": "markdown",
   "metadata": {},
   "source": [
    "### Loading data from the sqlite database to the dataframes"
   ]
  },
  {
   "cell_type": "code",
   "execution_count": 1,
   "metadata": {},
   "outputs": [
    {
     "data": {
      "text/plain": [
       "Index(['file', 'line', 'column', 'defaultlevel', 'level', 'category', 'name',\n",
       "       'msg', 'note', 'cwe', 'context', 'helpuri', 'severity', 'tool', 'type',\n",
       "       'project'],\n",
       "      dtype='object')"
      ]
     },
     "execution_count": 1,
     "metadata": {},
     "output_type": "execute_result"
    }
   ],
   "source": [
    "import pandas as pd\n",
    "import matplotlib.pyplot as plt\n",
    "import seaborn as sns\n",
    "import plotly.express as px\n",
    "import lizard\n",
    "import subprocess as sub\n",
    "from pylibsrcml import srcml\n",
    "import os\n",
    "import re \n",
    "import xml.etree.ElementTree as et \n",
    "import warnings\n",
    "from sqlite3 import connect\n",
    "from argparse import ArgumentParser\n",
    "from configparser import ConfigParser\n",
    "import yaml\n",
    "from pathlib import Path\n",
    "import random\n",
    "from tabulate import tabulate\n",
    "\n",
    "warnings.filterwarnings(\"ignore\")\n",
    "\n",
    "\n",
    "database = '../data/IoT.db'\n",
    "# database = '../data/TinyVul.db'\n",
    "# database = \"/Users/guru/research/TinyVul.db\"\n",
    "conn= connect(database)\n",
    "\n",
    "random.seed(0)\n",
    "\n",
    "dfp = pd.read_sql_query(\"SELECT * FROM project\", con=conn)\n",
    "dfs = pd.read_sql_query(\"SELECT * FROM statement\", con=conn)\n",
    "dff = pd.read_sql_query(\"SELECT * FROM function\", con=conn)\n",
    "\n",
    "if not os.path.exists(\"figure\"):\n",
    "    os.mkdir(\"figure\")\n",
    "dfs.columns"
   ]
  },
  {
   "cell_type": "markdown",
   "metadata": {},
   "source": [
    "### Plotting subburset plot from the frequency of category, name and cwe types. "
   ]
  },
  {
   "cell_type": "code",
   "execution_count": 2,
   "metadata": {},
   "outputs": [
    {
     "data": {
      "application/vnd.plotly.v1+json": {
       "config": {
        "plotlyServerURL": "https://plot.ly"
       },
       "data": [
        {
         "branchvalues": "total",
         "customdata": [
          [
           46
          ],
          [
           16
          ],
          [
           15
          ],
          [
           2
          ],
          [
           14
          ],
          [
           19
          ],
          [
           1
          ],
          [
           2
          ],
          [
           3
          ],
          [
           1
          ],
          [
           1
          ],
          [
           5
          ],
          [
           1
          ],
          [
           1
          ],
          [
           46
          ],
          [
           16
          ],
          [
           1
          ],
          [
           3
          ],
          [
           2
          ],
          [
           15
          ],
          [
           2
          ],
          [
           19
          ],
          [
           14
          ],
          [
           5
          ],
          [
           3.888888888888889
          ],
          [
           28.196428571428573
          ],
          [
           1
          ],
          [
           1.6666666666666667
          ]
         ],
         "domain": {
          "x": [
           0,
           1
          ],
          "y": [
           0,
           1
          ]
         },
         "hovertemplate": "labels=%{label}<br>count_sum=%{value}<br>parent=%{parent}<br>id=%{id}<br>count=%{color}<extra></extra>",
         "ids": [
          "buffer/char/CWE-119!/CWE-120",
          "buffer/memcpy/CWE-120",
          "buffer/sprintf/CWE-120",
          "buffer/strcpy/CWE-120",
          "buffer/strncpy/CWE-120",
          "buffer/strlen/CWE-126",
          "format/printf/CWE-134",
          "format/snprintf/CWE-134",
          "-/returnDanglingLifetime/CWE-562",
          "-/bufferAccessOutOfBounds/CWE-788",
          "fixed size global buffer/-/CWE-unknown",
          "-/unknownMacro/CWE-unknown",
          "fixed size global buffer/-",
          "-/bufferAccessOutOfBounds",
          "buffer/char",
          "buffer/memcpy",
          "format/printf",
          "-/returnDanglingLifetime",
          "format/snprintf",
          "buffer/sprintf",
          "buffer/strcpy",
          "buffer/strlen",
          "buffer/strncpy",
          "-/unknownMacro",
          "-",
          "buffer",
          "fixed size global buffer",
          "format"
         ],
         "labels": [
          "CWE-119!/CWE-120",
          "CWE-120",
          "CWE-120",
          "CWE-120",
          "CWE-120",
          "CWE-126",
          "CWE-134",
          "CWE-134",
          "CWE-562",
          "CWE-788",
          "CWE-unknown",
          "CWE-unknown",
          "-",
          "bufferAccessOutOfBounds",
          "char",
          "memcpy",
          "printf",
          "returnDanglingLifetime",
          "snprintf",
          "sprintf",
          "strcpy",
          "strlen",
          "strncpy",
          "unknownMacro",
          "-",
          "buffer",
          "fixed size global buffer",
          "format"
         ],
         "marker": {
          "coloraxis": "coloraxis",
          "colors": [
           46,
           16,
           15,
           2,
           14,
           19,
           1,
           2,
           3,
           1,
           1,
           5,
           1,
           1,
           46,
           16,
           1,
           3,
           2,
           15,
           2,
           19,
           14,
           5,
           3.888888888888889,
           28.196428571428573,
           1,
           1.6666666666666667
          ]
         },
         "name": "",
         "parents": [
          "buffer/char",
          "buffer/memcpy",
          "buffer/sprintf",
          "buffer/strcpy",
          "buffer/strncpy",
          "buffer/strlen",
          "format/printf",
          "format/snprintf",
          "-/returnDanglingLifetime",
          "-/bufferAccessOutOfBounds",
          "fixed size global buffer/-",
          "-/unknownMacro",
          "fixed size global buffer",
          "-",
          "buffer",
          "buffer",
          "format",
          "-",
          "format",
          "buffer",
          "buffer",
          "buffer",
          "buffer",
          "-",
          "",
          "",
          "",
          ""
         ],
         "type": "sunburst",
         "values": [
          46,
          16,
          15,
          2,
          14,
          19,
          1,
          2,
          3,
          1,
          1,
          5,
          1,
          1,
          46,
          16,
          1,
          3,
          2,
          15,
          2,
          19,
          14,
          5,
          9,
          112,
          1,
          3
         ]
        }
       ],
       "layout": {
        "autosize": false,
        "coloraxis": {
         "colorbar": {
          "title": {
           "text": "count"
          }
         },
         "colorscale": [
          [
           0,
           "rgb(247,251,255)"
          ],
          [
           0.125,
           "rgb(222,235,247)"
          ],
          [
           0.25,
           "rgb(198,219,239)"
          ],
          [
           0.375,
           "rgb(158,202,225)"
          ],
          [
           0.5,
           "rgb(107,174,214)"
          ],
          [
           0.625,
           "rgb(66,146,198)"
          ],
          [
           0.75,
           "rgb(33,113,181)"
          ],
          [
           0.875,
           "rgb(8,81,156)"
          ],
          [
           1,
           "rgb(8,48,107)"
          ]
         ]
        },
        "height": 800,
        "legend": {
         "tracegroupgap": 0
        },
        "margin": {
         "t": 60
        },
        "template": {
         "data": {
          "bar": [
           {
            "error_x": {
             "color": "#2a3f5f"
            },
            "error_y": {
             "color": "#2a3f5f"
            },
            "marker": {
             "line": {
              "color": "#E5ECF6",
              "width": 0.5
             },
             "pattern": {
              "fillmode": "overlay",
              "size": 10,
              "solidity": 0.2
             }
            },
            "type": "bar"
           }
          ],
          "barpolar": [
           {
            "marker": {
             "line": {
              "color": "#E5ECF6",
              "width": 0.5
             },
             "pattern": {
              "fillmode": "overlay",
              "size": 10,
              "solidity": 0.2
             }
            },
            "type": "barpolar"
           }
          ],
          "carpet": [
           {
            "aaxis": {
             "endlinecolor": "#2a3f5f",
             "gridcolor": "white",
             "linecolor": "white",
             "minorgridcolor": "white",
             "startlinecolor": "#2a3f5f"
            },
            "baxis": {
             "endlinecolor": "#2a3f5f",
             "gridcolor": "white",
             "linecolor": "white",
             "minorgridcolor": "white",
             "startlinecolor": "#2a3f5f"
            },
            "type": "carpet"
           }
          ],
          "choropleth": [
           {
            "colorbar": {
             "outlinewidth": 0,
             "ticks": ""
            },
            "type": "choropleth"
           }
          ],
          "contour": [
           {
            "colorbar": {
             "outlinewidth": 0,
             "ticks": ""
            },
            "colorscale": [
             [
              0,
              "#0d0887"
             ],
             [
              0.1111111111111111,
              "#46039f"
             ],
             [
              0.2222222222222222,
              "#7201a8"
             ],
             [
              0.3333333333333333,
              "#9c179e"
             ],
             [
              0.4444444444444444,
              "#bd3786"
             ],
             [
              0.5555555555555556,
              "#d8576b"
             ],
             [
              0.6666666666666666,
              "#ed7953"
             ],
             [
              0.7777777777777778,
              "#fb9f3a"
             ],
             [
              0.8888888888888888,
              "#fdca26"
             ],
             [
              1,
              "#f0f921"
             ]
            ],
            "type": "contour"
           }
          ],
          "contourcarpet": [
           {
            "colorbar": {
             "outlinewidth": 0,
             "ticks": ""
            },
            "type": "contourcarpet"
           }
          ],
          "heatmap": [
           {
            "colorbar": {
             "outlinewidth": 0,
             "ticks": ""
            },
            "colorscale": [
             [
              0,
              "#0d0887"
             ],
             [
              0.1111111111111111,
              "#46039f"
             ],
             [
              0.2222222222222222,
              "#7201a8"
             ],
             [
              0.3333333333333333,
              "#9c179e"
             ],
             [
              0.4444444444444444,
              "#bd3786"
             ],
             [
              0.5555555555555556,
              "#d8576b"
             ],
             [
              0.6666666666666666,
              "#ed7953"
             ],
             [
              0.7777777777777778,
              "#fb9f3a"
             ],
             [
              0.8888888888888888,
              "#fdca26"
             ],
             [
              1,
              "#f0f921"
             ]
            ],
            "type": "heatmap"
           }
          ],
          "heatmapgl": [
           {
            "colorbar": {
             "outlinewidth": 0,
             "ticks": ""
            },
            "colorscale": [
             [
              0,
              "#0d0887"
             ],
             [
              0.1111111111111111,
              "#46039f"
             ],
             [
              0.2222222222222222,
              "#7201a8"
             ],
             [
              0.3333333333333333,
              "#9c179e"
             ],
             [
              0.4444444444444444,
              "#bd3786"
             ],
             [
              0.5555555555555556,
              "#d8576b"
             ],
             [
              0.6666666666666666,
              "#ed7953"
             ],
             [
              0.7777777777777778,
              "#fb9f3a"
             ],
             [
              0.8888888888888888,
              "#fdca26"
             ],
             [
              1,
              "#f0f921"
             ]
            ],
            "type": "heatmapgl"
           }
          ],
          "histogram": [
           {
            "marker": {
             "pattern": {
              "fillmode": "overlay",
              "size": 10,
              "solidity": 0.2
             }
            },
            "type": "histogram"
           }
          ],
          "histogram2d": [
           {
            "colorbar": {
             "outlinewidth": 0,
             "ticks": ""
            },
            "colorscale": [
             [
              0,
              "#0d0887"
             ],
             [
              0.1111111111111111,
              "#46039f"
             ],
             [
              0.2222222222222222,
              "#7201a8"
             ],
             [
              0.3333333333333333,
              "#9c179e"
             ],
             [
              0.4444444444444444,
              "#bd3786"
             ],
             [
              0.5555555555555556,
              "#d8576b"
             ],
             [
              0.6666666666666666,
              "#ed7953"
             ],
             [
              0.7777777777777778,
              "#fb9f3a"
             ],
             [
              0.8888888888888888,
              "#fdca26"
             ],
             [
              1,
              "#f0f921"
             ]
            ],
            "type": "histogram2d"
           }
          ],
          "histogram2dcontour": [
           {
            "colorbar": {
             "outlinewidth": 0,
             "ticks": ""
            },
            "colorscale": [
             [
              0,
              "#0d0887"
             ],
             [
              0.1111111111111111,
              "#46039f"
             ],
             [
              0.2222222222222222,
              "#7201a8"
             ],
             [
              0.3333333333333333,
              "#9c179e"
             ],
             [
              0.4444444444444444,
              "#bd3786"
             ],
             [
              0.5555555555555556,
              "#d8576b"
             ],
             [
              0.6666666666666666,
              "#ed7953"
             ],
             [
              0.7777777777777778,
              "#fb9f3a"
             ],
             [
              0.8888888888888888,
              "#fdca26"
             ],
             [
              1,
              "#f0f921"
             ]
            ],
            "type": "histogram2dcontour"
           }
          ],
          "mesh3d": [
           {
            "colorbar": {
             "outlinewidth": 0,
             "ticks": ""
            },
            "type": "mesh3d"
           }
          ],
          "parcoords": [
           {
            "line": {
             "colorbar": {
              "outlinewidth": 0,
              "ticks": ""
             }
            },
            "type": "parcoords"
           }
          ],
          "pie": [
           {
            "automargin": true,
            "type": "pie"
           }
          ],
          "scatter": [
           {
            "fillpattern": {
             "fillmode": "overlay",
             "size": 10,
             "solidity": 0.2
            },
            "type": "scatter"
           }
          ],
          "scatter3d": [
           {
            "line": {
             "colorbar": {
              "outlinewidth": 0,
              "ticks": ""
             }
            },
            "marker": {
             "colorbar": {
              "outlinewidth": 0,
              "ticks": ""
             }
            },
            "type": "scatter3d"
           }
          ],
          "scattercarpet": [
           {
            "marker": {
             "colorbar": {
              "outlinewidth": 0,
              "ticks": ""
             }
            },
            "type": "scattercarpet"
           }
          ],
          "scattergeo": [
           {
            "marker": {
             "colorbar": {
              "outlinewidth": 0,
              "ticks": ""
             }
            },
            "type": "scattergeo"
           }
          ],
          "scattergl": [
           {
            "marker": {
             "colorbar": {
              "outlinewidth": 0,
              "ticks": ""
             }
            },
            "type": "scattergl"
           }
          ],
          "scattermapbox": [
           {
            "marker": {
             "colorbar": {
              "outlinewidth": 0,
              "ticks": ""
             }
            },
            "type": "scattermapbox"
           }
          ],
          "scatterpolar": [
           {
            "marker": {
             "colorbar": {
              "outlinewidth": 0,
              "ticks": ""
             }
            },
            "type": "scatterpolar"
           }
          ],
          "scatterpolargl": [
           {
            "marker": {
             "colorbar": {
              "outlinewidth": 0,
              "ticks": ""
             }
            },
            "type": "scatterpolargl"
           }
          ],
          "scatterternary": [
           {
            "marker": {
             "colorbar": {
              "outlinewidth": 0,
              "ticks": ""
             }
            },
            "type": "scatterternary"
           }
          ],
          "surface": [
           {
            "colorbar": {
             "outlinewidth": 0,
             "ticks": ""
            },
            "colorscale": [
             [
              0,
              "#0d0887"
             ],
             [
              0.1111111111111111,
              "#46039f"
             ],
             [
              0.2222222222222222,
              "#7201a8"
             ],
             [
              0.3333333333333333,
              "#9c179e"
             ],
             [
              0.4444444444444444,
              "#bd3786"
             ],
             [
              0.5555555555555556,
              "#d8576b"
             ],
             [
              0.6666666666666666,
              "#ed7953"
             ],
             [
              0.7777777777777778,
              "#fb9f3a"
             ],
             [
              0.8888888888888888,
              "#fdca26"
             ],
             [
              1,
              "#f0f921"
             ]
            ],
            "type": "surface"
           }
          ],
          "table": [
           {
            "cells": {
             "fill": {
              "color": "#EBF0F8"
             },
             "line": {
              "color": "white"
             }
            },
            "header": {
             "fill": {
              "color": "#C8D4E3"
             },
             "line": {
              "color": "white"
             }
            },
            "type": "table"
           }
          ]
         },
         "layout": {
          "annotationdefaults": {
           "arrowcolor": "#2a3f5f",
           "arrowhead": 0,
           "arrowwidth": 1
          },
          "autotypenumbers": "strict",
          "coloraxis": {
           "colorbar": {
            "outlinewidth": 0,
            "ticks": ""
           }
          },
          "colorscale": {
           "diverging": [
            [
             0,
             "#8e0152"
            ],
            [
             0.1,
             "#c51b7d"
            ],
            [
             0.2,
             "#de77ae"
            ],
            [
             0.3,
             "#f1b6da"
            ],
            [
             0.4,
             "#fde0ef"
            ],
            [
             0.5,
             "#f7f7f7"
            ],
            [
             0.6,
             "#e6f5d0"
            ],
            [
             0.7,
             "#b8e186"
            ],
            [
             0.8,
             "#7fbc41"
            ],
            [
             0.9,
             "#4d9221"
            ],
            [
             1,
             "#276419"
            ]
           ],
           "sequential": [
            [
             0,
             "#0d0887"
            ],
            [
             0.1111111111111111,
             "#46039f"
            ],
            [
             0.2222222222222222,
             "#7201a8"
            ],
            [
             0.3333333333333333,
             "#9c179e"
            ],
            [
             0.4444444444444444,
             "#bd3786"
            ],
            [
             0.5555555555555556,
             "#d8576b"
            ],
            [
             0.6666666666666666,
             "#ed7953"
            ],
            [
             0.7777777777777778,
             "#fb9f3a"
            ],
            [
             0.8888888888888888,
             "#fdca26"
            ],
            [
             1,
             "#f0f921"
            ]
           ],
           "sequentialminus": [
            [
             0,
             "#0d0887"
            ],
            [
             0.1111111111111111,
             "#46039f"
            ],
            [
             0.2222222222222222,
             "#7201a8"
            ],
            [
             0.3333333333333333,
             "#9c179e"
            ],
            [
             0.4444444444444444,
             "#bd3786"
            ],
            [
             0.5555555555555556,
             "#d8576b"
            ],
            [
             0.6666666666666666,
             "#ed7953"
            ],
            [
             0.7777777777777778,
             "#fb9f3a"
            ],
            [
             0.8888888888888888,
             "#fdca26"
            ],
            [
             1,
             "#f0f921"
            ]
           ]
          },
          "colorway": [
           "#636efa",
           "#EF553B",
           "#00cc96",
           "#ab63fa",
           "#FFA15A",
           "#19d3f3",
           "#FF6692",
           "#B6E880",
           "#FF97FF",
           "#FECB52"
          ],
          "font": {
           "color": "#2a3f5f"
          },
          "geo": {
           "bgcolor": "white",
           "lakecolor": "white",
           "landcolor": "#E5ECF6",
           "showlakes": true,
           "showland": true,
           "subunitcolor": "white"
          },
          "hoverlabel": {
           "align": "left"
          },
          "hovermode": "closest",
          "mapbox": {
           "style": "light"
          },
          "paper_bgcolor": "white",
          "plot_bgcolor": "#E5ECF6",
          "polar": {
           "angularaxis": {
            "gridcolor": "white",
            "linecolor": "white",
            "ticks": ""
           },
           "bgcolor": "#E5ECF6",
           "radialaxis": {
            "gridcolor": "white",
            "linecolor": "white",
            "ticks": ""
           }
          },
          "scene": {
           "xaxis": {
            "backgroundcolor": "#E5ECF6",
            "gridcolor": "white",
            "gridwidth": 2,
            "linecolor": "white",
            "showbackground": true,
            "ticks": "",
            "zerolinecolor": "white"
           },
           "yaxis": {
            "backgroundcolor": "#E5ECF6",
            "gridcolor": "white",
            "gridwidth": 2,
            "linecolor": "white",
            "showbackground": true,
            "ticks": "",
            "zerolinecolor": "white"
           },
           "zaxis": {
            "backgroundcolor": "#E5ECF6",
            "gridcolor": "white",
            "gridwidth": 2,
            "linecolor": "white",
            "showbackground": true,
            "ticks": "",
            "zerolinecolor": "white"
           }
          },
          "shapedefaults": {
           "line": {
            "color": "#2a3f5f"
           }
          },
          "ternary": {
           "aaxis": {
            "gridcolor": "white",
            "linecolor": "white",
            "ticks": ""
           },
           "baxis": {
            "gridcolor": "white",
            "linecolor": "white",
            "ticks": ""
           },
           "bgcolor": "#E5ECF6",
           "caxis": {
            "gridcolor": "white",
            "linecolor": "white",
            "ticks": ""
           }
          },
          "title": {
           "x": 0.05
          },
          "xaxis": {
           "automargin": true,
           "gridcolor": "white",
           "linecolor": "white",
           "ticks": "",
           "title": {
            "standoff": 15
           },
           "zerolinecolor": "white",
           "zerolinewidth": 2
          },
          "yaxis": {
           "automargin": true,
           "gridcolor": "white",
           "linecolor": "white",
           "ticks": "",
           "title": {
            "standoff": 15
           },
           "zerolinecolor": "white",
           "zerolinewidth": 2
          }
         }
        },
        "width": 800
       }
      }
     },
     "metadata": {},
     "output_type": "display_data"
    }
   ],
   "source": [
    "dfplt = dfs[['category', 'name', 'cwe']].groupby(['category', 'name', 'cwe'], group_keys=False).size().reset_index(name='count')\n",
    "fig = px.sunburst(dfplt, \n",
    "    path=['category', 'name', 'cwe'], \n",
    "    values='count', \n",
    "    color_continuous_scale='Blues',\n",
    "    color='count',\n",
    ")\n",
    "# fig.write_image(\"figure/vul_statistics.pdf\")\n",
    "# fig.update_traces(hovertemplate='%{label}<br>%{customdata}')\n",
    "fig.update_layout(\n",
    "    autosize=False,\n",
    "    width=800,\n",
    "    height=800,)\n",
    "fig.show()\n",
    "# save the figure manually, the below code takes ages\n",
    "# fig.write_image(\"../figure/vul_statistics.pdf\")"
   ]
  },
  {
   "cell_type": "code",
   "execution_count": 3,
   "metadata": {},
   "outputs": [
    {
     "data": {
      "text/html": [
       "<div>\n",
       "<style scoped>\n",
       "    .dataframe tbody tr th:only-of-type {\n",
       "        vertical-align: middle;\n",
       "    }\n",
       "\n",
       "    .dataframe tbody tr th {\n",
       "        vertical-align: top;\n",
       "    }\n",
       "\n",
       "    .dataframe thead th {\n",
       "        text-align: right;\n",
       "    }\n",
       "</style>\n",
       "<table border=\"1\" class=\"dataframe\">\n",
       "  <thead>\n",
       "    <tr style=\"text-align: right;\">\n",
       "      <th></th>\n",
       "      <th>category</th>\n",
       "      <th>name</th>\n",
       "      <th>cwe</th>\n",
       "      <th>count</th>\n",
       "    </tr>\n",
       "  </thead>\n",
       "  <tbody>\n",
       "    <tr>\n",
       "      <th>3</th>\n",
       "      <td>buffer</td>\n",
       "      <td>char</td>\n",
       "      <td>CWE-119!/CWE-120</td>\n",
       "      <td>46</td>\n",
       "    </tr>\n",
       "    <tr>\n",
       "      <th>7</th>\n",
       "      <td>buffer</td>\n",
       "      <td>strlen</td>\n",
       "      <td>CWE-126</td>\n",
       "      <td>19</td>\n",
       "    </tr>\n",
       "    <tr>\n",
       "      <th>4</th>\n",
       "      <td>buffer</td>\n",
       "      <td>memcpy</td>\n",
       "      <td>CWE-120</td>\n",
       "      <td>16</td>\n",
       "    </tr>\n",
       "    <tr>\n",
       "      <th>5</th>\n",
       "      <td>buffer</td>\n",
       "      <td>sprintf</td>\n",
       "      <td>CWE-120</td>\n",
       "      <td>15</td>\n",
       "    </tr>\n",
       "    <tr>\n",
       "      <th>8</th>\n",
       "      <td>buffer</td>\n",
       "      <td>strncpy</td>\n",
       "      <td>CWE-120</td>\n",
       "      <td>14</td>\n",
       "    </tr>\n",
       "    <tr>\n",
       "      <th>2</th>\n",
       "      <td>-</td>\n",
       "      <td>unknownMacro</td>\n",
       "      <td>CWE-unknown</td>\n",
       "      <td>5</td>\n",
       "    </tr>\n",
       "    <tr>\n",
       "      <th>1</th>\n",
       "      <td>-</td>\n",
       "      <td>returnDanglingLifetime</td>\n",
       "      <td>CWE-562</td>\n",
       "      <td>3</td>\n",
       "    </tr>\n",
       "    <tr>\n",
       "      <th>6</th>\n",
       "      <td>buffer</td>\n",
       "      <td>strcpy</td>\n",
       "      <td>CWE-120</td>\n",
       "      <td>2</td>\n",
       "    </tr>\n",
       "    <tr>\n",
       "      <th>11</th>\n",
       "      <td>format</td>\n",
       "      <td>snprintf</td>\n",
       "      <td>CWE-134</td>\n",
       "      <td>2</td>\n",
       "    </tr>\n",
       "    <tr>\n",
       "      <th>0</th>\n",
       "      <td>-</td>\n",
       "      <td>bufferAccessOutOfBounds</td>\n",
       "      <td>CWE-788</td>\n",
       "      <td>1</td>\n",
       "    </tr>\n",
       "  </tbody>\n",
       "</table>\n",
       "</div>"
      ],
      "text/plain": [
       "   category                     name               cwe  count\n",
       "3    buffer                     char  CWE-119!/CWE-120     46\n",
       "7    buffer                   strlen           CWE-126     19\n",
       "4    buffer                   memcpy           CWE-120     16\n",
       "5    buffer                  sprintf           CWE-120     15\n",
       "8    buffer                  strncpy           CWE-120     14\n",
       "2         -             unknownMacro       CWE-unknown      5\n",
       "1         -   returnDanglingLifetime           CWE-562      3\n",
       "6    buffer                   strcpy           CWE-120      2\n",
       "11   format                 snprintf           CWE-134      2\n",
       "0         -  bufferAccessOutOfBounds           CWE-788      1"
      ]
     },
     "execution_count": 3,
     "metadata": {},
     "output_type": "execute_result"
    }
   ],
   "source": [
    "dfplt.sort_values(by=['count'], ascending=False).head(10)"
   ]
  },
  {
   "attachments": {},
   "cell_type": "markdown",
   "metadata": {},
   "source": [
    "# Top 10 vulnerabilities"
   ]
  },
  {
   "cell_type": "code",
   "execution_count": 4,
   "metadata": {},
   "outputs": [
    {
     "name": "stdout",
     "output_type": "stream",
     "text": [
      "+----+------------+-------------------------+------------------+---------+\n",
      "|    | category   | name                    | cwe              |   count |\n",
      "|----+------------+-------------------------+------------------+---------|\n",
      "|  0 | buffer     | char                    | CWE-119!/CWE-120 |      46 |\n",
      "|  1 | buffer     | strlen                  | CWE-126          |      19 |\n",
      "|  2 | buffer     | memcpy                  | CWE-120          |      16 |\n",
      "|  3 | buffer     | sprintf                 | CWE-120          |      15 |\n",
      "|  4 | buffer     | strncpy                 | CWE-120          |      14 |\n",
      "|  5 | -          | unknownMacro            | CWE-unknown      |       5 |\n",
      "|  6 | -          | returnDanglingLifetime  | CWE-562          |       3 |\n",
      "|  7 | buffer     | strcpy                  | CWE-120          |       2 |\n",
      "|  8 | format     | snprintf                | CWE-134          |       2 |\n",
      "|  9 | -          | bufferAccessOutOfBounds | CWE-788          |       1 |\n",
      "+----+------------+-------------------------+------------------+---------+\n"
     ]
    }
   ],
   "source": [
    "df_top10 = dfplt.sort_values(by=['count'], ascending=False).head(10).reset_index(drop=True)\n",
    "print(tabulate(df_top10, headers='keys', tablefmt='psql'))\n",
    "df_top10.to_latex(\"../result/top10.tex\", index=False, caption=\"Top 10 CWEs in IoT code\")"
   ]
  },
  {
   "cell_type": "code",
   "execution_count": 5,
   "metadata": {},
   "outputs": [
    {
     "data": {
      "text/plain": [
       "<AxesSubplot: >"
      ]
     },
     "execution_count": 5,
     "metadata": {},
     "output_type": "execute_result"
    },
    {
     "data": {
      "image/png": "[encoded data removed]",
      "text/plain": [
       "<Figure size 640x480 with 1 Axes>"
      ]
     },
     "metadata": {},
     "output_type": "display_data"
    }
   ],
   "source": [
    "# dfs.context.head(200).str.len().plot(kind='bar')\n",
    "pd.Series(sorted(list(dfs.context.head(20).str.len()))).plot(kind='bar')"
   ]
  },
  {
   "cell_type": "code",
   "execution_count": 6,
   "metadata": {},
   "outputs": [
    {
     "data": {
      "text/plain": [
       "0             char msg_ctxt_id[msgctxt_len + msgid_len];\n",
       "1                                        char buf[1024];\n",
       "2        memcpy (msg_ctxt_id, msgctxt, msgctxt_len - 1);\n",
       "3      memcpy (msg_ctxt_id + msgctxt_len, msgid, msgi...\n",
       "4             size_t msgctxt_len = strlen (msgctxt) + 1;\n",
       "                             ...                        \n",
       "368                                             fd = -1;\n",
       "369                       strcpy(msg->sendcmd, nextptr);\n",
       "370                                     char sendcmd[1];\n",
       "371                       len = strlen((char *)nextptr);\n",
       "372                                 struct cmd_msg *msg;\n",
       "Name: context, Length: 373, dtype: object"
      ]
     },
     "execution_count": 6,
     "metadata": {},
     "output_type": "execute_result"
    }
   ],
   "source": [
    "dfs.context"
   ]
  },
  {
   "cell_type": "code",
   "execution_count": 7,
   "metadata": {},
   "outputs": [
    {
     "data": {
      "text/plain": [
       "<AxesSubplot: ylabel='Frequency'>"
      ]
     },
     "execution_count": 7,
     "metadata": {},
     "output_type": "execute_result"
    },
    {
     "data": {
      "image/png": "[encoded data removed]",
      "text/plain": [
       "<Figure size 640x480 with 1 Axes>"
      ]
     },
     "metadata": {},
     "output_type": "display_data"
    }
   ],
   "source": [
    "pd.Series([len(x) for x in dff.code if len(x)>10]).plot.hist(xlabel='#chars', ylabel='#statements')"
   ]
  },
  {
   "cell_type": "code",
   "execution_count": 8,
   "metadata": {},
   "outputs": [
    {
     "data": {
      "text/plain": [
       "[17, 27, 33, 70, 18]"
      ]
     },
     "execution_count": 8,
     "metadata": {},
     "output_type": "execute_result"
    }
   ],
   "source": [
    "def filter_unusual_statements(statements, min_len, max_len, df):\n",
    "    \"\"\"\" \n",
    "    # https://peps.python.org/pep-0007/\n",
    "    # https://www.python.org/dev/peps/pep-0007/ \n",
    "\n",
    "    \"\"\"\n",
    "    filtered_statements = []\n",
    "    for statement in statements:\n",
    "        if len(statement) >= min_len and len(statement) <= max_len:\n",
    "            filtered_statements.append(statement)\n",
    "   \n",
    "    # take size of the vul statements as basis\n",
    "    df = pd.Series(statements)   \n",
    "    df = df.str.len()\n",
    "    \n",
    "    stat_sizes =  list(df[df.between(max_len, min_len)].reset_index(drop=True))\n",
    "    \n",
    "    sample_size = 5 if len(stat_sizes)>5 else len(stat_sizes)-1\n",
    "    stat_sizes = random.sample(set(stat_sizes), sample_size)\n",
    "    return stat_sizes\n",
    "\n",
    "\n",
    "# standard variables:\n",
    "max_len = 79  #TODO: double check pep standards\n",
    "\n",
    "# TODO: check min_len as well, otherwise the below code unnessesarily checks one extra condition \n",
    "# because there is no any statement/fun with len below that. \n",
    "# for min_len (eg, 7 characters)\n",
    "min_len = dfs.context.str.len().sort_values(ascending=False).reset_index(drop=True).min()\n",
    "\n",
    "\n",
    "lines = dff.code[0].splitlines()\n",
    "stat_sizes = filter_unusual_statements(lines, max_len, min_len, dfs)\n",
    "stat_sizes"
   ]
  },
  {
   "cell_type": "code",
   "execution_count": 9,
   "metadata": {},
   "outputs": [],
   "source": [
    "# df_dnn = pd.read_csv('../data/iDetect_refine/DNN_Binary.csv')\n",
    "# df_conti = pd.read_csv('../data/contiki-master_Binary.csv')\n",
    "# df_rasp = pd.read_csv('../data/raspberry_metrics.csv')\n",
    "# df_rasp_flaw = pd.read_csv('../data/raspberry_flaw.csv')\n",
    "\n",
    "# print('Shape of DNN data: ', df_dnn.shape)\n",
    "# print('Shape of contiki: ', df_conti.shape)\n",
    "# print('Shape of raspberry: ', df_rasp.shape)\n",
    "# print('Shape of raspberry flaws: ', df_rasp_flaw.shape)\n",
    "\n",
    "# dfcon = dfcon.rename(columns={'context': 'code'})\n",
    "# dfcon.to_csv('../data/contiki-master_Binary.csv', index=False)"
   ]
  },
  {
   "attachments": {},
   "cell_type": "markdown",
   "metadata": {},
   "source": [
    "# Convert hyperparameters list to latex table format"
   ]
  },
  {
   "cell_type": "code",
   "execution_count": 10,
   "metadata": {},
   "outputs": [
    {
     "name": "stdout",
     "output_type": "stream",
     "text": [
      "<class 'dict'>\n",
      "\\begin{table}\n",
      "\\centering\n",
      "\\caption{Hyperparameter Settings}\n",
      "\\label{Hyperparameter Settings}\n",
      "\\begin{tabular}{ll}\n",
      "\\toprule\n",
      "hyperparameter &                           value \\\\\n",
      "\\midrule\n",
      "        epochs &                              50 \\\\\n",
      "  debug\\_epochs &                               3 \\\\\n",
      "         batch &                             128 \\\\\n",
      "  input\\_length &                             150 \\\\\n",
      "     input\\_dim &                             150 \\\\\n",
      "    output\\_dim &                              32 \\\\\n",
      "            lr &                            1e-4 \\\\\n",
      "      patience &                             100 \\\\\n",
      "     optimizer &                            adam \\\\\n",
      "        l2\\_reg &                            1e-4 \\\\\n",
      "       dropout &                             0.0 \\\\\n",
      " recur\\_dropout &                             0.0 \\\\\n",
      "        beta\\_1 &                             0.9 \\\\\n",
      "        beta\\_2 &                           0.999 \\\\\n",
      "       epsilon &                           1e-08 \\\\\n",
      "         decay &                             0.0 \\\\\n",
      "       verbose &                               2 \\\\\n",
      "          loss & sparse\\_categorical\\_crossentropy \\\\\n",
      "\\bottomrule\n",
      "\\end{tabular}\n",
      "\\end{table}\n",
      "\n"
     ]
    }
   ],
   "source": [
    "def hyperpara2latex(yaml_file):\n",
    "    \"\"\"\n",
    "    load the yaml file and return a dictionary\n",
    "    \"\"\"\n",
    "    config = {}\n",
    "    cols = ['hyperparameter', 'value']\n",
    "    \n",
    "    ext = Path(yaml_file).suffix.replace('.', '') \n",
    "    \n",
    "    with open(yaml_file, \"r\") as stream:\n",
    "        try:\n",
    "            config = yaml.safe_load(stream)\n",
    "            print(type(config))\n",
    "            df = pd.DataFrame([config['dnn']]).T.reset_index()\n",
    "            print(df.to_latex(index=False, \n",
    "                    header=cols, \n",
    "                    #   column_format='|l|l|', \n",
    "                    label='Hyperparameter Settings', \n",
    "                    caption='Hyperparameter Settings'))\n",
    "        except yaml.YAMLError as exc:\n",
    "            print(exc)\n",
    "\n",
    "config = hyperpara2latex('../config.yaml')"
   ]
  },
  {
   "cell_type": "markdown",
   "metadata": {},
   "source": [
    "## Frequency of the vulnerabilities and benign samples at \n",
    "    - statement-level \n",
    "    - function-level"
   ]
  },
  {
   "cell_type": "code",
   "execution_count": 11,
   "metadata": {},
   "outputs": [
    {
     "name": "stdout",
     "output_type": "stream",
     "text": [
      "/Users/guru/research/projects/gnucobol-3.2/lib/\n",
      "(27, 16)\n",
      "Benign              18\n",
      "CWE-562              3\n",
      "CWE-119!/CWE-120     2\n",
      "CWE-120              2\n",
      "CWE-126              2\n",
      "Name: cwe, dtype: int64\n",
      "buffer    6\n",
      "-         3\n",
      "Name: category, dtype: int64\n",
      "----------------------\n",
      "data/projects/contiki-2.4/apps/shell/\n",
      "(346, 16)\n",
      "Benign              230\n",
      "CWE-120              45\n",
      "CWE-119!/CWE-120     44\n",
      "CWE-126              17\n",
      "CWE-unknown           6\n",
      "CWE-134               3\n",
      "CWE-788               1\n",
      "Name: cwe, dtype: int64\n",
      "buffer                      106\n",
      "-                             6\n",
      "format                        3\n",
      "fixed size global buffer      1\n",
      "Name: category, dtype: int64\n",
      "----------------------\n"
     ]
    }
   ],
   "source": [
    "# for project-wise distribution\n",
    "projects = list(dfs.project.unique())\n",
    "\n",
    "for project in projects:\n",
    "    print(project)\n",
    "    df = dfs[dfs.project == project]\n",
    "    print(df.shape)\n",
    "    print(df.cwe.value_counts())\n",
    "    print(df.category.value_counts())\n",
    "    print('----------------------')"
   ]
  },
  {
   "attachments": {},
   "cell_type": "markdown",
   "metadata": {},
   "source": [
    "## Create a latex table from the statistics of projects"
   ]
  },
  {
   "cell_type": "code",
   "execution_count": 12,
   "metadata": {},
   "outputs": [
    {
     "data": {
      "text/html": [
       "<div>\n",
       "<style scoped>\n",
       "    .dataframe tbody tr th:only-of-type {\n",
       "        vertical-align: middle;\n",
       "    }\n",
       "\n",
       "    .dataframe tbody tr th {\n",
       "        vertical-align: top;\n",
       "    }\n",
       "\n",
       "    .dataframe thead th {\n",
       "        text-align: right;\n",
       "    }\n",
       "</style>\n",
       "<table border=\"1\" class=\"dataframe\">\n",
       "  <thead>\n",
       "    <tr style=\"text-align: right;\">\n",
       "      <th></th>\n",
       "      <th></th>\n",
       "      <th>count</th>\n",
       "    </tr>\n",
       "    <tr>\n",
       "      <th>project</th>\n",
       "      <th>cwe</th>\n",
       "      <th></th>\n",
       "    </tr>\n",
       "  </thead>\n",
       "  <tbody>\n",
       "    <tr>\n",
       "      <th rowspan=\"2\" valign=\"top\"></th>\n",
       "      <th>Benign</th>\n",
       "      <td>248</td>\n",
       "    </tr>\n",
       "    <tr>\n",
       "      <th>Vulnerable</th>\n",
       "      <td>125</td>\n",
       "    </tr>\n",
       "  </tbody>\n",
       "</table>\n",
       "</div>"
      ],
      "text/plain": [
       "                    count\n",
       "project cwe              \n",
       "        Benign        248\n",
       "        Vulnerable    125"
      ]
     },
     "execution_count": 12,
     "metadata": {},
     "output_type": "execute_result"
    }
   ],
   "source": [
    "def save_latex(df, file):\n",
    "    \"\"\"\n",
    "    save the dataframe as latex table\n",
    "    \"\"\"\n",
    "    styler = df.style\n",
    "    # styler.applymap_index(lambda v: \"font-weight: bold;\", axis=\"index\")\n",
    "    styler.applymap_index(lambda v: \"font-weight: bold;\", axis=\"columns\")\n",
    "    res = styler.to_latex(convert_css=True, column_format='|l|l|r|')\n",
    "\n",
    "    with open(file, 'w') as f:\n",
    "        f.write(res)\n",
    "    return res\n",
    "\n",
    "# make class binary type benign/vulnerable\n",
    "dfs_binary = dfs.copy()\n",
    "dfs_binary.loc[dfs_binary.cwe!=\"Benign\", 'cwe'] = \"Vulnerable\"\n",
    "dfs_binary['project'] = dfs_binary.project.str.split('/').str[-1]\n",
    "\n",
    "prj_stat = dfs_binary.groupby(['project', 'cwe']).size().reset_index(name='count')\n",
    "prj_s = prj_stat.groupby(['project', 'cwe']).sum()\n",
    "\n",
    "res = tabulate(save_latex(prj_s, '../result/project_stat.tex'))\n",
    "prj_s"
   ]
  },
  {
   "cell_type": "code",
   "execution_count": 13,
   "metadata": {},
   "outputs": [],
   "source": [
    "prj_sflat = prj_s.reset_index()\n",
    "prj_sflat = prj_sflat.pivot(index='project', columns='cwe', values='count')\n",
    "prj_sflat.reset_index().to_latex('../result/project_stat_flat.tex', index=False)"
   ]
  },
  {
   "cell_type": "code",
   "execution_count": 14,
   "metadata": {},
   "outputs": [
    {
     "name": "stdout",
     "output_type": "stream",
     "text": [
      "\\begin{table}\n",
      "\\centering\n",
      "\\caption{Top 10 CWEs}\n",
      "\\label{Top 10 CWEs}\n",
      "\\begin{tabular}{lr}\n",
      "\\toprule\n",
      "       cwe &  count \\\\\n",
      "\\midrule\n",
      "Vulnerable &     45 \\\\\n",
      "\\bottomrule\n",
      "\\end{tabular}\n",
      "\\end{table}\n",
      "\n"
     ]
    }
   ],
   "source": [
    "# make class binary type benign/vulnerable\n",
    "dff_binary = dff.copy()\n",
    "dff_binary.loc[dff_binary.cwe!=\"Benign\", 'cwe'] = \"Vulnerable\"\n",
    "\n",
    "prj_ff = dff_binary.groupby(['project', 'cwe']).size().reset_index(name='count')\n",
    "prj_f = prj_ff.groupby(['cwe']).sum().sort_values(by='count', ascending=False).reset_index()\n",
    "prj_f = prj_f[prj_f.cwe != 'Benign'].head(10)\n",
    "print(prj_f.to_latex(index=False, caption='Top 10 CWEs', label='Top 10 CWEs'))"
   ]
  },
  {
   "cell_type": "code",
   "execution_count": 15,
   "metadata": {},
   "outputs": [
    {
     "data": {
      "text/html": [
       "<div>\n",
       "<style scoped>\n",
       "    .dataframe tbody tr th:only-of-type {\n",
       "        vertical-align: middle;\n",
       "    }\n",
       "\n",
       "    .dataframe tbody tr th {\n",
       "        vertical-align: top;\n",
       "    }\n",
       "\n",
       "    .dataframe thead th {\n",
       "        text-align: right;\n",
       "    }\n",
       "</style>\n",
       "<table border=\"1\" class=\"dataframe\">\n",
       "  <thead>\n",
       "    <tr style=\"text-align: right;\">\n",
       "      <th></th>\n",
       "      <th>count</th>\n",
       "    </tr>\n",
       "    <tr>\n",
       "      <th>cwe</th>\n",
       "      <th></th>\n",
       "    </tr>\n",
       "  </thead>\n",
       "  <tbody>\n",
       "    <tr>\n",
       "      <th>Benign</th>\n",
       "      <td>248</td>\n",
       "    </tr>\n",
       "    <tr>\n",
       "      <th>CWE-119!/CWE-120</th>\n",
       "      <td>46</td>\n",
       "    </tr>\n",
       "    <tr>\n",
       "      <th>CWE-120</th>\n",
       "      <td>47</td>\n",
       "    </tr>\n",
       "    <tr>\n",
       "      <th>CWE-126</th>\n",
       "      <td>19</td>\n",
       "    </tr>\n",
       "    <tr>\n",
       "      <th>CWE-134</th>\n",
       "      <td>3</td>\n",
       "    </tr>\n",
       "    <tr>\n",
       "      <th>CWE-562</th>\n",
       "      <td>3</td>\n",
       "    </tr>\n",
       "    <tr>\n",
       "      <th>CWE-788</th>\n",
       "      <td>1</td>\n",
       "    </tr>\n",
       "    <tr>\n",
       "      <th>CWE-unknown</th>\n",
       "      <td>6</td>\n",
       "    </tr>\n",
       "  </tbody>\n",
       "</table>\n",
       "</div>"
      ],
      "text/plain": [
       "                  count\n",
       "cwe                    \n",
       "Benign              248\n",
       "CWE-119!/CWE-120     46\n",
       "CWE-120              47\n",
       "CWE-126              19\n",
       "CWE-134               3\n",
       "CWE-562               3\n",
       "CWE-788               1\n",
       "CWE-unknown           6"
      ]
     },
     "execution_count": 15,
     "metadata": {},
     "output_type": "execute_result"
    }
   ],
   "source": [
    "prj_s = dfs.groupby(['project', 'cwe']).size().reset_index(name='count')\n",
    "prj_s = prj_s.groupby(['cwe']).sum()\n",
    "prj_s"
   ]
  },
  {
   "attachments": {},
   "cell_type": "markdown",
   "metadata": {},
   "source": [
    "# Show the description of the function-level data"
   ]
  },
  {
   "cell_type": "code",
   "execution_count": 16,
   "metadata": {},
   "outputs": [
    {
     "name": "stdout",
     "output_type": "stream",
     "text": [
      "\\begin{table}\n",
      "\\centering\n",
      "\\caption{Function Statistics}\n",
      "\\label{Function Statistics}\n",
      "\\begin{tabular}{rrrrr}\n",
      "\\toprule\n",
      "features & unique &                                   top & freq \\\\\n",
      "\\midrule\n",
      " context &     34 &                                       &  144 \\\\\n",
      "     cwe &      2 &                                Benign &  144 \\\\\n",
      " project &      2 & data/projects/contiki-2.4/apps/shell/ &  171 \\\\\n",
      "\\bottomrule\n",
      "\\end{tabular}\n",
      "\\end{table}\n",
      "\n"
     ]
    }
   ],
   "source": [
    "df_describe = dff_binary.drop(\n",
    "    labels=['top_nesting_level', 'fan_in', 'fan_out', 'general_fan_out', 'content', 'long_name', 'fun_name', 'full_parameters', 'code'],\n",
    "    axis=1, \n",
    "    errors='ignore').describe().T\n",
    "\n",
    "df_freq = df_describe.reset_index().rename(columns={'index': 'features'})\n",
    "df_freq = df_freq.drop(labels=['count'], axis=1)\n",
    "# The freq is the most common value’s frequency. The top is the most common value.\n",
    "\n",
    "print(df_freq[~df_freq.features.isin(['file'])].to_latex(\n",
    "    index=False, \n",
    "    column_format='rrrrr', \n",
    "    label='Function Statistics', \n",
    "    caption='Function Statistics')\n",
    "    )"
   ]
  },
  {
   "cell_type": "code",
   "execution_count": 17,
   "metadata": {},
   "outputs": [
    {
     "data": {
      "text/plain": [
       "Benign              248\n",
       "CWE-120              47\n",
       "CWE-119!/CWE-120     46\n",
       "CWE-126              19\n",
       "CWE-unknown           6\n",
       "CWE-562               3\n",
       "CWE-134               3\n",
       "CWE-788               1\n",
       "Name: cwe, dtype: int64"
      ]
     },
     "execution_count": 17,
     "metadata": {},
     "output_type": "execute_result"
    }
   ],
   "source": [
    "dfs.cwe.value_counts()"
   ]
  },
  {
   "cell_type": "code",
   "execution_count": 18,
   "metadata": {},
   "outputs": [
    {
     "data": {
      "text/plain": [
       "Benign         144\n",
       "CWE-unknown     45\n",
       "Name: cwe, dtype: int64"
      ]
     },
     "execution_count": 18,
     "metadata": {},
     "output_type": "execute_result"
    }
   ],
   "source": [
    "dff.cwe.value_counts()"
   ]
  },
  {
   "cell_type": "code",
   "execution_count": 19,
   "metadata": {},
   "outputs": [
    {
     "name": "stdout",
     "output_type": "stream",
     "text": [
      "Size of statements: 373\n",
      "Size of unique statements: 357\n",
      "\n",
      "Size of functions: 189\n",
      "Size of unique functions: 146\n"
     ]
    }
   ],
   "source": [
    "print(f'Size of statements: {len(dfs.context)}')\n",
    "print(f'Size of unique statements: {dfs.context.nunique()}')\n",
    "\n",
    "print(f'\\nSize of functions: {len(dff.code)}')\n",
    "print(f'Size of unique functions: {dff.code.nunique()}')"
   ]
  },
  {
   "cell_type": "code",
   "execution_count": 20,
   "metadata": {},
   "outputs": [
    {
     "data": {
      "text/html": [
       "<div>\n",
       "<style scoped>\n",
       "    .dataframe tbody tr th:only-of-type {\n",
       "        vertical-align: middle;\n",
       "    }\n",
       "\n",
       "    .dataframe tbody tr th {\n",
       "        vertical-align: top;\n",
       "    }\n",
       "\n",
       "    .dataframe thead th {\n",
       "        text-align: right;\n",
       "    }\n",
       "</style>\n",
       "<table border=\"1\" class=\"dataframe\">\n",
       "  <thead>\n",
       "    <tr style=\"text-align: right;\">\n",
       "      <th></th>\n",
       "      <th>file</th>\n",
       "      <th>code</th>\n",
       "      <th>context</th>\n",
       "      <th>cwe</th>\n",
       "      <th>project</th>\n",
       "    </tr>\n",
       "  </thead>\n",
       "  <tbody>\n",
       "    <tr>\n",
       "      <th>0</th>\n",
       "      <td>/Users/guru/research/projects/gnucobol-3.2/lib...</td>\n",
       "      <td>__inline\\n#else\\n#ifdef __cplusplus\\ninline\\n#...</td>\n",
       "      <td></td>\n",
       "      <td>Benign</td>\n",
       "      <td>/Users/guru/research/projects/gnucobol-3.2/lib/</td>\n",
       "    </tr>\n",
       "    <tr>\n",
       "      <th>1</th>\n",
       "      <td>/Users/guru/research/projects/gnucobol-3.2/lib...</td>\n",
       "      <td>__inline\\n#else\\n#ifdef __cplusplus\\ninline\\n#...</td>\n",
       "      <td></td>\n",
       "      <td>Benign</td>\n",
       "      <td>/Users/guru/research/projects/gnucobol-3.2/lib/</td>\n",
       "    </tr>\n",
       "    <tr>\n",
       "      <th>2</th>\n",
       "      <td>data/projects/contiki-2.4/apps/shell/shell-file.c</td>\n",
       "      <td>void\\nshell_file_init(void)\\n{\\n  shell_regist...</td>\n",
       "      <td></td>\n",
       "      <td>Benign</td>\n",
       "      <td>data/projects/contiki-2.4/apps/shell/</td>\n",
       "    </tr>\n",
       "    <tr>\n",
       "      <th>3</th>\n",
       "      <td>data/projects/contiki-2.4/apps/shell/shell-rsh.c</td>\n",
       "      <td>static void\\nconnected_meshconn(struct meshcon...</td>\n",
       "      <td></td>\n",
       "      <td>Benign</td>\n",
       "      <td>data/projects/contiki-2.4/apps/shell/</td>\n",
       "    </tr>\n",
       "    <tr>\n",
       "      <th>4</th>\n",
       "      <td>data/projects/contiki-2.4/apps/shell/shell-rsh.c</td>\n",
       "      <td>static void\\nrecv_meshconn(struct meshconn_con...</td>\n",
       "      <td></td>\n",
       "      <td>Benign</td>\n",
       "      <td>data/projects/contiki-2.4/apps/shell/</td>\n",
       "    </tr>\n",
       "    <tr>\n",
       "      <th>...</th>\n",
       "      <td>...</td>\n",
       "      <td>...</td>\n",
       "      <td>...</td>\n",
       "      <td>...</td>\n",
       "      <td>...</td>\n",
       "    </tr>\n",
       "    <tr>\n",
       "      <th>139</th>\n",
       "      <td>data/projects/contiki-2.4/apps/shell/shell-dow...</td>\n",
       "      <td>static void\\nrequest_sent(struct runicast_conn...</td>\n",
       "      <td></td>\n",
       "      <td>Benign</td>\n",
       "      <td>data/projects/contiki-2.4/apps/shell/</td>\n",
       "    </tr>\n",
       "    <tr>\n",
       "      <th>140</th>\n",
       "      <td>data/projects/contiki-2.4/apps/shell/shell-dow...</td>\n",
       "      <td>static void\\nrequest_timedout(struct runicast_...</td>\n",
       "      <td></td>\n",
       "      <td>Benign</td>\n",
       "      <td>data/projects/contiki-2.4/apps/shell/</td>\n",
       "    </tr>\n",
       "    <tr>\n",
       "      <th>141</th>\n",
       "      <td>data/projects/contiki-2.4/apps/shell/shell-dow...</td>\n",
       "      <td>void\\nshell_download_init(void)\\n{\\n  req_seq_...</td>\n",
       "      <td></td>\n",
       "      <td>Benign</td>\n",
       "      <td>data/projects/contiki-2.4/apps/shell/</td>\n",
       "    </tr>\n",
       "    <tr>\n",
       "      <th>142</th>\n",
       "      <td>data/projects/contiki-2.4/apps/shell/shell-rim...</td>\n",
       "      <td>static void\\nrecv_uc(struct unicast_conn *c, c...</td>\n",
       "      <td></td>\n",
       "      <td>Benign</td>\n",
       "      <td>data/projects/contiki-2.4/apps/shell/</td>\n",
       "    </tr>\n",
       "    <tr>\n",
       "      <th>143</th>\n",
       "      <td>data/projects/contiki-2.4/apps/shell/shell-rim...</td>\n",
       "      <td>void\\nshell_rime_sendcmd_init(void)\\n{\\n  unic...</td>\n",
       "      <td></td>\n",
       "      <td>Benign</td>\n",
       "      <td>data/projects/contiki-2.4/apps/shell/</td>\n",
       "    </tr>\n",
       "  </tbody>\n",
       "</table>\n",
       "<p>144 rows × 5 columns</p>\n",
       "</div>"
      ],
      "text/plain": [
       "                                                  file  \\\n",
       "0    /Users/guru/research/projects/gnucobol-3.2/lib...   \n",
       "1    /Users/guru/research/projects/gnucobol-3.2/lib...   \n",
       "2    data/projects/contiki-2.4/apps/shell/shell-file.c   \n",
       "3     data/projects/contiki-2.4/apps/shell/shell-rsh.c   \n",
       "4     data/projects/contiki-2.4/apps/shell/shell-rsh.c   \n",
       "..                                                 ...   \n",
       "139  data/projects/contiki-2.4/apps/shell/shell-dow...   \n",
       "140  data/projects/contiki-2.4/apps/shell/shell-dow...   \n",
       "141  data/projects/contiki-2.4/apps/shell/shell-dow...   \n",
       "142  data/projects/contiki-2.4/apps/shell/shell-rim...   \n",
       "143  data/projects/contiki-2.4/apps/shell/shell-rim...   \n",
       "\n",
       "                                                  code context     cwe  \\\n",
       "0    __inline\\n#else\\n#ifdef __cplusplus\\ninline\\n#...          Benign   \n",
       "1    __inline\\n#else\\n#ifdef __cplusplus\\ninline\\n#...          Benign   \n",
       "2    void\\nshell_file_init(void)\\n{\\n  shell_regist...          Benign   \n",
       "3    static void\\nconnected_meshconn(struct meshcon...          Benign   \n",
       "4    static void\\nrecv_meshconn(struct meshconn_con...          Benign   \n",
       "..                                                 ...     ...     ...   \n",
       "139  static void\\nrequest_sent(struct runicast_conn...          Benign   \n",
       "140  static void\\nrequest_timedout(struct runicast_...          Benign   \n",
       "141  void\\nshell_download_init(void)\\n{\\n  req_seq_...          Benign   \n",
       "142  static void\\nrecv_uc(struct unicast_conn *c, c...          Benign   \n",
       "143  void\\nshell_rime_sendcmd_init(void)\\n{\\n  unic...          Benign   \n",
       "\n",
       "                                             project  \n",
       "0    /Users/guru/research/projects/gnucobol-3.2/lib/  \n",
       "1    /Users/guru/research/projects/gnucobol-3.2/lib/  \n",
       "2              data/projects/contiki-2.4/apps/shell/  \n",
       "3              data/projects/contiki-2.4/apps/shell/  \n",
       "4              data/projects/contiki-2.4/apps/shell/  \n",
       "..                                               ...  \n",
       "139            data/projects/contiki-2.4/apps/shell/  \n",
       "140            data/projects/contiki-2.4/apps/shell/  \n",
       "141            data/projects/contiki-2.4/apps/shell/  \n",
       "142            data/projects/contiki-2.4/apps/shell/  \n",
       "143            data/projects/contiki-2.4/apps/shell/  \n",
       "\n",
       "[144 rows x 5 columns]"
      ]
     },
     "execution_count": 20,
     "metadata": {},
     "output_type": "execute_result"
    }
   ],
   "source": [
    "dff[dff.cwe=='Benign'].drop_duplicates().reset_index(drop=True)"
   ]
  },
  {
   "cell_type": "code",
   "execution_count": 21,
   "metadata": {},
   "outputs": [
    {
     "name": "stdout",
     "output_type": "stream",
     "text": [
      "45\n"
     ]
    },
    {
     "data": {
      "text/html": [
       "<div>\n",
       "<style scoped>\n",
       "    .dataframe tbody tr th:only-of-type {\n",
       "        vertical-align: middle;\n",
       "    }\n",
       "\n",
       "    .dataframe tbody tr th {\n",
       "        vertical-align: top;\n",
       "    }\n",
       "\n",
       "    .dataframe thead th {\n",
       "        text-align: right;\n",
       "    }\n",
       "</style>\n",
       "<table border=\"1\" class=\"dataframe\">\n",
       "  <thead>\n",
       "    <tr style=\"text-align: right;\">\n",
       "      <th></th>\n",
       "      <th>file</th>\n",
       "      <th>code</th>\n",
       "      <th>context</th>\n",
       "      <th>cwe</th>\n",
       "      <th>project</th>\n",
       "    </tr>\n",
       "  </thead>\n",
       "  <tbody>\n",
       "    <tr>\n",
       "      <th>0</th>\n",
       "      <td>/Users/guru/research/projects/gnucobol-3.2/lib...</td>\n",
       "      <td>__inline\\n#else\\n#ifdef __cplusplus\\ninline\\n#...</td>\n",
       "      <td>return translation;</td>\n",
       "      <td>CWE-unknown</td>\n",
       "      <td>/Users/guru/research/projects/gnucobol-3.2/lib/</td>\n",
       "    </tr>\n",
       "    <tr>\n",
       "      <th>1</th>\n",
       "      <td>/Users/guru/research/projects/gnucobol-3.2/lib...</td>\n",
       "      <td>__inline\\n#else\\n#ifdef __cplusplus\\ninline\\n#...</td>\n",
       "      <td>return translation;</td>\n",
       "      <td>CWE-unknown</td>\n",
       "      <td>/Users/guru/research/projects/gnucobol-3.2/lib/</td>\n",
       "    </tr>\n",
       "    <tr>\n",
       "      <th>2</th>\n",
       "      <td>/Users/guru/research/projects/gnucobol-3.2/lib...</td>\n",
       "      <td>__inline\\n#else\\n#ifdef __cplusplus\\ninline\\n#...</td>\n",
       "      <td>char msg_ctxt_id[msgctxt_len + msgid_len];</td>\n",
       "      <td>CWE-unknown</td>\n",
       "      <td>/Users/guru/research/projects/gnucobol-3.2/lib/</td>\n",
       "    </tr>\n",
       "    <tr>\n",
       "      <th>3</th>\n",
       "      <td>/Users/guru/research/projects/gnucobol-3.2/lib...</td>\n",
       "      <td>__inline\\n#else\\n#ifdef __cplusplus\\ninline\\n#...</td>\n",
       "      <td>char buf[1024];</td>\n",
       "      <td>CWE-unknown</td>\n",
       "      <td>/Users/guru/research/projects/gnucobol-3.2/lib/</td>\n",
       "    </tr>\n",
       "    <tr>\n",
       "      <th>4</th>\n",
       "      <td>/Users/guru/research/projects/gnucobol-3.2/lib...</td>\n",
       "      <td>__inline\\n#else\\n#ifdef __cplusplus\\ninline\\n#...</td>\n",
       "      <td>memcpy (msg_ctxt_id, msgctxt, msgctxt_len - 1);</td>\n",
       "      <td>CWE-unknown</td>\n",
       "      <td>/Users/guru/research/projects/gnucobol-3.2/lib/</td>\n",
       "    </tr>\n",
       "  </tbody>\n",
       "</table>\n",
       "</div>"
      ],
      "text/plain": [
       "                                                file  \\\n",
       "0  /Users/guru/research/projects/gnucobol-3.2/lib...   \n",
       "1  /Users/guru/research/projects/gnucobol-3.2/lib...   \n",
       "2  /Users/guru/research/projects/gnucobol-3.2/lib...   \n",
       "3  /Users/guru/research/projects/gnucobol-3.2/lib...   \n",
       "4  /Users/guru/research/projects/gnucobol-3.2/lib...   \n",
       "\n",
       "                                                code  \\\n",
       "0  __inline\\n#else\\n#ifdef __cplusplus\\ninline\\n#...   \n",
       "1  __inline\\n#else\\n#ifdef __cplusplus\\ninline\\n#...   \n",
       "2  __inline\\n#else\\n#ifdef __cplusplus\\ninline\\n#...   \n",
       "3  __inline\\n#else\\n#ifdef __cplusplus\\ninline\\n#...   \n",
       "4  __inline\\n#else\\n#ifdef __cplusplus\\ninline\\n#...   \n",
       "\n",
       "                                           context          cwe  \\\n",
       "0                              return translation;  CWE-unknown   \n",
       "1                              return translation;  CWE-unknown   \n",
       "2       char msg_ctxt_id[msgctxt_len + msgid_len];  CWE-unknown   \n",
       "3                                  char buf[1024];  CWE-unknown   \n",
       "4  memcpy (msg_ctxt_id, msgctxt, msgctxt_len - 1);  CWE-unknown   \n",
       "\n",
       "                                           project  \n",
       "0  /Users/guru/research/projects/gnucobol-3.2/lib/  \n",
       "1  /Users/guru/research/projects/gnucobol-3.2/lib/  \n",
       "2  /Users/guru/research/projects/gnucobol-3.2/lib/  \n",
       "3  /Users/guru/research/projects/gnucobol-3.2/lib/  \n",
       "4  /Users/guru/research/projects/gnucobol-3.2/lib/  "
      ]
     },
     "execution_count": 21,
     "metadata": {},
     "output_type": "execute_result"
    }
   ],
   "source": [
    "print(len(dff[dff.cwe!='Benign'].reset_index(drop=True)))\n",
    "dff[dff.cwe!='Benign'].drop_duplicates().reset_index(drop=True).head(5)"
   ]
  },
  {
   "cell_type": "code",
   "execution_count": 22,
   "metadata": {},
   "outputs": [
    {
     "data": {
      "text/html": [
       "<div>\n",
       "<style scoped>\n",
       "    .dataframe tbody tr th:only-of-type {\n",
       "        vertical-align: middle;\n",
       "    }\n",
       "\n",
       "    .dataframe tbody tr th {\n",
       "        vertical-align: top;\n",
       "    }\n",
       "\n",
       "    .dataframe thead th {\n",
       "        text-align: right;\n",
       "    }\n",
       "</style>\n",
       "<table border=\"1\" class=\"dataframe\">\n",
       "  <thead>\n",
       "    <tr style=\"text-align: right;\">\n",
       "      <th></th>\n",
       "      <th>file</th>\n",
       "      <th>code</th>\n",
       "      <th>context</th>\n",
       "      <th>cwe</th>\n",
       "      <th>project</th>\n",
       "    </tr>\n",
       "  </thead>\n",
       "  <tbody>\n",
       "    <tr>\n",
       "      <th>0</th>\n",
       "      <td>/Users/guru/research/projects/gnucobol-3.2/lib...</td>\n",
       "      <td>__inline\\n#else\\n#ifdef __cplusplus\\ninline\\n#...</td>\n",
       "      <td></td>\n",
       "      <td>Benign</td>\n",
       "      <td>/Users/guru/research/projects/gnucobol-3.2/lib/</td>\n",
       "    </tr>\n",
       "    <tr>\n",
       "      <th>1</th>\n",
       "      <td>/Users/guru/research/projects/gnucobol-3.2/lib...</td>\n",
       "      <td>__inline\\n#else\\n#ifdef __cplusplus\\ninline\\n#...</td>\n",
       "      <td>return translation;</td>\n",
       "      <td>CWE-unknown</td>\n",
       "      <td>/Users/guru/research/projects/gnucobol-3.2/lib/</td>\n",
       "    </tr>\n",
       "    <tr>\n",
       "      <th>2</th>\n",
       "      <td>/Users/guru/research/projects/gnucobol-3.2/lib...</td>\n",
       "      <td>__inline\\n#else\\n#ifdef __cplusplus\\ninline\\n#...</td>\n",
       "      <td></td>\n",
       "      <td>Benign</td>\n",
       "      <td>/Users/guru/research/projects/gnucobol-3.2/lib/</td>\n",
       "    </tr>\n",
       "    <tr>\n",
       "      <th>3</th>\n",
       "      <td>/Users/guru/research/projects/gnucobol-3.2/lib...</td>\n",
       "      <td>__inline\\n#else\\n#ifdef __cplusplus\\ninline\\n#...</td>\n",
       "      <td>return translation;</td>\n",
       "      <td>CWE-unknown</td>\n",
       "      <td>/Users/guru/research/projects/gnucobol-3.2/lib/</td>\n",
       "    </tr>\n",
       "    <tr>\n",
       "      <th>4</th>\n",
       "      <td>/Users/guru/research/projects/gnucobol-3.2/lib...</td>\n",
       "      <td>__inline\\n#else\\n#ifdef __cplusplus\\ninline\\n#...</td>\n",
       "      <td>char msg_ctxt_id[msgctxt_len + msgid_len];</td>\n",
       "      <td>CWE-unknown</td>\n",
       "      <td>/Users/guru/research/projects/gnucobol-3.2/lib/</td>\n",
       "    </tr>\n",
       "    <tr>\n",
       "      <th>...</th>\n",
       "      <td>...</td>\n",
       "      <td>...</td>\n",
       "      <td>...</td>\n",
       "      <td>...</td>\n",
       "      <td>...</td>\n",
       "    </tr>\n",
       "    <tr>\n",
       "      <th>184</th>\n",
       "      <td>data/projects/contiki-2.4/apps/shell/shell-dow...</td>\n",
       "      <td>static void\\nrequest_sent(struct runicast_conn...</td>\n",
       "      <td></td>\n",
       "      <td>Benign</td>\n",
       "      <td>data/projects/contiki-2.4/apps/shell/</td>\n",
       "    </tr>\n",
       "    <tr>\n",
       "      <th>185</th>\n",
       "      <td>data/projects/contiki-2.4/apps/shell/shell-dow...</td>\n",
       "      <td>static void\\nrequest_timedout(struct runicast_...</td>\n",
       "      <td></td>\n",
       "      <td>Benign</td>\n",
       "      <td>data/projects/contiki-2.4/apps/shell/</td>\n",
       "    </tr>\n",
       "    <tr>\n",
       "      <th>186</th>\n",
       "      <td>data/projects/contiki-2.4/apps/shell/shell-dow...</td>\n",
       "      <td>void\\nshell_download_init(void)\\n{\\n  req_seq_...</td>\n",
       "      <td></td>\n",
       "      <td>Benign</td>\n",
       "      <td>data/projects/contiki-2.4/apps/shell/</td>\n",
       "    </tr>\n",
       "    <tr>\n",
       "      <th>187</th>\n",
       "      <td>data/projects/contiki-2.4/apps/shell/shell-rim...</td>\n",
       "      <td>static void\\nrecv_uc(struct unicast_conn *c, c...</td>\n",
       "      <td></td>\n",
       "      <td>Benign</td>\n",
       "      <td>data/projects/contiki-2.4/apps/shell/</td>\n",
       "    </tr>\n",
       "    <tr>\n",
       "      <th>188</th>\n",
       "      <td>data/projects/contiki-2.4/apps/shell/shell-rim...</td>\n",
       "      <td>void\\nshell_rime_sendcmd_init(void)\\n{\\n  unic...</td>\n",
       "      <td></td>\n",
       "      <td>Benign</td>\n",
       "      <td>data/projects/contiki-2.4/apps/shell/</td>\n",
       "    </tr>\n",
       "  </tbody>\n",
       "</table>\n",
       "<p>189 rows × 5 columns</p>\n",
       "</div>"
      ],
      "text/plain": [
       "                                                  file  \\\n",
       "0    /Users/guru/research/projects/gnucobol-3.2/lib...   \n",
       "1    /Users/guru/research/projects/gnucobol-3.2/lib...   \n",
       "2    /Users/guru/research/projects/gnucobol-3.2/lib...   \n",
       "3    /Users/guru/research/projects/gnucobol-3.2/lib...   \n",
       "4    /Users/guru/research/projects/gnucobol-3.2/lib...   \n",
       "..                                                 ...   \n",
       "184  data/projects/contiki-2.4/apps/shell/shell-dow...   \n",
       "185  data/projects/contiki-2.4/apps/shell/shell-dow...   \n",
       "186  data/projects/contiki-2.4/apps/shell/shell-dow...   \n",
       "187  data/projects/contiki-2.4/apps/shell/shell-rim...   \n",
       "188  data/projects/contiki-2.4/apps/shell/shell-rim...   \n",
       "\n",
       "                                                  code  \\\n",
       "0    __inline\\n#else\\n#ifdef __cplusplus\\ninline\\n#...   \n",
       "1    __inline\\n#else\\n#ifdef __cplusplus\\ninline\\n#...   \n",
       "2    __inline\\n#else\\n#ifdef __cplusplus\\ninline\\n#...   \n",
       "3    __inline\\n#else\\n#ifdef __cplusplus\\ninline\\n#...   \n",
       "4    __inline\\n#else\\n#ifdef __cplusplus\\ninline\\n#...   \n",
       "..                                                 ...   \n",
       "184  static void\\nrequest_sent(struct runicast_conn...   \n",
       "185  static void\\nrequest_timedout(struct runicast_...   \n",
       "186  void\\nshell_download_init(void)\\n{\\n  req_seq_...   \n",
       "187  static void\\nrecv_uc(struct unicast_conn *c, c...   \n",
       "188  void\\nshell_rime_sendcmd_init(void)\\n{\\n  unic...   \n",
       "\n",
       "                                        context          cwe  \\\n",
       "0                                                     Benign   \n",
       "1                           return translation;  CWE-unknown   \n",
       "2                                                     Benign   \n",
       "3                           return translation;  CWE-unknown   \n",
       "4    char msg_ctxt_id[msgctxt_len + msgid_len];  CWE-unknown   \n",
       "..                                          ...          ...   \n",
       "184                                                   Benign   \n",
       "185                                                   Benign   \n",
       "186                                                   Benign   \n",
       "187                                                   Benign   \n",
       "188                                                   Benign   \n",
       "\n",
       "                                             project  \n",
       "0    /Users/guru/research/projects/gnucobol-3.2/lib/  \n",
       "1    /Users/guru/research/projects/gnucobol-3.2/lib/  \n",
       "2    /Users/guru/research/projects/gnucobol-3.2/lib/  \n",
       "3    /Users/guru/research/projects/gnucobol-3.2/lib/  \n",
       "4    /Users/guru/research/projects/gnucobol-3.2/lib/  \n",
       "..                                               ...  \n",
       "184            data/projects/contiki-2.4/apps/shell/  \n",
       "185            data/projects/contiki-2.4/apps/shell/  \n",
       "186            data/projects/contiki-2.4/apps/shell/  \n",
       "187            data/projects/contiki-2.4/apps/shell/  \n",
       "188            data/projects/contiki-2.4/apps/shell/  \n",
       "\n",
       "[189 rows x 5 columns]"
      ]
     },
     "execution_count": 22,
     "metadata": {},
     "output_type": "execute_result"
    }
   ],
   "source": [
    "# dff_new = dff.drop_duplicates().reset_index(drop=True)\n",
    "dff.loc[dff.astype(str).drop_duplicates().index].reset_index(drop=True)"
   ]
  },
  {
   "cell_type": "code",
   "execution_count": 151,
   "metadata": {},
   "outputs": [
    {
     "name": "stdout",
     "output_type": "stream",
     "text": [
      "========================================\n",
      "Removing duplicates and ambiquious samples...\n",
      "----------------------------------------\n",
      "Original data size before filtering: 189\n",
      "Step1-filtering on [code and cwe]: 163 [filtered 26]\n",
      "Step2-filtering on [code] with vuls: 146 [filtered 17]\n",
      "========================================\n"
     ]
    }
   ],
   "source": [
    "def filter_benign(code_dup, cwe):\n",
    "    \"\"\" masking to filter duplicates and benign \n",
    "    keeping vulnerable samples as it is.\n",
    "    \"\"\"\n",
    "    if code_dup == True and cwe == 'Benign':\n",
    "        return True\n",
    "    else:\n",
    "        return False\n",
    "\n",
    "\n",
    "def filter_dulicates_and_ambiquius(df):\n",
    "    \"\"\" apply filtering to remove duplicates and ambiquious samples\n",
    "    \"\"\"\n",
    "    print('='*40)\n",
    "    print('Removing duplicates and ambiquious samples...')\n",
    "    print('-'*40)\n",
    "    df = df.sort_values(by=['code','cwe'], ascending=False)\n",
    "    original_size = len(df)\n",
    "    print(f'Original data size before filtering: {len(df)}')\n",
    "\n",
    "    ## step1: remove duplicates checking ['code', 'cwe']\n",
    "    df = df.drop_duplicates(subset=['code', 'cwe']).reset_index(drop=True)\n",
    "    step1_size = len(df)\n",
    "    print(f\"Step1-filtering on [code and cwe]: {len(df)} [filtered {original_size-step1_size}]\")\n",
    "\n",
    "    ## step2: remove duplicates checking ['code']\n",
    "    df['code_dup'] = df['code'].duplicated()\n",
    "    # df = df[~df['code_dup']] # this removes vul samples as well\n",
    "    df['filter_mask'] = df.apply(lambda row: filter_benign(row.code_dup, row.cwe), axis=1)\n",
    "    df = df[~df['filter_mask']].reset_index(drop=True)\n",
    "    df = df.drop(labels=['code_dup', 'filter_mask'], axis=1)\n",
    "    step2_size = len(df)\n",
    "    print(f\"Step2-filtering on [code] with vuls: {len(df)} [filtered {step1_size-step2_size}]\")\n",
    "    print('='*40)\n",
    "    return df\n",
    "\n",
    "df = filter_dulicates_and_ambiquius(dff)"
   ]
  },
  {
   "cell_type": "code",
   "execution_count": 137,
   "metadata": {},
   "outputs": [
    {
     "data": {
      "text/plain": [
       "Benign         127\n",
       "CWE-unknown     19\n",
       "Name: cwe, dtype: int64"
      ]
     },
     "execution_count": 137,
     "metadata": {},
     "output_type": "execute_result"
    }
   ],
   "source": [
    "df.cwe.value_counts()"
   ]
  },
  {
   "cell_type": "code",
   "execution_count": 138,
   "metadata": {},
   "outputs": [
    {
     "data": {
      "text/plain": [
       "Benign         144\n",
       "CWE-unknown     45\n",
       "Name: cwe, dtype: int64"
      ]
     },
     "execution_count": 138,
     "metadata": {},
     "output_type": "execute_result"
    }
   ],
   "source": [
    "dff.cwe.value_counts()"
   ]
  },
  {
   "cell_type": "code",
   "execution_count": 74,
   "metadata": {},
   "outputs": [
    {
     "data": {
      "text/html": [
       "<div>\n",
       "<style scoped>\n",
       "    .dataframe tbody tr th:only-of-type {\n",
       "        vertical-align: middle;\n",
       "    }\n",
       "\n",
       "    .dataframe tbody tr th {\n",
       "        vertical-align: top;\n",
       "    }\n",
       "\n",
       "    .dataframe thead th {\n",
       "        text-align: right;\n",
       "    }\n",
       "</style>\n",
       "<table border=\"1\" class=\"dataframe\">\n",
       "  <thead>\n",
       "    <tr style=\"text-align: right;\">\n",
       "      <th></th>\n",
       "      <th>file</th>\n",
       "      <th>code</th>\n",
       "      <th>context</th>\n",
       "      <th>cwe</th>\n",
       "      <th>project</th>\n",
       "      <th>code_dup</th>\n",
       "      <th>verdict</th>\n",
       "      <th>filter</th>\n",
       "      <th>filter_mask</th>\n",
       "    </tr>\n",
       "  </thead>\n",
       "  <tbody>\n",
       "    <tr>\n",
       "      <th>0</th>\n",
       "      <td>data/projects/contiki-2.4/apps/shell/shell-htt...</td>\n",
       "      <td>void\\nwebserver_log_file(uip_ipaddr_t *request...</td>\n",
       "      <td>char buf[48];</td>\n",
       "      <td>CWE-unknown</td>\n",
       "      <td>data/projects/contiki-2.4/apps/shell/</td>\n",
       "      <td>False</td>\n",
       "      <td>True</td>\n",
       "      <td>False</td>\n",
       "      <td>False</td>\n",
       "    </tr>\n",
       "    <tr>\n",
       "      <th>1</th>\n",
       "      <td>data/projects/contiki-2.4/apps/shell/shell-htt...</td>\n",
       "      <td>void\\nwebserver_log(char *msg)\\n{\\n  shell_out...</td>\n",
       "      <td></td>\n",
       "      <td>Benign</td>\n",
       "      <td>data/projects/contiki-2.4/apps/shell/</td>\n",
       "      <td>False</td>\n",
       "      <td>False</td>\n",
       "      <td>True</td>\n",
       "      <td>False</td>\n",
       "    </tr>\n",
       "    <tr>\n",
       "      <th>2</th>\n",
       "      <td>data/projects/contiki-2.4/apps/shell/shell-wget.c</td>\n",
       "      <td>void\\nwebclient_timedout(void)\\n{\\n  shell_out...</td>\n",
       "      <td></td>\n",
       "      <td>Benign</td>\n",
       "      <td>data/projects/contiki-2.4/apps/shell/</td>\n",
       "      <td>False</td>\n",
       "      <td>False</td>\n",
       "      <td>True</td>\n",
       "      <td>False</td>\n",
       "    </tr>\n",
       "    <tr>\n",
       "      <th>3</th>\n",
       "      <td>data/projects/contiki-2.4/apps/shell/shell-wget.c</td>\n",
       "      <td>void\\nwebclient_datahandler(char *data, u16_t ...</td>\n",
       "      <td></td>\n",
       "      <td>Benign</td>\n",
       "      <td>data/projects/contiki-2.4/apps/shell/</td>\n",
       "      <td>False</td>\n",
       "      <td>False</td>\n",
       "      <td>True</td>\n",
       "      <td>False</td>\n",
       "    </tr>\n",
       "    <tr>\n",
       "      <th>4</th>\n",
       "      <td>data/projects/contiki-2.4/apps/shell/shell-wget.c</td>\n",
       "      <td>void\\nwebclient_connected(void)\\n{\\n  shell_ou...</td>\n",
       "      <td></td>\n",
       "      <td>Benign</td>\n",
       "      <td>data/projects/contiki-2.4/apps/shell/</td>\n",
       "      <td>False</td>\n",
       "      <td>False</td>\n",
       "      <td>True</td>\n",
       "      <td>False</td>\n",
       "    </tr>\n",
       "    <tr>\n",
       "      <th>...</th>\n",
       "      <td>...</td>\n",
       "      <td>...</td>\n",
       "      <td>...</td>\n",
       "      <td>...</td>\n",
       "      <td>...</td>\n",
       "      <td>...</td>\n",
       "      <td>...</td>\n",
       "      <td>...</td>\n",
       "      <td>...</td>\n",
       "    </tr>\n",
       "    <tr>\n",
       "      <th>141</th>\n",
       "      <td>data/projects/contiki-2.4/apps/shell/shell.c</td>\n",
       "      <td>int\\nshell_start_command(char *commandline, in...</td>\n",
       "      <td></td>\n",
       "      <td>Benign</td>\n",
       "      <td>data/projects/contiki-2.4/apps/shell/</td>\n",
       "      <td>False</td>\n",
       "      <td>False</td>\n",
       "      <td>True</td>\n",
       "      <td>False</td>\n",
       "    </tr>\n",
       "    <tr>\n",
       "      <th>142</th>\n",
       "      <td>/Users/guru/research/projects/gnucobol-3.2/lib...</td>\n",
       "      <td>__inline\\n#else\\n#ifdef __cplusplus\\ninline\\n#...</td>\n",
       "      <td>return translation;</td>\n",
       "      <td>CWE-unknown</td>\n",
       "      <td>/Users/guru/research/projects/gnucobol-3.2/lib/</td>\n",
       "      <td>False</td>\n",
       "      <td>True</td>\n",
       "      <td>False</td>\n",
       "      <td>False</td>\n",
       "    </tr>\n",
       "    <tr>\n",
       "      <th>143</th>\n",
       "      <td>/Users/guru/research/projects/gnucobol-3.2/lib...</td>\n",
       "      <td>__inline\\n#else\\n#ifdef __cplusplus\\ninline\\n#...</td>\n",
       "      <td>return translation;</td>\n",
       "      <td>CWE-unknown</td>\n",
       "      <td>/Users/guru/research/projects/gnucobol-3.2/lib/</td>\n",
       "      <td>False</td>\n",
       "      <td>True</td>\n",
       "      <td>False</td>\n",
       "      <td>False</td>\n",
       "    </tr>\n",
       "    <tr>\n",
       "      <th>144</th>\n",
       "      <td>/Users/guru/research/projects/gnucobol-3.2/lib...</td>\n",
       "      <td>__inline\\n#else\\n#ifdef __cplusplus\\ninline\\n#...</td>\n",
       "      <td>char msg_ctxt_id[msgctxt_len + msgid_len];</td>\n",
       "      <td>CWE-unknown</td>\n",
       "      <td>/Users/guru/research/projects/gnucobol-3.2/lib/</td>\n",
       "      <td>False</td>\n",
       "      <td>True</td>\n",
       "      <td>False</td>\n",
       "      <td>False</td>\n",
       "    </tr>\n",
       "    <tr>\n",
       "      <th>145</th>\n",
       "      <td>/Users/guru/research/projects/gnucobol-3.2/lib...</td>\n",
       "      <td>__inline\\n#else\\n#ifdef __cplusplus\\ninline\\n#...</td>\n",
       "      <td>char msg_ctxt_id[msgctxt_len + msgid_len];</td>\n",
       "      <td>CWE-unknown</td>\n",
       "      <td>/Users/guru/research/projects/gnucobol-3.2/lib/</td>\n",
       "      <td>False</td>\n",
       "      <td>True</td>\n",
       "      <td>False</td>\n",
       "      <td>False</td>\n",
       "    </tr>\n",
       "  </tbody>\n",
       "</table>\n",
       "<p>146 rows × 9 columns</p>\n",
       "</div>"
      ],
      "text/plain": [
       "                                                  file  \\\n",
       "0    data/projects/contiki-2.4/apps/shell/shell-htt...   \n",
       "1    data/projects/contiki-2.4/apps/shell/shell-htt...   \n",
       "2    data/projects/contiki-2.4/apps/shell/shell-wget.c   \n",
       "3    data/projects/contiki-2.4/apps/shell/shell-wget.c   \n",
       "4    data/projects/contiki-2.4/apps/shell/shell-wget.c   \n",
       "..                                                 ...   \n",
       "141       data/projects/contiki-2.4/apps/shell/shell.c   \n",
       "142  /Users/guru/research/projects/gnucobol-3.2/lib...   \n",
       "143  /Users/guru/research/projects/gnucobol-3.2/lib...   \n",
       "144  /Users/guru/research/projects/gnucobol-3.2/lib...   \n",
       "145  /Users/guru/research/projects/gnucobol-3.2/lib...   \n",
       "\n",
       "                                                  code  \\\n",
       "0    void\\nwebserver_log_file(uip_ipaddr_t *request...   \n",
       "1    void\\nwebserver_log(char *msg)\\n{\\n  shell_out...   \n",
       "2    void\\nwebclient_timedout(void)\\n{\\n  shell_out...   \n",
       "3    void\\nwebclient_datahandler(char *data, u16_t ...   \n",
       "4    void\\nwebclient_connected(void)\\n{\\n  shell_ou...   \n",
       "..                                                 ...   \n",
       "141  int\\nshell_start_command(char *commandline, in...   \n",
       "142  __inline\\n#else\\n#ifdef __cplusplus\\ninline\\n#...   \n",
       "143  __inline\\n#else\\n#ifdef __cplusplus\\ninline\\n#...   \n",
       "144  __inline\\n#else\\n#ifdef __cplusplus\\ninline\\n#...   \n",
       "145  __inline\\n#else\\n#ifdef __cplusplus\\ninline\\n#...   \n",
       "\n",
       "                                        context          cwe  \\\n",
       "0                                 char buf[48];  CWE-unknown   \n",
       "1                                                     Benign   \n",
       "2                                                     Benign   \n",
       "3                                                     Benign   \n",
       "4                                                     Benign   \n",
       "..                                          ...          ...   \n",
       "141                                                   Benign   \n",
       "142                         return translation;  CWE-unknown   \n",
       "143                         return translation;  CWE-unknown   \n",
       "144  char msg_ctxt_id[msgctxt_len + msgid_len];  CWE-unknown   \n",
       "145  char msg_ctxt_id[msgctxt_len + msgid_len];  CWE-unknown   \n",
       "\n",
       "                                             project  code_dup  verdict  \\\n",
       "0              data/projects/contiki-2.4/apps/shell/     False     True   \n",
       "1              data/projects/contiki-2.4/apps/shell/     False    False   \n",
       "2              data/projects/contiki-2.4/apps/shell/     False    False   \n",
       "3              data/projects/contiki-2.4/apps/shell/     False    False   \n",
       "4              data/projects/contiki-2.4/apps/shell/     False    False   \n",
       "..                                               ...       ...      ...   \n",
       "141            data/projects/contiki-2.4/apps/shell/     False    False   \n",
       "142  /Users/guru/research/projects/gnucobol-3.2/lib/     False     True   \n",
       "143  /Users/guru/research/projects/gnucobol-3.2/lib/     False     True   \n",
       "144  /Users/guru/research/projects/gnucobol-3.2/lib/     False     True   \n",
       "145  /Users/guru/research/projects/gnucobol-3.2/lib/     False     True   \n",
       "\n",
       "     filter  filter_mask  \n",
       "0     False        False  \n",
       "1      True        False  \n",
       "2      True        False  \n",
       "3      True        False  \n",
       "4      True        False  \n",
       "..      ...          ...  \n",
       "141    True        False  \n",
       "142   False        False  \n",
       "143   False        False  \n",
       "144   False        False  \n",
       "145   False        False  \n",
       "\n",
       "[146 rows x 9 columns]"
      ]
     },
     "execution_count": 74,
     "metadata": {},
     "output_type": "execute_result"
    }
   ],
   "source": [
    "dff_sort.drop(dff_sort[dff_sort.filter_mask].index).reset_index(drop=True)"
   ]
  },
  {
   "cell_type": "code",
   "execution_count": 28,
   "metadata": {},
   "outputs": [
    {
     "data": {
      "text/plain": [
       "Benign         144\n",
       "CWE-unknown     19\n",
       "Name: cwe, dtype: int64"
      ]
     },
     "execution_count": 28,
     "metadata": {},
     "output_type": "execute_result"
    }
   ],
   "source": [
    "dff_sort.sort_values(by=['code', 'cwe']).cwe.value_counts()"
   ]
  },
  {
   "cell_type": "code",
   "execution_count": 78,
   "metadata": {},
   "outputs": [
    {
     "data": {
      "text/html": [
       "<div>\n",
       "<style scoped>\n",
       "    .dataframe tbody tr th:only-of-type {\n",
       "        vertical-align: middle;\n",
       "    }\n",
       "\n",
       "    .dataframe tbody tr th {\n",
       "        vertical-align: top;\n",
       "    }\n",
       "\n",
       "    .dataframe thead th {\n",
       "        text-align: right;\n",
       "    }\n",
       "</style>\n",
       "<table border=\"1\" class=\"dataframe\">\n",
       "  <thead>\n",
       "    <tr style=\"text-align: right;\">\n",
       "      <th></th>\n",
       "      <th>file</th>\n",
       "      <th>code</th>\n",
       "      <th>context</th>\n",
       "      <th>cwe</th>\n",
       "      <th>project</th>\n",
       "      <th>code_dup</th>\n",
       "      <th>verdict</th>\n",
       "      <th>filter</th>\n",
       "      <th>filter_mask</th>\n",
       "    </tr>\n",
       "  </thead>\n",
       "  <tbody>\n",
       "    <tr>\n",
       "      <th>0</th>\n",
       "      <td>/Users/guru/research/projects/gnucobol-3.2/lib...</td>\n",
       "      <td>__inline\\n#else\\n#ifdef __cplusplus\\ninline\\n#...</td>\n",
       "      <td>return translation;</td>\n",
       "      <td>CWE-unknown</td>\n",
       "      <td>/Users/guru/research/projects/gnucobol-3.2/lib/</td>\n",
       "      <td>False</td>\n",
       "      <td>True</td>\n",
       "      <td>False</td>\n",
       "      <td>False</td>\n",
       "    </tr>\n",
       "    <tr>\n",
       "      <th>1</th>\n",
       "      <td>/Users/guru/research/projects/gnucobol-3.2/lib...</td>\n",
       "      <td>__inline\\n#else\\n#ifdef __cplusplus\\ninline\\n#...</td>\n",
       "      <td>return translation;</td>\n",
       "      <td>CWE-unknown</td>\n",
       "      <td>/Users/guru/research/projects/gnucobol-3.2/lib/</td>\n",
       "      <td>False</td>\n",
       "      <td>True</td>\n",
       "      <td>False</td>\n",
       "      <td>False</td>\n",
       "    </tr>\n",
       "    <tr>\n",
       "      <th>2</th>\n",
       "      <td>data/projects/contiki-2.4/apps/shell/shell.c</td>\n",
       "      <td>static struct shell_command *\\nstart_command(c...</td>\n",
       "      <td>command_len = (int)strlen(commandline);</td>\n",
       "      <td>CWE-unknown</td>\n",
       "      <td>data/projects/contiki-2.4/apps/shell/</td>\n",
       "      <td>False</td>\n",
       "      <td>True</td>\n",
       "      <td>False</td>\n",
       "      <td>False</td>\n",
       "    </tr>\n",
       "    <tr>\n",
       "      <th>3</th>\n",
       "      <td>data/projects/contiki-2.4/apps/shell/shell-net...</td>\n",
       "      <td>static void\\nmemcpy_misaligned(void *dest, con...</td>\n",
       "      <td>memcpy(dest, source, len);</td>\n",
       "      <td>CWE-unknown</td>\n",
       "      <td>data/projects/contiki-2.4/apps/shell/</td>\n",
       "      <td>False</td>\n",
       "      <td>True</td>\n",
       "      <td>False</td>\n",
       "      <td>False</td>\n",
       "    </tr>\n",
       "    <tr>\n",
       "      <th>4</th>\n",
       "      <td>data/projects/contiki-2.4/apps/shell/shell-wget.c</td>\n",
       "      <td>static void\\nopen_url(char *url)\\n{\\n  unsigne...</td>\n",
       "      <td>static char host[32];</td>\n",
       "      <td>CWE-unknown</td>\n",
       "      <td>data/projects/contiki-2.4/apps/shell/</td>\n",
       "      <td>False</td>\n",
       "      <td>True</td>\n",
       "      <td>False</td>\n",
       "      <td>False</td>\n",
       "    </tr>\n",
       "    <tr>\n",
       "      <th>5</th>\n",
       "      <td>data/projects/contiki-2.4/apps/shell/shell-pow...</td>\n",
       "      <td>static void\\nprintpower(struct power_msg *msg)...</td>\n",
       "      <td>char buf[100];</td>\n",
       "      <td>CWE-unknown</td>\n",
       "      <td>data/projects/contiki-2.4/apps/shell/</td>\n",
       "      <td>False</td>\n",
       "      <td>True</td>\n",
       "      <td>False</td>\n",
       "      <td>False</td>\n",
       "    </tr>\n",
       "    <tr>\n",
       "      <th>6</th>\n",
       "      <td>data/projects/contiki-2.4/apps/shell/shell-pow...</td>\n",
       "      <td>static void\\nprintpowergraph(struct power_msg ...</td>\n",
       "      <td>char buf[MAX_POWERGRAPH];</td>\n",
       "      <td>CWE-unknown</td>\n",
       "      <td>data/projects/contiki-2.4/apps/shell/</td>\n",
       "      <td>False</td>\n",
       "      <td>True</td>\n",
       "      <td>False</td>\n",
       "      <td>False</td>\n",
       "    </tr>\n",
       "    <tr>\n",
       "      <th>7</th>\n",
       "      <td>data/projects/contiki-2.4/apps/shell/shell-rime.c</td>\n",
       "      <td>static void\\nrecv_collect(const rimeaddr_t *or...</td>\n",
       "      <td>char buf[40];</td>\n",
       "      <td>CWE-unknown</td>\n",
       "      <td>data/projects/contiki-2.4/apps/shell/</td>\n",
       "      <td>False</td>\n",
       "      <td>True</td>\n",
       "      <td>False</td>\n",
       "      <td>False</td>\n",
       "    </tr>\n",
       "    <tr>\n",
       "      <th>8</th>\n",
       "      <td>data/projects/contiki-2.4/apps/shell/shell-rim...</td>\n",
       "      <td>static void\\nrecv_mesh(struct mesh_conn *c, co...</td>\n",
       "      <td>char buf[64];</td>\n",
       "      <td>CWE-unknown</td>\n",
       "      <td>data/projects/contiki-2.4/apps/shell/</td>\n",
       "      <td>False</td>\n",
       "      <td>True</td>\n",
       "      <td>False</td>\n",
       "      <td>False</td>\n",
       "    </tr>\n",
       "    <tr>\n",
       "      <th>9</th>\n",
       "      <td>data/projects/contiki-2.4/apps/shell/shell-rim...</td>\n",
       "      <td>static void\\nrecv_uc(struct unicast_conn *c, c...</td>\n",
       "      <td>memcpy(output_blob.data, msg-&gt;data, packetbuf_...</td>\n",
       "      <td>CWE-unknown</td>\n",
       "      <td>data/projects/contiki-2.4/apps/shell/</td>\n",
       "      <td>False</td>\n",
       "      <td>True</td>\n",
       "      <td>False</td>\n",
       "      <td>False</td>\n",
       "    </tr>\n",
       "    <tr>\n",
       "      <th>10</th>\n",
       "      <td>data/projects/contiki-2.4/apps/shell/shell-tcp...</td>\n",
       "      <td>static void\\nsend_line(struct telnet_state *s,...</td>\n",
       "      <td>strncpy(outputline, data, MIN(sizeof(outputlin...</td>\n",
       "      <td>CWE-unknown</td>\n",
       "      <td>data/projects/contiki-2.4/apps/shell/</td>\n",
       "      <td>False</td>\n",
       "      <td>True</td>\n",
       "      <td>False</td>\n",
       "      <td>False</td>\n",
       "    </tr>\n",
       "    <tr>\n",
       "      <th>11</th>\n",
       "      <td>data/projects/contiki-2.4/apps/shell/shell-sen...</td>\n",
       "      <td>static void\\nwrite_chunk(struct rucb_conn *c, ...</td>\n",
       "      <td>char buf[100];</td>\n",
       "      <td>CWE-unknown</td>\n",
       "      <td>data/projects/contiki-2.4/apps/shell/</td>\n",
       "      <td>False</td>\n",
       "      <td>True</td>\n",
       "      <td>False</td>\n",
       "      <td>False</td>\n",
       "    </tr>\n",
       "    <tr>\n",
       "      <th>12</th>\n",
       "      <td>data/projects/contiki-2.4/apps/shell/shell-irc.c</td>\n",
       "      <td>void\\nircc_text_output(struct ircc_state *s, c...</td>\n",
       "      <td>char buf1[MAX_NICKLEN + MAX_SERVERLEN];</td>\n",
       "      <td>CWE-unknown</td>\n",
       "      <td>data/projects/contiki-2.4/apps/shell/</td>\n",
       "      <td>False</td>\n",
       "      <td>True</td>\n",
       "      <td>False</td>\n",
       "      <td>False</td>\n",
       "    </tr>\n",
       "    <tr>\n",
       "      <th>13</th>\n",
       "      <td>data/projects/contiki-2.4/apps/shell/gui-shell.c</td>\n",
       "      <td>void\\nshell_default_output(const char *str1, i...</td>\n",
       "      <td>memcpy(&amp;log[(i - 1) * SHELL_GUI_XSIZE],</td>\n",
       "      <td>CWE-unknown</td>\n",
       "      <td>data/projects/contiki-2.4/apps/shell/</td>\n",
       "      <td>False</td>\n",
       "      <td>True</td>\n",
       "      <td>False</td>\n",
       "      <td>False</td>\n",
       "    </tr>\n",
       "    <tr>\n",
       "      <th>14</th>\n",
       "      <td>data/projects/contiki-2.4/apps/shell/shell.c</td>\n",
       "      <td>void\\nshell_output_str(struct shell_command *c...</td>\n",
       "      <td>input_to_child_command(c-&gt;child, text1, (int)s...</td>\n",
       "      <td>CWE-unknown</td>\n",
       "      <td>data/projects/contiki-2.4/apps/shell/</td>\n",
       "      <td>False</td>\n",
       "      <td>True</td>\n",
       "      <td>False</td>\n",
       "      <td>False</td>\n",
       "    </tr>\n",
       "    <tr>\n",
       "      <th>15</th>\n",
       "      <td>data/projects/contiki-2.4/apps/shell/shell-tcp...</td>\n",
       "      <td>void\\ntelnet_text_output(struct telnet_state *...</td>\n",
       "      <td>char buf1[MAX_SERVERLEN];</td>\n",
       "      <td>CWE-unknown</td>\n",
       "      <td>data/projects/contiki-2.4/apps/shell/</td>\n",
       "      <td>False</td>\n",
       "      <td>True</td>\n",
       "      <td>False</td>\n",
       "      <td>False</td>\n",
       "    </tr>\n",
       "    <tr>\n",
       "      <th>16</th>\n",
       "      <td>data/projects/contiki-2.4/apps/shell/shell-htt...</td>\n",
       "      <td>void\\nwebserver_log_file(uip_ipaddr_t *request...</td>\n",
       "      <td>char buf[48];</td>\n",
       "      <td>CWE-unknown</td>\n",
       "      <td>data/projects/contiki-2.4/apps/shell/</td>\n",
       "      <td>False</td>\n",
       "      <td>True</td>\n",
       "      <td>False</td>\n",
       "      <td>False</td>\n",
       "    </tr>\n",
       "  </tbody>\n",
       "</table>\n",
       "</div>"
      ],
      "text/plain": [
       "                                                 file  \\\n",
       "0   /Users/guru/research/projects/gnucobol-3.2/lib...   \n",
       "1   /Users/guru/research/projects/gnucobol-3.2/lib...   \n",
       "2        data/projects/contiki-2.4/apps/shell/shell.c   \n",
       "3   data/projects/contiki-2.4/apps/shell/shell-net...   \n",
       "4   data/projects/contiki-2.4/apps/shell/shell-wget.c   \n",
       "5   data/projects/contiki-2.4/apps/shell/shell-pow...   \n",
       "6   data/projects/contiki-2.4/apps/shell/shell-pow...   \n",
       "7   data/projects/contiki-2.4/apps/shell/shell-rime.c   \n",
       "8   data/projects/contiki-2.4/apps/shell/shell-rim...   \n",
       "9   data/projects/contiki-2.4/apps/shell/shell-rim...   \n",
       "10  data/projects/contiki-2.4/apps/shell/shell-tcp...   \n",
       "11  data/projects/contiki-2.4/apps/shell/shell-sen...   \n",
       "12   data/projects/contiki-2.4/apps/shell/shell-irc.c   \n",
       "13   data/projects/contiki-2.4/apps/shell/gui-shell.c   \n",
       "14       data/projects/contiki-2.4/apps/shell/shell.c   \n",
       "15  data/projects/contiki-2.4/apps/shell/shell-tcp...   \n",
       "16  data/projects/contiki-2.4/apps/shell/shell-htt...   \n",
       "\n",
       "                                                 code  \\\n",
       "0   __inline\\n#else\\n#ifdef __cplusplus\\ninline\\n#...   \n",
       "1   __inline\\n#else\\n#ifdef __cplusplus\\ninline\\n#...   \n",
       "2   static struct shell_command *\\nstart_command(c...   \n",
       "3   static void\\nmemcpy_misaligned(void *dest, con...   \n",
       "4   static void\\nopen_url(char *url)\\n{\\n  unsigne...   \n",
       "5   static void\\nprintpower(struct power_msg *msg)...   \n",
       "6   static void\\nprintpowergraph(struct power_msg ...   \n",
       "7   static void\\nrecv_collect(const rimeaddr_t *or...   \n",
       "8   static void\\nrecv_mesh(struct mesh_conn *c, co...   \n",
       "9   static void\\nrecv_uc(struct unicast_conn *c, c...   \n",
       "10  static void\\nsend_line(struct telnet_state *s,...   \n",
       "11  static void\\nwrite_chunk(struct rucb_conn *c, ...   \n",
       "12  void\\nircc_text_output(struct ircc_state *s, c...   \n",
       "13  void\\nshell_default_output(const char *str1, i...   \n",
       "14  void\\nshell_output_str(struct shell_command *c...   \n",
       "15  void\\ntelnet_text_output(struct telnet_state *...   \n",
       "16  void\\nwebserver_log_file(uip_ipaddr_t *request...   \n",
       "\n",
       "                                              context          cwe  \\\n",
       "0                                 return translation;  CWE-unknown   \n",
       "1                                 return translation;  CWE-unknown   \n",
       "2             command_len = (int)strlen(commandline);  CWE-unknown   \n",
       "3                          memcpy(dest, source, len);  CWE-unknown   \n",
       "4                               static char host[32];  CWE-unknown   \n",
       "5                                      char buf[100];  CWE-unknown   \n",
       "6                           char buf[MAX_POWERGRAPH];  CWE-unknown   \n",
       "7                                       char buf[40];  CWE-unknown   \n",
       "8                                       char buf[64];  CWE-unknown   \n",
       "9   memcpy(output_blob.data, msg->data, packetbuf_...  CWE-unknown   \n",
       "10  strncpy(outputline, data, MIN(sizeof(outputlin...  CWE-unknown   \n",
       "11                                     char buf[100];  CWE-unknown   \n",
       "12            char buf1[MAX_NICKLEN + MAX_SERVERLEN];  CWE-unknown   \n",
       "13            memcpy(&log[(i - 1) * SHELL_GUI_XSIZE],  CWE-unknown   \n",
       "14  input_to_child_command(c->child, text1, (int)s...  CWE-unknown   \n",
       "15                          char buf1[MAX_SERVERLEN];  CWE-unknown   \n",
       "16                                      char buf[48];  CWE-unknown   \n",
       "\n",
       "                                            project  code_dup  verdict  \\\n",
       "0   /Users/guru/research/projects/gnucobol-3.2/lib/     False     True   \n",
       "1   /Users/guru/research/projects/gnucobol-3.2/lib/     False     True   \n",
       "2             data/projects/contiki-2.4/apps/shell/     False     True   \n",
       "3             data/projects/contiki-2.4/apps/shell/     False     True   \n",
       "4             data/projects/contiki-2.4/apps/shell/     False     True   \n",
       "5             data/projects/contiki-2.4/apps/shell/     False     True   \n",
       "6             data/projects/contiki-2.4/apps/shell/     False     True   \n",
       "7             data/projects/contiki-2.4/apps/shell/     False     True   \n",
       "8             data/projects/contiki-2.4/apps/shell/     False     True   \n",
       "9             data/projects/contiki-2.4/apps/shell/     False     True   \n",
       "10            data/projects/contiki-2.4/apps/shell/     False     True   \n",
       "11            data/projects/contiki-2.4/apps/shell/     False     True   \n",
       "12            data/projects/contiki-2.4/apps/shell/     False     True   \n",
       "13            data/projects/contiki-2.4/apps/shell/     False     True   \n",
       "14            data/projects/contiki-2.4/apps/shell/     False     True   \n",
       "15            data/projects/contiki-2.4/apps/shell/     False     True   \n",
       "16            data/projects/contiki-2.4/apps/shell/     False     True   \n",
       "\n",
       "    filter  filter_mask  \n",
       "0    False        False  \n",
       "1    False        False  \n",
       "2    False        False  \n",
       "3    False        False  \n",
       "4    False        False  \n",
       "5    False        False  \n",
       "6    False        False  \n",
       "7    False        False  \n",
       "8    False        False  \n",
       "9    False        False  \n",
       "10   False        False  \n",
       "11   False        False  \n",
       "12   False        False  \n",
       "13   False        False  \n",
       "14   False        False  \n",
       "15   False        False  \n",
       "16   False        False  "
      ]
     },
     "execution_count": 78,
     "metadata": {},
     "output_type": "execute_result"
    }
   ],
   "source": [
    "dff_new = dff_sort.copy()\n",
    "dff_new = dff_new.sort_values(by=['code', 'cwe'], ascending=True)\n",
    "# this code remove the duplicates and keep the last, ignores 'Benign' samples\n",
    "df_dup = dff_new[dff_new.duplicated(['code'], keep='first')].reset_index(drop=True)\n",
    "df_dup\n",
    "# dff_new"
   ]
  },
  {
   "cell_type": "code",
   "execution_count": 158,
   "metadata": {},
   "outputs": [
    {
     "data": {
      "text/plain": [
       "'code'"
      ]
     },
     "execution_count": 158,
     "metadata": {},
     "output_type": "execute_result"
    }
   ],
   "source": [
    "# table-wise columns to check duplicates\n",
    "\n",
    "code_col = 'code' if 'code' in df.columns else 'context'\n",
    "code_col"
   ]
  }
 ],
 "metadata": {
  "kernelspec": {
   "display_name": "vulcode",
   "language": "python",
   "name": "python3"
  },
  "language_info": {
   "codemirror_mode": {
    "name": "ipython",
    "version": 3
   },
   "file_extension": ".py",
   "mimetype": "text/x-python",
   "name": "python",
   "nbconvert_exporter": "python",
   "pygments_lexer": "ipython3",
   "version": "3.8.0"
  },
  "orig_nbformat": 4,
  "vscode": {
   "interpreter": {
    "hash": "770d70f40277e0fadd6bc1f7a5fecfd799eee3cbb57c500ccfb48eb07fd2c1ce"
   }
  }
 },
 "nbformat": 4,
 "nbformat_minor": 2
}
