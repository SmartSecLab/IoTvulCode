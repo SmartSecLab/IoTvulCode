{
 "cells": [
  {
   "attachments": {},
   "cell_type": "markdown",
   "metadata": {},
   "source": [
    "# Statistics on the output data. "
   ]
  },
  {
   "cell_type": "markdown",
   "metadata": {},
   "source": [
    "### Loading data from the sqlite database to the dataframes"
   ]
  },
  {
   "cell_type": "code",
   "execution_count": 6,
   "metadata": {},
   "outputs": [
    {
     "data": {
      "text/plain": [
       "Index(['file', 'line', 'column', 'defaultlevel', 'level', 'category', 'name',\n",
       "       'msg', 'note', 'cwe', 'context', 'helpuri', 'severity', 'tool', 'type',\n",
       "       'project'],\n",
       "      dtype='object')"
      ]
     },
     "execution_count": 6,
     "metadata": {},
     "output_type": "execute_result"
    }
   ],
   "source": [
    "import pandas as pd\n",
    "import matplotlib.pyplot as plt\n",
    "import seaborn as sns\n",
    "import plotly.express as px\n",
    "import lizard\n",
    "import subprocess as sub\n",
    "from pylibsrcml import srcml\n",
    "import os\n",
    "import re \n",
    "import xml.etree.ElementTree as et \n",
    "import warnings\n",
    "from sqlite3 import connect\n",
    "from argparse import ArgumentParser\n",
    "from configparser import ConfigParser\n",
    "import yaml\n",
    "from pathlib import Path\n",
    "import random\n",
    "from tabulate import tabulate\n",
    "\n",
    "warnings.filterwarnings(\"ignore\")\n",
    "\n",
    "\n",
    "database = '../data/IoT.db'\n",
    "# database = '../data/TinyVul.db'\n",
    "# database = \"/Users/guru/research/TinyVul.db\"\n",
    "conn= connect(database)\n",
    "\n",
    "random.seed(0)\n",
    "\n",
    "dfp = pd.read_sql_query(\"SELECT * FROM project\", con=conn)\n",
    "dfs = pd.read_sql_query(\"SELECT * FROM statement\", con=conn)\n",
    "dff = pd.read_sql_query(\"SELECT * FROM function\", con=conn)\n",
    "\n",
    "if not os.path.exists(\"figure\"):\n",
    "    os.mkdir(\"figure\")\n",
    "dfs.columns"
   ]
  },
  {
   "cell_type": "code",
   "execution_count": 35,
   "metadata": {},
   "outputs": [
    {
     "data": {
      "text/plain": [
       "Benign        2652\n",
       "Vulnerable     321\n",
       "Name: cwe, dtype: int64"
      ]
     },
     "execution_count": 35,
     "metadata": {},
     "output_type": "execute_result"
    }
   ],
   "source": [
    "dfs.cwe.value_counts()"
   ]
  },
  {
   "cell_type": "code",
   "execution_count": 34,
   "metadata": {},
   "outputs": [
    {
     "data": {
      "text/plain": [
       "Benign         1204\n",
       "Vulnerable      125\n",
       "CWE-unknown      28\n",
       "Name: cwe, dtype: int64"
      ]
     },
     "execution_count": 34,
     "metadata": {},
     "output_type": "execute_result"
    }
   ],
   "source": [
    "dff.cwe.value_counts()"
   ]
  },
  {
   "cell_type": "markdown",
   "metadata": {},
   "source": [
    "### Plotting subburset plot from the frequency of category, name and cwe types. "
   ]
  },
  {
   "cell_type": "code",
   "execution_count": 8,
   "metadata": {},
   "outputs": [
    {
     "data": {
      "application/vnd.plotly.v1+json": {
       "config": {
        "plotlyServerURL": "https://plot.ly"
       },
       "data": [
        {
         "branchvalues": "total",
         "customdata": [
          [
           61
          ],
          [
           24
          ],
          [
           18
          ],
          [
           2
          ],
          [
           18
          ],
          [
           24
          ],
          [
           1
          ],
          [
           12
          ],
          [
           2
          ],
          [
           11
          ],
          [
           40
          ],
          [
           28
          ],
          [
           37
          ],
          [
           1
          ],
          [
           24
          ],
          [
           18
          ],
          [
           2
          ],
          [
           11
          ],
          [
           40
          ],
          [
           28
          ],
          [
           37
          ],
          [
           1
          ],
          [
           24
          ],
          [
           18
          ],
          [
           61
          ],
          [
           24
          ],
          [
           1
          ],
          [
           12
          ],
          [
           18
          ],
          [
           2
          ],
          [
           24
          ],
          [
           18
          ],
          [
           2
          ],
          [
           11
          ],
          [
           37.585034013605444
          ],
          [
           40
          ],
          [
           11.153846153846153
          ],
          [
           28
          ],
          [
           37
          ],
          [
           1
          ],
          [
           24
          ],
          [
           18
          ]
         ],
         "domain": {
          "x": [
           0,
           1
          ],
          "y": [
           0,
           1
          ]
         },
         "hovertemplate": "labels=%{label}<br>count_sum=%{value}<br>parent=%{parent}<br>id=%{id}<br>count=%{color}<extra></extra>",
         "ids": [
          "buffer/char/CWE-119!/CWE-120",
          "buffer/memcpy/CWE-120",
          "buffer/sprintf/CWE-120",
          "buffer/strcpy/CWE-120",
          "buffer/strncpy/CWE-120",
          "buffer/strlen/CWE-126",
          "format/printf/CWE-134",
          "format/snprintf/CWE-134",
          "-/-/CWE-unknown",
          "Static Global Buffer/-/CWE-unknown",
          "fixed size global buffer/-/CWE-unknown",
          "memcpy/-/CWE-unknown",
          "snprintf/-/CWE-unknown",
          "sprintf/-/CWE-unknown",
          "strlen/-/CWE-unknown",
          "strncpy/-/CWE-unknown",
          "-/-",
          "Static Global Buffer/-",
          "fixed size global buffer/-",
          "memcpy/-",
          "snprintf/-",
          "sprintf/-",
          "strlen/-",
          "strncpy/-",
          "buffer/char",
          "buffer/memcpy",
          "format/printf",
          "format/snprintf",
          "buffer/sprintf",
          "buffer/strcpy",
          "buffer/strlen",
          "buffer/strncpy",
          "-",
          "Static Global Buffer",
          "buffer",
          "fixed size global buffer",
          "format",
          "memcpy",
          "snprintf",
          "sprintf",
          "strlen",
          "strncpy"
         ],
         "labels": [
          "CWE-119!/CWE-120",
          "CWE-120",
          "CWE-120",
          "CWE-120",
          "CWE-120",
          "CWE-126",
          "CWE-134",
          "CWE-134",
          "CWE-unknown",
          "CWE-unknown",
          "CWE-unknown",
          "CWE-unknown",
          "CWE-unknown",
          "CWE-unknown",
          "CWE-unknown",
          "CWE-unknown",
          "-",
          "-",
          "-",
          "-",
          "-",
          "-",
          "-",
          "-",
          "char",
          "memcpy",
          "printf",
          "snprintf",
          "sprintf",
          "strcpy",
          "strlen",
          "strncpy",
          "-",
          "Static Global Buffer",
          "buffer",
          "fixed size global buffer",
          "format",
          "memcpy",
          "snprintf",
          "sprintf",
          "strlen",
          "strncpy"
         ],
         "marker": {
          "coloraxis": "coloraxis",
          "colors": [
           61,
           24,
           18,
           2,
           18,
           24,
           1,
           12,
           2,
           11,
           40,
           28,
           37,
           1,
           24,
           18,
           2,
           11,
           40,
           28,
           37,
           1,
           24,
           18,
           61,
           24,
           1,
           12,
           18,
           2,
           24,
           18,
           2,
           11,
           37.585034013605444,
           40,
           11.153846153846153,
           28,
           37,
           1,
           24,
           18
          ]
         },
         "name": "",
         "parents": [
          "buffer/char",
          "buffer/memcpy",
          "buffer/sprintf",
          "buffer/strcpy",
          "buffer/strncpy",
          "buffer/strlen",
          "format/printf",
          "format/snprintf",
          "-/-",
          "Static Global Buffer/-",
          "fixed size global buffer/-",
          "memcpy/-",
          "snprintf/-",
          "sprintf/-",
          "strlen/-",
          "strncpy/-",
          "-",
          "Static Global Buffer",
          "fixed size global buffer",
          "memcpy",
          "snprintf",
          "sprintf",
          "strlen",
          "strncpy",
          "buffer",
          "buffer",
          "format",
          "format",
          "buffer",
          "buffer",
          "buffer",
          "buffer",
          "",
          "",
          "",
          "",
          "",
          "",
          "",
          "",
          "",
          ""
         ],
         "type": "sunburst",
         "values": [
          61,
          24,
          18,
          2,
          18,
          24,
          1,
          12,
          2,
          11,
          40,
          28,
          37,
          1,
          24,
          18,
          2,
          11,
          40,
          28,
          37,
          1,
          24,
          18,
          61,
          24,
          1,
          12,
          18,
          2,
          24,
          18,
          2,
          11,
          147,
          40,
          13,
          28,
          37,
          1,
          24,
          18
         ]
        }
       ],
       "layout": {
        "autosize": false,
        "coloraxis": {
         "colorbar": {
          "title": {
           "text": "count"
          }
         },
         "colorscale": [
          [
           0,
           "rgb(247,251,255)"
          ],
          [
           0.125,
           "rgb(222,235,247)"
          ],
          [
           0.25,
           "rgb(198,219,239)"
          ],
          [
           0.375,
           "rgb(158,202,225)"
          ],
          [
           0.5,
           "rgb(107,174,214)"
          ],
          [
           0.625,
           "rgb(66,146,198)"
          ],
          [
           0.75,
           "rgb(33,113,181)"
          ],
          [
           0.875,
           "rgb(8,81,156)"
          ],
          [
           1,
           "rgb(8,48,107)"
          ]
         ]
        },
        "height": 800,
        "legend": {
         "tracegroupgap": 0
        },
        "margin": {
         "t": 60
        },
        "template": {
         "data": {
          "bar": [
           {
            "error_x": {
             "color": "#2a3f5f"
            },
            "error_y": {
             "color": "#2a3f5f"
            },
            "marker": {
             "line": {
              "color": "#E5ECF6",
              "width": 0.5
             },
             "pattern": {
              "fillmode": "overlay",
              "size": 10,
              "solidity": 0.2
             }
            },
            "type": "bar"
           }
          ],
          "barpolar": [
           {
            "marker": {
             "line": {
              "color": "#E5ECF6",
              "width": 0.5
             },
             "pattern": {
              "fillmode": "overlay",
              "size": 10,
              "solidity": 0.2
             }
            },
            "type": "barpolar"
           }
          ],
          "carpet": [
           {
            "aaxis": {
             "endlinecolor": "#2a3f5f",
             "gridcolor": "white",
             "linecolor": "white",
             "minorgridcolor": "white",
             "startlinecolor": "#2a3f5f"
            },
            "baxis": {
             "endlinecolor": "#2a3f5f",
             "gridcolor": "white",
             "linecolor": "white",
             "minorgridcolor": "white",
             "startlinecolor": "#2a3f5f"
            },
            "type": "carpet"
           }
          ],
          "choropleth": [
           {
            "colorbar": {
             "outlinewidth": 0,
             "ticks": ""
            },
            "type": "choropleth"
           }
          ],
          "contour": [
           {
            "colorbar": {
             "outlinewidth": 0,
             "ticks": ""
            },
            "colorscale": [
             [
              0,
              "#0d0887"
             ],
             [
              0.1111111111111111,
              "#46039f"
             ],
             [
              0.2222222222222222,
              "#7201a8"
             ],
             [
              0.3333333333333333,
              "#9c179e"
             ],
             [
              0.4444444444444444,
              "#bd3786"
             ],
             [
              0.5555555555555556,
              "#d8576b"
             ],
             [
              0.6666666666666666,
              "#ed7953"
             ],
             [
              0.7777777777777778,
              "#fb9f3a"
             ],
             [
              0.8888888888888888,
              "#fdca26"
             ],
             [
              1,
              "#f0f921"
             ]
            ],
            "type": "contour"
           }
          ],
          "contourcarpet": [
           {
            "colorbar": {
             "outlinewidth": 0,
             "ticks": ""
            },
            "type": "contourcarpet"
           }
          ],
          "heatmap": [
           {
            "colorbar": {
             "outlinewidth": 0,
             "ticks": ""
            },
            "colorscale": [
             [
              0,
              "#0d0887"
             ],
             [
              0.1111111111111111,
              "#46039f"
             ],
             [
              0.2222222222222222,
              "#7201a8"
             ],
             [
              0.3333333333333333,
              "#9c179e"
             ],
             [
              0.4444444444444444,
              "#bd3786"
             ],
             [
              0.5555555555555556,
              "#d8576b"
             ],
             [
              0.6666666666666666,
              "#ed7953"
             ],
             [
              0.7777777777777778,
              "#fb9f3a"
             ],
             [
              0.8888888888888888,
              "#fdca26"
             ],
             [
              1,
              "#f0f921"
             ]
            ],
            "type": "heatmap"
           }
          ],
          "heatmapgl": [
           {
            "colorbar": {
             "outlinewidth": 0,
             "ticks": ""
            },
            "colorscale": [
             [
              0,
              "#0d0887"
             ],
             [
              0.1111111111111111,
              "#46039f"
             ],
             [
              0.2222222222222222,
              "#7201a8"
             ],
             [
              0.3333333333333333,
              "#9c179e"
             ],
             [
              0.4444444444444444,
              "#bd3786"
             ],
             [
              0.5555555555555556,
              "#d8576b"
             ],
             [
              0.6666666666666666,
              "#ed7953"
             ],
             [
              0.7777777777777778,
              "#fb9f3a"
             ],
             [
              0.8888888888888888,
              "#fdca26"
             ],
             [
              1,
              "#f0f921"
             ]
            ],
            "type": "heatmapgl"
           }
          ],
          "histogram": [
           {
            "marker": {
             "pattern": {
              "fillmode": "overlay",
              "size": 10,
              "solidity": 0.2
             }
            },
            "type": "histogram"
           }
          ],
          "histogram2d": [
           {
            "colorbar": {
             "outlinewidth": 0,
             "ticks": ""
            },
            "colorscale": [
             [
              0,
              "#0d0887"
             ],
             [
              0.1111111111111111,
              "#46039f"
             ],
             [
              0.2222222222222222,
              "#7201a8"
             ],
             [
              0.3333333333333333,
              "#9c179e"
             ],
             [
              0.4444444444444444,
              "#bd3786"
             ],
             [
              0.5555555555555556,
              "#d8576b"
             ],
             [
              0.6666666666666666,
              "#ed7953"
             ],
             [
              0.7777777777777778,
              "#fb9f3a"
             ],
             [
              0.8888888888888888,
              "#fdca26"
             ],
             [
              1,
              "#f0f921"
             ]
            ],
            "type": "histogram2d"
           }
          ],
          "histogram2dcontour": [
           {
            "colorbar": {
             "outlinewidth": 0,
             "ticks": ""
            },
            "colorscale": [
             [
              0,
              "#0d0887"
             ],
             [
              0.1111111111111111,
              "#46039f"
             ],
             [
              0.2222222222222222,
              "#7201a8"
             ],
             [
              0.3333333333333333,
              "#9c179e"
             ],
             [
              0.4444444444444444,
              "#bd3786"
             ],
             [
              0.5555555555555556,
              "#d8576b"
             ],
             [
              0.6666666666666666,
              "#ed7953"
             ],
             [
              0.7777777777777778,
              "#fb9f3a"
             ],
             [
              0.8888888888888888,
              "#fdca26"
             ],
             [
              1,
              "#f0f921"
             ]
            ],
            "type": "histogram2dcontour"
           }
          ],
          "mesh3d": [
           {
            "colorbar": {
             "outlinewidth": 0,
             "ticks": ""
            },
            "type": "mesh3d"
           }
          ],
          "parcoords": [
           {
            "line": {
             "colorbar": {
              "outlinewidth": 0,
              "ticks": ""
             }
            },
            "type": "parcoords"
           }
          ],
          "pie": [
           {
            "automargin": true,
            "type": "pie"
           }
          ],
          "scatter": [
           {
            "fillpattern": {
             "fillmode": "overlay",
             "size": 10,
             "solidity": 0.2
            },
            "type": "scatter"
           }
          ],
          "scatter3d": [
           {
            "line": {
             "colorbar": {
              "outlinewidth": 0,
              "ticks": ""
             }
            },
            "marker": {
             "colorbar": {
              "outlinewidth": 0,
              "ticks": ""
             }
            },
            "type": "scatter3d"
           }
          ],
          "scattercarpet": [
           {
            "marker": {
             "colorbar": {
              "outlinewidth": 0,
              "ticks": ""
             }
            },
            "type": "scattercarpet"
           }
          ],
          "scattergeo": [
           {
            "marker": {
             "colorbar": {
              "outlinewidth": 0,
              "ticks": ""
             }
            },
            "type": "scattergeo"
           }
          ],
          "scattergl": [
           {
            "marker": {
             "colorbar": {
              "outlinewidth": 0,
              "ticks": ""
             }
            },
            "type": "scattergl"
           }
          ],
          "scattermapbox": [
           {
            "marker": {
             "colorbar": {
              "outlinewidth": 0,
              "ticks": ""
             }
            },
            "type": "scattermapbox"
           }
          ],
          "scatterpolar": [
           {
            "marker": {
             "colorbar": {
              "outlinewidth": 0,
              "ticks": ""
             }
            },
            "type": "scatterpolar"
           }
          ],
          "scatterpolargl": [
           {
            "marker": {
             "colorbar": {
              "outlinewidth": 0,
              "ticks": ""
             }
            },
            "type": "scatterpolargl"
           }
          ],
          "scatterternary": [
           {
            "marker": {
             "colorbar": {
              "outlinewidth": 0,
              "ticks": ""
             }
            },
            "type": "scatterternary"
           }
          ],
          "surface": [
           {
            "colorbar": {
             "outlinewidth": 0,
             "ticks": ""
            },
            "colorscale": [
             [
              0,
              "#0d0887"
             ],
             [
              0.1111111111111111,
              "#46039f"
             ],
             [
              0.2222222222222222,
              "#7201a8"
             ],
             [
              0.3333333333333333,
              "#9c179e"
             ],
             [
              0.4444444444444444,
              "#bd3786"
             ],
             [
              0.5555555555555556,
              "#d8576b"
             ],
             [
              0.6666666666666666,
              "#ed7953"
             ],
             [
              0.7777777777777778,
              "#fb9f3a"
             ],
             [
              0.8888888888888888,
              "#fdca26"
             ],
             [
              1,
              "#f0f921"
             ]
            ],
            "type": "surface"
           }
          ],
          "table": [
           {
            "cells": {
             "fill": {
              "color": "#EBF0F8"
             },
             "line": {
              "color": "white"
             }
            },
            "header": {
             "fill": {
              "color": "#C8D4E3"
             },
             "line": {
              "color": "white"
             }
            },
            "type": "table"
           }
          ]
         },
         "layout": {
          "annotationdefaults": {
           "arrowcolor": "#2a3f5f",
           "arrowhead": 0,
           "arrowwidth": 1
          },
          "autotypenumbers": "strict",
          "coloraxis": {
           "colorbar": {
            "outlinewidth": 0,
            "ticks": ""
           }
          },
          "colorscale": {
           "diverging": [
            [
             0,
             "#8e0152"
            ],
            [
             0.1,
             "#c51b7d"
            ],
            [
             0.2,
             "#de77ae"
            ],
            [
             0.3,
             "#f1b6da"
            ],
            [
             0.4,
             "#fde0ef"
            ],
            [
             0.5,
             "#f7f7f7"
            ],
            [
             0.6,
             "#e6f5d0"
            ],
            [
             0.7,
             "#b8e186"
            ],
            [
             0.8,
             "#7fbc41"
            ],
            [
             0.9,
             "#4d9221"
            ],
            [
             1,
             "#276419"
            ]
           ],
           "sequential": [
            [
             0,
             "#0d0887"
            ],
            [
             0.1111111111111111,
             "#46039f"
            ],
            [
             0.2222222222222222,
             "#7201a8"
            ],
            [
             0.3333333333333333,
             "#9c179e"
            ],
            [
             0.4444444444444444,
             "#bd3786"
            ],
            [
             0.5555555555555556,
             "#d8576b"
            ],
            [
             0.6666666666666666,
             "#ed7953"
            ],
            [
             0.7777777777777778,
             "#fb9f3a"
            ],
            [
             0.8888888888888888,
             "#fdca26"
            ],
            [
             1,
             "#f0f921"
            ]
           ],
           "sequentialminus": [
            [
             0,
             "#0d0887"
            ],
            [
             0.1111111111111111,
             "#46039f"
            ],
            [
             0.2222222222222222,
             "#7201a8"
            ],
            [
             0.3333333333333333,
             "#9c179e"
            ],
            [
             0.4444444444444444,
             "#bd3786"
            ],
            [
             0.5555555555555556,
             "#d8576b"
            ],
            [
             0.6666666666666666,
             "#ed7953"
            ],
            [
             0.7777777777777778,
             "#fb9f3a"
            ],
            [
             0.8888888888888888,
             "#fdca26"
            ],
            [
             1,
             "#f0f921"
            ]
           ]
          },
          "colorway": [
           "#636efa",
           "#EF553B",
           "#00cc96",
           "#ab63fa",
           "#FFA15A",
           "#19d3f3",
           "#FF6692",
           "#B6E880",
           "#FF97FF",
           "#FECB52"
          ],
          "font": {
           "color": "#2a3f5f"
          },
          "geo": {
           "bgcolor": "white",
           "lakecolor": "white",
           "landcolor": "#E5ECF6",
           "showlakes": true,
           "showland": true,
           "subunitcolor": "white"
          },
          "hoverlabel": {
           "align": "left"
          },
          "hovermode": "closest",
          "mapbox": {
           "style": "light"
          },
          "paper_bgcolor": "white",
          "plot_bgcolor": "#E5ECF6",
          "polar": {
           "angularaxis": {
            "gridcolor": "white",
            "linecolor": "white",
            "ticks": ""
           },
           "bgcolor": "#E5ECF6",
           "radialaxis": {
            "gridcolor": "white",
            "linecolor": "white",
            "ticks": ""
           }
          },
          "scene": {
           "xaxis": {
            "backgroundcolor": "#E5ECF6",
            "gridcolor": "white",
            "gridwidth": 2,
            "linecolor": "white",
            "showbackground": true,
            "ticks": "",
            "zerolinecolor": "white"
           },
           "yaxis": {
            "backgroundcolor": "#E5ECF6",
            "gridcolor": "white",
            "gridwidth": 2,
            "linecolor": "white",
            "showbackground": true,
            "ticks": "",
            "zerolinecolor": "white"
           },
           "zaxis": {
            "backgroundcolor": "#E5ECF6",
            "gridcolor": "white",
            "gridwidth": 2,
            "linecolor": "white",
            "showbackground": true,
            "ticks": "",
            "zerolinecolor": "white"
           }
          },
          "shapedefaults": {
           "line": {
            "color": "#2a3f5f"
           }
          },
          "ternary": {
           "aaxis": {
            "gridcolor": "white",
            "linecolor": "white",
            "ticks": ""
           },
           "baxis": {
            "gridcolor": "white",
            "linecolor": "white",
            "ticks": ""
           },
           "bgcolor": "#E5ECF6",
           "caxis": {
            "gridcolor": "white",
            "linecolor": "white",
            "ticks": ""
           }
          },
          "title": {
           "x": 0.05
          },
          "xaxis": {
           "automargin": true,
           "gridcolor": "white",
           "linecolor": "white",
           "ticks": "",
           "title": {
            "standoff": 15
           },
           "zerolinecolor": "white",
           "zerolinewidth": 2
          },
          "yaxis": {
           "automargin": true,
           "gridcolor": "white",
           "linecolor": "white",
           "ticks": "",
           "title": {
            "standoff": 15
           },
           "zerolinecolor": "white",
           "zerolinewidth": 2
          }
         }
        },
        "width": 800
       }
      }
     },
     "metadata": {},
     "output_type": "display_data"
    }
   ],
   "source": [
    "dfplt = dfs[['category', 'name', 'cwe']].groupby(['category', 'name', 'cwe'], group_keys=False).size().reset_index(name='count')\n",
    "fig = px.sunburst(dfplt, \n",
    "    path=['category', 'name', 'cwe'], \n",
    "    values='count', \n",
    "    color_continuous_scale='Blues',\n",
    "    color='count',\n",
    ")\n",
    "# fig.write_image(\"figure/vul_statistics.pdf\")\n",
    "# fig.update_traces(hovertemplate='%{label}<br>%{customdata}')\n",
    "fig.update_layout(\n",
    "    autosize=False,\n",
    "    width=800,\n",
    "    height=800,)\n",
    "fig.show()\n",
    "# save the figure manually, the below code takes ages\n",
    "# fig.write_image(\"../figure/vul_statistics.pdf\")"
   ]
  },
  {
   "cell_type": "code",
   "execution_count": 9,
   "metadata": {},
   "outputs": [
    {
     "data": {
      "text/html": [
       "<div>\n",
       "<style scoped>\n",
       "    .dataframe tbody tr th:only-of-type {\n",
       "        vertical-align: middle;\n",
       "    }\n",
       "\n",
       "    .dataframe tbody tr th {\n",
       "        vertical-align: top;\n",
       "    }\n",
       "\n",
       "    .dataframe thead th {\n",
       "        text-align: right;\n",
       "    }\n",
       "</style>\n",
       "<table border=\"1\" class=\"dataframe\">\n",
       "  <thead>\n",
       "    <tr style=\"text-align: right;\">\n",
       "      <th></th>\n",
       "      <th>category</th>\n",
       "      <th>name</th>\n",
       "      <th>cwe</th>\n",
       "      <th>count</th>\n",
       "    </tr>\n",
       "  </thead>\n",
       "  <tbody>\n",
       "    <tr>\n",
       "      <th>2</th>\n",
       "      <td>buffer</td>\n",
       "      <td>char</td>\n",
       "      <td>CWE-119!/CWE-120</td>\n",
       "      <td>61</td>\n",
       "    </tr>\n",
       "    <tr>\n",
       "      <th>8</th>\n",
       "      <td>fixed size global buffer</td>\n",
       "      <td>-</td>\n",
       "      <td>CWE-unknown</td>\n",
       "      <td>40</td>\n",
       "    </tr>\n",
       "    <tr>\n",
       "      <th>12</th>\n",
       "      <td>snprintf</td>\n",
       "      <td>-</td>\n",
       "      <td>CWE-unknown</td>\n",
       "      <td>37</td>\n",
       "    </tr>\n",
       "    <tr>\n",
       "      <th>11</th>\n",
       "      <td>memcpy</td>\n",
       "      <td>-</td>\n",
       "      <td>CWE-unknown</td>\n",
       "      <td>28</td>\n",
       "    </tr>\n",
       "    <tr>\n",
       "      <th>3</th>\n",
       "      <td>buffer</td>\n",
       "      <td>memcpy</td>\n",
       "      <td>CWE-120</td>\n",
       "      <td>24</td>\n",
       "    </tr>\n",
       "    <tr>\n",
       "      <th>6</th>\n",
       "      <td>buffer</td>\n",
       "      <td>strlen</td>\n",
       "      <td>CWE-126</td>\n",
       "      <td>24</td>\n",
       "    </tr>\n",
       "    <tr>\n",
       "      <th>14</th>\n",
       "      <td>strlen</td>\n",
       "      <td>-</td>\n",
       "      <td>CWE-unknown</td>\n",
       "      <td>24</td>\n",
       "    </tr>\n",
       "    <tr>\n",
       "      <th>4</th>\n",
       "      <td>buffer</td>\n",
       "      <td>sprintf</td>\n",
       "      <td>CWE-120</td>\n",
       "      <td>18</td>\n",
       "    </tr>\n",
       "    <tr>\n",
       "      <th>7</th>\n",
       "      <td>buffer</td>\n",
       "      <td>strncpy</td>\n",
       "      <td>CWE-120</td>\n",
       "      <td>18</td>\n",
       "    </tr>\n",
       "    <tr>\n",
       "      <th>15</th>\n",
       "      <td>strncpy</td>\n",
       "      <td>-</td>\n",
       "      <td>CWE-unknown</td>\n",
       "      <td>18</td>\n",
       "    </tr>\n",
       "  </tbody>\n",
       "</table>\n",
       "</div>"
      ],
      "text/plain": [
       "                    category     name               cwe  count\n",
       "2                     buffer     char  CWE-119!/CWE-120     61\n",
       "8   fixed size global buffer        -       CWE-unknown     40\n",
       "12                  snprintf        -       CWE-unknown     37\n",
       "11                    memcpy        -       CWE-unknown     28\n",
       "3                     buffer   memcpy           CWE-120     24\n",
       "6                     buffer   strlen           CWE-126     24\n",
       "14                    strlen        -       CWE-unknown     24\n",
       "4                     buffer  sprintf           CWE-120     18\n",
       "7                     buffer  strncpy           CWE-120     18\n",
       "15                   strncpy        -       CWE-unknown     18"
      ]
     },
     "execution_count": 9,
     "metadata": {},
     "output_type": "execute_result"
    }
   ],
   "source": [
    "dfplt.sort_values(by=['count'], ascending=False).head(10)"
   ]
  },
  {
   "attachments": {},
   "cell_type": "markdown",
   "metadata": {},
   "source": [
    "# Top 10 vulnerabilities"
   ]
  },
  {
   "cell_type": "code",
   "execution_count": 10,
   "metadata": {},
   "outputs": [
    {
     "name": "stdout",
     "output_type": "stream",
     "text": [
      "+----+--------------------------+---------+------------------+---------+\n",
      "|    | category                 | name    | cwe              |   count |\n",
      "|----+--------------------------+---------+------------------+---------|\n",
      "|  0 | buffer                   | char    | CWE-119!/CWE-120 |      61 |\n",
      "|  1 | fixed size global buffer | -       | CWE-unknown      |      40 |\n",
      "|  2 | snprintf                 | -       | CWE-unknown      |      37 |\n",
      "|  3 | memcpy                   | -       | CWE-unknown      |      28 |\n",
      "|  4 | buffer                   | memcpy  | CWE-120          |      24 |\n",
      "|  5 | buffer                   | strlen  | CWE-126          |      24 |\n",
      "|  6 | strlen                   | -       | CWE-unknown      |      24 |\n",
      "|  7 | buffer                   | sprintf | CWE-120          |      18 |\n",
      "|  8 | buffer                   | strncpy | CWE-120          |      18 |\n",
      "|  9 | strncpy                  | -       | CWE-unknown      |      18 |\n",
      "+----+--------------------------+---------+------------------+---------+\n"
     ]
    }
   ],
   "source": [
    "df_top10 = dfplt.sort_values(by=['count'], ascending=False).head(10).reset_index(drop=True)\n",
    "print(tabulate(df_top10, headers='keys', tablefmt='psql'))\n",
    "df_top10.to_latex(\"../result/top10.tex\", index=False, caption=\"Top 10 CWEs in IoT code\")"
   ]
  },
  {
   "cell_type": "code",
   "execution_count": 11,
   "metadata": {},
   "outputs": [
    {
     "data": {
      "text/plain": [
       "<AxesSubplot: >"
      ]
     },
     "execution_count": 11,
     "metadata": {},
     "output_type": "execute_result"
    },
    {
     "data": {
      "image/png": "[encoded data removed]",
      "text/plain": [
       "<Figure size 640x480 with 1 Axes>"
      ]
     },
     "metadata": {},
     "output_type": "display_data"
    }
   ],
   "source": [
    "# dfs.context.head(200).str.len().plot(kind='bar')\n",
    "pd.Series(sorted(list(dfs.context.head(20).str.len()))).plot(kind='bar')"
   ]
  },
  {
   "cell_type": "code",
   "execution_count": 12,
   "metadata": {},
   "outputs": [
    {
     "data": {
      "text/plain": [
       "0          static char server[MAX_SERVERLEN + 1];\n",
       "1              static char nick[MAX_NICKLEN + 1];\n",
       "2         char buf1[MAX_NICKLEN + MAX_SERVERLEN];\n",
       "3             strncpy(buf1, text1, sizeof(buf1));\n",
       "4                             len = strlen(buf1);\n",
       "                          ...                    \n",
       "2968                                     } else {\n",
       "2969                               if(!sending) {\n",
       "2970                            char buf[BUFLEN];\n",
       "2971                                            -\n",
       "2972                                            -\n",
       "Name: context, Length: 2973, dtype: object"
      ]
     },
     "execution_count": 12,
     "metadata": {},
     "output_type": "execute_result"
    }
   ],
   "source": [
    "dfs.context"
   ]
  },
  {
   "cell_type": "code",
   "execution_count": 13,
   "metadata": {},
   "outputs": [
    {
     "data": {
      "text/plain": [
       "<AxesSubplot: ylabel='Frequency'>"
      ]
     },
     "execution_count": 13,
     "metadata": {},
     "output_type": "execute_result"
    },
    {
     "data": {
      "image/png": "[encoded data removed]",
      "text/plain": [
       "<Figure size 640x480 with 1 Axes>"
      ]
     },
     "metadata": {},
     "output_type": "display_data"
    }
   ],
   "source": [
    "pd.Series([len(x) for x in dff.code if len(x)>10]).plot.hist(xlabel='#chars', ylabel='#statements')"
   ]
  },
  {
   "cell_type": "code",
   "execution_count": 14,
   "metadata": {},
   "outputs": [
    {
     "data": {
      "text/plain": [
       "[41, 30, 64, 4, 46]"
      ]
     },
     "execution_count": 14,
     "metadata": {},
     "output_type": "execute_result"
    }
   ],
   "source": [
    "def filter_unusual_statements(statements, min_len, max_len, df):\n",
    "    \"\"\"\" \n",
    "    # https://peps.python.org/pep-0007/\n",
    "    # https://www.python.org/dev/peps/pep-0007/ \n",
    "\n",
    "    \"\"\"\n",
    "    filtered_statements = []\n",
    "    for statement in statements:\n",
    "        if len(statement) >= min_len and len(statement) <= max_len:\n",
    "            filtered_statements.append(statement)\n",
    "   \n",
    "    # take size of the vul statements as basis\n",
    "    df = pd.Series(statements)   \n",
    "    df = df.str.len()\n",
    "    \n",
    "    stat_sizes =  list(df[df.between(max_len, min_len)].reset_index(drop=True))\n",
    "    \n",
    "    sample_size = 5 if len(stat_sizes)>5 else len(stat_sizes)-1\n",
    "    stat_sizes = random.sample(set(stat_sizes), sample_size)\n",
    "    return stat_sizes\n",
    "\n",
    "\n",
    "# standard variables:\n",
    "max_len = 79  #TODO: double check pep standards\n",
    "\n",
    "# TODO: check min_len as well, otherwise the below code unnessesarily checks one extra condition \n",
    "# because there is no any statement/fun with len below that. \n",
    "# for min_len (eg, 7 characters)\n",
    "min_len = dfs.context.str.len().sort_values(ascending=False).reset_index(drop=True).min()\n",
    "\n",
    "\n",
    "lines = dff.code[0].splitlines()\n",
    "stat_sizes = filter_unusual_statements(lines, max_len, min_len, dfs)\n",
    "stat_sizes"
   ]
  },
  {
   "cell_type": "code",
   "execution_count": 15,
   "metadata": {},
   "outputs": [],
   "source": [
    "# df_dnn = pd.read_csv('../data/iDetect_refine/DNN_Binary.csv')\n",
    "# df_conti = pd.read_csv('../data/contiki-master_Binary.csv')\n",
    "# df_rasp = pd.read_csv('../data/raspberry_metrics.csv')\n",
    "# df_rasp_flaw = pd.read_csv('../data/raspberry_flaw.csv')\n",
    "\n",
    "# print('Shape of DNN data: ', df_dnn.shape)\n",
    "# print('Shape of contiki: ', df_conti.shape)\n",
    "# print('Shape of raspberry: ', df_rasp.shape)\n",
    "# print('Shape of raspberry flaws: ', df_rasp_flaw.shape)\n",
    "\n",
    "# dfcon = dfcon.rename(columns={'context': 'code'})\n",
    "# dfcon.to_csv('../data/contiki-master_Binary.csv', index=False)"
   ]
  },
  {
   "attachments": {},
   "cell_type": "markdown",
   "metadata": {},
   "source": [
    "# Convert hyperparameters list to latex table format"
   ]
  },
  {
   "cell_type": "code",
   "execution_count": 16,
   "metadata": {},
   "outputs": [
    {
     "name": "stdout",
     "output_type": "stream",
     "text": [
      "<class 'dict'>\n",
      "\\begin{table}\n",
      "\\centering\n",
      "\\caption{Hyperparameter Settings}\n",
      "\\label{Hyperparameter Settings}\n",
      "\\begin{tabular}{ll}\n",
      "\\toprule\n",
      "hyperparameter &                           value \\\\\n",
      "\\midrule\n",
      "        epochs &                              50 \\\\\n",
      "  debug\\_epochs &                               3 \\\\\n",
      "         batch &                             128 \\\\\n",
      "  input\\_length &                             150 \\\\\n",
      "     input\\_dim &                             150 \\\\\n",
      "    output\\_dim &                              32 \\\\\n",
      "            lr &                            1e-4 \\\\\n",
      "      patience &                             100 \\\\\n",
      "     optimizer &                            adam \\\\\n",
      "        l2\\_reg &                            1e-4 \\\\\n",
      "       dropout &                             0.0 \\\\\n",
      " recur\\_dropout &                             0.0 \\\\\n",
      "        beta\\_1 &                             0.9 \\\\\n",
      "        beta\\_2 &                           0.999 \\\\\n",
      "       epsilon &                           1e-08 \\\\\n",
      "         decay &                             0.0 \\\\\n",
      "       verbose &                               2 \\\\\n",
      "          loss & sparse\\_categorical\\_crossentropy \\\\\n",
      "\\bottomrule\n",
      "\\end{tabular}\n",
      "\\end{table}\n",
      "\n"
     ]
    }
   ],
   "source": [
    "def hyperpara2latex(yaml_file):\n",
    "    \"\"\"\n",
    "    load the yaml file and return a dictionary\n",
    "    \"\"\"\n",
    "    config = {}\n",
    "    cols = ['hyperparameter', 'value']\n",
    "    \n",
    "    ext = Path(yaml_file).suffix.replace('.', '') \n",
    "    \n",
    "    with open(yaml_file, \"r\") as stream:\n",
    "        try:\n",
    "            config = yaml.safe_load(stream)\n",
    "            print(type(config))\n",
    "            df = pd.DataFrame([config['dnn']]).T.reset_index()\n",
    "            print(df.to_latex(index=False, \n",
    "                    header=cols, \n",
    "                    #   column_format='|l|l|', \n",
    "                    label='Hyperparameter Settings', \n",
    "                    caption='Hyperparameter Settings'))\n",
    "        except yaml.YAMLError as exc:\n",
    "            print(exc)\n",
    "\n",
    "config = hyperpara2latex('../config.yaml')"
   ]
  },
  {
   "cell_type": "markdown",
   "metadata": {},
   "source": [
    "## Frequency of the vulnerabilities and benign samples at \n",
    "    - statement-level \n",
    "    - function-level"
   ]
  },
  {
   "cell_type": "code",
   "execution_count": 17,
   "metadata": {},
   "outputs": [
    {
     "name": "stdout",
     "output_type": "stream",
     "text": [
      "data/projects/contiki-2.4/apps/shell/\n",
      "(2973, 16)\n",
      "Benign              2652\n",
      "CWE-unknown          161\n",
      "CWE-120               62\n",
      "CWE-119!/CWE-120      61\n",
      "CWE-126               24\n",
      "CWE-134               13\n",
      "Name: cwe, dtype: int64\n",
      "buffer                      147\n",
      "fixed size global buffer     40\n",
      "snprintf                     37\n",
      "memcpy                       28\n",
      "strlen                       24\n",
      "strncpy                      18\n",
      "format                       13\n",
      "Static Global Buffer         11\n",
      "-                             2\n",
      "sprintf                       1\n",
      "Name: category, dtype: int64\n",
      "----------------------\n"
     ]
    }
   ],
   "source": [
    "# for project-wise distribution\n",
    "projects = list(dfs.project.unique())\n",
    "\n",
    "for project in projects:\n",
    "    print(project)\n",
    "    df = dfs[dfs.project == project]\n",
    "    print(df.shape)\n",
    "    print(df.cwe.value_counts())\n",
    "    print(df.category.value_counts())\n",
    "    print('----------------------')"
   ]
  },
  {
   "attachments": {},
   "cell_type": "markdown",
   "metadata": {},
   "source": [
    "## Create a latex table from the statistics of projects"
   ]
  },
  {
   "cell_type": "code",
   "execution_count": 18,
   "metadata": {},
   "outputs": [
    {
     "data": {
      "text/html": [
       "<div>\n",
       "<style scoped>\n",
       "    .dataframe tbody tr th:only-of-type {\n",
       "        vertical-align: middle;\n",
       "    }\n",
       "\n",
       "    .dataframe tbody tr th {\n",
       "        vertical-align: top;\n",
       "    }\n",
       "\n",
       "    .dataframe thead th {\n",
       "        text-align: right;\n",
       "    }\n",
       "</style>\n",
       "<table border=\"1\" class=\"dataframe\">\n",
       "  <thead>\n",
       "    <tr style=\"text-align: right;\">\n",
       "      <th></th>\n",
       "      <th></th>\n",
       "      <th>count</th>\n",
       "    </tr>\n",
       "    <tr>\n",
       "      <th>project</th>\n",
       "      <th>cwe</th>\n",
       "      <th></th>\n",
       "    </tr>\n",
       "  </thead>\n",
       "  <tbody>\n",
       "    <tr>\n",
       "      <th rowspan=\"2\" valign=\"top\"></th>\n",
       "      <th>Benign</th>\n",
       "      <td>2652</td>\n",
       "    </tr>\n",
       "    <tr>\n",
       "      <th>Vulnerable</th>\n",
       "      <td>321</td>\n",
       "    </tr>\n",
       "  </tbody>\n",
       "</table>\n",
       "</div>"
      ],
      "text/plain": [
       "                    count\n",
       "project cwe              \n",
       "        Benign       2652\n",
       "        Vulnerable    321"
      ]
     },
     "execution_count": 18,
     "metadata": {},
     "output_type": "execute_result"
    }
   ],
   "source": [
    "def save_latex(df, file):\n",
    "    \"\"\"\n",
    "    save the dataframe as latex table\n",
    "    \"\"\"\n",
    "    styler = df.style\n",
    "    # styler.applymap_index(lambda v: \"font-weight: bold;\", axis=\"index\")\n",
    "    styler.applymap_index(lambda v: \"font-weight: bold;\", axis=\"columns\")\n",
    "    res = styler.to_latex(convert_css=True, column_format='|l|l|r|')\n",
    "\n",
    "    with open(file, 'w') as f:\n",
    "        f.write(res)\n",
    "    return res\n",
    "\n",
    "# make class binary type benign/vulnerable\n",
    "dfs.loc[dfs.cwe!=\"Benign\", 'cwe'] = \"Vulnerable\"\n",
    "dfs['project'] = dfs.project.str.split('/').str[-1]\n",
    "\n",
    "prj_stat = dfs.groupby(['project', 'cwe']).size().reset_index(name='count')\n",
    "prj_s = prj_stat.groupby(['project', 'cwe']).sum()\n",
    "\n",
    "res = tabulate(save_latex(prj_s, '../result/project_stat.tex'))\n",
    "prj_s"
   ]
  },
  {
   "cell_type": "code",
   "execution_count": 19,
   "metadata": {},
   "outputs": [],
   "source": [
    "prj_sflat = prj_s.reset_index()\n",
    "prj_sflat = prj_sflat.pivot(index='project', columns='cwe', values='count')\n",
    "prj_sflat.reset_index().to_latex('../result/project_stat_flat.tex', index=False)"
   ]
  },
  {
   "cell_type": "code",
   "execution_count": 20,
   "metadata": {},
   "outputs": [
    {
     "name": "stdout",
     "output_type": "stream",
     "text": [
      "\\begin{table}\n",
      "\\centering\n",
      "\\caption{Top 10 CWEs}\n",
      "\\label{Top 10 CWEs}\n",
      "\\begin{tabular}{lr}\n",
      "\\toprule\n",
      "        cwe &  count \\\\\n",
      "\\midrule\n",
      " Vulnerable &    125 \\\\\n",
      "CWE-unknown &     28 \\\\\n",
      "\\bottomrule\n",
      "\\end{tabular}\n",
      "\\end{table}\n",
      "\n"
     ]
    }
   ],
   "source": [
    "# make class binary type benign/vulnerable\n",
    "dff.loc[dfs.cwe!=\"Benign\", 'cwe'] = \"Vulnerable\"\n",
    "\n",
    "prj_ff = dff.groupby(['project', 'cwe']).size().reset_index(name='count')\n",
    "prj_f = prj_ff.groupby(['cwe']).sum().sort_values(by='count', ascending=False).reset_index()\n",
    "prj_f = prj_f[prj_f.cwe != 'Benign'].head(10)\n",
    "print(prj_f.to_latex(index=False, caption='Top 10 CWEs', label='Top 10 CWEs'))"
   ]
  },
  {
   "cell_type": "code",
   "execution_count": 21,
   "metadata": {},
   "outputs": [
    {
     "data": {
      "text/html": [
       "<div>\n",
       "<style scoped>\n",
       "    .dataframe tbody tr th:only-of-type {\n",
       "        vertical-align: middle;\n",
       "    }\n",
       "\n",
       "    .dataframe tbody tr th {\n",
       "        vertical-align: top;\n",
       "    }\n",
       "\n",
       "    .dataframe thead th {\n",
       "        text-align: right;\n",
       "    }\n",
       "</style>\n",
       "<table border=\"1\" class=\"dataframe\">\n",
       "  <thead>\n",
       "    <tr style=\"text-align: right;\">\n",
       "      <th></th>\n",
       "      <th>count</th>\n",
       "    </tr>\n",
       "    <tr>\n",
       "      <th>cwe</th>\n",
       "      <th></th>\n",
       "    </tr>\n",
       "  </thead>\n",
       "  <tbody>\n",
       "    <tr>\n",
       "      <th>Benign</th>\n",
       "      <td>2652</td>\n",
       "    </tr>\n",
       "    <tr>\n",
       "      <th>Vulnerable</th>\n",
       "      <td>321</td>\n",
       "    </tr>\n",
       "  </tbody>\n",
       "</table>\n",
       "</div>"
      ],
      "text/plain": [
       "            count\n",
       "cwe              \n",
       "Benign       2652\n",
       "Vulnerable    321"
      ]
     },
     "execution_count": 21,
     "metadata": {},
     "output_type": "execute_result"
    }
   ],
   "source": [
    "prj_s = dfs.groupby(['project', 'cwe']).size().reset_index(name='count')\n",
    "prj_s = prj_s.groupby(['cwe']).sum()\n",
    "prj_s"
   ]
  },
  {
   "attachments": {},
   "cell_type": "markdown",
   "metadata": {},
   "source": [
    "# Show the description of the function-level data"
   ]
  },
  {
   "cell_type": "code",
   "execution_count": 22,
   "metadata": {},
   "outputs": [
    {
     "name": "stdout",
     "output_type": "stream",
     "text": [
      "\\begin{table}\n",
      "\\centering\n",
      "\\caption{Function Statistics}\n",
      "\\label{Function Statistics}\n",
      "\\begin{tabular}{rrrrr}\n",
      "\\toprule\n",
      "features & unique &                                   top & freq \\\\\n",
      "\\midrule\n",
      " context &     30 &                                       & 1326 \\\\\n",
      "     cwe &      3 &                                Benign & 1204 \\\\\n",
      " project &      1 & data/projects/contiki-2.4/apps/shell/ & 1357 \\\\\n",
      "\\bottomrule\n",
      "\\end{tabular}\n",
      "\\end{table}\n",
      "\n"
     ]
    }
   ],
   "source": [
    "df_describe = dff.drop(\n",
    "    labels=['top_nesting_level', 'fan_in', 'fan_out', 'general_fan_out', 'content', 'long_name', 'fun_name', 'full_parameters', 'code'],\n",
    "    axis=1, \n",
    "    errors='ignore').describe().T\n",
    "\n",
    "df_freq = df_describe.reset_index().rename(columns={'index': 'features'})\n",
    "df_freq = df_freq.drop(labels=['count'], axis=1)\n",
    "# The freq is the most common value’s frequency. The top is the most common value.\n",
    "\n",
    "print(df_freq[~df_freq.features.isin(['file'])].to_latex(\n",
    "    index=False, \n",
    "    column_format='rrrrr', \n",
    "    label='Function Statistics', \n",
    "    caption='Function Statistics')\n",
    "    )"
   ]
  },
  {
   "cell_type": "code",
   "execution_count": 23,
   "metadata": {},
   "outputs": [
    {
     "data": {
      "text/html": [
       "<div>\n",
       "<style scoped>\n",
       "    .dataframe tbody tr th:only-of-type {\n",
       "        vertical-align: middle;\n",
       "    }\n",
       "\n",
       "    .dataframe tbody tr th {\n",
       "        vertical-align: top;\n",
       "    }\n",
       "\n",
       "    .dataframe thead th {\n",
       "        text-align: right;\n",
       "    }\n",
       "</style>\n",
       "<table border=\"1\" class=\"dataframe\">\n",
       "  <thead>\n",
       "    <tr style=\"text-align: right;\">\n",
       "      <th></th>\n",
       "      <th>file</th>\n",
       "      <th>code</th>\n",
       "      <th>context</th>\n",
       "      <th>cwe</th>\n",
       "      <th>project</th>\n",
       "    </tr>\n",
       "  </thead>\n",
       "  <tbody>\n",
       "    <tr>\n",
       "      <th>0</th>\n",
       "      <td>data/projects/contiki-2.4/apps/shell/shell-irc.c</td>\n",
       "      <td>void\\nircc_text_output(struct ircc_state *s, c...</td>\n",
       "      <td></td>\n",
       "      <td>Vulnerable</td>\n",
       "      <td>data/projects/contiki-2.4/apps/shell/</td>\n",
       "    </tr>\n",
       "    <tr>\n",
       "      <th>1</th>\n",
       "      <td>data/projects/contiki-2.4/apps/shell/shell-irc.c</td>\n",
       "      <td>void\\nircc_text_output(struct ircc_state *s, c...</td>\n",
       "      <td></td>\n",
       "      <td>Vulnerable</td>\n",
       "      <td>data/projects/contiki-2.4/apps/shell/</td>\n",
       "    </tr>\n",
       "    <tr>\n",
       "      <th>2</th>\n",
       "      <td>data/projects/contiki-2.4/apps/shell/shell-irc.c</td>\n",
       "      <td>void\\nircc_text_output(struct ircc_state *s, c...</td>\n",
       "      <td>char buf1[MAX_NICKLEN + MAX_SERVERLEN];</td>\n",
       "      <td>Vulnerable</td>\n",
       "      <td>data/projects/contiki-2.4/apps/shell/</td>\n",
       "    </tr>\n",
       "    <tr>\n",
       "      <th>3</th>\n",
       "      <td>data/projects/contiki-2.4/apps/shell/shell-irc.c</td>\n",
       "      <td>void\\nircc_text_output(struct ircc_state *s, c...</td>\n",
       "      <td>strncpy(buf1, text1, sizeof(buf1));</td>\n",
       "      <td>Vulnerable</td>\n",
       "      <td>data/projects/contiki-2.4/apps/shell/</td>\n",
       "    </tr>\n",
       "    <tr>\n",
       "      <th>4</th>\n",
       "      <td>data/projects/contiki-2.4/apps/shell/shell-irc.c</td>\n",
       "      <td>void\\nircc_text_output(struct ircc_state *s, c...</td>\n",
       "      <td>len = strlen(buf1);</td>\n",
       "      <td>Vulnerable</td>\n",
       "      <td>data/projects/contiki-2.4/apps/shell/</td>\n",
       "    </tr>\n",
       "    <tr>\n",
       "      <th>5</th>\n",
       "      <td>data/projects/contiki-2.4/apps/shell/shell-irc.c</td>\n",
       "      <td>void\\nircc_text_output(struct ircc_state *s, c...</td>\n",
       "      <td></td>\n",
       "      <td>Vulnerable</td>\n",
       "      <td>data/projects/contiki-2.4/apps/shell/</td>\n",
       "    </tr>\n",
       "    <tr>\n",
       "      <th>6</th>\n",
       "      <td>data/projects/contiki-2.4/apps/shell/shell-irc.c</td>\n",
       "      <td>void\\nircc_text_output(struct ircc_state *s, c...</td>\n",
       "      <td></td>\n",
       "      <td>Vulnerable</td>\n",
       "      <td>data/projects/contiki-2.4/apps/shell/</td>\n",
       "    </tr>\n",
       "    <tr>\n",
       "      <th>7</th>\n",
       "      <td>data/projects/contiki-2.4/apps/shell/shell-irc.c</td>\n",
       "      <td>void\\nircc_text_output(struct ircc_state *s, c...</td>\n",
       "      <td></td>\n",
       "      <td>Vulnerable</td>\n",
       "      <td>data/projects/contiki-2.4/apps/shell/</td>\n",
       "    </tr>\n",
       "    <tr>\n",
       "      <th>8</th>\n",
       "      <td>data/projects/contiki-2.4/apps/shell/shell-irc.c</td>\n",
       "      <td>void\\nircc_text_output(struct ircc_state *s, c...</td>\n",
       "      <td></td>\n",
       "      <td>Vulnerable</td>\n",
       "      <td>data/projects/contiki-2.4/apps/shell/</td>\n",
       "    </tr>\n",
       "    <tr>\n",
       "      <th>9</th>\n",
       "      <td>data/projects/contiki-2.4/apps/shell/shell-irc.c</td>\n",
       "      <td>void\\nircc_text_output(struct ircc_state *s, c...</td>\n",
       "      <td></td>\n",
       "      <td>Vulnerable</td>\n",
       "      <td>data/projects/contiki-2.4/apps/shell/</td>\n",
       "    </tr>\n",
       "  </tbody>\n",
       "</table>\n",
       "</div>"
      ],
      "text/plain": [
       "                                               file  \\\n",
       "0  data/projects/contiki-2.4/apps/shell/shell-irc.c   \n",
       "1  data/projects/contiki-2.4/apps/shell/shell-irc.c   \n",
       "2  data/projects/contiki-2.4/apps/shell/shell-irc.c   \n",
       "3  data/projects/contiki-2.4/apps/shell/shell-irc.c   \n",
       "4  data/projects/contiki-2.4/apps/shell/shell-irc.c   \n",
       "5  data/projects/contiki-2.4/apps/shell/shell-irc.c   \n",
       "6  data/projects/contiki-2.4/apps/shell/shell-irc.c   \n",
       "7  data/projects/contiki-2.4/apps/shell/shell-irc.c   \n",
       "8  data/projects/contiki-2.4/apps/shell/shell-irc.c   \n",
       "9  data/projects/contiki-2.4/apps/shell/shell-irc.c   \n",
       "\n",
       "                                                code  \\\n",
       "0  void\\nircc_text_output(struct ircc_state *s, c...   \n",
       "1  void\\nircc_text_output(struct ircc_state *s, c...   \n",
       "2  void\\nircc_text_output(struct ircc_state *s, c...   \n",
       "3  void\\nircc_text_output(struct ircc_state *s, c...   \n",
       "4  void\\nircc_text_output(struct ircc_state *s, c...   \n",
       "5  void\\nircc_text_output(struct ircc_state *s, c...   \n",
       "6  void\\nircc_text_output(struct ircc_state *s, c...   \n",
       "7  void\\nircc_text_output(struct ircc_state *s, c...   \n",
       "8  void\\nircc_text_output(struct ircc_state *s, c...   \n",
       "9  void\\nircc_text_output(struct ircc_state *s, c...   \n",
       "\n",
       "                                     context         cwe  \\\n",
       "0                                             Vulnerable   \n",
       "1                                             Vulnerable   \n",
       "2    char buf1[MAX_NICKLEN + MAX_SERVERLEN];  Vulnerable   \n",
       "3        strncpy(buf1, text1, sizeof(buf1));  Vulnerable   \n",
       "4                        len = strlen(buf1);  Vulnerable   \n",
       "5                                             Vulnerable   \n",
       "6                                             Vulnerable   \n",
       "7                                             Vulnerable   \n",
       "8                                             Vulnerable   \n",
       "9                                             Vulnerable   \n",
       "\n",
       "                                 project  \n",
       "0  data/projects/contiki-2.4/apps/shell/  \n",
       "1  data/projects/contiki-2.4/apps/shell/  \n",
       "2  data/projects/contiki-2.4/apps/shell/  \n",
       "3  data/projects/contiki-2.4/apps/shell/  \n",
       "4  data/projects/contiki-2.4/apps/shell/  \n",
       "5  data/projects/contiki-2.4/apps/shell/  \n",
       "6  data/projects/contiki-2.4/apps/shell/  \n",
       "7  data/projects/contiki-2.4/apps/shell/  \n",
       "8  data/projects/contiki-2.4/apps/shell/  \n",
       "9  data/projects/contiki-2.4/apps/shell/  "
      ]
     },
     "execution_count": 23,
     "metadata": {},
     "output_type": "execute_result"
    }
   ],
   "source": [
    "dff[0:10]"
   ]
  },
  {
   "cell_type": "code",
   "execution_count": 24,
   "metadata": {},
   "outputs": [
    {
     "data": {
      "text/plain": [
       "Benign         1204\n",
       "Vulnerable      125\n",
       "CWE-unknown      28\n",
       "Name: cwe, dtype: int64"
      ]
     },
     "execution_count": 24,
     "metadata": {},
     "output_type": "execute_result"
    }
   ],
   "source": [
    "dff.cwe.value_counts()"
   ]
  },
  {
   "cell_type": "code",
   "execution_count": 25,
   "metadata": {},
   "outputs": [
    {
     "name": "stdout",
     "output_type": "stream",
     "text": [
      "Size of statements: 2973\n",
      "Size of unique statements: 339\n",
      "\n",
      "Size of functions: 1357\n",
      "Size of unique functions: 134\n"
     ]
    }
   ],
   "source": [
    "print(f'Size of statements: {len(dfs.context)}')\n",
    "print(f'Size of unique statements: {dfs.context.nunique()}')\n",
    "\n",
    "print(f'\\nSize of functions: {len(dff.code)}')\n",
    "print(f'Size of unique functions: {dff.code.nunique()}')"
   ]
  },
  {
   "cell_type": "code",
   "execution_count": 26,
   "metadata": {},
   "outputs": [
    {
     "data": {
      "text/plain": [
       "Benign         1204\n",
       "Vulnerable      125\n",
       "CWE-unknown      28\n",
       "Name: cwe, dtype: int64"
      ]
     },
     "execution_count": 26,
     "metadata": {},
     "output_type": "execute_result"
    }
   ],
   "source": [
    "dff.cwe.value_counts()"
   ]
  },
  {
   "cell_type": "code",
   "execution_count": 6,
   "metadata": {},
   "outputs": [
    {
     "data": {
      "text/plain": [
       "0"
      ]
     },
     "execution_count": 6,
     "metadata": {},
     "output_type": "execute_result"
    }
   ],
   "source": [
    "20%20"
   ]
  }
 ],
 "metadata": {
  "kernelspec": {
   "display_name": "vulcode",
   "language": "python",
   "name": "python3"
  },
  "language_info": {
   "codemirror_mode": {
    "name": "ipython",
    "version": 3
   },
   "file_extension": ".py",
   "mimetype": "text/x-python",
   "name": "python",
   "nbconvert_exporter": "python",
   "pygments_lexer": "ipython3",
   "version": "3.8.0"
  },
  "orig_nbformat": 4,
  "vscode": {
   "interpreter": {
    "hash": "770d70f40277e0fadd6bc1f7a5fecfd799eee3cbb57c500ccfb48eb07fd2c1ce"
   }
  }
 },
 "nbformat": 4,
 "nbformat_minor": 2
}
