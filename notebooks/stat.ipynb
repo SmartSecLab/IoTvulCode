{
 "cells": [
  {
   "attachments": {},
   "cell_type": "markdown",
   "metadata": {},
   "source": [
    "# Statistics on the output data. "
   ]
  },
  {
   "cell_type": "code",
   "execution_count": 19,
   "metadata": {},
   "outputs": [
    {
     "data": {
      "text/plain": [
       "Index(['File', 'Line', 'Column', 'DefaultLevel', 'Level', 'Category', 'Name',\n",
       "       'Warning', 'Suggestion', 'Note', 'CWEs', 'Context', 'Fingerprint',\n",
       "       'ToolVersion', 'RuleId', 'HelpUri'],\n",
       "      dtype='object')"
      ]
     },
     "execution_count": 19,
     "metadata": {},
     "output_type": "execute_result"
    }
   ],
   "source": [
    "import pandas as pd\n",
    "import matplotlib.pyplot as plt\n",
    "import seaborn as sns\n",
    "import plotly.express as px\n",
    "import lizard\n",
    "import subprocess as sub\n",
    "from pylibsrcml import srcml\n",
    "import os\n",
    "import xml.etree.ElementTree as et \n",
    "\n",
    "df = pd.read_csv('../data/output-tunslip.csv')\n",
    "\n",
    "if not os.path.exists(\"figure\"):\n",
    "    os.mkdir(\"figure\")\n",
    "\n",
    "df.columns"
   ]
  },
  {
   "cell_type": "code",
   "execution_count": 20,
   "metadata": {},
   "outputs": [
    {
     "name": "stdout",
     "output_type": "stream",
     "text": [
      "    Category       Name              CWEs  Count\n",
      "0     buffer       char  CWE-119!/CWE-120      6\n",
      "1     buffer     getopt   CWE-120, CWE-20      1\n",
      "2     buffer     memcpy           CWE-120     11\n",
      "3     buffer       read   CWE-120, CWE-20      1\n",
      "4     buffer     strcat           CWE-120      1\n",
      "5     buffer     strcpy           CWE-120      4\n",
      "6     buffer    strncpy           CWE-120      1\n",
      "7     format  vsnprintf           CWE-134      1\n",
      "8    integer       atoi           CWE-190      2\n",
      "9       misc       open           CWE-362      2\n",
      "10  obsolete     usleep           CWE-676      1\n",
      "11     shell     system            CWE-78      1\n"
     ]
    },
    {
     "data": {
      "application/vnd.plotly.v1+json": {
       "config": {
        "plotlyServerURL": "https://plot.ly"
       },
       "data": [
        {
         "branchvalues": "total",
         "domain": {
          "x": [
           0,
           1
          ],
          "y": [
           0,
           1
          ]
         },
         "hovertemplate": "labels=%{label}<br>Count=%{value}<br>parent=%{parent}<br>id=%{id}<extra></extra>",
         "ids": [
          "buffer/char/CWE-119!/CWE-120",
          "buffer/memcpy/CWE-120",
          "buffer/strcat/CWE-120",
          "buffer/strcpy/CWE-120",
          "buffer/strncpy/CWE-120",
          "buffer/getopt/CWE-120, CWE-20",
          "buffer/read/CWE-120, CWE-20",
          "format/vsnprintf/CWE-134",
          "integer/atoi/CWE-190",
          "misc/open/CWE-362",
          "obsolete/usleep/CWE-676",
          "shell/system/CWE-78",
          "integer/atoi",
          "buffer/char",
          "buffer/getopt",
          "buffer/memcpy",
          "misc/open",
          "buffer/read",
          "buffer/strcat",
          "buffer/strcpy",
          "buffer/strncpy",
          "shell/system",
          "obsolete/usleep",
          "format/vsnprintf",
          "buffer",
          "format",
          "integer",
          "misc",
          "obsolete",
          "shell"
         ],
         "labels": [
          "CWE-119!/CWE-120",
          "CWE-120",
          "CWE-120",
          "CWE-120",
          "CWE-120",
          "CWE-120, CWE-20",
          "CWE-120, CWE-20",
          "CWE-134",
          "CWE-190",
          "CWE-362",
          "CWE-676",
          "CWE-78",
          "atoi",
          "char",
          "getopt",
          "memcpy",
          "open",
          "read",
          "strcat",
          "strcpy",
          "strncpy",
          "system",
          "usleep",
          "vsnprintf",
          "buffer",
          "format",
          "integer",
          "misc",
          "obsolete",
          "shell"
         ],
         "name": "",
         "parents": [
          "buffer/char",
          "buffer/memcpy",
          "buffer/strcat",
          "buffer/strcpy",
          "buffer/strncpy",
          "buffer/getopt",
          "buffer/read",
          "format/vsnprintf",
          "integer/atoi",
          "misc/open",
          "obsolete/usleep",
          "shell/system",
          "integer",
          "buffer",
          "buffer",
          "buffer",
          "misc",
          "buffer",
          "buffer",
          "buffer",
          "buffer",
          "shell",
          "obsolete",
          "format",
          "",
          "",
          "",
          "",
          "",
          ""
         ],
         "type": "sunburst",
         "values": [
          6,
          11,
          1,
          4,
          1,
          1,
          1,
          1,
          2,
          2,
          1,
          1,
          2,
          6,
          1,
          11,
          2,
          1,
          1,
          4,
          1,
          1,
          1,
          1,
          25,
          1,
          2,
          2,
          1,
          1
         ]
        }
       ],
       "layout": {
        "legend": {
         "tracegroupgap": 0
        },
        "margin": {
         "t": 60
        },
        "template": {
         "data": {
          "bar": [
           {
            "error_x": {
             "color": "#2a3f5f"
            },
            "error_y": {
             "color": "#2a3f5f"
            },
            "marker": {
             "line": {
              "color": "#E5ECF6",
              "width": 0.5
             },
             "pattern": {
              "fillmode": "overlay",
              "size": 10,
              "solidity": 0.2
             }
            },
            "type": "bar"
           }
          ],
          "barpolar": [
           {
            "marker": {
             "line": {
              "color": "#E5ECF6",
              "width": 0.5
             },
             "pattern": {
              "fillmode": "overlay",
              "size": 10,
              "solidity": 0.2
             }
            },
            "type": "barpolar"
           }
          ],
          "carpet": [
           {
            "aaxis": {
             "endlinecolor": "#2a3f5f",
             "gridcolor": "white",
             "linecolor": "white",
             "minorgridcolor": "white",
             "startlinecolor": "#2a3f5f"
            },
            "baxis": {
             "endlinecolor": "#2a3f5f",
             "gridcolor": "white",
             "linecolor": "white",
             "minorgridcolor": "white",
             "startlinecolor": "#2a3f5f"
            },
            "type": "carpet"
           }
          ],
          "choropleth": [
           {
            "colorbar": {
             "outlinewidth": 0,
             "ticks": ""
            },
            "type": "choropleth"
           }
          ],
          "contour": [
           {
            "colorbar": {
             "outlinewidth": 0,
             "ticks": ""
            },
            "colorscale": [
             [
              0,
              "#0d0887"
             ],
             [
              0.1111111111111111,
              "#46039f"
             ],
             [
              0.2222222222222222,
              "#7201a8"
             ],
             [
              0.3333333333333333,
              "#9c179e"
             ],
             [
              0.4444444444444444,
              "#bd3786"
             ],
             [
              0.5555555555555556,
              "#d8576b"
             ],
             [
              0.6666666666666666,
              "#ed7953"
             ],
             [
              0.7777777777777778,
              "#fb9f3a"
             ],
             [
              0.8888888888888888,
              "#fdca26"
             ],
             [
              1,
              "#f0f921"
             ]
            ],
            "type": "contour"
           }
          ],
          "contourcarpet": [
           {
            "colorbar": {
             "outlinewidth": 0,
             "ticks": ""
            },
            "type": "contourcarpet"
           }
          ],
          "heatmap": [
           {
            "colorbar": {
             "outlinewidth": 0,
             "ticks": ""
            },
            "colorscale": [
             [
              0,
              "#0d0887"
             ],
             [
              0.1111111111111111,
              "#46039f"
             ],
             [
              0.2222222222222222,
              "#7201a8"
             ],
             [
              0.3333333333333333,
              "#9c179e"
             ],
             [
              0.4444444444444444,
              "#bd3786"
             ],
             [
              0.5555555555555556,
              "#d8576b"
             ],
             [
              0.6666666666666666,
              "#ed7953"
             ],
             [
              0.7777777777777778,
              "#fb9f3a"
             ],
             [
              0.8888888888888888,
              "#fdca26"
             ],
             [
              1,
              "#f0f921"
             ]
            ],
            "type": "heatmap"
           }
          ],
          "heatmapgl": [
           {
            "colorbar": {
             "outlinewidth": 0,
             "ticks": ""
            },
            "colorscale": [
             [
              0,
              "#0d0887"
             ],
             [
              0.1111111111111111,
              "#46039f"
             ],
             [
              0.2222222222222222,
              "#7201a8"
             ],
             [
              0.3333333333333333,
              "#9c179e"
             ],
             [
              0.4444444444444444,
              "#bd3786"
             ],
             [
              0.5555555555555556,
              "#d8576b"
             ],
             [
              0.6666666666666666,
              "#ed7953"
             ],
             [
              0.7777777777777778,
              "#fb9f3a"
             ],
             [
              0.8888888888888888,
              "#fdca26"
             ],
             [
              1,
              "#f0f921"
             ]
            ],
            "type": "heatmapgl"
           }
          ],
          "histogram": [
           {
            "marker": {
             "pattern": {
              "fillmode": "overlay",
              "size": 10,
              "solidity": 0.2
             }
            },
            "type": "histogram"
           }
          ],
          "histogram2d": [
           {
            "colorbar": {
             "outlinewidth": 0,
             "ticks": ""
            },
            "colorscale": [
             [
              0,
              "#0d0887"
             ],
             [
              0.1111111111111111,
              "#46039f"
             ],
             [
              0.2222222222222222,
              "#7201a8"
             ],
             [
              0.3333333333333333,
              "#9c179e"
             ],
             [
              0.4444444444444444,
              "#bd3786"
             ],
             [
              0.5555555555555556,
              "#d8576b"
             ],
             [
              0.6666666666666666,
              "#ed7953"
             ],
             [
              0.7777777777777778,
              "#fb9f3a"
             ],
             [
              0.8888888888888888,
              "#fdca26"
             ],
             [
              1,
              "#f0f921"
             ]
            ],
            "type": "histogram2d"
           }
          ],
          "histogram2dcontour": [
           {
            "colorbar": {
             "outlinewidth": 0,
             "ticks": ""
            },
            "colorscale": [
             [
              0,
              "#0d0887"
             ],
             [
              0.1111111111111111,
              "#46039f"
             ],
             [
              0.2222222222222222,
              "#7201a8"
             ],
             [
              0.3333333333333333,
              "#9c179e"
             ],
             [
              0.4444444444444444,
              "#bd3786"
             ],
             [
              0.5555555555555556,
              "#d8576b"
             ],
             [
              0.6666666666666666,
              "#ed7953"
             ],
             [
              0.7777777777777778,
              "#fb9f3a"
             ],
             [
              0.8888888888888888,
              "#fdca26"
             ],
             [
              1,
              "#f0f921"
             ]
            ],
            "type": "histogram2dcontour"
           }
          ],
          "mesh3d": [
           {
            "colorbar": {
             "outlinewidth": 0,
             "ticks": ""
            },
            "type": "mesh3d"
           }
          ],
          "parcoords": [
           {
            "line": {
             "colorbar": {
              "outlinewidth": 0,
              "ticks": ""
             }
            },
            "type": "parcoords"
           }
          ],
          "pie": [
           {
            "automargin": true,
            "type": "pie"
           }
          ],
          "scatter": [
           {
            "fillpattern": {
             "fillmode": "overlay",
             "size": 10,
             "solidity": 0.2
            },
            "type": "scatter"
           }
          ],
          "scatter3d": [
           {
            "line": {
             "colorbar": {
              "outlinewidth": 0,
              "ticks": ""
             }
            },
            "marker": {
             "colorbar": {
              "outlinewidth": 0,
              "ticks": ""
             }
            },
            "type": "scatter3d"
           }
          ],
          "scattercarpet": [
           {
            "marker": {
             "colorbar": {
              "outlinewidth": 0,
              "ticks": ""
             }
            },
            "type": "scattercarpet"
           }
          ],
          "scattergeo": [
           {
            "marker": {
             "colorbar": {
              "outlinewidth": 0,
              "ticks": ""
             }
            },
            "type": "scattergeo"
           }
          ],
          "scattergl": [
           {
            "marker": {
             "colorbar": {
              "outlinewidth": 0,
              "ticks": ""
             }
            },
            "type": "scattergl"
           }
          ],
          "scattermapbox": [
           {
            "marker": {
             "colorbar": {
              "outlinewidth": 0,
              "ticks": ""
             }
            },
            "type": "scattermapbox"
           }
          ],
          "scatterpolar": [
           {
            "marker": {
             "colorbar": {
              "outlinewidth": 0,
              "ticks": ""
             }
            },
            "type": "scatterpolar"
           }
          ],
          "scatterpolargl": [
           {
            "marker": {
             "colorbar": {
              "outlinewidth": 0,
              "ticks": ""
             }
            },
            "type": "scatterpolargl"
           }
          ],
          "scatterternary": [
           {
            "marker": {
             "colorbar": {
              "outlinewidth": 0,
              "ticks": ""
             }
            },
            "type": "scatterternary"
           }
          ],
          "surface": [
           {
            "colorbar": {
             "outlinewidth": 0,
             "ticks": ""
            },
            "colorscale": [
             [
              0,
              "#0d0887"
             ],
             [
              0.1111111111111111,
              "#46039f"
             ],
             [
              0.2222222222222222,
              "#7201a8"
             ],
             [
              0.3333333333333333,
              "#9c179e"
             ],
             [
              0.4444444444444444,
              "#bd3786"
             ],
             [
              0.5555555555555556,
              "#d8576b"
             ],
             [
              0.6666666666666666,
              "#ed7953"
             ],
             [
              0.7777777777777778,
              "#fb9f3a"
             ],
             [
              0.8888888888888888,
              "#fdca26"
             ],
             [
              1,
              "#f0f921"
             ]
            ],
            "type": "surface"
           }
          ],
          "table": [
           {
            "cells": {
             "fill": {
              "color": "#EBF0F8"
             },
             "line": {
              "color": "white"
             }
            },
            "header": {
             "fill": {
              "color": "#C8D4E3"
             },
             "line": {
              "color": "white"
             }
            },
            "type": "table"
           }
          ]
         },
         "layout": {
          "annotationdefaults": {
           "arrowcolor": "#2a3f5f",
           "arrowhead": 0,
           "arrowwidth": 1
          },
          "autotypenumbers": "strict",
          "coloraxis": {
           "colorbar": {
            "outlinewidth": 0,
            "ticks": ""
           }
          },
          "colorscale": {
           "diverging": [
            [
             0,
             "#8e0152"
            ],
            [
             0.1,
             "#c51b7d"
            ],
            [
             0.2,
             "#de77ae"
            ],
            [
             0.3,
             "#f1b6da"
            ],
            [
             0.4,
             "#fde0ef"
            ],
            [
             0.5,
             "#f7f7f7"
            ],
            [
             0.6,
             "#e6f5d0"
            ],
            [
             0.7,
             "#b8e186"
            ],
            [
             0.8,
             "#7fbc41"
            ],
            [
             0.9,
             "#4d9221"
            ],
            [
             1,
             "#276419"
            ]
           ],
           "sequential": [
            [
             0,
             "#0d0887"
            ],
            [
             0.1111111111111111,
             "#46039f"
            ],
            [
             0.2222222222222222,
             "#7201a8"
            ],
            [
             0.3333333333333333,
             "#9c179e"
            ],
            [
             0.4444444444444444,
             "#bd3786"
            ],
            [
             0.5555555555555556,
             "#d8576b"
            ],
            [
             0.6666666666666666,
             "#ed7953"
            ],
            [
             0.7777777777777778,
             "#fb9f3a"
            ],
            [
             0.8888888888888888,
             "#fdca26"
            ],
            [
             1,
             "#f0f921"
            ]
           ],
           "sequentialminus": [
            [
             0,
             "#0d0887"
            ],
            [
             0.1111111111111111,
             "#46039f"
            ],
            [
             0.2222222222222222,
             "#7201a8"
            ],
            [
             0.3333333333333333,
             "#9c179e"
            ],
            [
             0.4444444444444444,
             "#bd3786"
            ],
            [
             0.5555555555555556,
             "#d8576b"
            ],
            [
             0.6666666666666666,
             "#ed7953"
            ],
            [
             0.7777777777777778,
             "#fb9f3a"
            ],
            [
             0.8888888888888888,
             "#fdca26"
            ],
            [
             1,
             "#f0f921"
            ]
           ]
          },
          "colorway": [
           "#636efa",
           "#EF553B",
           "#00cc96",
           "#ab63fa",
           "#FFA15A",
           "#19d3f3",
           "#FF6692",
           "#B6E880",
           "#FF97FF",
           "#FECB52"
          ],
          "font": {
           "color": "#2a3f5f"
          },
          "geo": {
           "bgcolor": "white",
           "lakecolor": "white",
           "landcolor": "#E5ECF6",
           "showlakes": true,
           "showland": true,
           "subunitcolor": "white"
          },
          "hoverlabel": {
           "align": "left"
          },
          "hovermode": "closest",
          "mapbox": {
           "style": "light"
          },
          "paper_bgcolor": "white",
          "plot_bgcolor": "#E5ECF6",
          "polar": {
           "angularaxis": {
            "gridcolor": "white",
            "linecolor": "white",
            "ticks": ""
           },
           "bgcolor": "#E5ECF6",
           "radialaxis": {
            "gridcolor": "white",
            "linecolor": "white",
            "ticks": ""
           }
          },
          "scene": {
           "xaxis": {
            "backgroundcolor": "#E5ECF6",
            "gridcolor": "white",
            "gridwidth": 2,
            "linecolor": "white",
            "showbackground": true,
            "ticks": "",
            "zerolinecolor": "white"
           },
           "yaxis": {
            "backgroundcolor": "#E5ECF6",
            "gridcolor": "white",
            "gridwidth": 2,
            "linecolor": "white",
            "showbackground": true,
            "ticks": "",
            "zerolinecolor": "white"
           },
           "zaxis": {
            "backgroundcolor": "#E5ECF6",
            "gridcolor": "white",
            "gridwidth": 2,
            "linecolor": "white",
            "showbackground": true,
            "ticks": "",
            "zerolinecolor": "white"
           }
          },
          "shapedefaults": {
           "line": {
            "color": "#2a3f5f"
           }
          },
          "ternary": {
           "aaxis": {
            "gridcolor": "white",
            "linecolor": "white",
            "ticks": ""
           },
           "baxis": {
            "gridcolor": "white",
            "linecolor": "white",
            "ticks": ""
           },
           "bgcolor": "#E5ECF6",
           "caxis": {
            "gridcolor": "white",
            "linecolor": "white",
            "ticks": ""
           }
          },
          "title": {
           "x": 0.05
          },
          "xaxis": {
           "automargin": true,
           "gridcolor": "white",
           "linecolor": "white",
           "ticks": "",
           "title": {
            "standoff": 15
           },
           "zerolinecolor": "white",
           "zerolinewidth": 2
          },
          "yaxis": {
           "automargin": true,
           "gridcolor": "white",
           "linecolor": "white",
           "ticks": "",
           "title": {
            "standoff": 15
           },
           "zerolinecolor": "white",
           "zerolinewidth": 2
          }
         }
        }
       }
      }
     },
     "metadata": {},
     "output_type": "display_data"
    },
    {
     "data": {
      "text/html": [
       "<div>\n",
       "<style scoped>\n",
       "    .dataframe tbody tr th:only-of-type {\n",
       "        vertical-align: middle;\n",
       "    }\n",
       "\n",
       "    .dataframe tbody tr th {\n",
       "        vertical-align: top;\n",
       "    }\n",
       "\n",
       "    .dataframe thead th {\n",
       "        text-align: right;\n",
       "    }\n",
       "</style>\n",
       "<table border=\"1\" class=\"dataframe\">\n",
       "  <thead>\n",
       "    <tr style=\"text-align: right;\">\n",
       "      <th></th>\n",
       "      <th>File</th>\n",
       "      <th>Line</th>\n",
       "      <th>Column</th>\n",
       "      <th>DefaultLevel</th>\n",
       "      <th>Level</th>\n",
       "      <th>Category</th>\n",
       "      <th>Name</th>\n",
       "      <th>Warning</th>\n",
       "      <th>Suggestion</th>\n",
       "      <th>Note</th>\n",
       "      <th>CWEs</th>\n",
       "      <th>Context</th>\n",
       "      <th>Fingerprint</th>\n",
       "      <th>ToolVersion</th>\n",
       "      <th>RuleId</th>\n",
       "      <th>HelpUri</th>\n",
       "    </tr>\n",
       "  </thead>\n",
       "  <tbody>\n",
       "    <tr>\n",
       "      <th>0</th>\n",
       "      <td>data/projects/contiki-2.4/tools/tunslip.c</td>\n",
       "      <td>438</td>\n",
       "      <td>3</td>\n",
       "      <td>4</td>\n",
       "      <td>4</td>\n",
       "      <td>format</td>\n",
       "      <td>vsnprintf</td>\n",
       "      <td>If format strings can be influenced by an atta...</td>\n",
       "      <td>Use a constant for the format specification.</td>\n",
       "      <td>NaN</td>\n",
       "      <td>CWE-134</td>\n",
       "      <td>vsnprintf(cmd, sizeof(cmd), fmt, ap);</td>\n",
       "      <td>5a6ebc53325719b0f59e24f31e308667e9337289bfbc55...</td>\n",
       "      <td>2.0.19</td>\n",
       "      <td>FF1019</td>\n",
       "      <td>https://cwe.mitre.org/data/definitions/134.html</td>\n",
       "    </tr>\n",
       "    <tr>\n",
       "      <th>1</th>\n",
       "      <td>data/projects/contiki-2.4/tools/tunslip.c</td>\n",
       "      <td>442</td>\n",
       "      <td>10</td>\n",
       "      <td>4</td>\n",
       "      <td>4</td>\n",
       "      <td>shell</td>\n",
       "      <td>system</td>\n",
       "      <td>This causes a new program to execute and is di...</td>\n",
       "      <td>try using a library call that implements the s...</td>\n",
       "      <td>NaN</td>\n",
       "      <td>CWE-78</td>\n",
       "      <td>return system(cmd);</td>\n",
       "      <td>f3f1fc4af80877aebfc643d7ec0da9b9e96eccff3cad56...</td>\n",
       "      <td>2.0.19</td>\n",
       "      <td>FF1044</td>\n",
       "      <td>https://cwe.mitre.org/data/definitions/78.html</td>\n",
       "    </tr>\n",
       "    <tr>\n",
       "      <th>2</th>\n",
       "      <td>data/projects/contiki-2.4/tools/tunslip.c</td>\n",
       "      <td>753</td>\n",
       "      <td>3</td>\n",
       "      <td>4</td>\n",
       "      <td>4</td>\n",
       "      <td>buffer</td>\n",
       "      <td>strcat</td>\n",
       "      <td>Does not check for buffer overflows when conca...</td>\n",
       "      <td>Consider using strcat_s, strncat, strlcat, or ...</td>\n",
       "      <td>NaN</td>\n",
       "      <td>CWE-120</td>\n",
       "      <td>strcat(t, dev);</td>\n",
       "      <td>901ebb10ee39a0103c1035a30e7a1a1f2db2bf8d9bf07e...</td>\n",
       "      <td>2.0.19</td>\n",
       "      <td>FF1005</td>\n",
       "      <td>https://cwe.mitre.org/data/definitions/120.html</td>\n",
       "    </tr>\n",
       "  </tbody>\n",
       "</table>\n",
       "</div>"
      ],
      "text/plain": [
       "                                        File  Line  Column  DefaultLevel  \\\n",
       "0  data/projects/contiki-2.4/tools/tunslip.c   438       3             4   \n",
       "1  data/projects/contiki-2.4/tools/tunslip.c   442      10             4   \n",
       "2  data/projects/contiki-2.4/tools/tunslip.c   753       3             4   \n",
       "\n",
       "   Level Category       Name  \\\n",
       "0      4   format  vsnprintf   \n",
       "1      4    shell     system   \n",
       "2      4   buffer     strcat   \n",
       "\n",
       "                                             Warning  \\\n",
       "0  If format strings can be influenced by an atta...   \n",
       "1  This causes a new program to execute and is di...   \n",
       "2  Does not check for buffer overflows when conca...   \n",
       "\n",
       "                                          Suggestion Note     CWEs  \\\n",
       "0       Use a constant for the format specification.  NaN  CWE-134   \n",
       "1  try using a library call that implements the s...  NaN   CWE-78   \n",
       "2  Consider using strcat_s, strncat, strlcat, or ...  NaN  CWE-120   \n",
       "\n",
       "                                   Context  \\\n",
       "0    vsnprintf(cmd, sizeof(cmd), fmt, ap);   \n",
       "1                      return system(cmd);   \n",
       "2                          strcat(t, dev);   \n",
       "\n",
       "                                         Fingerprint ToolVersion  RuleId  \\\n",
       "0  5a6ebc53325719b0f59e24f31e308667e9337289bfbc55...      2.0.19  FF1019   \n",
       "1  f3f1fc4af80877aebfc643d7ec0da9b9e96eccff3cad56...      2.0.19  FF1044   \n",
       "2  901ebb10ee39a0103c1035a30e7a1a1f2db2bf8d9bf07e...      2.0.19  FF1005   \n",
       "\n",
       "                                           HelpUri  \n",
       "0  https://cwe.mitre.org/data/definitions/134.html  \n",
       "1   https://cwe.mitre.org/data/definitions/78.html  \n",
       "2  https://cwe.mitre.org/data/definitions/120.html  "
      ]
     },
     "execution_count": 20,
     "metadata": {},
     "output_type": "execute_result"
    }
   ],
   "source": [
    "dfp = df[['Category', 'Name', 'CWEs']].groupby(['Category', 'Name', 'CWEs'], group_keys=False).size().reset_index(name='Count')\n",
    "print(dfp)\n",
    "fig = px.sunburst(dfp, path=['Category', 'Name', 'CWEs'], values='Count')\n",
    "# fig.write_image(\"figure/vul_statistics.pdf\")\n",
    "fig.show()\n",
    "df.head(3)"
   ]
  },
  {
   "attachments": {},
   "cell_type": "markdown",
   "metadata": {},
   "source": [
    "## Grepping functions from the vulnerability context of the file."
   ]
  },
  {
   "cell_type": "code",
   "execution_count": 21,
   "metadata": {},
   "outputs": [],
   "source": [
    "# Function Under Construction:\n",
    "def srcML_funs(file):\n",
    "    \"\"\" finds function blocks of the given file\n",
    "    \"\"\" \n",
    "    fun_ptn = \"string(//src:function)\"\n",
    "    funblk_ptn = \"string((//src:function/src:name))\"\n",
    "    # file_ptn = \"string(//src:unit/@filename)\" \n",
    "\n",
    "    # cmd = sub.Popen([\"srcml\", \"--xpath\", fun_ptn, file], stderr=sub.STDOUT)\n",
    "    # out, err = cmd.communicate()\n",
    "    cmd = [\"srcml\", \"--xpath\", funblk_ptn, xml_file]\n",
    "    process = sub.Popen(cmd, stderr=sub.STDOUT)\n",
    "    return process\n",
    "\n",
    "file = '../' + df.File[0]\n",
    "xml_file = \"a.cpp.xml\"\n",
    "\n",
    "file_str = ''\n",
    "with open(file) as f:\n",
    "    file_str = f.read()"
   ]
  },
  {
   "attachments": {},
   "cell_type": "markdown",
   "metadata": {},
   "source": [
    "## Find the metrics of the given file"
   ]
  },
  {
   "cell_type": "code",
   "execution_count": 22,
   "metadata": {},
   "outputs": [],
   "source": [
    "import itertools\n",
    "\n",
    "# Without checking at CSV output of flawfinder. \n",
    "# def find_metrics(source_file):\n",
    "#     \"\"\" split the given file into a list of function blocks and return their metrics into a dataframe\n",
    "#     \"\"\" \n",
    "#     df = pd.DataFrame()\n",
    "#     with open(source_file, \"r\") as fp:  \n",
    "#         liz_file = lizard.analyze_file.analyze_source_code(source_file,  fp.read())\n",
    "        \n",
    "#         for x in range(len(liz_file.function_list)):\n",
    "#             fun_metrics = liz_file.function_list[x].__dict__\n",
    "#             start=fun_metrics['start_line']\n",
    "#             end=fun_metrics['end_line']\n",
    "            \n",
    "#             fp.seek(0) # move header to the initial point of the file\n",
    "#             df_fun = pd.DataFrame.from_dict(fun_metrics)\n",
    "#             lines = [line for line in itertools.islice(fp, start, end)]\n",
    "#             df_fun['code'] =  fun_metrics['long_name'] + ''.join(lines) \n",
    "#             df = pd.concat([df, df_fun])\n",
    "            \n",
    "#     # <guru> I think there is a problem in lizard detecting the correct full_parameters \n",
    "#     # either we have to concatenate two lines of full_parameters or ignore it and take it from long_name if needed. \n",
    "#     # drop['full_parameters', 'fan_in', 'fan_out', 'general_fan_out'] because lizard has not properly implemented these parameters yet.\n",
    "#     cols_filter = ['full_parameters', 'fan_in', 'fan_out', 'general_fan_out']\n",
    "#     df = df.drop(cols_filter, axis=1).drop_duplicates().reset_index(drop=True)\n",
    "#     print('Shape of the dataframe: ', df.shape)\n",
    "#     return df\n",
    "\n",
    "# df_met = find_metrics(file)\n",
    "# df_met.head(5)"
   ]
  },
  {
   "attachments": {},
   "cell_type": "markdown",
   "metadata": {},
   "source": [
    "# Fetching the functions which have given line context/statement."
   ]
  },
  {
   "cell_type": "code",
   "execution_count": 23,
   "metadata": {},
   "outputs": [
    {
     "name": "stdout",
     "output_type": "stream",
     "text": [
      "Shape of the dataframe:  (20, 12)\n"
     ]
    },
    {
     "data": {
      "text/html": [
       "<div>\n",
       "<style scoped>\n",
       "    .dataframe tbody tr th:only-of-type {\n",
       "        vertical-align: middle;\n",
       "    }\n",
       "\n",
       "    .dataframe tbody tr th {\n",
       "        vertical-align: top;\n",
       "    }\n",
       "\n",
       "    .dataframe thead th {\n",
       "        text-align: right;\n",
       "    }\n",
       "</style>\n",
       "<table border=\"1\" class=\"dataframe\">\n",
       "  <thead>\n",
       "    <tr style=\"text-align: right;\">\n",
       "      <th></th>\n",
       "      <th>cyclomatic_complexity</th>\n",
       "      <th>nloc</th>\n",
       "      <th>token_count</th>\n",
       "      <th>name</th>\n",
       "      <th>long_name</th>\n",
       "      <th>start_line</th>\n",
       "      <th>end_line</th>\n",
       "      <th>filename</th>\n",
       "      <th>top_nesting_level</th>\n",
       "      <th>code</th>\n",
       "      <th>CWEs</th>\n",
       "      <th>is_vul</th>\n",
       "    </tr>\n",
       "  </thead>\n",
       "  <tbody>\n",
       "    <tr>\n",
       "      <th>0</th>\n",
       "      <td>3</td>\n",
       "      <td>43</td>\n",
       "      <td>336</td>\n",
       "      <td>relay_dhcp_to_server</td>\n",
       "      <td>relay_dhcp_to_server( struct ip * ip , int len)</td>\n",
       "      <td>162</td>\n",
       "      <td>224</td>\n",
       "      <td>../data/projects/contiki-2.4/tools/tunslip.c</td>\n",
       "      <td>0</td>\n",
       "      <td>relay_dhcp_to_server( struct ip * ip , int len)</td>\n",
       "      <td>[('CWE-120', '  memcpy(&amp;m, inm, DHCP_BASE_LEN)...</td>\n",
       "      <td>True</td>\n",
       "    </tr>\n",
       "    <tr>\n",
       "      <th>1</th>\n",
       "      <td>14</td>\n",
       "      <td>91</td>\n",
       "      <td>725</td>\n",
       "      <td>relay_dhcp_to_client</td>\n",
       "      <td>relay_dhcp_to_client( int slipfd)</td>\n",
       "      <td>229</td>\n",
       "      <td>338</td>\n",
       "      <td>../data/projects/contiki-2.4/tools/tunslip.c</td>\n",
       "      <td>0</td>\n",
       "      <td>relay_dhcp_to_client( int slipfd)</td>\n",
       "      <td>[('CWE-120', '  memcpy(pkt.m.options, inm.opti...</td>\n",
       "      <td>True</td>\n",
       "    </tr>\n",
       "    <tr>\n",
       "      <th>2</th>\n",
       "      <td>5</td>\n",
       "      <td>18</td>\n",
       "      <td>118</td>\n",
       "      <td>ip4sum</td>\n",
       "      <td>ip4sum( u_int16_t sum , const void * _p , u_in...</td>\n",
       "      <td>344</td>\n",
       "      <td>362</td>\n",
       "      <td>../data/projects/contiki-2.4/tools/tunslip.c</td>\n",
       "      <td>0</td>\n",
       "      <td>ip4sum( u_int16_t sum , const void * _p , u_in...</td>\n",
       "      <td>[]</td>\n",
       "      <td>False</td>\n",
       "    </tr>\n",
       "  </tbody>\n",
       "</table>\n",
       "</div>"
      ],
      "text/plain": [
       "   cyclomatic_complexity  nloc  token_count                  name  \\\n",
       "0                      3    43          336  relay_dhcp_to_server   \n",
       "1                     14    91          725  relay_dhcp_to_client   \n",
       "2                      5    18          118                ip4sum   \n",
       "\n",
       "                                           long_name  start_line  end_line  \\\n",
       "0    relay_dhcp_to_server( struct ip * ip , int len)         162       224   \n",
       "1                  relay_dhcp_to_client( int slipfd)         229       338   \n",
       "2  ip4sum( u_int16_t sum , const void * _p , u_in...         344       362   \n",
       "\n",
       "                                       filename  top_nesting_level  \\\n",
       "0  ../data/projects/contiki-2.4/tools/tunslip.c                  0   \n",
       "1  ../data/projects/contiki-2.4/tools/tunslip.c                  0   \n",
       "2  ../data/projects/contiki-2.4/tools/tunslip.c                  0   \n",
       "\n",
       "                                                code  \\\n",
       "0    relay_dhcp_to_server( struct ip * ip , int len)   \n",
       "1                  relay_dhcp_to_client( int slipfd)   \n",
       "2  ip4sum( u_int16_t sum , const void * _p , u_in...   \n",
       "\n",
       "                                                CWEs  is_vul  \n",
       "0  [('CWE-120', '  memcpy(&m, inm, DHCP_BASE_LEN)...    True  \n",
       "1  [('CWE-120', '  memcpy(pkt.m.options, inm.opti...    True  \n",
       "2                                                 []   False  "
      ]
     },
     "execution_count": 23,
     "metadata": {},
     "output_type": "execute_result"
    }
   ],
   "source": [
    "import itertools\n",
    "    \n",
    "    \n",
    "def file2metrics(source_file, df_flaw):\n",
    "    \"\"\" split the given file into a list of function blocks and return their metrics into a dataframe\n",
    "    \"\"\" \n",
    "    lines = list(set(list(df_flaw.Line)))\n",
    "    df = pd.DataFrame()\n",
    "    with open(source_file, \"r\") as fp:  \n",
    "        liz_file = lizard.analyze_file.analyze_source_code(source_file,  fp.read())\n",
    "        \n",
    "        for x in range(len(liz_file.function_list)):\n",
    "            \n",
    "            fun_metrics = liz_file.function_list[x].__dict__\n",
    "            df_fun = pd.DataFrame()\n",
    "            df_fun = pd.DataFrame.from_dict(fun_metrics)\n",
    "            \n",
    "            start = int(fun_metrics['start_line'])\n",
    "            end = int(fun_metrics['end_line']) \n",
    "            fp.seek(0) # move header to the initial point of the file\n",
    "\n",
    "            vul_statement, cwe, vul_bool = '', [], False\n",
    "            \n",
    "            for l in lines:      \n",
    "                code_lines = [line for line in itertools.islice(fp, start, end)]\n",
    "                df_fun['code'] =  fun_metrics['long_name'] + ''.join(code_lines) \n",
    "                \n",
    "                # check if the vulnerability content/statement appear in the function block or not.\n",
    "                if start <= l <= end:\n",
    "                    vul_bool =  True \n",
    "                    # vul_statement = vul_statement + ' \\n ' +  df_flaw[df_flaw.Line==l]['Context'].values[0]\n",
    "                    vul_statement = df_flaw[df_flaw.Line==l]['Context'].values[0]\n",
    "                    vul_type = df_flaw[df_flaw.Line==l]['CWEs'].values[0]\n",
    "                    cwe.append((vul_type, vul_statement))\n",
    "\n",
    "                df_fun['CWEs'] = str(cwe)\n",
    "                # df_fun['vul_statements'] = vul_statement\n",
    "                \n",
    "            df_fun['is_vul'] = vul_bool  \n",
    "            df = pd.concat([df, df_fun])\n",
    "            \n",
    "    # <guru> I think there is a problem in lizard detecting the correct full_parameters \n",
    "    # either we have to concatenate two lines of full_parameters or ignore it and take it from long_name if needed. \n",
    "    # drop['full_parameters', 'fan_in', 'fan_out', 'general_fan_out'] because lizard has not properly \n",
    "    # implemented these parameters yet.\n",
    "    \n",
    "    cols_filter = ['full_parameters', 'fan_in', 'fan_out', 'general_fan_out']\n",
    "    df = df.drop(cols_filter, axis=1).drop_duplicates().reset_index(drop=True)\n",
    "    print('Shape of the dataframe: ', df.shape)\n",
    "    return df\n",
    "\n",
    "\n",
    "df_met = file2metrics(file, df)\n",
    "df_met.head(3)"
   ]
  },
  {
   "attachments": {},
   "cell_type": "markdown",
   "metadata": {},
   "source": [
    "# Parsing CppCheck output:"
   ]
  },
  {
   "cell_type": "code",
   "execution_count": 24,
   "metadata": {},
   "outputs": [
    {
     "name": "stderr",
     "output_type": "stream",
     "text": [
      "<?xml version=\"1.0\" encoding=\"UTF-8\"?>\n",
      "<results version=\"2\">\n",
      "    <cppcheck version=\"2.9\"/>\n",
      "    <errors>\n",
      "        <error id=\"wrongPrintfScanfArgNum\" severity=\"error\" msg=\"sprintf format string requires 6 parameters but only 3 are given.\" verbose=\"sprintf format string requires 6 parameters but only 3 are given.\" cwe=\"685\" file0=\"../data/projects/contiki-2.4/apps/ftp/ftpc.c\">\n",
      "            <location file=\"../data/projects/contiki-2.4/apps/ftp/ftpc.c\" line=\"288\" column=\"11\"/>\n",
      "        </error>\n",
      "        <error id=\"overlappingWriteFunction\" severity=\"error\" msg=\"Overlapping read/write in memcpy() is undefined behavior\" verbose=\"Overlapping read/write in memcpy() is undefined behavior\" file0=\"../data/projects/contiki-2.4/apps/irc/irc.c\">\n",
      "            <location file=\"../data/projects/contiki-2.4/apps/irc/irc.c\" line=\"129\" column=\"3\"/>\n",
      "        </error>\n",
      "        <error id=\"overlappingWriteFunction\" severity=\"error\" msg=\"Overlapping read/write in memcpy() is undefined behavior\" verbose=\"Overlapping read/write in memcpy() is undefined behavior\" file0=\"../data/projects/contiki-2.4/apps/irc/irc.c\">\n",
      "            <location file=\"../data/projects/contiki-2.4/apps/irc/irc.c\" line=\"148\" column=\"5\"/>\n",
      "        </error>\n",
      "        <error id=\"unknownMacro\" severity=\"error\" msg=\"There is an unknown macro here somewhere. Configuration is required. If PROCESS_EXITHANDLER is a macro then please configure it.\" verbose=\"There is an unknown macro here somewhere. Configuration is required. If PROCESS_EXITHANDLER is a macro then please configure it.\" file0=\"../data/projects/contiki-2.4/apps/shell/shell-blink.c\">\n",
      "            <location file=\"../data/projects/contiki-2.4/apps/shell/shell-blink.c\" line=\"61\" column=\"3\"/>\n",
      "        </error>\n",
      "        <error id=\"unknownMacro\" severity=\"error\" msg=\"There is an unknown macro here somewhere. Configuration is required. If ; is a macro then please configure it.\" verbose=\"There is an unknown macro here somewhere. Configuration is required. If ; is a macro then please configure it.\" file0=\"../data/projects/contiki-2.4/apps/shell/shell-download.c\">\n",
      "            <location file=\"../data/projects/contiki-2.4/apps/shell/shell-download.c\" line=\"248\" column=\"49\"/>\n",
      "        </error>\n",
      "        <error id=\"unknownMacro\" severity=\"error\" msg=\"There is an unknown macro here somewhere. Configuration is required. If ; is a macro then please configure it.\" verbose=\"There is an unknown macro here somewhere. Configuration is required. If ; is a macro then please configure it.\" file0=\"../data/projects/contiki-2.4/apps/shell/shell-rime-neighbors.c\">\n",
      "            <location file=\"../data/projects/contiki-2.4/apps/shell/shell-rime-neighbors.c\" line=\"80\" column=\"66\"/>\n",
      "        </error>\n",
      "        <error id=\"unknownMacro\" severity=\"error\" msg=\"There is an unknown macro here somewhere. Configuration is required. If ; is a macro then please configure it.\" verbose=\"There is an unknown macro here somewhere. Configuration is required. If ; is a macro then please configure it.\" file0=\"../data/projects/contiki-2.4/apps/shell/shell-rime-sniff.c\">\n",
      "            <location file=\"../data/projects/contiki-2.4/apps/shell/shell-rime-sniff.c\" line=\"129\" column=\"32\"/>\n",
      "        </error>\n",
      "        <error id=\"unknownMacro\" severity=\"error\" msg=\"There is an unknown macro here somewhere. Configuration is required. If ; is a macro then please configure it.\" verbose=\"There is an unknown macro here somewhere. Configuration is required. If ; is a macro then please configure it.\" file0=\"../data/projects/contiki-2.4/apps/shell/shell-rime-unicast.c\">\n",
      "            <location file=\"../data/projects/contiki-2.4/apps/shell/shell-rime-unicast.c\" line=\"176\" column=\"39\"/>\n",
      "        </error>\n",
      "        <error id=\"bufferAccessOutOfBounds\" severity=\"error\" msg=\"Buffer is accessed out of bounds: numbuf\" verbose=\"Buffer is accessed out of bounds: numbuf\" cwe=\"788\" file0=\"../data/projects/contiki-2.4/apps/shell/shell-vars.c\">\n",
      "            <location file=\"../data/projects/contiki-2.4/apps/shell/shell-vars.c\" line=\"109\" column=\"12\" info=\"Buffer overrun\"/>\n",
      "        </error>\n",
      "        <error id=\"overlappingWriteFunction\" severity=\"error\" msg=\"Overlapping read/write in memcpy() is undefined behavior\" verbose=\"Overlapping read/write in memcpy() is undefined behavior\" file0=\"../data/projects/contiki-2.4/apps/webserver/webserver.c\">\n",
      "            <location file=\"../data/projects/contiki-2.4/apps/webserver/webserver.c\" line=\"98\" column=\"3\"/>\n",
      "        </error>\n",
      "        <error id=\"overlappingWriteFunction\" severity=\"error\" msg=\"Overlapping read/write in memcpy() is undefined behavior\" verbose=\"Overlapping read/write in memcpy() is undefined behavior\" file0=\"../data/projects/contiki-2.4/apps/webserver/webserver.c\">\n",
      "            <location file=\"../data/projects/contiki-2.4/apps/webserver/webserver.c\" line=\"119\" column=\"3\"/>\n",
      "        </error>\n",
      "    </errors>\n",
      "</results>\n",
      "<?xml version=\"1.0\" encoding=\"UTF-8\"?>\n",
      "<results version=\"2\">\n",
      "    <cppcheck version=\"2.9\"/>\n",
      "    <errors>\n",
      "        <error id=\"wrongPrintfScanfArgNum\" severity=\"error\" msg=\"sprintf format string requires 6 parameters but only 3 are given.\" verbose=\"sprintf format string requires 6 parameters but only 3 are given.\" cwe=\"685\" file0=\"../data/projects/contiki-2.4/apps/ftp/ftpc.c\">\n",
      "            <location file=\"../data/projects/contiki-2.4/apps/ftp/ftpc.c\" line=\"288\" column=\"11\"/>\n",
      "        </error>\n",
      "        <error id=\"overlappingWriteFunction\" severity=\"error\" msg=\"Overlapping read/write in memcpy() is undefined behavior\" verbose=\"Overlapping read/write in memcpy() is undefined behavior\" file0=\"../data/projects/contiki-2.4/apps/irc/irc.c\">\n",
      "            <location file=\"../data/projects/contiki-2.4/apps/irc/irc.c\" line=\"129\" column=\"3\"/>\n",
      "        </error>\n",
      "        <error id=\"overlappingWriteFunction\" severity=\"error\" msg=\"Overlapping read/write in memcpy() is undefined behavior\" verbose=\"Overlapping read/write in memcpy() is undefined behavior\" file0=\"../data/projects/contiki-2.4/apps/irc/irc.c\">\n",
      "            <location file=\"../data/projects/contiki-2.4/apps/irc/irc.c\" line=\"148\" column=\"5\"/>\n",
      "        </error>\n",
      "        <error id=\"unknownMacro\" severity=\"error\" msg=\"There is an unknown macro here somewhere. Configuration is required. If PROCESS_EXITHANDLER is a macro then please configure it.\" verbose=\"There is an unknown macro here somewhere. Configuration is required. If PROCESS_EXITHANDLER is a macro then please configure it.\" file0=\"../data/projects/contiki-2.4/apps/shell/shell-blink.c\">\n",
      "            <location file=\"../data/projects/contiki-2.4/apps/shell/shell-blink.c\" line=\"61\" column=\"3\"/>\n",
      "        </error>\n",
      "        <error id=\"unknownMacro\" severity=\"error\" msg=\"There is an unknown macro here somewhere. Configuration is required. If ; is a macro then please configure it.\" verbose=\"There is an unknown macro here somewhere. Configuration is required. If ; is a macro then please configure it.\" file0=\"../data/projects/contiki-2.4/apps/shell/shell-download.c\">\n",
      "            <location file=\"../data/projects/contiki-2.4/apps/shell/shell-download.c\" line=\"248\" column=\"49\"/>\n",
      "        </error>\n",
      "        <error id=\"unknownMacro\" severity=\"error\" msg=\"There is an unknown macro here somewhere. Configuration is required. If ; is a macro then please configure it.\" verbose=\"There is an unknown macro here somewhere. Configuration is required. If ; is a macro then please configure it.\" file0=\"../data/projects/contiki-2.4/apps/shell/shell-rime-neighbors.c\">\n",
      "            <location file=\"../data/projects/contiki-2.4/apps/shell/shell-rime-neighbors.c\" line=\"80\" column=\"66\"/>\n",
      "        </error>\n",
      "        <error id=\"unknownMacro\" severity=\"error\" msg=\"There is an unknown macro here somewhere. Configuration is required. If ; is a macro then please configure it.\" verbose=\"There is an unknown macro here somewhere. Configuration is required. If ; is a macro then please configure it.\" file0=\"../data/projects/contiki-2.4/apps/shell/shell-rime-sniff.c\">\n",
      "            <location file=\"../data/projects/contiki-2.4/apps/shell/shell-rime-sniff.c\" line=\"129\" column=\"32\"/>\n",
      "        </error>\n",
      "        <error id=\"unknownMacro\" severity=\"error\" msg=\"There is an unknown macro here somewhere. Configuration is required. If ; is a macro then please configure it.\" verbose=\"There is an unknown macro here somewhere. Configuration is required. If ; is a macro then please configure it.\" file0=\"../data/projects/contiki-2.4/apps/shell/shell-rime-unicast.c\">\n",
      "            <location file=\"../data/projects/contiki-2.4/apps/shell/shell-rime-unicast.c\" line=\"176\" column=\"39\"/>\n",
      "        </error>\n",
      "        <error id=\"bufferAccessOutOfBounds\" severity=\"error\" msg=\"Buffer is accessed out of bounds: numbuf\" verbose=\"Buffer is accessed out of bounds: numbuf\" cwe=\"788\" file0=\"../data/projects/contiki-2.4/apps/shell/shell-vars.c\">\n",
      "            <location file=\"../data/projects/contiki-2.4/apps/shell/shell-vars.c\" line=\"109\" column=\"12\" info=\"Buffer overrun\"/>\n",
      "        </error>\n",
      "        <error id=\"overlappingWriteFunction\" severity=\"error\" msg=\"Overlapping read/write in memcpy() is undefined behavior\" verbose=\"Overlapping read/write in memcpy() is undefined behavior\" file0=\"../data/projects/contiki-2.4/apps/webserver/webserver.c\">\n",
      "            <location file=\"../data/projects/contiki-2.4/apps/webserver/webserver.c\" line=\"98\" column=\"3\"/>\n",
      "        </error>\n",
      "        <error id=\"overlappingWriteFunction\" severity=\"error\" msg=\"Overlapping read/write in memcpy() is undefined behavior\" verbose=\"Overlapping read/write in memcpy() is undefined behavior\" file0=\"../data/projects/contiki-2.4/apps/webserver/webserver.c\">\n",
      "            <location file=\"../data/projects/contiki-2.4/apps/webserver/webserver.c\" line=\"119\" column=\"3\"/>\n",
      "        </error>\n",
      "    </errors>\n",
      "</results>\n"
     ]
    }
   ],
   "source": [
    "import csv\n",
    "from lxml import etree\n",
    "import pandas as pd\n",
    "import subprocess as sub\n",
    "\n",
    "\n",
    "def xml2df(xml):\n",
    "    \"\"\" convert xml file generated by the CppCheck tool to dataframe\n",
    "    \"\"\"\n",
    "    df_loc = pd.read_xml(xml, encoding='utf-8', xpath='./errors/error/location')\n",
    "    df_err = pd.read_xml(xml, encoding='utf-8', xpath='./errors/error')\n",
    "\n",
    "    assert df_err['file0'].equals(df_loc['file']), 'Error! dataframe and nested location dataframe are not equals.'\n",
    "    # add location metrics to the table\n",
    "    df_err[['file', 'line', 'column', 'info']] = df_loc\n",
    "    df_err = df_err.drop('file0', axis=1).drop_duplicates().reset_index(drop=True)\n",
    "    return df_err\n",
    "\n",
    "\n",
    "def cppcheck_flaws(file_or_dir):\n",
    "    \"\"\" find flaws ini the file using CppCheck tool\n",
    "    \"\"\"\n",
    "    cmd = 'cppcheck --xml ' + file_or_dir  \n",
    "    process = sub.Popen(cmd,  shell=True, stdout=sub.PIPE)\n",
    "    output = process.stdout.read()\n",
    "    return output # xml2df(output)\n",
    "\n",
    "# !cppcheck --template=gcc ../data/projects/contiki-2.4/apps/ 2> err.txt\n",
    "# !cppcheck --template=\"{file}; {line}; {severity}; {message}; {code}\" \n",
    "# --template-location=\" {file};{line}; {info};{code}\\n\" ../data/projects/contiki-2.4/apps/ 2> err.txt\n",
    "\n",
    "\n",
    "chk_dir = '../data/projects/contiki-2.4/apps/'\n",
    "df = cppcheck_flaws(chk_dir)\n",
    "\n",
    "chk_dir = '../data/projects/contiki-2.4/apps/'\n",
    "xml = cppcheck_flaws(chk_dir)\n",
    "# xtree = et.parse(\"students.xml\")\n",
    "# xroot = xtree.getroot()\n"
   ]
  },
  {
   "cell_type": "code",
   "execution_count": 25,
   "metadata": {},
   "outputs": [],
   "source": [
    "def fetch_location(err):\n",
    "    \"\"\" get locations of all the error list generated by CppCeck\n",
    "    \"\"\" \n",
    "    dt_loc = {'file': [], 'line':[], 'column':[], 'info':[]}\n",
    "    for loc in err.findall('location'): \n",
    "        for key, val in (loc.attrib).items():\n",
    "            dt_loc[key].append(val)\n",
    "    return dt_loc \n",
    "            \n",
    "def xml2df(file):\n",
    "    xtree = et.fromstring(open('err.xml').read())\n",
    "    df = pd.DataFrame()\n",
    "    for errors in xtree.findall('.//errors'):\n",
    "        for err in errors.findall('error'):\n",
    "            dt_err = err.attrib\n",
    "            dt_err.update(fetch_location(err))\n",
    "            df = pd.concat([df, pd.DataFrame([dt_err])], ignore_index=True).drop(columns=['file'], axis=1)\n",
    "    return df.rename(columns={'file0':'file'})\n",
    "\n",
    "df_flaw = xml2df('err.xml')\n",
    "df_flaw.to_csv('contiki24_cppcheck.csv')"
   ]
  },
  {
   "cell_type": "code",
   "execution_count": 28,
   "metadata": {},
   "outputs": [
    {
     "data": {
      "text/html": [
       "<div>\n",
       "<style scoped>\n",
       "    .dataframe tbody tr th:only-of-type {\n",
       "        vertical-align: middle;\n",
       "    }\n",
       "\n",
       "    .dataframe tbody tr th {\n",
       "        vertical-align: top;\n",
       "    }\n",
       "\n",
       "    .dataframe thead th {\n",
       "        text-align: right;\n",
       "    }\n",
       "</style>\n",
       "<table border=\"1\" class=\"dataframe\">\n",
       "  <thead>\n",
       "    <tr style=\"text-align: right;\">\n",
       "      <th></th>\n",
       "      <th>cyclomatic_complexity</th>\n",
       "      <th>nloc</th>\n",
       "      <th>token_count</th>\n",
       "      <th>name</th>\n",
       "      <th>long_name</th>\n",
       "      <th>start_line</th>\n",
       "      <th>end_line</th>\n",
       "      <th>full_parameters</th>\n",
       "      <th>filename</th>\n",
       "      <th>top_nesting_level</th>\n",
       "      <th>fan_in</th>\n",
       "      <th>fan_out</th>\n",
       "      <th>general_fan_out</th>\n",
       "      <th>code</th>\n",
       "      <th>CWEs</th>\n",
       "      <th>is_vul</th>\n",
       "    </tr>\n",
       "  </thead>\n",
       "  <tbody>\n",
       "    <tr>\n",
       "      <th>0</th>\n",
       "      <td>1</td>\n",
       "      <td>4</td>\n",
       "      <td>12</td>\n",
       "      <td>ftpc_init</td>\n",
       "      <td>ftpc_init( void)</td>\n",
       "      <td>123</td>\n",
       "      <td>127</td>\n",
       "      <td>void</td>\n",
       "      <td>../data/projects/contiki-2.4/apps/ftp/ftpc.c</td>\n",
       "      <td>0</td>\n",
       "      <td>0</td>\n",
       "      <td>0</td>\n",
       "      <td>0</td>\n",
       "      <td>ftpc_init( void){\\n  memb_init(&amp;connections);\\...</td>\n",
       "      <td>[]</td>\n",
       "      <td>False</td>\n",
       "    </tr>\n",
       "    <tr>\n",
       "      <th>1</th>\n",
       "      <td>1</td>\n",
       "      <td>8</td>\n",
       "      <td>34</td>\n",
       "      <td>quit</td>\n",
       "      <td>quit( void)</td>\n",
       "      <td>105</td>\n",
       "      <td>112</td>\n",
       "      <td>void</td>\n",
       "      <td>../data/projects/contiki-2.4/apps/irc/irc.c</td>\n",
       "      <td>0</td>\n",
       "      <td>0</td>\n",
       "      <td>0</td>\n",
       "      <td>0</td>\n",
       "      <td>quit( void){\\n  ctk_window_close(&amp;window);\\n  ...</td>\n",
       "      <td>[]</td>\n",
       "      <td>False</td>\n",
       "    </tr>\n",
       "    <tr>\n",
       "      <th>2</th>\n",
       "      <td>1</td>\n",
       "      <td>8</td>\n",
       "      <td>34</td>\n",
       "      <td>quit</td>\n",
       "      <td>quit( void)</td>\n",
       "      <td>105</td>\n",
       "      <td>112</td>\n",
       "      <td>void</td>\n",
       "      <td>../data/projects/contiki-2.4/apps/irc/irc.c</td>\n",
       "      <td>0</td>\n",
       "      <td>0</td>\n",
       "      <td>0</td>\n",
       "      <td>0</td>\n",
       "      <td>quit( void){\\n  ctk_window_close(&amp;window);\\n  ...</td>\n",
       "      <td>[]</td>\n",
       "      <td>False</td>\n",
       "    </tr>\n",
       "    <tr>\n",
       "      <th>3</th>\n",
       "      <td>13</td>\n",
       "      <td>53</td>\n",
       "      <td>294</td>\n",
       "      <td>PROCESS_THREAD</td>\n",
       "      <td>PROCESS_THREAD( shell_blink_process , ev , data)</td>\n",
       "      <td>55</td>\n",
       "      <td>115</td>\n",
       "      <td>shell_blink_process</td>\n",
       "      <td>../data/projects/contiki-2.4/apps/shell/shell-...</td>\n",
       "      <td>0</td>\n",
       "      <td>0</td>\n",
       "      <td>0</td>\n",
       "      <td>0</td>\n",
       "      <td>PROCESS_THREAD( shell_blink_process , ev , dat...</td>\n",
       "      <td>[]</td>\n",
       "      <td>False</td>\n",
       "    </tr>\n",
       "    <tr>\n",
       "      <th>4</th>\n",
       "      <td>13</td>\n",
       "      <td>53</td>\n",
       "      <td>294</td>\n",
       "      <td>PROCESS_THREAD</td>\n",
       "      <td>PROCESS_THREAD( shell_blink_process , ev , data)</td>\n",
       "      <td>55</td>\n",
       "      <td>115</td>\n",
       "      <td>ev</td>\n",
       "      <td>../data/projects/contiki-2.4/apps/shell/shell-...</td>\n",
       "      <td>0</td>\n",
       "      <td>0</td>\n",
       "      <td>0</td>\n",
       "      <td>0</td>\n",
       "      <td>PROCESS_THREAD( shell_blink_process , ev , dat...</td>\n",
       "      <td>[]</td>\n",
       "      <td>False</td>\n",
       "    </tr>\n",
       "    <tr>\n",
       "      <th>5</th>\n",
       "      <td>13</td>\n",
       "      <td>53</td>\n",
       "      <td>294</td>\n",
       "      <td>PROCESS_THREAD</td>\n",
       "      <td>PROCESS_THREAD( shell_blink_process , ev , data)</td>\n",
       "      <td>55</td>\n",
       "      <td>115</td>\n",
       "      <td>data</td>\n",
       "      <td>../data/projects/contiki-2.4/apps/shell/shell-...</td>\n",
       "      <td>0</td>\n",
       "      <td>0</td>\n",
       "      <td>0</td>\n",
       "      <td>0</td>\n",
       "      <td>PROCESS_THREAD( shell_blink_process , ev , dat...</td>\n",
       "      <td>[]</td>\n",
       "      <td>False</td>\n",
       "    </tr>\n",
       "    <tr>\n",
       "      <th>6</th>\n",
       "      <td>5</td>\n",
       "      <td>18</td>\n",
       "      <td>103</td>\n",
       "      <td>write_chunk</td>\n",
       "      <td>write_chunk( struct rucb_conn * c , int offset...</td>\n",
       "      <td>81</td>\n",
       "      <td>99</td>\n",
       "      <td>struct rucb_conn * c</td>\n",
       "      <td>../data/projects/contiki-2.4/apps/shell/shell-...</td>\n",
       "      <td>0</td>\n",
       "      <td>0</td>\n",
       "      <td>0</td>\n",
       "      <td>0</td>\n",
       "      <td>write_chunk( struct rucb_conn * c , int offset...</td>\n",
       "      <td>[]</td>\n",
       "      <td>False</td>\n",
       "    </tr>\n",
       "    <tr>\n",
       "      <th>7</th>\n",
       "      <td>5</td>\n",
       "      <td>18</td>\n",
       "      <td>103</td>\n",
       "      <td>write_chunk</td>\n",
       "      <td>write_chunk( struct rucb_conn * c , int offset...</td>\n",
       "      <td>81</td>\n",
       "      <td>99</td>\n",
       "      <td>int offset</td>\n",
       "      <td>../data/projects/contiki-2.4/apps/shell/shell-...</td>\n",
       "      <td>0</td>\n",
       "      <td>0</td>\n",
       "      <td>0</td>\n",
       "      <td>0</td>\n",
       "      <td>write_chunk( struct rucb_conn * c , int offset...</td>\n",
       "      <td>[]</td>\n",
       "      <td>False</td>\n",
       "    </tr>\n",
       "    <tr>\n",
       "      <th>8</th>\n",
       "      <td>5</td>\n",
       "      <td>18</td>\n",
       "      <td>103</td>\n",
       "      <td>write_chunk</td>\n",
       "      <td>write_chunk( struct rucb_conn * c , int offset...</td>\n",
       "      <td>81</td>\n",
       "      <td>99</td>\n",
       "      <td>int flag</td>\n",
       "      <td>../data/projects/contiki-2.4/apps/shell/shell-...</td>\n",
       "      <td>0</td>\n",
       "      <td>0</td>\n",
       "      <td>0</td>\n",
       "      <td>0</td>\n",
       "      <td>write_chunk( struct rucb_conn * c , int offset...</td>\n",
       "      <td>[]</td>\n",
       "      <td>False</td>\n",
       "    </tr>\n",
       "    <tr>\n",
       "      <th>9</th>\n",
       "      <td>5</td>\n",
       "      <td>18</td>\n",
       "      <td>103</td>\n",
       "      <td>write_chunk</td>\n",
       "      <td>write_chunk( struct rucb_conn * c , int offset...</td>\n",
       "      <td>81</td>\n",
       "      <td>99</td>\n",
       "      <td>char * data</td>\n",
       "      <td>../data/projects/contiki-2.4/apps/shell/shell-...</td>\n",
       "      <td>0</td>\n",
       "      <td>0</td>\n",
       "      <td>0</td>\n",
       "      <td>0</td>\n",
       "      <td>write_chunk( struct rucb_conn * c , int offset...</td>\n",
       "      <td>[]</td>\n",
       "      <td>False</td>\n",
       "    </tr>\n",
       "    <tr>\n",
       "      <th>10</th>\n",
       "      <td>5</td>\n",
       "      <td>18</td>\n",
       "      <td>103</td>\n",
       "      <td>write_chunk</td>\n",
       "      <td>write_chunk( struct rucb_conn * c , int offset...</td>\n",
       "      <td>81</td>\n",
       "      <td>99</td>\n",
       "      <td>int datalen</td>\n",
       "      <td>../data/projects/contiki-2.4/apps/shell/shell-...</td>\n",
       "      <td>0</td>\n",
       "      <td>0</td>\n",
       "      <td>0</td>\n",
       "      <td>0</td>\n",
       "      <td>write_chunk( struct rucb_conn * c , int offset...</td>\n",
       "      <td>[]</td>\n",
       "      <td>False</td>\n",
       "    </tr>\n",
       "    <tr>\n",
       "      <th>11</th>\n",
       "      <td>2</td>\n",
       "      <td>18</td>\n",
       "      <td>112</td>\n",
       "      <td>received_announcement</td>\n",
       "      <td>received_announcement( struct announcement * a...</td>\n",
       "      <td>55</td>\n",
       "      <td>73</td>\n",
       "      <td>struct announcement * a</td>\n",
       "      <td>../data/projects/contiki-2.4/apps/shell/shell-...</td>\n",
       "      <td>0</td>\n",
       "      <td>0</td>\n",
       "      <td>0</td>\n",
       "      <td>0</td>\n",
       "      <td>received_announcement( struct announcement * a...</td>\n",
       "      <td>[]</td>\n",
       "      <td>False</td>\n",
       "    </tr>\n",
       "    <tr>\n",
       "      <th>12</th>\n",
       "      <td>2</td>\n",
       "      <td>18</td>\n",
       "      <td>112</td>\n",
       "      <td>received_announcement</td>\n",
       "      <td>received_announcement( struct announcement * a...</td>\n",
       "      <td>55</td>\n",
       "      <td>73</td>\n",
       "      <td>const rimeaddr_t * from</td>\n",
       "      <td>../data/projects/contiki-2.4/apps/shell/shell-...</td>\n",
       "      <td>0</td>\n",
       "      <td>0</td>\n",
       "      <td>0</td>\n",
       "      <td>0</td>\n",
       "      <td>received_announcement( struct announcement * a...</td>\n",
       "      <td>[]</td>\n",
       "      <td>False</td>\n",
       "    </tr>\n",
       "    <tr>\n",
       "      <th>13</th>\n",
       "      <td>2</td>\n",
       "      <td>18</td>\n",
       "      <td>112</td>\n",
       "      <td>received_announcement</td>\n",
       "      <td>received_announcement( struct announcement * a...</td>\n",
       "      <td>55</td>\n",
       "      <td>73</td>\n",
       "      <td>uint16_t id</td>\n",
       "      <td>../data/projects/contiki-2.4/apps/shell/shell-...</td>\n",
       "      <td>0</td>\n",
       "      <td>0</td>\n",
       "      <td>0</td>\n",
       "      <td>0</td>\n",
       "      <td>received_announcement( struct announcement * a...</td>\n",
       "      <td>[]</td>\n",
       "      <td>False</td>\n",
       "    </tr>\n",
       "    <tr>\n",
       "      <th>14</th>\n",
       "      <td>2</td>\n",
       "      <td>18</td>\n",
       "      <td>112</td>\n",
       "      <td>received_announcement</td>\n",
       "      <td>received_announcement( struct announcement * a...</td>\n",
       "      <td>55</td>\n",
       "      <td>73</td>\n",
       "      <td>uint16_t value</td>\n",
       "      <td>../data/projects/contiki-2.4/apps/shell/shell-...</td>\n",
       "      <td>0</td>\n",
       "      <td>0</td>\n",
       "      <td>0</td>\n",
       "      <td>0</td>\n",
       "      <td>received_announcement( struct announcement * a...</td>\n",
       "      <td>[]</td>\n",
       "      <td>False</td>\n",
       "    </tr>\n",
       "    <tr>\n",
       "      <th>15</th>\n",
       "      <td>1</td>\n",
       "      <td>15</td>\n",
       "      <td>121</td>\n",
       "      <td>sniff_attributes_output</td>\n",
       "      <td>sniff_attributes_output( int type)</td>\n",
       "      <td>77</td>\n",
       "      <td>92</td>\n",
       "      <td>int type</td>\n",
       "      <td>../data/projects/contiki-2.4/apps/shell/shell-...</td>\n",
       "      <td>0</td>\n",
       "      <td>0</td>\n",
       "      <td>0</td>\n",
       "      <td>0</td>\n",
       "      <td>sniff_attributes_output( int type){\\n  struct ...</td>\n",
       "      <td>[]</td>\n",
       "      <td>False</td>\n",
       "    </tr>\n",
       "    <tr>\n",
       "      <th>16</th>\n",
       "      <td>7</td>\n",
       "      <td>36</td>\n",
       "      <td>221</td>\n",
       "      <td>PROCESS_THREAD</td>\n",
       "      <td>PROCESS_THREAD( shell_unicast_send_process , e...</td>\n",
       "      <td>83</td>\n",
       "      <td>133</td>\n",
       "      <td>shell_unicast_send_process</td>\n",
       "      <td>../data/projects/contiki-2.4/apps/shell/shell-...</td>\n",
       "      <td>0</td>\n",
       "      <td>0</td>\n",
       "      <td>0</td>\n",
       "      <td>0</td>\n",
       "      <td>PROCESS_THREAD( shell_unicast_send_process , e...</td>\n",
       "      <td>[]</td>\n",
       "      <td>False</td>\n",
       "    </tr>\n",
       "    <tr>\n",
       "      <th>17</th>\n",
       "      <td>7</td>\n",
       "      <td>36</td>\n",
       "      <td>221</td>\n",
       "      <td>PROCESS_THREAD</td>\n",
       "      <td>PROCESS_THREAD( shell_unicast_send_process , e...</td>\n",
       "      <td>83</td>\n",
       "      <td>133</td>\n",
       "      <td>ev</td>\n",
       "      <td>../data/projects/contiki-2.4/apps/shell/shell-...</td>\n",
       "      <td>0</td>\n",
       "      <td>0</td>\n",
       "      <td>0</td>\n",
       "      <td>0</td>\n",
       "      <td>PROCESS_THREAD( shell_unicast_send_process , e...</td>\n",
       "      <td>[]</td>\n",
       "      <td>False</td>\n",
       "    </tr>\n",
       "    <tr>\n",
       "      <th>18</th>\n",
       "      <td>7</td>\n",
       "      <td>36</td>\n",
       "      <td>221</td>\n",
       "      <td>PROCESS_THREAD</td>\n",
       "      <td>PROCESS_THREAD( shell_unicast_send_process , e...</td>\n",
       "      <td>83</td>\n",
       "      <td>133</td>\n",
       "      <td>data</td>\n",
       "      <td>../data/projects/contiki-2.4/apps/shell/shell-...</td>\n",
       "      <td>0</td>\n",
       "      <td>0</td>\n",
       "      <td>0</td>\n",
       "      <td>0</td>\n",
       "      <td>PROCESS_THREAD( shell_unicast_send_process , e...</td>\n",
       "      <td>[]</td>\n",
       "      <td>False</td>\n",
       "    </tr>\n",
       "    <tr>\n",
       "      <th>19</th>\n",
       "      <td>5</td>\n",
       "      <td>14</td>\n",
       "      <td>104</td>\n",
       "      <td>PROCESS_THREAD</td>\n",
       "      <td>PROCESS_THREAD( shell_vars_process , ev , data)</td>\n",
       "      <td>71</td>\n",
       "      <td>88</td>\n",
       "      <td>shell_vars_process</td>\n",
       "      <td>../data/projects/contiki-2.4/apps/shell/shell-...</td>\n",
       "      <td>0</td>\n",
       "      <td>0</td>\n",
       "      <td>0</td>\n",
       "      <td>0</td>\n",
       "      <td>PROCESS_THREAD( shell_vars_process , ev , data...</td>\n",
       "      <td>[]</td>\n",
       "      <td>False</td>\n",
       "    </tr>\n",
       "    <tr>\n",
       "      <th>20</th>\n",
       "      <td>5</td>\n",
       "      <td>14</td>\n",
       "      <td>104</td>\n",
       "      <td>PROCESS_THREAD</td>\n",
       "      <td>PROCESS_THREAD( shell_vars_process , ev , data)</td>\n",
       "      <td>71</td>\n",
       "      <td>88</td>\n",
       "      <td>ev</td>\n",
       "      <td>../data/projects/contiki-2.4/apps/shell/shell-...</td>\n",
       "      <td>0</td>\n",
       "      <td>0</td>\n",
       "      <td>0</td>\n",
       "      <td>0</td>\n",
       "      <td>PROCESS_THREAD( shell_vars_process , ev , data...</td>\n",
       "      <td>[]</td>\n",
       "      <td>False</td>\n",
       "    </tr>\n",
       "    <tr>\n",
       "      <th>21</th>\n",
       "      <td>5</td>\n",
       "      <td>14</td>\n",
       "      <td>104</td>\n",
       "      <td>PROCESS_THREAD</td>\n",
       "      <td>PROCESS_THREAD( shell_vars_process , ev , data)</td>\n",
       "      <td>71</td>\n",
       "      <td>88</td>\n",
       "      <td>data</td>\n",
       "      <td>../data/projects/contiki-2.4/apps/shell/shell-...</td>\n",
       "      <td>0</td>\n",
       "      <td>0</td>\n",
       "      <td>0</td>\n",
       "      <td>0</td>\n",
       "      <td>PROCESS_THREAD( shell_vars_process , ev , data...</td>\n",
       "      <td>[]</td>\n",
       "      <td>False</td>\n",
       "    </tr>\n",
       "    <tr>\n",
       "      <th>22</th>\n",
       "      <td>5</td>\n",
       "      <td>21</td>\n",
       "      <td>112</td>\n",
       "      <td>PROCESS_THREAD</td>\n",
       "      <td>PROCESS_THREAD( webserver_process , ev , data)</td>\n",
       "      <td>63</td>\n",
       "      <td>90</td>\n",
       "      <td>webserver_process</td>\n",
       "      <td>../data/projects/contiki-2.4/apps/webserver/we...</td>\n",
       "      <td>0</td>\n",
       "      <td>0</td>\n",
       "      <td>0</td>\n",
       "      <td>0</td>\n",
       "      <td>PROCESS_THREAD( webserver_process , ev , data)...</td>\n",
       "      <td>[]</td>\n",
       "      <td>False</td>\n",
       "    </tr>\n",
       "    <tr>\n",
       "      <th>23</th>\n",
       "      <td>5</td>\n",
       "      <td>21</td>\n",
       "      <td>112</td>\n",
       "      <td>PROCESS_THREAD</td>\n",
       "      <td>PROCESS_THREAD( webserver_process , ev , data)</td>\n",
       "      <td>63</td>\n",
       "      <td>90</td>\n",
       "      <td>ev</td>\n",
       "      <td>../data/projects/contiki-2.4/apps/webserver/we...</td>\n",
       "      <td>0</td>\n",
       "      <td>0</td>\n",
       "      <td>0</td>\n",
       "      <td>0</td>\n",
       "      <td>PROCESS_THREAD( webserver_process , ev , data)...</td>\n",
       "      <td>[]</td>\n",
       "      <td>False</td>\n",
       "    </tr>\n",
       "    <tr>\n",
       "      <th>24</th>\n",
       "      <td>5</td>\n",
       "      <td>21</td>\n",
       "      <td>112</td>\n",
       "      <td>PROCESS_THREAD</td>\n",
       "      <td>PROCESS_THREAD( webserver_process , ev , data)</td>\n",
       "      <td>63</td>\n",
       "      <td>90</td>\n",
       "      <td>data</td>\n",
       "      <td>../data/projects/contiki-2.4/apps/webserver/we...</td>\n",
       "      <td>0</td>\n",
       "      <td>0</td>\n",
       "      <td>0</td>\n",
       "      <td>0</td>\n",
       "      <td>PROCESS_THREAD( webserver_process , ev , data)...</td>\n",
       "      <td>[]</td>\n",
       "      <td>False</td>\n",
       "    </tr>\n",
       "    <tr>\n",
       "      <th>25</th>\n",
       "      <td>5</td>\n",
       "      <td>21</td>\n",
       "      <td>112</td>\n",
       "      <td>PROCESS_THREAD</td>\n",
       "      <td>PROCESS_THREAD( webserver_process , ev , data)</td>\n",
       "      <td>63</td>\n",
       "      <td>90</td>\n",
       "      <td>webserver_process</td>\n",
       "      <td>../data/projects/contiki-2.4/apps/webserver/we...</td>\n",
       "      <td>0</td>\n",
       "      <td>0</td>\n",
       "      <td>0</td>\n",
       "      <td>0</td>\n",
       "      <td>PROCESS_THREAD( webserver_process , ev , data)...</td>\n",
       "      <td>[]</td>\n",
       "      <td>False</td>\n",
       "    </tr>\n",
       "    <tr>\n",
       "      <th>26</th>\n",
       "      <td>5</td>\n",
       "      <td>21</td>\n",
       "      <td>112</td>\n",
       "      <td>PROCESS_THREAD</td>\n",
       "      <td>PROCESS_THREAD( webserver_process , ev , data)</td>\n",
       "      <td>63</td>\n",
       "      <td>90</td>\n",
       "      <td>ev</td>\n",
       "      <td>../data/projects/contiki-2.4/apps/webserver/we...</td>\n",
       "      <td>0</td>\n",
       "      <td>0</td>\n",
       "      <td>0</td>\n",
       "      <td>0</td>\n",
       "      <td>PROCESS_THREAD( webserver_process , ev , data)...</td>\n",
       "      <td>[]</td>\n",
       "      <td>False</td>\n",
       "    </tr>\n",
       "    <tr>\n",
       "      <th>27</th>\n",
       "      <td>5</td>\n",
       "      <td>21</td>\n",
       "      <td>112</td>\n",
       "      <td>PROCESS_THREAD</td>\n",
       "      <td>PROCESS_THREAD( webserver_process , ev , data)</td>\n",
       "      <td>63</td>\n",
       "      <td>90</td>\n",
       "      <td>data</td>\n",
       "      <td>../data/projects/contiki-2.4/apps/webserver/we...</td>\n",
       "      <td>0</td>\n",
       "      <td>0</td>\n",
       "      <td>0</td>\n",
       "      <td>0</td>\n",
       "      <td>PROCESS_THREAD( webserver_process , ev , data)...</td>\n",
       "      <td>[]</td>\n",
       "      <td>False</td>\n",
       "    </tr>\n",
       "  </tbody>\n",
       "</table>\n",
       "</div>"
      ],
      "text/plain": [
       "    cyclomatic_complexity  nloc  token_count                     name  \\\n",
       "0                       1     4           12                ftpc_init   \n",
       "1                       1     8           34                     quit   \n",
       "2                       1     8           34                     quit   \n",
       "3                      13    53          294           PROCESS_THREAD   \n",
       "4                      13    53          294           PROCESS_THREAD   \n",
       "5                      13    53          294           PROCESS_THREAD   \n",
       "6                       5    18          103              write_chunk   \n",
       "7                       5    18          103              write_chunk   \n",
       "8                       5    18          103              write_chunk   \n",
       "9                       5    18          103              write_chunk   \n",
       "10                      5    18          103              write_chunk   \n",
       "11                      2    18          112    received_announcement   \n",
       "12                      2    18          112    received_announcement   \n",
       "13                      2    18          112    received_announcement   \n",
       "14                      2    18          112    received_announcement   \n",
       "15                      1    15          121  sniff_attributes_output   \n",
       "16                      7    36          221           PROCESS_THREAD   \n",
       "17                      7    36          221           PROCESS_THREAD   \n",
       "18                      7    36          221           PROCESS_THREAD   \n",
       "19                      5    14          104           PROCESS_THREAD   \n",
       "20                      5    14          104           PROCESS_THREAD   \n",
       "21                      5    14          104           PROCESS_THREAD   \n",
       "22                      5    21          112           PROCESS_THREAD   \n",
       "23                      5    21          112           PROCESS_THREAD   \n",
       "24                      5    21          112           PROCESS_THREAD   \n",
       "25                      5    21          112           PROCESS_THREAD   \n",
       "26                      5    21          112           PROCESS_THREAD   \n",
       "27                      5    21          112           PROCESS_THREAD   \n",
       "\n",
       "                                            long_name  start_line  end_line  \\\n",
       "0                                    ftpc_init( void)         123       127   \n",
       "1                                         quit( void)         105       112   \n",
       "2                                         quit( void)         105       112   \n",
       "3    PROCESS_THREAD( shell_blink_process , ev , data)          55       115   \n",
       "4    PROCESS_THREAD( shell_blink_process , ev , data)          55       115   \n",
       "5    PROCESS_THREAD( shell_blink_process , ev , data)          55       115   \n",
       "6   write_chunk( struct rucb_conn * c , int offset...          81        99   \n",
       "7   write_chunk( struct rucb_conn * c , int offset...          81        99   \n",
       "8   write_chunk( struct rucb_conn * c , int offset...          81        99   \n",
       "9   write_chunk( struct rucb_conn * c , int offset...          81        99   \n",
       "10  write_chunk( struct rucb_conn * c , int offset...          81        99   \n",
       "11  received_announcement( struct announcement * a...          55        73   \n",
       "12  received_announcement( struct announcement * a...          55        73   \n",
       "13  received_announcement( struct announcement * a...          55        73   \n",
       "14  received_announcement( struct announcement * a...          55        73   \n",
       "15                 sniff_attributes_output( int type)          77        92   \n",
       "16  PROCESS_THREAD( shell_unicast_send_process , e...          83       133   \n",
       "17  PROCESS_THREAD( shell_unicast_send_process , e...          83       133   \n",
       "18  PROCESS_THREAD( shell_unicast_send_process , e...          83       133   \n",
       "19    PROCESS_THREAD( shell_vars_process , ev , data)          71        88   \n",
       "20    PROCESS_THREAD( shell_vars_process , ev , data)          71        88   \n",
       "21    PROCESS_THREAD( shell_vars_process , ev , data)          71        88   \n",
       "22     PROCESS_THREAD( webserver_process , ev , data)          63        90   \n",
       "23     PROCESS_THREAD( webserver_process , ev , data)          63        90   \n",
       "24     PROCESS_THREAD( webserver_process , ev , data)          63        90   \n",
       "25     PROCESS_THREAD( webserver_process , ev , data)          63        90   \n",
       "26     PROCESS_THREAD( webserver_process , ev , data)          63        90   \n",
       "27     PROCESS_THREAD( webserver_process , ev , data)          63        90   \n",
       "\n",
       "               full_parameters  \\\n",
       "0                         void   \n",
       "1                         void   \n",
       "2                         void   \n",
       "3          shell_blink_process   \n",
       "4                           ev   \n",
       "5                         data   \n",
       "6         struct rucb_conn * c   \n",
       "7                   int offset   \n",
       "8                     int flag   \n",
       "9                  char * data   \n",
       "10                 int datalen   \n",
       "11     struct announcement * a   \n",
       "12     const rimeaddr_t * from   \n",
       "13                 uint16_t id   \n",
       "14              uint16_t value   \n",
       "15                    int type   \n",
       "16  shell_unicast_send_process   \n",
       "17                          ev   \n",
       "18                        data   \n",
       "19          shell_vars_process   \n",
       "20                          ev   \n",
       "21                        data   \n",
       "22           webserver_process   \n",
       "23                          ev   \n",
       "24                        data   \n",
       "25           webserver_process   \n",
       "26                          ev   \n",
       "27                        data   \n",
       "\n",
       "                                             filename  top_nesting_level  \\\n",
       "0        ../data/projects/contiki-2.4/apps/ftp/ftpc.c                  0   \n",
       "1         ../data/projects/contiki-2.4/apps/irc/irc.c                  0   \n",
       "2         ../data/projects/contiki-2.4/apps/irc/irc.c                  0   \n",
       "3   ../data/projects/contiki-2.4/apps/shell/shell-...                  0   \n",
       "4   ../data/projects/contiki-2.4/apps/shell/shell-...                  0   \n",
       "5   ../data/projects/contiki-2.4/apps/shell/shell-...                  0   \n",
       "6   ../data/projects/contiki-2.4/apps/shell/shell-...                  0   \n",
       "7   ../data/projects/contiki-2.4/apps/shell/shell-...                  0   \n",
       "8   ../data/projects/contiki-2.4/apps/shell/shell-...                  0   \n",
       "9   ../data/projects/contiki-2.4/apps/shell/shell-...                  0   \n",
       "10  ../data/projects/contiki-2.4/apps/shell/shell-...                  0   \n",
       "11  ../data/projects/contiki-2.4/apps/shell/shell-...                  0   \n",
       "12  ../data/projects/contiki-2.4/apps/shell/shell-...                  0   \n",
       "13  ../data/projects/contiki-2.4/apps/shell/shell-...                  0   \n",
       "14  ../data/projects/contiki-2.4/apps/shell/shell-...                  0   \n",
       "15  ../data/projects/contiki-2.4/apps/shell/shell-...                  0   \n",
       "16  ../data/projects/contiki-2.4/apps/shell/shell-...                  0   \n",
       "17  ../data/projects/contiki-2.4/apps/shell/shell-...                  0   \n",
       "18  ../data/projects/contiki-2.4/apps/shell/shell-...                  0   \n",
       "19  ../data/projects/contiki-2.4/apps/shell/shell-...                  0   \n",
       "20  ../data/projects/contiki-2.4/apps/shell/shell-...                  0   \n",
       "21  ../data/projects/contiki-2.4/apps/shell/shell-...                  0   \n",
       "22  ../data/projects/contiki-2.4/apps/webserver/we...                  0   \n",
       "23  ../data/projects/contiki-2.4/apps/webserver/we...                  0   \n",
       "24  ../data/projects/contiki-2.4/apps/webserver/we...                  0   \n",
       "25  ../data/projects/contiki-2.4/apps/webserver/we...                  0   \n",
       "26  ../data/projects/contiki-2.4/apps/webserver/we...                  0   \n",
       "27  ../data/projects/contiki-2.4/apps/webserver/we...                  0   \n",
       "\n",
       "    fan_in  fan_out  general_fan_out  \\\n",
       "0        0        0                0   \n",
       "1        0        0                0   \n",
       "2        0        0                0   \n",
       "3        0        0                0   \n",
       "4        0        0                0   \n",
       "5        0        0                0   \n",
       "6        0        0                0   \n",
       "7        0        0                0   \n",
       "8        0        0                0   \n",
       "9        0        0                0   \n",
       "10       0        0                0   \n",
       "11       0        0                0   \n",
       "12       0        0                0   \n",
       "13       0        0                0   \n",
       "14       0        0                0   \n",
       "15       0        0                0   \n",
       "16       0        0                0   \n",
       "17       0        0                0   \n",
       "18       0        0                0   \n",
       "19       0        0                0   \n",
       "20       0        0                0   \n",
       "21       0        0                0   \n",
       "22       0        0                0   \n",
       "23       0        0                0   \n",
       "24       0        0                0   \n",
       "25       0        0                0   \n",
       "26       0        0                0   \n",
       "27       0        0                0   \n",
       "\n",
       "                                                 code CWEs  is_vul  \n",
       "0   ftpc_init( void){\\n  memb_init(&connections);\\...   []   False  \n",
       "1   quit( void){\\n  ctk_window_close(&window);\\n  ...   []   False  \n",
       "2   quit( void){\\n  ctk_window_close(&window);\\n  ...   []   False  \n",
       "3   PROCESS_THREAD( shell_blink_process , ev , dat...   []   False  \n",
       "4   PROCESS_THREAD( shell_blink_process , ev , dat...   []   False  \n",
       "5   PROCESS_THREAD( shell_blink_process , ev , dat...   []   False  \n",
       "6   write_chunk( struct rucb_conn * c , int offset...   []   False  \n",
       "7   write_chunk( struct rucb_conn * c , int offset...   []   False  \n",
       "8   write_chunk( struct rucb_conn * c , int offset...   []   False  \n",
       "9   write_chunk( struct rucb_conn * c , int offset...   []   False  \n",
       "10  write_chunk( struct rucb_conn * c , int offset...   []   False  \n",
       "11  received_announcement( struct announcement * a...   []   False  \n",
       "12  received_announcement( struct announcement * a...   []   False  \n",
       "13  received_announcement( struct announcement * a...   []   False  \n",
       "14  received_announcement( struct announcement * a...   []   False  \n",
       "15  sniff_attributes_output( int type){\\n  struct ...   []   False  \n",
       "16  PROCESS_THREAD( shell_unicast_send_process , e...   []   False  \n",
       "17  PROCESS_THREAD( shell_unicast_send_process , e...   []   False  \n",
       "18  PROCESS_THREAD( shell_unicast_send_process , e...   []   False  \n",
       "19  PROCESS_THREAD( shell_vars_process , ev , data...   []   False  \n",
       "20  PROCESS_THREAD( shell_vars_process , ev , data...   []   False  \n",
       "21  PROCESS_THREAD( shell_vars_process , ev , data...   []   False  \n",
       "22  PROCESS_THREAD( webserver_process , ev , data)...   []   False  \n",
       "23  PROCESS_THREAD( webserver_process , ev , data)...   []   False  \n",
       "24  PROCESS_THREAD( webserver_process , ev , data)...   []   False  \n",
       "25  PROCESS_THREAD( webserver_process , ev , data)...   []   False  \n",
       "26  PROCESS_THREAD( webserver_process , ev , data)...   []   False  \n",
       "27  PROCESS_THREAD( webserver_process , ev , data)...   []   False  "
      ]
     },
     "execution_count": 28,
     "metadata": {},
     "output_type": "execute_result"
    }
   ],
   "source": [
    "import itertools\n",
    "    \n",
    "    \n",
    "def file2metrics(source_file, df_flaw, tool='cppcheck'):\n",
    "    \"\"\" split the given file into a list of function blocks and return their metrics into a dataframe\n",
    "    \"\"\" \n",
    "\n",
    "    if tool=='flawfinder':\n",
    "        lines = list(set(list(df_flaw.Line)))\n",
    "    elif tool== 'cppcheck':\n",
    "        df_flaw = df_flaw.rename(columns={'cwe':'CWEs', 'line': 'Line'})\n",
    "        lines = list(set(list(df_flaw.Line[0])))\n",
    "    else:\n",
    "        print('Please select a valid tool!')\n",
    "        exit(1)\n",
    "    \n",
    "    lines = [eval(l) for l in lines] # python default casting to integer\n",
    "    df = pd.DataFrame()\n",
    "    \n",
    "    with open(source_file, \"r\") as fp:  \n",
    "        liz_file = lizard.analyze_file.analyze_source_code(source_file,  fp.read())\n",
    "        \n",
    "        for ifun in range(len(liz_file.function_list)):\n",
    "            # print(liz_file.function_list[ifun].__dict__)\n",
    "            fun_metrics = liz_file.function_list[ifun].__dict__\n",
    "            df_fun = pd.DataFrame.from_dict(fun_metrics)\n",
    "            \n",
    "            start = int(fun_metrics['start_line'])\n",
    "            end = int(fun_metrics['end_line']) \n",
    "            fp.seek(0) # move header to the initial point of the file\n",
    "\n",
    "            vul_statement, cwe, vul_bool = '', [], False\n",
    "            \n",
    "            # check if any of the lines of the file belong to any functions\n",
    "            for l in lines:\n",
    "                fun_block = [line for line in itertools.islice(fp, start, end)]\n",
    "                df_fun['code'] =  fun_metrics['long_name'] + ''.join(fun_block) \n",
    "                \n",
    "                \n",
    "                # check if the vulnerability content/statement appear in the function block or not.\n",
    "                if start <= l <= end:\n",
    "                    vul_statement = df_flaw[df_flaw.Line==l]['Context'].values[0]\n",
    "                    vul_type = df_flaw[df_flaw.Line==l]['CWEs'].values[0]\n",
    "                    cwe.append((vul_type, vul_statement))\n",
    "\n",
    "                df_fun['CWEs'] = str(cwe)\n",
    "                \n",
    "            df_fun['is_vul'] = vul_bool  \n",
    "            df = pd.concat([df, df_fun])\n",
    "            return df\n",
    "\n",
    "    # <guru> I think there is a problem in lizard detecting the correct full_parameters \n",
    "    # either we have to concatenate two lines of full_parameters or ignore it and take it from long_name if needed. \n",
    "    # drop['full_parameters', 'fan_in', 'fan_out', 'general_fan_out'] because lizard has not properly \n",
    "    # implemented these parameters yet.\n",
    "    \n",
    "    cols_filter = ['full_parameters', 'fan_in', 'fan_out', 'general_fan_out']\n",
    "    df = df.drop(cols_filter, axis=1).drop_duplicates().reset_index(drop=True)\n",
    "    print('Shape of the dataframe: ', df.shape)\n",
    "    return df\n",
    "\n",
    "file2metrics(df_flaw.file[0], df_flaw, tool='cppcheck')\n",
    "\n",
    "df_prj = pd.DataFrame()\n",
    "\n",
    "for i in range(len(df_flaw)):\n",
    "    df_file = file2metrics(df_flaw.file[i], df_flaw, tool='cppcheck')\n",
    "    df_prj = pd.concat([df_prj, df_file])\n",
    "\n",
    "df_prj.reset_index(drop=True)\n"
   ]
  }
 ],
 "metadata": {
  "kernelspec": {
   "display_name": "vulcode",
   "language": "python",
   "name": "python3"
  },
  "language_info": {
   "codemirror_mode": {
    "name": "ipython",
    "version": 3
   },
   "file_extension": ".py",
   "mimetype": "text/x-python",
   "name": "python",
   "nbconvert_exporter": "python",
   "pygments_lexer": "ipython3",
   "version": "3.8.0"
  },
  "orig_nbformat": 4,
  "vscode": {
   "interpreter": {
    "hash": "770d70f40277e0fadd6bc1f7a5fecfd799eee3cbb57c500ccfb48eb07fd2c1ce"
   }
  }
 },
 "nbformat": 4,
 "nbformat_minor": 2
}
