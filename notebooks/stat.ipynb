{
 "cells": [
  {
   "attachments": {},
   "cell_type": "markdown",
   "metadata": {},
   "source": [
    "# Statistics on the output data. "
   ]
  },
  {
   "cell_type": "markdown",
   "metadata": {},
   "source": [
    "### Loading data from the sqlite database to the dataframes"
   ]
  },
  {
   "cell_type": "code",
   "execution_count": 189,
   "metadata": {},
   "outputs": [
    {
     "data": {
      "text/plain": [
       "Index(['file', 'line', 'column', 'defaultlevel', 'level', 'category', 'name',\n",
       "       'msg', 'note', 'cwe', 'context', 'helpuri', 'severity', 'tool', 'type',\n",
       "       'project'],\n",
       "      dtype='object')"
      ]
     },
     "execution_count": 189,
     "metadata": {},
     "output_type": "execute_result"
    }
   ],
   "source": [
    "import pandas as pd\n",
    "import matplotlib.pyplot as plt\n",
    "import seaborn as sns\n",
    "import plotly.express as px\n",
    "import lizard\n",
    "import subprocess as sub\n",
    "from pylibsrcml import srcml\n",
    "import os\n",
    "import re \n",
    "import xml.etree.ElementTree as et \n",
    "import warnings\n",
    "from sqlite3 import connect\n",
    "from argparse import ArgumentParser\n",
    "from configparser import ConfigParser\n",
    "import yaml\n",
    "from pathlib import Path\n",
    "import random\n",
    "from tabulate import tabulate\n",
    "\n",
    "warnings.filterwarnings(\"ignore\")\n",
    "\n",
    "\n",
    "# database = '../data/IoT.db'\n",
    "# database = '../data/TinyVul.db'\n",
    "database = \"/Users/guru/research/TinyVul-v2.db\"\n",
    "conn= connect(database)\n",
    "\n",
    "random.seed(0)\n",
    "\n",
    "dfp = pd.read_sql_query(\"SELECT * FROM project\", con=conn)\n",
    "dfs = pd.read_sql_query(\"SELECT * FROM statement\", con=conn)\n",
    "dff = pd.read_sql_query(\"SELECT * FROM function\", con=conn)\n",
    "\n",
    "if not os.path.exists(\"figure\"):\n",
    "    os.mkdir(\"figure\")\n",
    "dfs.columns"
   ]
  },
  {
   "cell_type": "markdown",
   "metadata": {},
   "source": [
    "### Plotting subburset plot from the frequency of category, name and cwe types. "
   ]
  },
  {
   "cell_type": "code",
   "execution_count": 190,
   "metadata": {},
   "outputs": [
    {
     "data": {
      "application/vnd.plotly.v1+json": {
       "config": {
        "plotlyServerURL": "https://plot.ly"
       },
       "data": [
        {
         "branchvalues": "total",
         "customdata": [
          [
           34
          ],
          [
           25
          ],
          [
           40
          ],
          [
           3
          ],
          [
           2
          ],
          [
           9
          ],
          [
           2
          ],
          [
           9
          ],
          [
           1
          ],
          [
           2
          ],
          [
           1
          ],
          [
           3
          ],
          [
           31
          ],
          [
           2
          ],
          [
           2
          ],
          [
           25
          ],
          [
           1
          ],
          [
           56
          ],
          [
           29
          ],
          [
           9
          ],
          [
           1
          ],
          [
           3
          ],
          [
           31
          ],
          [
           2
          ],
          [
           2
          ],
          [
           25
          ],
          [
           1
          ],
          [
           56
          ],
          [
           29
          ],
          [
           9
          ],
          [
           1
          ],
          [
           34
          ],
          [
           2
          ],
          [
           2
          ],
          [
           25
          ],
          [
           1
          ],
          [
           2
          ],
          [
           40
          ],
          [
           9
          ],
          [
           3
          ],
          [
           9
          ],
          [
           1
          ],
          [
           3
          ],
          [
           30.75221238938053
          ],
          [
           31
          ],
          [
           2
          ],
          [
           7.166666666666667
          ],
          [
           2
          ],
          [
           25
          ],
          [
           2
          ],
          [
           1
          ],
          [
           1
          ],
          [
           56
          ],
          [
           29
          ],
          [
           9
          ],
          [
           1
          ]
         ],
         "domain": {
          "x": [
           0,
           1
          ],
          "y": [
           0,
           1
          ]
         },
         "hovertemplate": "labels=%{label}<br>count_sum=%{value}<br>parent=%{parent}<br>id=%{id}<br>count=%{color}<extra></extra>",
         "ids": [
          "buffer/char/CWE-119!/CWE-120",
          "buffer/memcpy/CWE-120",
          "buffer/sprintf/CWE-120",
          "buffer/strcpy/CWE-120",
          "buffer/getchar/CWE-120, CWE-20",
          "buffer/strlen/CWE-126",
          "format/snprintf/CWE-134",
          "format/sprintf/CWE-134",
          "format/vfprintf/CWE-134",
          "misc/fopen/CWE-362",
          "shell/popen/CWE-78",
          "Static Global Buffer/-/CWE-unknown",
          "fixed size global buffer/-/CWE-unknown",
          "fixed size local buffer/-/CWE-unknown",
          "getchar/-/CWE-unknown",
          "memcpy/-/CWE-unknown",
          "popen/-/CWE-unknown",
          "snprintf/-/CWE-unknown",
          "sprintf/-/CWE-unknown",
          "strlen/-/CWE-unknown",
          "vfprintf/-/CWE-unknown",
          "Static Global Buffer/-",
          "fixed size global buffer/-",
          "fixed size local buffer/-",
          "getchar/-",
          "memcpy/-",
          "popen/-",
          "snprintf/-",
          "sprintf/-",
          "strlen/-",
          "vfprintf/-",
          "buffer/char",
          "misc/fopen",
          "buffer/getchar",
          "buffer/memcpy",
          "shell/popen",
          "format/snprintf",
          "buffer/sprintf",
          "format/sprintf",
          "buffer/strcpy",
          "buffer/strlen",
          "format/vfprintf",
          "Static Global Buffer",
          "buffer",
          "fixed size global buffer",
          "fixed size local buffer",
          "format",
          "getchar",
          "memcpy",
          "misc",
          "popen",
          "shell",
          "snprintf",
          "sprintf",
          "strlen",
          "vfprintf"
         ],
         "labels": [
          "CWE-119!/CWE-120",
          "CWE-120",
          "CWE-120",
          "CWE-120",
          "CWE-120, CWE-20",
          "CWE-126",
          "CWE-134",
          "CWE-134",
          "CWE-134",
          "CWE-362",
          "CWE-78",
          "CWE-unknown",
          "CWE-unknown",
          "CWE-unknown",
          "CWE-unknown",
          "CWE-unknown",
          "CWE-unknown",
          "CWE-unknown",
          "CWE-unknown",
          "CWE-unknown",
          "CWE-unknown",
          "-",
          "-",
          "-",
          "-",
          "-",
          "-",
          "-",
          "-",
          "-",
          "-",
          "char",
          "fopen",
          "getchar",
          "memcpy",
          "popen",
          "snprintf",
          "sprintf",
          "sprintf",
          "strcpy",
          "strlen",
          "vfprintf",
          "Static Global Buffer",
          "buffer",
          "fixed size global buffer",
          "fixed size local buffer",
          "format",
          "getchar",
          "memcpy",
          "misc",
          "popen",
          "shell",
          "snprintf",
          "sprintf",
          "strlen",
          "vfprintf"
         ],
         "marker": {
          "coloraxis": "coloraxis",
          "colors": [
           34,
           25,
           40,
           3,
           2,
           9,
           2,
           9,
           1,
           2,
           1,
           3,
           31,
           2,
           2,
           25,
           1,
           56,
           29,
           9,
           1,
           3,
           31,
           2,
           2,
           25,
           1,
           56,
           29,
           9,
           1,
           34,
           2,
           2,
           25,
           1,
           2,
           40,
           9,
           3,
           9,
           1,
           3,
           30.75221238938053,
           31,
           2,
           7.166666666666667,
           2,
           25,
           2,
           1,
           1,
           56,
           29,
           9,
           1
          ]
         },
         "name": "",
         "parents": [
          "buffer/char",
          "buffer/memcpy",
          "buffer/sprintf",
          "buffer/strcpy",
          "buffer/getchar",
          "buffer/strlen",
          "format/snprintf",
          "format/sprintf",
          "format/vfprintf",
          "misc/fopen",
          "shell/popen",
          "Static Global Buffer/-",
          "fixed size global buffer/-",
          "fixed size local buffer/-",
          "getchar/-",
          "memcpy/-",
          "popen/-",
          "snprintf/-",
          "sprintf/-",
          "strlen/-",
          "vfprintf/-",
          "Static Global Buffer",
          "fixed size global buffer",
          "fixed size local buffer",
          "getchar",
          "memcpy",
          "popen",
          "snprintf",
          "sprintf",
          "strlen",
          "vfprintf",
          "buffer",
          "misc",
          "buffer",
          "buffer",
          "shell",
          "format",
          "buffer",
          "format",
          "buffer",
          "buffer",
          "format",
          "",
          "",
          "",
          "",
          "",
          "",
          "",
          "",
          "",
          "",
          "",
          "",
          "",
          ""
         ],
         "type": "sunburst",
         "values": [
          34,
          25,
          40,
          3,
          2,
          9,
          2,
          9,
          1,
          2,
          1,
          3,
          31,
          2,
          2,
          25,
          1,
          56,
          29,
          9,
          1,
          3,
          31,
          2,
          2,
          25,
          1,
          56,
          29,
          9,
          1,
          34,
          2,
          2,
          25,
          1,
          2,
          40,
          9,
          3,
          9,
          1,
          3,
          113,
          31,
          2,
          12,
          2,
          25,
          2,
          1,
          1,
          56,
          29,
          9,
          1
         ]
        }
       ],
       "layout": {
        "autosize": false,
        "coloraxis": {
         "colorbar": {
          "title": {
           "text": "count"
          }
         },
         "colorscale": [
          [
           0,
           "rgb(247,251,255)"
          ],
          [
           0.125,
           "rgb(222,235,247)"
          ],
          [
           0.25,
           "rgb(198,219,239)"
          ],
          [
           0.375,
           "rgb(158,202,225)"
          ],
          [
           0.5,
           "rgb(107,174,214)"
          ],
          [
           0.625,
           "rgb(66,146,198)"
          ],
          [
           0.75,
           "rgb(33,113,181)"
          ],
          [
           0.875,
           "rgb(8,81,156)"
          ],
          [
           1,
           "rgb(8,48,107)"
          ]
         ]
        },
        "height": 800,
        "legend": {
         "tracegroupgap": 0
        },
        "margin": {
         "t": 60
        },
        "template": {
         "data": {
          "bar": [
           {
            "error_x": {
             "color": "#2a3f5f"
            },
            "error_y": {
             "color": "#2a3f5f"
            },
            "marker": {
             "line": {
              "color": "#E5ECF6",
              "width": 0.5
             },
             "pattern": {
              "fillmode": "overlay",
              "size": 10,
              "solidity": 0.2
             }
            },
            "type": "bar"
           }
          ],
          "barpolar": [
           {
            "marker": {
             "line": {
              "color": "#E5ECF6",
              "width": 0.5
             },
             "pattern": {
              "fillmode": "overlay",
              "size": 10,
              "solidity": 0.2
             }
            },
            "type": "barpolar"
           }
          ],
          "carpet": [
           {
            "aaxis": {
             "endlinecolor": "#2a3f5f",
             "gridcolor": "white",
             "linecolor": "white",
             "minorgridcolor": "white",
             "startlinecolor": "#2a3f5f"
            },
            "baxis": {
             "endlinecolor": "#2a3f5f",
             "gridcolor": "white",
             "linecolor": "white",
             "minorgridcolor": "white",
             "startlinecolor": "#2a3f5f"
            },
            "type": "carpet"
           }
          ],
          "choropleth": [
           {
            "colorbar": {
             "outlinewidth": 0,
             "ticks": ""
            },
            "type": "choropleth"
           }
          ],
          "contour": [
           {
            "colorbar": {
             "outlinewidth": 0,
             "ticks": ""
            },
            "colorscale": [
             [
              0,
              "#0d0887"
             ],
             [
              0.1111111111111111,
              "#46039f"
             ],
             [
              0.2222222222222222,
              "#7201a8"
             ],
             [
              0.3333333333333333,
              "#9c179e"
             ],
             [
              0.4444444444444444,
              "#bd3786"
             ],
             [
              0.5555555555555556,
              "#d8576b"
             ],
             [
              0.6666666666666666,
              "#ed7953"
             ],
             [
              0.7777777777777778,
              "#fb9f3a"
             ],
             [
              0.8888888888888888,
              "#fdca26"
             ],
             [
              1,
              "#f0f921"
             ]
            ],
            "type": "contour"
           }
          ],
          "contourcarpet": [
           {
            "colorbar": {
             "outlinewidth": 0,
             "ticks": ""
            },
            "type": "contourcarpet"
           }
          ],
          "heatmap": [
           {
            "colorbar": {
             "outlinewidth": 0,
             "ticks": ""
            },
            "colorscale": [
             [
              0,
              "#0d0887"
             ],
             [
              0.1111111111111111,
              "#46039f"
             ],
             [
              0.2222222222222222,
              "#7201a8"
             ],
             [
              0.3333333333333333,
              "#9c179e"
             ],
             [
              0.4444444444444444,
              "#bd3786"
             ],
             [
              0.5555555555555556,
              "#d8576b"
             ],
             [
              0.6666666666666666,
              "#ed7953"
             ],
             [
              0.7777777777777778,
              "#fb9f3a"
             ],
             [
              0.8888888888888888,
              "#fdca26"
             ],
             [
              1,
              "#f0f921"
             ]
            ],
            "type": "heatmap"
           }
          ],
          "heatmapgl": [
           {
            "colorbar": {
             "outlinewidth": 0,
             "ticks": ""
            },
            "colorscale": [
             [
              0,
              "#0d0887"
             ],
             [
              0.1111111111111111,
              "#46039f"
             ],
             [
              0.2222222222222222,
              "#7201a8"
             ],
             [
              0.3333333333333333,
              "#9c179e"
             ],
             [
              0.4444444444444444,
              "#bd3786"
             ],
             [
              0.5555555555555556,
              "#d8576b"
             ],
             [
              0.6666666666666666,
              "#ed7953"
             ],
             [
              0.7777777777777778,
              "#fb9f3a"
             ],
             [
              0.8888888888888888,
              "#fdca26"
             ],
             [
              1,
              "#f0f921"
             ]
            ],
            "type": "heatmapgl"
           }
          ],
          "histogram": [
           {
            "marker": {
             "pattern": {
              "fillmode": "overlay",
              "size": 10,
              "solidity": 0.2
             }
            },
            "type": "histogram"
           }
          ],
          "histogram2d": [
           {
            "colorbar": {
             "outlinewidth": 0,
             "ticks": ""
            },
            "colorscale": [
             [
              0,
              "#0d0887"
             ],
             [
              0.1111111111111111,
              "#46039f"
             ],
             [
              0.2222222222222222,
              "#7201a8"
             ],
             [
              0.3333333333333333,
              "#9c179e"
             ],
             [
              0.4444444444444444,
              "#bd3786"
             ],
             [
              0.5555555555555556,
              "#d8576b"
             ],
             [
              0.6666666666666666,
              "#ed7953"
             ],
             [
              0.7777777777777778,
              "#fb9f3a"
             ],
             [
              0.8888888888888888,
              "#fdca26"
             ],
             [
              1,
              "#f0f921"
             ]
            ],
            "type": "histogram2d"
           }
          ],
          "histogram2dcontour": [
           {
            "colorbar": {
             "outlinewidth": 0,
             "ticks": ""
            },
            "colorscale": [
             [
              0,
              "#0d0887"
             ],
             [
              0.1111111111111111,
              "#46039f"
             ],
             [
              0.2222222222222222,
              "#7201a8"
             ],
             [
              0.3333333333333333,
              "#9c179e"
             ],
             [
              0.4444444444444444,
              "#bd3786"
             ],
             [
              0.5555555555555556,
              "#d8576b"
             ],
             [
              0.6666666666666666,
              "#ed7953"
             ],
             [
              0.7777777777777778,
              "#fb9f3a"
             ],
             [
              0.8888888888888888,
              "#fdca26"
             ],
             [
              1,
              "#f0f921"
             ]
            ],
            "type": "histogram2dcontour"
           }
          ],
          "mesh3d": [
           {
            "colorbar": {
             "outlinewidth": 0,
             "ticks": ""
            },
            "type": "mesh3d"
           }
          ],
          "parcoords": [
           {
            "line": {
             "colorbar": {
              "outlinewidth": 0,
              "ticks": ""
             }
            },
            "type": "parcoords"
           }
          ],
          "pie": [
           {
            "automargin": true,
            "type": "pie"
           }
          ],
          "scatter": [
           {
            "fillpattern": {
             "fillmode": "overlay",
             "size": 10,
             "solidity": 0.2
            },
            "type": "scatter"
           }
          ],
          "scatter3d": [
           {
            "line": {
             "colorbar": {
              "outlinewidth": 0,
              "ticks": ""
             }
            },
            "marker": {
             "colorbar": {
              "outlinewidth": 0,
              "ticks": ""
             }
            },
            "type": "scatter3d"
           }
          ],
          "scattercarpet": [
           {
            "marker": {
             "colorbar": {
              "outlinewidth": 0,
              "ticks": ""
             }
            },
            "type": "scattercarpet"
           }
          ],
          "scattergeo": [
           {
            "marker": {
             "colorbar": {
              "outlinewidth": 0,
              "ticks": ""
             }
            },
            "type": "scattergeo"
           }
          ],
          "scattergl": [
           {
            "marker": {
             "colorbar": {
              "outlinewidth": 0,
              "ticks": ""
             }
            },
            "type": "scattergl"
           }
          ],
          "scattermapbox": [
           {
            "marker": {
             "colorbar": {
              "outlinewidth": 0,
              "ticks": ""
             }
            },
            "type": "scattermapbox"
           }
          ],
          "scatterpolar": [
           {
            "marker": {
             "colorbar": {
              "outlinewidth": 0,
              "ticks": ""
             }
            },
            "type": "scatterpolar"
           }
          ],
          "scatterpolargl": [
           {
            "marker": {
             "colorbar": {
              "outlinewidth": 0,
              "ticks": ""
             }
            },
            "type": "scatterpolargl"
           }
          ],
          "scatterternary": [
           {
            "marker": {
             "colorbar": {
              "outlinewidth": 0,
              "ticks": ""
             }
            },
            "type": "scatterternary"
           }
          ],
          "surface": [
           {
            "colorbar": {
             "outlinewidth": 0,
             "ticks": ""
            },
            "colorscale": [
             [
              0,
              "#0d0887"
             ],
             [
              0.1111111111111111,
              "#46039f"
             ],
             [
              0.2222222222222222,
              "#7201a8"
             ],
             [
              0.3333333333333333,
              "#9c179e"
             ],
             [
              0.4444444444444444,
              "#bd3786"
             ],
             [
              0.5555555555555556,
              "#d8576b"
             ],
             [
              0.6666666666666666,
              "#ed7953"
             ],
             [
              0.7777777777777778,
              "#fb9f3a"
             ],
             [
              0.8888888888888888,
              "#fdca26"
             ],
             [
              1,
              "#f0f921"
             ]
            ],
            "type": "surface"
           }
          ],
          "table": [
           {
            "cells": {
             "fill": {
              "color": "#EBF0F8"
             },
             "line": {
              "color": "white"
             }
            },
            "header": {
             "fill": {
              "color": "#C8D4E3"
             },
             "line": {
              "color": "white"
             }
            },
            "type": "table"
           }
          ]
         },
         "layout": {
          "annotationdefaults": {
           "arrowcolor": "#2a3f5f",
           "arrowhead": 0,
           "arrowwidth": 1
          },
          "autotypenumbers": "strict",
          "coloraxis": {
           "colorbar": {
            "outlinewidth": 0,
            "ticks": ""
           }
          },
          "colorscale": {
           "diverging": [
            [
             0,
             "#8e0152"
            ],
            [
             0.1,
             "#c51b7d"
            ],
            [
             0.2,
             "#de77ae"
            ],
            [
             0.3,
             "#f1b6da"
            ],
            [
             0.4,
             "#fde0ef"
            ],
            [
             0.5,
             "#f7f7f7"
            ],
            [
             0.6,
             "#e6f5d0"
            ],
            [
             0.7,
             "#b8e186"
            ],
            [
             0.8,
             "#7fbc41"
            ],
            [
             0.9,
             "#4d9221"
            ],
            [
             1,
             "#276419"
            ]
           ],
           "sequential": [
            [
             0,
             "#0d0887"
            ],
            [
             0.1111111111111111,
             "#46039f"
            ],
            [
             0.2222222222222222,
             "#7201a8"
            ],
            [
             0.3333333333333333,
             "#9c179e"
            ],
            [
             0.4444444444444444,
             "#bd3786"
            ],
            [
             0.5555555555555556,
             "#d8576b"
            ],
            [
             0.6666666666666666,
             "#ed7953"
            ],
            [
             0.7777777777777778,
             "#fb9f3a"
            ],
            [
             0.8888888888888888,
             "#fdca26"
            ],
            [
             1,
             "#f0f921"
            ]
           ],
           "sequentialminus": [
            [
             0,
             "#0d0887"
            ],
            [
             0.1111111111111111,
             "#46039f"
            ],
            [
             0.2222222222222222,
             "#7201a8"
            ],
            [
             0.3333333333333333,
             "#9c179e"
            ],
            [
             0.4444444444444444,
             "#bd3786"
            ],
            [
             0.5555555555555556,
             "#d8576b"
            ],
            [
             0.6666666666666666,
             "#ed7953"
            ],
            [
             0.7777777777777778,
             "#fb9f3a"
            ],
            [
             0.8888888888888888,
             "#fdca26"
            ],
            [
             1,
             "#f0f921"
            ]
           ]
          },
          "colorway": [
           "#636efa",
           "#EF553B",
           "#00cc96",
           "#ab63fa",
           "#FFA15A",
           "#19d3f3",
           "#FF6692",
           "#B6E880",
           "#FF97FF",
           "#FECB52"
          ],
          "font": {
           "color": "#2a3f5f"
          },
          "geo": {
           "bgcolor": "white",
           "lakecolor": "white",
           "landcolor": "#E5ECF6",
           "showlakes": true,
           "showland": true,
           "subunitcolor": "white"
          },
          "hoverlabel": {
           "align": "left"
          },
          "hovermode": "closest",
          "mapbox": {
           "style": "light"
          },
          "paper_bgcolor": "white",
          "plot_bgcolor": "#E5ECF6",
          "polar": {
           "angularaxis": {
            "gridcolor": "white",
            "linecolor": "white",
            "ticks": ""
           },
           "bgcolor": "#E5ECF6",
           "radialaxis": {
            "gridcolor": "white",
            "linecolor": "white",
            "ticks": ""
           }
          },
          "scene": {
           "xaxis": {
            "backgroundcolor": "#E5ECF6",
            "gridcolor": "white",
            "gridwidth": 2,
            "linecolor": "white",
            "showbackground": true,
            "ticks": "",
            "zerolinecolor": "white"
           },
           "yaxis": {
            "backgroundcolor": "#E5ECF6",
            "gridcolor": "white",
            "gridwidth": 2,
            "linecolor": "white",
            "showbackground": true,
            "ticks": "",
            "zerolinecolor": "white"
           },
           "zaxis": {
            "backgroundcolor": "#E5ECF6",
            "gridcolor": "white",
            "gridwidth": 2,
            "linecolor": "white",
            "showbackground": true,
            "ticks": "",
            "zerolinecolor": "white"
           }
          },
          "shapedefaults": {
           "line": {
            "color": "#2a3f5f"
           }
          },
          "ternary": {
           "aaxis": {
            "gridcolor": "white",
            "linecolor": "white",
            "ticks": ""
           },
           "baxis": {
            "gridcolor": "white",
            "linecolor": "white",
            "ticks": ""
           },
           "bgcolor": "#E5ECF6",
           "caxis": {
            "gridcolor": "white",
            "linecolor": "white",
            "ticks": ""
           }
          },
          "title": {
           "x": 0.05
          },
          "xaxis": {
           "automargin": true,
           "gridcolor": "white",
           "linecolor": "white",
           "ticks": "",
           "title": {
            "standoff": 15
           },
           "zerolinecolor": "white",
           "zerolinewidth": 2
          },
          "yaxis": {
           "automargin": true,
           "gridcolor": "white",
           "linecolor": "white",
           "ticks": "",
           "title": {
            "standoff": 15
           },
           "zerolinecolor": "white",
           "zerolinewidth": 2
          }
         }
        },
        "width": 800
       }
      }
     },
     "metadata": {},
     "output_type": "display_data"
    }
   ],
   "source": [
    "dfplt = dfs[['category', 'name', 'cwe']].groupby(['category', 'name', 'cwe'], group_keys=False).size().reset_index(name='count')\n",
    "fig = px.sunburst(dfplt, \n",
    "    path=['category', 'name', 'cwe'], \n",
    "    values='count', \n",
    "    color_continuous_scale='Blues',\n",
    "    color='count',\n",
    ")\n",
    "# fig.write_image(\"figure/vul_statistics.pdf\")\n",
    "# fig.update_traces(hovertemplate='%{label}<br>%{customdata}')\n",
    "fig.update_layout(\n",
    "    autosize=False,\n",
    "    width=800,\n",
    "    height=800,)\n",
    "fig.show()\n",
    "# save the figure manually, the below code takes ages\n",
    "# fig.write_image(\"../figure/vul_statistics.pdf\")"
   ]
  },
  {
   "cell_type": "code",
   "execution_count": 218,
   "metadata": {},
   "outputs": [
    {
     "data": {
      "text/html": [
       "<div>\n",
       "<style scoped>\n",
       "    .dataframe tbody tr th:only-of-type {\n",
       "        vertical-align: middle;\n",
       "    }\n",
       "\n",
       "    .dataframe tbody tr th {\n",
       "        vertical-align: top;\n",
       "    }\n",
       "\n",
       "    .dataframe thead th {\n",
       "        text-align: right;\n",
       "    }\n",
       "</style>\n",
       "<table border=\"1\" class=\"dataframe\">\n",
       "  <thead>\n",
       "    <tr style=\"text-align: right;\">\n",
       "      <th></th>\n",
       "      <th>category</th>\n",
       "      <th>name</th>\n",
       "      <th>cwe</th>\n",
       "      <th>count</th>\n",
       "    </tr>\n",
       "  </thead>\n",
       "  <tbody>\n",
       "    <tr>\n",
       "      <th>0</th>\n",
       "      <td>Static Global Buffer</td>\n",
       "      <td>-</td>\n",
       "      <td>CWE-unknown</td>\n",
       "      <td>3</td>\n",
       "    </tr>\n",
       "    <tr>\n",
       "      <th>1</th>\n",
       "      <td>buffer</td>\n",
       "      <td>char</td>\n",
       "      <td>CWE-119!/CWE-120</td>\n",
       "      <td>34</td>\n",
       "    </tr>\n",
       "    <tr>\n",
       "      <th>2</th>\n",
       "      <td>buffer</td>\n",
       "      <td>getchar</td>\n",
       "      <td>CWE-120, CWE-20</td>\n",
       "      <td>2</td>\n",
       "    </tr>\n",
       "    <tr>\n",
       "      <th>3</th>\n",
       "      <td>buffer</td>\n",
       "      <td>memcpy</td>\n",
       "      <td>CWE-120</td>\n",
       "      <td>25</td>\n",
       "    </tr>\n",
       "    <tr>\n",
       "      <th>4</th>\n",
       "      <td>buffer</td>\n",
       "      <td>sprintf</td>\n",
       "      <td>CWE-120</td>\n",
       "      <td>40</td>\n",
       "    </tr>\n",
       "    <tr>\n",
       "      <th>5</th>\n",
       "      <td>buffer</td>\n",
       "      <td>strcpy</td>\n",
       "      <td>CWE-120</td>\n",
       "      <td>3</td>\n",
       "    </tr>\n",
       "    <tr>\n",
       "      <th>6</th>\n",
       "      <td>buffer</td>\n",
       "      <td>strlen</td>\n",
       "      <td>CWE-126</td>\n",
       "      <td>9</td>\n",
       "    </tr>\n",
       "    <tr>\n",
       "      <th>7</th>\n",
       "      <td>fixed size global buffer</td>\n",
       "      <td>-</td>\n",
       "      <td>CWE-unknown</td>\n",
       "      <td>31</td>\n",
       "    </tr>\n",
       "    <tr>\n",
       "      <th>8</th>\n",
       "      <td>fixed size local buffer</td>\n",
       "      <td>-</td>\n",
       "      <td>CWE-unknown</td>\n",
       "      <td>2</td>\n",
       "    </tr>\n",
       "    <tr>\n",
       "      <th>9</th>\n",
       "      <td>format</td>\n",
       "      <td>snprintf</td>\n",
       "      <td>CWE-134</td>\n",
       "      <td>2</td>\n",
       "    </tr>\n",
       "    <tr>\n",
       "      <th>10</th>\n",
       "      <td>format</td>\n",
       "      <td>sprintf</td>\n",
       "      <td>CWE-134</td>\n",
       "      <td>9</td>\n",
       "    </tr>\n",
       "    <tr>\n",
       "      <th>11</th>\n",
       "      <td>format</td>\n",
       "      <td>vfprintf</td>\n",
       "      <td>CWE-134</td>\n",
       "      <td>1</td>\n",
       "    </tr>\n",
       "    <tr>\n",
       "      <th>12</th>\n",
       "      <td>getchar</td>\n",
       "      <td>-</td>\n",
       "      <td>CWE-unknown</td>\n",
       "      <td>2</td>\n",
       "    </tr>\n",
       "    <tr>\n",
       "      <th>13</th>\n",
       "      <td>memcpy</td>\n",
       "      <td>-</td>\n",
       "      <td>CWE-unknown</td>\n",
       "      <td>25</td>\n",
       "    </tr>\n",
       "    <tr>\n",
       "      <th>14</th>\n",
       "      <td>misc</td>\n",
       "      <td>fopen</td>\n",
       "      <td>CWE-362</td>\n",
       "      <td>2</td>\n",
       "    </tr>\n",
       "    <tr>\n",
       "      <th>15</th>\n",
       "      <td>popen</td>\n",
       "      <td>-</td>\n",
       "      <td>CWE-unknown</td>\n",
       "      <td>1</td>\n",
       "    </tr>\n",
       "    <tr>\n",
       "      <th>16</th>\n",
       "      <td>shell</td>\n",
       "      <td>popen</td>\n",
       "      <td>CWE-78</td>\n",
       "      <td>1</td>\n",
       "    </tr>\n",
       "    <tr>\n",
       "      <th>17</th>\n",
       "      <td>snprintf</td>\n",
       "      <td>-</td>\n",
       "      <td>CWE-unknown</td>\n",
       "      <td>56</td>\n",
       "    </tr>\n",
       "    <tr>\n",
       "      <th>18</th>\n",
       "      <td>sprintf</td>\n",
       "      <td>-</td>\n",
       "      <td>CWE-unknown</td>\n",
       "      <td>29</td>\n",
       "    </tr>\n",
       "    <tr>\n",
       "      <th>19</th>\n",
       "      <td>strlen</td>\n",
       "      <td>-</td>\n",
       "      <td>CWE-unknown</td>\n",
       "      <td>9</td>\n",
       "    </tr>\n",
       "    <tr>\n",
       "      <th>20</th>\n",
       "      <td>vfprintf</td>\n",
       "      <td>-</td>\n",
       "      <td>CWE-unknown</td>\n",
       "      <td>1</td>\n",
       "    </tr>\n",
       "  </tbody>\n",
       "</table>\n",
       "</div>"
      ],
      "text/plain": [
       "                    category      name               cwe  count\n",
       "0       Static Global Buffer         -       CWE-unknown      3\n",
       "1                     buffer      char  CWE-119!/CWE-120     34\n",
       "2                     buffer   getchar   CWE-120, CWE-20      2\n",
       "3                     buffer    memcpy           CWE-120     25\n",
       "4                     buffer   sprintf           CWE-120     40\n",
       "5                     buffer    strcpy           CWE-120      3\n",
       "6                     buffer    strlen           CWE-126      9\n",
       "7   fixed size global buffer         -       CWE-unknown     31\n",
       "8    fixed size local buffer         -       CWE-unknown      2\n",
       "9                     format  snprintf           CWE-134      2\n",
       "10                    format   sprintf           CWE-134      9\n",
       "11                    format  vfprintf           CWE-134      1\n",
       "12                   getchar         -       CWE-unknown      2\n",
       "13                    memcpy         -       CWE-unknown     25\n",
       "14                      misc     fopen           CWE-362      2\n",
       "15                     popen         -       CWE-unknown      1\n",
       "16                     shell     popen            CWE-78      1\n",
       "17                  snprintf         -       CWE-unknown     56\n",
       "18                   sprintf         -       CWE-unknown     29\n",
       "19                    strlen         -       CWE-unknown      9\n",
       "20                  vfprintf         -       CWE-unknown      1"
      ]
     },
     "execution_count": 218,
     "metadata": {},
     "output_type": "execute_result"
    }
   ],
   "source": [
    "dfplt['cate']"
   ]
  },
  {
   "cell_type": "code",
   "execution_count": 191,
   "metadata": {},
   "outputs": [
    {
     "data": {
      "text/html": [
       "<div>\n",
       "<style scoped>\n",
       "    .dataframe tbody tr th:only-of-type {\n",
       "        vertical-align: middle;\n",
       "    }\n",
       "\n",
       "    .dataframe tbody tr th {\n",
       "        vertical-align: top;\n",
       "    }\n",
       "\n",
       "    .dataframe thead th {\n",
       "        text-align: right;\n",
       "    }\n",
       "</style>\n",
       "<table border=\"1\" class=\"dataframe\">\n",
       "  <thead>\n",
       "    <tr style=\"text-align: right;\">\n",
       "      <th></th>\n",
       "      <th>category</th>\n",
       "      <th>name</th>\n",
       "      <th>cwe</th>\n",
       "      <th>count</th>\n",
       "    </tr>\n",
       "  </thead>\n",
       "  <tbody>\n",
       "    <tr>\n",
       "      <th>17</th>\n",
       "      <td>snprintf</td>\n",
       "      <td>-</td>\n",
       "      <td>CWE-unknown</td>\n",
       "      <td>56</td>\n",
       "    </tr>\n",
       "    <tr>\n",
       "      <th>4</th>\n",
       "      <td>buffer</td>\n",
       "      <td>sprintf</td>\n",
       "      <td>CWE-120</td>\n",
       "      <td>40</td>\n",
       "    </tr>\n",
       "    <tr>\n",
       "      <th>1</th>\n",
       "      <td>buffer</td>\n",
       "      <td>char</td>\n",
       "      <td>CWE-119!/CWE-120</td>\n",
       "      <td>34</td>\n",
       "    </tr>\n",
       "    <tr>\n",
       "      <th>7</th>\n",
       "      <td>fixed size global buffer</td>\n",
       "      <td>-</td>\n",
       "      <td>CWE-unknown</td>\n",
       "      <td>31</td>\n",
       "    </tr>\n",
       "    <tr>\n",
       "      <th>18</th>\n",
       "      <td>sprintf</td>\n",
       "      <td>-</td>\n",
       "      <td>CWE-unknown</td>\n",
       "      <td>29</td>\n",
       "    </tr>\n",
       "    <tr>\n",
       "      <th>3</th>\n",
       "      <td>buffer</td>\n",
       "      <td>memcpy</td>\n",
       "      <td>CWE-120</td>\n",
       "      <td>25</td>\n",
       "    </tr>\n",
       "    <tr>\n",
       "      <th>13</th>\n",
       "      <td>memcpy</td>\n",
       "      <td>-</td>\n",
       "      <td>CWE-unknown</td>\n",
       "      <td>25</td>\n",
       "    </tr>\n",
       "    <tr>\n",
       "      <th>10</th>\n",
       "      <td>format</td>\n",
       "      <td>sprintf</td>\n",
       "      <td>CWE-134</td>\n",
       "      <td>9</td>\n",
       "    </tr>\n",
       "    <tr>\n",
       "      <th>19</th>\n",
       "      <td>strlen</td>\n",
       "      <td>-</td>\n",
       "      <td>CWE-unknown</td>\n",
       "      <td>9</td>\n",
       "    </tr>\n",
       "    <tr>\n",
       "      <th>6</th>\n",
       "      <td>buffer</td>\n",
       "      <td>strlen</td>\n",
       "      <td>CWE-126</td>\n",
       "      <td>9</td>\n",
       "    </tr>\n",
       "  </tbody>\n",
       "</table>\n",
       "</div>"
      ],
      "text/plain": [
       "                    category     name               cwe  count\n",
       "17                  snprintf        -       CWE-unknown     56\n",
       "4                     buffer  sprintf           CWE-120     40\n",
       "1                     buffer     char  CWE-119!/CWE-120     34\n",
       "7   fixed size global buffer        -       CWE-unknown     31\n",
       "18                   sprintf        -       CWE-unknown     29\n",
       "3                     buffer   memcpy           CWE-120     25\n",
       "13                    memcpy        -       CWE-unknown     25\n",
       "10                    format  sprintf           CWE-134      9\n",
       "19                    strlen        -       CWE-unknown      9\n",
       "6                     buffer   strlen           CWE-126      9"
      ]
     },
     "execution_count": 191,
     "metadata": {},
     "output_type": "execute_result"
    }
   ],
   "source": [
    "dfplt.sort_values(by=['count'], ascending=False).head(10)"
   ]
  },
  {
   "attachments": {},
   "cell_type": "markdown",
   "metadata": {},
   "source": [
    "# Top 10 vulnerabilities"
   ]
  },
  {
   "cell_type": "code",
   "execution_count": 192,
   "metadata": {},
   "outputs": [
    {
     "name": "stdout",
     "output_type": "stream",
     "text": [
      "+----+--------------------------+---------+------------------+---------+\n",
      "|    | category                 | name    | cwe              |   count |\n",
      "|----+--------------------------+---------+------------------+---------|\n",
      "|  0 | snprintf                 | -       | CWE-unknown      |      56 |\n",
      "|  1 | buffer                   | sprintf | CWE-120          |      40 |\n",
      "|  2 | buffer                   | char    | CWE-119!/CWE-120 |      34 |\n",
      "|  3 | fixed size global buffer | -       | CWE-unknown      |      31 |\n",
      "|  4 | sprintf                  | -       | CWE-unknown      |      29 |\n",
      "|  5 | buffer                   | memcpy  | CWE-120          |      25 |\n",
      "|  6 | memcpy                   | -       | CWE-unknown      |      25 |\n",
      "|  7 | format                   | sprintf | CWE-134          |       9 |\n",
      "|  8 | strlen                   | -       | CWE-unknown      |       9 |\n",
      "|  9 | buffer                   | strlen  | CWE-126          |       9 |\n",
      "+----+--------------------------+---------+------------------+---------+\n"
     ]
    }
   ],
   "source": [
    "df_top10 = dfplt.sort_values(by=['count'], ascending=False).head(10).reset_index(drop=True)\n",
    "print(tabulate(df_top10, headers='keys', tablefmt='psql'))\n",
    "df_top10.to_latex(\"../result/top10.tex\", index=False, caption=\"Top 10 CWEs in IoT code\")"
   ]
  },
  {
   "cell_type": "code",
   "execution_count": 193,
   "metadata": {},
   "outputs": [
    {
     "data": {
      "text/plain": [
       "<AxesSubplot: >"
      ]
     },
     "execution_count": 193,
     "metadata": {},
     "output_type": "execute_result"
    },
    {
     "data": {
      "image/png": "[encoded data removed]",
      "text/plain": [
       "<Figure size 640x480 with 1 Axes>"
      ]
     },
     "metadata": {},
     "output_type": "display_data"
    }
   ],
   "source": [
    "# dfs.context.head(200).str.len().plot(kind='bar')\n",
    "pd.Series(sorted(list(dfs.context.head(20).str.len()))).plot(kind='bar')"
   ]
  },
  {
   "cell_type": "code",
   "execution_count": 194,
   "metadata": {},
   "outputs": [
    {
     "data": {
      "text/plain": [
       "0                      vfprintf (cb_storage_file, fmt, ap);\n",
       "1                                                         -\n",
       "2                                              va_end (ap);\n",
       "3                                               va_list ap;\n",
       "4                                              va_end (ap);\n",
       "                                ...                        \n",
       "117999                       if (unlikely (ipchr == EOF)) {\n",
       "118000    /* always flush to ensure buffered output is s...\n",
       "118001                                    temp.size = size;\n",
       "118002                            p[size++] = (char) ipchr;\n",
       "118003                            cob_accept (cob_field *f)\n",
       "Name: context, Length: 118004, dtype: object"
      ]
     },
     "execution_count": 194,
     "metadata": {},
     "output_type": "execute_result"
    }
   ],
   "source": [
    "dfs.context"
   ]
  },
  {
   "cell_type": "code",
   "execution_count": 195,
   "metadata": {},
   "outputs": [
    {
     "data": {
      "text/plain": [
       "<AxesSubplot: ylabel='Frequency'>"
      ]
     },
     "execution_count": 195,
     "metadata": {},
     "output_type": "execute_result"
    },
    {
     "data": {
      "image/png": "[encoded data removed]",
      "text/plain": [
       "<Figure size 640x480 with 1 Axes>"
      ]
     },
     "metadata": {},
     "output_type": "display_data"
    }
   ],
   "source": [
    "pd.Series([len(x) for x in dff.code if len(x)>10]).plot.hist(xlabel='#chars', ylabel='#statements')"
   ]
  },
  {
   "cell_type": "code",
   "execution_count": 196,
   "metadata": {},
   "outputs": [
    {
     "data": {
      "text/plain": [
       "[13, 23, 32, 2, 38]"
      ]
     },
     "execution_count": 196,
     "metadata": {},
     "output_type": "execute_result"
    }
   ],
   "source": [
    "def filter_unusual_statements(statements, min_len, max_len, df):\n",
    "    \"\"\"\" \n",
    "    # https://peps.python.org/pep-0007/\n",
    "    # https://www.python.org/dev/peps/pep-0007/ \n",
    "\n",
    "    \"\"\"\n",
    "    filtered_statements = []\n",
    "    for statement in statements:\n",
    "        if len(statement) >= min_len and len(statement) <= max_len:\n",
    "            filtered_statements.append(statement)\n",
    "   \n",
    "    # take size of the vul statements as basis\n",
    "    df = pd.Series(statements)   \n",
    "    df = df.str.len()\n",
    "    \n",
    "    stat_sizes =  list(df[df.between(max_len, min_len)].reset_index(drop=True))\n",
    "    \n",
    "    sample_size = 5 if len(stat_sizes)>5 else len(stat_sizes)-1\n",
    "    stat_sizes = random.sample(set(stat_sizes), sample_size)\n",
    "    return stat_sizes\n",
    "\n",
    "\n",
    "# standard variables:\n",
    "max_len = 79  #TODO: double check pep standards\n",
    "\n",
    "# TODO: check min_len as well, otherwise the below code unnessesarily checks one extra condition \n",
    "# because there is no any statement/fun with len below that. \n",
    "# for min_len (eg, 7 characters)\n",
    "min_len = dfs.context.str.len().sort_values(ascending=False).reset_index(drop=True).min()\n",
    "\n",
    "\n",
    "lines = dff.code[0].splitlines()\n",
    "stat_sizes = filter_unusual_statements(lines, max_len, min_len, dfs)\n",
    "stat_sizes"
   ]
  },
  {
   "cell_type": "code",
   "execution_count": 197,
   "metadata": {},
   "outputs": [],
   "source": [
    "# df_dnn = pd.read_csv('../data/iDetect_refine/DNN_Binary.csv')\n",
    "# df_conti = pd.read_csv('../data/contiki-master_Binary.csv')\n",
    "# df_rasp = pd.read_csv('../data/raspberry_metrics.csv')\n",
    "# df_rasp_flaw = pd.read_csv('../data/raspberry_flaw.csv')\n",
    "\n",
    "# print('Shape of DNN data: ', df_dnn.shape)\n",
    "# print('Shape of contiki: ', df_conti.shape)\n",
    "# print('Shape of raspberry: ', df_rasp.shape)\n",
    "# print('Shape of raspberry flaws: ', df_rasp_flaw.shape)\n",
    "\n",
    "# dfcon = dfcon.rename(columns={'context': 'code'})\n",
    "# dfcon.to_csv('../data/contiki-master_Binary.csv', index=False)"
   ]
  },
  {
   "attachments": {},
   "cell_type": "markdown",
   "metadata": {},
   "source": [
    "# Convert hyperparameters list to latex table format"
   ]
  },
  {
   "cell_type": "code",
   "execution_count": 198,
   "metadata": {},
   "outputs": [
    {
     "name": "stdout",
     "output_type": "stream",
     "text": [
      "<class 'dict'>\n",
      "\\begin{table}\n",
      "\\centering\n",
      "\\caption{Hyperparameter Settings}\n",
      "\\label{Hyperparameter Settings}\n",
      "\\begin{tabular}{ll}\n",
      "\\toprule\n",
      "hyperparameter &                           value \\\\\n",
      "\\midrule\n",
      "        epochs &                              50 \\\\\n",
      "  debug\\_epochs &                               3 \\\\\n",
      "         batch &                             128 \\\\\n",
      "  input\\_length &                             150 \\\\\n",
      "     input\\_dim &                             150 \\\\\n",
      "    output\\_dim &                              32 \\\\\n",
      "            lr &                            1e-4 \\\\\n",
      "      patience &                             100 \\\\\n",
      "     optimizer &                            adam \\\\\n",
      "        l2\\_reg &                            1e-4 \\\\\n",
      "       dropout &                             0.0 \\\\\n",
      " recur\\_dropout &                             0.0 \\\\\n",
      "        beta\\_1 &                             0.9 \\\\\n",
      "        beta\\_2 &                           0.999 \\\\\n",
      "       epsilon &                           1e-08 \\\\\n",
      "         decay &                             0.0 \\\\\n",
      "       verbose &                               2 \\\\\n",
      "          loss & sparse\\_categorical\\_crossentropy \\\\\n",
      "\\bottomrule\n",
      "\\end{tabular}\n",
      "\\end{table}\n",
      "\n"
     ]
    }
   ],
   "source": [
    "def hyperpara2latex(yaml_file):\n",
    "    \"\"\"\n",
    "    load the yaml file and return a dictionary\n",
    "    \"\"\"\n",
    "    config = {}\n",
    "    cols = ['hyperparameter', 'value']\n",
    "    \n",
    "    ext = Path(yaml_file).suffix.replace('.', '') \n",
    "    \n",
    "    with open(yaml_file, \"r\") as stream:\n",
    "        try:\n",
    "            config = yaml.safe_load(stream)\n",
    "            print(type(config))\n",
    "            df = pd.DataFrame([config['dnn']]).T.reset_index()\n",
    "            print(df.to_latex(index=False, \n",
    "                    header=cols, \n",
    "                    #   column_format='|l|l|', \n",
    "                    label='Hyperparameter Settings', \n",
    "                    caption='Hyperparameter Settings'))\n",
    "        except yaml.YAMLError as exc:\n",
    "            print(exc)\n",
    "\n",
    "config = hyperpara2latex('../config.yaml')"
   ]
  },
  {
   "cell_type": "markdown",
   "metadata": {},
   "source": [
    "## Frequency of the vulnerabilities and benign samples at \n",
    "    - statement-level \n",
    "    - function-level"
   ]
  },
  {
   "cell_type": "code",
   "execution_count": 199,
   "metadata": {},
   "outputs": [
    {
     "name": "stdout",
     "output_type": "stream",
     "text": [
      "/Users/guru/research/projects/gnucobol\n",
      "(118004, 16)\n",
      "Benign              117717\n",
      "CWE-unknown            159\n",
      "CWE-120                 68\n",
      "CWE-119!/CWE-120        34\n",
      "CWE-134                 12\n",
      "CWE-126                  9\n",
      "CWE-362                  2\n",
      "CWE-120, CWE-20          2\n",
      "CWE-78                   1\n",
      "Name: cwe, dtype: int64\n",
      "buffer                      113\n",
      "snprintf                     56\n",
      "fixed size global buffer     31\n",
      "sprintf                      29\n",
      "memcpy                       25\n",
      "format                       12\n",
      "strlen                        9\n",
      "Static Global Buffer          3\n",
      "misc                          2\n",
      "getchar                       2\n",
      "fixed size local buffer       2\n",
      "vfprintf                      1\n",
      "shell                         1\n",
      "popen                         1\n",
      "Name: category, dtype: int64\n",
      "----------------------\n"
     ]
    }
   ],
   "source": [
    "# for project-wise distribution\n",
    "projects = list(dfs.project.unique())\n",
    "\n",
    "for project in projects:\n",
    "    print(project)\n",
    "    df = dfs[dfs.project == project]\n",
    "    print(df.shape)\n",
    "    print(df.cwe.value_counts())\n",
    "    print(df.category.value_counts())\n",
    "    print('----------------------')"
   ]
  },
  {
   "attachments": {},
   "cell_type": "markdown",
   "metadata": {},
   "source": [
    "## Create a latex table from the statistics of projects"
   ]
  },
  {
   "cell_type": "code",
   "execution_count": 200,
   "metadata": {},
   "outputs": [
    {
     "data": {
      "text/html": [
       "<div>\n",
       "<style scoped>\n",
       "    .dataframe tbody tr th:only-of-type {\n",
       "        vertical-align: middle;\n",
       "    }\n",
       "\n",
       "    .dataframe tbody tr th {\n",
       "        vertical-align: top;\n",
       "    }\n",
       "\n",
       "    .dataframe thead th {\n",
       "        text-align: right;\n",
       "    }\n",
       "</style>\n",
       "<table border=\"1\" class=\"dataframe\">\n",
       "  <thead>\n",
       "    <tr style=\"text-align: right;\">\n",
       "      <th></th>\n",
       "      <th></th>\n",
       "      <th>count</th>\n",
       "    </tr>\n",
       "    <tr>\n",
       "      <th>project</th>\n",
       "      <th>cwe</th>\n",
       "      <th></th>\n",
       "    </tr>\n",
       "  </thead>\n",
       "  <tbody>\n",
       "    <tr>\n",
       "      <th rowspan=\"2\" valign=\"top\">gnucobol</th>\n",
       "      <th>Benign</th>\n",
       "      <td>117717</td>\n",
       "    </tr>\n",
       "    <tr>\n",
       "      <th>Vulnerable</th>\n",
       "      <td>287</td>\n",
       "    </tr>\n",
       "  </tbody>\n",
       "</table>\n",
       "</div>"
      ],
      "text/plain": [
       "                      count\n",
       "project  cwe               \n",
       "gnucobol Benign      117717\n",
       "         Vulnerable     287"
      ]
     },
     "execution_count": 200,
     "metadata": {},
     "output_type": "execute_result"
    }
   ],
   "source": [
    "def save_latex(df, file):\n",
    "    \"\"\"\n",
    "    save the dataframe as latex table\n",
    "    \"\"\"\n",
    "    styler = df.style\n",
    "    # styler.applymap_index(lambda v: \"font-weight: bold;\", axis=\"index\")\n",
    "    styler.applymap_index(lambda v: \"font-weight: bold;\", axis=\"columns\")\n",
    "    res = styler.to_latex(convert_css=True, column_format='|l|l|r|')\n",
    "\n",
    "    with open(file, 'w') as f:\n",
    "        f.write(res)\n",
    "    return res\n",
    "\n",
    "# make class binary type benign/vulnerable\n",
    "dfs_binary = dfs.copy()\n",
    "dfs_binary.loc[dfs_binary.cwe!=\"Benign\", 'cwe'] = \"Vulnerable\"\n",
    "dfs_binary['project'] = dfs_binary.project.str.split('/').str[-1]\n",
    "\n",
    "prj_stat = dfs_binary.groupby(['project', 'cwe']).size().reset_index(name='count')\n",
    "prj_s = prj_stat.groupby(['project', 'cwe']).sum()\n",
    "\n",
    "res = tabulate(save_latex(prj_s, '../result/project_stat.tex'))\n",
    "prj_s"
   ]
  },
  {
   "cell_type": "code",
   "execution_count": 201,
   "metadata": {},
   "outputs": [],
   "source": [
    "prj_sflat = prj_s.reset_index()\n",
    "prj_sflat = prj_sflat.pivot(index='project', columns='cwe', values='count')\n",
    "prj_sflat.reset_index().to_latex('../result/project_stat_flat.tex', index=False)"
   ]
  },
  {
   "cell_type": "code",
   "execution_count": 202,
   "metadata": {},
   "outputs": [
    {
     "name": "stdout",
     "output_type": "stream",
     "text": [
      "\\begin{table}\n",
      "\\centering\n",
      "\\caption{Top 10 CWEs}\n",
      "\\label{Top 10 CWEs}\n",
      "\\begin{tabular}{lr}\n",
      "\\toprule\n",
      "       cwe &  count \\\\\n",
      "\\midrule\n",
      "Vulnerable &    217 \\\\\n",
      "\\bottomrule\n",
      "\\end{tabular}\n",
      "\\end{table}\n",
      "\n"
     ]
    }
   ],
   "source": [
    "# make class binary type benign/vulnerable\n",
    "dff_binary = dff.copy()\n",
    "dff_binary.loc[dff_binary.cwe!=\"Benign\", 'cwe'] = \"Vulnerable\"\n",
    "\n",
    "prj_ff = dff_binary.groupby(['project', 'cwe']).size().reset_index(name='count')\n",
    "prj_f = prj_ff.groupby(['cwe']).sum().sort_values(by='count', ascending=False).reset_index()\n",
    "prj_f = prj_f[prj_f.cwe != 'Benign'].head(10)\n",
    "print(prj_f.to_latex(index=False, caption='Top 10 CWEs', label='Top 10 CWEs'))"
   ]
  },
  {
   "cell_type": "code",
   "execution_count": 203,
   "metadata": {},
   "outputs": [
    {
     "data": {
      "text/html": [
       "<div>\n",
       "<style scoped>\n",
       "    .dataframe tbody tr th:only-of-type {\n",
       "        vertical-align: middle;\n",
       "    }\n",
       "\n",
       "    .dataframe tbody tr th {\n",
       "        vertical-align: top;\n",
       "    }\n",
       "\n",
       "    .dataframe thead th {\n",
       "        text-align: right;\n",
       "    }\n",
       "</style>\n",
       "<table border=\"1\" class=\"dataframe\">\n",
       "  <thead>\n",
       "    <tr style=\"text-align: right;\">\n",
       "      <th></th>\n",
       "      <th>count</th>\n",
       "    </tr>\n",
       "    <tr>\n",
       "      <th>cwe</th>\n",
       "      <th></th>\n",
       "    </tr>\n",
       "  </thead>\n",
       "  <tbody>\n",
       "    <tr>\n",
       "      <th>Benign</th>\n",
       "      <td>117717</td>\n",
       "    </tr>\n",
       "    <tr>\n",
       "      <th>CWE-119!/CWE-120</th>\n",
       "      <td>34</td>\n",
       "    </tr>\n",
       "    <tr>\n",
       "      <th>CWE-120</th>\n",
       "      <td>68</td>\n",
       "    </tr>\n",
       "    <tr>\n",
       "      <th>CWE-120, CWE-20</th>\n",
       "      <td>2</td>\n",
       "    </tr>\n",
       "    <tr>\n",
       "      <th>CWE-126</th>\n",
       "      <td>9</td>\n",
       "    </tr>\n",
       "    <tr>\n",
       "      <th>CWE-134</th>\n",
       "      <td>12</td>\n",
       "    </tr>\n",
       "    <tr>\n",
       "      <th>CWE-362</th>\n",
       "      <td>2</td>\n",
       "    </tr>\n",
       "    <tr>\n",
       "      <th>CWE-78</th>\n",
       "      <td>1</td>\n",
       "    </tr>\n",
       "    <tr>\n",
       "      <th>CWE-unknown</th>\n",
       "      <td>159</td>\n",
       "    </tr>\n",
       "  </tbody>\n",
       "</table>\n",
       "</div>"
      ],
      "text/plain": [
       "                   count\n",
       "cwe                     \n",
       "Benign            117717\n",
       "CWE-119!/CWE-120      34\n",
       "CWE-120               68\n",
       "CWE-120, CWE-20        2\n",
       "CWE-126                9\n",
       "CWE-134               12\n",
       "CWE-362                2\n",
       "CWE-78                 1\n",
       "CWE-unknown          159"
      ]
     },
     "execution_count": 203,
     "metadata": {},
     "output_type": "execute_result"
    }
   ],
   "source": [
    "prj_s = dfs.groupby(['project', 'cwe']).size().reset_index(name='count')\n",
    "prj_s = prj_s.groupby(['cwe']).sum()\n",
    "prj_s"
   ]
  },
  {
   "attachments": {},
   "cell_type": "markdown",
   "metadata": {},
   "source": [
    "# Show the description of the function-level data"
   ]
  },
  {
   "cell_type": "code",
   "execution_count": 204,
   "metadata": {},
   "outputs": [
    {
     "name": "stdout",
     "output_type": "stream",
     "text": [
      "\\begin{table}\n",
      "\\centering\n",
      "\\caption{Function Statistics}\n",
      "\\label{Function Statistics}\n",
      "\\begin{tabular}{rrrrr}\n",
      "\\toprule\n",
      "features & unique &                                    top & freq \\\\\n",
      "\\midrule\n",
      " context &    112 &                                        &  185 \\\\\n",
      "     cwe &      2 &                             Vulnerable &  217 \\\\\n",
      " project &      1 & /Users/guru/research/projects/gnucobol &  402 \\\\\n",
      "\\bottomrule\n",
      "\\end{tabular}\n",
      "\\end{table}\n",
      "\n"
     ]
    }
   ],
   "source": [
    "df_describe = dff_binary.drop(\n",
    "    labels=['top_nesting_level', 'fan_in', 'fan_out', 'general_fan_out', 'content', 'long_name', 'fun_name', 'full_parameters', 'code'],\n",
    "    axis=1, \n",
    "    errors='ignore').describe().T\n",
    "\n",
    "df_freq = df_describe.reset_index().rename(columns={'index': 'features'})\n",
    "df_freq = df_freq.drop(labels=['count'], axis=1)\n",
    "# The freq is the most common value’s frequency. The top is the most common value.\n",
    "\n",
    "print(df_freq[~df_freq.features.isin(['file'])].to_latex(\n",
    "    index=False, \n",
    "    column_format='rrrrr', \n",
    "    label='Function Statistics', \n",
    "    caption='Function Statistics')\n",
    "    )"
   ]
  },
  {
   "cell_type": "code",
   "execution_count": 205,
   "metadata": {},
   "outputs": [
    {
     "data": {
      "text/plain": [
       "Benign              117717\n",
       "CWE-unknown            159\n",
       "CWE-120                 68\n",
       "CWE-119!/CWE-120        34\n",
       "CWE-134                 12\n",
       "CWE-126                  9\n",
       "CWE-362                  2\n",
       "CWE-120, CWE-20          2\n",
       "CWE-78                   1\n",
       "Name: cwe, dtype: int64"
      ]
     },
     "execution_count": 205,
     "metadata": {},
     "output_type": "execute_result"
    }
   ],
   "source": [
    "dfs.cwe.value_counts()"
   ]
  },
  {
   "cell_type": "code",
   "execution_count": 206,
   "metadata": {},
   "outputs": [
    {
     "data": {
      "text/plain": [
       "CWE-unknown    217\n",
       "Benign         185\n",
       "Name: cwe, dtype: int64"
      ]
     },
     "execution_count": 206,
     "metadata": {},
     "output_type": "execute_result"
    }
   ],
   "source": [
    "dff.cwe.value_counts()"
   ]
  },
  {
   "cell_type": "code",
   "execution_count": 207,
   "metadata": {},
   "outputs": [
    {
     "name": "stdout",
     "output_type": "stream",
     "text": [
      "Size of statements: 118004\n",
      "Size of unique statements: 2362\n",
      "\n",
      "Size of functions: 402\n",
      "Size of unique functions: 185\n"
     ]
    }
   ],
   "source": [
    "print(f'Size of statements: {len(dfs.context)}')\n",
    "print(f'Size of unique statements: {dfs.context.nunique()}')\n",
    "\n",
    "print(f'\\nSize of functions: {len(dff.code)}')\n",
    "print(f'Size of unique functions: {dff.code.nunique()}')"
   ]
  },
  {
   "cell_type": "code",
   "execution_count": 208,
   "metadata": {},
   "outputs": [
    {
     "data": {
      "text/html": [
       "<div>\n",
       "<style scoped>\n",
       "    .dataframe tbody tr th:only-of-type {\n",
       "        vertical-align: middle;\n",
       "    }\n",
       "\n",
       "    .dataframe tbody tr th {\n",
       "        vertical-align: top;\n",
       "    }\n",
       "\n",
       "    .dataframe thead th {\n",
       "        text-align: right;\n",
       "    }\n",
       "</style>\n",
       "<table border=\"1\" class=\"dataframe\">\n",
       "  <thead>\n",
       "    <tr style=\"text-align: right;\">\n",
       "      <th></th>\n",
       "      <th>file</th>\n",
       "      <th>code</th>\n",
       "      <th>context</th>\n",
       "      <th>cwe</th>\n",
       "      <th>project</th>\n",
       "    </tr>\n",
       "  </thead>\n",
       "  <tbody>\n",
       "    <tr>\n",
       "      <th>0</th>\n",
       "      <td>/Users/guru/research/projects/gnucobol/cobc/co...</td>\n",
       "      <td>static void\\noutput_storage (const char *fmt, ...</td>\n",
       "      <td></td>\n",
       "      <td>Benign</td>\n",
       "      <td>/Users/guru/research/projects/gnucobol</td>\n",
       "    </tr>\n",
       "    <tr>\n",
       "      <th>1</th>\n",
       "      <td>/Users/guru/research/projects/gnucobol/cobc/co...</td>\n",
       "      <td>void\\ncob_gen_optim (const enum cb_optim val)\\...</td>\n",
       "      <td></td>\n",
       "      <td>Benign</td>\n",
       "      <td>/Users/guru/research/projects/gnucobol</td>\n",
       "    </tr>\n",
       "    <tr>\n",
       "      <th>2</th>\n",
       "      <td>/Users/guru/research/projects/gnucobol/cobc/tr...</td>\n",
       "      <td>static int\\nwas_prev_warn (int linen, int tf)\\...</td>\n",
       "      <td></td>\n",
       "      <td>Benign</td>\n",
       "      <td>/Users/guru/research/projects/gnucobol</td>\n",
       "    </tr>\n",
       "    <tr>\n",
       "      <th>3</th>\n",
       "      <td>/Users/guru/research/projects/gnucobol/cobc/tr...</td>\n",
       "      <td>static void\\ncopy_file_line (cb_tree e, cb_tre...</td>\n",
       "      <td></td>\n",
       "      <td>Benign</td>\n",
       "      <td>/Users/guru/research/projects/gnucobol</td>\n",
       "    </tr>\n",
       "    <tr>\n",
       "      <th>4</th>\n",
       "      <td>/Users/guru/research/projects/gnucobol/cobc/tr...</td>\n",
       "      <td>static size_t\\nword_hash (const unsigned char ...</td>\n",
       "      <td></td>\n",
       "      <td>Benign</td>\n",
       "      <td>/Users/guru/research/projects/gnucobol</td>\n",
       "    </tr>\n",
       "    <tr>\n",
       "      <th>...</th>\n",
       "      <td>...</td>\n",
       "      <td>...</td>\n",
       "      <td>...</td>\n",
       "      <td>...</td>\n",
       "      <td>...</td>\n",
       "    </tr>\n",
       "    <tr>\n",
       "      <th>180</th>\n",
       "      <td>/Users/guru/research/projects/gnucobol/libcob/...</td>\n",
       "      <td>static void\\ndump_field_internal (const int le...</td>\n",
       "      <td></td>\n",
       "      <td>Benign</td>\n",
       "      <td>/Users/guru/research/projects/gnucobol</td>\n",
       "    </tr>\n",
       "    <tr>\n",
       "      <th>181</th>\n",
       "      <td>/Users/guru/research/projects/gnucobol/libcob/...</td>\n",
       "      <td>void\\ncob_dump_field (const int level, const c...</td>\n",
       "      <td></td>\n",
       "      <td>Benign</td>\n",
       "      <td>/Users/guru/research/projects/gnucobol</td>\n",
       "    </tr>\n",
       "    <tr>\n",
       "      <th>182</th>\n",
       "      <td>/Users/guru/research/projects/gnucobol/libcob/...</td>\n",
       "      <td>void\\ncob_dump_field_ext (const int level, con...</td>\n",
       "      <td></td>\n",
       "      <td>Benign</td>\n",
       "      <td>/Users/guru/research/projects/gnucobol</td>\n",
       "    </tr>\n",
       "    <tr>\n",
       "      <th>183</th>\n",
       "      <td>/Users/guru/research/projects/gnucobol/libcob/...</td>\n",
       "      <td>void\\ncob_accept (cob_field *f)\\n{\\n\\tunsigned...</td>\n",
       "      <td></td>\n",
       "      <td>Benign</td>\n",
       "      <td>/Users/guru/research/projects/gnucobol</td>\n",
       "    </tr>\n",
       "    <tr>\n",
       "      <th>184</th>\n",
       "      <td>/Users/guru/research/projects/gnucobol/libcob/...</td>\n",
       "      <td>void\\ncob_init_termio (cob_global *lptr, cob_s...</td>\n",
       "      <td></td>\n",
       "      <td>Benign</td>\n",
       "      <td>/Users/guru/research/projects/gnucobol</td>\n",
       "    </tr>\n",
       "  </tbody>\n",
       "</table>\n",
       "<p>185 rows × 5 columns</p>\n",
       "</div>"
      ],
      "text/plain": [
       "                                                  file  \\\n",
       "0    /Users/guru/research/projects/gnucobol/cobc/co...   \n",
       "1    /Users/guru/research/projects/gnucobol/cobc/co...   \n",
       "2    /Users/guru/research/projects/gnucobol/cobc/tr...   \n",
       "3    /Users/guru/research/projects/gnucobol/cobc/tr...   \n",
       "4    /Users/guru/research/projects/gnucobol/cobc/tr...   \n",
       "..                                                 ...   \n",
       "180  /Users/guru/research/projects/gnucobol/libcob/...   \n",
       "181  /Users/guru/research/projects/gnucobol/libcob/...   \n",
       "182  /Users/guru/research/projects/gnucobol/libcob/...   \n",
       "183  /Users/guru/research/projects/gnucobol/libcob/...   \n",
       "184  /Users/guru/research/projects/gnucobol/libcob/...   \n",
       "\n",
       "                                                  code context     cwe  \\\n",
       "0    static void\\noutput_storage (const char *fmt, ...          Benign   \n",
       "1    void\\ncob_gen_optim (const enum cb_optim val)\\...          Benign   \n",
       "2    static int\\nwas_prev_warn (int linen, int tf)\\...          Benign   \n",
       "3    static void\\ncopy_file_line (cb_tree e, cb_tre...          Benign   \n",
       "4    static size_t\\nword_hash (const unsigned char ...          Benign   \n",
       "..                                                 ...     ...     ...   \n",
       "180  static void\\ndump_field_internal (const int le...          Benign   \n",
       "181  void\\ncob_dump_field (const int level, const c...          Benign   \n",
       "182  void\\ncob_dump_field_ext (const int level, con...          Benign   \n",
       "183  void\\ncob_accept (cob_field *f)\\n{\\n\\tunsigned...          Benign   \n",
       "184  void\\ncob_init_termio (cob_global *lptr, cob_s...          Benign   \n",
       "\n",
       "                                    project  \n",
       "0    /Users/guru/research/projects/gnucobol  \n",
       "1    /Users/guru/research/projects/gnucobol  \n",
       "2    /Users/guru/research/projects/gnucobol  \n",
       "3    /Users/guru/research/projects/gnucobol  \n",
       "4    /Users/guru/research/projects/gnucobol  \n",
       "..                                      ...  \n",
       "180  /Users/guru/research/projects/gnucobol  \n",
       "181  /Users/guru/research/projects/gnucobol  \n",
       "182  /Users/guru/research/projects/gnucobol  \n",
       "183  /Users/guru/research/projects/gnucobol  \n",
       "184  /Users/guru/research/projects/gnucobol  \n",
       "\n",
       "[185 rows x 5 columns]"
      ]
     },
     "execution_count": 208,
     "metadata": {},
     "output_type": "execute_result"
    }
   ],
   "source": [
    "dff[dff.cwe=='Benign'].drop_duplicates().reset_index(drop=True)"
   ]
  },
  {
   "cell_type": "code",
   "execution_count": 209,
   "metadata": {},
   "outputs": [
    {
     "name": "stdout",
     "output_type": "stream",
     "text": [
      "217\n"
     ]
    },
    {
     "data": {
      "text/html": [
       "<div>\n",
       "<style scoped>\n",
       "    .dataframe tbody tr th:only-of-type {\n",
       "        vertical-align: middle;\n",
       "    }\n",
       "\n",
       "    .dataframe tbody tr th {\n",
       "        vertical-align: top;\n",
       "    }\n",
       "\n",
       "    .dataframe thead th {\n",
       "        text-align: right;\n",
       "    }\n",
       "</style>\n",
       "<table border=\"1\" class=\"dataframe\">\n",
       "  <thead>\n",
       "    <tr style=\"text-align: right;\">\n",
       "      <th></th>\n",
       "      <th>file</th>\n",
       "      <th>code</th>\n",
       "      <th>context</th>\n",
       "      <th>cwe</th>\n",
       "      <th>project</th>\n",
       "    </tr>\n",
       "  </thead>\n",
       "  <tbody>\n",
       "    <tr>\n",
       "      <th>0</th>\n",
       "      <td>/Users/guru/research/projects/gnucobol/cobc/co...</td>\n",
       "      <td>static void\\noutput_storage (const char *fmt, ...</td>\n",
       "      <td>vfprintf (cb_storage_file, fmt, ap);</td>\n",
       "      <td>CWE-unknown</td>\n",
       "      <td>/Users/guru/research/projects/gnucobol</td>\n",
       "    </tr>\n",
       "    <tr>\n",
       "      <th>1</th>\n",
       "      <td>/Users/guru/research/projects/gnucobol/cobc/tr...</td>\n",
       "      <td>static void\\nlookup_word (struct cb_reference ...</td>\n",
       "      <td>size_element = sprintf (s, \"%s%s\", buff, CB_CH...</td>\n",
       "      <td>CWE-unknown</td>\n",
       "      <td>/Users/guru/research/projects/gnucobol</td>\n",
       "    </tr>\n",
       "    <tr>\n",
       "      <th>2</th>\n",
       "      <td>/Users/guru/research/projects/gnucobol/cobc/tr...</td>\n",
       "      <td>static void\\nlookup_word (struct cb_reference ...</td>\n",
       "      <td>size_refmod = sprintf (s, \" (%s:\", buff);</td>\n",
       "      <td>CWE-unknown</td>\n",
       "      <td>/Users/guru/research/projects/gnucobol</td>\n",
       "    </tr>\n",
       "    <tr>\n",
       "      <th>3</th>\n",
       "      <td>/Users/guru/research/projects/gnucobol/cobc/tr...</td>\n",
       "      <td>static void\\nlookup_word (struct cb_reference ...</td>\n",
       "      <td>size_refmod += sprintf (s + size_refmod, \"%s)\"...</td>\n",
       "      <td>CWE-unknown</td>\n",
       "      <td>/Users/guru/research/projects/gnucobol</td>\n",
       "    </tr>\n",
       "    <tr>\n",
       "      <th>4</th>\n",
       "      <td>/Users/guru/research/projects/gnucobol/cobc/tr...</td>\n",
       "      <td>static void\\nlookup_word (struct cb_reference ...</td>\n",
       "      <td>size_refmod = sprintf (s, \" (%s:)\", buff);</td>\n",
       "      <td>CWE-unknown</td>\n",
       "      <td>/Users/guru/research/projects/gnucobol</td>\n",
       "    </tr>\n",
       "  </tbody>\n",
       "</table>\n",
       "</div>"
      ],
      "text/plain": [
       "                                                file  \\\n",
       "0  /Users/guru/research/projects/gnucobol/cobc/co...   \n",
       "1  /Users/guru/research/projects/gnucobol/cobc/tr...   \n",
       "2  /Users/guru/research/projects/gnucobol/cobc/tr...   \n",
       "3  /Users/guru/research/projects/gnucobol/cobc/tr...   \n",
       "4  /Users/guru/research/projects/gnucobol/cobc/tr...   \n",
       "\n",
       "                                                code  \\\n",
       "0  static void\\noutput_storage (const char *fmt, ...   \n",
       "1  static void\\nlookup_word (struct cb_reference ...   \n",
       "2  static void\\nlookup_word (struct cb_reference ...   \n",
       "3  static void\\nlookup_word (struct cb_reference ...   \n",
       "4  static void\\nlookup_word (struct cb_reference ...   \n",
       "\n",
       "                                             context          cwe  \\\n",
       "0               vfprintf (cb_storage_file, fmt, ap);  CWE-unknown   \n",
       "1  size_element = sprintf (s, \"%s%s\", buff, CB_CH...  CWE-unknown   \n",
       "2          size_refmod = sprintf (s, \" (%s:\", buff);  CWE-unknown   \n",
       "3  size_refmod += sprintf (s + size_refmod, \"%s)\"...  CWE-unknown   \n",
       "4         size_refmod = sprintf (s, \" (%s:)\", buff);  CWE-unknown   \n",
       "\n",
       "                                  project  \n",
       "0  /Users/guru/research/projects/gnucobol  \n",
       "1  /Users/guru/research/projects/gnucobol  \n",
       "2  /Users/guru/research/projects/gnucobol  \n",
       "3  /Users/guru/research/projects/gnucobol  \n",
       "4  /Users/guru/research/projects/gnucobol  "
      ]
     },
     "execution_count": 209,
     "metadata": {},
     "output_type": "execute_result"
    }
   ],
   "source": [
    "print(len(dff[dff.cwe!='Benign'].reset_index(drop=True)))\n",
    "dff[dff.cwe!='Benign'].drop_duplicates().reset_index(drop=True).head(5)"
   ]
  },
  {
   "cell_type": "code",
   "execution_count": 210,
   "metadata": {},
   "outputs": [
    {
     "data": {
      "text/html": [
       "<div>\n",
       "<style scoped>\n",
       "    .dataframe tbody tr th:only-of-type {\n",
       "        vertical-align: middle;\n",
       "    }\n",
       "\n",
       "    .dataframe tbody tr th {\n",
       "        vertical-align: top;\n",
       "    }\n",
       "\n",
       "    .dataframe thead th {\n",
       "        text-align: right;\n",
       "    }\n",
       "</style>\n",
       "<table border=\"1\" class=\"dataframe\">\n",
       "  <thead>\n",
       "    <tr style=\"text-align: right;\">\n",
       "      <th></th>\n",
       "      <th>file</th>\n",
       "      <th>code</th>\n",
       "      <th>context</th>\n",
       "      <th>cwe</th>\n",
       "      <th>project</th>\n",
       "    </tr>\n",
       "  </thead>\n",
       "  <tbody>\n",
       "    <tr>\n",
       "      <th>0</th>\n",
       "      <td>/Users/guru/research/projects/gnucobol/cobc/co...</td>\n",
       "      <td>static void\\noutput_storage (const char *fmt, ...</td>\n",
       "      <td>vfprintf (cb_storage_file, fmt, ap);</td>\n",
       "      <td>CWE-unknown</td>\n",
       "      <td>/Users/guru/research/projects/gnucobol</td>\n",
       "    </tr>\n",
       "    <tr>\n",
       "      <th>1</th>\n",
       "      <td>/Users/guru/research/projects/gnucobol/cobc/co...</td>\n",
       "      <td>static void\\noutput_storage (const char *fmt, ...</td>\n",
       "      <td></td>\n",
       "      <td>Benign</td>\n",
       "      <td>/Users/guru/research/projects/gnucobol</td>\n",
       "    </tr>\n",
       "    <tr>\n",
       "      <th>2</th>\n",
       "      <td>/Users/guru/research/projects/gnucobol/cobc/co...</td>\n",
       "      <td>void\\ncob_gen_optim (const enum cb_optim val)\\...</td>\n",
       "      <td></td>\n",
       "      <td>Benign</td>\n",
       "      <td>/Users/guru/research/projects/gnucobol</td>\n",
       "    </tr>\n",
       "    <tr>\n",
       "      <th>3</th>\n",
       "      <td>/Users/guru/research/projects/gnucobol/cobc/tr...</td>\n",
       "      <td>static int\\nwas_prev_warn (int linen, int tf)\\...</td>\n",
       "      <td></td>\n",
       "      <td>Benign</td>\n",
       "      <td>/Users/guru/research/projects/gnucobol</td>\n",
       "    </tr>\n",
       "    <tr>\n",
       "      <th>4</th>\n",
       "      <td>/Users/guru/research/projects/gnucobol/cobc/tr...</td>\n",
       "      <td>static void\\ncopy_file_line (cb_tree e, cb_tre...</td>\n",
       "      <td></td>\n",
       "      <td>Benign</td>\n",
       "      <td>/Users/guru/research/projects/gnucobol</td>\n",
       "    </tr>\n",
       "    <tr>\n",
       "      <th>...</th>\n",
       "      <td>...</td>\n",
       "      <td>...</td>\n",
       "      <td>...</td>\n",
       "      <td>...</td>\n",
       "      <td>...</td>\n",
       "    </tr>\n",
       "    <tr>\n",
       "      <th>397</th>\n",
       "      <td>/Users/guru/research/projects/gnucobol/libcob/...</td>\n",
       "      <td>void\\ncob_dump_field_ext (const int level, con...</td>\n",
       "      <td></td>\n",
       "      <td>Benign</td>\n",
       "      <td>/Users/guru/research/projects/gnucobol</td>\n",
       "    </tr>\n",
       "    <tr>\n",
       "      <th>398</th>\n",
       "      <td>/Users/guru/research/projects/gnucobol/libcob/...</td>\n",
       "      <td>void\\ncob_accept (cob_field *f)\\n{\\n\\tunsigned...</td>\n",
       "      <td></td>\n",
       "      <td>Benign</td>\n",
       "      <td>/Users/guru/research/projects/gnucobol</td>\n",
       "    </tr>\n",
       "    <tr>\n",
       "      <th>399</th>\n",
       "      <td>/Users/guru/research/projects/gnucobol/libcob/...</td>\n",
       "      <td>void\\ncob_accept (cob_field *f)\\n{\\n\\tunsigned...</td>\n",
       "      <td>memcpy (COB_MODULE_PTR-&gt;crt_status-&gt;data, \"0\\0...</td>\n",
       "      <td>CWE-unknown</td>\n",
       "      <td>/Users/guru/research/projects/gnucobol</td>\n",
       "    </tr>\n",
       "    <tr>\n",
       "      <th>400</th>\n",
       "      <td>/Users/guru/research/projects/gnucobol/libcob/...</td>\n",
       "      <td>void\\ncob_accept (cob_field *f)\\n{\\n\\tunsigned...</td>\n",
       "      <td>ipchr = getchar ();</td>\n",
       "      <td>CWE-unknown</td>\n",
       "      <td>/Users/guru/research/projects/gnucobol</td>\n",
       "    </tr>\n",
       "    <tr>\n",
       "      <th>401</th>\n",
       "      <td>/Users/guru/research/projects/gnucobol/libcob/...</td>\n",
       "      <td>void\\ncob_init_termio (cob_global *lptr, cob_s...</td>\n",
       "      <td></td>\n",
       "      <td>Benign</td>\n",
       "      <td>/Users/guru/research/projects/gnucobol</td>\n",
       "    </tr>\n",
       "  </tbody>\n",
       "</table>\n",
       "<p>402 rows × 5 columns</p>\n",
       "</div>"
      ],
      "text/plain": [
       "                                                  file  \\\n",
       "0    /Users/guru/research/projects/gnucobol/cobc/co...   \n",
       "1    /Users/guru/research/projects/gnucobol/cobc/co...   \n",
       "2    /Users/guru/research/projects/gnucobol/cobc/co...   \n",
       "3    /Users/guru/research/projects/gnucobol/cobc/tr...   \n",
       "4    /Users/guru/research/projects/gnucobol/cobc/tr...   \n",
       "..                                                 ...   \n",
       "397  /Users/guru/research/projects/gnucobol/libcob/...   \n",
       "398  /Users/guru/research/projects/gnucobol/libcob/...   \n",
       "399  /Users/guru/research/projects/gnucobol/libcob/...   \n",
       "400  /Users/guru/research/projects/gnucobol/libcob/...   \n",
       "401  /Users/guru/research/projects/gnucobol/libcob/...   \n",
       "\n",
       "                                                  code  \\\n",
       "0    static void\\noutput_storage (const char *fmt, ...   \n",
       "1    static void\\noutput_storage (const char *fmt, ...   \n",
       "2    void\\ncob_gen_optim (const enum cb_optim val)\\...   \n",
       "3    static int\\nwas_prev_warn (int linen, int tf)\\...   \n",
       "4    static void\\ncopy_file_line (cb_tree e, cb_tre...   \n",
       "..                                                 ...   \n",
       "397  void\\ncob_dump_field_ext (const int level, con...   \n",
       "398  void\\ncob_accept (cob_field *f)\\n{\\n\\tunsigned...   \n",
       "399  void\\ncob_accept (cob_field *f)\\n{\\n\\tunsigned...   \n",
       "400  void\\ncob_accept (cob_field *f)\\n{\\n\\tunsigned...   \n",
       "401  void\\ncob_init_termio (cob_global *lptr, cob_s...   \n",
       "\n",
       "                                               context          cwe  \\\n",
       "0                 vfprintf (cb_storage_file, fmt, ap);  CWE-unknown   \n",
       "1                                                            Benign   \n",
       "2                                                            Benign   \n",
       "3                                                            Benign   \n",
       "4                                                            Benign   \n",
       "..                                                 ...          ...   \n",
       "397                                                          Benign   \n",
       "398                                                          Benign   \n",
       "399  memcpy (COB_MODULE_PTR->crt_status->data, \"0\\0...  CWE-unknown   \n",
       "400                                ipchr = getchar ();  CWE-unknown   \n",
       "401                                                          Benign   \n",
       "\n",
       "                                    project  \n",
       "0    /Users/guru/research/projects/gnucobol  \n",
       "1    /Users/guru/research/projects/gnucobol  \n",
       "2    /Users/guru/research/projects/gnucobol  \n",
       "3    /Users/guru/research/projects/gnucobol  \n",
       "4    /Users/guru/research/projects/gnucobol  \n",
       "..                                      ...  \n",
       "397  /Users/guru/research/projects/gnucobol  \n",
       "398  /Users/guru/research/projects/gnucobol  \n",
       "399  /Users/guru/research/projects/gnucobol  \n",
       "400  /Users/guru/research/projects/gnucobol  \n",
       "401  /Users/guru/research/projects/gnucobol  \n",
       "\n",
       "[402 rows x 5 columns]"
      ]
     },
     "execution_count": 210,
     "metadata": {},
     "output_type": "execute_result"
    }
   ],
   "source": [
    "# dff_new = dff.drop_duplicates().reset_index(drop=True)\n",
    "dff.loc[dff.astype(str).drop_duplicates().index].reset_index(drop=True)"
   ]
  },
  {
   "cell_type": "code",
   "execution_count": 211,
   "metadata": {},
   "outputs": [
    {
     "name": "stdout",
     "output_type": "stream",
     "text": [
      "========================================\n",
      "Removing duplicates and ambiquious samples...\n",
      "----------------------------------------\n",
      "Original data size before filtering: 402\n",
      "Step1-filtering on [code and cwe]: 222 [filtered 180]\n",
      "Step2-filtering on [code] with vuls: 185 [filtered 37]\n",
      "========================================\n"
     ]
    }
   ],
   "source": [
    "def filter_benign(code_dup, cwe):\n",
    "    \"\"\" masking to filter duplicates and benign \n",
    "    keeping vulnerable samples as it is.\n",
    "    \"\"\"\n",
    "    if code_dup == True and cwe == 'Benign':\n",
    "        return True\n",
    "    else:\n",
    "        return False\n",
    "\n",
    "\n",
    "def filter_dulicates_and_ambiquius(df):\n",
    "    \"\"\" apply filtering to remove duplicates and ambiquious samples\n",
    "    \"\"\"\n",
    "    print('='*40)\n",
    "    print('Removing duplicates and ambiquious samples...')\n",
    "    print('-'*40)\n",
    "    df = df.sort_values(by=['code','cwe'], ascending=False)\n",
    "    original_size = len(df)\n",
    "    print(f'Original data size before filtering: {len(df)}')\n",
    "\n",
    "    ## step1: remove duplicates checking ['code', 'cwe']\n",
    "    df = df.drop_duplicates(subset=['code', 'cwe']).reset_index(drop=True)\n",
    "    step1_size = len(df)\n",
    "    print(f\"Step1-filtering on [code and cwe]: {len(df)} [filtered {original_size-step1_size}]\")\n",
    "\n",
    "    ## step2: remove duplicates checking ['code']\n",
    "    df['code_dup'] = df['code'].duplicated()\n",
    "    # df = df[~df['code_dup']] # this removes vul samples as well\n",
    "    df['filter_mask'] = df.apply(lambda row: filter_benign(row.code_dup, row.cwe), axis=1)\n",
    "    df = df[~df['filter_mask']].reset_index(drop=True)\n",
    "    df = df.drop(labels=['code_dup', 'filter_mask'], axis=1)\n",
    "    step2_size = len(df)\n",
    "    print(f\"Step2-filtering on [code] with vuls: {len(df)} [filtered {step1_size-step2_size}]\")\n",
    "    print('='*40)\n",
    "    return df\n",
    "\n",
    "df = filter_dulicates_and_ambiquius(dff)"
   ]
  },
  {
   "cell_type": "code",
   "execution_count": 212,
   "metadata": {},
   "outputs": [
    {
     "data": {
      "text/plain": [
       "Benign         148\n",
       "CWE-unknown     37\n",
       "Name: cwe, dtype: int64"
      ]
     },
     "execution_count": 212,
     "metadata": {},
     "output_type": "execute_result"
    }
   ],
   "source": [
    "df.cwe.value_counts()"
   ]
  },
  {
   "cell_type": "code",
   "execution_count": 213,
   "metadata": {},
   "outputs": [
    {
     "data": {
      "text/plain": [
       "CWE-unknown    217\n",
       "Benign         185\n",
       "Name: cwe, dtype: int64"
      ]
     },
     "execution_count": 213,
     "metadata": {},
     "output_type": "execute_result"
    }
   ],
   "source": [
    "dff.cwe.value_counts()"
   ]
  },
  {
   "cell_type": "code",
   "execution_count": 214,
   "metadata": {},
   "outputs": [
    {
     "data": {
      "text/html": [
       "<div>\n",
       "<style scoped>\n",
       "    .dataframe tbody tr th:only-of-type {\n",
       "        vertical-align: middle;\n",
       "    }\n",
       "\n",
       "    .dataframe tbody tr th {\n",
       "        vertical-align: top;\n",
       "    }\n",
       "\n",
       "    .dataframe thead th {\n",
       "        text-align: right;\n",
       "    }\n",
       "</style>\n",
       "<table border=\"1\" class=\"dataframe\">\n",
       "  <thead>\n",
       "    <tr style=\"text-align: right;\">\n",
       "      <th></th>\n",
       "      <th>file</th>\n",
       "      <th>code</th>\n",
       "      <th>context</th>\n",
       "      <th>cwe</th>\n",
       "      <th>project</th>\n",
       "      <th>code_dup</th>\n",
       "      <th>filter_mask</th>\n",
       "    </tr>\n",
       "  </thead>\n",
       "  <tbody>\n",
       "    <tr>\n",
       "      <th>0</th>\n",
       "      <td>data/projects/contiki-2.4/apps/shell/shell-htt...</td>\n",
       "      <td>void\\nwebserver_log_file(uip_ipaddr_t *request...</td>\n",
       "      <td>char buf[48];</td>\n",
       "      <td>CWE-unknown</td>\n",
       "      <td>data/projects/contiki-2.4/apps/shell/</td>\n",
       "      <td>False</td>\n",
       "      <td>False</td>\n",
       "    </tr>\n",
       "    <tr>\n",
       "      <th>1</th>\n",
       "      <td>data/projects/contiki-2.4/apps/shell/shell-htt...</td>\n",
       "      <td>void\\nwebserver_log(char *msg)\\n{\\n  shell_out...</td>\n",
       "      <td></td>\n",
       "      <td>Benign</td>\n",
       "      <td>data/projects/contiki-2.4/apps/shell/</td>\n",
       "      <td>False</td>\n",
       "      <td>False</td>\n",
       "    </tr>\n",
       "    <tr>\n",
       "      <th>2</th>\n",
       "      <td>data/projects/contiki-2.4/apps/shell/shell-wget.c</td>\n",
       "      <td>void\\nwebclient_timedout(void)\\n{\\n  shell_out...</td>\n",
       "      <td></td>\n",
       "      <td>Benign</td>\n",
       "      <td>data/projects/contiki-2.4/apps/shell/</td>\n",
       "      <td>False</td>\n",
       "      <td>False</td>\n",
       "    </tr>\n",
       "    <tr>\n",
       "      <th>3</th>\n",
       "      <td>data/projects/contiki-2.4/apps/shell/shell-wget.c</td>\n",
       "      <td>void\\nwebclient_datahandler(char *data, u16_t ...</td>\n",
       "      <td></td>\n",
       "      <td>Benign</td>\n",
       "      <td>data/projects/contiki-2.4/apps/shell/</td>\n",
       "      <td>False</td>\n",
       "      <td>False</td>\n",
       "    </tr>\n",
       "    <tr>\n",
       "      <th>4</th>\n",
       "      <td>data/projects/contiki-2.4/apps/shell/shell-wget.c</td>\n",
       "      <td>void\\nwebclient_connected(void)\\n{\\n  shell_ou...</td>\n",
       "      <td></td>\n",
       "      <td>Benign</td>\n",
       "      <td>data/projects/contiki-2.4/apps/shell/</td>\n",
       "      <td>False</td>\n",
       "      <td>False</td>\n",
       "    </tr>\n",
       "    <tr>\n",
       "      <th>...</th>\n",
       "      <td>...</td>\n",
       "      <td>...</td>\n",
       "      <td>...</td>\n",
       "      <td>...</td>\n",
       "      <td>...</td>\n",
       "      <td>...</td>\n",
       "      <td>...</td>\n",
       "    </tr>\n",
       "    <tr>\n",
       "      <th>141</th>\n",
       "      <td>data/projects/contiki-2.4/apps/shell/shell.c</td>\n",
       "      <td>int\\nshell_start_command(char *commandline, in...</td>\n",
       "      <td></td>\n",
       "      <td>Benign</td>\n",
       "      <td>data/projects/contiki-2.4/apps/shell/</td>\n",
       "      <td>False</td>\n",
       "      <td>False</td>\n",
       "    </tr>\n",
       "    <tr>\n",
       "      <th>142</th>\n",
       "      <td>/Users/guru/research/projects/gnucobol-3.2/lib...</td>\n",
       "      <td>__inline\\n#else\\n#ifdef __cplusplus\\ninline\\n#...</td>\n",
       "      <td>return translation;</td>\n",
       "      <td>CWE-unknown</td>\n",
       "      <td>/Users/guru/research/projects/gnucobol-3.2/lib/</td>\n",
       "      <td>False</td>\n",
       "      <td>False</td>\n",
       "    </tr>\n",
       "    <tr>\n",
       "      <th>143</th>\n",
       "      <td>/Users/guru/research/projects/gnucobol-3.2/lib...</td>\n",
       "      <td>__inline\\n#else\\n#ifdef __cplusplus\\ninline\\n#...</td>\n",
       "      <td>return translation;</td>\n",
       "      <td>CWE-unknown</td>\n",
       "      <td>/Users/guru/research/projects/gnucobol-3.2/lib/</td>\n",
       "      <td>False</td>\n",
       "      <td>False</td>\n",
       "    </tr>\n",
       "    <tr>\n",
       "      <th>144</th>\n",
       "      <td>/Users/guru/research/projects/gnucobol-3.2/lib...</td>\n",
       "      <td>__inline\\n#else\\n#ifdef __cplusplus\\ninline\\n#...</td>\n",
       "      <td>char msg_ctxt_id[msgctxt_len + msgid_len];</td>\n",
       "      <td>CWE-unknown</td>\n",
       "      <td>/Users/guru/research/projects/gnucobol-3.2/lib/</td>\n",
       "      <td>False</td>\n",
       "      <td>False</td>\n",
       "    </tr>\n",
       "    <tr>\n",
       "      <th>145</th>\n",
       "      <td>/Users/guru/research/projects/gnucobol-3.2/lib...</td>\n",
       "      <td>__inline\\n#else\\n#ifdef __cplusplus\\ninline\\n#...</td>\n",
       "      <td>char msg_ctxt_id[msgctxt_len + msgid_len];</td>\n",
       "      <td>CWE-unknown</td>\n",
       "      <td>/Users/guru/research/projects/gnucobol-3.2/lib/</td>\n",
       "      <td>False</td>\n",
       "      <td>False</td>\n",
       "    </tr>\n",
       "  </tbody>\n",
       "</table>\n",
       "<p>146 rows × 7 columns</p>\n",
       "</div>"
      ],
      "text/plain": [
       "                                                  file  \\\n",
       "0    data/projects/contiki-2.4/apps/shell/shell-htt...   \n",
       "1    data/projects/contiki-2.4/apps/shell/shell-htt...   \n",
       "2    data/projects/contiki-2.4/apps/shell/shell-wget.c   \n",
       "3    data/projects/contiki-2.4/apps/shell/shell-wget.c   \n",
       "4    data/projects/contiki-2.4/apps/shell/shell-wget.c   \n",
       "..                                                 ...   \n",
       "141       data/projects/contiki-2.4/apps/shell/shell.c   \n",
       "142  /Users/guru/research/projects/gnucobol-3.2/lib...   \n",
       "143  /Users/guru/research/projects/gnucobol-3.2/lib...   \n",
       "144  /Users/guru/research/projects/gnucobol-3.2/lib...   \n",
       "145  /Users/guru/research/projects/gnucobol-3.2/lib...   \n",
       "\n",
       "                                                  code  \\\n",
       "0    void\\nwebserver_log_file(uip_ipaddr_t *request...   \n",
       "1    void\\nwebserver_log(char *msg)\\n{\\n  shell_out...   \n",
       "2    void\\nwebclient_timedout(void)\\n{\\n  shell_out...   \n",
       "3    void\\nwebclient_datahandler(char *data, u16_t ...   \n",
       "4    void\\nwebclient_connected(void)\\n{\\n  shell_ou...   \n",
       "..                                                 ...   \n",
       "141  int\\nshell_start_command(char *commandline, in...   \n",
       "142  __inline\\n#else\\n#ifdef __cplusplus\\ninline\\n#...   \n",
       "143  __inline\\n#else\\n#ifdef __cplusplus\\ninline\\n#...   \n",
       "144  __inline\\n#else\\n#ifdef __cplusplus\\ninline\\n#...   \n",
       "145  __inline\\n#else\\n#ifdef __cplusplus\\ninline\\n#...   \n",
       "\n",
       "                                        context          cwe  \\\n",
       "0                                 char buf[48];  CWE-unknown   \n",
       "1                                                     Benign   \n",
       "2                                                     Benign   \n",
       "3                                                     Benign   \n",
       "4                                                     Benign   \n",
       "..                                          ...          ...   \n",
       "141                                                   Benign   \n",
       "142                         return translation;  CWE-unknown   \n",
       "143                         return translation;  CWE-unknown   \n",
       "144  char msg_ctxt_id[msgctxt_len + msgid_len];  CWE-unknown   \n",
       "145  char msg_ctxt_id[msgctxt_len + msgid_len];  CWE-unknown   \n",
       "\n",
       "                                             project  code_dup  filter_mask  \n",
       "0              data/projects/contiki-2.4/apps/shell/     False        False  \n",
       "1              data/projects/contiki-2.4/apps/shell/     False        False  \n",
       "2              data/projects/contiki-2.4/apps/shell/     False        False  \n",
       "3              data/projects/contiki-2.4/apps/shell/     False        False  \n",
       "4              data/projects/contiki-2.4/apps/shell/     False        False  \n",
       "..                                               ...       ...          ...  \n",
       "141            data/projects/contiki-2.4/apps/shell/     False        False  \n",
       "142  /Users/guru/research/projects/gnucobol-3.2/lib/     False        False  \n",
       "143  /Users/guru/research/projects/gnucobol-3.2/lib/     False        False  \n",
       "144  /Users/guru/research/projects/gnucobol-3.2/lib/     False        False  \n",
       "145  /Users/guru/research/projects/gnucobol-3.2/lib/     False        False  \n",
       "\n",
       "[146 rows x 7 columns]"
      ]
     },
     "execution_count": 214,
     "metadata": {},
     "output_type": "execute_result"
    }
   ],
   "source": [
    "dff_sort.drop(dff_sort[dff_sort.filter_mask].index).reset_index(drop=True)"
   ]
  },
  {
   "cell_type": "code",
   "execution_count": 215,
   "metadata": {},
   "outputs": [
    {
     "data": {
      "text/plain": [
       "Benign         144\n",
       "CWE-unknown     19\n",
       "Name: cwe, dtype: int64"
      ]
     },
     "execution_count": 215,
     "metadata": {},
     "output_type": "execute_result"
    }
   ],
   "source": [
    "dff_sort.sort_values(by=['code', 'cwe']).cwe.value_counts()"
   ]
  },
  {
   "cell_type": "code",
   "execution_count": 216,
   "metadata": {},
   "outputs": [
    {
     "data": {
      "text/html": [
       "<div>\n",
       "<style scoped>\n",
       "    .dataframe tbody tr th:only-of-type {\n",
       "        vertical-align: middle;\n",
       "    }\n",
       "\n",
       "    .dataframe tbody tr th {\n",
       "        vertical-align: top;\n",
       "    }\n",
       "\n",
       "    .dataframe thead th {\n",
       "        text-align: right;\n",
       "    }\n",
       "</style>\n",
       "<table border=\"1\" class=\"dataframe\">\n",
       "  <thead>\n",
       "    <tr style=\"text-align: right;\">\n",
       "      <th></th>\n",
       "      <th>file</th>\n",
       "      <th>code</th>\n",
       "      <th>context</th>\n",
       "      <th>cwe</th>\n",
       "      <th>project</th>\n",
       "      <th>code_dup</th>\n",
       "      <th>filter_mask</th>\n",
       "    </tr>\n",
       "  </thead>\n",
       "  <tbody>\n",
       "    <tr>\n",
       "      <th>0</th>\n",
       "      <td>/Users/guru/research/projects/gnucobol-3.2/lib...</td>\n",
       "      <td>__inline\\n#else\\n#ifdef __cplusplus\\ninline\\n#...</td>\n",
       "      <td>return translation;</td>\n",
       "      <td>CWE-unknown</td>\n",
       "      <td>/Users/guru/research/projects/gnucobol-3.2/lib/</td>\n",
       "      <td>False</td>\n",
       "      <td>False</td>\n",
       "    </tr>\n",
       "    <tr>\n",
       "      <th>1</th>\n",
       "      <td>/Users/guru/research/projects/gnucobol-3.2/lib...</td>\n",
       "      <td>__inline\\n#else\\n#ifdef __cplusplus\\ninline\\n#...</td>\n",
       "      <td>return translation;</td>\n",
       "      <td>CWE-unknown</td>\n",
       "      <td>/Users/guru/research/projects/gnucobol-3.2/lib/</td>\n",
       "      <td>False</td>\n",
       "      <td>False</td>\n",
       "    </tr>\n",
       "    <tr>\n",
       "      <th>2</th>\n",
       "      <td>data/projects/contiki-2.4/apps/shell/shell.c</td>\n",
       "      <td>static struct shell_command *\\nstart_command(c...</td>\n",
       "      <td>command_len = (int)strlen(commandline);</td>\n",
       "      <td>CWE-unknown</td>\n",
       "      <td>data/projects/contiki-2.4/apps/shell/</td>\n",
       "      <td>False</td>\n",
       "      <td>False</td>\n",
       "    </tr>\n",
       "    <tr>\n",
       "      <th>3</th>\n",
       "      <td>data/projects/contiki-2.4/apps/shell/shell-net...</td>\n",
       "      <td>static void\\nmemcpy_misaligned(void *dest, con...</td>\n",
       "      <td>memcpy(dest, source, len);</td>\n",
       "      <td>CWE-unknown</td>\n",
       "      <td>data/projects/contiki-2.4/apps/shell/</td>\n",
       "      <td>False</td>\n",
       "      <td>False</td>\n",
       "    </tr>\n",
       "    <tr>\n",
       "      <th>4</th>\n",
       "      <td>data/projects/contiki-2.4/apps/shell/shell-wget.c</td>\n",
       "      <td>static void\\nopen_url(char *url)\\n{\\n  unsigne...</td>\n",
       "      <td>static char host[32];</td>\n",
       "      <td>CWE-unknown</td>\n",
       "      <td>data/projects/contiki-2.4/apps/shell/</td>\n",
       "      <td>False</td>\n",
       "      <td>False</td>\n",
       "    </tr>\n",
       "    <tr>\n",
       "      <th>5</th>\n",
       "      <td>data/projects/contiki-2.4/apps/shell/shell-pow...</td>\n",
       "      <td>static void\\nprintpower(struct power_msg *msg)...</td>\n",
       "      <td>char buf[100];</td>\n",
       "      <td>CWE-unknown</td>\n",
       "      <td>data/projects/contiki-2.4/apps/shell/</td>\n",
       "      <td>False</td>\n",
       "      <td>False</td>\n",
       "    </tr>\n",
       "    <tr>\n",
       "      <th>6</th>\n",
       "      <td>data/projects/contiki-2.4/apps/shell/shell-pow...</td>\n",
       "      <td>static void\\nprintpowergraph(struct power_msg ...</td>\n",
       "      <td>char buf[MAX_POWERGRAPH];</td>\n",
       "      <td>CWE-unknown</td>\n",
       "      <td>data/projects/contiki-2.4/apps/shell/</td>\n",
       "      <td>False</td>\n",
       "      <td>False</td>\n",
       "    </tr>\n",
       "    <tr>\n",
       "      <th>7</th>\n",
       "      <td>data/projects/contiki-2.4/apps/shell/shell-rime.c</td>\n",
       "      <td>static void\\nrecv_collect(const rimeaddr_t *or...</td>\n",
       "      <td>char buf[40];</td>\n",
       "      <td>CWE-unknown</td>\n",
       "      <td>data/projects/contiki-2.4/apps/shell/</td>\n",
       "      <td>False</td>\n",
       "      <td>False</td>\n",
       "    </tr>\n",
       "    <tr>\n",
       "      <th>8</th>\n",
       "      <td>data/projects/contiki-2.4/apps/shell/shell-rim...</td>\n",
       "      <td>static void\\nrecv_mesh(struct mesh_conn *c, co...</td>\n",
       "      <td>char buf[64];</td>\n",
       "      <td>CWE-unknown</td>\n",
       "      <td>data/projects/contiki-2.4/apps/shell/</td>\n",
       "      <td>False</td>\n",
       "      <td>False</td>\n",
       "    </tr>\n",
       "    <tr>\n",
       "      <th>9</th>\n",
       "      <td>data/projects/contiki-2.4/apps/shell/shell-rim...</td>\n",
       "      <td>static void\\nrecv_uc(struct unicast_conn *c, c...</td>\n",
       "      <td>memcpy(output_blob.data, msg-&gt;data, packetbuf_...</td>\n",
       "      <td>CWE-unknown</td>\n",
       "      <td>data/projects/contiki-2.4/apps/shell/</td>\n",
       "      <td>False</td>\n",
       "      <td>False</td>\n",
       "    </tr>\n",
       "    <tr>\n",
       "      <th>10</th>\n",
       "      <td>data/projects/contiki-2.4/apps/shell/shell-tcp...</td>\n",
       "      <td>static void\\nsend_line(struct telnet_state *s,...</td>\n",
       "      <td>strncpy(outputline, data, MIN(sizeof(outputlin...</td>\n",
       "      <td>CWE-unknown</td>\n",
       "      <td>data/projects/contiki-2.4/apps/shell/</td>\n",
       "      <td>False</td>\n",
       "      <td>False</td>\n",
       "    </tr>\n",
       "    <tr>\n",
       "      <th>11</th>\n",
       "      <td>data/projects/contiki-2.4/apps/shell/shell-sen...</td>\n",
       "      <td>static void\\nwrite_chunk(struct rucb_conn *c, ...</td>\n",
       "      <td>char buf[100];</td>\n",
       "      <td>CWE-unknown</td>\n",
       "      <td>data/projects/contiki-2.4/apps/shell/</td>\n",
       "      <td>False</td>\n",
       "      <td>False</td>\n",
       "    </tr>\n",
       "    <tr>\n",
       "      <th>12</th>\n",
       "      <td>data/projects/contiki-2.4/apps/shell/shell-irc.c</td>\n",
       "      <td>void\\nircc_text_output(struct ircc_state *s, c...</td>\n",
       "      <td>char buf1[MAX_NICKLEN + MAX_SERVERLEN];</td>\n",
       "      <td>CWE-unknown</td>\n",
       "      <td>data/projects/contiki-2.4/apps/shell/</td>\n",
       "      <td>False</td>\n",
       "      <td>False</td>\n",
       "    </tr>\n",
       "    <tr>\n",
       "      <th>13</th>\n",
       "      <td>data/projects/contiki-2.4/apps/shell/gui-shell.c</td>\n",
       "      <td>void\\nshell_default_output(const char *str1, i...</td>\n",
       "      <td>memcpy(&amp;log[(i - 1) * SHELL_GUI_XSIZE],</td>\n",
       "      <td>CWE-unknown</td>\n",
       "      <td>data/projects/contiki-2.4/apps/shell/</td>\n",
       "      <td>False</td>\n",
       "      <td>False</td>\n",
       "    </tr>\n",
       "    <tr>\n",
       "      <th>14</th>\n",
       "      <td>data/projects/contiki-2.4/apps/shell/shell.c</td>\n",
       "      <td>void\\nshell_output_str(struct shell_command *c...</td>\n",
       "      <td>input_to_child_command(c-&gt;child, text1, (int)s...</td>\n",
       "      <td>CWE-unknown</td>\n",
       "      <td>data/projects/contiki-2.4/apps/shell/</td>\n",
       "      <td>False</td>\n",
       "      <td>False</td>\n",
       "    </tr>\n",
       "    <tr>\n",
       "      <th>15</th>\n",
       "      <td>data/projects/contiki-2.4/apps/shell/shell-tcp...</td>\n",
       "      <td>void\\ntelnet_text_output(struct telnet_state *...</td>\n",
       "      <td>char buf1[MAX_SERVERLEN];</td>\n",
       "      <td>CWE-unknown</td>\n",
       "      <td>data/projects/contiki-2.4/apps/shell/</td>\n",
       "      <td>False</td>\n",
       "      <td>False</td>\n",
       "    </tr>\n",
       "    <tr>\n",
       "      <th>16</th>\n",
       "      <td>data/projects/contiki-2.4/apps/shell/shell-htt...</td>\n",
       "      <td>void\\nwebserver_log_file(uip_ipaddr_t *request...</td>\n",
       "      <td>char buf[48];</td>\n",
       "      <td>CWE-unknown</td>\n",
       "      <td>data/projects/contiki-2.4/apps/shell/</td>\n",
       "      <td>False</td>\n",
       "      <td>False</td>\n",
       "    </tr>\n",
       "  </tbody>\n",
       "</table>\n",
       "</div>"
      ],
      "text/plain": [
       "                                                 file  \\\n",
       "0   /Users/guru/research/projects/gnucobol-3.2/lib...   \n",
       "1   /Users/guru/research/projects/gnucobol-3.2/lib...   \n",
       "2        data/projects/contiki-2.4/apps/shell/shell.c   \n",
       "3   data/projects/contiki-2.4/apps/shell/shell-net...   \n",
       "4   data/projects/contiki-2.4/apps/shell/shell-wget.c   \n",
       "5   data/projects/contiki-2.4/apps/shell/shell-pow...   \n",
       "6   data/projects/contiki-2.4/apps/shell/shell-pow...   \n",
       "7   data/projects/contiki-2.4/apps/shell/shell-rime.c   \n",
       "8   data/projects/contiki-2.4/apps/shell/shell-rim...   \n",
       "9   data/projects/contiki-2.4/apps/shell/shell-rim...   \n",
       "10  data/projects/contiki-2.4/apps/shell/shell-tcp...   \n",
       "11  data/projects/contiki-2.4/apps/shell/shell-sen...   \n",
       "12   data/projects/contiki-2.4/apps/shell/shell-irc.c   \n",
       "13   data/projects/contiki-2.4/apps/shell/gui-shell.c   \n",
       "14       data/projects/contiki-2.4/apps/shell/shell.c   \n",
       "15  data/projects/contiki-2.4/apps/shell/shell-tcp...   \n",
       "16  data/projects/contiki-2.4/apps/shell/shell-htt...   \n",
       "\n",
       "                                                 code  \\\n",
       "0   __inline\\n#else\\n#ifdef __cplusplus\\ninline\\n#...   \n",
       "1   __inline\\n#else\\n#ifdef __cplusplus\\ninline\\n#...   \n",
       "2   static struct shell_command *\\nstart_command(c...   \n",
       "3   static void\\nmemcpy_misaligned(void *dest, con...   \n",
       "4   static void\\nopen_url(char *url)\\n{\\n  unsigne...   \n",
       "5   static void\\nprintpower(struct power_msg *msg)...   \n",
       "6   static void\\nprintpowergraph(struct power_msg ...   \n",
       "7   static void\\nrecv_collect(const rimeaddr_t *or...   \n",
       "8   static void\\nrecv_mesh(struct mesh_conn *c, co...   \n",
       "9   static void\\nrecv_uc(struct unicast_conn *c, c...   \n",
       "10  static void\\nsend_line(struct telnet_state *s,...   \n",
       "11  static void\\nwrite_chunk(struct rucb_conn *c, ...   \n",
       "12  void\\nircc_text_output(struct ircc_state *s, c...   \n",
       "13  void\\nshell_default_output(const char *str1, i...   \n",
       "14  void\\nshell_output_str(struct shell_command *c...   \n",
       "15  void\\ntelnet_text_output(struct telnet_state *...   \n",
       "16  void\\nwebserver_log_file(uip_ipaddr_t *request...   \n",
       "\n",
       "                                              context          cwe  \\\n",
       "0                                 return translation;  CWE-unknown   \n",
       "1                                 return translation;  CWE-unknown   \n",
       "2             command_len = (int)strlen(commandline);  CWE-unknown   \n",
       "3                          memcpy(dest, source, len);  CWE-unknown   \n",
       "4                               static char host[32];  CWE-unknown   \n",
       "5                                      char buf[100];  CWE-unknown   \n",
       "6                           char buf[MAX_POWERGRAPH];  CWE-unknown   \n",
       "7                                       char buf[40];  CWE-unknown   \n",
       "8                                       char buf[64];  CWE-unknown   \n",
       "9   memcpy(output_blob.data, msg->data, packetbuf_...  CWE-unknown   \n",
       "10  strncpy(outputline, data, MIN(sizeof(outputlin...  CWE-unknown   \n",
       "11                                     char buf[100];  CWE-unknown   \n",
       "12            char buf1[MAX_NICKLEN + MAX_SERVERLEN];  CWE-unknown   \n",
       "13            memcpy(&log[(i - 1) * SHELL_GUI_XSIZE],  CWE-unknown   \n",
       "14  input_to_child_command(c->child, text1, (int)s...  CWE-unknown   \n",
       "15                          char buf1[MAX_SERVERLEN];  CWE-unknown   \n",
       "16                                      char buf[48];  CWE-unknown   \n",
       "\n",
       "                                            project  code_dup  filter_mask  \n",
       "0   /Users/guru/research/projects/gnucobol-3.2/lib/     False        False  \n",
       "1   /Users/guru/research/projects/gnucobol-3.2/lib/     False        False  \n",
       "2             data/projects/contiki-2.4/apps/shell/     False        False  \n",
       "3             data/projects/contiki-2.4/apps/shell/     False        False  \n",
       "4             data/projects/contiki-2.4/apps/shell/     False        False  \n",
       "5             data/projects/contiki-2.4/apps/shell/     False        False  \n",
       "6             data/projects/contiki-2.4/apps/shell/     False        False  \n",
       "7             data/projects/contiki-2.4/apps/shell/     False        False  \n",
       "8             data/projects/contiki-2.4/apps/shell/     False        False  \n",
       "9             data/projects/contiki-2.4/apps/shell/     False        False  \n",
       "10            data/projects/contiki-2.4/apps/shell/     False        False  \n",
       "11            data/projects/contiki-2.4/apps/shell/     False        False  \n",
       "12            data/projects/contiki-2.4/apps/shell/     False        False  \n",
       "13            data/projects/contiki-2.4/apps/shell/     False        False  \n",
       "14            data/projects/contiki-2.4/apps/shell/     False        False  \n",
       "15            data/projects/contiki-2.4/apps/shell/     False        False  \n",
       "16            data/projects/contiki-2.4/apps/shell/     False        False  "
      ]
     },
     "execution_count": 216,
     "metadata": {},
     "output_type": "execute_result"
    }
   ],
   "source": [
    "dff_new = dff_sort.copy()\n",
    "dff_new = dff_new.sort_values(by=['code', 'cwe'], ascending=True)\n",
    "# this code remove the duplicates and keep the last, ignores 'Benign' samples\n",
    "df_dup = dff_new[dff_new.duplicated(['code'], keep='first')].reset_index(drop=True)\n",
    "df_dup\n",
    "# dff_new"
   ]
  },
  {
   "cell_type": "code",
   "execution_count": 217,
   "metadata": {},
   "outputs": [
    {
     "data": {
      "text/plain": [
       "'code'"
      ]
     },
     "execution_count": 217,
     "metadata": {},
     "output_type": "execute_result"
    }
   ],
   "source": [
    "# table-wise columns to check duplicates\n",
    "\n",
    "code_col = 'code' if 'code' in df.columns else 'context'\n",
    "code_col"
   ]
  }
 ],
 "metadata": {
  "kernelspec": {
   "display_name": "vulcode",
   "language": "python",
   "name": "python3"
  },
  "language_info": {
   "codemirror_mode": {
    "name": "ipython",
    "version": 3
   },
   "file_extension": ".py",
   "mimetype": "text/x-python",
   "name": "python",
   "nbconvert_exporter": "python",
   "pygments_lexer": "ipython3",
   "version": "3.8.0"
  },
  "orig_nbformat": 4,
  "vscode": {
   "interpreter": {
    "hash": "770d70f40277e0fadd6bc1f7a5fecfd799eee3cbb57c500ccfb48eb07fd2c1ce"
   }
  }
 },
 "nbformat": 4,
 "nbformat_minor": 2
}
