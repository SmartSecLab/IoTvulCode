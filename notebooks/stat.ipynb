{
 "cells": [
  {
   "attachments": {},
   "cell_type": "markdown",
   "metadata": {},
   "source": [
    "# Statistics on the output data. "
   ]
  },
  {
   "cell_type": "code",
   "execution_count": 1,
   "metadata": {},
   "outputs": [
    {
     "data": {
      "text/plain": [
       "Index(['Unnamed: 0', 'file', 'line', 'column', 'category', 'name', 'msg',\n",
       "       'note', 'cwe', 'context', 'helpuri', 'tool', 'defaultlevel', 'level',\n",
       "       'suggestion', 'fingerprint', 'toolversion', 'ruleid'],\n",
       "      dtype='object')"
      ]
     },
     "execution_count": 1,
     "metadata": {},
     "output_type": "execute_result"
    }
   ],
   "source": [
    "import pandas as pd\n",
    "import matplotlib.pyplot as plt\n",
    "import seaborn as sns\n",
    "import plotly.express as px\n",
    "import lizard\n",
    "import subprocess as sub\n",
    "from pylibsrcml import srcml\n",
    "import os\n",
    "import re \n",
    "import xml.etree.ElementTree as et \n",
    "import warnings\n",
    "warnings.filterwarnings(\"ignore\")\n",
    "\n",
    "\n",
    "df = pd.read_csv('../data/contiki-master_flaw.csv')\n",
    "dfm = pd.read_csv('../data/contiki-master_metrics.csv')\n",
    "\n",
    "if not os.path.exists(\"figure\"):\n",
    "    os.mkdir(\"figure\")\n",
    "df.columns"
   ]
  },
  {
   "cell_type": "code",
   "execution_count": null,
   "metadata": {},
   "outputs": [],
   "source": [
    "dfp = df[['category', 'name', 'cwe']].groupby(['category', 'name', 'cwe'], group_keys=False).size().reset_index(name='count')\n",
    "fig = px.sunburst(dfp, path=['category', 'name', 'cwe'], values='count')\n",
    "# fig.write_image(\"figure/vul_statistics.pdf\")\n",
    "fig.show()\n",
    "dfp.head()"
   ]
  },
  {
   "attachments": {},
   "cell_type": "markdown",
   "metadata": {},
   "source": [
    "# Analysis of IoTvulCode tool generated output for feeding non-vul statements:\n"
   ]
  },
  {
   "cell_type": "code",
   "execution_count": null,
   "metadata": {},
   "outputs": [],
   "source": [
    "df.nunique()"
   ]
  },
  {
   "cell_type": "code",
   "execution_count": null,
   "metadata": {},
   "outputs": [],
   "source": [
    "df.context.str.len().sort_values(ascending=False).reset_index(drop=True).plot(kind='box')"
   ]
  },
  {
   "cell_type": "code",
   "execution_count": null,
   "metadata": {},
   "outputs": [],
   "source": [
    "\n",
    "import random\n",
    "\n",
    "def filter_unusual_statements(statements, min_len, max_len):\n",
    "    \"\"\"\" \n",
    "    # https://peps.python.org/pep-0007/\n",
    "    # https://www.python.org/dev/peps/pep-0007/ \n",
    "    \"\"\"\n",
    "    filtered_statements = []\n",
    "    for statement in statements:\n",
    "        if len(statement) >= min_len and len(statement) <= max_len:\n",
    "            filtered_statements.append(statement)\n",
    "   \n",
    "    # take size of the vul statements as basis\n",
    "    df = pd.Series(statements)   \n",
    "    df = df.str.len()\n",
    "    \n",
    "    stat_sizes =  list(df[df.between(max_len, min_len)].reset_index(drop=True))\n",
    "    random.seed(0)\n",
    "    stat_sizes = random.sample(set(stat_sizes), 5)\n",
    "    return stat_sizes\n",
    "\n",
    "\n",
    "# standard variables:\n",
    "max_len = 79\n",
    "# for min_len (eg, 7 characters)\n",
    "min_len = df.context.str.len().sort_values(ascending=False).reset_index(drop=True).min()\n",
    "\n",
    "\n",
    "lines = dfm.code[0].splitlines()\n",
    "stat_sizes = filter_unusual_statements(lines, max_len, min_len)\n",
    "stat_sizes"
   ]
  },
  {
   "cell_type": "code",
   "execution_count": null,
   "metadata": {},
   "outputs": [],
   "source": [
    "def get_benign_context(row):\n",
    "    \"\"\"\n",
    "    filter all lines if it is less than min threshold\n",
    "    randomly suffled lines\n",
    "    \"\"\" \n",
    "    df = pd.DataFrame()\n",
    "    lines = [x for x in enumerate(row['code'].splitlines()) if len(x[1]) > 7]\n",
    "    # lines = [(x[0], str(x).strip()) for x in lines]\n",
    "    \n",
    "    random.seed(0)\n",
    "    lines = random.sample(population=lines, \n",
    "                        k=int(len(lines)/2))\n",
    "\n",
    "    # TODO: remove the ambiguous vul line from the 'benign' lines if present\n",
    "    # vul_line = df.line[i]\n",
    "    # lines = [x for x in lines if x[0]!=vul_line]\n",
    "\n",
    "    ## convert it to dataframe and add additional columns\n",
    "    df = pd.DataFrame(lines, columns=['line', 'context'])\n",
    "    # remove leading and trailing whitespace\n",
    "    df['context'] = df['context'].apply(lambda x: re.sub(r'\\s+', ' ', x).strip()) \n",
    "    df['cwe'] = 'benign'\n",
    "    df['tool'] = 'sampling'\n",
    "    df['file'] = row['filename']\n",
    "    line_col = df['line'].astype(int) + int(row['start_line'])\n",
    "    \n",
    "    max_line = max(list(line_col)) if list(line_col) else 0\n",
    "    end_line = int(row['end_line'])\n",
    "    \n",
    "    # print(f\"max of lines: {max_line} and end_line: {end_line}\")\n",
    "    assert max_line <= end_line, \"Line number shouldn't exceed function length!\"\n",
    "    df['line'] = line_col\n",
    "    return df\n",
    "\n",
    "def drop_rows(df):\n",
    "    \"\"\" applied several filters to the dataframe \"\"\"\n",
    "    df['context'] = df['context'].apply(lambda x: re.sub(r'\\s+', ' ', x).strip()) \n",
    "    len_s0 = len(df)\n",
    "    # Step 1: drop duplicates from all rows\n",
    "    df = df.drop_duplicates(subset=['cwe', 'context']).reset_index(drop=True)\n",
    "    len_s1 = len(df)\n",
    "    print(f'{len_s0-len_s1} duplicate samples were dropped from {len_s0} samples.')\n",
    "\n",
    "    # Step 2: drop duplicates from ambiguous rows on context column \n",
    "    ## (keeping only a first occurrence, i.e, vul/cwe sample)\n",
    "    df = df.sort_values(by='cwe', ascending=True).drop_duplicates(subset='context', keep='first').reset_index(drop=True)\n",
    "    len_s2 = len(df)\n",
    "    print(f'{len_s1-len_s2} ambiquous samples were dropped from {len_s1} samples.')\n",
    "    return df\n",
    "\n",
    "def gen_benign(dfm):\n",
    "    \"\"\"create benign samples to the dataframe \"\"\"\n",
    "    print('-'*50)\n",
    "    print('#samples: ', len(dfm))\n",
    "    print('Generating benign samples...')\n",
    "    df_fun = pd.DataFrame()\n",
    "    for i in range(len(dfm)):\n",
    "        df_get = get_benign_context(dict(dfm.iloc[i]))\n",
    "        df_fun = df_fun.append(df_get).reset_index(drop=True)\n",
    "    print('-'*50)\n",
    "    print('#benign samples generated: ', len(df_fun))\n",
    "    return df_fun\n",
    "\n",
    "\n",
    "df_fun = gen_benign(dfm)\n",
    "df = df.append(df_fun).reset_index(drop=True)\n",
    "\n",
    "df = drop_rows(df) # mutates df\n",
    "df.head(5)"
   ]
  },
  {
   "cell_type": "code",
   "execution_count": null,
   "metadata": {},
   "outputs": [],
   "source": [
    "def save_binary(filename, dfs):\n",
    "    \"\"\" save a dataframe to a binary file \"\"\"\n",
    "    dfs['isMalicious'] = dfs['cwe'].apply(lambda x: 1 if x !='benign' else 0)\n",
    "    dfs[['context', 'isMalicious']].to_csv(filename, index=False)\n",
    "    return dfs[['context', 'isMalicious']]\n",
    "\n",
    "dfs = save_binary('../data/contiki-master-binary.csv', df)\n",
    "dfs"
   ]
  },
  {
   "cell_type": "code",
   "execution_count": 2,
   "metadata": {},
   "outputs": [
    {
     "data": {
      "text/html": [
       "<div>\n",
       "<style scoped>\n",
       "    .dataframe tbody tr th:only-of-type {\n",
       "        vertical-align: middle;\n",
       "    }\n",
       "\n",
       "    .dataframe tbody tr th {\n",
       "        vertical-align: top;\n",
       "    }\n",
       "\n",
       "    .dataframe thead th {\n",
       "        text-align: right;\n",
       "    }\n",
       "</style>\n",
       "<table border=\"1\" class=\"dataframe\">\n",
       "  <thead>\n",
       "    <tr style=\"text-align: right;\">\n",
       "      <th></th>\n",
       "      <th>code</th>\n",
       "      <th>isMalicious</th>\n",
       "    </tr>\n",
       "  </thead>\n",
       "  <tbody>\n",
       "    <tr>\n",
       "      <th>0</th>\n",
       "      <td>( strlen ( me )</td>\n",
       "      <td>1</td>\n",
       "    </tr>\n",
       "    <tr>\n",
       "      <th>1</th>\n",
       "      <td>*pBuffer = MQTT_PACKET_TYPE_CONNECT ; pBuffer...</td>\n",
       "      <td>1</td>\n",
       "    </tr>\n",
       "    <tr>\n",
       "      <th>2</th>\n",
       "      <td>*pBuffer1 = MQTT_PACKET_TYPE_CONNECT1 ; pBuff...</td>\n",
       "      <td>1</td>\n",
       "    </tr>\n",
       "    <tr>\n",
       "      <th>3</th>\n",
       "      <td>ActualFreq 1 = cc1ComputeFreq ( DesiredFreq1 ) ;</td>\n",
       "      <td>1</td>\n",
       "    </tr>\n",
       "    <tr>\n",
       "      <th>4</th>\n",
       "      <td>ActualFreq = cc1000ComputeFreq ( DesiredFreq ) ;</td>\n",
       "      <td>1</td>\n",
       "    </tr>\n",
       "    <tr>\n",
       "      <th>...</th>\n",
       "      <td>...</td>\n",
       "      <td>...</td>\n",
       "    </tr>\n",
       "    <tr>\n",
       "      <th>4715</th>\n",
       "      <td>xResultr = xClass ( xSession , ( char * ) pxLa...</td>\n",
       "      <td>1</td>\n",
       "    </tr>\n",
       "    <tr>\n",
       "      <th>4716</th>\n",
       "      <td>xResultt = xClass ( xSession , ( char * ) pxLa...</td>\n",
       "      <td>1</td>\n",
       "    </tr>\n",
       "    <tr>\n",
       "      <th>4717</th>\n",
       "      <td>xResultw = xClass ( xSession , ( char * ) pxLa...</td>\n",
       "      <td>1</td>\n",
       "    </tr>\n",
       "    <tr>\n",
       "      <th>4718</th>\n",
       "      <td>xResultx = C_Create ( xSessionx, ( A ) &amp; D, si...</td>\n",
       "      <td>1</td>\n",
       "    </tr>\n",
       "    <tr>\n",
       "      <th>4719</th>\n",
       "      <td>xResultx = C_CreateObject ( xSessionx, ( A ) &amp;...</td>\n",
       "      <td>1</td>\n",
       "    </tr>\n",
       "  </tbody>\n",
       "</table>\n",
       "<p>4720 rows × 2 columns</p>\n",
       "</div>"
      ],
      "text/plain": [
       "                                                   code  isMalicious\n",
       "0                                      ( strlen ( me )             1\n",
       "1      *pBuffer = MQTT_PACKET_TYPE_CONNECT ; pBuffer...            1\n",
       "2      *pBuffer1 = MQTT_PACKET_TYPE_CONNECT1 ; pBuff...            1\n",
       "3      ActualFreq 1 = cc1ComputeFreq ( DesiredFreq1 ) ;            1\n",
       "4      ActualFreq = cc1000ComputeFreq ( DesiredFreq ) ;            1\n",
       "...                                                 ...          ...\n",
       "4715  xResultr = xClass ( xSession , ( char * ) pxLa...            1\n",
       "4716  xResultt = xClass ( xSession , ( char * ) pxLa...            1\n",
       "4717  xResultw = xClass ( xSession , ( char * ) pxLa...            1\n",
       "4718  xResultx = C_Create ( xSessionx, ( A ) & D, si...            1\n",
       "4719  xResultx = C_CreateObject ( xSessionx, ( A ) &...            1\n",
       "\n",
       "[4720 rows x 2 columns]"
      ]
     },
     "execution_count": 2,
     "metadata": {},
     "output_type": "execute_result"
    }
   ],
   "source": [
    "dfm = pd.read_csv('../data/iDetect_refine/DNN_Binary.csv')\n",
    "dfcon = pd.read_csv('../data/contiki-master-binary.csv')\n",
    "dfm"
   ]
  },
  {
   "cell_type": "code",
   "execution_count": 3,
   "metadata": {},
   "outputs": [
    {
     "data": {
      "text/plain": [
       "1    3067\n",
       "0    1653\n",
       "Name: isMalicious, dtype: int64"
      ]
     },
     "execution_count": 3,
     "metadata": {},
     "output_type": "execute_result"
    }
   ],
   "source": [
    "dfm.isMalicious.value_counts()"
   ]
  },
  {
   "cell_type": "code",
   "execution_count": 4,
   "metadata": {},
   "outputs": [
    {
     "data": {
      "text/plain": [
       "0    30866\n",
       "1     2023\n",
       "Name: isMalicious, dtype: int64"
      ]
     },
     "execution_count": 4,
     "metadata": {},
     "output_type": "execute_result"
    }
   ],
   "source": [
    "dfcon.isMalicious.value_counts()"
   ]
  }
 ],
 "metadata": {
  "kernelspec": {
   "display_name": "vulcode",
   "language": "python",
   "name": "python3"
  },
  "language_info": {
   "codemirror_mode": {
    "name": "ipython",
    "version": 3
   },
   "file_extension": ".py",
   "mimetype": "text/x-python",
   "name": "python",
   "nbconvert_exporter": "python",
   "pygments_lexer": "ipython3",
   "version": "3.8.0"
  },
  "orig_nbformat": 4,
  "vscode": {
   "interpreter": {
    "hash": "770d70f40277e0fadd6bc1f7a5fecfd799eee3cbb57c500ccfb48eb07fd2c1ce"
   }
  }
 },
 "nbformat": 4,
 "nbformat_minor": 2
}
