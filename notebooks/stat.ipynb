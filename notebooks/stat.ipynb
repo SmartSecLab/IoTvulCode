{
 "cells": [
  {
   "attachments": {},
   "cell_type": "markdown",
   "metadata": {},
   "source": [
    "# Statistics on the output data. "
   ]
  },
  {
   "cell_type": "code",
   "execution_count": 33,
   "metadata": {},
   "outputs": [
    {
     "data": {
      "text/plain": [
       "Index(['file', 'line', 'column', 'defaultlevel', 'level', 'category', 'name',\n",
       "       'msg', 'note', 'cwe', 'context', 'helpuri', 'severity', 'tool', 'type',\n",
       "       'project'],\n",
       "      dtype='object')"
      ]
     },
     "execution_count": 33,
     "metadata": {},
     "output_type": "execute_result"
    }
   ],
   "source": [
    "import pandas as pd\n",
    "import matplotlib.pyplot as plt\n",
    "import seaborn as sns\n",
    "import plotly.express as px\n",
    "import lizard\n",
    "import subprocess as sub\n",
    "from pylibsrcml import srcml\n",
    "import os\n",
    "import re \n",
    "import xml.etree.ElementTree as et \n",
    "import warnings\n",
    "from sqlite3 import connect\n",
    "from argparse import ArgumentParser\n",
    "from configparser import ConfigParser\n",
    "import yaml\n",
    "from pathlib import Path\n",
    "import random\n",
    "from tabulate import tabulate\n",
    "\n",
    "warnings.filterwarnings(\"ignore\")\n",
    "\n",
    "\n",
    "database = '../data/IoTcode_contiki_rasp_filtered_full.db'\n",
    "conn= connect(database)\n",
    "\n",
    "random.seed(0)\n",
    "\n",
    "dfp = pd.read_sql_query(\"SELECT * FROM project\", con=conn)\n",
    "dfs = pd.read_sql_query(\"SELECT * FROM statement\", con=conn)\n",
    "dff = pd.read_sql_query(\"SELECT * FROM function\", con=conn)\n",
    "\n",
    "if not os.path.exists(\"figure\"):\n",
    "    os.mkdir(\"figure\")\n",
    "dfs.columns"
   ]
  },
  {
   "cell_type": "code",
   "execution_count": 34,
   "metadata": {},
   "outputs": [
    {
     "data": {
      "application/vnd.plotly.v1+json": {
       "config": {
        "plotlyServerURL": "https://plot.ly"
       },
       "data": [
        {
         "branchvalues": "total",
         "domain": {
          "x": [
           0,
           1
          ],
          "y": [
           0,
           1
          ]
         },
         "hovertemplate": "labels=%{label}<br>count=%{value}<br>parent=%{parent}<br>id=%{id}<extra></extra>",
         "ids": [
          "buffer/char/CWE-119!/CWE-120",
          "buffer/wchar_t/CWE-119!/CWE-120",
          "buffer/CopyMemory/CWE-120",
          "buffer/bcopy/CWE-120",
          "buffer/fscanf/CWE-120",
          "buffer/memcpy/CWE-120",
          "buffer/sprintf/CWE-120",
          "buffer/sscanf/CWE-120",
          "buffer/strcat/CWE-120",
          "buffer/strcpy/CWE-120",
          "buffer/strncat/CWE-120",
          "buffer/strncpy/CWE-120",
          "buffer/vsprintf/CWE-120",
          "buffer/fgetc/CWE-120, CWE-20",
          "buffer/fscanf/CWE-120, CWE-20",
          "buffer/getc/CWE-120, CWE-20",
          "buffer/getchar/CWE-120, CWE-20",
          "buffer/getopt/CWE-120, CWE-20",
          "buffer/getopt_long/CWE-120, CWE-20",
          "buffer/gets/CWE-120, CWE-20",
          "buffer/read/CWE-120, CWE-20",
          "buffer/scanf/CWE-120, CWE-20",
          "buffer/sscanf/CWE-120, CWE-20",
          "buffer/vfscanf/CWE-120, CWE-20",
          "buffer/vsscanf/CWE-120, CWE-20",
          "buffer/realpath/CWE-120/CWE-785!",
          "buffer/equal/CWE-126",
          "buffer/mismatch/CWE-126",
          "buffer/strlen/CWE-126",
          "format/fprintf/CWE-134",
          "format/printf/CWE-134",
          "format/snprintf/CWE-134",
          "format/sprintf/CWE-134",
          "format/syslog/CWE-134",
          "format/vfprintf/CWE-134",
          "format/vprintf/CWE-134",
          "format/vsnprintf/CWE-134",
          "format/vsprintf/CWE-134",
          "integer/atoi/CWE-190",
          "integer/atol/CWE-190",
          "-/integerOverflow/CWE-190",
          "misc/chroot/CWE-250, CWE-22",
          "crypto/crypt/CWE-327",
          "random/random/CWE-327",
          "random/setstate/CWE-327",
          "random/srand/CWE-327",
          "random/srandom/CWE-327",
          "race/chmod/CWE-362",
          "race/chown/CWE-362",
          "misc/fopen/CWE-362",
          "misc/open/CWE-362",
          "race/vfork/CWE-362",
          "race/readlink/CWE-362, CWE-20",
          "race/access/CWE-362/CWE-367!",
          "tmpfile/mkstemp/CWE-377",
          "tmpfile/tmpfile/CWE-377",
          "free/memalign/CWE-676",
          "obsolete/ulimit/CWE-676",
          "obsolete/usleep/CWE-676",
          "access/umask/CWE-732",
          "shell/execl/CWE-78",
          "shell/execle/CWE-78",
          "shell/execlp/CWE-78",
          "shell/execv/CWE-78",
          "shell/execvp/CWE-78",
          "shell/popen/CWE-78",
          "shell/system/CWE-78",
          "buffer/getenv/CWE-807, CWE-20",
          "buffer/CopyMemory",
          "race/access",
          "integer/atoi",
          "integer/atol",
          "buffer/bcopy",
          "buffer/char",
          "race/chmod",
          "race/chown",
          "misc/chroot",
          "crypto/crypt",
          "buffer/equal",
          "shell/execl",
          "shell/execle",
          "shell/execlp",
          "shell/execv",
          "shell/execvp",
          "buffer/fgetc",
          "misc/fopen",
          "format/fprintf",
          "buffer/fscanf",
          "buffer/getc",
          "buffer/getchar",
          "buffer/getenv",
          "buffer/getopt",
          "buffer/getopt_long",
          "buffer/gets",
          "-/integerOverflow",
          "free/memalign",
          "buffer/memcpy",
          "buffer/mismatch",
          "tmpfile/mkstemp",
          "misc/open",
          "shell/popen",
          "format/printf",
          "random/random",
          "buffer/read",
          "race/readlink",
          "buffer/realpath",
          "buffer/scanf",
          "random/setstate",
          "format/snprintf",
          "buffer/sprintf",
          "format/sprintf",
          "random/srand",
          "random/srandom",
          "buffer/sscanf",
          "buffer/strcat",
          "buffer/strcpy",
          "buffer/strlen",
          "buffer/strncat",
          "buffer/strncpy",
          "format/syslog",
          "shell/system",
          "tmpfile/tmpfile",
          "obsolete/ulimit",
          "access/umask",
          "obsolete/usleep",
          "race/vfork",
          "format/vfprintf",
          "buffer/vfscanf",
          "format/vprintf",
          "format/vsnprintf",
          "buffer/vsprintf",
          "format/vsprintf",
          "buffer/vsscanf",
          "buffer/wchar_t",
          "-",
          "access",
          "buffer",
          "crypto",
          "format",
          "free",
          "integer",
          "misc",
          "obsolete",
          "race",
          "random",
          "shell",
          "tmpfile"
         ],
         "labels": [
          "CWE-119!/CWE-120",
          "CWE-119!/CWE-120",
          "CWE-120",
          "CWE-120",
          "CWE-120",
          "CWE-120",
          "CWE-120",
          "CWE-120",
          "CWE-120",
          "CWE-120",
          "CWE-120",
          "CWE-120",
          "CWE-120",
          "CWE-120, CWE-20",
          "CWE-120, CWE-20",
          "CWE-120, CWE-20",
          "CWE-120, CWE-20",
          "CWE-120, CWE-20",
          "CWE-120, CWE-20",
          "CWE-120, CWE-20",
          "CWE-120, CWE-20",
          "CWE-120, CWE-20",
          "CWE-120, CWE-20",
          "CWE-120, CWE-20",
          "CWE-120, CWE-20",
          "CWE-120/CWE-785!",
          "CWE-126",
          "CWE-126",
          "CWE-126",
          "CWE-134",
          "CWE-134",
          "CWE-134",
          "CWE-134",
          "CWE-134",
          "CWE-134",
          "CWE-134",
          "CWE-134",
          "CWE-134",
          "CWE-190",
          "CWE-190",
          "CWE-190",
          "CWE-250, CWE-22",
          "CWE-327",
          "CWE-327",
          "CWE-327",
          "CWE-327",
          "CWE-327",
          "CWE-362",
          "CWE-362",
          "CWE-362",
          "CWE-362",
          "CWE-362",
          "CWE-362, CWE-20",
          "CWE-362/CWE-367!",
          "CWE-377",
          "CWE-377",
          "CWE-676",
          "CWE-676",
          "CWE-676",
          "CWE-732",
          "CWE-78",
          "CWE-78",
          "CWE-78",
          "CWE-78",
          "CWE-78",
          "CWE-78",
          "CWE-78",
          "CWE-807, CWE-20",
          "CopyMemory",
          "access",
          "atoi",
          "atol",
          "bcopy",
          "char",
          "chmod",
          "chown",
          "chroot",
          "crypt",
          "equal",
          "execl",
          "execle",
          "execlp",
          "execv",
          "execvp",
          "fgetc",
          "fopen",
          "fprintf",
          "fscanf",
          "getc",
          "getchar",
          "getenv",
          "getopt",
          "getopt_long",
          "gets",
          "integerOverflow",
          "memalign",
          "memcpy",
          "mismatch",
          "mkstemp",
          "open",
          "popen",
          "printf",
          "random",
          "read",
          "readlink",
          "realpath",
          "scanf",
          "setstate",
          "snprintf",
          "sprintf",
          "sprintf",
          "srand",
          "srandom",
          "sscanf",
          "strcat",
          "strcpy",
          "strlen",
          "strncat",
          "strncpy",
          "syslog",
          "system",
          "tmpfile",
          "ulimit",
          "umask",
          "usleep",
          "vfork",
          "vfprintf",
          "vfscanf",
          "vprintf",
          "vsnprintf",
          "vsprintf",
          "vsprintf",
          "vsscanf",
          "wchar_t",
          "-",
          "access",
          "buffer",
          "crypto",
          "format",
          "free",
          "integer",
          "misc",
          "obsolete",
          "race",
          "random",
          "shell",
          "tmpfile"
         ],
         "name": "",
         "parents": [
          "buffer/char",
          "buffer/wchar_t",
          "buffer/CopyMemory",
          "buffer/bcopy",
          "buffer/fscanf",
          "buffer/memcpy",
          "buffer/sprintf",
          "buffer/sscanf",
          "buffer/strcat",
          "buffer/strcpy",
          "buffer/strncat",
          "buffer/strncpy",
          "buffer/vsprintf",
          "buffer/fgetc",
          "buffer/fscanf",
          "buffer/getc",
          "buffer/getchar",
          "buffer/getopt",
          "buffer/getopt_long",
          "buffer/gets",
          "buffer/read",
          "buffer/scanf",
          "buffer/sscanf",
          "buffer/vfscanf",
          "buffer/vsscanf",
          "buffer/realpath",
          "buffer/equal",
          "buffer/mismatch",
          "buffer/strlen",
          "format/fprintf",
          "format/printf",
          "format/snprintf",
          "format/sprintf",
          "format/syslog",
          "format/vfprintf",
          "format/vprintf",
          "format/vsnprintf",
          "format/vsprintf",
          "integer/atoi",
          "integer/atol",
          "-/integerOverflow",
          "misc/chroot",
          "crypto/crypt",
          "random/random",
          "random/setstate",
          "random/srand",
          "random/srandom",
          "race/chmod",
          "race/chown",
          "misc/fopen",
          "misc/open",
          "race/vfork",
          "race/readlink",
          "race/access",
          "tmpfile/mkstemp",
          "tmpfile/tmpfile",
          "free/memalign",
          "obsolete/ulimit",
          "obsolete/usleep",
          "access/umask",
          "shell/execl",
          "shell/execle",
          "shell/execlp",
          "shell/execv",
          "shell/execvp",
          "shell/popen",
          "shell/system",
          "buffer/getenv",
          "buffer",
          "race",
          "integer",
          "integer",
          "buffer",
          "buffer",
          "race",
          "race",
          "misc",
          "crypto",
          "buffer",
          "shell",
          "shell",
          "shell",
          "shell",
          "shell",
          "buffer",
          "misc",
          "format",
          "buffer",
          "buffer",
          "buffer",
          "buffer",
          "buffer",
          "buffer",
          "buffer",
          "-",
          "free",
          "buffer",
          "buffer",
          "tmpfile",
          "misc",
          "shell",
          "format",
          "random",
          "buffer",
          "race",
          "buffer",
          "buffer",
          "random",
          "format",
          "buffer",
          "format",
          "random",
          "random",
          "buffer",
          "buffer",
          "buffer",
          "buffer",
          "buffer",
          "buffer",
          "format",
          "shell",
          "tmpfile",
          "obsolete",
          "access",
          "obsolete",
          "race",
          "format",
          "buffer",
          "format",
          "format",
          "buffer",
          "format",
          "buffer",
          "buffer",
          "",
          "",
          "",
          "",
          "",
          "",
          "",
          "",
          "",
          "",
          "",
          "",
          ""
         ],
         "type": "sunburst",
         "values": [
          11310,
          147,
          2,
          2,
          5,
          14139,
          4577,
          30,
          262,
          1277,
          35,
          534,
          1,
          12,
          14,
          6,
          8,
          94,
          47,
          4,
          1765,
          3,
          48,
          1,
          6,
          55,
          29,
          43,
          2883,
          92,
          156,
          239,
          144,
          24,
          25,
          7,
          109,
          17,
          196,
          17,
          1,
          5,
          210,
          81,
          4,
          11,
          2,
          11,
          11,
          211,
          873,
          9,
          29,
          847,
          17,
          20,
          10,
          5,
          55,
          63,
          7,
          1,
          10,
          2,
          9,
          17,
          322,
          75,
          2,
          847,
          196,
          17,
          2,
          11310,
          11,
          11,
          5,
          210,
          29,
          7,
          1,
          10,
          2,
          9,
          12,
          211,
          92,
          19,
          6,
          8,
          75,
          94,
          47,
          4,
          1,
          10,
          14139,
          43,
          17,
          873,
          17,
          156,
          81,
          1765,
          29,
          55,
          3,
          4,
          239,
          4577,
          144,
          11,
          2,
          78,
          262,
          1277,
          2883,
          35,
          534,
          24,
          322,
          20,
          5,
          63,
          55,
          9,
          25,
          1,
          7,
          109,
          1,
          17,
          6,
          147,
          1,
          63,
          37414,
          210,
          813,
          10,
          213,
          1089,
          60,
          907,
          98,
          368,
          37
         ]
        }
       ],
       "layout": {
        "legend": {
         "tracegroupgap": 0
        },
        "margin": {
         "t": 60
        },
        "template": {
         "data": {
          "bar": [
           {
            "error_x": {
             "color": "#2a3f5f"
            },
            "error_y": {
             "color": "#2a3f5f"
            },
            "marker": {
             "line": {
              "color": "#E5ECF6",
              "width": 0.5
             },
             "pattern": {
              "fillmode": "overlay",
              "size": 10,
              "solidity": 0.2
             }
            },
            "type": "bar"
           }
          ],
          "barpolar": [
           {
            "marker": {
             "line": {
              "color": "#E5ECF6",
              "width": 0.5
             },
             "pattern": {
              "fillmode": "overlay",
              "size": 10,
              "solidity": 0.2
             }
            },
            "type": "barpolar"
           }
          ],
          "carpet": [
           {
            "aaxis": {
             "endlinecolor": "#2a3f5f",
             "gridcolor": "white",
             "linecolor": "white",
             "minorgridcolor": "white",
             "startlinecolor": "#2a3f5f"
            },
            "baxis": {
             "endlinecolor": "#2a3f5f",
             "gridcolor": "white",
             "linecolor": "white",
             "minorgridcolor": "white",
             "startlinecolor": "#2a3f5f"
            },
            "type": "carpet"
           }
          ],
          "choropleth": [
           {
            "colorbar": {
             "outlinewidth": 0,
             "ticks": ""
            },
            "type": "choropleth"
           }
          ],
          "contour": [
           {
            "colorbar": {
             "outlinewidth": 0,
             "ticks": ""
            },
            "colorscale": [
             [
              0,
              "#0d0887"
             ],
             [
              0.1111111111111111,
              "#46039f"
             ],
             [
              0.2222222222222222,
              "#7201a8"
             ],
             [
              0.3333333333333333,
              "#9c179e"
             ],
             [
              0.4444444444444444,
              "#bd3786"
             ],
             [
              0.5555555555555556,
              "#d8576b"
             ],
             [
              0.6666666666666666,
              "#ed7953"
             ],
             [
              0.7777777777777778,
              "#fb9f3a"
             ],
             [
              0.8888888888888888,
              "#fdca26"
             ],
             [
              1,
              "#f0f921"
             ]
            ],
            "type": "contour"
           }
          ],
          "contourcarpet": [
           {
            "colorbar": {
             "outlinewidth": 0,
             "ticks": ""
            },
            "type": "contourcarpet"
           }
          ],
          "heatmap": [
           {
            "colorbar": {
             "outlinewidth": 0,
             "ticks": ""
            },
            "colorscale": [
             [
              0,
              "#0d0887"
             ],
             [
              0.1111111111111111,
              "#46039f"
             ],
             [
              0.2222222222222222,
              "#7201a8"
             ],
             [
              0.3333333333333333,
              "#9c179e"
             ],
             [
              0.4444444444444444,
              "#bd3786"
             ],
             [
              0.5555555555555556,
              "#d8576b"
             ],
             [
              0.6666666666666666,
              "#ed7953"
             ],
             [
              0.7777777777777778,
              "#fb9f3a"
             ],
             [
              0.8888888888888888,
              "#fdca26"
             ],
             [
              1,
              "#f0f921"
             ]
            ],
            "type": "heatmap"
           }
          ],
          "heatmapgl": [
           {
            "colorbar": {
             "outlinewidth": 0,
             "ticks": ""
            },
            "colorscale": [
             [
              0,
              "#0d0887"
             ],
             [
              0.1111111111111111,
              "#46039f"
             ],
             [
              0.2222222222222222,
              "#7201a8"
             ],
             [
              0.3333333333333333,
              "#9c179e"
             ],
             [
              0.4444444444444444,
              "#bd3786"
             ],
             [
              0.5555555555555556,
              "#d8576b"
             ],
             [
              0.6666666666666666,
              "#ed7953"
             ],
             [
              0.7777777777777778,
              "#fb9f3a"
             ],
             [
              0.8888888888888888,
              "#fdca26"
             ],
             [
              1,
              "#f0f921"
             ]
            ],
            "type": "heatmapgl"
           }
          ],
          "histogram": [
           {
            "marker": {
             "pattern": {
              "fillmode": "overlay",
              "size": 10,
              "solidity": 0.2
             }
            },
            "type": "histogram"
           }
          ],
          "histogram2d": [
           {
            "colorbar": {
             "outlinewidth": 0,
             "ticks": ""
            },
            "colorscale": [
             [
              0,
              "#0d0887"
             ],
             [
              0.1111111111111111,
              "#46039f"
             ],
             [
              0.2222222222222222,
              "#7201a8"
             ],
             [
              0.3333333333333333,
              "#9c179e"
             ],
             [
              0.4444444444444444,
              "#bd3786"
             ],
             [
              0.5555555555555556,
              "#d8576b"
             ],
             [
              0.6666666666666666,
              "#ed7953"
             ],
             [
              0.7777777777777778,
              "#fb9f3a"
             ],
             [
              0.8888888888888888,
              "#fdca26"
             ],
             [
              1,
              "#f0f921"
             ]
            ],
            "type": "histogram2d"
           }
          ],
          "histogram2dcontour": [
           {
            "colorbar": {
             "outlinewidth": 0,
             "ticks": ""
            },
            "colorscale": [
             [
              0,
              "#0d0887"
             ],
             [
              0.1111111111111111,
              "#46039f"
             ],
             [
              0.2222222222222222,
              "#7201a8"
             ],
             [
              0.3333333333333333,
              "#9c179e"
             ],
             [
              0.4444444444444444,
              "#bd3786"
             ],
             [
              0.5555555555555556,
              "#d8576b"
             ],
             [
              0.6666666666666666,
              "#ed7953"
             ],
             [
              0.7777777777777778,
              "#fb9f3a"
             ],
             [
              0.8888888888888888,
              "#fdca26"
             ],
             [
              1,
              "#f0f921"
             ]
            ],
            "type": "histogram2dcontour"
           }
          ],
          "mesh3d": [
           {
            "colorbar": {
             "outlinewidth": 0,
             "ticks": ""
            },
            "type": "mesh3d"
           }
          ],
          "parcoords": [
           {
            "line": {
             "colorbar": {
              "outlinewidth": 0,
              "ticks": ""
             }
            },
            "type": "parcoords"
           }
          ],
          "pie": [
           {
            "automargin": true,
            "type": "pie"
           }
          ],
          "scatter": [
           {
            "fillpattern": {
             "fillmode": "overlay",
             "size": 10,
             "solidity": 0.2
            },
            "type": "scatter"
           }
          ],
          "scatter3d": [
           {
            "line": {
             "colorbar": {
              "outlinewidth": 0,
              "ticks": ""
             }
            },
            "marker": {
             "colorbar": {
              "outlinewidth": 0,
              "ticks": ""
             }
            },
            "type": "scatter3d"
           }
          ],
          "scattercarpet": [
           {
            "marker": {
             "colorbar": {
              "outlinewidth": 0,
              "ticks": ""
             }
            },
            "type": "scattercarpet"
           }
          ],
          "scattergeo": [
           {
            "marker": {
             "colorbar": {
              "outlinewidth": 0,
              "ticks": ""
             }
            },
            "type": "scattergeo"
           }
          ],
          "scattergl": [
           {
            "marker": {
             "colorbar": {
              "outlinewidth": 0,
              "ticks": ""
             }
            },
            "type": "scattergl"
           }
          ],
          "scattermapbox": [
           {
            "marker": {
             "colorbar": {
              "outlinewidth": 0,
              "ticks": ""
             }
            },
            "type": "scattermapbox"
           }
          ],
          "scatterpolar": [
           {
            "marker": {
             "colorbar": {
              "outlinewidth": 0,
              "ticks": ""
             }
            },
            "type": "scatterpolar"
           }
          ],
          "scatterpolargl": [
           {
            "marker": {
             "colorbar": {
              "outlinewidth": 0,
              "ticks": ""
             }
            },
            "type": "scatterpolargl"
           }
          ],
          "scatterternary": [
           {
            "marker": {
             "colorbar": {
              "outlinewidth": 0,
              "ticks": ""
             }
            },
            "type": "scatterternary"
           }
          ],
          "surface": [
           {
            "colorbar": {
             "outlinewidth": 0,
             "ticks": ""
            },
            "colorscale": [
             [
              0,
              "#0d0887"
             ],
             [
              0.1111111111111111,
              "#46039f"
             ],
             [
              0.2222222222222222,
              "#7201a8"
             ],
             [
              0.3333333333333333,
              "#9c179e"
             ],
             [
              0.4444444444444444,
              "#bd3786"
             ],
             [
              0.5555555555555556,
              "#d8576b"
             ],
             [
              0.6666666666666666,
              "#ed7953"
             ],
             [
              0.7777777777777778,
              "#fb9f3a"
             ],
             [
              0.8888888888888888,
              "#fdca26"
             ],
             [
              1,
              "#f0f921"
             ]
            ],
            "type": "surface"
           }
          ],
          "table": [
           {
            "cells": {
             "fill": {
              "color": "#EBF0F8"
             },
             "line": {
              "color": "white"
             }
            },
            "header": {
             "fill": {
              "color": "#C8D4E3"
             },
             "line": {
              "color": "white"
             }
            },
            "type": "table"
           }
          ]
         },
         "layout": {
          "annotationdefaults": {
           "arrowcolor": "#2a3f5f",
           "arrowhead": 0,
           "arrowwidth": 1
          },
          "autotypenumbers": "strict",
          "coloraxis": {
           "colorbar": {
            "outlinewidth": 0,
            "ticks": ""
           }
          },
          "colorscale": {
           "diverging": [
            [
             0,
             "#8e0152"
            ],
            [
             0.1,
             "#c51b7d"
            ],
            [
             0.2,
             "#de77ae"
            ],
            [
             0.3,
             "#f1b6da"
            ],
            [
             0.4,
             "#fde0ef"
            ],
            [
             0.5,
             "#f7f7f7"
            ],
            [
             0.6,
             "#e6f5d0"
            ],
            [
             0.7,
             "#b8e186"
            ],
            [
             0.8,
             "#7fbc41"
            ],
            [
             0.9,
             "#4d9221"
            ],
            [
             1,
             "#276419"
            ]
           ],
           "sequential": [
            [
             0,
             "#0d0887"
            ],
            [
             0.1111111111111111,
             "#46039f"
            ],
            [
             0.2222222222222222,
             "#7201a8"
            ],
            [
             0.3333333333333333,
             "#9c179e"
            ],
            [
             0.4444444444444444,
             "#bd3786"
            ],
            [
             0.5555555555555556,
             "#d8576b"
            ],
            [
             0.6666666666666666,
             "#ed7953"
            ],
            [
             0.7777777777777778,
             "#fb9f3a"
            ],
            [
             0.8888888888888888,
             "#fdca26"
            ],
            [
             1,
             "#f0f921"
            ]
           ],
           "sequentialminus": [
            [
             0,
             "#0d0887"
            ],
            [
             0.1111111111111111,
             "#46039f"
            ],
            [
             0.2222222222222222,
             "#7201a8"
            ],
            [
             0.3333333333333333,
             "#9c179e"
            ],
            [
             0.4444444444444444,
             "#bd3786"
            ],
            [
             0.5555555555555556,
             "#d8576b"
            ],
            [
             0.6666666666666666,
             "#ed7953"
            ],
            [
             0.7777777777777778,
             "#fb9f3a"
            ],
            [
             0.8888888888888888,
             "#fdca26"
            ],
            [
             1,
             "#f0f921"
            ]
           ]
          },
          "colorway": [
           "#636efa",
           "#EF553B",
           "#00cc96",
           "#ab63fa",
           "#FFA15A",
           "#19d3f3",
           "#FF6692",
           "#B6E880",
           "#FF97FF",
           "#FECB52"
          ],
          "font": {
           "color": "#2a3f5f"
          },
          "geo": {
           "bgcolor": "white",
           "lakecolor": "white",
           "landcolor": "#E5ECF6",
           "showlakes": true,
           "showland": true,
           "subunitcolor": "white"
          },
          "hoverlabel": {
           "align": "left"
          },
          "hovermode": "closest",
          "mapbox": {
           "style": "light"
          },
          "paper_bgcolor": "white",
          "plot_bgcolor": "#E5ECF6",
          "polar": {
           "angularaxis": {
            "gridcolor": "white",
            "linecolor": "white",
            "ticks": ""
           },
           "bgcolor": "#E5ECF6",
           "radialaxis": {
            "gridcolor": "white",
            "linecolor": "white",
            "ticks": ""
           }
          },
          "scene": {
           "xaxis": {
            "backgroundcolor": "#E5ECF6",
            "gridcolor": "white",
            "gridwidth": 2,
            "linecolor": "white",
            "showbackground": true,
            "ticks": "",
            "zerolinecolor": "white"
           },
           "yaxis": {
            "backgroundcolor": "#E5ECF6",
            "gridcolor": "white",
            "gridwidth": 2,
            "linecolor": "white",
            "showbackground": true,
            "ticks": "",
            "zerolinecolor": "white"
           },
           "zaxis": {
            "backgroundcolor": "#E5ECF6",
            "gridcolor": "white",
            "gridwidth": 2,
            "linecolor": "white",
            "showbackground": true,
            "ticks": "",
            "zerolinecolor": "white"
           }
          },
          "shapedefaults": {
           "line": {
            "color": "#2a3f5f"
           }
          },
          "ternary": {
           "aaxis": {
            "gridcolor": "white",
            "linecolor": "white",
            "ticks": ""
           },
           "baxis": {
            "gridcolor": "white",
            "linecolor": "white",
            "ticks": ""
           },
           "bgcolor": "#E5ECF6",
           "caxis": {
            "gridcolor": "white",
            "linecolor": "white",
            "ticks": ""
           }
          },
          "title": {
           "x": 0.05
          },
          "xaxis": {
           "automargin": true,
           "gridcolor": "white",
           "linecolor": "white",
           "ticks": "",
           "title": {
            "standoff": 15
           },
           "zerolinecolor": "white",
           "zerolinewidth": 2
          },
          "yaxis": {
           "automargin": true,
           "gridcolor": "white",
           "linecolor": "white",
           "ticks": "",
           "title": {
            "standoff": 15
           },
           "zerolinecolor": "white",
           "zerolinewidth": 2
          }
         }
        }
       }
      }
     },
     "metadata": {},
     "output_type": "display_data"
    },
    {
     "data": {
      "text/html": [
       "<div>\n",
       "<style scoped>\n",
       "    .dataframe tbody tr th:only-of-type {\n",
       "        vertical-align: middle;\n",
       "    }\n",
       "\n",
       "    .dataframe tbody tr th {\n",
       "        vertical-align: top;\n",
       "    }\n",
       "\n",
       "    .dataframe thead th {\n",
       "        text-align: right;\n",
       "    }\n",
       "</style>\n",
       "<table border=\"1\" class=\"dataframe\">\n",
       "  <thead>\n",
       "    <tr style=\"text-align: right;\">\n",
       "      <th></th>\n",
       "      <th>category</th>\n",
       "      <th>name</th>\n",
       "      <th>cwe</th>\n",
       "      <th>count</th>\n",
       "    </tr>\n",
       "  </thead>\n",
       "  <tbody>\n",
       "    <tr>\n",
       "      <th>0</th>\n",
       "      <td>-</td>\n",
       "      <td>integerOverflow</td>\n",
       "      <td>CWE-190</td>\n",
       "      <td>1</td>\n",
       "    </tr>\n",
       "    <tr>\n",
       "      <th>1</th>\n",
       "      <td>access</td>\n",
       "      <td>umask</td>\n",
       "      <td>CWE-732</td>\n",
       "      <td>63</td>\n",
       "    </tr>\n",
       "    <tr>\n",
       "      <th>2</th>\n",
       "      <td>buffer</td>\n",
       "      <td>CopyMemory</td>\n",
       "      <td>CWE-120</td>\n",
       "      <td>2</td>\n",
       "    </tr>\n",
       "    <tr>\n",
       "      <th>3</th>\n",
       "      <td>buffer</td>\n",
       "      <td>bcopy</td>\n",
       "      <td>CWE-120</td>\n",
       "      <td>2</td>\n",
       "    </tr>\n",
       "    <tr>\n",
       "      <th>4</th>\n",
       "      <td>buffer</td>\n",
       "      <td>char</td>\n",
       "      <td>CWE-119!/CWE-120</td>\n",
       "      <td>11310</td>\n",
       "    </tr>\n",
       "  </tbody>\n",
       "</table>\n",
       "</div>"
      ],
      "text/plain": [
       "  category             name               cwe  count\n",
       "0        -  integerOverflow           CWE-190      1\n",
       "1   access            umask           CWE-732     63\n",
       "2   buffer       CopyMemory           CWE-120      2\n",
       "3   buffer            bcopy           CWE-120      2\n",
       "4   buffer             char  CWE-119!/CWE-120  11310"
      ]
     },
     "execution_count": 34,
     "metadata": {},
     "output_type": "execute_result"
    }
   ],
   "source": [
    "dfplt = dfs[['category', 'name', 'cwe']].groupby(['category', 'name', 'cwe'], group_keys=False).size().reset_index(name='count')\n",
    "fig = px.sunburst(dfplt, path=['category', 'name', 'cwe'], values='count')\n",
    "# fig.write_image(\"figure/vul_statistics.pdf\")\n",
    "fig.show()\n",
    "dfplt.head()"
   ]
  },
  {
   "attachments": {},
   "cell_type": "markdown",
   "metadata": {},
   "source": [
    "# Top 10 vulnerabilities"
   ]
  },
  {
   "cell_type": "code",
   "execution_count": 35,
   "metadata": {},
   "outputs": [
    {
     "name": "stdout",
     "output_type": "stream",
     "text": [
      "+----+------------+---------+------------------+---------+\n",
      "|    | category   | name    | cwe              |   count |\n",
      "|----+------------+---------+------------------+---------|\n",
      "| 15 | buffer     | memcpy  | CWE-120          |   14139 |\n",
      "|  4 | buffer     | char    | CWE-119!/CWE-120 |   11310 |\n",
      "| 20 | buffer     | sprintf | CWE-120          |    4577 |\n",
      "| 25 | buffer     | strlen  | CWE-126          |    2883 |\n",
      "| 17 | buffer     | read    | CWE-120, CWE-20  |    1765 |\n",
      "| 24 | buffer     | strcpy  | CWE-120          |    1277 |\n",
      "| 47 | misc       | open    | CWE-362          |     873 |\n",
      "| 50 | race       | access  | CWE-362/CWE-367! |     847 |\n",
      "| 27 | buffer     | strncpy | CWE-120          |     534 |\n",
      "| 65 | shell      | system  | CWE-78           |     322 |\n",
      "+----+------------+---------+------------------+---------+\n"
     ]
    }
   ],
   "source": [
    "df_top10 = dfplt.sort_values(by=['count'], ascending=False).head(10)\n",
    "print(tabulate(df_top10, headers='keys', tablefmt='psql'))\n",
    "df_top10.to_latex(\"../result/top10.tex\", index=False, caption=\"Top 10 CWEs in IoT code\")"
   ]
  },
  {
   "cell_type": "code",
   "execution_count": 36,
   "metadata": {},
   "outputs": [
    {
     "name": "stdout",
     "output_type": "stream",
     "text": [
      "['integerOverflow', 'umask', 'CopyMemory', 'bcopy', 'char', 'equal', 'fgetc', 'fscanf', 'fscanf', 'getc', 'getchar', 'getenv', 'getopt', 'getopt_long', 'gets', 'memcpy', 'mismatch', 'read', 'realpath', 'scanf', 'sprintf', 'sscanf', 'sscanf', 'strcat', 'strcpy', 'strlen', 'strncat', 'strncpy', 'vfscanf', 'vsprintf', 'vsscanf', 'wchar_t', 'crypt', 'fprintf', 'printf', 'snprintf', 'sprintf', 'syslog', 'vfprintf', 'vprintf', 'vsnprintf', 'vsprintf', 'memalign', 'atoi', 'atol', 'chroot', 'fopen', 'open', 'ulimit', 'usleep', 'access', 'chmod', 'chown', 'readlink', 'vfork', 'random', 'setstate', 'srand', 'srandom', 'execl', 'execle', 'execlp', 'execv', 'execvp', 'popen', 'system', 'mkstemp', 'tmpfile']\n"
     ]
    }
   ],
   "source": [
    "print(list(dfplt.name))"
   ]
  },
  {
   "attachments": {},
   "cell_type": "markdown",
   "metadata": {},
   "source": [
    "# Analysis of IoTvulCode tool generated output for feeding non-vul statements:\n"
   ]
  },
  {
   "cell_type": "code",
   "execution_count": 37,
   "metadata": {},
   "outputs": [
    {
     "data": {
      "text/plain": [
       "<AxesSubplot: >"
      ]
     },
     "execution_count": 37,
     "metadata": {},
     "output_type": "execute_result"
    },
    {
     "data": {
      "image/png": "[encoded data removed]",
      "text/plain": [
       "<Figure size 640x480 with 1 Axes>"
      ]
     },
     "metadata": {},
     "output_type": "display_data"
    }
   ],
   "source": [
    "dfs.context.str.len().sort_values(ascending=False).reset_index(drop=True).plot(kind='box')"
   ]
  },
  {
   "cell_type": "code",
   "execution_count": 38,
   "metadata": {},
   "outputs": [
    {
     "data": {
      "text/plain": [
       "<AxesSubplot: >"
      ]
     },
     "execution_count": 38,
     "metadata": {},
     "output_type": "execute_result"
    },
    {
     "data": {
      "image/png": "[encoded data removed]",
      "text/plain": [
       "<Figure size 640x480 with 1 Axes>"
      ]
     },
     "metadata": {},
     "output_type": "display_data"
    }
   ],
   "source": [
    "# dfs.context.head(200).str.len().plot(kind='bar')\n",
    "pd.Series(sorted(list(dfs.context.head(200).str.len()))).plot(kind='bar')"
   ]
  },
  {
   "cell_type": "code",
   "execution_count": 39,
   "metadata": {},
   "outputs": [
    {
     "data": {
      "text/plain": [
       "<AxesSubplot: ylabel='Frequency'>"
      ]
     },
     "execution_count": 39,
     "metadata": {},
     "output_type": "execute_result"
    },
    {
     "data": {
      "image/png": "[encoded data removed]",
      "text/plain": [
       "<Figure size 640x480 with 1 Axes>"
      ]
     },
     "metadata": {},
     "output_type": "display_data"
    }
   ],
   "source": [
    "# pd.Series([len(x) for x in dfs.context.head(2000) if len(x)>100]).plot(kind='hist')\n",
    "# pd.Series([len(x) for x in dfs.context.head(200) if len(x)<10]).plot(kind='hist', xlabel='#chars', ylabel='#statements', xlim=[0, 80])\n",
    "pd.Series([len(x) for x in dff.code.head(200) if len(x)>10]).plot.hist(xlabel='#chars', ylabel='#statements')"
   ]
  },
  {
   "cell_type": "code",
   "execution_count": 41,
   "metadata": {},
   "outputs": [
    {
     "data": {
      "text/plain": [
       "[49, 30, 0, 43, 17]"
      ]
     },
     "execution_count": 41,
     "metadata": {},
     "output_type": "execute_result"
    }
   ],
   "source": [
    "def filter_unusual_statements(statements, min_len, max_len, df):\n",
    "    \"\"\"\" \n",
    "    # https://peps.python.org/pep-0007/\n",
    "    # https://www.python.org/dev/peps/pep-0007/ \n",
    "\n",
    "    \"\"\"\n",
    "    filtered_statements = []\n",
    "    for statement in statements:\n",
    "        if len(statement) >= min_len and len(statement) <= max_len:\n",
    "            filtered_statements.append(statement)\n",
    "   \n",
    "    # take size of the vul statements as basis\n",
    "    df = pd.Series(statements)   \n",
    "    df = df.str.len()\n",
    "    \n",
    "    stat_sizes =  list(df[df.between(max_len, min_len)].reset_index(drop=True))\n",
    "    \n",
    "    sample_size = 5 if len(stat_sizes)>5 else len(stat_sizes)-1\n",
    "    stat_sizes = random.sample(set(stat_sizes), sample_size)\n",
    "    return stat_sizes\n",
    "\n",
    "\n",
    "# standard variables:\n",
    "max_len = 79  #TODO: double check pep standards\n",
    "\n",
    "# TODO: check min_len as well, otherwise the below code unnessesarily checks one extra condition \n",
    "# because there is no any statement/fun with len below that. \n",
    "# for min_len (eg, 7 characters)\n",
    "min_len = dfs.context.str.len().sort_values(ascending=False).reset_index(drop=True).min()\n",
    "\n",
    "\n",
    "lines = dff.code[0].splitlines()\n",
    "stat_sizes = filter_unusual_statements(lines, max_len, min_len, dfs)\n",
    "stat_sizes"
   ]
  },
  {
   "cell_type": "code",
   "execution_count": 42,
   "metadata": {},
   "outputs": [],
   "source": [
    "# df_dnn = pd.read_csv('../data/iDetect_refine/DNN_Binary.csv')\n",
    "# df_conti = pd.read_csv('../data/contiki-master_Binary.csv')\n",
    "# df_rasp = pd.read_csv('../data/raspberry_metrics.csv')\n",
    "# df_rasp_flaw = pd.read_csv('../data/raspberry_flaw.csv')\n",
    "\n",
    "# print('Shape of DNN data: ', df_dnn.shape)\n",
    "# print('Shape of contiki: ', df_conti.shape)\n",
    "# print('Shape of raspberry: ', df_rasp.shape)\n",
    "# print('Shape of raspberry flaws: ', df_rasp_flaw.shape)\n",
    "\n",
    "# dfcon = dfcon.rename(columns={'context': 'code'})\n",
    "# dfcon.to_csv('../data/contiki-master_Binary.csv', index=False)"
   ]
  },
  {
   "attachments": {},
   "cell_type": "markdown",
   "metadata": {},
   "source": [
    "# Convert hyperparameters list to latex table format"
   ]
  },
  {
   "cell_type": "code",
   "execution_count": 43,
   "metadata": {},
   "outputs": [
    {
     "name": "stdout",
     "output_type": "stream",
     "text": [
      "\\begin{table}\n",
      "\\centering\n",
      "\\caption{Hyperparameter Settings}\n",
      "\\label{Hyperparameter Settings}\n",
      "\\begin{tabular}{ll}\n",
      "\\toprule\n",
      "hyperparameter &                           value \\\\\n",
      "\\midrule\n",
      "        epochs &                              50 \\\\\n",
      "         batch &                             128 \\\\\n",
      "  input\\_length &                             150 \\\\\n",
      "     input\\_dim &                             150 \\\\\n",
      "    output\\_dim &                              32 \\\\\n",
      "            lr &                            1e-4 \\\\\n",
      "      patience &                             100 \\\\\n",
      "     optimizer &                            adam \\\\\n",
      "        l2\\_reg &                            1e-4 \\\\\n",
      "       dropout &                             0.0 \\\\\n",
      " recur\\_dropout &                             0.0 \\\\\n",
      "        beta\\_1 &                             0.9 \\\\\n",
      "        beta\\_2 &                           0.999 \\\\\n",
      "       epsilon &                           1e-08 \\\\\n",
      "         decay &                             0.0 \\\\\n",
      "       verbose &                               2 \\\\\n",
      "          loss & sparse\\_categorical\\_crossentropy \\\\\n",
      "\\bottomrule\n",
      "\\end{tabular}\n",
      "\\end{table}\n",
      "\n"
     ]
    }
   ],
   "source": [
    "def hyperpara2latex(yaml_file):\n",
    "    \"\"\"\n",
    "    load the yaml file and return a dictionary\n",
    "    \"\"\"\n",
    "    config = {}\n",
    "    cols = ['hyperparameter', 'value']\n",
    "    \n",
    "    ext = Path(yaml_file).suffix.replace('.', '') \n",
    "    \n",
    "    with open(yaml_file, \"r\") as stream:\n",
    "        try:\n",
    "            config = yaml.safe_load(stream)\n",
    "            df = pd.DataFrame([config['dnn']]).T.reset_index()\n",
    "            print(df.to_latex(index=False, \n",
    "                    header=cols, \n",
    "                    #   column_format='|l|l|', \n",
    "                    label='Hyperparameter Settings', \n",
    "                    caption='Hyperparameter Settings'))\n",
    "        except yaml.YAMLError as exc:\n",
    "            print(exc)\n",
    "\n",
    "config = hyperpara2latex('../config.yaml')"
   ]
  },
  {
   "cell_type": "code",
   "execution_count": 44,
   "metadata": {},
   "outputs": [
    {
     "data": {
      "text/plain": [
       "456440"
      ]
     },
     "execution_count": 44,
     "metadata": {},
     "output_type": "execute_result"
    }
   ],
   "source": [
    "len(dff.drop_duplicates(subset=['file', 'long_name', 'start_line', 'end_line', 'cwe'], keep='last').reset_index(drop=True))"
   ]
  },
  {
   "cell_type": "code",
   "execution_count": 45,
   "metadata": {},
   "outputs": [
    {
     "name": "stdout",
     "output_type": "stream",
     "text": [
      "data/projects/linux-rpi-6.1.y\n",
      "(1441750, 16)\n",
      "Benign              1401461\n",
      "CWE-120               20552\n",
      "CWE-119!/CWE-120      10953\n",
      "CWE-126                2872\n",
      "CWE-120, CWE-20        1980\n",
      "CWE-362                1084\n",
      "CWE-362/CWE-367!        844\n",
      "CWE-134                 790\n",
      "CWE-78                  368\n",
      "CWE-327                 305\n",
      "CWE-190                 213\n",
      "CWE-807, CWE-20          75\n",
      "CWE-676                  64\n",
      "CWE-732                  63\n",
      "CWE-120/CWE-785!         55\n",
      "CWE-377                  37\n",
      "CWE-362, CWE-20          29\n",
      "CWE-250, CWE-22           5\n",
      "Name: cwe, dtype: int64\n",
      "buffer      36487\n",
      "misc         1058\n",
      "race          904\n",
      "format        790\n",
      "shell         368\n",
      "integer       212\n",
      "crypto        210\n",
      "random         95\n",
      "access         63\n",
      "obsolete       54\n",
      "tmpfile        37\n",
      "free           10\n",
      "-               1\n",
      "Name: category, dtype: int64\n",
      "----------------------\n",
      "data/projects/contiki-2.4\n",
      "(8334, 16)\n",
      "Benign              7340\n",
      "CWE-119!/CWE-120     504\n",
      "CWE-120              312\n",
      "CWE-126               83\n",
      "CWE-362               31\n",
      "CWE-120, CWE-20       28\n",
      "CWE-134               23\n",
      "CWE-676                6\n",
      "CWE-327                3\n",
      "CWE-362/CWE-367!       3\n",
      "CWE-190                1\n",
      "Name: cwe, dtype: int64\n",
      "buffer      927\n",
      "misc         31\n",
      "format       23\n",
      "obsolete      6\n",
      "random        3\n",
      "race          3\n",
      "integer       1\n",
      "Name: category, dtype: int64\n",
      "----------------------\n"
     ]
    }
   ],
   "source": [
    "projects = list(dfs.project.unique())\n",
    "\n",
    "for project in projects:\n",
    "    print(project)\n",
    "    df = dfs[dfs.project == project]\n",
    "    print(df.shape)\n",
    "    print(df.cwe.value_counts())\n",
    "    print(df.category.value_counts())\n",
    "    print('----------------------')"
   ]
  },
  {
   "attachments": {},
   "cell_type": "markdown",
   "metadata": {},
   "source": [
    "## Create a latex table from the statistics of projects"
   ]
  },
  {
   "cell_type": "code",
   "execution_count": 98,
   "metadata": {},
   "outputs": [
    {
     "data": {
      "text/html": [
       "<div>\n",
       "<style scoped>\n",
       "    .dataframe tbody tr th:only-of-type {\n",
       "        vertical-align: middle;\n",
       "    }\n",
       "\n",
       "    .dataframe tbody tr th {\n",
       "        vertical-align: top;\n",
       "    }\n",
       "\n",
       "    .dataframe thead th {\n",
       "        text-align: right;\n",
       "    }\n",
       "</style>\n",
       "<table border=\"1\" class=\"dataframe\">\n",
       "  <thead>\n",
       "    <tr style=\"text-align: right;\">\n",
       "      <th></th>\n",
       "      <th></th>\n",
       "      <th>count</th>\n",
       "    </tr>\n",
       "    <tr>\n",
       "      <th>project</th>\n",
       "      <th>cwe</th>\n",
       "      <th></th>\n",
       "    </tr>\n",
       "  </thead>\n",
       "  <tbody>\n",
       "    <tr>\n",
       "      <th rowspan=\"2\" valign=\"top\">contiki-2.4</th>\n",
       "      <th>Benign</th>\n",
       "      <td>7340</td>\n",
       "    </tr>\n",
       "    <tr>\n",
       "      <th>Vulnerable</th>\n",
       "      <td>994</td>\n",
       "    </tr>\n",
       "    <tr>\n",
       "      <th rowspan=\"2\" valign=\"top\">linux-rpi-6.1.y</th>\n",
       "      <th>Benign</th>\n",
       "      <td>1401461</td>\n",
       "    </tr>\n",
       "    <tr>\n",
       "      <th>Vulnerable</th>\n",
       "      <td>40289</td>\n",
       "    </tr>\n",
       "  </tbody>\n",
       "</table>\n",
       "</div>"
      ],
      "text/plain": [
       "                              count\n",
       "project         cwe                \n",
       "contiki-2.4     Benign         7340\n",
       "                Vulnerable      994\n",
       "linux-rpi-6.1.y Benign      1401461\n",
       "                Vulnerable    40289"
      ]
     },
     "execution_count": 98,
     "metadata": {},
     "output_type": "execute_result"
    }
   ],
   "source": [
    "def save_latex(df, file):\n",
    "    \"\"\"\n",
    "    save the dataframe as latex table\n",
    "    \"\"\"\n",
    "    styler = df.style\n",
    "    # styler.applymap_index(lambda v: \"font-weight: bold;\", axis=\"index\")\n",
    "    styler.applymap_index(lambda v: \"font-weight: bold;\", axis=\"columns\")\n",
    "    res = styler.to_latex(convert_css=True, column_format='|l|l|r|')\n",
    "\n",
    "    with open(file, 'w') as f:\n",
    "        f.write(res)\n",
    "    return res\n",
    "\n",
    "# make class binary type benign/vulnerable\n",
    "dfs.loc[dfs.cwe!=\"Benign\", 'cwe'] = \"Vulnerable\"\n",
    "dfs['project'] = dfs.project.str.split('/').str[-1]\n",
    "\n",
    "prj_stat = dfs.groupby(['project', 'cwe']).size().reset_index(name='count')\n",
    "prj_s = prj_stat.groupby(['project', 'cwe']).sum()\n",
    "\n",
    "res = tabulate(save_latex(prj_s, '../paper/project_stat.tex'))\n",
    "prj_s"
   ]
  },
  {
   "cell_type": "code",
   "execution_count": 108,
   "metadata": {},
   "outputs": [],
   "source": [
    "prj_sflat = prj_s.reset_index()\n",
    "prj_sflat = prj_sflat.pivot(index='project', columns='cwe', values='count')\n",
    "prj_sflat.reset_index().to_latex('../paper/project_stat_flat.tex', index=False)"
   ]
  },
  {
   "cell_type": "code",
   "execution_count": 126,
   "metadata": {},
   "outputs": [
    {
     "name": "stdout",
     "output_type": "stream",
     "text": [
      "\\begin{table}\n",
      "\\centering\n",
      "\\caption{Top 10 CWEs}\n",
      "\\label{Top 10 CWEs}\n",
      "\\begin{tabular}{lr}\n",
      "\\toprule\n",
      "                            cwe &  count \\\\\n",
      "\\midrule\n",
      "                        CWE-120 &  18799 \\\\\n",
      "                    CWE-unknown &   6663 \\\\\n",
      "               CWE-119!/CWE-120 &   5616 \\\\\n",
      "                        CWE-457 &   2518 \\\\\n",
      "                        CWE-126 &   1987 \\\\\n",
      "                        CWE-190 &   1696 \\\\\n",
      "['CWE-120', 'CWE-119!/CWE-120'] &   1322 \\\\\n",
      "                CWE-120, CWE-20 &   1157 \\\\\n",
      "                        CWE-362 &    691 \\\\\n",
      "         ['CWE-120', 'CWE-126'] &    608 \\\\\n",
      "\\bottomrule\n",
      "\\end{tabular}\n",
      "\\end{table}\n",
      "\n"
     ]
    }
   ],
   "source": [
    "# make class binary type benign/vulnerable\n",
    "dff.loc[dfs.cwe!=\"Benign\", 'cwe'] = \"Vulnerable\"\n",
    "\n",
    "prj_ff = dff.groupby(['project', 'cwe']).size().reset_index(name='count')\n",
    "prj_f = prj_ff.groupby(['cwe']).sum().sort_values(by='count', ascending=False).reset_index()\n",
    "prj_f = prj_f[prj_f.cwe != 'Benign'].head(10)\n",
    "print(prj_f.to_latex(index=False, caption='Top 10 CWEs', label='Top 10 CWEs'))"
   ]
  },
  {
   "cell_type": "code",
   "execution_count": 110,
   "metadata": {},
   "outputs": [
    {
     "data": {
      "text/html": [
       "<div>\n",
       "<style scoped>\n",
       "    .dataframe tbody tr th:only-of-type {\n",
       "        vertical-align: middle;\n",
       "    }\n",
       "\n",
       "    .dataframe tbody tr th {\n",
       "        vertical-align: top;\n",
       "    }\n",
       "\n",
       "    .dataframe thead th {\n",
       "        text-align: right;\n",
       "    }\n",
       "</style>\n",
       "<table border=\"1\" class=\"dataframe\">\n",
       "  <thead>\n",
       "    <tr style=\"text-align: right;\">\n",
       "      <th></th>\n",
       "      <th>count</th>\n",
       "    </tr>\n",
       "    <tr>\n",
       "      <th>cwe</th>\n",
       "      <th></th>\n",
       "    </tr>\n",
       "  </thead>\n",
       "  <tbody>\n",
       "    <tr>\n",
       "      <th>Benign</th>\n",
       "      <td>1408801</td>\n",
       "    </tr>\n",
       "    <tr>\n",
       "      <th>Vulnerable</th>\n",
       "      <td>41283</td>\n",
       "    </tr>\n",
       "  </tbody>\n",
       "</table>\n",
       "</div>"
      ],
      "text/plain": [
       "              count\n",
       "cwe                \n",
       "Benign      1408801\n",
       "Vulnerable    41283"
      ]
     },
     "execution_count": 110,
     "metadata": {},
     "output_type": "execute_result"
    }
   ],
   "source": [
    "prj_s = dfs.groupby(['project', 'cwe']).size().reset_index(name='count')\n",
    "prj_s = prj_s.groupby(['cwe']).sum()\n",
    "prj_s"
   ]
  },
  {
   "attachments": {},
   "cell_type": "markdown",
   "metadata": {},
   "source": [
    "# Show the description of the function-level data"
   ]
  },
  {
   "cell_type": "code",
   "execution_count": 48,
   "metadata": {},
   "outputs": [],
   "source": [
    "df_describe = dff.drop(\n",
    "    labels=['top_nesting_level', 'fan_in', 'fan_out', 'general_fan_out', 'content', 'long_name', 'fun_name', 'full_parameters', 'code'],\n",
    "    axis=1, \n",
    "    errors='ignore').describe().T"
   ]
  },
  {
   "cell_type": "code",
   "execution_count": 49,
   "metadata": {},
   "outputs": [
    {
     "name": "stdout",
     "output_type": "stream",
     "text": [
      "#functions:  456440\n"
     ]
    },
    {
     "data": {
      "text/html": [
       "<div>\n",
       "<style scoped>\n",
       "    .dataframe tbody tr th:only-of-type {\n",
       "        vertical-align: middle;\n",
       "    }\n",
       "\n",
       "    .dataframe tbody tr th {\n",
       "        vertical-align: top;\n",
       "    }\n",
       "\n",
       "    .dataframe thead th {\n",
       "        text-align: right;\n",
       "    }\n",
       "</style>\n",
       "<table border=\"1\" class=\"dataframe\">\n",
       "  <thead>\n",
       "    <tr style=\"text-align: right;\">\n",
       "      <th></th>\n",
       "      <th>features</th>\n",
       "      <th>unique</th>\n",
       "      <th>top</th>\n",
       "      <th>freq</th>\n",
       "    </tr>\n",
       "  </thead>\n",
       "  <tbody>\n",
       "    <tr>\n",
       "      <th>0</th>\n",
       "      <td>cyclomatic_complexity</td>\n",
       "      <td>199</td>\n",
       "      <td>1</td>\n",
       "      <td>135614</td>\n",
       "    </tr>\n",
       "    <tr>\n",
       "      <th>1</th>\n",
       "      <td>nloc</td>\n",
       "      <td>513</td>\n",
       "      <td>4</td>\n",
       "      <td>37690</td>\n",
       "    </tr>\n",
       "    <tr>\n",
       "      <th>2</th>\n",
       "      <td>token_count</td>\n",
       "      <td>2090</td>\n",
       "      <td>17</td>\n",
       "      <td>4784</td>\n",
       "    </tr>\n",
       "    <tr>\n",
       "      <th>3</th>\n",
       "      <td>name</td>\n",
       "      <td>429371</td>\n",
       "      <td>main</td>\n",
       "      <td>630</td>\n",
       "    </tr>\n",
       "    <tr>\n",
       "      <th>4</th>\n",
       "      <td>start_line</td>\n",
       "      <td>11701</td>\n",
       "      <td>71</td>\n",
       "      <td>550</td>\n",
       "    </tr>\n",
       "    <tr>\n",
       "      <th>5</th>\n",
       "      <td>end_line</td>\n",
       "      <td>11752</td>\n",
       "      <td>121</td>\n",
       "      <td>552</td>\n",
       "    </tr>\n",
       "    <tr>\n",
       "      <th>6</th>\n",
       "      <td>file</td>\n",
       "      <td>17619</td>\n",
       "      <td>data/projects/linux-rpi-6.1.y/drivers/infiniba...</td>\n",
       "      <td>602</td>\n",
       "    </tr>\n",
       "    <tr>\n",
       "      <th>7</th>\n",
       "      <td>isVul</td>\n",
       "      <td>1</td>\n",
       "      <td>1</td>\n",
       "      <td>456440</td>\n",
       "    </tr>\n",
       "    <tr>\n",
       "      <th>8</th>\n",
       "      <td>cwe</td>\n",
       "      <td>366</td>\n",
       "      <td>Benign</td>\n",
       "      <td>411053</td>\n",
       "    </tr>\n",
       "    <tr>\n",
       "      <th>9</th>\n",
       "      <td>project</td>\n",
       "      <td>2</td>\n",
       "      <td>data/projects/linux-rpi-6.1.y</td>\n",
       "      <td>454096</td>\n",
       "    </tr>\n",
       "  </tbody>\n",
       "</table>\n",
       "</div>"
      ],
      "text/plain": [
       "                features  unique  \\\n",
       "0  cyclomatic_complexity     199   \n",
       "1                   nloc     513   \n",
       "2            token_count    2090   \n",
       "3                   name  429371   \n",
       "4             start_line   11701   \n",
       "5               end_line   11752   \n",
       "6                   file   17619   \n",
       "7                  isVul       1   \n",
       "8                    cwe     366   \n",
       "9                project       2   \n",
       "\n",
       "                                                 top    freq  \n",
       "0                                                  1  135614  \n",
       "1                                                  4   37690  \n",
       "2                                                 17    4784  \n",
       "3                                               main     630  \n",
       "4                                                 71     550  \n",
       "5                                                121     552  \n",
       "6  data/projects/linux-rpi-6.1.y/drivers/infiniba...     602  \n",
       "7                                                  1  456440  \n",
       "8                                             Benign  411053  \n",
       "9                      data/projects/linux-rpi-6.1.y  454096  "
      ]
     },
     "execution_count": 49,
     "metadata": {},
     "output_type": "execute_result"
    }
   ],
   "source": [
    "print('#functions: ', dff.shape[0])\n",
    "df_describe = df_describe.reset_index().rename(columns={'index': 'features'}).drop(labels=['count'], axis=1)\n",
    "# The freq is the most common value’s frequency. The top is the most common value.\n",
    "df_describe"
   ]
  },
  {
   "cell_type": "code",
   "execution_count": 60,
   "metadata": {},
   "outputs": [
    {
     "name": "stdout",
     "output_type": "stream",
     "text": [
      "\\begin{table}\n",
      "\\centering\n",
      "\\caption{Function Statistics}\n",
      "\\label{Function Statistics}\n",
      "\\begin{tabular}{rrrrr}\n",
      "\\toprule\n",
      "             features & unique &                           top &   freq \\\\\n",
      "\\midrule\n",
      "cyclomatic\\_complexity &    199 &                             1 & 135614 \\\\\n",
      "                 nloc &    513 &                             4 &  37690 \\\\\n",
      "          token\\_count &   2090 &                            17 &   4784 \\\\\n",
      "                 name & 429371 &                          main &    630 \\\\\n",
      "           start\\_line &  11701 &                            71 &    550 \\\\\n",
      "             end\\_line &  11752 &                           121 &    552 \\\\\n",
      "                isVul &      1 &                             1 & 456440 \\\\\n",
      "                  cwe &    366 &                        Benign & 411053 \\\\\n",
      "              project &      2 & data/projects/linux-rpi-6.1.y & 454096 \\\\\n",
      "\\bottomrule\n",
      "\\end{tabular}\n",
      "\\end{table}\n",
      "\n"
     ]
    }
   ],
   "source": [
    "print(df_describe[~df_describe.features.isin(['file'])].to_latex(\n",
    "    index=False, \n",
    "    column_format='rrrrr', \n",
    "    label='Function Statistics', \n",
    "    caption='Function Statistics')\n",
    "    )"
   ]
  },
  {
   "cell_type": "code",
   "execution_count": 64,
   "metadata": {},
   "outputs": [
    {
     "data": {
      "text/plain": [
       "sampling      1408801\n",
       "FlawFinder      41282\n",
       "CppCheck            1\n",
       "Name: tool, dtype: int64"
      ]
     },
     "execution_count": 64,
     "metadata": {},
     "output_type": "execute_result"
    }
   ],
   "source": [
    "dfs.tool.value_counts()"
   ]
  },
  {
   "cell_type": "code",
   "execution_count": 70,
   "metadata": {},
   "outputs": [
    {
     "data": {
      "text/plain": [
       "1450084"
      ]
     },
     "execution_count": 70,
     "metadata": {},
     "output_type": "execute_result"
    }
   ],
   "source": [
    "dfs.context.nunique()"
   ]
  }
 ],
 "metadata": {
  "kernelspec": {
   "display_name": "vulcode",
   "language": "python",
   "name": "python3"
  },
  "language_info": {
   "codemirror_mode": {
    "name": "ipython",
    "version": 3
   },
   "file_extension": ".py",
   "mimetype": "text/x-python",
   "name": "python",
   "nbconvert_exporter": "python",
   "pygments_lexer": "ipython3",
   "version": "3.8.0"
  },
  "orig_nbformat": 4,
  "vscode": {
   "interpreter": {
    "hash": "770d70f40277e0fadd6bc1f7a5fecfd799eee3cbb57c500ccfb48eb07fd2c1ce"
   }
  }
 },
 "nbformat": 4,
 "nbformat_minor": 2
}
