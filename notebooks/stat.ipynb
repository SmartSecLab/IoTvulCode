{
 "cells": [
  {
   "attachments": {},
   "cell_type": "markdown",
   "metadata": {},
   "source": [
    "# Statistics on the output data. "
   ]
  },
  {
   "cell_type": "markdown",
   "metadata": {},
   "source": [
    "### Loading data from the sqlite database to the dataframes"
   ]
  },
  {
   "cell_type": "code",
   "execution_count": 271,
   "metadata": {},
   "outputs": [
    {
     "data": {
      "text/plain": [
       "Index(['file', 'line', 'column', 'defaultlevel', 'level', 'category', 'name',\n",
       "       'msg', 'note', 'cwe', 'context', 'helpuri', 'severity', 'tool', 'type',\n",
       "       'project'],\n",
       "      dtype='object')"
      ]
     },
     "execution_count": 271,
     "metadata": {},
     "output_type": "execute_result"
    }
   ],
   "source": [
    "import pandas as pd\n",
    "import matplotlib.pyplot as plt\n",
    "import seaborn as sns\n",
    "import plotly.express as px\n",
    "import lizard\n",
    "import subprocess as sub\n",
    "from pylibsrcml import srcml\n",
    "import os\n",
    "import re \n",
    "import xml.etree.ElementTree as et \n",
    "import warnings\n",
    "from sqlite3 import connect\n",
    "from argparse import ArgumentParser\n",
    "from configparser import ConfigParser\n",
    "import yaml\n",
    "from pathlib import Path\n",
    "import random\n",
    "from tabulate import tabulate\n",
    "\n",
    "warnings.filterwarnings(\"ignore\")\n",
    "\n",
    "\n",
    "# database = '../data/IoT.db'\n",
    "# database = '../data/TinyVul.db'\n",
    "database = \"/Users/guru/research/TinyVul-v2-copy.db\"\n",
    "conn= connect(database)\n",
    "\n",
    "random.seed(0)\n",
    "\n",
    "dfp = pd.read_sql_query(\"SELECT * FROM project\", con=conn)\n",
    "dfs = pd.read_sql_query(\"SELECT * FROM statement\", con=conn)\n",
    "dff = pd.read_sql_query(\"SELECT * FROM function\", con=conn)\n",
    "\n",
    "if not os.path.exists(\"figure\"):\n",
    "    os.mkdir(\"figure\")\n",
    "dfs.columns"
   ]
  },
  {
   "cell_type": "code",
   "execution_count": 308,
   "metadata": {},
   "outputs": [
    {
     "data": {
      "text/plain": [
       "Benign         121566\n",
       "CWE-unknown     20724\n",
       "Name: cwe, dtype: int64"
      ]
     },
     "execution_count": 308,
     "metadata": {},
     "output_type": "execute_result"
    }
   ],
   "source": [
    "dff.cwe.value_counts()"
   ]
  },
  {
   "cell_type": "markdown",
   "metadata": {},
   "source": [
    "### Plotting subburset plot from the frequency of category, name and cwe types. "
   ]
  },
  {
   "cell_type": "code",
   "execution_count": 272,
   "metadata": {},
   "outputs": [
    {
     "data": {
      "application/vnd.plotly.v1+json": {
       "config": {
        "plotlyServerURL": "https://plot.ly"
       },
       "data": [
        {
         "branchvalues": "total",
         "customdata": [
          [
           6425
          ],
          [
           181
          ],
          [
           2
          ],
          [
           1
          ],
          [
           1
          ],
          [
           7000
          ],
          [
           2429
          ],
          [
           16
          ],
          [
           249
          ],
          [
           709
          ],
          [
           27
          ],
          [
           285
          ],
          [
           1
          ],
          [
           15
          ],
          [
           11
          ],
          [
           15
          ],
          [
           3
          ],
          [
           33
          ],
          [
           16
          ],
          [
           2
          ],
          [
           793
          ],
          [
           2
          ],
          [
           25
          ],
          [
           1
          ],
          [
           3
          ],
          [
           14
          ],
          [
           15
          ],
          [
           40
          ],
          [
           1715
          ],
          [
           2
          ],
          [
           33
          ],
          [
           159
          ],
          [
           133
          ],
          [
           97
          ],
          [
           23
          ],
          [
           37
          ],
          [
           5
          ],
          [
           51
          ],
          [
           9
          ],
          [
           96
          ],
          [
           5
          ],
          [
           1085
          ],
          [
           2
          ],
          [
           350
          ],
          [
           40
          ],
          [
           16
          ],
          [
           1
          ],
          [
           3
          ],
          [
           7
          ],
          [
           133
          ],
          [
           389
          ],
          [
           14
          ],
          [
           333
          ],
          [
           2
          ],
          [
           3
          ],
          [
           3
          ],
          [
           4
          ],
          [
           1
          ],
          [
           38
          ],
          [
           10
          ],
          [
           4
          ],
          [
           3
          ],
          [
           835
          ],
          [
           14
          ],
          [
           40
          ],
          [
           9
          ],
          [
           48
          ],
          [
           6
          ],
          [
           6
          ],
          [
           150
          ],
          [
           68
          ],
          [
           41
          ],
          [
           25
          ],
          [
           5
          ],
          [
           1
          ],
          [
           11
          ],
          [
           2
          ],
          [
           1
          ],
          [
           6
          ],
          [
           1
          ],
          [
           4
          ],
          [
           13
          ],
          [
           178
          ],
          [
           2
          ],
          [
           11
          ],
          [
           8
          ],
          [
           4
          ],
          [
           1
          ],
          [
           55
          ],
          [
           5
          ],
          [
           433
          ],
          [
           2
          ],
          [
           5
          ],
          [
           1228
          ],
          [
           2
          ],
          [
           42
          ],
          [
           1
          ],
          [
           7
          ],
          [
           1
          ],
          [
           15
          ],
          [
           39
          ],
          [
           3421
          ],
          [
           483
          ],
          [
           50
          ],
          [
           55
          ],
          [
           12
          ],
          [
           13
          ],
          [
           2
          ],
          [
           55
          ],
          [
           1
          ],
          [
           33
          ],
          [
           16
          ],
          [
           2
          ],
          [
           21
          ],
          [
           4
          ],
          [
           7396
          ],
          [
           7
          ],
          [
           5
          ],
          [
           4
          ],
          [
           42
          ],
          [
           121
          ],
          [
           33
          ],
          [
           277
          ],
          [
           34
          ],
          [
           5
          ],
          [
           2
          ],
          [
           70
          ],
          [
           2245
          ],
          [
           654
          ],
          [
           14
          ],
          [
           1
          ],
          [
           66
          ],
          [
           37
          ],
          [
           71
          ],
          [
           88
          ],
          [
           1639
          ],
          [
           23
          ],
          [
           276
          ],
          [
           257
          ],
          [
           32
          ],
          [
           24
          ],
          [
           1
          ],
          [
           2
          ],
          [
           1078
          ],
          [
           37
          ],
          [
           2
          ],
          [
           5
          ],
          [
           14
          ],
          [
           4
          ],
          [
           433
          ],
          [
           2
          ],
          [
           5
          ],
          [
           1228
          ],
          [
           2
          ],
          [
           2
          ],
          [
           300.408
          ],
          [
           11
          ],
          [
           96
          ],
          [
           5
          ],
          [
           9
          ],
          [
           1
          ],
          [
           8
          ],
          [
           6425
          ],
          [
           3
          ],
          [
           7
          ],
          [
           2
          ],
          [
           150
          ],
          [
           7
          ],
          [
           349.005698005698
          ],
          [
           4
          ],
          [
           14
          ],
          [
           38
          ],
          [
           48
          ],
          [
           15
          ],
          [
           6
          ],
          [
           1
          ],
          [
           4
          ],
          [
           15
          ],
          [
           39
          ],
          [
           3421
          ],
          [
           483
          ],
          [
           133
          ],
          [
           50
          ],
          [
           46.75
          ],
          [
           11.083333333333334
          ],
          [
           14.071428571428571
          ],
          [
           2.6
          ],
          [
           55
          ],
          [
           1
          ],
          [
           33
          ],
          [
           16
          ],
          [
           2
          ],
          [
           1085
          ],
          [
           21
          ],
          [
           6
          ],
          [
           1
          ],
          [
           10
          ],
          [
           4
          ],
          [
           7203.446512920255
          ],
          [
           4
          ],
          [
           1
          ],
          [
           40
          ],
          [
           5
          ],
          [
           3
          ],
          [
           2
          ],
          [
           40
          ],
          [
           389
          ],
          [
           7
          ],
          [
           5
          ],
          [
           10.882352941176471
          ],
          [
           42
          ],
          [
           142.57857142857142
          ],
          [
           36.83561643835616
          ],
          [
           659.418691588785
          ],
          [
           14
          ],
          [
           34
          ],
          [
           11.631578947368421
          ],
          [
           6
          ],
          [
           2
          ],
          [
           1
          ],
          [
           11
          ],
          [
           70
          ],
          [
           2126.8772077375947
          ],
          [
           1992.819496855346
          ],
          [
           15.066666666666666
          ],
          [
           1
          ],
          [
           48.94392523364486
          ],
          [
           37
          ],
          [
           249
          ],
          [
           709
          ],
          [
           71
          ],
          [
           88
          ],
          [
           1677.861061419201
          ],
          [
           25.16
          ],
          [
           280.572192513369
          ],
          [
           257
          ],
          [
           28.236363636363638
          ],
          [
           159.7029702970297
          ],
          [
           2.5
          ],
          [
           23.296296296296298
          ],
          [
           4
          ],
          [
           3
          ],
          [
           835
          ],
          [
           2
          ],
          [
           1078
          ],
          [
           68
          ],
          [
           37
          ],
          [
           1.6666666666666667
          ],
          [
           5
          ],
          [
           51
          ],
          [
           11.583333333333334
          ],
          [
           3.5714285714285716
          ],
          [
           181
          ],
          [
           41
          ],
          [
           2
          ]
         ],
         "domain": {
          "x": [
           0,
           1
          ],
          "y": [
           0,
           1
          ]
         },
         "hovertemplate": "labels=%{label}<br>count_sum=%{value}<br>parent=%{parent}<br>id=%{id}<br>count=%{color}<extra></extra>",
         "ids": [
          "char/CWE-119!/CWE-120",
          "wchar_t/CWE-119!/CWE-120",
          "CopyMemory/CWE-120",
          "bcopy/CWE-120",
          "fscanf/CWE-120",
          "memcpy/CWE-120",
          "sprintf/CWE-120",
          "sscanf/CWE-120",
          "strcat/CWE-120",
          "strcpy/CWE-120",
          "strncat/CWE-120",
          "strncpy/CWE-120",
          "vsprintf/CWE-120",
          "fgetc/CWE-120, CWE-20",
          "fscanf/CWE-120, CWE-20",
          "getc/CWE-120, CWE-20",
          "getchar/CWE-120, CWE-20",
          "getopt/CWE-120, CWE-20",
          "getopt_long/CWE-120, CWE-20",
          "gets/CWE-120, CWE-20",
          "read/CWE-120, CWE-20",
          "scanf/CWE-120, CWE-20",
          "sscanf/CWE-120, CWE-20",
          "vfscanf/CWE-120, CWE-20",
          "vsscanf/CWE-120, CWE-20",
          "realpath/CWE-120/CWE-785!",
          "equal/CWE-126",
          "mismatch/CWE-126",
          "strlen/CWE-126",
          "_snprintf/CWE-134",
          "fprintf/CWE-134",
          "printf/CWE-134",
          "snprintf/CWE-134",
          "sprintf/CWE-134",
          "syslog/CWE-134",
          "vfprintf/CWE-134",
          "vprintf/CWE-134",
          "vsnprintf/CWE-134",
          "vsprintf/CWE-134",
          "atoi/CWE-190",
          "atol/CWE-190",
          "integerOverflow/CWE-190",
          "chroot/CWE-250, CWE-22",
          "crypt/CWE-327",
          "random/CWE-327",
          "srand/CWE-327",
          "srandom/CWE-327",
          "chmod/CWE-362",
          "chown/CWE-362",
          "fopen/CWE-362",
          "open/CWE-362",
          "readlink/CWE-362, CWE-20",
          "access/CWE-362/CWE-367!",
          "zerodiv/CWE-369",
          "mkstemp/CWE-377",
          "tmpfile/CWE-377",
          "memleak/CWE-401",
          "memleakOnRealloc/CWE-401",
          "ctuuninitvar/CWE-457",
          "legacyUninitvar/CWE-457",
          "uninitStructMember/CWE-457",
          "uninitdata/CWE-457",
          "uninitvar/CWE-457",
          "ctunullpointer/CWE-476",
          "nullPointer/CWE-476",
          "autoVariables/CWE-562",
          "danglingTemporaryLifetime/CWE-562",
          "invalidLifetime/CWE-562",
          "returnDanglingLifetime/CWE-562",
          "comparePointers/CWE-570",
          "usleep/CWE-676",
          "wrongPrintfScanfArgNum/CWE-685",
          "umask/CWE-732",
          "missingReturn/CWE-758",
          "shiftNegative/CWE-758",
          "shiftTooManyBits/CWE-758",
          "unknownEvaluationOrder/CWE-768",
          "leakReturnValNotUsed/CWE-771",
          "execlp/CWE-78",
          "execv/CWE-78",
          "execvp/CWE-78",
          "popen/CWE-78",
          "system/CWE-78",
          "negativeIndex/CWE-786",
          "arrayIndexOutOfBounds/CWE-788",
          "bufferAccessOutOfBounds/CWE-788",
          "ctuArrayIndex/CWE-788",
          "getlogin/CWE-807",
          "getenv/CWE-807, CWE-20",
          "LoadLibrary/CWE-829, CWE-20",
          "-/CWE-unknown",
          "CopyMemory/CWE-unknown",
          "LoadLibrary/CWE-unknown",
          "Static Global Buffer/CWE-unknown",
          "WideCharToMultiByte/CWE-unknown",
          "access/CWE-unknown",
          "bcopy/CWE-unknown",
          "cppcheckError/CWE-unknown",
          "crypt/CWE-unknown",
          "fgetc/CWE-unknown",
          "fgets/CWE-unknown",
          "fixed size global buffer/CWE-unknown",
          "fixed size local buffer/CWE-unknown",
          "fork/CWE-unknown",
          "fprintf/CWE-unknown",
          "fscanf/CWE-unknown",
          "getc/CWE-unknown",
          "getchar/CWE-unknown",
          "getenv/CWE-unknown",
          "getlogin/CWE-unknown",
          "getopt/CWE-unknown",
          "getopt_long/CWE-unknown",
          "gets/CWE-unknown",
          "internalAstError/CWE-unknown",
          "lstat/CWE-unknown",
          "memcpy/CWE-unknown",
          "overlappingWriteFunction/CWE-unknown",
          "overlappingWriteUnion/CWE-unknown",
          "popen/CWE-unknown",
          "preprocessorErrorDirective/CWE-unknown",
          "printf/CWE-unknown",
          "random/CWE-unknown",
          "read/CWE-unknown",
          "realloc/CWE-unknown",
          "realpath/CWE-unknown",
          "scanf/CWE-unknown",
          "signal/CWE-unknown",
          "snprintf/CWE-unknown",
          "sprintf/CWE-unknown",
          "srand/CWE-unknown",
          "srandom/CWE-unknown",
          "sscanf/CWE-unknown",
          "stat/CWE-unknown",
          "strlcat/CWE-unknown",
          "strlcpy/CWE-unknown",
          "strlen/CWE-unknown",
          "strncat/CWE-unknown",
          "strncpy/CWE-unknown",
          "syntaxError/CWE-unknown",
          "syslog/CWE-unknown",
          "system/CWE-unknown",
          "tmpfile/CWE-unknown",
          "umask/CWE-unknown",
          "unknownMacro/CWE-unknown",
          "vfprintf/CWE-unknown",
          "vfscanf/CWE-unknown",
          "vprintf/CWE-unknown",
          "vsprintf/CWE-unknown",
          "vsscanf/CWE-unknown",
          "-",
          "CopyMemory",
          "LoadLibrary",
          "Static Global Buffer",
          "WideCharToMultiByte",
          "_snprintf",
          "access",
          "arrayIndexOutOfBounds",
          "atoi",
          "atol",
          "autoVariables",
          "bcopy",
          "bufferAccessOutOfBounds",
          "char",
          "chmod",
          "chown",
          "chroot",
          "comparePointers",
          "cppcheckError",
          "crypt",
          "ctuArrayIndex",
          "ctunullpointer",
          "ctuuninitvar",
          "danglingTemporaryLifetime",
          "equal",
          "execlp",
          "execv",
          "execvp",
          "fgetc",
          "fgets",
          "fixed size global buffer",
          "fixed size local buffer",
          "fopen",
          "fork",
          "fprintf",
          "fscanf",
          "getc",
          "getchar",
          "getenv",
          "getlogin",
          "getopt",
          "getopt_long",
          "gets",
          "integerOverflow",
          "internalAstError",
          "invalidLifetime",
          "leakReturnValNotUsed",
          "legacyUninitvar",
          "lstat",
          "memcpy",
          "memleak",
          "memleakOnRealloc",
          "mismatch",
          "missingReturn",
          "mkstemp",
          "negativeIndex",
          "nullPointer",
          "open",
          "overlappingWriteFunction",
          "overlappingWriteUnion",
          "popen",
          "preprocessorErrorDirective",
          "printf",
          "random",
          "read",
          "readlink",
          "realloc",
          "realpath",
          "returnDanglingLifetime",
          "scanf",
          "shiftNegative",
          "shiftTooManyBits",
          "signal",
          "snprintf",
          "sprintf",
          "srand",
          "srandom",
          "sscanf",
          "stat",
          "strcat",
          "strcpy",
          "strlcat",
          "strlcpy",
          "strlen",
          "strncat",
          "strncpy",
          "syntaxError",
          "syslog",
          "system",
          "tmpfile",
          "umask",
          "uninitStructMember",
          "uninitdata",
          "uninitvar",
          "unknownEvaluationOrder",
          "unknownMacro",
          "usleep",
          "vfprintf",
          "vfscanf",
          "vprintf",
          "vsnprintf",
          "vsprintf",
          "vsscanf",
          "wchar_t",
          "wrongPrintfScanfArgNum",
          "zerodiv"
         ],
         "labels": [
          "CWE-119!/CWE-120",
          "CWE-119!/CWE-120",
          "CWE-120",
          "CWE-120",
          "CWE-120",
          "CWE-120",
          "CWE-120",
          "CWE-120",
          "CWE-120",
          "CWE-120",
          "CWE-120",
          "CWE-120",
          "CWE-120",
          "CWE-120, CWE-20",
          "CWE-120, CWE-20",
          "CWE-120, CWE-20",
          "CWE-120, CWE-20",
          "CWE-120, CWE-20",
          "CWE-120, CWE-20",
          "CWE-120, CWE-20",
          "CWE-120, CWE-20",
          "CWE-120, CWE-20",
          "CWE-120, CWE-20",
          "CWE-120, CWE-20",
          "CWE-120, CWE-20",
          "CWE-120/CWE-785!",
          "CWE-126",
          "CWE-126",
          "CWE-126",
          "CWE-134",
          "CWE-134",
          "CWE-134",
          "CWE-134",
          "CWE-134",
          "CWE-134",
          "CWE-134",
          "CWE-134",
          "CWE-134",
          "CWE-134",
          "CWE-190",
          "CWE-190",
          "CWE-190",
          "CWE-250, CWE-22",
          "CWE-327",
          "CWE-327",
          "CWE-327",
          "CWE-327",
          "CWE-362",
          "CWE-362",
          "CWE-362",
          "CWE-362",
          "CWE-362, CWE-20",
          "CWE-362/CWE-367!",
          "CWE-369",
          "CWE-377",
          "CWE-377",
          "CWE-401",
          "CWE-401",
          "CWE-457",
          "CWE-457",
          "CWE-457",
          "CWE-457",
          "CWE-457",
          "CWE-476",
          "CWE-476",
          "CWE-562",
          "CWE-562",
          "CWE-562",
          "CWE-562",
          "CWE-570",
          "CWE-676",
          "CWE-685",
          "CWE-732",
          "CWE-758",
          "CWE-758",
          "CWE-758",
          "CWE-768",
          "CWE-771",
          "CWE-78",
          "CWE-78",
          "CWE-78",
          "CWE-78",
          "CWE-78",
          "CWE-786",
          "CWE-788",
          "CWE-788",
          "CWE-788",
          "CWE-807",
          "CWE-807, CWE-20",
          "CWE-829, CWE-20",
          "CWE-unknown",
          "CWE-unknown",
          "CWE-unknown",
          "CWE-unknown",
          "CWE-unknown",
          "CWE-unknown",
          "CWE-unknown",
          "CWE-unknown",
          "CWE-unknown",
          "CWE-unknown",
          "CWE-unknown",
          "CWE-unknown",
          "CWE-unknown",
          "CWE-unknown",
          "CWE-unknown",
          "CWE-unknown",
          "CWE-unknown",
          "CWE-unknown",
          "CWE-unknown",
          "CWE-unknown",
          "CWE-unknown",
          "CWE-unknown",
          "CWE-unknown",
          "CWE-unknown",
          "CWE-unknown",
          "CWE-unknown",
          "CWE-unknown",
          "CWE-unknown",
          "CWE-unknown",
          "CWE-unknown",
          "CWE-unknown",
          "CWE-unknown",
          "CWE-unknown",
          "CWE-unknown",
          "CWE-unknown",
          "CWE-unknown",
          "CWE-unknown",
          "CWE-unknown",
          "CWE-unknown",
          "CWE-unknown",
          "CWE-unknown",
          "CWE-unknown",
          "CWE-unknown",
          "CWE-unknown",
          "CWE-unknown",
          "CWE-unknown",
          "CWE-unknown",
          "CWE-unknown",
          "CWE-unknown",
          "CWE-unknown",
          "CWE-unknown",
          "CWE-unknown",
          "CWE-unknown",
          "CWE-unknown",
          "CWE-unknown",
          "CWE-unknown",
          "CWE-unknown",
          "CWE-unknown",
          "CWE-unknown",
          "-",
          "CopyMemory",
          "LoadLibrary",
          "Static Global Buffer",
          "WideCharToMultiByte",
          "_snprintf",
          "access",
          "arrayIndexOutOfBounds",
          "atoi",
          "atol",
          "autoVariables",
          "bcopy",
          "bufferAccessOutOfBounds",
          "char",
          "chmod",
          "chown",
          "chroot",
          "comparePointers",
          "cppcheckError",
          "crypt",
          "ctuArrayIndex",
          "ctunullpointer",
          "ctuuninitvar",
          "danglingTemporaryLifetime",
          "equal",
          "execlp",
          "execv",
          "execvp",
          "fgetc",
          "fgets",
          "fixed size global buffer",
          "fixed size local buffer",
          "fopen",
          "fork",
          "fprintf",
          "fscanf",
          "getc",
          "getchar",
          "getenv",
          "getlogin",
          "getopt",
          "getopt_long",
          "gets",
          "integerOverflow",
          "internalAstError",
          "invalidLifetime",
          "leakReturnValNotUsed",
          "legacyUninitvar",
          "lstat",
          "memcpy",
          "memleak",
          "memleakOnRealloc",
          "mismatch",
          "missingReturn",
          "mkstemp",
          "negativeIndex",
          "nullPointer",
          "open",
          "overlappingWriteFunction",
          "overlappingWriteUnion",
          "popen",
          "preprocessorErrorDirective",
          "printf",
          "random",
          "read",
          "readlink",
          "realloc",
          "realpath",
          "returnDanglingLifetime",
          "scanf",
          "shiftNegative",
          "shiftTooManyBits",
          "signal",
          "snprintf",
          "sprintf",
          "srand",
          "srandom",
          "sscanf",
          "stat",
          "strcat",
          "strcpy",
          "strlcat",
          "strlcpy",
          "strlen",
          "strncat",
          "strncpy",
          "syntaxError",
          "syslog",
          "system",
          "tmpfile",
          "umask",
          "uninitStructMember",
          "uninitdata",
          "uninitvar",
          "unknownEvaluationOrder",
          "unknownMacro",
          "usleep",
          "vfprintf",
          "vfscanf",
          "vprintf",
          "vsnprintf",
          "vsprintf",
          "vsscanf",
          "wchar_t",
          "wrongPrintfScanfArgNum",
          "zerodiv"
         ],
         "marker": {
          "coloraxis": "coloraxis",
          "colors": [
           6425,
           181,
           2,
           1,
           1,
           7000,
           2429,
           16,
           249,
           709,
           27,
           285,
           1,
           15,
           11,
           15,
           3,
           33,
           16,
           2,
           793,
           2,
           25,
           1,
           3,
           14,
           15,
           40,
           1715,
           2,
           33,
           159,
           133,
           97,
           23,
           37,
           5,
           51,
           9,
           96,
           5,
           1085,
           2,
           350,
           40,
           16,
           1,
           3,
           7,
           133,
           389,
           14,
           333,
           2,
           3,
           3,
           4,
           1,
           38,
           10,
           4,
           3,
           835,
           14,
           40,
           9,
           48,
           6,
           6,
           150,
           68,
           41,
           25,
           5,
           1,
           11,
           2,
           1,
           6,
           1,
           4,
           13,
           178,
           2,
           11,
           8,
           4,
           1,
           55,
           5,
           433,
           2,
           5,
           1228,
           2,
           42,
           1,
           7,
           1,
           15,
           39,
           3421,
           483,
           50,
           55,
           12,
           13,
           2,
           55,
           1,
           33,
           16,
           2,
           21,
           4,
           7396,
           7,
           5,
           4,
           42,
           121,
           33,
           277,
           34,
           5,
           2,
           70,
           2245,
           654,
           14,
           1,
           66,
           37,
           71,
           88,
           1639,
           23,
           276,
           257,
           32,
           24,
           1,
           2,
           1078,
           37,
           2,
           5,
           14,
           4,
           433,
           2,
           5,
           1228,
           2,
           2,
           300.408,
           11,
           96,
           5,
           9,
           1,
           8,
           6425,
           3,
           7,
           2,
           150,
           7,
           349.005698005698,
           4,
           14,
           38,
           48,
           15,
           6,
           1,
           4,
           15,
           39,
           3421,
           483,
           133,
           50,
           46.75,
           11.083333333333334,
           14.071428571428571,
           2.6,
           55,
           1,
           33,
           16,
           2,
           1085,
           21,
           6,
           1,
           10,
           4,
           7203.446512920255,
           4,
           1,
           40,
           5,
           3,
           2,
           40,
           389,
           7,
           5,
           10.882352941176471,
           42,
           142.57857142857142,
           36.83561643835616,
           659.418691588785,
           14,
           34,
           11.631578947368421,
           6,
           2,
           1,
           11,
           70,
           2126.8772077375947,
           1992.819496855346,
           15.066666666666666,
           1,
           48.94392523364486,
           37,
           249,
           709,
           71,
           88,
           1677.861061419201,
           25.16,
           280.572192513369,
           257,
           28.236363636363638,
           159.7029702970297,
           2.5,
           23.296296296296298,
           4,
           3,
           835,
           2,
           1078,
           68,
           37,
           1.6666666666666667,
           5,
           51,
           11.583333333333334,
           3.5714285714285716,
           181,
           41,
           2
          ]
         },
         "name": "",
         "parents": [
          "char",
          "wchar_t",
          "CopyMemory",
          "bcopy",
          "fscanf",
          "memcpy",
          "sprintf",
          "sscanf",
          "strcat",
          "strcpy",
          "strncat",
          "strncpy",
          "vsprintf",
          "fgetc",
          "fscanf",
          "getc",
          "getchar",
          "getopt",
          "getopt_long",
          "gets",
          "read",
          "scanf",
          "sscanf",
          "vfscanf",
          "vsscanf",
          "realpath",
          "equal",
          "mismatch",
          "strlen",
          "_snprintf",
          "fprintf",
          "printf",
          "snprintf",
          "sprintf",
          "syslog",
          "vfprintf",
          "vprintf",
          "vsnprintf",
          "vsprintf",
          "atoi",
          "atol",
          "integerOverflow",
          "chroot",
          "crypt",
          "random",
          "srand",
          "srandom",
          "chmod",
          "chown",
          "fopen",
          "open",
          "readlink",
          "access",
          "zerodiv",
          "mkstemp",
          "tmpfile",
          "memleak",
          "memleakOnRealloc",
          "ctuuninitvar",
          "legacyUninitvar",
          "uninitStructMember",
          "uninitdata",
          "uninitvar",
          "ctunullpointer",
          "nullPointer",
          "autoVariables",
          "danglingTemporaryLifetime",
          "invalidLifetime",
          "returnDanglingLifetime",
          "comparePointers",
          "usleep",
          "wrongPrintfScanfArgNum",
          "umask",
          "missingReturn",
          "shiftNegative",
          "shiftTooManyBits",
          "unknownEvaluationOrder",
          "leakReturnValNotUsed",
          "execlp",
          "execv",
          "execvp",
          "popen",
          "system",
          "negativeIndex",
          "arrayIndexOutOfBounds",
          "bufferAccessOutOfBounds",
          "ctuArrayIndex",
          "getlogin",
          "getenv",
          "LoadLibrary",
          "-",
          "CopyMemory",
          "LoadLibrary",
          "Static Global Buffer",
          "WideCharToMultiByte",
          "access",
          "bcopy",
          "cppcheckError",
          "crypt",
          "fgetc",
          "fgets",
          "fixed size global buffer",
          "fixed size local buffer",
          "fork",
          "fprintf",
          "fscanf",
          "getc",
          "getchar",
          "getenv",
          "getlogin",
          "getopt",
          "getopt_long",
          "gets",
          "internalAstError",
          "lstat",
          "memcpy",
          "overlappingWriteFunction",
          "overlappingWriteUnion",
          "popen",
          "preprocessorErrorDirective",
          "printf",
          "random",
          "read",
          "realloc",
          "realpath",
          "scanf",
          "signal",
          "snprintf",
          "sprintf",
          "srand",
          "srandom",
          "sscanf",
          "stat",
          "strlcat",
          "strlcpy",
          "strlen",
          "strncat",
          "strncpy",
          "syntaxError",
          "syslog",
          "system",
          "tmpfile",
          "umask",
          "unknownMacro",
          "vfprintf",
          "vfscanf",
          "vprintf",
          "vsprintf",
          "vsscanf",
          "",
          "",
          "",
          "",
          "",
          "",
          "",
          "",
          "",
          "",
          "",
          "",
          "",
          "",
          "",
          "",
          "",
          "",
          "",
          "",
          "",
          "",
          "",
          "",
          "",
          "",
          "",
          "",
          "",
          "",
          "",
          "",
          "",
          "",
          "",
          "",
          "",
          "",
          "",
          "",
          "",
          "",
          "",
          "",
          "",
          "",
          "",
          "",
          "",
          "",
          "",
          "",
          "",
          "",
          "",
          "",
          "",
          "",
          "",
          "",
          "",
          "",
          "",
          "",
          "",
          "",
          "",
          "",
          "",
          "",
          "",
          "",
          "",
          "",
          "",
          "",
          "",
          "",
          "",
          "",
          "",
          "",
          "",
          "",
          "",
          "",
          "",
          "",
          "",
          "",
          "",
          "",
          "",
          "",
          "",
          "",
          "",
          "",
          "",
          "",
          "",
          "",
          "",
          "",
          "",
          ""
         ],
         "type": "sunburst",
         "values": [
          6425,
          181,
          2,
          1,
          1,
          7000,
          2429,
          16,
          249,
          709,
          27,
          285,
          1,
          15,
          11,
          15,
          3,
          33,
          16,
          2,
          793,
          2,
          25,
          1,
          3,
          14,
          15,
          40,
          1715,
          2,
          33,
          159,
          133,
          97,
          23,
          37,
          5,
          51,
          9,
          96,
          5,
          1085,
          2,
          350,
          40,
          16,
          1,
          3,
          7,
          133,
          389,
          14,
          333,
          2,
          3,
          3,
          4,
          1,
          38,
          10,
          4,
          3,
          835,
          14,
          40,
          9,
          48,
          6,
          6,
          150,
          68,
          41,
          25,
          5,
          1,
          11,
          2,
          1,
          6,
          1,
          4,
          13,
          178,
          2,
          11,
          8,
          4,
          1,
          55,
          5,
          433,
          2,
          5,
          1228,
          2,
          42,
          1,
          7,
          1,
          15,
          39,
          3421,
          483,
          50,
          55,
          12,
          13,
          2,
          55,
          1,
          33,
          16,
          2,
          21,
          4,
          7396,
          7,
          5,
          4,
          42,
          121,
          33,
          277,
          34,
          5,
          2,
          70,
          2245,
          654,
          14,
          1,
          66,
          37,
          71,
          88,
          1639,
          23,
          276,
          257,
          32,
          24,
          1,
          2,
          1078,
          37,
          2,
          5,
          14,
          4,
          433,
          4,
          10,
          1228,
          2,
          2,
          375,
          11,
          96,
          5,
          9,
          2,
          8,
          6425,
          3,
          7,
          2,
          150,
          7,
          351,
          4,
          14,
          38,
          48,
          15,
          6,
          1,
          4,
          30,
          39,
          3421,
          483,
          133,
          50,
          88,
          24,
          28,
          5,
          110,
          2,
          66,
          32,
          4,
          1085,
          21,
          6,
          1,
          10,
          4,
          14396,
          4,
          1,
          40,
          5,
          3,
          2,
          40,
          389,
          7,
          5,
          17,
          42,
          280,
          73,
          1070,
          14,
          34,
          19,
          6,
          4,
          1,
          11,
          70,
          2378,
          3180,
          30,
          2,
          107,
          37,
          249,
          709,
          71,
          88,
          3354,
          50,
          561,
          257,
          55,
          202,
          4,
          27,
          4,
          3,
          835,
          2,
          1078,
          68,
          74,
          3,
          10,
          51,
          24,
          7,
          181,
          41,
          2
         ]
        }
       ],
       "layout": {
        "autosize": false,
        "coloraxis": {
         "colorbar": {
          "title": {
           "text": "count"
          }
         },
         "colorscale": [
          [
           0,
           "rgb(247,251,255)"
          ],
          [
           0.125,
           "rgb(222,235,247)"
          ],
          [
           0.25,
           "rgb(198,219,239)"
          ],
          [
           0.375,
           "rgb(158,202,225)"
          ],
          [
           0.5,
           "rgb(107,174,214)"
          ],
          [
           0.625,
           "rgb(66,146,198)"
          ],
          [
           0.75,
           "rgb(33,113,181)"
          ],
          [
           0.875,
           "rgb(8,81,156)"
          ],
          [
           1,
           "rgb(8,48,107)"
          ]
         ]
        },
        "height": 800,
        "legend": {
         "tracegroupgap": 0
        },
        "margin": {
         "t": 60
        },
        "template": {
         "data": {
          "bar": [
           {
            "error_x": {
             "color": "#2a3f5f"
            },
            "error_y": {
             "color": "#2a3f5f"
            },
            "marker": {
             "line": {
              "color": "#E5ECF6",
              "width": 0.5
             },
             "pattern": {
              "fillmode": "overlay",
              "size": 10,
              "solidity": 0.2
             }
            },
            "type": "bar"
           }
          ],
          "barpolar": [
           {
            "marker": {
             "line": {
              "color": "#E5ECF6",
              "width": 0.5
             },
             "pattern": {
              "fillmode": "overlay",
              "size": 10,
              "solidity": 0.2
             }
            },
            "type": "barpolar"
           }
          ],
          "carpet": [
           {
            "aaxis": {
             "endlinecolor": "#2a3f5f",
             "gridcolor": "white",
             "linecolor": "white",
             "minorgridcolor": "white",
             "startlinecolor": "#2a3f5f"
            },
            "baxis": {
             "endlinecolor": "#2a3f5f",
             "gridcolor": "white",
             "linecolor": "white",
             "minorgridcolor": "white",
             "startlinecolor": "#2a3f5f"
            },
            "type": "carpet"
           }
          ],
          "choropleth": [
           {
            "colorbar": {
             "outlinewidth": 0,
             "ticks": ""
            },
            "type": "choropleth"
           }
          ],
          "contour": [
           {
            "colorbar": {
             "outlinewidth": 0,
             "ticks": ""
            },
            "colorscale": [
             [
              0,
              "#0d0887"
             ],
             [
              0.1111111111111111,
              "#46039f"
             ],
             [
              0.2222222222222222,
              "#7201a8"
             ],
             [
              0.3333333333333333,
              "#9c179e"
             ],
             [
              0.4444444444444444,
              "#bd3786"
             ],
             [
              0.5555555555555556,
              "#d8576b"
             ],
             [
              0.6666666666666666,
              "#ed7953"
             ],
             [
              0.7777777777777778,
              "#fb9f3a"
             ],
             [
              0.8888888888888888,
              "#fdca26"
             ],
             [
              1,
              "#f0f921"
             ]
            ],
            "type": "contour"
           }
          ],
          "contourcarpet": [
           {
            "colorbar": {
             "outlinewidth": 0,
             "ticks": ""
            },
            "type": "contourcarpet"
           }
          ],
          "heatmap": [
           {
            "colorbar": {
             "outlinewidth": 0,
             "ticks": ""
            },
            "colorscale": [
             [
              0,
              "#0d0887"
             ],
             [
              0.1111111111111111,
              "#46039f"
             ],
             [
              0.2222222222222222,
              "#7201a8"
             ],
             [
              0.3333333333333333,
              "#9c179e"
             ],
             [
              0.4444444444444444,
              "#bd3786"
             ],
             [
              0.5555555555555556,
              "#d8576b"
             ],
             [
              0.6666666666666666,
              "#ed7953"
             ],
             [
              0.7777777777777778,
              "#fb9f3a"
             ],
             [
              0.8888888888888888,
              "#fdca26"
             ],
             [
              1,
              "#f0f921"
             ]
            ],
            "type": "heatmap"
           }
          ],
          "heatmapgl": [
           {
            "colorbar": {
             "outlinewidth": 0,
             "ticks": ""
            },
            "colorscale": [
             [
              0,
              "#0d0887"
             ],
             [
              0.1111111111111111,
              "#46039f"
             ],
             [
              0.2222222222222222,
              "#7201a8"
             ],
             [
              0.3333333333333333,
              "#9c179e"
             ],
             [
              0.4444444444444444,
              "#bd3786"
             ],
             [
              0.5555555555555556,
              "#d8576b"
             ],
             [
              0.6666666666666666,
              "#ed7953"
             ],
             [
              0.7777777777777778,
              "#fb9f3a"
             ],
             [
              0.8888888888888888,
              "#fdca26"
             ],
             [
              1,
              "#f0f921"
             ]
            ],
            "type": "heatmapgl"
           }
          ],
          "histogram": [
           {
            "marker": {
             "pattern": {
              "fillmode": "overlay",
              "size": 10,
              "solidity": 0.2
             }
            },
            "type": "histogram"
           }
          ],
          "histogram2d": [
           {
            "colorbar": {
             "outlinewidth": 0,
             "ticks": ""
            },
            "colorscale": [
             [
              0,
              "#0d0887"
             ],
             [
              0.1111111111111111,
              "#46039f"
             ],
             [
              0.2222222222222222,
              "#7201a8"
             ],
             [
              0.3333333333333333,
              "#9c179e"
             ],
             [
              0.4444444444444444,
              "#bd3786"
             ],
             [
              0.5555555555555556,
              "#d8576b"
             ],
             [
              0.6666666666666666,
              "#ed7953"
             ],
             [
              0.7777777777777778,
              "#fb9f3a"
             ],
             [
              0.8888888888888888,
              "#fdca26"
             ],
             [
              1,
              "#f0f921"
             ]
            ],
            "type": "histogram2d"
           }
          ],
          "histogram2dcontour": [
           {
            "colorbar": {
             "outlinewidth": 0,
             "ticks": ""
            },
            "colorscale": [
             [
              0,
              "#0d0887"
             ],
             [
              0.1111111111111111,
              "#46039f"
             ],
             [
              0.2222222222222222,
              "#7201a8"
             ],
             [
              0.3333333333333333,
              "#9c179e"
             ],
             [
              0.4444444444444444,
              "#bd3786"
             ],
             [
              0.5555555555555556,
              "#d8576b"
             ],
             [
              0.6666666666666666,
              "#ed7953"
             ],
             [
              0.7777777777777778,
              "#fb9f3a"
             ],
             [
              0.8888888888888888,
              "#fdca26"
             ],
             [
              1,
              "#f0f921"
             ]
            ],
            "type": "histogram2dcontour"
           }
          ],
          "mesh3d": [
           {
            "colorbar": {
             "outlinewidth": 0,
             "ticks": ""
            },
            "type": "mesh3d"
           }
          ],
          "parcoords": [
           {
            "line": {
             "colorbar": {
              "outlinewidth": 0,
              "ticks": ""
             }
            },
            "type": "parcoords"
           }
          ],
          "pie": [
           {
            "automargin": true,
            "type": "pie"
           }
          ],
          "scatter": [
           {
            "fillpattern": {
             "fillmode": "overlay",
             "size": 10,
             "solidity": 0.2
            },
            "type": "scatter"
           }
          ],
          "scatter3d": [
           {
            "line": {
             "colorbar": {
              "outlinewidth": 0,
              "ticks": ""
             }
            },
            "marker": {
             "colorbar": {
              "outlinewidth": 0,
              "ticks": ""
             }
            },
            "type": "scatter3d"
           }
          ],
          "scattercarpet": [
           {
            "marker": {
             "colorbar": {
              "outlinewidth": 0,
              "ticks": ""
             }
            },
            "type": "scattercarpet"
           }
          ],
          "scattergeo": [
           {
            "marker": {
             "colorbar": {
              "outlinewidth": 0,
              "ticks": ""
             }
            },
            "type": "scattergeo"
           }
          ],
          "scattergl": [
           {
            "marker": {
             "colorbar": {
              "outlinewidth": 0,
              "ticks": ""
             }
            },
            "type": "scattergl"
           }
          ],
          "scattermapbox": [
           {
            "marker": {
             "colorbar": {
              "outlinewidth": 0,
              "ticks": ""
             }
            },
            "type": "scattermapbox"
           }
          ],
          "scatterpolar": [
           {
            "marker": {
             "colorbar": {
              "outlinewidth": 0,
              "ticks": ""
             }
            },
            "type": "scatterpolar"
           }
          ],
          "scatterpolargl": [
           {
            "marker": {
             "colorbar": {
              "outlinewidth": 0,
              "ticks": ""
             }
            },
            "type": "scatterpolargl"
           }
          ],
          "scatterternary": [
           {
            "marker": {
             "colorbar": {
              "outlinewidth": 0,
              "ticks": ""
             }
            },
            "type": "scatterternary"
           }
          ],
          "surface": [
           {
            "colorbar": {
             "outlinewidth": 0,
             "ticks": ""
            },
            "colorscale": [
             [
              0,
              "#0d0887"
             ],
             [
              0.1111111111111111,
              "#46039f"
             ],
             [
              0.2222222222222222,
              "#7201a8"
             ],
             [
              0.3333333333333333,
              "#9c179e"
             ],
             [
              0.4444444444444444,
              "#bd3786"
             ],
             [
              0.5555555555555556,
              "#d8576b"
             ],
             [
              0.6666666666666666,
              "#ed7953"
             ],
             [
              0.7777777777777778,
              "#fb9f3a"
             ],
             [
              0.8888888888888888,
              "#fdca26"
             ],
             [
              1,
              "#f0f921"
             ]
            ],
            "type": "surface"
           }
          ],
          "table": [
           {
            "cells": {
             "fill": {
              "color": "#EBF0F8"
             },
             "line": {
              "color": "white"
             }
            },
            "header": {
             "fill": {
              "color": "#C8D4E3"
             },
             "line": {
              "color": "white"
             }
            },
            "type": "table"
           }
          ]
         },
         "layout": {
          "annotationdefaults": {
           "arrowcolor": "#2a3f5f",
           "arrowhead": 0,
           "arrowwidth": 1
          },
          "autotypenumbers": "strict",
          "coloraxis": {
           "colorbar": {
            "outlinewidth": 0,
            "ticks": ""
           }
          },
          "colorscale": {
           "diverging": [
            [
             0,
             "#8e0152"
            ],
            [
             0.1,
             "#c51b7d"
            ],
            [
             0.2,
             "#de77ae"
            ],
            [
             0.3,
             "#f1b6da"
            ],
            [
             0.4,
             "#fde0ef"
            ],
            [
             0.5,
             "#f7f7f7"
            ],
            [
             0.6,
             "#e6f5d0"
            ],
            [
             0.7,
             "#b8e186"
            ],
            [
             0.8,
             "#7fbc41"
            ],
            [
             0.9,
             "#4d9221"
            ],
            [
             1,
             "#276419"
            ]
           ],
           "sequential": [
            [
             0,
             "#0d0887"
            ],
            [
             0.1111111111111111,
             "#46039f"
            ],
            [
             0.2222222222222222,
             "#7201a8"
            ],
            [
             0.3333333333333333,
             "#9c179e"
            ],
            [
             0.4444444444444444,
             "#bd3786"
            ],
            [
             0.5555555555555556,
             "#d8576b"
            ],
            [
             0.6666666666666666,
             "#ed7953"
            ],
            [
             0.7777777777777778,
             "#fb9f3a"
            ],
            [
             0.8888888888888888,
             "#fdca26"
            ],
            [
             1,
             "#f0f921"
            ]
           ],
           "sequentialminus": [
            [
             0,
             "#0d0887"
            ],
            [
             0.1111111111111111,
             "#46039f"
            ],
            [
             0.2222222222222222,
             "#7201a8"
            ],
            [
             0.3333333333333333,
             "#9c179e"
            ],
            [
             0.4444444444444444,
             "#bd3786"
            ],
            [
             0.5555555555555556,
             "#d8576b"
            ],
            [
             0.6666666666666666,
             "#ed7953"
            ],
            [
             0.7777777777777778,
             "#fb9f3a"
            ],
            [
             0.8888888888888888,
             "#fdca26"
            ],
            [
             1,
             "#f0f921"
            ]
           ]
          },
          "colorway": [
           "#636efa",
           "#EF553B",
           "#00cc96",
           "#ab63fa",
           "#FFA15A",
           "#19d3f3",
           "#FF6692",
           "#B6E880",
           "#FF97FF",
           "#FECB52"
          ],
          "font": {
           "color": "#2a3f5f"
          },
          "geo": {
           "bgcolor": "white",
           "lakecolor": "white",
           "landcolor": "#E5ECF6",
           "showlakes": true,
           "showland": true,
           "subunitcolor": "white"
          },
          "hoverlabel": {
           "align": "left"
          },
          "hovermode": "closest",
          "mapbox": {
           "style": "light"
          },
          "paper_bgcolor": "white",
          "plot_bgcolor": "#E5ECF6",
          "polar": {
           "angularaxis": {
            "gridcolor": "white",
            "linecolor": "white",
            "ticks": ""
           },
           "bgcolor": "#E5ECF6",
           "radialaxis": {
            "gridcolor": "white",
            "linecolor": "white",
            "ticks": ""
           }
          },
          "scene": {
           "xaxis": {
            "backgroundcolor": "#E5ECF6",
            "gridcolor": "white",
            "gridwidth": 2,
            "linecolor": "white",
            "showbackground": true,
            "ticks": "",
            "zerolinecolor": "white"
           },
           "yaxis": {
            "backgroundcolor": "#E5ECF6",
            "gridcolor": "white",
            "gridwidth": 2,
            "linecolor": "white",
            "showbackground": true,
            "ticks": "",
            "zerolinecolor": "white"
           },
           "zaxis": {
            "backgroundcolor": "#E5ECF6",
            "gridcolor": "white",
            "gridwidth": 2,
            "linecolor": "white",
            "showbackground": true,
            "ticks": "",
            "zerolinecolor": "white"
           }
          },
          "shapedefaults": {
           "line": {
            "color": "#2a3f5f"
           }
          },
          "ternary": {
           "aaxis": {
            "gridcolor": "white",
            "linecolor": "white",
            "ticks": ""
           },
           "baxis": {
            "gridcolor": "white",
            "linecolor": "white",
            "ticks": ""
           },
           "bgcolor": "#E5ECF6",
           "caxis": {
            "gridcolor": "white",
            "linecolor": "white",
            "ticks": ""
           }
          },
          "title": {
           "x": 0.05
          },
          "xaxis": {
           "automargin": true,
           "gridcolor": "white",
           "linecolor": "white",
           "ticks": "",
           "title": {
            "standoff": 15
           },
           "zerolinecolor": "white",
           "zerolinewidth": 2
          },
          "yaxis": {
           "automargin": true,
           "gridcolor": "white",
           "linecolor": "white",
           "ticks": "",
           "title": {
            "standoff": 15
           },
           "zerolinecolor": "white",
           "zerolinewidth": 2
          }
         }
        },
        "width": 800
       }
      }
     },
     "metadata": {},
     "output_type": "display_data"
    }
   ],
   "source": [
    "dfplt = dfs[['category', 'name', 'cwe']].groupby(['category', 'name', 'cwe'], group_keys=False).size().reset_index(name='count')\n",
    "\n",
    "dfplt['category'] = dfplt.apply(lambda row: row['category'] \n",
    "if row['category']==row['name'] or row['name']=='-' \n",
    "else row['name'], axis=1)\n",
    "dfplt = dfplt.drop(labels=['name'], axis=1)\n",
    "\n",
    "fig = px.sunburst(dfplt, \n",
    "    path=['category', 'cwe'], \n",
    "    values='count', \n",
    "    color_continuous_scale='Blues',\n",
    "    color='count',\n",
    ")\n",
    "# fig.write_image(\"figure/vul_statistics.pdf\")\n",
    "# fig.update_traces(hovertemplate='%{label}<br>%{customdata}')\n",
    "fig.update_layout(\n",
    "    autosize=False,\n",
    "    width=800,\n",
    "    height=800,)\n",
    "fig.show()\n",
    "# save the figure manually, the below code takes ages\n",
    "# fig.write_image(\"../figure/vul_statistics.pdf\")"
   ]
  },
  {
   "cell_type": "code",
   "execution_count": 274,
   "metadata": {},
   "outputs": [
    {
     "data": {
      "text/html": [
       "<div>\n",
       "<style scoped>\n",
       "    .dataframe tbody tr th:only-of-type {\n",
       "        vertical-align: middle;\n",
       "    }\n",
       "\n",
       "    .dataframe tbody tr th {\n",
       "        vertical-align: top;\n",
       "    }\n",
       "\n",
       "    .dataframe thead th {\n",
       "        text-align: right;\n",
       "    }\n",
       "</style>\n",
       "<table border=\"1\" class=\"dataframe\">\n",
       "  <thead>\n",
       "    <tr style=\"text-align: right;\">\n",
       "      <th></th>\n",
       "      <th>category</th>\n",
       "      <th>cwe</th>\n",
       "      <th>count</th>\n",
       "    </tr>\n",
       "  </thead>\n",
       "  <tbody>\n",
       "    <tr>\n",
       "      <th>100</th>\n",
       "      <td>memcpy</td>\n",
       "      <td>CWE-unknown</td>\n",
       "      <td>7396</td>\n",
       "    </tr>\n",
       "    <tr>\n",
       "      <th>54</th>\n",
       "      <td>memcpy</td>\n",
       "      <td>CWE-120</td>\n",
       "      <td>7000</td>\n",
       "    </tr>\n",
       "    <tr>\n",
       "      <th>43</th>\n",
       "      <td>char</td>\n",
       "      <td>CWE-119!/CWE-120</td>\n",
       "      <td>6425</td>\n",
       "    </tr>\n",
       "    <tr>\n",
       "      <th>75</th>\n",
       "      <td>fixed size global buffer</td>\n",
       "      <td>CWE-unknown</td>\n",
       "      <td>3421</td>\n",
       "    </tr>\n",
       "    <tr>\n",
       "      <th>59</th>\n",
       "      <td>sprintf</td>\n",
       "      <td>CWE-120</td>\n",
       "      <td>2429</td>\n",
       "    </tr>\n",
       "    <tr>\n",
       "      <th>127</th>\n",
       "      <td>snprintf</td>\n",
       "      <td>CWE-unknown</td>\n",
       "      <td>2245</td>\n",
       "    </tr>\n",
       "    <tr>\n",
       "      <th>64</th>\n",
       "      <td>strlen</td>\n",
       "      <td>CWE-126</td>\n",
       "      <td>1715</td>\n",
       "    </tr>\n",
       "    <tr>\n",
       "      <th>135</th>\n",
       "      <td>strlen</td>\n",
       "      <td>CWE-unknown</td>\n",
       "      <td>1639</td>\n",
       "    </tr>\n",
       "    <tr>\n",
       "      <th>36</th>\n",
       "      <td>Static Global Buffer</td>\n",
       "      <td>CWE-unknown</td>\n",
       "      <td>1228</td>\n",
       "    </tr>\n",
       "    <tr>\n",
       "      <th>10</th>\n",
       "      <td>integerOverflow</td>\n",
       "      <td>CWE-190</td>\n",
       "      <td>1085</td>\n",
       "    </tr>\n",
       "  </tbody>\n",
       "</table>\n",
       "</div>"
      ],
      "text/plain": [
       "                     category               cwe  count\n",
       "100                    memcpy       CWE-unknown   7396\n",
       "54                     memcpy           CWE-120   7000\n",
       "43                       char  CWE-119!/CWE-120   6425\n",
       "75   fixed size global buffer       CWE-unknown   3421\n",
       "59                    sprintf           CWE-120   2429\n",
       "127                  snprintf       CWE-unknown   2245\n",
       "64                     strlen           CWE-126   1715\n",
       "135                    strlen       CWE-unknown   1639\n",
       "36       Static Global Buffer       CWE-unknown   1228\n",
       "10            integerOverflow           CWE-190   1085"
      ]
     },
     "execution_count": 274,
     "metadata": {},
     "output_type": "execute_result"
    }
   ],
   "source": [
    "dfplt.sort_values(by=['count'], ascending=False).head(10)"
   ]
  },
  {
   "attachments": {},
   "cell_type": "markdown",
   "metadata": {},
   "source": [
    "# Top 10 vulnerabilities"
   ]
  },
  {
   "cell_type": "code",
   "execution_count": 275,
   "metadata": {},
   "outputs": [
    {
     "name": "stdout",
     "output_type": "stream",
     "text": [
      "+----+--------------------------+------------------+---------+\n",
      "|    | category                 | cwe              |   count |\n",
      "|----+--------------------------+------------------+---------|\n",
      "|  0 | memcpy                   | CWE-unknown      |    7396 |\n",
      "|  1 | memcpy                   | CWE-120          |    7000 |\n",
      "|  2 | char                     | CWE-119!/CWE-120 |    6425 |\n",
      "|  3 | fixed size global buffer | CWE-unknown      |    3421 |\n",
      "|  4 | sprintf                  | CWE-120          |    2429 |\n",
      "|  5 | snprintf                 | CWE-unknown      |    2245 |\n",
      "|  6 | strlen                   | CWE-126          |    1715 |\n",
      "|  7 | strlen                   | CWE-unknown      |    1639 |\n",
      "|  8 | Static Global Buffer     | CWE-unknown      |    1228 |\n",
      "|  9 | integerOverflow          | CWE-190          |    1085 |\n",
      "+----+--------------------------+------------------+---------+\n"
     ]
    }
   ],
   "source": [
    "df_top10 = dfplt.sort_values(by=['count'], ascending=False).head(10).reset_index(drop=True)\n",
    "print(tabulate(df_top10, headers='keys', tablefmt='psql'))\n",
    "df_top10.to_latex(\"../result/top10.tex\", index=False, caption=\"Top 10 CWEs in IoT code\")"
   ]
  },
  {
   "cell_type": "code",
   "execution_count": 276,
   "metadata": {},
   "outputs": [
    {
     "data": {
      "text/plain": [
       "<AxesSubplot: >"
      ]
     },
     "execution_count": 276,
     "metadata": {},
     "output_type": "execute_result"
    },
    {
     "data": {
      "image/png": "[encoded data removed]",
      "text/plain": [
       "<Figure size 640x480 with 1 Axes>"
      ]
     },
     "metadata": {},
     "output_type": "display_data"
    }
   ],
   "source": [
    "# dfs.context.head(200).str.len().plot(kind='bar')\n",
    "pd.Series(sorted(list(dfs.context.head(20).str.len()))).plot(kind='bar')"
   ]
  },
  {
   "cell_type": "code",
   "execution_count": 277,
   "metadata": {},
   "outputs": [
    {
     "data": {
      "text/plain": [
       "19092"
      ]
     },
     "execution_count": 277,
     "metadata": {},
     "output_type": "execute_result"
    }
   ],
   "source": [
    "len(dfs[dfs.context=='-'])"
   ]
  },
  {
   "cell_type": "code",
   "execution_count": 278,
   "metadata": {},
   "outputs": [
    {
     "data": {
      "text/plain": [
       "1289594"
      ]
     },
     "execution_count": 278,
     "metadata": {},
     "output_type": "execute_result"
    }
   ],
   "source": [
    "len(dfs)"
   ]
  },
  {
   "cell_type": "code",
   "execution_count": 279,
   "metadata": {},
   "outputs": [
    {
     "data": {
      "text/plain": [
       "<AxesSubplot: ylabel='Frequency'>"
      ]
     },
     "execution_count": 279,
     "metadata": {},
     "output_type": "execute_result"
    },
    {
     "data": {
      "image/png": "[encoded data removed]",
      "text/plain": [
       "<Figure size 640x480 with 1 Axes>"
      ]
     },
     "metadata": {},
     "output_type": "display_data"
    }
   ],
   "source": [
    "pd.Series([len(x) for x in dff.code if len(x)>10]).plot.hist(xlabel='#chars', ylabel='#statements')"
   ]
  },
  {
   "cell_type": "code",
   "execution_count": 280,
   "metadata": {},
   "outputs": [
    {
     "data": {
      "text/plain": [
       "[11, 23, 0, 37, 13]"
      ]
     },
     "execution_count": 280,
     "metadata": {},
     "output_type": "execute_result"
    }
   ],
   "source": [
    "def filter_unusual_statements(statements, min_len, max_len, df):\n",
    "    \"\"\"\" \n",
    "    # https://peps.python.org/pep-0007/\n",
    "    # https://www.python.org/dev/peps/pep-0007/ \n",
    "\n",
    "    \"\"\"\n",
    "    filtered_statements = []\n",
    "    for statement in statements:\n",
    "        if len(statement) >= min_len and len(statement) <= max_len:\n",
    "            filtered_statements.append(statement)\n",
    "   \n",
    "    # take size of the vul statements as basis\n",
    "    df = pd.Series(statements)   \n",
    "    df = df.str.len()\n",
    "    \n",
    "    stat_sizes =  list(df[df.between(max_len, min_len)].reset_index(drop=True))\n",
    "    \n",
    "    sample_size = 5 if len(stat_sizes)>5 else len(stat_sizes)-1\n",
    "    stat_sizes = random.sample(set(stat_sizes), sample_size)\n",
    "    return stat_sizes\n",
    "\n",
    "\n",
    "# standard variables:\n",
    "max_len = 79  #TODO: double check pep standards\n",
    "\n",
    "# TODO: check min_len as well, otherwise the below code unnessesarily checks one extra condition \n",
    "# because there is no any statement/fun with len below that. \n",
    "# for min_len (eg, 7 characters)\n",
    "min_len = dfs.context.str.len().sort_values(ascending=False).reset_index(drop=True).min()\n",
    "\n",
    "\n",
    "lines = dff.code[0].splitlines()\n",
    "stat_sizes = filter_unusual_statements(lines, max_len, min_len, dfs)\n",
    "stat_sizes"
   ]
  },
  {
   "cell_type": "code",
   "execution_count": 281,
   "metadata": {},
   "outputs": [],
   "source": [
    "# df_dnn = pd.read_csv('../data/iDetect_refine/DNN_Binary.csv')\n",
    "# df_conti = pd.read_csv('../data/contiki-master_Binary.csv')\n",
    "# df_rasp = pd.read_csv('../data/raspberry_metrics.csv')\n",
    "# df_rasp_flaw = pd.read_csv('../data/raspberry_flaw.csv')\n",
    "\n",
    "# print('Shape of DNN data: ', df_dnn.shape)\n",
    "# print('Shape of contiki: ', df_conti.shape)\n",
    "# print('Shape of raspberry: ', df_rasp.shape)\n",
    "# print('Shape of raspberry flaws: ', df_rasp_flaw.shape)\n",
    "\n",
    "# dfcon = dfcon.rename(columns={'context': 'code'})\n",
    "# dfcon.to_csv('../data/contiki-master_Binary.csv', index=False)"
   ]
  },
  {
   "cell_type": "markdown",
   "metadata": {},
   "source": [
    "## Frequency of the vulnerabilities and benign samples at \n",
    "    - statement-level \n",
    "    - function-level"
   ]
  },
  {
   "cell_type": "code",
   "execution_count": 283,
   "metadata": {},
   "outputs": [
    {
     "name": "stdout",
     "output_type": "stream",
     "text": [
      "/Users/guru/research/projects/gnucobol\n",
      "(471813, 16)\n",
      "Benign              467933\n",
      "CWE-unknown           1928\n",
      "CWE-120                890\n",
      "CWE-119!/CWE-120       455\n",
      "CWE-126                361\n",
      "CWE-134                 75\n",
      "CWE-362                 44\n",
      "CWE-807, CWE-20         39\n",
      "CWE-120, CWE-20         33\n",
      "CWE-362/CWE-367!        28\n",
      "CWE-78                   7\n",
      "CWE-190                  7\n",
      "CWE-120/CWE-785!         4\n",
      "CWE-562                  3\n",
      "CWE-327                  3\n",
      "CWE-829, CWE-20          1\n",
      "CWE-362, CWE-20          1\n",
      "CWE-807                  1\n",
      "Name: cwe, dtype: int64\n",
      "buffer                      1782\n",
      "memcpy                       428\n",
      "strlen                       350\n",
      "fixed size global buffer     272\n",
      "snprintf                     265\n",
      "sprintf                      164\n",
      "-                            108\n",
      "format                        75\n",
      "Static Global Buffer          46\n",
      "misc                          46\n",
      "fixed size local buffer       42\n",
      "getenv                        39\n",
      "printf                        36\n",
      "fprintf                       32\n",
      "race                          29\n",
      "strncpy                       25\n",
      "access                        19\n",
      "vfprintf                      16\n",
      "sscanf                        15\n",
      "read                          13\n",
      "strncat                        8\n",
      "getc                           7\n",
      "stat                           7\n",
      "signal                         7\n",
      "integer                        7\n",
      "shell                          7\n",
      "fgets                          6\n",
      "random                         4\n",
      "realloc                        4\n",
      "system                         4\n",
      "realpath                       4\n",
      "vsprintf                       2\n",
      "popen                          2\n",
      "getchar                        2\n",
      "fgetc                          2\n",
      "srandom                        1\n",
      "srand                          1\n",
      "LoadLibrary                    1\n",
      "getlogin                       1\n",
      "fork                           1\n",
      "Name: category, dtype: int64\n",
      "----------------------\n",
      "/Users/guru/research/projects//contiki\n",
      "(23823, 16)\n",
      "Benign              20519\n",
      "CWE-unknown          1473\n",
      "CWE-119!/CWE-120      810\n",
      "CWE-120               542\n",
      "CWE-126               136\n",
      "CWE-134               135\n",
      "CWE-120, CWE-20        68\n",
      "CWE-362                49\n",
      "CWE-676                29\n",
      "CWE-685                18\n",
      "CWE-78                 13\n",
      "CWE-190                 7\n",
      "CWE-327                 7\n",
      "CWE-457                 6\n",
      "CWE-829, CWE-20         4\n",
      "CWE-788                 3\n",
      "CWE-362/CWE-367!        3\n",
      "CWE-758                 1\n",
      "Name: cwe, dtype: int64\n",
      "buffer                      1556\n",
      "Static Global Buffer         340\n",
      "memcpy                       318\n",
      "fixed size global buffer     232\n",
      "-                            148\n",
      "format                       135\n",
      "strlen                       129\n",
      "strncpy                      100\n",
      "snprintf                      72\n",
      "misc                          53\n",
      "read                          34\n",
      "fixed size local buffer       33\n",
      "obsolete                      29\n",
      "signal                        18\n",
      "shell                         13\n",
      "system                        13\n",
      "printf                        11\n",
      "sprintf                        8\n",
      "integer                        7\n",
      "random                         7\n",
      "srand                          6\n",
      "getopt                         5\n",
      "getc                           5\n",
      "fgetc                          4\n",
      "LoadLibrary                    4\n",
      "fscanf                         4\n",
      "vsprintf                       4\n",
      "getopt_long                    3\n",
      "race                           3\n",
      "CopyMemory                     2\n",
      "WideCharToMultiByte            2\n",
      "scanf                          2\n",
      "gets                           2\n",
      "fork                           1\n",
      "vprintf                        1\n",
      "Name: category, dtype: int64\n",
      "----------------------\n",
      "/Users/guru/research/projects//linux-rpi\n",
      "(793958, 16)\n",
      "Benign              755963\n",
      "CWE-unknown          17108\n",
      "CWE-120               9288\n",
      "CWE-119!/CWE-120      5341\n",
      "CWE-126               1273\n",
      "CWE-190               1172\n",
      "CWE-457                884\n",
      "CWE-120, CWE-20        818\n",
      "CWE-362                439\n",
      "CWE-327                397\n",
      "CWE-134                339\n",
      "CWE-362/CWE-367!       302\n",
      "CWE-78                 182\n",
      "CWE-570                150\n",
      "CWE-562                 66\n",
      "CWE-476                 54\n",
      "CWE-676                 39\n",
      "CWE-732                 25\n",
      "CWE-685                 23\n",
      "CWE-788                 20\n",
      "CWE-807, CWE-20         16\n",
      "CWE-758                 16\n",
      "CWE-362, CWE-20         13\n",
      "CWE-120/CWE-785!        10\n",
      "CWE-377                  6\n",
      "CWE-401                  5\n",
      "CWE-250, CWE-22          2\n",
      "CWE-768                  2\n",
      "CWE-786                  2\n",
      "CWE-369                  2\n",
      "CWE-771                  1\n",
      "Name: cwe, dtype: int64\n",
      "buffer                      16746\n",
      "memcpy                       6650\n",
      "-                            3935\n",
      "fixed size global buffer     2917\n",
      "snprintf                     1908\n",
      "strlen                       1160\n",
      "Static Global Buffer          842\n",
      "sprintf                       482\n",
      "misc                          431\n",
      "fixed size local buffer       408\n",
      "crypto                        350\n",
      "format                        339\n",
      "race                          325\n",
      "read                          230\n",
      "shell                         182\n",
      "strncpy                       151\n",
      "strlcpy                        88\n",
      "integer                        87\n",
      "random                         79\n",
      "printf                         74\n",
      "strlcat                        71\n",
      "sscanf                         51\n",
      "access                         48\n",
      "fork                           48\n",
      "signal                         45\n",
      "obsolete                       39\n",
      "fgets                          33\n",
      "syslog                         32\n",
      "stat                           30\n",
      "realloc                        30\n",
      "getopt                         28\n",
      "fprintf                        23\n",
      "vfprintf                       21\n",
      "getenv                         16\n",
      "strncat                        15\n",
      "getopt_long                    13\n",
      "fgetc                           9\n",
      "fscanf                          8\n",
      "vsprintf                        8\n",
      "system                          7\n",
      "tmpfile                         7\n",
      "srand                           7\n",
      "lstat                           4\n",
      "vsscanf                         4\n",
      "vprintf                         4\n",
      "vfscanf                         2\n",
      "umask                           2\n",
      "popen                           2\n",
      "realpath                        1\n",
      "bcopy                           1\n",
      "crypt                           1\n",
      "getc                            1\n",
      "Name: category, dtype: int64\n",
      "----------------------\n"
     ]
    }
   ],
   "source": [
    "# for project-wise distribution\n",
    "projects = list(dfs.project.unique())\n",
    "\n",
    "for project in projects:\n",
    "    print(project)\n",
    "    df = dfs[dfs.project == project]\n",
    "    print(df.shape)\n",
    "    print(df.cwe.value_counts())\n",
    "    print(df.category.value_counts())\n",
    "    print('----------------------')"
   ]
  },
  {
   "attachments": {},
   "cell_type": "markdown",
   "metadata": {},
   "source": [
    "## Create a latex table from the statistics of projects"
   ]
  },
  {
   "cell_type": "code",
   "execution_count": 284,
   "metadata": {},
   "outputs": [
    {
     "data": {
      "text/html": [
       "<div>\n",
       "<style scoped>\n",
       "    .dataframe tbody tr th:only-of-type {\n",
       "        vertical-align: middle;\n",
       "    }\n",
       "\n",
       "    .dataframe tbody tr th {\n",
       "        vertical-align: top;\n",
       "    }\n",
       "\n",
       "    .dataframe thead th {\n",
       "        text-align: right;\n",
       "    }\n",
       "</style>\n",
       "<table border=\"1\" class=\"dataframe\">\n",
       "  <thead>\n",
       "    <tr style=\"text-align: right;\">\n",
       "      <th></th>\n",
       "      <th></th>\n",
       "      <th>count</th>\n",
       "    </tr>\n",
       "    <tr>\n",
       "      <th>project</th>\n",
       "      <th>cwe</th>\n",
       "      <th></th>\n",
       "    </tr>\n",
       "  </thead>\n",
       "  <tbody>\n",
       "    <tr>\n",
       "      <th rowspan=\"2\" valign=\"top\">contiki</th>\n",
       "      <th>Benign</th>\n",
       "      <td>20519</td>\n",
       "    </tr>\n",
       "    <tr>\n",
       "      <th>Vulnerable</th>\n",
       "      <td>3304</td>\n",
       "    </tr>\n",
       "    <tr>\n",
       "      <th rowspan=\"2\" valign=\"top\">gnucobol</th>\n",
       "      <th>Benign</th>\n",
       "      <td>467933</td>\n",
       "    </tr>\n",
       "    <tr>\n",
       "      <th>Vulnerable</th>\n",
       "      <td>3880</td>\n",
       "    </tr>\n",
       "    <tr>\n",
       "      <th rowspan=\"2\" valign=\"top\">linux-rpi</th>\n",
       "      <th>Benign</th>\n",
       "      <td>755963</td>\n",
       "    </tr>\n",
       "    <tr>\n",
       "      <th>Vulnerable</th>\n",
       "      <td>37995</td>\n",
       "    </tr>\n",
       "  </tbody>\n",
       "</table>\n",
       "</div>"
      ],
      "text/plain": [
       "                       count\n",
       "project   cwe               \n",
       "contiki   Benign       20519\n",
       "          Vulnerable    3304\n",
       "gnucobol  Benign      467933\n",
       "          Vulnerable    3880\n",
       "linux-rpi Benign      755963\n",
       "          Vulnerable   37995"
      ]
     },
     "execution_count": 284,
     "metadata": {},
     "output_type": "execute_result"
    }
   ],
   "source": [
    "def save_latex(df, file):\n",
    "    \"\"\"\n",
    "    save the dataframe as latex table\n",
    "    \"\"\"\n",
    "    styler = df.style\n",
    "    # styler.applymap_index(lambda v: \"font-weight: bold;\", axis=\"index\")\n",
    "    styler.applymap_index(lambda v: \"font-weight: bold;\", axis=\"columns\")\n",
    "    res = styler.to_latex(convert_css=True, column_format='|l|l|r|')\n",
    "\n",
    "    with open(file, 'w') as f:\n",
    "        f.write(res)\n",
    "    return res\n",
    "\n",
    "# make class binary type benign/vulnerable\n",
    "dfs_binary = dfs.copy()\n",
    "dfs_binary.loc[dfs_binary.cwe!=\"Benign\", 'cwe'] = \"Vulnerable\"\n",
    "dfs_binary['project'] = dfs_binary.project.str.split('/').str[-1]\n",
    "\n",
    "prj_stat = dfs_binary.groupby(['project', 'cwe']).size().reset_index(name='count')\n",
    "prj_s = prj_stat.groupby(['project', 'cwe']).sum()\n",
    "\n",
    "res = tabulate(save_latex(prj_s, '../result/project_stat.tex'))\n",
    "prj_s"
   ]
  },
  {
   "cell_type": "code",
   "execution_count": 285,
   "metadata": {},
   "outputs": [],
   "source": [
    "prj_sflat = prj_s.reset_index()\n",
    "prj_sflat = prj_sflat.pivot(index='project', columns='cwe', values='count')\n",
    "prj_sflat.reset_index().to_latex('../result/project_stat_flat.tex', index=False)"
   ]
  },
  {
   "cell_type": "code",
   "execution_count": 286,
   "metadata": {},
   "outputs": [
    {
     "name": "stdout",
     "output_type": "stream",
     "text": [
      "\\begin{table}\n",
      "\\centering\n",
      "\\caption{Top 10 CWEs}\n",
      "\\label{Top 10 CWEs}\n",
      "\\begin{tabular}{lr}\n",
      "\\toprule\n",
      "       cwe &  count \\\\\n",
      "\\midrule\n",
      "Vulnerable &  20724 \\\\\n",
      "\\bottomrule\n",
      "\\end{tabular}\n",
      "\\end{table}\n",
      "\n"
     ]
    }
   ],
   "source": [
    "# make class binary type benign/vulnerable\n",
    "dff_binary = dff.copy()\n",
    "dff_binary.loc[dff_binary.cwe!=\"Benign\", 'cwe'] = \"Vulnerable\"\n",
    "\n",
    "prj_ff = dff_binary.groupby(['project', 'cwe']).size().reset_index(name='count')\n",
    "prj_f = prj_ff.groupby(['cwe']).sum().sort_values(by='count', ascending=False).reset_index()\n",
    "prj_f = prj_f[prj_f.cwe != 'Benign'].head(10)\n",
    "print(prj_f.to_latex(index=False, caption='Top 10 CWEs', label='Top 10 CWEs'))"
   ]
  },
  {
   "cell_type": "code",
   "execution_count": 312,
   "metadata": {},
   "outputs": [
    {
     "data": {
      "text/html": [
       "<div>\n",
       "<style scoped>\n",
       "    .dataframe tbody tr th:only-of-type {\n",
       "        vertical-align: middle;\n",
       "    }\n",
       "\n",
       "    .dataframe tbody tr th {\n",
       "        vertical-align: top;\n",
       "    }\n",
       "\n",
       "    .dataframe thead th {\n",
       "        text-align: right;\n",
       "    }\n",
       "</style>\n",
       "<table border=\"1\" class=\"dataframe\">\n",
       "  <thead>\n",
       "    <tr style=\"text-align: right;\">\n",
       "      <th></th>\n",
       "      <th></th>\n",
       "      <th>count</th>\n",
       "    </tr>\n",
       "    <tr>\n",
       "      <th>project</th>\n",
       "      <th>cwe</th>\n",
       "      <th></th>\n",
       "    </tr>\n",
       "  </thead>\n",
       "  <tbody>\n",
       "    <tr>\n",
       "      <th rowspan=\"5\" valign=\"top\">/Users/guru/research/projects//contiki</th>\n",
       "      <th>Benign</th>\n",
       "      <td>20519</td>\n",
       "    </tr>\n",
       "    <tr>\n",
       "      <th>CWE-119!/CWE-120</th>\n",
       "      <td>810</td>\n",
       "    </tr>\n",
       "    <tr>\n",
       "      <th>CWE-120</th>\n",
       "      <td>542</td>\n",
       "    </tr>\n",
       "    <tr>\n",
       "      <th>CWE-120, CWE-20</th>\n",
       "      <td>68</td>\n",
       "    </tr>\n",
       "    <tr>\n",
       "      <th>CWE-126</th>\n",
       "      <td>136</td>\n",
       "    </tr>\n",
       "    <tr>\n",
       "      <th>...</th>\n",
       "      <th>...</th>\n",
       "      <td>...</td>\n",
       "    </tr>\n",
       "    <tr>\n",
       "      <th rowspan=\"5\" valign=\"top\">/Users/guru/research/projects/gnucobol</th>\n",
       "      <th>CWE-78</th>\n",
       "      <td>7</td>\n",
       "    </tr>\n",
       "    <tr>\n",
       "      <th>CWE-807</th>\n",
       "      <td>1</td>\n",
       "    </tr>\n",
       "    <tr>\n",
       "      <th>CWE-807, CWE-20</th>\n",
       "      <td>39</td>\n",
       "    </tr>\n",
       "    <tr>\n",
       "      <th>CWE-829, CWE-20</th>\n",
       "      <td>1</td>\n",
       "    </tr>\n",
       "    <tr>\n",
       "      <th>CWE-unknown</th>\n",
       "      <td>1928</td>\n",
       "    </tr>\n",
       "  </tbody>\n",
       "</table>\n",
       "<p>67 rows × 1 columns</p>\n",
       "</div>"
      ],
      "text/plain": [
       "                                                         count\n",
       "project                                cwe                    \n",
       "/Users/guru/research/projects//contiki Benign            20519\n",
       "                                       CWE-119!/CWE-120    810\n",
       "                                       CWE-120             542\n",
       "                                       CWE-120, CWE-20      68\n",
       "                                       CWE-126             136\n",
       "...                                                        ...\n",
       "/Users/guru/research/projects/gnucobol CWE-78                7\n",
       "                                       CWE-807               1\n",
       "                                       CWE-807, CWE-20      39\n",
       "                                       CWE-829, CWE-20       1\n",
       "                                       CWE-unknown        1928\n",
       "\n",
       "[67 rows x 1 columns]"
      ]
     },
     "execution_count": 312,
     "metadata": {},
     "output_type": "execute_result"
    }
   ],
   "source": [
    "prj_s = dfs.groupby(['project', 'cwe']).size().reset_index(name='count')\n",
    "prj_s = prj_s.groupby(['project','cwe']).sum()\n",
    "prj_s"
   ]
  },
  {
   "attachments": {},
   "cell_type": "markdown",
   "metadata": {},
   "source": [
    "# Show the description of the function-level data"
   ]
  },
  {
   "cell_type": "code",
   "execution_count": 343,
   "metadata": {},
   "outputs": [
    {
     "name": "stdout",
     "output_type": "stream",
     "text": [
      "\\begin{table}\n",
      "\\centering\n",
      "\\caption{Function Statistics}\n",
      "\\label{Function Statistics}\n",
      "\\begin{tabular}{rrrrr}\n",
      "\\toprule\n",
      "features & unique &       top &   freq \\\\\n",
      "\\midrule\n",
      " context &  16099 &           & 121566 \\\\\n",
      "     cwe &      2 &    Benign & 121566 \\\\\n",
      " project &      3 & linux-rpi & 134676 \\\\\n",
      "\\bottomrule\n",
      "\\end{tabular}\n",
      "\\end{table}\n",
      "\n"
     ]
    }
   ],
   "source": [
    "df_describe = dff_binary.drop(\n",
    "    labels=['top_nesting_level', 'fan_in', 'fan_out', 'general_fan_out', 'content', 'long_name', 'fun_name', 'full_parameters', 'code'],\n",
    "    axis=1, \n",
    "    errors='ignore').describe().T\n",
    "\n",
    "df_freq = df_describe.reset_index().rename(columns={'index': 'features'})\n",
    "df_freq = df_freq.drop(labels=['count'], axis=1)\n",
    "\n",
    "# shortening the project URL to project name only \n",
    "df_freq['top'] = df_freq.apply(lambda row:row['top'].split('/')[-1] if '/' in row['top'] else row['top'], axis=1)\n",
    "\n",
    "# The freq is the most common value’s frequency. The top is the most common value.\n",
    "print(df_freq[~df_freq.features.isin(['file'])].to_latex(\n",
    "    index=False,\n",
    "    column_format='rrrrr', \n",
    "    label='Function Statistics', \n",
    "    caption='Function Statistics')\n",
    "    )"
   ]
  },
  {
   "cell_type": "code",
   "execution_count": 344,
   "metadata": {},
   "outputs": [
    {
     "name": "stdout",
     "output_type": "stream",
     "text": [
      "Size of statements: 1289594\n",
      "Size of unique statements: 431787\n",
      "\n",
      "Size of functions: 142290\n",
      "Size of unique functions: 122031\n"
     ]
    }
   ],
   "source": [
    "print(f'Size of statements: {len(dfs.context)}')\n",
    "print(f'Size of unique statements: {dfs.context.nunique()}')\n",
    "\n",
    "print(f'\\nSize of functions: {len(dff.code)}')\n",
    "print(f'Size of unique functions: {dff.code.nunique()}')"
   ]
  },
  {
   "cell_type": "markdown",
   "metadata": {},
   "source": [
    "# Checking if the project belong to CVE records or not? "
   ]
  },
  {
   "cell_type": "code",
   "execution_count": 389,
   "metadata": {},
   "outputs": [
    {
     "data": {
      "text/plain": [
       "['/Users/guru/research/projects/gnucobol',\n",
       " '/Users/guru/research/projects//contiki',\n",
       " '/Users/guru/research/projects//linux-rpi',\n",
       " '/Users/guru/research/projects/ARMmbed',\n",
       " '/Users/guru/research/projects/FreeRTOS',\n",
       " '/Users/guru/research/projects/micropython',\n",
       " '/Users/guru/research/projects/openwrt',\n",
       " '/Users/guru/research/projects/RIOT',\n",
       " '/Users/guru/research/projects/tinyos']"
      ]
     },
     "execution_count": 389,
     "metadata": {},
     "output_type": "execute_result"
    }
   ],
   "source": [
    "df = pd.read_csv('../data/cve/cve-records.csv')\n",
    "\n",
    "config = yaml.safe_load(open(\"../ext_projects.yaml\"))\n",
    "projects = config[\"projects\"]\n",
    "projects"
   ]
  },
  {
   "cell_type": "code",
   "execution_count": 392,
   "metadata": {},
   "outputs": [
    {
     "name": "stdout",
     "output_type": "stream",
     "text": [
      "Project [gnucobol] is in CVE list.\n",
      "Project [contiki] is in CVE list.\n",
      "Project [linux-rpi] is not in CVE list.\n",
      "Project [ARMmbed] is not in CVE list.\n",
      "Project [FreeRTOS] is in CVE list.\n",
      "Project [micropython] is not in CVE list.\n",
      "Project [openwrt] is in CVE list.\n",
      "Project [RIOT] is in CVE list.\n",
      "Project [tinyos] is not in CVE list.\n"
     ]
    }
   ],
   "source": [
    "def check_project_in_cve(prj):\n",
    "    \"\"\"Check if a project is in CVE.\"\"\"\n",
    "    prj = prj.split('/')[-1]\n",
    "    if len(df[df.description.str.lower().str.contains(prj.lower())])>0:\n",
    "        print(f'Project [{prj}] is in CVE list.')\n",
    "    else:\n",
    "        print(f'Project [{prj}] is not in CVE list.')\n",
    "\n",
    "for prj in projects:\n",
    "    check_project_in_cve(prj)"
   ]
  },
  {
   "cell_type": "markdown",
   "metadata": {},
   "source": [
    "# ML-specific: Convert hyperparameters list to latex table format"
   ]
  },
  {
   "cell_type": "code",
   "execution_count": 345,
   "metadata": {},
   "outputs": [
    {
     "name": "stdout",
     "output_type": "stream",
     "text": [
      "<class 'dict'>\n",
      "\\begin{table}\n",
      "\\centering\n",
      "\\caption{Hyperparameter Settings}\n",
      "\\label{Hyperparameter Settings}\n",
      "\\begin{tabular}{ll}\n",
      "\\toprule\n",
      "hyperparameter &                           value \\\\\n",
      "\\midrule\n",
      "        epochs &                              50 \\\\\n",
      "  debug\\_epochs &                               3 \\\\\n",
      "         batch &                             128 \\\\\n",
      "  input\\_length &                             150 \\\\\n",
      "     input\\_dim &                             150 \\\\\n",
      "    output\\_dim &                              32 \\\\\n",
      "            lr &                            1e-4 \\\\\n",
      "      patience &                             100 \\\\\n",
      "     optimizer &                            adam \\\\\n",
      "        l2\\_reg &                            1e-4 \\\\\n",
      "       dropout &                             0.0 \\\\\n",
      " recur\\_dropout &                             0.0 \\\\\n",
      "        beta\\_1 &                             0.9 \\\\\n",
      "        beta\\_2 &                           0.999 \\\\\n",
      "       epsilon &                           1e-08 \\\\\n",
      "         decay &                             0.0 \\\\\n",
      "       verbose &                               2 \\\\\n",
      "          loss & sparse\\_categorical\\_crossentropy \\\\\n",
      "\\bottomrule\n",
      "\\end{tabular}\n",
      "\\end{table}\n",
      "\n"
     ]
    }
   ],
   "source": [
    "def hyperpara2latex(yaml_file):\n",
    "    \"\"\"\n",
    "    load the yaml file and return a dictionary\n",
    "    \"\"\"\n",
    "    config = {}\n",
    "    cols = ['hyperparameter', 'value']\n",
    "    \n",
    "    ext = Path(yaml_file).suffix.replace('.', '') \n",
    "    \n",
    "    with open(yaml_file, \"r\") as stream:\n",
    "        try:\n",
    "            config = yaml.safe_load(stream)\n",
    "            print(type(config))\n",
    "            df = pd.DataFrame([config['dnn']]).T.reset_index()\n",
    "            print(df.to_latex(index=False, \n",
    "                    header=cols, \n",
    "                    #   column_format='|l|l|', \n",
    "                    label='Hyperparameter Settings', \n",
    "                    caption='Hyperparameter Settings'))\n",
    "        except yaml.YAMLError as exc:\n",
    "            print(exc)\n",
    "\n",
    "config = hyperpara2latex('../config.yaml')"
   ]
  }
 ],
 "metadata": {
  "kernelspec": {
   "display_name": "vulcode",
   "language": "python",
   "name": "python3"
  },
  "language_info": {
   "codemirror_mode": {
    "name": "ipython",
    "version": 3
   },
   "file_extension": ".py",
   "mimetype": "text/x-python",
   "name": "python",
   "nbconvert_exporter": "python",
   "pygments_lexer": "ipython3",
   "version": "3.8.0"
  },
  "orig_nbformat": 4,
  "vscode": {
   "interpreter": {
    "hash": "770d70f40277e0fadd6bc1f7a5fecfd799eee3cbb57c500ccfb48eb07fd2c1ce"
   }
  }
 },
 "nbformat": 4,
 "nbformat_minor": 2
}
