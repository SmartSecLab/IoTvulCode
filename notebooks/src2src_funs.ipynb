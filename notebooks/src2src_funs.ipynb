{
 "cells": [
  {
   "cell_type": "code",
   "execution_count": 1,
   "metadata": {},
   "outputs": [],
   "source": [
    "import pandas as pd\n",
    "import subprocess\n",
    "from lxml import etree\n",
    "from io import StringIO\n",
    "import sys\n",
    "import difflib\n",
    "import os\n",
    "import ctypes\n",
    "import stat\n",
    "from pylibsrcml import srcml\n",
    "\n",
    "# source= '../data/projects/contiki-2.4/apps/ftp'\n",
    "# xml = \"myprj.xml\"\n",
    "\n",
    "# # Translate from a source-code file to a srcML file\n",
    "# srcml.srcml(source, xml)\n",
    "\n",
    "def src2xml(src):\n",
    "    \"\"\"generate srcML tree from the given source file or directory\"\"\"\n",
    "    # srcml --xpath=\"//src:function\" '../data/projects/contiki-2.4/apps/ftp/ftpc.c' | srcml --xpath=\"string(//src:function)\"\n",
    "    src2xml_cmd = [\"srcml\", \"--xpath=//src:function\", src]\n",
    "    xml2code_cmd = ['srcml', '--xpath=string(//src:function)']\n",
    "\n",
    "    # ps = subprocess.Popen(src2xml_cmd, stdout=subprocess.PIPE, stderr=subprocess.PIPE, text=True)\n",
    "    # output = subprocess.Popen(xml2code_cmd, stdin=ps.stdout, stdout=subprocess.PIPE, text=True)\n",
    "    # output, errors = output.communicate()\n",
    "    # print(output)\n",
    "    # print(errors)\n",
    "    ps = subprocess.Popen(src2xml_cmd, stdout=subprocess.PIPE, text=True)\n",
    "    return ps.stdout.read()\n",
    "\n",
    "def xpath_on_tree(the_tree, xpath_query):\n",
    "    \"\"\"Run an xpath query on a srcML parsetree\"\"\"\n",
    "    try:\n",
    "        return the_tree.xpath(xpath_query, namespaces={'src':'http://www.srcML.org/srcML/src'})\n",
    "    except etree.XPathEvalError as err:\n",
    "        print(err)\n",
    "        return None\n",
    "\n",
    "def function_tree2source(fun_tree):\n",
    "    \"\"\"convert a function tree to source code\"\"\"\n",
    "    head = \"\"\"<?xml version=\"1.0\" encoding=\"UTF-8\" standalone=\"yes\"?>\n",
    "    <unit xmlns=\"http://www.srcML.org/srcML/src\" revision=\"1.0.0\" url=\"prj\">\n",
    "    <unit revision=\"1.0.0\" filename=\"prj\" item=\"1\">\n",
    "    \"\"\"\n",
    "    # <unit revision=\"1.0.0\" language=\"C\" filename=\"prj\" item=\"1\">\n",
    "    tail = \"\"\"</unit>\n",
    "    </unit>\"\"\"\n",
    "\n",
    "    body = etree.tostring(fun_tree, pretty_print=True, encoding='unicode')\n",
    "    # the extracted tree is bare function excluding head and tail\n",
    "    tree = head + body + tail \n",
    "    tree = etree.fromstring(tree.encode('utf-8'))\n",
    "    return xpath_on_tree(tree, 'string(//src:function)')\n",
    "\n",
    "def extract_functions_from_srcML(tree):\n",
    "    \"\"\"get all function bodies\"\"\"\n",
    "    fun_trees = xpath_on_tree(tree, '//src:function')\n",
    "    functions = []\n",
    "\n",
    "    for fun_tree in fun_trees:\n",
    "        functions.append(function_tree2source(fun_tree))\n",
    "    \n",
    "    if len(functions)>0:\n",
    "        return functions\n",
    "    else:\n",
    "        return [head + tail]\n",
    "\n",
    "def write_functions_file(file, functions):\n",
    "    # write all functions to a file\n",
    "    with open(file, 'w') as f:\n",
    "        for item in functions:\n",
    "            f.write(\"%s\\n\\n\" % item)\n",
    "\n",
    "def src2src_functions(src):\n",
    "    \"\"\"retrieve source functions from the given src:file/dir of source code\"\"\"\n",
    "    try:\n",
    "        tree = src2xml(src)\n",
    "        tree = etree.fromstring(tree.encode('utf-8'))\n",
    "        return extract_functions_from_srcML(tree)\n",
    "    except Exception as err:\n",
    "        print(err)"
   ]
  },
  {
   "cell_type": "code",
   "execution_count": 4,
   "metadata": {},
   "outputs": [
    {
     "data": {
      "text/plain": [
       "['void\\nftpc_init(void)\\n{\\n  memb_init(&connections);\\n  /*  tcp_listen(HTONS(DATAPORT));*/\\n}',\n",
       " 'void *\\nftpc_connect(u16_t *ipaddr, u16_t port)\\n{\\n  struct ftp_connection *c;\\n\\n  c = (struct ftp_connection *)memb_alloc(&connections);\\n  if(c == NULL) {\\n    return NULL;\\n  }\\n  c->type = TYPE_CONTROL;\\n  c->state = STATE_INITIAL;\\n  c->connected_confirmed = 0;\\n  c->codeptr = 0;\\n  c->dataconn.type = TYPE_DATA;\\n  c->dataconn.port = DATAPORT;\\n  tcp_listen(HTONS(DATAPORT));\\n\\n  if(tcp_connect((uip_ipaddr_t *)ipaddr, port, c) == NULL) {\\n    memb_free(&connections, c);\\n    return NULL;\\n  }\\n\\n  return c;\\n}',\n",
       " 'static void\\nhandle_input(struct ftp_connection *c)\\n{\\n  int code;\\n\\n  code = (c->code[0] - \\'0\\') * 100 +\\n    (c->code[1] - \\'0\\') * 10 +\\n    (c->code[2] - \\'0\\');\\n  /*  printf(\"Handle input code %d state %d\\\\n\", code, c->state);*/\\n\\n  if(c->state == STATE_INITIAL) {\\n    if(code == 220) {\\n      c->state = STATE_SEND_USER;\\n    }\\n  } else if(c->state == STATE_USER_SENT) {\\n    if(code == 331) {\\n      c->state = STATE_SEND_PASS;\\n    }\\n  } else if(c->state == STATE_PASS_SENT) {\\n    if(code == 230) {\\n      c->state = STATE_SEND_OPTIONS;\\n      c->optionsptr = 0;\\n    }\\n  } else if(c->state == STATE_PORT_SENT) {\\n    c->state = STATE_CONNECTED;\\n    if(c->connected_confirmed == 0) {\\n      ftpc_connected(c);\\n      c->connected_confirmed = 1;\\n    }\\n  } else if(c->state == STATE_OPTION_SENT) {\\n    if(c->optionsptr >= options.num) {\\n      c->state = STATE_SEND_PORT;\\n    } else {\\n      c->state = STATE_SEND_OPTIONS;\\n    }\\n  } else if((c->state == STATE_NLST_SENT ||\\n\\t     c->state == STATE_RETR_SENT ||\\n\\t     c->state == STATE_CONNECTED)) {\\n    if(code == 226 || code == 550) {\\n      tcp_unlisten(htons(c->dataconn.port));\\n      ++c->dataconn.port;\\n      tcp_listen(htons(c->dataconn.port));\\n      c->state = STATE_SEND_PORT;\\n    }\\n\\n    if(code == 550) {\\n      ftpc_list_file(NULL);\\n    }\\n  } else if(c->state == STATE_CWD_SENT ||\\n\\t    c->state == STATE_CDUP_SENT) {\\n    c->state = STATE_CONNECTED;\\n    ftpc_cwd_done(code);\\n    /*  } else if(c->state == STATE_) {\\n\\tc->state = STATE_CONNECTED;*/\\n  }\\n}',\n",
       " 'static void\\nnewdata(struct ftp_connection *c)\\n{\\n  u16_t i;\\n  u8_t d;\\n  \\n  for(i = 0; i < uip_datalen(); ++i) {\\n    d = ((char *)uip_appdata)[i];\\n    if(c->codeptr < sizeof(c->code)) {\\n      c->code[c->codeptr] = d;\\n      ++c->codeptr;\\n    }\\n\\n    if(d == ISO_nl) {\\n      handle_input(c);\\n      c->codeptr = 0;\\n    }\\n  }\\n}',\n",
       " 'static void\\nacked(struct ftp_connection *c)\\n{\\n  switch(c->state) {\\n  case STATE_SEND_USER:\\n    c->state = STATE_USER_SENT;\\n    break;\\n  case STATE_SEND_PASS:\\n    c->state = STATE_PASS_SENT;\\n    break;\\n  case STATE_SEND_PORT:\\n    c->state = STATE_PORT_SENT;\\n    break;\\n  case STATE_SEND_OPTIONS:\\n    ++c->optionsptr;\\n    c->state = STATE_OPTION_SENT;\\n    break;\\n  case STATE_SEND_NLST:\\n    c->state = STATE_NLST_SENT;\\n    break;\\n  case STATE_SEND_RETR:\\n    c->state = STATE_RETR_SENT;\\n    break;\\n  case STATE_SEND_CWD:\\n    c->state = STATE_CWD_SENT;\\n    break;\\n  case STATE_SEND_CDUP:\\n    c->state = STATE_CDUP_SENT;\\n    break;\\n  case STATE_SEND_QUIT:\\n    c->state = STATE_QUIT_SENT;\\n    uip_close();\\n    break;\\n  }\\n}',\n",
       " 'static void\\nsenddata(struct ftp_connection *c)\\n{\\n  u16_t len;\\n  \\n  switch(c->state) {\\n  case STATE_SEND_USER:\\n    strcpy(uip_appdata, \"USER \");\\n    strncpy((char *)uip_appdata + 5, ftpc_username(), uip_mss() - 7);\\n    len = (u16_t)strlen(ftpc_username());\\n    strcpy((char *)uip_appdata + 5 + len, \"\\\\r\\\\n\");\\n    uip_send(uip_appdata, len + 2 + 5);\\n    break;\\n  case STATE_SEND_PASS:\\n    strcpy(uip_appdata, \"PASS \");\\n    strncpy((char *)uip_appdata + 5, ftpc_password(), uip_mss() - 7);\\n    len = (u16_t)strlen(ftpc_password());\\n    strcpy((char *)uip_appdata + 5 + len, \"\\\\r\\\\n\");\\n    uip_send(uip_appdata, len + 2 + 5);\\n    break;\\n  case STATE_SEND_PORT:\\n    len = sprintf(uip_appdata, \"PORT %d,%d,%d,%d,%d,%d\\\\n\",\\n\\t\\t  uip_ipaddr_to_quad(&uip_hostaddr),\\n\\t\\t  (c->dataconn.port) >> 8,\\n\\t\\t  (c->dataconn.port) & 0xff);\\n    uip_send(uip_appdata, len);\\n    break;\\n  case STATE_SEND_OPTIONS:\\n    len = (u16_t)strlen(options.commands[c->optionsptr]);\\n    uip_send(options.commands[c->optionsptr], len);\\n    break;\\n  case STATE_SEND_NLST:\\n    uip_send(\"NLST\\\\r\\\\n\", 6);\\n    break;\\n  case STATE_SEND_RETR:\\n    len = sprintf(uip_appdata, \"RETR %s\\\\r\\\\n\", c->filename);\\n    uip_send(uip_appdata, len);\\n    break;\\n  case STATE_SEND_CWD:\\n    len = sprintf(uip_appdata, \"CWD %s\\\\r\\\\n\", c->filename);\\n    uip_send(uip_appdata, len);\\n    break;\\n  case STATE_SEND_CDUP:\\n    uip_send(\"CDUP\\\\r\\\\n\", 6);\\n    break;\\n  case STATE_SEND_QUIT:\\n    uip_send(\"QUIT\\\\r\\\\n\", 6);\\n    break;\\n  }\\n}',\n",
       " 'void\\nftpc_appcall(void *state)\\n{\\n  int i, t;\\n  struct ftp_connection *c = (struct ftp_connection *)state;\\n  struct ftp_dataconn *d = (struct ftp_dataconn *)state;\\n    \\n  if(uip_connected()) {\\n    if(state == NULL) {\\n      if(waiting_for_dataconn != NULL) {\\n\\td = &waiting_for_dataconn->dataconn;\\n\\twaiting_for_dataconn = NULL;\\n\\ttcp_markconn(uip_conn, d);\\n\\td->filenameptr = 0;\\n\\t\\n      } else {\\n\\tuip_abort();\\n      }\\n    } else {\\n      /*      tcp_listen(uip_conn->lport);*/\\n      senddata(c);\\n    }\\n    return;\\n  }\\n\\n  if(c->type == TYPE_ABORT) {\\n    uip_abort();\\n    return;\\n  }\\n\\n  if(c->type == TYPE_CLOSE) {\\n    uip_close();\\n    c->type = TYPE_CONTROL;\\n    return;\\n  }\\n\\n  if(c->type == TYPE_CONTROL) {\\n    if(uip_closed()) {\\n      c->dataconn.type = TYPE_ABORT;\\n      ftpc_closed();\\n      memb_free(&connections, c);\\n    }\\n    if(uip_aborted()) {\\n      c->dataconn.type = TYPE_ABORT;\\n      ftpc_aborted();\\n      memb_free(&connections, c);\\n    }\\n    if(uip_timedout()) {\\n      c->dataconn.type = TYPE_ABORT;\\n      ftpc_timedout();\\n      memb_free(&connections, c);\\n    }\\n\\n\\n    if(uip_acked()) {\\n      acked(c);\\n    }\\n    if(uip_newdata()) {\\n      newdata(c);\\n    }\\n    if(uip_rexmit() ||\\n       uip_newdata() ||\\n     uip_acked()) {\\n      senddata(c);\\n    } else if(uip_poll()) {\\n      senddata(c);\\n    }\\n  } else {\\n    if(d->conntype == CONNTYPE_LIST) {\\n      if(uip_newdata()) {\\n\\tfor(i = 0; i < uip_datalen(); ++i) {\\n\\t  t = ((char *)uip_appdata)[i];\\n\\t  \\n\\t  if(d->filenameptr < sizeof(d->filename) - 1 &&\\n\\t     t != ISO_cr &&\\n\\t     t != ISO_nl) {\\n\\t    d->filename[d->filenameptr] = t;\\n\\t    ++d->filenameptr;\\n\\t  }\\n\\t  \\n\\t  if(t == ISO_nl) {\\n\\t    d->filename[d->filenameptr] = 0;\\n\\t    ftpc_list_file(d->filename);\\n\\t    d->filenameptr = 0;\\n\\t  }\\n\\n\\t}\\n      }\\n      if(uip_closed()) {\\n\\tftpc_list_file(NULL);\\n      }\\n    } else {\\n      if(uip_newdata()) {\\n\\tftpc_data(uip_appdata, uip_datalen());\\n\\t/*\\tprintf(\"Received %d data bytes: \\'%s\\'\\\\n\",\\n\\t\\tuip_datalen(), uip_appdata);*/\\n      } else if(uip_closed() || uip_timedout() || uip_aborted()) {\\n\\tftpc_data(NULL, 0);\\n      }\\n    }\\n  }\\n}',\n",
       " 'char\\nftpc_list(void *conn)\\n{\\n  struct ftp_connection *c;\\n\\n  c = conn;\\n  \\n  if(c == NULL ||\\n     c->state != STATE_CONNECTED) {\\n    return 0;\\n  }\\n\\n  c->state = STATE_SEND_NLST;\\n  c->dataconn.conntype = CONNTYPE_LIST;\\n  waiting_for_dataconn = c;\\n  return 1;\\n}',\n",
       " 'char\\nftpc_get(void *conn, char *filename)\\n{\\n  struct ftp_connection *c;\\n\\n  c = conn;\\n  \\n  if(c == NULL ||\\n     c->state != STATE_CONNECTED) {\\n    return 0;\\n  }\\n\\n  strncpy(c->filename, filename, sizeof(c->filename));\\n\\n  c->state = STATE_SEND_RETR;\\n  c->dataconn.conntype = CONNTYPE_FILE;\\n  waiting_for_dataconn = c;\\n  return 1;\\n}',\n",
       " 'void\\nftpc_close(void *conn)\\n{\\n  struct ftp_connection *c;\\n  \\n  c = conn;\\n  \\n  if(c == NULL) {\\n    return;\\n  }\\n\\n  c->type = TYPE_CLOSE;\\n}',\n",
       " 'void\\nftpc_cwd(void *conn, char *dirname)\\n{\\n  struct ftp_connection *c;\\n  \\n  c = conn;\\n  \\n  if(c == NULL ||\\n     c->state != STATE_CONNECTED) {\\n    return;\\n  }\\n\\n  strncpy(c->filename, dirname, sizeof(c->filename));\\n  c->state = STATE_SEND_CWD;\\n}',\n",
       " 'void\\nftpc_cdup(void *conn)\\n{\\n  struct ftp_connection *c;\\n  \\n  c = conn;\\n  \\n  if(c == NULL ||\\n     c->state != STATE_CONNECTED) {\\n    return;\\n  }\\n  \\n  c->state = STATE_SEND_CDUP;\\n}']"
      ]
     },
     "execution_count": 4,
     "metadata": {},
     "output_type": "execute_result"
    }
   ],
   "source": [
    "src_file = \"../data/projects/contiki-2.4/apps/ftp/ftpc.c\"\n",
    "\n",
    "funs = src2src_functions(src=src_file)\n",
    "# write_functions_file('functions.txt', funs)\n",
    "funs"
   ]
  },
  {
   "cell_type": "code",
   "execution_count": 2,
   "metadata": {},
   "outputs": [
    {
     "data": {
      "text/plain": [
       "1"
      ]
     },
     "execution_count": 2,
     "metadata": {},
     "output_type": "execute_result"
    }
   ],
   "source": [
    "s = 'a'\n",
    "len(s)"
   ]
  }
 ],
 "metadata": {
  "kernelspec": {
   "display_name": "iotCode",
   "language": "python",
   "name": "python3"
  },
  "language_info": {
   "codemirror_mode": {
    "name": "ipython",
    "version": 3
   },
   "file_extension": ".py",
   "mimetype": "text/x-python",
   "name": "python",
   "nbconvert_exporter": "python",
   "pygments_lexer": "ipython3",
   "version": "3.8.0"
  },
  "orig_nbformat": 4
 },
 "nbformat": 4,
 "nbformat_minor": 2
}
